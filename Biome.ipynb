{
 "cells": [
  {
   "cell_type": "code",
   "execution_count": 1,
   "metadata": {},
   "outputs": [],
   "source": [
    "!conda activate deepCB"
   ]
  },
  {
   "cell_type": "code",
   "execution_count": 1,
   "metadata": {},
   "outputs": [],
   "source": [
    "import torch\n",
    "from torchvision import datasets, transforms\n",
    "import torch.nn as nn\n",
    "import torch.nn.functional as F\n",
    "from torch.utils.data import DataLoader\n",
    "import torch.optim as optim\n",
    "from scipy.stats import entropy\n",
    "from sklearn.metrics import accuracy_score, f1_score, precision_score, recall_score\n",
    "import time\n",
    "import pandas as pd\n",
    "\n",
    "import copy\n",
    "import os\n",
    "import pickle\n",
    "\n",
    "import numpy as np\n",
    "try:\n",
    "    from sklearn.model_selection import train_test_split\n",
    "except ImportError:\n",
    "    from sklearn.cross_validation import train_test_split\n",
    "\n",
    "# libact classes\n",
    "from libact.base.dataset import Dataset, DatasetBiome, import_libsvm_sparse\n",
    "from libact.models import SVM\n",
    "from libact.query_strategies import RepresentativeSampling, UncertaintySampling, RandomSampling,\\\n",
    "    ActiveLearningByLearning, ContextualBanditsActiveLearning, MultiBanditsActiveLearning, UniformBanditsActiveLearning\n",
    "from libact.labelers import IdealLabeler\n",
    "\n",
    "import tensorflow as tf\n",
    "from libact.query_strategies.bandits.algorithms.uniform_sampling import UniformSampling\n",
    "from libact.query_strategies.bandits.algorithms.linear_full_posterior_sampling import LinearFullPosteriorSampling\n",
    "\n",
    "class NetBiome(nn.Module):\n",
    "    def __init__(self):\n",
    "        super(NetBiome, self).__init__()\n",
    "        self.conv1 = nn.Conv2d(3, 96, kernel_size=6, stride=3)\n",
    "        self.convdropout1 = nn.Dropout2d()\n",
    "        self.conv2 = nn.Conv2d(96, 64, kernel_size=3, stride=2)\n",
    "        self.convdropout2 = nn.Dropout2d()\n",
    "        self.fc1 = nn.Linear(576, 128)\n",
    "        self.fc2 = nn.Linear(128, 5)\n",
    "\n",
    "    def forward(self, x):\n",
    "        x = self.conv1(x)\n",
    "        x = self.convdropout1(x)\n",
    "        x = F.max_pool2d(x, 2)\n",
    "        x = F.relu(x)\n",
    "        x = self.conv2(x)\n",
    "        x = self.convdropout2(x)\n",
    "        x = F.max_pool2d(x, 2)\n",
    "        x = F.relu(x)\n",
    "        x = x.view(-1, 576)\n",
    "        e1 = F.relu(self.fc1(x))\n",
    "        x = F.dropout(e1, training=self.training)\n",
    "        x = self.fc2(x)\n",
    "        out = F.log_softmax(x, dim=1)\n",
    "        \n",
    "        return out, e1\n",
    "\n",
    "    def get_embedding_dim(self):\n",
    "        return 128\n",
    "\n",
    "def split_train_test_Biome(X_raw, y_raw , test_size, n_labeled, args):\n",
    "    X, y = X_raw, y_raw\n",
    "    splt_id = int(len(X) * test_size)\n",
    "    \n",
    "    X_train, X_test, y_train, y_test = X[splt_id:], X[:splt_id], y[splt_id:], y[:splt_id]\n",
    "    shuf_id = np.arange(len(X_train))\n",
    "    np.random.shuffle(shuf_id)\n",
    "    X_train = X_train[shuf_id]\n",
    "    y_train = y_train[shuf_id]\n",
    "\n",
    "    handler = args['handler']\n",
    "\n",
    "    trn_ds = handler(X_train, np.concatenate([y_train[:n_labeled], [None] * (len(y_train) - n_labeled)]), args['transform'])\n",
    "    tst_ds = handler(X_test, y_test, args['transform'])\n",
    "    fully_labeled_trn_ds = handler(X_train, y_train, args['transform'])\n",
    "\n",
    "    return trn_ds, tst_ds, y_train, fully_labeled_trn_ds\n",
    "\n",
    "class exprCB(object):\n",
    "    '''For context required methods CBAL'''\n",
    "    def __init__(self, trn_ds, tst_ds, lbr, model, qs, nquery, args, reward_fn=None):\n",
    "        print(time.ctime(time.time()))\n",
    "        self._args = args\n",
    "        self._trn_ds = trn_ds\n",
    "        self._tst_ds = tst_ds\n",
    "        self._lbr = lbr\n",
    "        self._model = model\n",
    "        self._qs = qs\n",
    "        self._nquery = nquery\n",
    "        self._T = self._qs.T\n",
    "        self._handler = args['handler']\n",
    "        self._reward_fn = reward_fn\n",
    "        \n",
    "        self._rd = 0\n",
    "        self._nclasses = self._qs._nclasses\n",
    "        self._features = pd.DataFrame(columns=['iteration','query_bincount','query_entropy','labeled_bincount','labeled_entropy',\n",
    "                                                'query_acc','query_f1','query_precision','query_recall','labeled_acc',\n",
    "                                                'labeled_f1','labeled_precision','labeled_recall','testing_acc','testing_f1',\n",
    "                                                'testing_precision', 'testing_recall','testing_acc_change',\n",
    "                                                'testing_f1_change','testing_precision_change','testing_recall_change','strategy',\n",
    "                                                'strategy_entropy','reward'])\n",
    "        \n",
    "        use_cuda = torch.cuda.is_available()\n",
    "        self._device = torch.device(\"cuda\" if use_cuda else \"cpu\")\n",
    "        self._nepoch = self._args['n_epoch']\n",
    "\n",
    "#         self._optimizer = optim.SGD(self._model.parameters(), **self._args['optimizer_args'])\n",
    "        self._optimizer = optim.Adam(self._model.parameters(), lr=1e-4, weight_decay=1e-5)\n",
    "        self._besttestacc = 0\n",
    "\n",
    "        self.train()\n",
    "        testing_acc, testing_f1, testing_precision, testing_recall = self.get_scores(self._tst_ds._X, self._tst_ds._y)\n",
    "\n",
    "        self._prev_acc_te = testing_acc\n",
    "        self._prev_f1_te = testing_f1\n",
    "        self._prev_precision_te = testing_precision\n",
    "        self._prev_recall_te = testing_recall\n",
    "\n",
    "    def train(self):\n",
    "        labeled_entry_Xs, labeled_entry_ys = self._trn_ds.get_labeled_entries()\n",
    "        labeled_dataset = self._handler(labeled_entry_Xs, labeled_entry_ys, transform=self._args['transform'])\n",
    "\n",
    "        loader_tr = DataLoader(labeled_dataset,\n",
    "                            shuffle=True, **self._args['loader_tr_args'])\n",
    "\n",
    "        for epoch in range(1, self._nepoch):\n",
    "            self._model.train()\n",
    "            for batch_idx, (x, y) in enumerate(loader_tr):\n",
    "                x, y = x.to(self._device), y.long().to(self._device)\n",
    "                self._optimizer.zero_grad()\n",
    "                out, e1 = self._model(x)\n",
    "                loss = F.cross_entropy(out, y)\n",
    "                loss.backward()\n",
    "                self._optimizer.step()\n",
    "\n",
    "    def predict(self):\n",
    "        # predict labels in test set\n",
    "        loader_te = DataLoader(self._tst_ds, shuffle=False, **self._args['loader_te_args'])\n",
    "\n",
    "        self._model.eval()\n",
    "        P = torch.tensor([], dtype=torch.long)\n",
    "        with torch.no_grad():\n",
    "            for batch_idx, (x, y) in enumerate(loader_te):\n",
    "                x = x.to(self._device)\n",
    "                out, e1 = self._model(x)\n",
    "\n",
    "                pred = out.max(1)[1]\n",
    "                P = torch.cat((P,pred.cpu()))\n",
    "\n",
    "        return P\n",
    "\n",
    "    def get_scores(self, xs, lb):\n",
    "        loader_te = DataLoader(self._handler(xs, lb, transform=self._args['transform']),\n",
    "                            shuffle=False, **self._args['loader_te_args'])\n",
    "        \n",
    "        self._model.eval()\n",
    "        P = torch.tensor([], dtype=torch.long)\n",
    "        with torch.no_grad():\n",
    "            for batch_idx, (x, y) in enumerate(loader_te):\n",
    "                x = x.to(self._device)\n",
    "                out, e1 = self._model(x)\n",
    "\n",
    "                pred = out.max(1)[1]\n",
    "                P = torch.cat((P,pred.cpu()))\n",
    "        \n",
    "        acc = accuracy_score(lb, P)\n",
    "        f1 = f1_score(lb,P,average='macro')\n",
    "        precision = precision_score(lb,P,average='macro')\n",
    "        recall = recall_score(lb,P,average='macro')\n",
    "\n",
    "        return acc, f1, precision, recall\n",
    "\n",
    "    def get_features(self, ask_id, lb):\n",
    "        itr = self._rd/self._T\n",
    "\n",
    "        # getting entropies\n",
    "        query_bincount = np.bincount(lb, None, self._nclasses)\n",
    "        query_entropy = entropy(query_bincount)\n",
    "        \n",
    "        labeled_x, labeled_y = self._trn_ds.get_labeled_entries()\n",
    "        labeled_bincount = np.bincount(labeled_y, None, self._nclasses)\n",
    "        labeled_entropy = entropy(labeled_bincount)\n",
    "\n",
    "        # query scores\n",
    "        query_acc, query_f1, query_precision, query_recall = self.get_scores(self._trn_ds._X[ask_id], lb)\n",
    "\n",
    "        # labeled scores\n",
    "        labeled_acc, labeled_f1, labeled_precision, labeled_recall = self.get_scores(labeled_x, labeled_y)\n",
    "        \n",
    "        # testing scores\n",
    "        testing_acc, testing_f1, testing_precision, testing_recall = self.get_scores(self._tst_ds._X, self._tst_ds._y)\n",
    "\n",
    "        testing_acc_change = testing_acc - self._prev_acc_te\n",
    "        testing_f1_change = testing_f1 - self._prev_f1_te\n",
    "        testing_precision_change = testing_precision - self._prev_precision_te\n",
    "        testing_recall_change = testing_recall - self._prev_recall_te\n",
    "\n",
    "        self._prev_acc_te = testing_acc\n",
    "        self._prev_f1_te = testing_f1\n",
    "        self._prev_precision_te = testing_precision\n",
    "        self._prev_recall_te = testing_recall\n",
    "\n",
    "        try:\n",
    "            strategy_entropy = entropy(self._qs.exp4p_.w)\n",
    "        except AttributeError:\n",
    "            strategy_entropy = 0\n",
    "        \n",
    "        if self._reward_fn == None:\n",
    "            reward = self._qs.calc_reward_fn()\n",
    "        else:\n",
    "            reward = self._reward_fn(testing_f1, testing_f1_change)\n",
    "            self._qs.rw = reward\n",
    "            \n",
    "        self._features = self._features.append({'iteration': itr, 'query_bincount': query_bincount, 'query_entropy': query_entropy,\n",
    "                              'labeled_bincount': labeled_bincount, 'labeled_entropy': labeled_entropy, 'query_acc': query_acc,\n",
    "                              'query_f1': query_f1, 'query_precision': query_precision, 'query_recall': query_recall,\n",
    "                              'labeled_acc': labeled_acc, 'labeled_f1': labeled_f1, 'labeled_precision': labeled_precision, \n",
    "                              'labeled_recall': labeled_recall, 'testing_acc': testing_acc, 'testing_f1': testing_f1,\n",
    "                              'testing_precision': testing_precision, 'testing_recall': testing_recall,\n",
    "                              'testing_acc_change': testing_acc_change, 'testing_f1_change': testing_f1_change, \n",
    "                              'testing_precision_change': testing_precision_change, 'testing_recall_change': testing_recall_change, \n",
    "                              'strategy':self._qs.strat_idx ,'strategy_entropy': strategy_entropy, 'reward': reward\n",
    "                              }, ignore_index=True)\n",
    "        return self._features.tail(1)\n",
    "    \n",
    "\n",
    "    def run(self, quota):\n",
    "        # E_out = np.array([])\n",
    "\n",
    "        for nround in range(quota):\n",
    "            self._rd += 1\n",
    "            \n",
    "            print(time.ctime(time.time()), type(self._qs).__name__, \"query round:\",self._rd)\n",
    "            # print(self._qs.W, self._qs.raw_rw)\n",
    "\n",
    "            ask_id = self._qs.make_query(num=self._nquery)\n",
    "            lb = self._lbr.label(ask_id)\n",
    "            self._trn_ds.update(ask_id, lb)\n",
    "\n",
    "            self.train()\n",
    "            self._qs.update(ask_id, lb)\n",
    "            \n",
    "            self._context = self.get_features(ask_id, lb)\n",
    "            ctx = np.array(self._context[['iteration','labeled_entropy','labeled_acc','labeled_f1','labeled_precision',\n",
    "                                'labeled_recall','testing_acc','testing_f1','testing_precision','testing_recall',\n",
    "                                'testing_acc_change','testing_f1_change','testing_precision_change','testing_recall_change']])\n",
    "            \n",
    "            self._qs.update_context(ctx) ######## UPDATE CONTEXT\n",
    "            print(self._features[['strategy','labeled_acc','testing_acc','reward']].tail(1))\n",
    "            \n",
    "            if self._features['testing_acc'].iloc[-1] > self._besttestacc:\n",
    "                self._bestmodel = copy.deepcopy(self._model)\n",
    "                self._besttestacc = self._features['testing_acc'].iloc[-1]\n",
    "\n",
    "        return self._features"
   ]
  },
  {
   "cell_type": "code",
   "execution_count": 2,
   "metadata": {},
   "outputs": [],
   "source": [
    "class expr(object):\n",
    "    '''For non-context required methods including ALBL, MBAL, UBAL'''\n",
    "    def __init__(self, trn_ds, tst_ds, lbr, model, qs, nquery, args, reward_fn=None):\n",
    "        print(time.ctime(time.time()))\n",
    "        self._args = args\n",
    "        self._trn_ds = trn_ds\n",
    "        self._tst_ds = tst_ds\n",
    "        self._lbr = lbr\n",
    "        self._model = model\n",
    "        self._qs = qs\n",
    "        self._nquery = nquery\n",
    "        self._T = self._qs.T\n",
    "        self._handler = args['handler']\n",
    "        self._reward_fn = reward_fn\n",
    "\n",
    "        \n",
    "        self._rd = 0\n",
    "        self._nclasses = self._qs._nclasses\n",
    "        self._features = pd.DataFrame(columns=['iteration','query_bincount','query_entropy','labeled_bincount','labeled_entropy',\n",
    "                                                'query_acc','query_f1','query_precision','query_recall','labeled_acc',\n",
    "                                                'labeled_f1','labeled_precision','labeled_recall','testing_acc','testing_f1',\n",
    "                                                'testing_precision', 'testing_recall','testing_acc_change',\n",
    "                                                'testing_f1_change','testing_precision_change','testing_recall_change',\n",
    "                                                'strategy_entropy','reward'])\n",
    "        \n",
    "        use_cuda = torch.cuda.is_available()\n",
    "        self._device = torch.device(\"cuda\" if use_cuda else \"cpu\")\n",
    "        self._nepoch = self._args['n_epoch']\n",
    "\n",
    "        self._optimizer = optim.Adam(self._model.parameters(), lr=1e-4, weight_decay=1e-5)\n",
    "        self._besttestacc = 0\n",
    "        \n",
    "        self.train()\n",
    "        testing_acc, testing_f1, testing_precision, testing_recall = self.get_scores(self._tst_ds._X, self._tst_ds._y)\n",
    "\n",
    "        self._prev_acc_te = testing_acc\n",
    "        self._prev_f1_te = testing_f1\n",
    "        self._prev_precision_te = testing_precision\n",
    "        self._prev_recall_te = testing_recall\n",
    "\n",
    "    def train(self):\n",
    "        labeled_entry_Xs, labeled_entry_ys = self._trn_ds.get_labeled_entries()\n",
    "        labeled_dataset = self._handler(labeled_entry_Xs, labeled_entry_ys, transform=self._args['transform'])\n",
    "\n",
    "        loader_tr = DataLoader(labeled_dataset,\n",
    "                            shuffle=True, **self._args['loader_tr_args'])\n",
    "\n",
    "        for epoch in range(1, self._nepoch):\n",
    "            self._model.train()\n",
    "            for batch_idx, (x, y) in enumerate(loader_tr):\n",
    "                x, y = x.to(self._device), y.long().to(self._device)\n",
    "                self._optimizer.zero_grad()\n",
    "                out, e1 = self._model(x)\n",
    "                loss = F.cross_entropy(out, y)\n",
    "                loss.backward()\n",
    "                self._optimizer.step()\n",
    "\n",
    "    def predict(self):\n",
    "        # predict labels in test set\n",
    "        loader_te = DataLoader(self._tst_ds, shuffle=False, **self._args['loader_te_args'])\n",
    "\n",
    "        self._model.eval()\n",
    "        P = torch.tensor([], dtype=torch.long)\n",
    "        with torch.no_grad():\n",
    "            for batch_idx, (x, y) in enumerate(loader_te):\n",
    "                x = x.to(self._device)\n",
    "                out, e1 = self._model(x)\n",
    "\n",
    "                pred = out.max(1)[1]\n",
    "                P = torch.cat((P,pred.cpu()))\n",
    "\n",
    "        return P\n",
    "\n",
    "    def get_scores(self, xs, lb):\n",
    "        loader_te = DataLoader(self._handler(xs, lb, transform=self._args['transform']),\n",
    "                            shuffle=False, **self._args['loader_te_args'])\n",
    "        \n",
    "        self._model.eval()\n",
    "        P = torch.tensor([], dtype=torch.long)\n",
    "        with torch.no_grad():\n",
    "            for batch_idx, (x, y) in enumerate(loader_te):\n",
    "                x = x.to(self._device)\n",
    "                out, e1 = self._model(x)\n",
    "\n",
    "                pred = out.max(1)[1]\n",
    "                P = torch.cat((P,pred.cpu()))\n",
    "        \n",
    "        acc = accuracy_score(lb, P)\n",
    "        f1 = f1_score(lb,P,average='macro')\n",
    "        precision = precision_score(lb,P,average='macro')\n",
    "        recall = recall_score(lb,P,average='macro')\n",
    "\n",
    "        return acc, f1, precision, recall\n",
    "\n",
    "    def get_features(self, ask_id, lb):\n",
    "        itr = self._rd/self._T\n",
    "\n",
    "        # getting entropies\n",
    "        query_bincount = np.bincount(lb, None, self._nclasses)\n",
    "        query_entropy = entropy(query_bincount)\n",
    "        \n",
    "        labeled_x, labeled_y = self._trn_ds.get_labeled_entries()\n",
    "        labeled_bincount = np.bincount(labeled_y, None, self._nclasses)\n",
    "        labeled_entropy = entropy(labeled_bincount)\n",
    "\n",
    "        # query scores\n",
    "        query_acc, query_f1, query_precision, query_recall = self.get_scores(self._trn_ds._X[ask_id], lb)\n",
    "\n",
    "        # labeled scores\n",
    "        labeled_acc, labeled_f1, labeled_precision, labeled_recall = self.get_scores(labeled_x, labeled_y)\n",
    "        \n",
    "        # testing scores\n",
    "        testing_acc, testing_f1, testing_precision, testing_recall = self.get_scores(self._tst_ds._X, self._tst_ds._y)\n",
    "\n",
    "        testing_acc_change = testing_acc - self._prev_acc_te\n",
    "        testing_f1_change = testing_f1 - self._prev_f1_te\n",
    "        testing_precision_change = testing_precision - self._prev_precision_te\n",
    "        testing_recall_change = testing_recall - self._prev_recall_te\n",
    "\n",
    "        self._prev_acc_te = testing_acc\n",
    "        self._prev_f1_te = testing_f1\n",
    "        self._prev_precision_te = testing_precision\n",
    "        self._prev_recall_te = testing_recall\n",
    "\n",
    "        try:\n",
    "            strategy_entropy = entropy(self._qs.exp4p_.w)\n",
    "        except AttributeError:\n",
    "            strategy_entropy = 0\n",
    "\n",
    "        if self._reward_fn == None:\n",
    "            reward = self._qs.calc_reward_fn()\n",
    "        else:\n",
    "            reward = self._reward_fn(testing_f1, testing_f1_change)\n",
    "            self._qs.rw = reward\n",
    "            \n",
    "        self._features = self._features.append({'iteration': itr, 'query_bincount': query_bincount, 'query_entropy': query_entropy,\n",
    "                              'labeled_bincount': labeled_bincount, 'labeled_entropy': labeled_entropy, 'query_acc': query_acc,\n",
    "                              'query_f1': query_f1, 'query_precision': query_precision, 'query_recall': query_recall,\n",
    "                              'labeled_acc': labeled_acc, 'labeled_f1': labeled_f1, 'labeled_precision': labeled_precision, \n",
    "                              'labeled_recall': labeled_recall, 'testing_acc': testing_acc, 'testing_f1': testing_f1,\n",
    "                              'testing_precision': testing_precision, 'testing_recall': testing_recall,\n",
    "                              'testing_acc_change': testing_acc_change, 'testing_f1_change': testing_f1_change, \n",
    "                              'testing_precision_change': testing_precision_change, 'testing_recall_change': testing_recall_change, \n",
    "                              'strategy_entropy': strategy_entropy, 'reward': reward\n",
    "                              }, ignore_index=True)\n",
    "        return\n",
    "    \n",
    "\n",
    "    def run(self, quota):\n",
    "        # E_out = np.array([])\n",
    "\n",
    "        for nround in range(quota):\n",
    "            self._rd += 1\n",
    "            \n",
    "            print(time.ctime(time.time()), type(self._qs).__name__, \"query round:\",self._rd)\n",
    "            # print(self._qs.W, self._qs.raw_rw)\n",
    "\n",
    "            ask_id = self._qs.make_query(num=self._nquery)\n",
    "            lb = self._lbr.label(ask_id)\n",
    "            self._trn_ds.update(ask_id, lb)\n",
    "\n",
    "            self.train()\n",
    "            self._qs.update(ask_id, lb)\n",
    "\n",
    "            self.get_features(ask_id, lb)\n",
    "            print(self._features[['labeled_acc','testing_acc','reward']].tail(1))\n",
    "            \n",
    "            if self._features['testing_acc'].iloc[-1] > self._besttestacc:\n",
    "                self._bestmodel = copy.deepcopy(self._model)\n",
    "                self._besttestacc = self._features['testing_acc'].iloc[-1] \n",
    "\n",
    "        return self._features"
   ]
  },
  {
   "cell_type": "code",
   "execution_count": 3,
   "metadata": {},
   "outputs": [
    {
     "name": "stdout",
     "output_type": "stream",
     "text": [
      "1th experiment\n",
      "Size of Training Set: 13104 ; Size of Testing Set: 3276\n",
      "Tue Sep  1 16:14:08 2020\n"
     ]
    },
    {
     "name": "stderr",
     "output_type": "stream",
     "text": [
      "C:\\Users\\Wan Jing\\.conda\\envs\\deepCB\\lib\\site-packages\\sklearn\\metrics\\_classification.py:1221: UndefinedMetricWarning: Precision is ill-defined and being set to 0.0 in labels with no predicted samples. Use `zero_division` parameter to control this behavior.\n",
      "  _warn_prf(average, modifier, msg_start, len(result))\n"
     ]
    },
    {
     "name": "stdout",
     "output_type": "stream",
     "text": [
      "Tue Sep  1 16:14:11 2020 MultiBanditsActiveLearning query round: 1\n",
      "Strategy Chosen: 0 RandomSampling\n"
     ]
    },
    {
     "name": "stderr",
     "output_type": "stream",
     "text": [
      "C:\\Users\\Wan Jing\\Documents\\libact-torch\\libact\\query_strategies\\random_sampling.py:86: UserWarning: To copy construct from a tensor, it is recommended to use sourceTensor.clone().detach() or sourceTensor.clone().detach().requires_grad_(True), rather than torch.tensor(sourceTensor).\n",
      "  ex = torch.tensor(self.dataset.data[self.queried_hist_[-1]][0]).to(self.device)\n",
      "C:\\Users\\Wan Jing\\Documents\\libact-torch\\libact\\query_strategies\\uncertainty_sampling.py:149: UserWarning: To copy construct from a tensor, it is recommended to use sourceTensor.clone().detach() or sourceTensor.clone().detach().requires_grad_(True), rather than torch.tensor(sourceTensor).\n",
      "  ex = torch.tensor(self.dataset.data[self.queried_hist_[-1]][0]).to(self.device)\n",
      "C:\\Users\\Wan Jing\\Documents\\libact-torch\\libact\\query_strategies\\representative_sampling.py:113: UserWarning: To copy construct from a tensor, it is recommended to use sourceTensor.clone().detach() or sourceTensor.clone().detach().requires_grad_(True), rather than torch.tensor(sourceTensor).\n",
      "  ex = torch.tensor(self.dataset.data[self.queried_hist_[-1]][0]).to(self.device)\n",
      "C:\\Users\\Wan Jing\\Documents\\libact-torch\\libact\\query_strategies\\multi_bandits_active_learning.py:227: UserWarning: To copy construct from a tensor, it is recommended to use sourceTensor.clone().detach() or sourceTensor.clone().detach().requires_grad_(True), rather than torch.tensor(sourceTensor).\n",
      "  ex = torch.tensor(self.dataset.data[self.queried_hist_[-1]][0]).to(self.device)\n"
     ]
    },
    {
     "name": "stdout",
     "output_type": "stream",
     "text": [
      "   labeled_acc  testing_acc    reward\n",
      "0     0.261583      0.27381  0.087089\n",
      "Tue Sep  1 16:14:16 2020 MultiBanditsActiveLearning query round: 2\n",
      "Strategy Chosen: 4 RepresentativeSampling\n"
     ]
    },
    {
     "name": "stderr",
     "output_type": "stream",
     "text": [
      "C:\\Users\\Wan Jing\\Documents\\libact-torch\\libact\\query_strategies\\representative_sampling.py:147: UserWarning: To copy construct from a tensor, it is recommended to use sourceTensor.clone().detach() or sourceTensor.clone().detach().requires_grad_(True), rather than torch.tensor(sourceTensor).\n",
      "  x = torch.tensor(x).to(self.device)\n",
      "C:\\Users\\Wan Jing\\Documents\\libact-torch\\libact\\query_strategies\\representative_sampling.py:147: UserWarning: To copy construct from a tensor, it is recommended to use sourceTensor.clone().detach() or sourceTensor.clone().detach().requires_grad_(True), rather than torch.tensor(sourceTensor).\n",
      "  x = torch.tensor(x).to(self.device)\n",
      "C:\\Users\\Wan Jing\\Documents\\libact-torch\\libact\\query_strategies\\random_sampling.py:86: UserWarning: To copy construct from a tensor, it is recommended to use sourceTensor.clone().detach() or sourceTensor.clone().detach().requires_grad_(True), rather than torch.tensor(sourceTensor).\n",
      "  ex = torch.tensor(self.dataset.data[self.queried_hist_[-1]][0]).to(self.device)\n",
      "C:\\Users\\Wan Jing\\Documents\\libact-torch\\libact\\query_strategies\\uncertainty_sampling.py:149: UserWarning: To copy construct from a tensor, it is recommended to use sourceTensor.clone().detach() or sourceTensor.clone().detach().requires_grad_(True), rather than torch.tensor(sourceTensor).\n",
      "  ex = torch.tensor(self.dataset.data[self.queried_hist_[-1]][0]).to(self.device)\n",
      "C:\\Users\\Wan Jing\\Documents\\libact-torch\\libact\\query_strategies\\representative_sampling.py:113: UserWarning: To copy construct from a tensor, it is recommended to use sourceTensor.clone().detach() or sourceTensor.clone().detach().requires_grad_(True), rather than torch.tensor(sourceTensor).\n",
      "  ex = torch.tensor(self.dataset.data[self.queried_hist_[-1]][0]).to(self.device)\n",
      "C:\\Users\\Wan Jing\\Documents\\libact-torch\\libact\\query_strategies\\multi_bandits_active_learning.py:227: UserWarning: To copy construct from a tensor, it is recommended to use sourceTensor.clone().detach() or sourceTensor.clone().detach().requires_grad_(True), rather than torch.tensor(sourceTensor).\n",
      "  ex = torch.tensor(self.dataset.data[self.queried_hist_[-1]][0]).to(self.device)\n",
      "C:\\Users\\Wan Jing\\.conda\\envs\\deepCB\\lib\\site-packages\\sklearn\\metrics\\_classification.py:1221: UndefinedMetricWarning: Precision is ill-defined and being set to 0.0 in labels with no predicted samples. Use `zero_division` parameter to control this behavior.\n",
      "  _warn_prf(average, modifier, msg_start, len(result))\n"
     ]
    },
    {
     "name": "stdout",
     "output_type": "stream",
     "text": [
      "   labeled_acc  testing_acc    reward\n",
      "1     0.261278     0.275641  0.086313\n",
      "Tue Sep  1 16:14:36 2020 MultiBanditsActiveLearning query round: 3\n",
      "Strategy Chosen: 1 UncertaintySampling\n"
     ]
    },
    {
     "name": "stderr",
     "output_type": "stream",
     "text": [
      "C:\\Users\\Wan Jing\\Documents\\libact-torch\\libact\\query_strategies\\random_sampling.py:86: UserWarning: To copy construct from a tensor, it is recommended to use sourceTensor.clone().detach() or sourceTensor.clone().detach().requires_grad_(True), rather than torch.tensor(sourceTensor).\n",
      "  ex = torch.tensor(self.dataset.data[self.queried_hist_[-1]][0]).to(self.device)\n",
      "C:\\Users\\Wan Jing\\Documents\\libact-torch\\libact\\query_strategies\\uncertainty_sampling.py:149: UserWarning: To copy construct from a tensor, it is recommended to use sourceTensor.clone().detach() or sourceTensor.clone().detach().requires_grad_(True), rather than torch.tensor(sourceTensor).\n",
      "  ex = torch.tensor(self.dataset.data[self.queried_hist_[-1]][0]).to(self.device)\n",
      "C:\\Users\\Wan Jing\\Documents\\libact-torch\\libact\\query_strategies\\representative_sampling.py:113: UserWarning: To copy construct from a tensor, it is recommended to use sourceTensor.clone().detach() or sourceTensor.clone().detach().requires_grad_(True), rather than torch.tensor(sourceTensor).\n",
      "  ex = torch.tensor(self.dataset.data[self.queried_hist_[-1]][0]).to(self.device)\n",
      "C:\\Users\\Wan Jing\\Documents\\libact-torch\\libact\\query_strategies\\multi_bandits_active_learning.py:227: UserWarning: To copy construct from a tensor, it is recommended to use sourceTensor.clone().detach() or sourceTensor.clone().detach().requires_grad_(True), rather than torch.tensor(sourceTensor).\n",
      "  ex = torch.tensor(self.dataset.data[self.queried_hist_[-1]][0]).to(self.device)\n",
      "C:\\Users\\Wan Jing\\.conda\\envs\\deepCB\\lib\\site-packages\\sklearn\\metrics\\_classification.py:1221: UndefinedMetricWarning: Precision is ill-defined and being set to 0.0 in labels with no predicted samples. Use `zero_division` parameter to control this behavior.\n",
      "  _warn_prf(average, modifier, msg_start, len(result))\n"
     ]
    },
    {
     "name": "stdout",
     "output_type": "stream",
     "text": [
      "   labeled_acc  testing_acc    reward\n",
      "2     0.269161     0.275641  0.086432\n",
      "Tue Sep  1 16:14:50 2020 MultiBanditsActiveLearning query round: 4\n",
      "Strategy Chosen: 3 UncertaintySampling\n"
     ]
    },
    {
     "name": "stderr",
     "output_type": "stream",
     "text": [
      "C:\\Users\\Wan Jing\\Documents\\libact-torch\\libact\\query_strategies\\random_sampling.py:86: UserWarning: To copy construct from a tensor, it is recommended to use sourceTensor.clone().detach() or sourceTensor.clone().detach().requires_grad_(True), rather than torch.tensor(sourceTensor).\n",
      "  ex = torch.tensor(self.dataset.data[self.queried_hist_[-1]][0]).to(self.device)\n",
      "C:\\Users\\Wan Jing\\Documents\\libact-torch\\libact\\query_strategies\\uncertainty_sampling.py:149: UserWarning: To copy construct from a tensor, it is recommended to use sourceTensor.clone().detach() or sourceTensor.clone().detach().requires_grad_(True), rather than torch.tensor(sourceTensor).\n",
      "  ex = torch.tensor(self.dataset.data[self.queried_hist_[-1]][0]).to(self.device)\n",
      "C:\\Users\\Wan Jing\\Documents\\libact-torch\\libact\\query_strategies\\representative_sampling.py:113: UserWarning: To copy construct from a tensor, it is recommended to use sourceTensor.clone().detach() or sourceTensor.clone().detach().requires_grad_(True), rather than torch.tensor(sourceTensor).\n",
      "  ex = torch.tensor(self.dataset.data[self.queried_hist_[-1]][0]).to(self.device)\n",
      "C:\\Users\\Wan Jing\\Documents\\libact-torch\\libact\\query_strategies\\multi_bandits_active_learning.py:227: UserWarning: To copy construct from a tensor, it is recommended to use sourceTensor.clone().detach() or sourceTensor.clone().detach().requires_grad_(True), rather than torch.tensor(sourceTensor).\n",
      "  ex = torch.tensor(self.dataset.data[self.queried_hist_[-1]][0]).to(self.device)\n",
      "C:\\Users\\Wan Jing\\.conda\\envs\\deepCB\\lib\\site-packages\\sklearn\\metrics\\_classification.py:1221: UndefinedMetricWarning: Precision is ill-defined and being set to 0.0 in labels with no predicted samples. Use `zero_division` parameter to control this behavior.\n",
      "  _warn_prf(average, modifier, msg_start, len(result))\n"
     ]
    },
    {
     "name": "stdout",
     "output_type": "stream",
     "text": [
      "   labeled_acc  testing_acc    reward\n",
      "3     0.269027     0.275641  0.086432\n",
      "Tue Sep  1 16:15:04 2020 MultiBanditsActiveLearning query round: 5\n",
      "Strategy Chosen: 3 UncertaintySampling\n"
     ]
    },
    {
     "name": "stderr",
     "output_type": "stream",
     "text": [
      "C:\\Users\\Wan Jing\\Documents\\libact-torch\\libact\\query_strategies\\random_sampling.py:86: UserWarning: To copy construct from a tensor, it is recommended to use sourceTensor.clone().detach() or sourceTensor.clone().detach().requires_grad_(True), rather than torch.tensor(sourceTensor).\n",
      "  ex = torch.tensor(self.dataset.data[self.queried_hist_[-1]][0]).to(self.device)\n",
      "C:\\Users\\Wan Jing\\Documents\\libact-torch\\libact\\query_strategies\\uncertainty_sampling.py:149: UserWarning: To copy construct from a tensor, it is recommended to use sourceTensor.clone().detach() or sourceTensor.clone().detach().requires_grad_(True), rather than torch.tensor(sourceTensor).\n",
      "  ex = torch.tensor(self.dataset.data[self.queried_hist_[-1]][0]).to(self.device)\n",
      "C:\\Users\\Wan Jing\\Documents\\libact-torch\\libact\\query_strategies\\representative_sampling.py:113: UserWarning: To copy construct from a tensor, it is recommended to use sourceTensor.clone().detach() or sourceTensor.clone().detach().requires_grad_(True), rather than torch.tensor(sourceTensor).\n",
      "  ex = torch.tensor(self.dataset.data[self.queried_hist_[-1]][0]).to(self.device)\n",
      "C:\\Users\\Wan Jing\\Documents\\libact-torch\\libact\\query_strategies\\multi_bandits_active_learning.py:227: UserWarning: To copy construct from a tensor, it is recommended to use sourceTensor.clone().detach() or sourceTensor.clone().detach().requires_grad_(True), rather than torch.tensor(sourceTensor).\n",
      "  ex = torch.tensor(self.dataset.data[self.queried_hist_[-1]][0]).to(self.device)\n",
      "C:\\Users\\Wan Jing\\.conda\\envs\\deepCB\\lib\\site-packages\\sklearn\\metrics\\_classification.py:1221: UndefinedMetricWarning: Precision is ill-defined and being set to 0.0 in labels with no predicted samples. Use `zero_division` parameter to control this behavior.\n",
      "  _warn_prf(average, modifier, msg_start, len(result))\n"
     ]
    },
    {
     "name": "stdout",
     "output_type": "stream",
     "text": [
      "   labeled_acc  testing_acc    reward\n",
      "4     0.268734     0.275641  0.086432\n",
      "Tue Sep  1 16:15:18 2020 MultiBanditsActiveLearning query round: 6\n",
      "Strategy Chosen: 4 RepresentativeSampling\n"
     ]
    },
    {
     "name": "stderr",
     "output_type": "stream",
     "text": [
      "C:\\Users\\Wan Jing\\Documents\\libact-torch\\libact\\query_strategies\\representative_sampling.py:147: UserWarning: To copy construct from a tensor, it is recommended to use sourceTensor.clone().detach() or sourceTensor.clone().detach().requires_grad_(True), rather than torch.tensor(sourceTensor).\n",
      "  x = torch.tensor(x).to(self.device)\n",
      "C:\\Users\\Wan Jing\\Documents\\libact-torch\\libact\\query_strategies\\representative_sampling.py:147: UserWarning: To copy construct from a tensor, it is recommended to use sourceTensor.clone().detach() or sourceTensor.clone().detach().requires_grad_(True), rather than torch.tensor(sourceTensor).\n",
      "  x = torch.tensor(x).to(self.device)\n",
      "C:\\Users\\Wan Jing\\Documents\\libact-torch\\libact\\query_strategies\\random_sampling.py:86: UserWarning: To copy construct from a tensor, it is recommended to use sourceTensor.clone().detach() or sourceTensor.clone().detach().requires_grad_(True), rather than torch.tensor(sourceTensor).\n",
      "  ex = torch.tensor(self.dataset.data[self.queried_hist_[-1]][0]).to(self.device)\n",
      "C:\\Users\\Wan Jing\\Documents\\libact-torch\\libact\\query_strategies\\uncertainty_sampling.py:149: UserWarning: To copy construct from a tensor, it is recommended to use sourceTensor.clone().detach() or sourceTensor.clone().detach().requires_grad_(True), rather than torch.tensor(sourceTensor).\n",
      "  ex = torch.tensor(self.dataset.data[self.queried_hist_[-1]][0]).to(self.device)\n",
      "C:\\Users\\Wan Jing\\Documents\\libact-torch\\libact\\query_strategies\\representative_sampling.py:113: UserWarning: To copy construct from a tensor, it is recommended to use sourceTensor.clone().detach() or sourceTensor.clone().detach().requires_grad_(True), rather than torch.tensor(sourceTensor).\n",
      "  ex = torch.tensor(self.dataset.data[self.queried_hist_[-1]][0]).to(self.device)\n",
      "C:\\Users\\Wan Jing\\Documents\\libact-torch\\libact\\query_strategies\\multi_bandits_active_learning.py:227: UserWarning: To copy construct from a tensor, it is recommended to use sourceTensor.clone().detach() or sourceTensor.clone().detach().requires_grad_(True), rather than torch.tensor(sourceTensor).\n",
      "  ex = torch.tensor(self.dataset.data[self.queried_hist_[-1]][0]).to(self.device)\n",
      "C:\\Users\\Wan Jing\\.conda\\envs\\deepCB\\lib\\site-packages\\sklearn\\metrics\\_classification.py:1221: UndefinedMetricWarning: Precision is ill-defined and being set to 0.0 in labels with no predicted samples. Use `zero_division` parameter to control this behavior.\n",
      "  _warn_prf(average, modifier, msg_start, len(result))\n"
     ]
    },
    {
     "name": "stdout",
     "output_type": "stream",
     "text": [
      "   labeled_acc  testing_acc    reward\n",
      "5     0.276063     0.275336  0.086374\n",
      "Tue Sep  1 16:15:38 2020 MultiBanditsActiveLearning query round: 7\n",
      "Strategy Chosen: 4 RepresentativeSampling\n"
     ]
    },
    {
     "name": "stderr",
     "output_type": "stream",
     "text": [
      "C:\\Users\\Wan Jing\\Documents\\libact-torch\\libact\\query_strategies\\representative_sampling.py:147: UserWarning: To copy construct from a tensor, it is recommended to use sourceTensor.clone().detach() or sourceTensor.clone().detach().requires_grad_(True), rather than torch.tensor(sourceTensor).\n",
      "  x = torch.tensor(x).to(self.device)\n",
      "C:\\Users\\Wan Jing\\Documents\\libact-torch\\libact\\query_strategies\\representative_sampling.py:147: UserWarning: To copy construct from a tensor, it is recommended to use sourceTensor.clone().detach() or sourceTensor.clone().detach().requires_grad_(True), rather than torch.tensor(sourceTensor).\n",
      "  x = torch.tensor(x).to(self.device)\n",
      "C:\\Users\\Wan Jing\\Documents\\libact-torch\\libact\\query_strategies\\random_sampling.py:86: UserWarning: To copy construct from a tensor, it is recommended to use sourceTensor.clone().detach() or sourceTensor.clone().detach().requires_grad_(True), rather than torch.tensor(sourceTensor).\n",
      "  ex = torch.tensor(self.dataset.data[self.queried_hist_[-1]][0]).to(self.device)\n",
      "C:\\Users\\Wan Jing\\Documents\\libact-torch\\libact\\query_strategies\\uncertainty_sampling.py:149: UserWarning: To copy construct from a tensor, it is recommended to use sourceTensor.clone().detach() or sourceTensor.clone().detach().requires_grad_(True), rather than torch.tensor(sourceTensor).\n",
      "  ex = torch.tensor(self.dataset.data[self.queried_hist_[-1]][0]).to(self.device)\n",
      "C:\\Users\\Wan Jing\\Documents\\libact-torch\\libact\\query_strategies\\representative_sampling.py:113: UserWarning: To copy construct from a tensor, it is recommended to use sourceTensor.clone().detach() or sourceTensor.clone().detach().requires_grad_(True), rather than torch.tensor(sourceTensor).\n",
      "  ex = torch.tensor(self.dataset.data[self.queried_hist_[-1]][0]).to(self.device)\n",
      "C:\\Users\\Wan Jing\\Documents\\libact-torch\\libact\\query_strategies\\multi_bandits_active_learning.py:227: UserWarning: To copy construct from a tensor, it is recommended to use sourceTensor.clone().detach() or sourceTensor.clone().detach().requires_grad_(True), rather than torch.tensor(sourceTensor).\n",
      "  ex = torch.tensor(self.dataset.data[self.queried_hist_[-1]][0]).to(self.device)\n",
      "C:\\Users\\Wan Jing\\.conda\\envs\\deepCB\\lib\\site-packages\\sklearn\\metrics\\_classification.py:1221: UndefinedMetricWarning: Precision is ill-defined and being set to 0.0 in labels with no predicted samples. Use `zero_division` parameter to control this behavior.\n",
      "  _warn_prf(average, modifier, msg_start, len(result))\n"
     ]
    },
    {
     "name": "stdout",
     "output_type": "stream",
     "text": [
      "   labeled_acc  testing_acc    reward\n",
      "6     0.279448     0.276252  0.092383\n",
      "Tue Sep  1 16:15:58 2020 MultiBanditsActiveLearning query round: 8\n",
      "Strategy Chosen: 4 RepresentativeSampling\n"
     ]
    },
    {
     "name": "stderr",
     "output_type": "stream",
     "text": [
      "C:\\Users\\Wan Jing\\Documents\\libact-torch\\libact\\query_strategies\\representative_sampling.py:147: UserWarning: To copy construct from a tensor, it is recommended to use sourceTensor.clone().detach() or sourceTensor.clone().detach().requires_grad_(True), rather than torch.tensor(sourceTensor).\n",
      "  x = torch.tensor(x).to(self.device)\n",
      "C:\\Users\\Wan Jing\\Documents\\libact-torch\\libact\\query_strategies\\representative_sampling.py:147: UserWarning: To copy construct from a tensor, it is recommended to use sourceTensor.clone().detach() or sourceTensor.clone().detach().requires_grad_(True), rather than torch.tensor(sourceTensor).\n",
      "  x = torch.tensor(x).to(self.device)\n",
      "C:\\Users\\Wan Jing\\Documents\\libact-torch\\libact\\query_strategies\\random_sampling.py:86: UserWarning: To copy construct from a tensor, it is recommended to use sourceTensor.clone().detach() or sourceTensor.clone().detach().requires_grad_(True), rather than torch.tensor(sourceTensor).\n",
      "  ex = torch.tensor(self.dataset.data[self.queried_hist_[-1]][0]).to(self.device)\n",
      "C:\\Users\\Wan Jing\\Documents\\libact-torch\\libact\\query_strategies\\uncertainty_sampling.py:149: UserWarning: To copy construct from a tensor, it is recommended to use sourceTensor.clone().detach() or sourceTensor.clone().detach().requires_grad_(True), rather than torch.tensor(sourceTensor).\n",
      "  ex = torch.tensor(self.dataset.data[self.queried_hist_[-1]][0]).to(self.device)\n",
      "C:\\Users\\Wan Jing\\Documents\\libact-torch\\libact\\query_strategies\\representative_sampling.py:113: UserWarning: To copy construct from a tensor, it is recommended to use sourceTensor.clone().detach() or sourceTensor.clone().detach().requires_grad_(True), rather than torch.tensor(sourceTensor).\n",
      "  ex = torch.tensor(self.dataset.data[self.queried_hist_[-1]][0]).to(self.device)\n",
      "C:\\Users\\Wan Jing\\Documents\\libact-torch\\libact\\query_strategies\\multi_bandits_active_learning.py:227: UserWarning: To copy construct from a tensor, it is recommended to use sourceTensor.clone().detach() or sourceTensor.clone().detach().requires_grad_(True), rather than torch.tensor(sourceTensor).\n",
      "  ex = torch.tensor(self.dataset.data[self.queried_hist_[-1]][0]).to(self.device)\n",
      "C:\\Users\\Wan Jing\\.conda\\envs\\deepCB\\lib\\site-packages\\sklearn\\metrics\\_classification.py:1221: UndefinedMetricWarning: Precision is ill-defined and being set to 0.0 in labels with no predicted samples. Use `zero_division` parameter to control this behavior.\n",
      "  _warn_prf(average, modifier, msg_start, len(result))\n"
     ]
    },
    {
     "name": "stdout",
     "output_type": "stream",
     "text": [
      "   labeled_acc  testing_acc    reward\n",
      "7      0.27791     0.275641  0.090516\n",
      "Tue Sep  1 16:16:18 2020 MultiBanditsActiveLearning query round: 9\n",
      "Strategy Chosen: 1 UncertaintySampling\n"
     ]
    },
    {
     "name": "stderr",
     "output_type": "stream",
     "text": [
      "C:\\Users\\Wan Jing\\Documents\\libact-torch\\libact\\query_strategies\\random_sampling.py:86: UserWarning: To copy construct from a tensor, it is recommended to use sourceTensor.clone().detach() or sourceTensor.clone().detach().requires_grad_(True), rather than torch.tensor(sourceTensor).\n",
      "  ex = torch.tensor(self.dataset.data[self.queried_hist_[-1]][0]).to(self.device)\n",
      "C:\\Users\\Wan Jing\\Documents\\libact-torch\\libact\\query_strategies\\uncertainty_sampling.py:149: UserWarning: To copy construct from a tensor, it is recommended to use sourceTensor.clone().detach() or sourceTensor.clone().detach().requires_grad_(True), rather than torch.tensor(sourceTensor).\n",
      "  ex = torch.tensor(self.dataset.data[self.queried_hist_[-1]][0]).to(self.device)\n",
      "C:\\Users\\Wan Jing\\Documents\\libact-torch\\libact\\query_strategies\\representative_sampling.py:113: UserWarning: To copy construct from a tensor, it is recommended to use sourceTensor.clone().detach() or sourceTensor.clone().detach().requires_grad_(True), rather than torch.tensor(sourceTensor).\n",
      "  ex = torch.tensor(self.dataset.data[self.queried_hist_[-1]][0]).to(self.device)\n",
      "C:\\Users\\Wan Jing\\Documents\\libact-torch\\libact\\query_strategies\\multi_bandits_active_learning.py:227: UserWarning: To copy construct from a tensor, it is recommended to use sourceTensor.clone().detach() or sourceTensor.clone().detach().requires_grad_(True), rather than torch.tensor(sourceTensor).\n",
      "  ex = torch.tensor(self.dataset.data[self.queried_hist_[-1]][0]).to(self.device)\n",
      "C:\\Users\\Wan Jing\\.conda\\envs\\deepCB\\lib\\site-packages\\sklearn\\metrics\\_classification.py:1221: UndefinedMetricWarning: Precision is ill-defined and being set to 0.0 in labels with no predicted samples. Use `zero_division` parameter to control this behavior.\n",
      "  _warn_prf(average, modifier, msg_start, len(result))\n"
     ]
    },
    {
     "name": "stdout",
     "output_type": "stream",
     "text": [
      "   labeled_acc  testing_acc    reward\n",
      "8     0.281636     0.277167  0.095248\n",
      "Tue Sep  1 16:16:32 2020 MultiBanditsActiveLearning query round: 10\n",
      "Strategy Chosen: 4 RepresentativeSampling\n"
     ]
    },
    {
     "name": "stderr",
     "output_type": "stream",
     "text": [
      "C:\\Users\\Wan Jing\\Documents\\libact-torch\\libact\\query_strategies\\representative_sampling.py:147: UserWarning: To copy construct from a tensor, it is recommended to use sourceTensor.clone().detach() or sourceTensor.clone().detach().requires_grad_(True), rather than torch.tensor(sourceTensor).\n",
      "  x = torch.tensor(x).to(self.device)\n",
      "C:\\Users\\Wan Jing\\Documents\\libact-torch\\libact\\query_strategies\\representative_sampling.py:147: UserWarning: To copy construct from a tensor, it is recommended to use sourceTensor.clone().detach() or sourceTensor.clone().detach().requires_grad_(True), rather than torch.tensor(sourceTensor).\n",
      "  x = torch.tensor(x).to(self.device)\n",
      "C:\\Users\\Wan Jing\\Documents\\libact-torch\\libact\\query_strategies\\random_sampling.py:86: UserWarning: To copy construct from a tensor, it is recommended to use sourceTensor.clone().detach() or sourceTensor.clone().detach().requires_grad_(True), rather than torch.tensor(sourceTensor).\n",
      "  ex = torch.tensor(self.dataset.data[self.queried_hist_[-1]][0]).to(self.device)\n",
      "C:\\Users\\Wan Jing\\Documents\\libact-torch\\libact\\query_strategies\\uncertainty_sampling.py:149: UserWarning: To copy construct from a tensor, it is recommended to use sourceTensor.clone().detach() or sourceTensor.clone().detach().requires_grad_(True), rather than torch.tensor(sourceTensor).\n",
      "  ex = torch.tensor(self.dataset.data[self.queried_hist_[-1]][0]).to(self.device)\n",
      "C:\\Users\\Wan Jing\\Documents\\libact-torch\\libact\\query_strategies\\representative_sampling.py:113: UserWarning: To copy construct from a tensor, it is recommended to use sourceTensor.clone().detach() or sourceTensor.clone().detach().requires_grad_(True), rather than torch.tensor(sourceTensor).\n",
      "  ex = torch.tensor(self.dataset.data[self.queried_hist_[-1]][0]).to(self.device)\n",
      "C:\\Users\\Wan Jing\\Documents\\libact-torch\\libact\\query_strategies\\multi_bandits_active_learning.py:227: UserWarning: To copy construct from a tensor, it is recommended to use sourceTensor.clone().detach() or sourceTensor.clone().detach().requires_grad_(True), rather than torch.tensor(sourceTensor).\n",
      "  ex = torch.tensor(self.dataset.data[self.queried_hist_[-1]][0]).to(self.device)\n",
      "C:\\Users\\Wan Jing\\.conda\\envs\\deepCB\\lib\\site-packages\\sklearn\\metrics\\_classification.py:1221: UndefinedMetricWarning: Precision is ill-defined and being set to 0.0 in labels with no predicted samples. Use `zero_division` parameter to control this behavior.\n",
      "  _warn_prf(average, modifier, msg_start, len(result))\n"
     ]
    },
    {
     "name": "stdout",
     "output_type": "stream",
     "text": [
      "   labeled_acc  testing_acc    reward\n",
      "9     0.292169     0.275946  0.102702\n",
      "Tue Sep  1 16:16:52 2020 MultiBanditsActiveLearning query round: 11\n",
      "Strategy Chosen: 1 UncertaintySampling\n"
     ]
    },
    {
     "name": "stderr",
     "output_type": "stream",
     "text": [
      "C:\\Users\\Wan Jing\\Documents\\libact-torch\\libact\\query_strategies\\random_sampling.py:86: UserWarning: To copy construct from a tensor, it is recommended to use sourceTensor.clone().detach() or sourceTensor.clone().detach().requires_grad_(True), rather than torch.tensor(sourceTensor).\n",
      "  ex = torch.tensor(self.dataset.data[self.queried_hist_[-1]][0]).to(self.device)\n",
      "C:\\Users\\Wan Jing\\Documents\\libact-torch\\libact\\query_strategies\\uncertainty_sampling.py:149: UserWarning: To copy construct from a tensor, it is recommended to use sourceTensor.clone().detach() or sourceTensor.clone().detach().requires_grad_(True), rather than torch.tensor(sourceTensor).\n",
      "  ex = torch.tensor(self.dataset.data[self.queried_hist_[-1]][0]).to(self.device)\n",
      "C:\\Users\\Wan Jing\\Documents\\libact-torch\\libact\\query_strategies\\representative_sampling.py:113: UserWarning: To copy construct from a tensor, it is recommended to use sourceTensor.clone().detach() or sourceTensor.clone().detach().requires_grad_(True), rather than torch.tensor(sourceTensor).\n",
      "  ex = torch.tensor(self.dataset.data[self.queried_hist_[-1]][0]).to(self.device)\n",
      "C:\\Users\\Wan Jing\\Documents\\libact-torch\\libact\\query_strategies\\multi_bandits_active_learning.py:227: UserWarning: To copy construct from a tensor, it is recommended to use sourceTensor.clone().detach() or sourceTensor.clone().detach().requires_grad_(True), rather than torch.tensor(sourceTensor).\n",
      "  ex = torch.tensor(self.dataset.data[self.queried_hist_[-1]][0]).to(self.device)\n",
      "C:\\Users\\Wan Jing\\.conda\\envs\\deepCB\\lib\\site-packages\\sklearn\\metrics\\_classification.py:1221: UndefinedMetricWarning: Precision is ill-defined and being set to 0.0 in labels with no predicted samples. Use `zero_division` parameter to control this behavior.\n",
      "  _warn_prf(average, modifier, msg_start, len(result))\n"
     ]
    },
    {
     "name": "stdout",
     "output_type": "stream",
     "text": [
      "    labeled_acc  testing_acc   reward\n",
      "10     0.281089     0.277778  0.09314\n",
      "Tue Sep  1 16:17:06 2020 MultiBanditsActiveLearning query round: 12\n",
      "Strategy Chosen: 0 RandomSampling\n"
     ]
    },
    {
     "name": "stderr",
     "output_type": "stream",
     "text": [
      "C:\\Users\\Wan Jing\\Documents\\libact-torch\\libact\\query_strategies\\random_sampling.py:86: UserWarning: To copy construct from a tensor, it is recommended to use sourceTensor.clone().detach() or sourceTensor.clone().detach().requires_grad_(True), rather than torch.tensor(sourceTensor).\n",
      "  ex = torch.tensor(self.dataset.data[self.queried_hist_[-1]][0]).to(self.device)\n",
      "C:\\Users\\Wan Jing\\Documents\\libact-torch\\libact\\query_strategies\\uncertainty_sampling.py:149: UserWarning: To copy construct from a tensor, it is recommended to use sourceTensor.clone().detach() or sourceTensor.clone().detach().requires_grad_(True), rather than torch.tensor(sourceTensor).\n",
      "  ex = torch.tensor(self.dataset.data[self.queried_hist_[-1]][0]).to(self.device)\n",
      "C:\\Users\\Wan Jing\\Documents\\libact-torch\\libact\\query_strategies\\representative_sampling.py:113: UserWarning: To copy construct from a tensor, it is recommended to use sourceTensor.clone().detach() or sourceTensor.clone().detach().requires_grad_(True), rather than torch.tensor(sourceTensor).\n",
      "  ex = torch.tensor(self.dataset.data[self.queried_hist_[-1]][0]).to(self.device)\n",
      "C:\\Users\\Wan Jing\\Documents\\libact-torch\\libact\\query_strategies\\multi_bandits_active_learning.py:227: UserWarning: To copy construct from a tensor, it is recommended to use sourceTensor.clone().detach() or sourceTensor.clone().detach().requires_grad_(True), rather than torch.tensor(sourceTensor).\n",
      "  ex = torch.tensor(self.dataset.data[self.queried_hist_[-1]][0]).to(self.device)\n",
      "C:\\Users\\Wan Jing\\.conda\\envs\\deepCB\\lib\\site-packages\\sklearn\\metrics\\_classification.py:1221: UndefinedMetricWarning: Precision is ill-defined and being set to 0.0 in labels with no predicted samples. Use `zero_division` parameter to control this behavior.\n",
      "  _warn_prf(average, modifier, msg_start, len(result))\n"
     ]
    },
    {
     "name": "stdout",
     "output_type": "stream",
     "text": [
      "    labeled_acc  testing_acc   reward\n",
      "11     0.279137     0.275641  0.09392\n",
      "Tue Sep  1 16:17:11 2020 MultiBanditsActiveLearning query round: 13\n",
      "Strategy Chosen: 1 UncertaintySampling\n"
     ]
    },
    {
     "name": "stderr",
     "output_type": "stream",
     "text": [
      "C:\\Users\\Wan Jing\\Documents\\libact-torch\\libact\\query_strategies\\random_sampling.py:86: UserWarning: To copy construct from a tensor, it is recommended to use sourceTensor.clone().detach() or sourceTensor.clone().detach().requires_grad_(True), rather than torch.tensor(sourceTensor).\n",
      "  ex = torch.tensor(self.dataset.data[self.queried_hist_[-1]][0]).to(self.device)\n",
      "C:\\Users\\Wan Jing\\Documents\\libact-torch\\libact\\query_strategies\\uncertainty_sampling.py:149: UserWarning: To copy construct from a tensor, it is recommended to use sourceTensor.clone().detach() or sourceTensor.clone().detach().requires_grad_(True), rather than torch.tensor(sourceTensor).\n",
      "  ex = torch.tensor(self.dataset.data[self.queried_hist_[-1]][0]).to(self.device)\n",
      "C:\\Users\\Wan Jing\\Documents\\libact-torch\\libact\\query_strategies\\representative_sampling.py:113: UserWarning: To copy construct from a tensor, it is recommended to use sourceTensor.clone().detach() or sourceTensor.clone().detach().requires_grad_(True), rather than torch.tensor(sourceTensor).\n",
      "  ex = torch.tensor(self.dataset.data[self.queried_hist_[-1]][0]).to(self.device)\n",
      "C:\\Users\\Wan Jing\\Documents\\libact-torch\\libact\\query_strategies\\multi_bandits_active_learning.py:227: UserWarning: To copy construct from a tensor, it is recommended to use sourceTensor.clone().detach() or sourceTensor.clone().detach().requires_grad_(True), rather than torch.tensor(sourceTensor).\n",
      "  ex = torch.tensor(self.dataset.data[self.queried_hist_[-1]][0]).to(self.device)\n",
      "C:\\Users\\Wan Jing\\.conda\\envs\\deepCB\\lib\\site-packages\\sklearn\\metrics\\_classification.py:1221: UndefinedMetricWarning: Precision is ill-defined and being set to 0.0 in labels with no predicted samples. Use `zero_division` parameter to control this behavior.\n",
      "  _warn_prf(average, modifier, msg_start, len(result))\n"
     ]
    },
    {
     "name": "stdout",
     "output_type": "stream",
     "text": [
      "    labeled_acc  testing_acc   reward\n",
      "12     0.272535     0.275336  0.08647\n",
      "Tue Sep  1 16:17:25 2020 MultiBanditsActiveLearning query round: 14\n",
      "Strategy Chosen: 3 UncertaintySampling\n"
     ]
    },
    {
     "name": "stderr",
     "output_type": "stream",
     "text": [
      "C:\\Users\\Wan Jing\\Documents\\libact-torch\\libact\\query_strategies\\random_sampling.py:86: UserWarning: To copy construct from a tensor, it is recommended to use sourceTensor.clone().detach() or sourceTensor.clone().detach().requires_grad_(True), rather than torch.tensor(sourceTensor).\n",
      "  ex = torch.tensor(self.dataset.data[self.queried_hist_[-1]][0]).to(self.device)\n",
      "C:\\Users\\Wan Jing\\Documents\\libact-torch\\libact\\query_strategies\\uncertainty_sampling.py:149: UserWarning: To copy construct from a tensor, it is recommended to use sourceTensor.clone().detach() or sourceTensor.clone().detach().requires_grad_(True), rather than torch.tensor(sourceTensor).\n",
      "  ex = torch.tensor(self.dataset.data[self.queried_hist_[-1]][0]).to(self.device)\n",
      "C:\\Users\\Wan Jing\\Documents\\libact-torch\\libact\\query_strategies\\representative_sampling.py:113: UserWarning: To copy construct from a tensor, it is recommended to use sourceTensor.clone().detach() or sourceTensor.clone().detach().requires_grad_(True), rather than torch.tensor(sourceTensor).\n",
      "  ex = torch.tensor(self.dataset.data[self.queried_hist_[-1]][0]).to(self.device)\n",
      "C:\\Users\\Wan Jing\\Documents\\libact-torch\\libact\\query_strategies\\multi_bandits_active_learning.py:227: UserWarning: To copy construct from a tensor, it is recommended to use sourceTensor.clone().detach() or sourceTensor.clone().detach().requires_grad_(True), rather than torch.tensor(sourceTensor).\n",
      "  ex = torch.tensor(self.dataset.data[self.queried_hist_[-1]][0]).to(self.device)\n",
      "C:\\Users\\Wan Jing\\.conda\\envs\\deepCB\\lib\\site-packages\\sklearn\\metrics\\_classification.py:1221: UndefinedMetricWarning: Precision is ill-defined and being set to 0.0 in labels with no predicted samples. Use `zero_division` parameter to control this behavior.\n",
      "  _warn_prf(average, modifier, msg_start, len(result))\n"
     ]
    },
    {
     "name": "stdout",
     "output_type": "stream",
     "text": [
      "    labeled_acc  testing_acc    reward\n",
      "13     0.272727     0.277167  0.090627\n",
      "Tue Sep  1 16:17:39 2020 MultiBanditsActiveLearning query round: 15\n",
      "Strategy Chosen: 2 UncertaintySampling\n"
     ]
    },
    {
     "name": "stderr",
     "output_type": "stream",
     "text": [
      "C:\\Users\\Wan Jing\\Documents\\libact-torch\\libact\\query_strategies\\random_sampling.py:86: UserWarning: To copy construct from a tensor, it is recommended to use sourceTensor.clone().detach() or sourceTensor.clone().detach().requires_grad_(True), rather than torch.tensor(sourceTensor).\n",
      "  ex = torch.tensor(self.dataset.data[self.queried_hist_[-1]][0]).to(self.device)\n",
      "C:\\Users\\Wan Jing\\Documents\\libact-torch\\libact\\query_strategies\\uncertainty_sampling.py:149: UserWarning: To copy construct from a tensor, it is recommended to use sourceTensor.clone().detach() or sourceTensor.clone().detach().requires_grad_(True), rather than torch.tensor(sourceTensor).\n",
      "  ex = torch.tensor(self.dataset.data[self.queried_hist_[-1]][0]).to(self.device)\n",
      "C:\\Users\\Wan Jing\\Documents\\libact-torch\\libact\\query_strategies\\representative_sampling.py:113: UserWarning: To copy construct from a tensor, it is recommended to use sourceTensor.clone().detach() or sourceTensor.clone().detach().requires_grad_(True), rather than torch.tensor(sourceTensor).\n",
      "  ex = torch.tensor(self.dataset.data[self.queried_hist_[-1]][0]).to(self.device)\n",
      "C:\\Users\\Wan Jing\\Documents\\libact-torch\\libact\\query_strategies\\multi_bandits_active_learning.py:227: UserWarning: To copy construct from a tensor, it is recommended to use sourceTensor.clone().detach() or sourceTensor.clone().detach().requires_grad_(True), rather than torch.tensor(sourceTensor).\n",
      "  ex = torch.tensor(self.dataset.data[self.queried_hist_[-1]][0]).to(self.device)\n",
      "C:\\Users\\Wan Jing\\.conda\\envs\\deepCB\\lib\\site-packages\\sklearn\\metrics\\_classification.py:1221: UndefinedMetricWarning: Precision is ill-defined and being set to 0.0 in labels with no predicted samples. Use `zero_division` parameter to control this behavior.\n",
      "  _warn_prf(average, modifier, msg_start, len(result))\n"
     ]
    },
    {
     "name": "stdout",
     "output_type": "stream",
     "text": [
      "    labeled_acc  testing_acc    reward\n",
      "14     0.269049     0.276252  0.092021\n",
      "Tue Sep  1 16:17:53 2020 MultiBanditsActiveLearning query round: 16\n",
      "Strategy Chosen: 3 UncertaintySampling\n"
     ]
    },
    {
     "name": "stderr",
     "output_type": "stream",
     "text": [
      "C:\\Users\\Wan Jing\\Documents\\libact-torch\\libact\\query_strategies\\random_sampling.py:86: UserWarning: To copy construct from a tensor, it is recommended to use sourceTensor.clone().detach() or sourceTensor.clone().detach().requires_grad_(True), rather than torch.tensor(sourceTensor).\n",
      "  ex = torch.tensor(self.dataset.data[self.queried_hist_[-1]][0]).to(self.device)\n",
      "C:\\Users\\Wan Jing\\Documents\\libact-torch\\libact\\query_strategies\\uncertainty_sampling.py:149: UserWarning: To copy construct from a tensor, it is recommended to use sourceTensor.clone().detach() or sourceTensor.clone().detach().requires_grad_(True), rather than torch.tensor(sourceTensor).\n",
      "  ex = torch.tensor(self.dataset.data[self.queried_hist_[-1]][0]).to(self.device)\n",
      "C:\\Users\\Wan Jing\\Documents\\libact-torch\\libact\\query_strategies\\representative_sampling.py:113: UserWarning: To copy construct from a tensor, it is recommended to use sourceTensor.clone().detach() or sourceTensor.clone().detach().requires_grad_(True), rather than torch.tensor(sourceTensor).\n",
      "  ex = torch.tensor(self.dataset.data[self.queried_hist_[-1]][0]).to(self.device)\n",
      "C:\\Users\\Wan Jing\\Documents\\libact-torch\\libact\\query_strategies\\multi_bandits_active_learning.py:227: UserWarning: To copy construct from a tensor, it is recommended to use sourceTensor.clone().detach() or sourceTensor.clone().detach().requires_grad_(True), rather than torch.tensor(sourceTensor).\n",
      "  ex = torch.tensor(self.dataset.data[self.queried_hist_[-1]][0]).to(self.device)\n",
      "C:\\Users\\Wan Jing\\.conda\\envs\\deepCB\\lib\\site-packages\\sklearn\\metrics\\_classification.py:1221: UndefinedMetricWarning: Precision is ill-defined and being set to 0.0 in labels with no predicted samples. Use `zero_division` parameter to control this behavior.\n",
      "  _warn_prf(average, modifier, msg_start, len(result))\n"
     ]
    },
    {
     "name": "stdout",
     "output_type": "stream",
     "text": [
      "    labeled_acc  testing_acc    reward\n",
      "15     0.259894     0.276557  0.096842\n",
      "Tue Sep  1 16:18:06 2020 MultiBanditsActiveLearning query round: 17\n",
      "Strategy Chosen: 1 UncertaintySampling\n"
     ]
    },
    {
     "name": "stderr",
     "output_type": "stream",
     "text": [
      "C:\\Users\\Wan Jing\\Documents\\libact-torch\\libact\\query_strategies\\random_sampling.py:86: UserWarning: To copy construct from a tensor, it is recommended to use sourceTensor.clone().detach() or sourceTensor.clone().detach().requires_grad_(True), rather than torch.tensor(sourceTensor).\n",
      "  ex = torch.tensor(self.dataset.data[self.queried_hist_[-1]][0]).to(self.device)\n",
      "C:\\Users\\Wan Jing\\Documents\\libact-torch\\libact\\query_strategies\\uncertainty_sampling.py:149: UserWarning: To copy construct from a tensor, it is recommended to use sourceTensor.clone().detach() or sourceTensor.clone().detach().requires_grad_(True), rather than torch.tensor(sourceTensor).\n",
      "  ex = torch.tensor(self.dataset.data[self.queried_hist_[-1]][0]).to(self.device)\n",
      "C:\\Users\\Wan Jing\\Documents\\libact-torch\\libact\\query_strategies\\representative_sampling.py:113: UserWarning: To copy construct from a tensor, it is recommended to use sourceTensor.clone().detach() or sourceTensor.clone().detach().requires_grad_(True), rather than torch.tensor(sourceTensor).\n",
      "  ex = torch.tensor(self.dataset.data[self.queried_hist_[-1]][0]).to(self.device)\n",
      "C:\\Users\\Wan Jing\\Documents\\libact-torch\\libact\\query_strategies\\multi_bandits_active_learning.py:227: UserWarning: To copy construct from a tensor, it is recommended to use sourceTensor.clone().detach() or sourceTensor.clone().detach().requires_grad_(True), rather than torch.tensor(sourceTensor).\n",
      "  ex = torch.tensor(self.dataset.data[self.queried_hist_[-1]][0]).to(self.device)\n",
      "C:\\Users\\Wan Jing\\.conda\\envs\\deepCB\\lib\\site-packages\\sklearn\\metrics\\_classification.py:1221: UndefinedMetricWarning: Precision is ill-defined and being set to 0.0 in labels with no predicted samples. Use `zero_division` parameter to control this behavior.\n",
      "  _warn_prf(average, modifier, msg_start, len(result))\n"
     ]
    },
    {
     "name": "stdout",
     "output_type": "stream",
     "text": [
      "    labeled_acc  testing_acc    reward\n",
      "16     0.260336      0.27442  0.088471\n",
      "Tue Sep  1 16:18:20 2020 MultiBanditsActiveLearning query round: 18\n",
      "Strategy Chosen: 4 RepresentativeSampling\n"
     ]
    },
    {
     "name": "stderr",
     "output_type": "stream",
     "text": [
      "C:\\Users\\Wan Jing\\Documents\\libact-torch\\libact\\query_strategies\\representative_sampling.py:147: UserWarning: To copy construct from a tensor, it is recommended to use sourceTensor.clone().detach() or sourceTensor.clone().detach().requires_grad_(True), rather than torch.tensor(sourceTensor).\n",
      "  x = torch.tensor(x).to(self.device)\n",
      "C:\\Users\\Wan Jing\\Documents\\libact-torch\\libact\\query_strategies\\representative_sampling.py:147: UserWarning: To copy construct from a tensor, it is recommended to use sourceTensor.clone().detach() or sourceTensor.clone().detach().requires_grad_(True), rather than torch.tensor(sourceTensor).\n",
      "  x = torch.tensor(x).to(self.device)\n",
      "C:\\Users\\Wan Jing\\Documents\\libact-torch\\libact\\query_strategies\\random_sampling.py:86: UserWarning: To copy construct from a tensor, it is recommended to use sourceTensor.clone().detach() or sourceTensor.clone().detach().requires_grad_(True), rather than torch.tensor(sourceTensor).\n",
      "  ex = torch.tensor(self.dataset.data[self.queried_hist_[-1]][0]).to(self.device)\n",
      "C:\\Users\\Wan Jing\\Documents\\libact-torch\\libact\\query_strategies\\uncertainty_sampling.py:149: UserWarning: To copy construct from a tensor, it is recommended to use sourceTensor.clone().detach() or sourceTensor.clone().detach().requires_grad_(True), rather than torch.tensor(sourceTensor).\n",
      "  ex = torch.tensor(self.dataset.data[self.queried_hist_[-1]][0]).to(self.device)\n",
      "C:\\Users\\Wan Jing\\Documents\\libact-torch\\libact\\query_strategies\\representative_sampling.py:113: UserWarning: To copy construct from a tensor, it is recommended to use sourceTensor.clone().detach() or sourceTensor.clone().detach().requires_grad_(True), rather than torch.tensor(sourceTensor).\n",
      "  ex = torch.tensor(self.dataset.data[self.queried_hist_[-1]][0]).to(self.device)\n",
      "C:\\Users\\Wan Jing\\Documents\\libact-torch\\libact\\query_strategies\\multi_bandits_active_learning.py:227: UserWarning: To copy construct from a tensor, it is recommended to use sourceTensor.clone().detach() or sourceTensor.clone().detach().requires_grad_(True), rather than torch.tensor(sourceTensor).\n",
      "  ex = torch.tensor(self.dataset.data[self.queried_hist_[-1]][0]).to(self.device)\n",
      "C:\\Users\\Wan Jing\\.conda\\envs\\deepCB\\lib\\site-packages\\sklearn\\metrics\\_classification.py:1221: UndefinedMetricWarning: Precision is ill-defined and being set to 0.0 in labels with no predicted samples. Use `zero_division` parameter to control this behavior.\n",
      "  _warn_prf(average, modifier, msg_start, len(result))\n"
     ]
    },
    {
     "name": "stdout",
     "output_type": "stream",
     "text": [
      "    labeled_acc  testing_acc    reward\n",
      "17      0.25933     0.271978  0.100376\n",
      "Tue Sep  1 16:18:40 2020 MultiBanditsActiveLearning query round: 19\n",
      "Strategy Chosen: 0 RandomSampling\n"
     ]
    },
    {
     "name": "stderr",
     "output_type": "stream",
     "text": [
      "C:\\Users\\Wan Jing\\Documents\\libact-torch\\libact\\query_strategies\\random_sampling.py:86: UserWarning: To copy construct from a tensor, it is recommended to use sourceTensor.clone().detach() or sourceTensor.clone().detach().requires_grad_(True), rather than torch.tensor(sourceTensor).\n",
      "  ex = torch.tensor(self.dataset.data[self.queried_hist_[-1]][0]).to(self.device)\n",
      "C:\\Users\\Wan Jing\\Documents\\libact-torch\\libact\\query_strategies\\uncertainty_sampling.py:149: UserWarning: To copy construct from a tensor, it is recommended to use sourceTensor.clone().detach() or sourceTensor.clone().detach().requires_grad_(True), rather than torch.tensor(sourceTensor).\n",
      "  ex = torch.tensor(self.dataset.data[self.queried_hist_[-1]][0]).to(self.device)\n",
      "C:\\Users\\Wan Jing\\Documents\\libact-torch\\libact\\query_strategies\\representative_sampling.py:113: UserWarning: To copy construct from a tensor, it is recommended to use sourceTensor.clone().detach() or sourceTensor.clone().detach().requires_grad_(True), rather than torch.tensor(sourceTensor).\n",
      "  ex = torch.tensor(self.dataset.data[self.queried_hist_[-1]][0]).to(self.device)\n",
      "C:\\Users\\Wan Jing\\Documents\\libact-torch\\libact\\query_strategies\\multi_bandits_active_learning.py:227: UserWarning: To copy construct from a tensor, it is recommended to use sourceTensor.clone().detach() or sourceTensor.clone().detach().requires_grad_(True), rather than torch.tensor(sourceTensor).\n",
      "  ex = torch.tensor(self.dataset.data[self.queried_hist_[-1]][0]).to(self.device)\n",
      "C:\\Users\\Wan Jing\\.conda\\envs\\deepCB\\lib\\site-packages\\sklearn\\metrics\\_classification.py:1221: UndefinedMetricWarning: Precision is ill-defined and being set to 0.0 in labels with no predicted samples. Use `zero_division` parameter to control this behavior.\n",
      "  _warn_prf(average, modifier, msg_start, len(result))\n"
     ]
    },
    {
     "name": "stdout",
     "output_type": "stream",
     "text": [
      "    labeled_acc  testing_acc   reward\n",
      "18     0.286158     0.271978  0.13645\n",
      "Tue Sep  1 16:18:46 2020 MultiBanditsActiveLearning query round: 20\n",
      "Strategy Chosen: 0 RandomSampling\n"
     ]
    },
    {
     "name": "stderr",
     "output_type": "stream",
     "text": [
      "C:\\Users\\Wan Jing\\Documents\\libact-torch\\libact\\query_strategies\\random_sampling.py:86: UserWarning: To copy construct from a tensor, it is recommended to use sourceTensor.clone().detach() or sourceTensor.clone().detach().requires_grad_(True), rather than torch.tensor(sourceTensor).\n",
      "  ex = torch.tensor(self.dataset.data[self.queried_hist_[-1]][0]).to(self.device)\n",
      "C:\\Users\\Wan Jing\\Documents\\libact-torch\\libact\\query_strategies\\uncertainty_sampling.py:149: UserWarning: To copy construct from a tensor, it is recommended to use sourceTensor.clone().detach() or sourceTensor.clone().detach().requires_grad_(True), rather than torch.tensor(sourceTensor).\n",
      "  ex = torch.tensor(self.dataset.data[self.queried_hist_[-1]][0]).to(self.device)\n",
      "C:\\Users\\Wan Jing\\Documents\\libact-torch\\libact\\query_strategies\\representative_sampling.py:113: UserWarning: To copy construct from a tensor, it is recommended to use sourceTensor.clone().detach() or sourceTensor.clone().detach().requires_grad_(True), rather than torch.tensor(sourceTensor).\n",
      "  ex = torch.tensor(self.dataset.data[self.queried_hist_[-1]][0]).to(self.device)\n",
      "C:\\Users\\Wan Jing\\Documents\\libact-torch\\libact\\query_strategies\\multi_bandits_active_learning.py:227: UserWarning: To copy construct from a tensor, it is recommended to use sourceTensor.clone().detach() or sourceTensor.clone().detach().requires_grad_(True), rather than torch.tensor(sourceTensor).\n",
      "  ex = torch.tensor(self.dataset.data[self.queried_hist_[-1]][0]).to(self.device)\n",
      "C:\\Users\\Wan Jing\\.conda\\envs\\deepCB\\lib\\site-packages\\sklearn\\metrics\\_classification.py:1221: UndefinedMetricWarning: Precision is ill-defined and being set to 0.0 in labels with no predicted samples. Use `zero_division` parameter to control this behavior.\n",
      "  _warn_prf(average, modifier, msg_start, len(result))\n"
     ]
    },
    {
     "name": "stdout",
     "output_type": "stream",
     "text": [
      "    labeled_acc  testing_acc    reward\n",
      "19     0.281973      0.27381  0.120414\n",
      "Tue Sep  1 16:18:51 2020 MultiBanditsActiveLearning query round: 21\n",
      "Strategy Chosen: 0 RandomSampling\n"
     ]
    },
    {
     "name": "stderr",
     "output_type": "stream",
     "text": [
      "C:\\Users\\Wan Jing\\Documents\\libact-torch\\libact\\query_strategies\\random_sampling.py:86: UserWarning: To copy construct from a tensor, it is recommended to use sourceTensor.clone().detach() or sourceTensor.clone().detach().requires_grad_(True), rather than torch.tensor(sourceTensor).\n",
      "  ex = torch.tensor(self.dataset.data[self.queried_hist_[-1]][0]).to(self.device)\n",
      "C:\\Users\\Wan Jing\\Documents\\libact-torch\\libact\\query_strategies\\uncertainty_sampling.py:149: UserWarning: To copy construct from a tensor, it is recommended to use sourceTensor.clone().detach() or sourceTensor.clone().detach().requires_grad_(True), rather than torch.tensor(sourceTensor).\n",
      "  ex = torch.tensor(self.dataset.data[self.queried_hist_[-1]][0]).to(self.device)\n",
      "C:\\Users\\Wan Jing\\Documents\\libact-torch\\libact\\query_strategies\\representative_sampling.py:113: UserWarning: To copy construct from a tensor, it is recommended to use sourceTensor.clone().detach() or sourceTensor.clone().detach().requires_grad_(True), rather than torch.tensor(sourceTensor).\n",
      "  ex = torch.tensor(self.dataset.data[self.queried_hist_[-1]][0]).to(self.device)\n",
      "C:\\Users\\Wan Jing\\Documents\\libact-torch\\libact\\query_strategies\\multi_bandits_active_learning.py:227: UserWarning: To copy construct from a tensor, it is recommended to use sourceTensor.clone().detach() or sourceTensor.clone().detach().requires_grad_(True), rather than torch.tensor(sourceTensor).\n",
      "  ex = torch.tensor(self.dataset.data[self.queried_hist_[-1]][0]).to(self.device)\n",
      "C:\\Users\\Wan Jing\\.conda\\envs\\deepCB\\lib\\site-packages\\sklearn\\metrics\\_classification.py:1221: UndefinedMetricWarning: Precision is ill-defined and being set to 0.0 in labels with no predicted samples. Use `zero_division` parameter to control this behavior.\n",
      "  _warn_prf(average, modifier, msg_start, len(result))\n"
     ]
    },
    {
     "name": "stdout",
     "output_type": "stream",
     "text": [
      "    labeled_acc  testing_acc    reward\n",
      "20     0.271694     0.271368  0.109728\n",
      "Tue Sep  1 16:18:56 2020 MultiBanditsActiveLearning query round: 22\n",
      "Strategy Chosen: 0 RandomSampling\n"
     ]
    },
    {
     "name": "stderr",
     "output_type": "stream",
     "text": [
      "C:\\Users\\Wan Jing\\Documents\\libact-torch\\libact\\query_strategies\\random_sampling.py:86: UserWarning: To copy construct from a tensor, it is recommended to use sourceTensor.clone().detach() or sourceTensor.clone().detach().requires_grad_(True), rather than torch.tensor(sourceTensor).\n",
      "  ex = torch.tensor(self.dataset.data[self.queried_hist_[-1]][0]).to(self.device)\n",
      "C:\\Users\\Wan Jing\\Documents\\libact-torch\\libact\\query_strategies\\uncertainty_sampling.py:149: UserWarning: To copy construct from a tensor, it is recommended to use sourceTensor.clone().detach() or sourceTensor.clone().detach().requires_grad_(True), rather than torch.tensor(sourceTensor).\n",
      "  ex = torch.tensor(self.dataset.data[self.queried_hist_[-1]][0]).to(self.device)\n",
      "C:\\Users\\Wan Jing\\Documents\\libact-torch\\libact\\query_strategies\\representative_sampling.py:113: UserWarning: To copy construct from a tensor, it is recommended to use sourceTensor.clone().detach() or sourceTensor.clone().detach().requires_grad_(True), rather than torch.tensor(sourceTensor).\n",
      "  ex = torch.tensor(self.dataset.data[self.queried_hist_[-1]][0]).to(self.device)\n",
      "C:\\Users\\Wan Jing\\Documents\\libact-torch\\libact\\query_strategies\\multi_bandits_active_learning.py:227: UserWarning: To copy construct from a tensor, it is recommended to use sourceTensor.clone().detach() or sourceTensor.clone().detach().requires_grad_(True), rather than torch.tensor(sourceTensor).\n",
      "  ex = torch.tensor(self.dataset.data[self.queried_hist_[-1]][0]).to(self.device)\n",
      "C:\\Users\\Wan Jing\\.conda\\envs\\deepCB\\lib\\site-packages\\sklearn\\metrics\\_classification.py:1221: UndefinedMetricWarning: Precision is ill-defined and being set to 0.0 in labels with no predicted samples. Use `zero_division` parameter to control this behavior.\n",
      "  _warn_prf(average, modifier, msg_start, len(result))\n"
     ]
    },
    {
     "name": "stdout",
     "output_type": "stream",
     "text": [
      "    labeled_acc  testing_acc    reward\n",
      "21      0.28136     0.275641  0.139857\n",
      "Tue Sep  1 16:19:02 2020 MultiBanditsActiveLearning query round: 23\n",
      "Strategy Chosen: 2 UncertaintySampling\n"
     ]
    },
    {
     "name": "stderr",
     "output_type": "stream",
     "text": [
      "C:\\Users\\Wan Jing\\Documents\\libact-torch\\libact\\query_strategies\\random_sampling.py:86: UserWarning: To copy construct from a tensor, it is recommended to use sourceTensor.clone().detach() or sourceTensor.clone().detach().requires_grad_(True), rather than torch.tensor(sourceTensor).\n",
      "  ex = torch.tensor(self.dataset.data[self.queried_hist_[-1]][0]).to(self.device)\n",
      "C:\\Users\\Wan Jing\\Documents\\libact-torch\\libact\\query_strategies\\uncertainty_sampling.py:149: UserWarning: To copy construct from a tensor, it is recommended to use sourceTensor.clone().detach() or sourceTensor.clone().detach().requires_grad_(True), rather than torch.tensor(sourceTensor).\n",
      "  ex = torch.tensor(self.dataset.data[self.queried_hist_[-1]][0]).to(self.device)\n",
      "C:\\Users\\Wan Jing\\Documents\\libact-torch\\libact\\query_strategies\\representative_sampling.py:113: UserWarning: To copy construct from a tensor, it is recommended to use sourceTensor.clone().detach() or sourceTensor.clone().detach().requires_grad_(True), rather than torch.tensor(sourceTensor).\n",
      "  ex = torch.tensor(self.dataset.data[self.queried_hist_[-1]][0]).to(self.device)\n",
      "C:\\Users\\Wan Jing\\Documents\\libact-torch\\libact\\query_strategies\\multi_bandits_active_learning.py:227: UserWarning: To copy construct from a tensor, it is recommended to use sourceTensor.clone().detach() or sourceTensor.clone().detach().requires_grad_(True), rather than torch.tensor(sourceTensor).\n",
      "  ex = torch.tensor(self.dataset.data[self.queried_hist_[-1]][0]).to(self.device)\n",
      "C:\\Users\\Wan Jing\\.conda\\envs\\deepCB\\lib\\site-packages\\sklearn\\metrics\\_classification.py:1221: UndefinedMetricWarning: Precision is ill-defined and being set to 0.0 in labels with no predicted samples. Use `zero_division` parameter to control this behavior.\n",
      "  _warn_prf(average, modifier, msg_start, len(result))\n"
     ]
    },
    {
     "name": "stdout",
     "output_type": "stream",
     "text": [
      "    labeled_acc  testing_acc    reward\n",
      "22     0.285796     0.278388  0.142779\n",
      "Tue Sep  1 16:19:16 2020 MultiBanditsActiveLearning query round: 24\n",
      "Strategy Chosen: 4 RepresentativeSampling\n"
     ]
    },
    {
     "name": "stderr",
     "output_type": "stream",
     "text": [
      "C:\\Users\\Wan Jing\\Documents\\libact-torch\\libact\\query_strategies\\representative_sampling.py:147: UserWarning: To copy construct from a tensor, it is recommended to use sourceTensor.clone().detach() or sourceTensor.clone().detach().requires_grad_(True), rather than torch.tensor(sourceTensor).\n",
      "  x = torch.tensor(x).to(self.device)\n",
      "C:\\Users\\Wan Jing\\Documents\\libact-torch\\libact\\query_strategies\\representative_sampling.py:147: UserWarning: To copy construct from a tensor, it is recommended to use sourceTensor.clone().detach() or sourceTensor.clone().detach().requires_grad_(True), rather than torch.tensor(sourceTensor).\n",
      "  x = torch.tensor(x).to(self.device)\n",
      "C:\\Users\\Wan Jing\\Documents\\libact-torch\\libact\\query_strategies\\random_sampling.py:86: UserWarning: To copy construct from a tensor, it is recommended to use sourceTensor.clone().detach() or sourceTensor.clone().detach().requires_grad_(True), rather than torch.tensor(sourceTensor).\n",
      "  ex = torch.tensor(self.dataset.data[self.queried_hist_[-1]][0]).to(self.device)\n",
      "C:\\Users\\Wan Jing\\Documents\\libact-torch\\libact\\query_strategies\\uncertainty_sampling.py:149: UserWarning: To copy construct from a tensor, it is recommended to use sourceTensor.clone().detach() or sourceTensor.clone().detach().requires_grad_(True), rather than torch.tensor(sourceTensor).\n",
      "  ex = torch.tensor(self.dataset.data[self.queried_hist_[-1]][0]).to(self.device)\n",
      "C:\\Users\\Wan Jing\\Documents\\libact-torch\\libact\\query_strategies\\representative_sampling.py:113: UserWarning: To copy construct from a tensor, it is recommended to use sourceTensor.clone().detach() or sourceTensor.clone().detach().requires_grad_(True), rather than torch.tensor(sourceTensor).\n",
      "  ex = torch.tensor(self.dataset.data[self.queried_hist_[-1]][0]).to(self.device)\n",
      "C:\\Users\\Wan Jing\\Documents\\libact-torch\\libact\\query_strategies\\multi_bandits_active_learning.py:227: UserWarning: To copy construct from a tensor, it is recommended to use sourceTensor.clone().detach() or sourceTensor.clone().detach().requires_grad_(True), rather than torch.tensor(sourceTensor).\n",
      "  ex = torch.tensor(self.dataset.data[self.queried_hist_[-1]][0]).to(self.device)\n",
      "C:\\Users\\Wan Jing\\.conda\\envs\\deepCB\\lib\\site-packages\\sklearn\\metrics\\_classification.py:1221: UndefinedMetricWarning: Precision is ill-defined and being set to 0.0 in labels with no predicted samples. Use `zero_division` parameter to control this behavior.\n",
      "  _warn_prf(average, modifier, msg_start, len(result))\n"
     ]
    },
    {
     "name": "stdout",
     "output_type": "stream",
     "text": [
      "    labeled_acc  testing_acc    reward\n",
      "23     0.284828     0.279915  0.149321\n",
      "Tue Sep  1 16:19:37 2020 MultiBanditsActiveLearning query round: 25\n",
      "Strategy Chosen: 1 UncertaintySampling\n"
     ]
    },
    {
     "name": "stderr",
     "output_type": "stream",
     "text": [
      "C:\\Users\\Wan Jing\\Documents\\libact-torch\\libact\\query_strategies\\random_sampling.py:86: UserWarning: To copy construct from a tensor, it is recommended to use sourceTensor.clone().detach() or sourceTensor.clone().detach().requires_grad_(True), rather than torch.tensor(sourceTensor).\n",
      "  ex = torch.tensor(self.dataset.data[self.queried_hist_[-1]][0]).to(self.device)\n",
      "C:\\Users\\Wan Jing\\Documents\\libact-torch\\libact\\query_strategies\\uncertainty_sampling.py:149: UserWarning: To copy construct from a tensor, it is recommended to use sourceTensor.clone().detach() or sourceTensor.clone().detach().requires_grad_(True), rather than torch.tensor(sourceTensor).\n",
      "  ex = torch.tensor(self.dataset.data[self.queried_hist_[-1]][0]).to(self.device)\n",
      "C:\\Users\\Wan Jing\\Documents\\libact-torch\\libact\\query_strategies\\representative_sampling.py:113: UserWarning: To copy construct from a tensor, it is recommended to use sourceTensor.clone().detach() or sourceTensor.clone().detach().requires_grad_(True), rather than torch.tensor(sourceTensor).\n",
      "  ex = torch.tensor(self.dataset.data[self.queried_hist_[-1]][0]).to(self.device)\n",
      "C:\\Users\\Wan Jing\\Documents\\libact-torch\\libact\\query_strategies\\multi_bandits_active_learning.py:227: UserWarning: To copy construct from a tensor, it is recommended to use sourceTensor.clone().detach() or sourceTensor.clone().detach().requires_grad_(True), rather than torch.tensor(sourceTensor).\n",
      "  ex = torch.tensor(self.dataset.data[self.queried_hist_[-1]][0]).to(self.device)\n",
      "C:\\Users\\Wan Jing\\.conda\\envs\\deepCB\\lib\\site-packages\\sklearn\\metrics\\_classification.py:1221: UndefinedMetricWarning: Precision is ill-defined and being set to 0.0 in labels with no predicted samples. Use `zero_division` parameter to control this behavior.\n",
      "  _warn_prf(average, modifier, msg_start, len(result))\n"
     ]
    },
    {
     "name": "stdout",
     "output_type": "stream",
     "text": [
      "    labeled_acc  testing_acc  reward\n",
      "24      0.27081      0.28083  0.1177\n",
      "Tue Sep  1 16:19:52 2020 MultiBanditsActiveLearning query round: 26\n",
      "Strategy Chosen: 3 UncertaintySampling\n"
     ]
    },
    {
     "name": "stderr",
     "output_type": "stream",
     "text": [
      "C:\\Users\\Wan Jing\\Documents\\libact-torch\\libact\\query_strategies\\random_sampling.py:86: UserWarning: To copy construct from a tensor, it is recommended to use sourceTensor.clone().detach() or sourceTensor.clone().detach().requires_grad_(True), rather than torch.tensor(sourceTensor).\n",
      "  ex = torch.tensor(self.dataset.data[self.queried_hist_[-1]][0]).to(self.device)\n",
      "C:\\Users\\Wan Jing\\Documents\\libact-torch\\libact\\query_strategies\\uncertainty_sampling.py:149: UserWarning: To copy construct from a tensor, it is recommended to use sourceTensor.clone().detach() or sourceTensor.clone().detach().requires_grad_(True), rather than torch.tensor(sourceTensor).\n",
      "  ex = torch.tensor(self.dataset.data[self.queried_hist_[-1]][0]).to(self.device)\n",
      "C:\\Users\\Wan Jing\\Documents\\libact-torch\\libact\\query_strategies\\representative_sampling.py:113: UserWarning: To copy construct from a tensor, it is recommended to use sourceTensor.clone().detach() or sourceTensor.clone().detach().requires_grad_(True), rather than torch.tensor(sourceTensor).\n",
      "  ex = torch.tensor(self.dataset.data[self.queried_hist_[-1]][0]).to(self.device)\n",
      "C:\\Users\\Wan Jing\\Documents\\libact-torch\\libact\\query_strategies\\multi_bandits_active_learning.py:227: UserWarning: To copy construct from a tensor, it is recommended to use sourceTensor.clone().detach() or sourceTensor.clone().detach().requires_grad_(True), rather than torch.tensor(sourceTensor).\n",
      "  ex = torch.tensor(self.dataset.data[self.queried_hist_[-1]][0]).to(self.device)\n",
      "C:\\Users\\Wan Jing\\.conda\\envs\\deepCB\\lib\\site-packages\\sklearn\\metrics\\_classification.py:1221: UndefinedMetricWarning: Precision is ill-defined and being set to 0.0 in labels with no predicted samples. Use `zero_division` parameter to control this behavior.\n",
      "  _warn_prf(average, modifier, msg_start, len(result))\n"
     ]
    },
    {
     "name": "stdout",
     "output_type": "stream",
     "text": [
      "    labeled_acc  testing_acc   reward\n",
      "25     0.272926      0.28022  0.13912\n",
      "Tue Sep  1 16:20:06 2020 MultiBanditsActiveLearning query round: 27\n",
      "Strategy Chosen: 0 RandomSampling\n"
     ]
    },
    {
     "name": "stderr",
     "output_type": "stream",
     "text": [
      "C:\\Users\\Wan Jing\\Documents\\libact-torch\\libact\\query_strategies\\random_sampling.py:86: UserWarning: To copy construct from a tensor, it is recommended to use sourceTensor.clone().detach() or sourceTensor.clone().detach().requires_grad_(True), rather than torch.tensor(sourceTensor).\n",
      "  ex = torch.tensor(self.dataset.data[self.queried_hist_[-1]][0]).to(self.device)\n",
      "C:\\Users\\Wan Jing\\Documents\\libact-torch\\libact\\query_strategies\\uncertainty_sampling.py:149: UserWarning: To copy construct from a tensor, it is recommended to use sourceTensor.clone().detach() or sourceTensor.clone().detach().requires_grad_(True), rather than torch.tensor(sourceTensor).\n",
      "  ex = torch.tensor(self.dataset.data[self.queried_hist_[-1]][0]).to(self.device)\n",
      "C:\\Users\\Wan Jing\\Documents\\libact-torch\\libact\\query_strategies\\representative_sampling.py:113: UserWarning: To copy construct from a tensor, it is recommended to use sourceTensor.clone().detach() or sourceTensor.clone().detach().requires_grad_(True), rather than torch.tensor(sourceTensor).\n",
      "  ex = torch.tensor(self.dataset.data[self.queried_hist_[-1]][0]).to(self.device)\n",
      "C:\\Users\\Wan Jing\\Documents\\libact-torch\\libact\\query_strategies\\multi_bandits_active_learning.py:227: UserWarning: To copy construct from a tensor, it is recommended to use sourceTensor.clone().detach() or sourceTensor.clone().detach().requires_grad_(True), rather than torch.tensor(sourceTensor).\n",
      "  ex = torch.tensor(self.dataset.data[self.queried_hist_[-1]][0]).to(self.device)\n",
      "C:\\Users\\Wan Jing\\.conda\\envs\\deepCB\\lib\\site-packages\\sklearn\\metrics\\_classification.py:1221: UndefinedMetricWarning: Precision is ill-defined and being set to 0.0 in labels with no predicted samples. Use `zero_division` parameter to control this behavior.\n",
      "  _warn_prf(average, modifier, msg_start, len(result))\n"
     ]
    },
    {
     "name": "stdout",
     "output_type": "stream",
     "text": [
      "    labeled_acc  testing_acc    reward\n",
      "26     0.284335     0.283578  0.170045\n",
      "Tue Sep  1 16:20:11 2020 MultiBanditsActiveLearning query round: 28\n",
      "Strategy Chosen: 3 UncertaintySampling\n"
     ]
    },
    {
     "name": "stderr",
     "output_type": "stream",
     "text": [
      "C:\\Users\\Wan Jing\\Documents\\libact-torch\\libact\\query_strategies\\random_sampling.py:86: UserWarning: To copy construct from a tensor, it is recommended to use sourceTensor.clone().detach() or sourceTensor.clone().detach().requires_grad_(True), rather than torch.tensor(sourceTensor).\n",
      "  ex = torch.tensor(self.dataset.data[self.queried_hist_[-1]][0]).to(self.device)\n",
      "C:\\Users\\Wan Jing\\Documents\\libact-torch\\libact\\query_strategies\\uncertainty_sampling.py:149: UserWarning: To copy construct from a tensor, it is recommended to use sourceTensor.clone().detach() or sourceTensor.clone().detach().requires_grad_(True), rather than torch.tensor(sourceTensor).\n",
      "  ex = torch.tensor(self.dataset.data[self.queried_hist_[-1]][0]).to(self.device)\n",
      "C:\\Users\\Wan Jing\\Documents\\libact-torch\\libact\\query_strategies\\representative_sampling.py:113: UserWarning: To copy construct from a tensor, it is recommended to use sourceTensor.clone().detach() or sourceTensor.clone().detach().requires_grad_(True), rather than torch.tensor(sourceTensor).\n",
      "  ex = torch.tensor(self.dataset.data[self.queried_hist_[-1]][0]).to(self.device)\n",
      "C:\\Users\\Wan Jing\\Documents\\libact-torch\\libact\\query_strategies\\multi_bandits_active_learning.py:227: UserWarning: To copy construct from a tensor, it is recommended to use sourceTensor.clone().detach() or sourceTensor.clone().detach().requires_grad_(True), rather than torch.tensor(sourceTensor).\n",
      "  ex = torch.tensor(self.dataset.data[self.queried_hist_[-1]][0]).to(self.device)\n",
      "C:\\Users\\Wan Jing\\.conda\\envs\\deepCB\\lib\\site-packages\\sklearn\\metrics\\_classification.py:1221: UndefinedMetricWarning: Precision is ill-defined and being set to 0.0 in labels with no predicted samples. Use `zero_division` parameter to control this behavior.\n",
      "  _warn_prf(average, modifier, msg_start, len(result))\n"
     ]
    },
    {
     "name": "stdout",
     "output_type": "stream",
     "text": [
      "    labeled_acc  testing_acc    reward\n",
      "27     0.286769     0.279915  0.155807\n",
      "Tue Sep  1 16:20:26 2020 MultiBanditsActiveLearning query round: 29\n",
      "Strategy Chosen: 4 RepresentativeSampling\n"
     ]
    },
    {
     "name": "stderr",
     "output_type": "stream",
     "text": [
      "C:\\Users\\Wan Jing\\Documents\\libact-torch\\libact\\query_strategies\\representative_sampling.py:147: UserWarning: To copy construct from a tensor, it is recommended to use sourceTensor.clone().detach() or sourceTensor.clone().detach().requires_grad_(True), rather than torch.tensor(sourceTensor).\n",
      "  x = torch.tensor(x).to(self.device)\n",
      "C:\\Users\\Wan Jing\\Documents\\libact-torch\\libact\\query_strategies\\representative_sampling.py:147: UserWarning: To copy construct from a tensor, it is recommended to use sourceTensor.clone().detach() or sourceTensor.clone().detach().requires_grad_(True), rather than torch.tensor(sourceTensor).\n",
      "  x = torch.tensor(x).to(self.device)\n",
      "C:\\Users\\Wan Jing\\Documents\\libact-torch\\libact\\query_strategies\\random_sampling.py:86: UserWarning: To copy construct from a tensor, it is recommended to use sourceTensor.clone().detach() or sourceTensor.clone().detach().requires_grad_(True), rather than torch.tensor(sourceTensor).\n",
      "  ex = torch.tensor(self.dataset.data[self.queried_hist_[-1]][0]).to(self.device)\n",
      "C:\\Users\\Wan Jing\\Documents\\libact-torch\\libact\\query_strategies\\uncertainty_sampling.py:149: UserWarning: To copy construct from a tensor, it is recommended to use sourceTensor.clone().detach() or sourceTensor.clone().detach().requires_grad_(True), rather than torch.tensor(sourceTensor).\n",
      "  ex = torch.tensor(self.dataset.data[self.queried_hist_[-1]][0]).to(self.device)\n",
      "C:\\Users\\Wan Jing\\Documents\\libact-torch\\libact\\query_strategies\\representative_sampling.py:113: UserWarning: To copy construct from a tensor, it is recommended to use sourceTensor.clone().detach() or sourceTensor.clone().detach().requires_grad_(True), rather than torch.tensor(sourceTensor).\n",
      "  ex = torch.tensor(self.dataset.data[self.queried_hist_[-1]][0]).to(self.device)\n",
      "C:\\Users\\Wan Jing\\Documents\\libact-torch\\libact\\query_strategies\\multi_bandits_active_learning.py:227: UserWarning: To copy construct from a tensor, it is recommended to use sourceTensor.clone().detach() or sourceTensor.clone().detach().requires_grad_(True), rather than torch.tensor(sourceTensor).\n",
      "  ex = torch.tensor(self.dataset.data[self.queried_hist_[-1]][0]).to(self.device)\n",
      "C:\\Users\\Wan Jing\\.conda\\envs\\deepCB\\lib\\site-packages\\sklearn\\metrics\\_classification.py:1221: UndefinedMetricWarning: Precision is ill-defined and being set to 0.0 in labels with no predicted samples. Use `zero_division` parameter to control this behavior.\n",
      "  _warn_prf(average, modifier, msg_start, len(result))\n"
     ]
    },
    {
     "name": "stdout",
     "output_type": "stream",
     "text": [
      "    labeled_acc  testing_acc   reward\n",
      "28     0.297927     0.289988  0.19754\n",
      "Tue Sep  1 16:20:48 2020 MultiBanditsActiveLearning query round: 30\n",
      "Strategy Chosen: 0 RandomSampling\n"
     ]
    },
    {
     "name": "stderr",
     "output_type": "stream",
     "text": [
      "C:\\Users\\Wan Jing\\Documents\\libact-torch\\libact\\query_strategies\\random_sampling.py:86: UserWarning: To copy construct from a tensor, it is recommended to use sourceTensor.clone().detach() or sourceTensor.clone().detach().requires_grad_(True), rather than torch.tensor(sourceTensor).\n",
      "  ex = torch.tensor(self.dataset.data[self.queried_hist_[-1]][0]).to(self.device)\n",
      "C:\\Users\\Wan Jing\\Documents\\libact-torch\\libact\\query_strategies\\uncertainty_sampling.py:149: UserWarning: To copy construct from a tensor, it is recommended to use sourceTensor.clone().detach() or sourceTensor.clone().detach().requires_grad_(True), rather than torch.tensor(sourceTensor).\n",
      "  ex = torch.tensor(self.dataset.data[self.queried_hist_[-1]][0]).to(self.device)\n",
      "C:\\Users\\Wan Jing\\Documents\\libact-torch\\libact\\query_strategies\\representative_sampling.py:113: UserWarning: To copy construct from a tensor, it is recommended to use sourceTensor.clone().detach() or sourceTensor.clone().detach().requires_grad_(True), rather than torch.tensor(sourceTensor).\n",
      "  ex = torch.tensor(self.dataset.data[self.queried_hist_[-1]][0]).to(self.device)\n",
      "C:\\Users\\Wan Jing\\Documents\\libact-torch\\libact\\query_strategies\\multi_bandits_active_learning.py:227: UserWarning: To copy construct from a tensor, it is recommended to use sourceTensor.clone().detach() or sourceTensor.clone().detach().requires_grad_(True), rather than torch.tensor(sourceTensor).\n",
      "  ex = torch.tensor(self.dataset.data[self.queried_hist_[-1]][0]).to(self.device)\n",
      "C:\\Users\\Wan Jing\\.conda\\envs\\deepCB\\lib\\site-packages\\sklearn\\metrics\\_classification.py:1221: UndefinedMetricWarning: Precision is ill-defined and being set to 0.0 in labels with no predicted samples. Use `zero_division` parameter to control this behavior.\n",
      "  _warn_prf(average, modifier, msg_start, len(result))\n"
     ]
    },
    {
     "name": "stdout",
     "output_type": "stream",
     "text": [
      "    labeled_acc  testing_acc    reward\n",
      "29     0.301174     0.288767  0.185019\n",
      "Tue Sep  1 16:20:53 2020 MultiBanditsActiveLearning query round: 31\n",
      "Strategy Chosen: 0 RandomSampling\n"
     ]
    },
    {
     "name": "stderr",
     "output_type": "stream",
     "text": [
      "C:\\Users\\Wan Jing\\Documents\\libact-torch\\libact\\query_strategies\\random_sampling.py:86: UserWarning: To copy construct from a tensor, it is recommended to use sourceTensor.clone().detach() or sourceTensor.clone().detach().requires_grad_(True), rather than torch.tensor(sourceTensor).\n",
      "  ex = torch.tensor(self.dataset.data[self.queried_hist_[-1]][0]).to(self.device)\n",
      "C:\\Users\\Wan Jing\\Documents\\libact-torch\\libact\\query_strategies\\uncertainty_sampling.py:149: UserWarning: To copy construct from a tensor, it is recommended to use sourceTensor.clone().detach() or sourceTensor.clone().detach().requires_grad_(True), rather than torch.tensor(sourceTensor).\n",
      "  ex = torch.tensor(self.dataset.data[self.queried_hist_[-1]][0]).to(self.device)\n",
      "C:\\Users\\Wan Jing\\Documents\\libact-torch\\libact\\query_strategies\\representative_sampling.py:113: UserWarning: To copy construct from a tensor, it is recommended to use sourceTensor.clone().detach() or sourceTensor.clone().detach().requires_grad_(True), rather than torch.tensor(sourceTensor).\n",
      "  ex = torch.tensor(self.dataset.data[self.queried_hist_[-1]][0]).to(self.device)\n",
      "C:\\Users\\Wan Jing\\Documents\\libact-torch\\libact\\query_strategies\\multi_bandits_active_learning.py:227: UserWarning: To copy construct from a tensor, it is recommended to use sourceTensor.clone().detach() or sourceTensor.clone().detach().requires_grad_(True), rather than torch.tensor(sourceTensor).\n",
      "  ex = torch.tensor(self.dataset.data[self.queried_hist_[-1]][0]).to(self.device)\n",
      "C:\\Users\\Wan Jing\\.conda\\envs\\deepCB\\lib\\site-packages\\sklearn\\metrics\\_classification.py:1221: UndefinedMetricWarning: Precision is ill-defined and being set to 0.0 in labels with no predicted samples. Use `zero_division` parameter to control this behavior.\n",
      "  _warn_prf(average, modifier, msg_start, len(result))\n"
     ]
    },
    {
     "name": "stdout",
     "output_type": "stream",
     "text": [
      "    labeled_acc  testing_acc    reward\n",
      "30     0.301659     0.288156  0.182482\n",
      "Tue Sep  1 16:20:59 2020 MultiBanditsActiveLearning query round: 32\n",
      "Strategy Chosen: 1 UncertaintySampling\n"
     ]
    },
    {
     "name": "stderr",
     "output_type": "stream",
     "text": [
      "C:\\Users\\Wan Jing\\Documents\\libact-torch\\libact\\query_strategies\\random_sampling.py:86: UserWarning: To copy construct from a tensor, it is recommended to use sourceTensor.clone().detach() or sourceTensor.clone().detach().requires_grad_(True), rather than torch.tensor(sourceTensor).\n",
      "  ex = torch.tensor(self.dataset.data[self.queried_hist_[-1]][0]).to(self.device)\n",
      "C:\\Users\\Wan Jing\\Documents\\libact-torch\\libact\\query_strategies\\uncertainty_sampling.py:149: UserWarning: To copy construct from a tensor, it is recommended to use sourceTensor.clone().detach() or sourceTensor.clone().detach().requires_grad_(True), rather than torch.tensor(sourceTensor).\n",
      "  ex = torch.tensor(self.dataset.data[self.queried_hist_[-1]][0]).to(self.device)\n",
      "C:\\Users\\Wan Jing\\Documents\\libact-torch\\libact\\query_strategies\\representative_sampling.py:113: UserWarning: To copy construct from a tensor, it is recommended to use sourceTensor.clone().detach() or sourceTensor.clone().detach().requires_grad_(True), rather than torch.tensor(sourceTensor).\n",
      "  ex = torch.tensor(self.dataset.data[self.queried_hist_[-1]][0]).to(self.device)\n",
      "C:\\Users\\Wan Jing\\Documents\\libact-torch\\libact\\query_strategies\\multi_bandits_active_learning.py:227: UserWarning: To copy construct from a tensor, it is recommended to use sourceTensor.clone().detach() or sourceTensor.clone().detach().requires_grad_(True), rather than torch.tensor(sourceTensor).\n",
      "  ex = torch.tensor(self.dataset.data[self.queried_hist_[-1]][0]).to(self.device)\n",
      "C:\\Users\\Wan Jing\\.conda\\envs\\deepCB\\lib\\site-packages\\sklearn\\metrics\\_classification.py:1221: UndefinedMetricWarning: Precision is ill-defined and being set to 0.0 in labels with no predicted samples. Use `zero_division` parameter to control this behavior.\n",
      "  _warn_prf(average, modifier, msg_start, len(result))\n"
     ]
    },
    {
     "name": "stdout",
     "output_type": "stream",
     "text": [
      "    labeled_acc  testing_acc    reward\n",
      "31     0.297177     0.296093  0.197192\n",
      "Tue Sep  1 16:21:13 2020 MultiBanditsActiveLearning query round: 33\n",
      "Strategy Chosen: 4 RepresentativeSampling\n"
     ]
    },
    {
     "name": "stderr",
     "output_type": "stream",
     "text": [
      "C:\\Users\\Wan Jing\\Documents\\libact-torch\\libact\\query_strategies\\representative_sampling.py:147: UserWarning: To copy construct from a tensor, it is recommended to use sourceTensor.clone().detach() or sourceTensor.clone().detach().requires_grad_(True), rather than torch.tensor(sourceTensor).\n",
      "  x = torch.tensor(x).to(self.device)\n",
      "C:\\Users\\Wan Jing\\Documents\\libact-torch\\libact\\query_strategies\\representative_sampling.py:147: UserWarning: To copy construct from a tensor, it is recommended to use sourceTensor.clone().detach() or sourceTensor.clone().detach().requires_grad_(True), rather than torch.tensor(sourceTensor).\n",
      "  x = torch.tensor(x).to(self.device)\n",
      "C:\\Users\\Wan Jing\\Documents\\libact-torch\\libact\\query_strategies\\random_sampling.py:86: UserWarning: To copy construct from a tensor, it is recommended to use sourceTensor.clone().detach() or sourceTensor.clone().detach().requires_grad_(True), rather than torch.tensor(sourceTensor).\n",
      "  ex = torch.tensor(self.dataset.data[self.queried_hist_[-1]][0]).to(self.device)\n",
      "C:\\Users\\Wan Jing\\Documents\\libact-torch\\libact\\query_strategies\\uncertainty_sampling.py:149: UserWarning: To copy construct from a tensor, it is recommended to use sourceTensor.clone().detach() or sourceTensor.clone().detach().requires_grad_(True), rather than torch.tensor(sourceTensor).\n",
      "  ex = torch.tensor(self.dataset.data[self.queried_hist_[-1]][0]).to(self.device)\n",
      "C:\\Users\\Wan Jing\\Documents\\libact-torch\\libact\\query_strategies\\representative_sampling.py:113: UserWarning: To copy construct from a tensor, it is recommended to use sourceTensor.clone().detach() or sourceTensor.clone().detach().requires_grad_(True), rather than torch.tensor(sourceTensor).\n",
      "  ex = torch.tensor(self.dataset.data[self.queried_hist_[-1]][0]).to(self.device)\n",
      "C:\\Users\\Wan Jing\\Documents\\libact-torch\\libact\\query_strategies\\multi_bandits_active_learning.py:227: UserWarning: To copy construct from a tensor, it is recommended to use sourceTensor.clone().detach() or sourceTensor.clone().detach().requires_grad_(True), rather than torch.tensor(sourceTensor).\n",
      "  ex = torch.tensor(self.dataset.data[self.queried_hist_[-1]][0]).to(self.device)\n",
      "C:\\Users\\Wan Jing\\.conda\\envs\\deepCB\\lib\\site-packages\\sklearn\\metrics\\_classification.py:1221: UndefinedMetricWarning: Precision is ill-defined and being set to 0.0 in labels with no predicted samples. Use `zero_division` parameter to control this behavior.\n",
      "  _warn_prf(average, modifier, msg_start, len(result))\n"
     ]
    },
    {
     "name": "stdout",
     "output_type": "stream",
     "text": [
      "    labeled_acc  testing_acc   reward\n",
      "32     0.280137     0.290293  0.14413\n",
      "Tue Sep  1 16:21:35 2020 MultiBanditsActiveLearning query round: 34\n",
      "Strategy Chosen: 0 RandomSampling\n"
     ]
    },
    {
     "name": "stderr",
     "output_type": "stream",
     "text": [
      "C:\\Users\\Wan Jing\\Documents\\libact-torch\\libact\\query_strategies\\random_sampling.py:86: UserWarning: To copy construct from a tensor, it is recommended to use sourceTensor.clone().detach() or sourceTensor.clone().detach().requires_grad_(True), rather than torch.tensor(sourceTensor).\n",
      "  ex = torch.tensor(self.dataset.data[self.queried_hist_[-1]][0]).to(self.device)\n",
      "C:\\Users\\Wan Jing\\Documents\\libact-torch\\libact\\query_strategies\\uncertainty_sampling.py:149: UserWarning: To copy construct from a tensor, it is recommended to use sourceTensor.clone().detach() or sourceTensor.clone().detach().requires_grad_(True), rather than torch.tensor(sourceTensor).\n",
      "  ex = torch.tensor(self.dataset.data[self.queried_hist_[-1]][0]).to(self.device)\n",
      "C:\\Users\\Wan Jing\\Documents\\libact-torch\\libact\\query_strategies\\representative_sampling.py:113: UserWarning: To copy construct from a tensor, it is recommended to use sourceTensor.clone().detach() or sourceTensor.clone().detach().requires_grad_(True), rather than torch.tensor(sourceTensor).\n",
      "  ex = torch.tensor(self.dataset.data[self.queried_hist_[-1]][0]).to(self.device)\n",
      "C:\\Users\\Wan Jing\\Documents\\libact-torch\\libact\\query_strategies\\multi_bandits_active_learning.py:227: UserWarning: To copy construct from a tensor, it is recommended to use sourceTensor.clone().detach() or sourceTensor.clone().detach().requires_grad_(True), rather than torch.tensor(sourceTensor).\n",
      "  ex = torch.tensor(self.dataset.data[self.queried_hist_[-1]][0]).to(self.device)\n",
      "C:\\Users\\Wan Jing\\.conda\\envs\\deepCB\\lib\\site-packages\\sklearn\\metrics\\_classification.py:1221: UndefinedMetricWarning: Precision is ill-defined and being set to 0.0 in labels with no predicted samples. Use `zero_division` parameter to control this behavior.\n",
      "  _warn_prf(average, modifier, msg_start, len(result))\n"
     ]
    },
    {
     "name": "stdout",
     "output_type": "stream",
     "text": [
      "    labeled_acc  testing_acc    reward\n",
      "33     0.299375     0.301893  0.194671\n",
      "Tue Sep  1 16:21:41 2020 MultiBanditsActiveLearning query round: 35\n",
      "Strategy Chosen: 2 UncertaintySampling\n"
     ]
    },
    {
     "name": "stderr",
     "output_type": "stream",
     "text": [
      "C:\\Users\\Wan Jing\\Documents\\libact-torch\\libact\\query_strategies\\random_sampling.py:86: UserWarning: To copy construct from a tensor, it is recommended to use sourceTensor.clone().detach() or sourceTensor.clone().detach().requires_grad_(True), rather than torch.tensor(sourceTensor).\n",
      "  ex = torch.tensor(self.dataset.data[self.queried_hist_[-1]][0]).to(self.device)\n",
      "C:\\Users\\Wan Jing\\Documents\\libact-torch\\libact\\query_strategies\\uncertainty_sampling.py:149: UserWarning: To copy construct from a tensor, it is recommended to use sourceTensor.clone().detach() or sourceTensor.clone().detach().requires_grad_(True), rather than torch.tensor(sourceTensor).\n",
      "  ex = torch.tensor(self.dataset.data[self.queried_hist_[-1]][0]).to(self.device)\n",
      "C:\\Users\\Wan Jing\\Documents\\libact-torch\\libact\\query_strategies\\representative_sampling.py:113: UserWarning: To copy construct from a tensor, it is recommended to use sourceTensor.clone().detach() or sourceTensor.clone().detach().requires_grad_(True), rather than torch.tensor(sourceTensor).\n",
      "  ex = torch.tensor(self.dataset.data[self.queried_hist_[-1]][0]).to(self.device)\n",
      "C:\\Users\\Wan Jing\\Documents\\libact-torch\\libact\\query_strategies\\multi_bandits_active_learning.py:227: UserWarning: To copy construct from a tensor, it is recommended to use sourceTensor.clone().detach() or sourceTensor.clone().detach().requires_grad_(True), rather than torch.tensor(sourceTensor).\n",
      "  ex = torch.tensor(self.dataset.data[self.queried_hist_[-1]][0]).to(self.device)\n",
      "C:\\Users\\Wan Jing\\.conda\\envs\\deepCB\\lib\\site-packages\\sklearn\\metrics\\_classification.py:1221: UndefinedMetricWarning: Precision is ill-defined and being set to 0.0 in labels with no predicted samples. Use `zero_division` parameter to control this behavior.\n",
      "  _warn_prf(average, modifier, msg_start, len(result))\n"
     ]
    },
    {
     "name": "stdout",
     "output_type": "stream",
     "text": [
      "    labeled_acc  testing_acc    reward\n",
      "34      0.31247     0.303419  0.199484\n",
      "Tue Sep  1 16:21:55 2020 MultiBanditsActiveLearning query round: 36\n",
      "Strategy Chosen: 0 RandomSampling\n"
     ]
    },
    {
     "name": "stderr",
     "output_type": "stream",
     "text": [
      "C:\\Users\\Wan Jing\\Documents\\libact-torch\\libact\\query_strategies\\random_sampling.py:86: UserWarning: To copy construct from a tensor, it is recommended to use sourceTensor.clone().detach() or sourceTensor.clone().detach().requires_grad_(True), rather than torch.tensor(sourceTensor).\n",
      "  ex = torch.tensor(self.dataset.data[self.queried_hist_[-1]][0]).to(self.device)\n",
      "C:\\Users\\Wan Jing\\Documents\\libact-torch\\libact\\query_strategies\\uncertainty_sampling.py:149: UserWarning: To copy construct from a tensor, it is recommended to use sourceTensor.clone().detach() or sourceTensor.clone().detach().requires_grad_(True), rather than torch.tensor(sourceTensor).\n",
      "  ex = torch.tensor(self.dataset.data[self.queried_hist_[-1]][0]).to(self.device)\n",
      "C:\\Users\\Wan Jing\\Documents\\libact-torch\\libact\\query_strategies\\representative_sampling.py:113: UserWarning: To copy construct from a tensor, it is recommended to use sourceTensor.clone().detach() or sourceTensor.clone().detach().requires_grad_(True), rather than torch.tensor(sourceTensor).\n",
      "  ex = torch.tensor(self.dataset.data[self.queried_hist_[-1]][0]).to(self.device)\n",
      "C:\\Users\\Wan Jing\\Documents\\libact-torch\\libact\\query_strategies\\multi_bandits_active_learning.py:227: UserWarning: To copy construct from a tensor, it is recommended to use sourceTensor.clone().detach() or sourceTensor.clone().detach().requires_grad_(True), rather than torch.tensor(sourceTensor).\n",
      "  ex = torch.tensor(self.dataset.data[self.queried_hist_[-1]][0]).to(self.device)\n",
      "C:\\Users\\Wan Jing\\.conda\\envs\\deepCB\\lib\\site-packages\\sklearn\\metrics\\_classification.py:1221: UndefinedMetricWarning: Precision is ill-defined and being set to 0.0 in labels with no predicted samples. Use `zero_division` parameter to control this behavior.\n",
      "  _warn_prf(average, modifier, msg_start, len(result))\n"
     ]
    },
    {
     "name": "stdout",
     "output_type": "stream",
     "text": [
      "    labeled_acc  testing_acc    reward\n",
      "35     0.320429     0.306166  0.206961\n",
      "Tue Sep  1 16:22:01 2020 MultiBanditsActiveLearning query round: 37\n",
      "Strategy Chosen: 4 RepresentativeSampling\n"
     ]
    },
    {
     "name": "stderr",
     "output_type": "stream",
     "text": [
      "C:\\Users\\Wan Jing\\Documents\\libact-torch\\libact\\query_strategies\\representative_sampling.py:147: UserWarning: To copy construct from a tensor, it is recommended to use sourceTensor.clone().detach() or sourceTensor.clone().detach().requires_grad_(True), rather than torch.tensor(sourceTensor).\n",
      "  x = torch.tensor(x).to(self.device)\n",
      "C:\\Users\\Wan Jing\\Documents\\libact-torch\\libact\\query_strategies\\representative_sampling.py:147: UserWarning: To copy construct from a tensor, it is recommended to use sourceTensor.clone().detach() or sourceTensor.clone().detach().requires_grad_(True), rather than torch.tensor(sourceTensor).\n",
      "  x = torch.tensor(x).to(self.device)\n",
      "C:\\Users\\Wan Jing\\Documents\\libact-torch\\libact\\query_strategies\\random_sampling.py:86: UserWarning: To copy construct from a tensor, it is recommended to use sourceTensor.clone().detach() or sourceTensor.clone().detach().requires_grad_(True), rather than torch.tensor(sourceTensor).\n",
      "  ex = torch.tensor(self.dataset.data[self.queried_hist_[-1]][0]).to(self.device)\n",
      "C:\\Users\\Wan Jing\\Documents\\libact-torch\\libact\\query_strategies\\uncertainty_sampling.py:149: UserWarning: To copy construct from a tensor, it is recommended to use sourceTensor.clone().detach() or sourceTensor.clone().detach().requires_grad_(True), rather than torch.tensor(sourceTensor).\n",
      "  ex = torch.tensor(self.dataset.data[self.queried_hist_[-1]][0]).to(self.device)\n",
      "C:\\Users\\Wan Jing\\Documents\\libact-torch\\libact\\query_strategies\\representative_sampling.py:113: UserWarning: To copy construct from a tensor, it is recommended to use sourceTensor.clone().detach() or sourceTensor.clone().detach().requires_grad_(True), rather than torch.tensor(sourceTensor).\n",
      "  ex = torch.tensor(self.dataset.data[self.queried_hist_[-1]][0]).to(self.device)\n",
      "C:\\Users\\Wan Jing\\Documents\\libact-torch\\libact\\query_strategies\\multi_bandits_active_learning.py:227: UserWarning: To copy construct from a tensor, it is recommended to use sourceTensor.clone().detach() or sourceTensor.clone().detach().requires_grad_(True), rather than torch.tensor(sourceTensor).\n",
      "  ex = torch.tensor(self.dataset.data[self.queried_hist_[-1]][0]).to(self.device)\n",
      "C:\\Users\\Wan Jing\\.conda\\envs\\deepCB\\lib\\site-packages\\sklearn\\metrics\\_classification.py:1221: UndefinedMetricWarning: Precision is ill-defined and being set to 0.0 in labels with no predicted samples. Use `zero_division` parameter to control this behavior.\n",
      "  _warn_prf(average, modifier, msg_start, len(result))\n"
     ]
    },
    {
     "name": "stdout",
     "output_type": "stream",
     "text": [
      "    labeled_acc  testing_acc    reward\n",
      "36      0.32046     0.304945  0.206601\n",
      "Tue Sep  1 16:22:23 2020 MultiBanditsActiveLearning query round: 38\n",
      "Strategy Chosen: 3 UncertaintySampling\n"
     ]
    },
    {
     "name": "stderr",
     "output_type": "stream",
     "text": [
      "C:\\Users\\Wan Jing\\Documents\\libact-torch\\libact\\query_strategies\\random_sampling.py:86: UserWarning: To copy construct from a tensor, it is recommended to use sourceTensor.clone().detach() or sourceTensor.clone().detach().requires_grad_(True), rather than torch.tensor(sourceTensor).\n",
      "  ex = torch.tensor(self.dataset.data[self.queried_hist_[-1]][0]).to(self.device)\n",
      "C:\\Users\\Wan Jing\\Documents\\libact-torch\\libact\\query_strategies\\uncertainty_sampling.py:149: UserWarning: To copy construct from a tensor, it is recommended to use sourceTensor.clone().detach() or sourceTensor.clone().detach().requires_grad_(True), rather than torch.tensor(sourceTensor).\n",
      "  ex = torch.tensor(self.dataset.data[self.queried_hist_[-1]][0]).to(self.device)\n",
      "C:\\Users\\Wan Jing\\Documents\\libact-torch\\libact\\query_strategies\\representative_sampling.py:113: UserWarning: To copy construct from a tensor, it is recommended to use sourceTensor.clone().detach() or sourceTensor.clone().detach().requires_grad_(True), rather than torch.tensor(sourceTensor).\n",
      "  ex = torch.tensor(self.dataset.data[self.queried_hist_[-1]][0]).to(self.device)\n",
      "C:\\Users\\Wan Jing\\Documents\\libact-torch\\libact\\query_strategies\\multi_bandits_active_learning.py:227: UserWarning: To copy construct from a tensor, it is recommended to use sourceTensor.clone().detach() or sourceTensor.clone().detach().requires_grad_(True), rather than torch.tensor(sourceTensor).\n",
      "  ex = torch.tensor(self.dataset.data[self.queried_hist_[-1]][0]).to(self.device)\n",
      "C:\\Users\\Wan Jing\\.conda\\envs\\deepCB\\lib\\site-packages\\sklearn\\metrics\\_classification.py:1221: UndefinedMetricWarning: Precision is ill-defined and being set to 0.0 in labels with no predicted samples. Use `zero_division` parameter to control this behavior.\n",
      "  _warn_prf(average, modifier, msg_start, len(result))\n"
     ]
    },
    {
     "name": "stdout",
     "output_type": "stream",
     "text": [
      "    labeled_acc  testing_acc    reward\n",
      "37      0.32804      0.30525  0.211372\n",
      "Tue Sep  1 16:22:37 2020 MultiBanditsActiveLearning query round: 39\n",
      "Strategy Chosen: 2 UncertaintySampling\n"
     ]
    },
    {
     "name": "stderr",
     "output_type": "stream",
     "text": [
      "C:\\Users\\Wan Jing\\Documents\\libact-torch\\libact\\query_strategies\\random_sampling.py:86: UserWarning: To copy construct from a tensor, it is recommended to use sourceTensor.clone().detach() or sourceTensor.clone().detach().requires_grad_(True), rather than torch.tensor(sourceTensor).\n",
      "  ex = torch.tensor(self.dataset.data[self.queried_hist_[-1]][0]).to(self.device)\n",
      "C:\\Users\\Wan Jing\\Documents\\libact-torch\\libact\\query_strategies\\uncertainty_sampling.py:149: UserWarning: To copy construct from a tensor, it is recommended to use sourceTensor.clone().detach() or sourceTensor.clone().detach().requires_grad_(True), rather than torch.tensor(sourceTensor).\n",
      "  ex = torch.tensor(self.dataset.data[self.queried_hist_[-1]][0]).to(self.device)\n",
      "C:\\Users\\Wan Jing\\Documents\\libact-torch\\libact\\query_strategies\\representative_sampling.py:113: UserWarning: To copy construct from a tensor, it is recommended to use sourceTensor.clone().detach() or sourceTensor.clone().detach().requires_grad_(True), rather than torch.tensor(sourceTensor).\n",
      "  ex = torch.tensor(self.dataset.data[self.queried_hist_[-1]][0]).to(self.device)\n",
      "C:\\Users\\Wan Jing\\Documents\\libact-torch\\libact\\query_strategies\\multi_bandits_active_learning.py:227: UserWarning: To copy construct from a tensor, it is recommended to use sourceTensor.clone().detach() or sourceTensor.clone().detach().requires_grad_(True), rather than torch.tensor(sourceTensor).\n",
      "  ex = torch.tensor(self.dataset.data[self.queried_hist_[-1]][0]).to(self.device)\n",
      "C:\\Users\\Wan Jing\\.conda\\envs\\deepCB\\lib\\site-packages\\sklearn\\metrics\\_classification.py:1221: UndefinedMetricWarning: Precision is ill-defined and being set to 0.0 in labels with no predicted samples. Use `zero_division` parameter to control this behavior.\n",
      "  _warn_prf(average, modifier, msg_start, len(result))\n"
     ]
    },
    {
     "name": "stdout",
     "output_type": "stream",
     "text": [
      "    labeled_acc  testing_acc    reward\n",
      "38     0.329012     0.306471  0.209726\n",
      "Tue Sep  1 16:22:52 2020 MultiBanditsActiveLearning query round: 40\n",
      "Strategy Chosen: 4 RepresentativeSampling\n"
     ]
    },
    {
     "name": "stderr",
     "output_type": "stream",
     "text": [
      "C:\\Users\\Wan Jing\\Documents\\libact-torch\\libact\\query_strategies\\representative_sampling.py:147: UserWarning: To copy construct from a tensor, it is recommended to use sourceTensor.clone().detach() or sourceTensor.clone().detach().requires_grad_(True), rather than torch.tensor(sourceTensor).\n",
      "  x = torch.tensor(x).to(self.device)\n",
      "C:\\Users\\Wan Jing\\Documents\\libact-torch\\libact\\query_strategies\\representative_sampling.py:147: UserWarning: To copy construct from a tensor, it is recommended to use sourceTensor.clone().detach() or sourceTensor.clone().detach().requires_grad_(True), rather than torch.tensor(sourceTensor).\n",
      "  x = torch.tensor(x).to(self.device)\n",
      "C:\\Users\\Wan Jing\\Documents\\libact-torch\\libact\\query_strategies\\random_sampling.py:86: UserWarning: To copy construct from a tensor, it is recommended to use sourceTensor.clone().detach() or sourceTensor.clone().detach().requires_grad_(True), rather than torch.tensor(sourceTensor).\n",
      "  ex = torch.tensor(self.dataset.data[self.queried_hist_[-1]][0]).to(self.device)\n",
      "C:\\Users\\Wan Jing\\Documents\\libact-torch\\libact\\query_strategies\\uncertainty_sampling.py:149: UserWarning: To copy construct from a tensor, it is recommended to use sourceTensor.clone().detach() or sourceTensor.clone().detach().requires_grad_(True), rather than torch.tensor(sourceTensor).\n",
      "  ex = torch.tensor(self.dataset.data[self.queried_hist_[-1]][0]).to(self.device)\n",
      "C:\\Users\\Wan Jing\\Documents\\libact-torch\\libact\\query_strategies\\representative_sampling.py:113: UserWarning: To copy construct from a tensor, it is recommended to use sourceTensor.clone().detach() or sourceTensor.clone().detach().requires_grad_(True), rather than torch.tensor(sourceTensor).\n",
      "  ex = torch.tensor(self.dataset.data[self.queried_hist_[-1]][0]).to(self.device)\n",
      "C:\\Users\\Wan Jing\\Documents\\libact-torch\\libact\\query_strategies\\multi_bandits_active_learning.py:227: UserWarning: To copy construct from a tensor, it is recommended to use sourceTensor.clone().detach() or sourceTensor.clone().detach().requires_grad_(True), rather than torch.tensor(sourceTensor).\n",
      "  ex = torch.tensor(self.dataset.data[self.queried_hist_[-1]][0]).to(self.device)\n",
      "C:\\Users\\Wan Jing\\.conda\\envs\\deepCB\\lib\\site-packages\\sklearn\\metrics\\_classification.py:1221: UndefinedMetricWarning: Precision is ill-defined and being set to 0.0 in labels with no predicted samples. Use `zero_division` parameter to control this behavior.\n",
      "  _warn_prf(average, modifier, msg_start, len(result))\n"
     ]
    },
    {
     "name": "stdout",
     "output_type": "stream",
     "text": [
      "    labeled_acc  testing_acc    reward\n",
      "39      0.32467     0.308913  0.211025\n",
      "Tue Sep  1 16:23:14 2020 MultiBanditsActiveLearning query round: 41\n",
      "Strategy Chosen: 4 RepresentativeSampling\n"
     ]
    },
    {
     "name": "stderr",
     "output_type": "stream",
     "text": [
      "C:\\Users\\Wan Jing\\Documents\\libact-torch\\libact\\query_strategies\\representative_sampling.py:147: UserWarning: To copy construct from a tensor, it is recommended to use sourceTensor.clone().detach() or sourceTensor.clone().detach().requires_grad_(True), rather than torch.tensor(sourceTensor).\n",
      "  x = torch.tensor(x).to(self.device)\n",
      "C:\\Users\\Wan Jing\\Documents\\libact-torch\\libact\\query_strategies\\representative_sampling.py:147: UserWarning: To copy construct from a tensor, it is recommended to use sourceTensor.clone().detach() or sourceTensor.clone().detach().requires_grad_(True), rather than torch.tensor(sourceTensor).\n",
      "  x = torch.tensor(x).to(self.device)\n",
      "C:\\Users\\Wan Jing\\Documents\\libact-torch\\libact\\query_strategies\\random_sampling.py:86: UserWarning: To copy construct from a tensor, it is recommended to use sourceTensor.clone().detach() or sourceTensor.clone().detach().requires_grad_(True), rather than torch.tensor(sourceTensor).\n",
      "  ex = torch.tensor(self.dataset.data[self.queried_hist_[-1]][0]).to(self.device)\n",
      "C:\\Users\\Wan Jing\\Documents\\libact-torch\\libact\\query_strategies\\uncertainty_sampling.py:149: UserWarning: To copy construct from a tensor, it is recommended to use sourceTensor.clone().detach() or sourceTensor.clone().detach().requires_grad_(True), rather than torch.tensor(sourceTensor).\n",
      "  ex = torch.tensor(self.dataset.data[self.queried_hist_[-1]][0]).to(self.device)\n",
      "C:\\Users\\Wan Jing\\Documents\\libact-torch\\libact\\query_strategies\\representative_sampling.py:113: UserWarning: To copy construct from a tensor, it is recommended to use sourceTensor.clone().detach() or sourceTensor.clone().detach().requires_grad_(True), rather than torch.tensor(sourceTensor).\n",
      "  ex = torch.tensor(self.dataset.data[self.queried_hist_[-1]][0]).to(self.device)\n",
      "C:\\Users\\Wan Jing\\Documents\\libact-torch\\libact\\query_strategies\\multi_bandits_active_learning.py:227: UserWarning: To copy construct from a tensor, it is recommended to use sourceTensor.clone().detach() or sourceTensor.clone().detach().requires_grad_(True), rather than torch.tensor(sourceTensor).\n",
      "  ex = torch.tensor(self.dataset.data[self.queried_hist_[-1]][0]).to(self.device)\n",
      "C:\\Users\\Wan Jing\\.conda\\envs\\deepCB\\lib\\site-packages\\sklearn\\metrics\\_classification.py:1221: UndefinedMetricWarning: Precision is ill-defined and being set to 0.0 in labels with no predicted samples. Use `zero_division` parameter to control this behavior.\n",
      "  _warn_prf(average, modifier, msg_start, len(result))\n"
     ]
    },
    {
     "name": "stdout",
     "output_type": "stream",
     "text": [
      "    labeled_acc  testing_acc    reward\n",
      "40     0.328118     0.310134  0.214484\n",
      "Tue Sep  1 16:23:36 2020 MultiBanditsActiveLearning query round: 42\n",
      "Strategy Chosen: 3 UncertaintySampling\n"
     ]
    },
    {
     "name": "stderr",
     "output_type": "stream",
     "text": [
      "C:\\Users\\Wan Jing\\Documents\\libact-torch\\libact\\query_strategies\\random_sampling.py:86: UserWarning: To copy construct from a tensor, it is recommended to use sourceTensor.clone().detach() or sourceTensor.clone().detach().requires_grad_(True), rather than torch.tensor(sourceTensor).\n",
      "  ex = torch.tensor(self.dataset.data[self.queried_hist_[-1]][0]).to(self.device)\n",
      "C:\\Users\\Wan Jing\\Documents\\libact-torch\\libact\\query_strategies\\uncertainty_sampling.py:149: UserWarning: To copy construct from a tensor, it is recommended to use sourceTensor.clone().detach() or sourceTensor.clone().detach().requires_grad_(True), rather than torch.tensor(sourceTensor).\n",
      "  ex = torch.tensor(self.dataset.data[self.queried_hist_[-1]][0]).to(self.device)\n",
      "C:\\Users\\Wan Jing\\Documents\\libact-torch\\libact\\query_strategies\\representative_sampling.py:113: UserWarning: To copy construct from a tensor, it is recommended to use sourceTensor.clone().detach() or sourceTensor.clone().detach().requires_grad_(True), rather than torch.tensor(sourceTensor).\n",
      "  ex = torch.tensor(self.dataset.data[self.queried_hist_[-1]][0]).to(self.device)\n",
      "C:\\Users\\Wan Jing\\Documents\\libact-torch\\libact\\query_strategies\\multi_bandits_active_learning.py:227: UserWarning: To copy construct from a tensor, it is recommended to use sourceTensor.clone().detach() or sourceTensor.clone().detach().requires_grad_(True), rather than torch.tensor(sourceTensor).\n",
      "  ex = torch.tensor(self.dataset.data[self.queried_hist_[-1]][0]).to(self.device)\n",
      "C:\\Users\\Wan Jing\\.conda\\envs\\deepCB\\lib\\site-packages\\sklearn\\metrics\\_classification.py:1221: UndefinedMetricWarning: Precision is ill-defined and being set to 0.0 in labels with no predicted samples. Use `zero_division` parameter to control this behavior.\n",
      "  _warn_prf(average, modifier, msg_start, len(result))\n"
     ]
    },
    {
     "name": "stdout",
     "output_type": "stream",
     "text": [
      "    labeled_acc  testing_acc    reward\n",
      "41     0.326609     0.309524  0.213179\n",
      "Tue Sep  1 16:23:51 2020 MultiBanditsActiveLearning query round: 43\n",
      "Strategy Chosen: 4 RepresentativeSampling\n"
     ]
    },
    {
     "name": "stderr",
     "output_type": "stream",
     "text": [
      "C:\\Users\\Wan Jing\\Documents\\libact-torch\\libact\\query_strategies\\representative_sampling.py:147: UserWarning: To copy construct from a tensor, it is recommended to use sourceTensor.clone().detach() or sourceTensor.clone().detach().requires_grad_(True), rather than torch.tensor(sourceTensor).\n",
      "  x = torch.tensor(x).to(self.device)\n",
      "C:\\Users\\Wan Jing\\Documents\\libact-torch\\libact\\query_strategies\\representative_sampling.py:147: UserWarning: To copy construct from a tensor, it is recommended to use sourceTensor.clone().detach() or sourceTensor.clone().detach().requires_grad_(True), rather than torch.tensor(sourceTensor).\n",
      "  x = torch.tensor(x).to(self.device)\n",
      "C:\\Users\\Wan Jing\\Documents\\libact-torch\\libact\\query_strategies\\random_sampling.py:86: UserWarning: To copy construct from a tensor, it is recommended to use sourceTensor.clone().detach() or sourceTensor.clone().detach().requires_grad_(True), rather than torch.tensor(sourceTensor).\n",
      "  ex = torch.tensor(self.dataset.data[self.queried_hist_[-1]][0]).to(self.device)\n",
      "C:\\Users\\Wan Jing\\Documents\\libact-torch\\libact\\query_strategies\\uncertainty_sampling.py:149: UserWarning: To copy construct from a tensor, it is recommended to use sourceTensor.clone().detach() or sourceTensor.clone().detach().requires_grad_(True), rather than torch.tensor(sourceTensor).\n",
      "  ex = torch.tensor(self.dataset.data[self.queried_hist_[-1]][0]).to(self.device)\n",
      "C:\\Users\\Wan Jing\\Documents\\libact-torch\\libact\\query_strategies\\representative_sampling.py:113: UserWarning: To copy construct from a tensor, it is recommended to use sourceTensor.clone().detach() or sourceTensor.clone().detach().requires_grad_(True), rather than torch.tensor(sourceTensor).\n",
      "  ex = torch.tensor(self.dataset.data[self.queried_hist_[-1]][0]).to(self.device)\n",
      "C:\\Users\\Wan Jing\\Documents\\libact-torch\\libact\\query_strategies\\multi_bandits_active_learning.py:227: UserWarning: To copy construct from a tensor, it is recommended to use sourceTensor.clone().detach() or sourceTensor.clone().detach().requires_grad_(True), rather than torch.tensor(sourceTensor).\n",
      "  ex = torch.tensor(self.dataset.data[self.queried_hist_[-1]][0]).to(self.device)\n",
      "C:\\Users\\Wan Jing\\.conda\\envs\\deepCB\\lib\\site-packages\\sklearn\\metrics\\_classification.py:1221: UndefinedMetricWarning: Precision is ill-defined and being set to 0.0 in labels with no predicted samples. Use `zero_division` parameter to control this behavior.\n",
      "  _warn_prf(average, modifier, msg_start, len(result))\n"
     ]
    },
    {
     "name": "stdout",
     "output_type": "stream",
     "text": [
      "    labeled_acc  testing_acc    reward\n",
      "42     0.324301     0.309524  0.213453\n",
      "Tue Sep  1 16:24:12 2020 MultiBanditsActiveLearning query round: 44\n",
      "Strategy Chosen: 2 UncertaintySampling\n"
     ]
    },
    {
     "name": "stderr",
     "output_type": "stream",
     "text": [
      "C:\\Users\\Wan Jing\\Documents\\libact-torch\\libact\\query_strategies\\random_sampling.py:86: UserWarning: To copy construct from a tensor, it is recommended to use sourceTensor.clone().detach() or sourceTensor.clone().detach().requires_grad_(True), rather than torch.tensor(sourceTensor).\n",
      "  ex = torch.tensor(self.dataset.data[self.queried_hist_[-1]][0]).to(self.device)\n",
      "C:\\Users\\Wan Jing\\Documents\\libact-torch\\libact\\query_strategies\\uncertainty_sampling.py:149: UserWarning: To copy construct from a tensor, it is recommended to use sourceTensor.clone().detach() or sourceTensor.clone().detach().requires_grad_(True), rather than torch.tensor(sourceTensor).\n",
      "  ex = torch.tensor(self.dataset.data[self.queried_hist_[-1]][0]).to(self.device)\n",
      "C:\\Users\\Wan Jing\\Documents\\libact-torch\\libact\\query_strategies\\representative_sampling.py:113: UserWarning: To copy construct from a tensor, it is recommended to use sourceTensor.clone().detach() or sourceTensor.clone().detach().requires_grad_(True), rather than torch.tensor(sourceTensor).\n",
      "  ex = torch.tensor(self.dataset.data[self.queried_hist_[-1]][0]).to(self.device)\n",
      "C:\\Users\\Wan Jing\\Documents\\libact-torch\\libact\\query_strategies\\multi_bandits_active_learning.py:227: UserWarning: To copy construct from a tensor, it is recommended to use sourceTensor.clone().detach() or sourceTensor.clone().detach().requires_grad_(True), rather than torch.tensor(sourceTensor).\n",
      "  ex = torch.tensor(self.dataset.data[self.queried_hist_[-1]][0]).to(self.device)\n",
      "C:\\Users\\Wan Jing\\.conda\\envs\\deepCB\\lib\\site-packages\\sklearn\\metrics\\_classification.py:1221: UndefinedMetricWarning: Precision is ill-defined and being set to 0.0 in labels with no predicted samples. Use `zero_division` parameter to control this behavior.\n",
      "  _warn_prf(average, modifier, msg_start, len(result))\n"
     ]
    },
    {
     "name": "stdout",
     "output_type": "stream",
     "text": [
      "    labeled_acc  testing_acc    reward\n",
      "43     0.326087     0.313797  0.215084\n",
      "Tue Sep  1 16:24:27 2020 MultiBanditsActiveLearning query round: 45\n",
      "Strategy Chosen: 2 UncertaintySampling\n"
     ]
    },
    {
     "name": "stderr",
     "output_type": "stream",
     "text": [
      "C:\\Users\\Wan Jing\\Documents\\libact-torch\\libact\\query_strategies\\random_sampling.py:86: UserWarning: To copy construct from a tensor, it is recommended to use sourceTensor.clone().detach() or sourceTensor.clone().detach().requires_grad_(True), rather than torch.tensor(sourceTensor).\n",
      "  ex = torch.tensor(self.dataset.data[self.queried_hist_[-1]][0]).to(self.device)\n",
      "C:\\Users\\Wan Jing\\Documents\\libact-torch\\libact\\query_strategies\\uncertainty_sampling.py:149: UserWarning: To copy construct from a tensor, it is recommended to use sourceTensor.clone().detach() or sourceTensor.clone().detach().requires_grad_(True), rather than torch.tensor(sourceTensor).\n",
      "  ex = torch.tensor(self.dataset.data[self.queried_hist_[-1]][0]).to(self.device)\n",
      "C:\\Users\\Wan Jing\\Documents\\libact-torch\\libact\\query_strategies\\representative_sampling.py:113: UserWarning: To copy construct from a tensor, it is recommended to use sourceTensor.clone().detach() or sourceTensor.clone().detach().requires_grad_(True), rather than torch.tensor(sourceTensor).\n",
      "  ex = torch.tensor(self.dataset.data[self.queried_hist_[-1]][0]).to(self.device)\n",
      "C:\\Users\\Wan Jing\\Documents\\libact-torch\\libact\\query_strategies\\multi_bandits_active_learning.py:227: UserWarning: To copy construct from a tensor, it is recommended to use sourceTensor.clone().detach() or sourceTensor.clone().detach().requires_grad_(True), rather than torch.tensor(sourceTensor).\n",
      "  ex = torch.tensor(self.dataset.data[self.queried_hist_[-1]][0]).to(self.device)\n",
      "C:\\Users\\Wan Jing\\.conda\\envs\\deepCB\\lib\\site-packages\\sklearn\\metrics\\_classification.py:1221: UndefinedMetricWarning: Precision is ill-defined and being set to 0.0 in labels with no predicted samples. Use `zero_division` parameter to control this behavior.\n",
      "  _warn_prf(average, modifier, msg_start, len(result))\n"
     ]
    },
    {
     "name": "stdout",
     "output_type": "stream",
     "text": [
      "    labeled_acc  testing_acc    reward\n",
      "44      0.32701     0.306166  0.212579\n",
      "Tue Sep  1 16:24:42 2020 MultiBanditsActiveLearning query round: 46\n",
      "Strategy Chosen: 4 RepresentativeSampling\n"
     ]
    },
    {
     "name": "stderr",
     "output_type": "stream",
     "text": [
      "C:\\Users\\Wan Jing\\Documents\\libact-torch\\libact\\query_strategies\\representative_sampling.py:147: UserWarning: To copy construct from a tensor, it is recommended to use sourceTensor.clone().detach() or sourceTensor.clone().detach().requires_grad_(True), rather than torch.tensor(sourceTensor).\n",
      "  x = torch.tensor(x).to(self.device)\n",
      "C:\\Users\\Wan Jing\\Documents\\libact-torch\\libact\\query_strategies\\representative_sampling.py:147: UserWarning: To copy construct from a tensor, it is recommended to use sourceTensor.clone().detach() or sourceTensor.clone().detach().requires_grad_(True), rather than torch.tensor(sourceTensor).\n",
      "  x = torch.tensor(x).to(self.device)\n",
      "C:\\Users\\Wan Jing\\Documents\\libact-torch\\libact\\query_strategies\\random_sampling.py:86: UserWarning: To copy construct from a tensor, it is recommended to use sourceTensor.clone().detach() or sourceTensor.clone().detach().requires_grad_(True), rather than torch.tensor(sourceTensor).\n",
      "  ex = torch.tensor(self.dataset.data[self.queried_hist_[-1]][0]).to(self.device)\n",
      "C:\\Users\\Wan Jing\\Documents\\libact-torch\\libact\\query_strategies\\uncertainty_sampling.py:149: UserWarning: To copy construct from a tensor, it is recommended to use sourceTensor.clone().detach() or sourceTensor.clone().detach().requires_grad_(True), rather than torch.tensor(sourceTensor).\n",
      "  ex = torch.tensor(self.dataset.data[self.queried_hist_[-1]][0]).to(self.device)\n",
      "C:\\Users\\Wan Jing\\Documents\\libact-torch\\libact\\query_strategies\\representative_sampling.py:113: UserWarning: To copy construct from a tensor, it is recommended to use sourceTensor.clone().detach() or sourceTensor.clone().detach().requires_grad_(True), rather than torch.tensor(sourceTensor).\n",
      "  ex = torch.tensor(self.dataset.data[self.queried_hist_[-1]][0]).to(self.device)\n",
      "C:\\Users\\Wan Jing\\Documents\\libact-torch\\libact\\query_strategies\\multi_bandits_active_learning.py:227: UserWarning: To copy construct from a tensor, it is recommended to use sourceTensor.clone().detach() or sourceTensor.clone().detach().requires_grad_(True), rather than torch.tensor(sourceTensor).\n",
      "  ex = torch.tensor(self.dataset.data[self.queried_hist_[-1]][0]).to(self.device)\n",
      "C:\\Users\\Wan Jing\\.conda\\envs\\deepCB\\lib\\site-packages\\sklearn\\metrics\\_classification.py:1221: UndefinedMetricWarning: Precision is ill-defined and being set to 0.0 in labels with no predicted samples. Use `zero_division` parameter to control this behavior.\n",
      "  _warn_prf(average, modifier, msg_start, len(result))\n"
     ]
    },
    {
     "name": "stdout",
     "output_type": "stream",
     "text": [
      "    labeled_acc  testing_acc    reward\n",
      "45     0.323027     0.305861  0.213069\n",
      "Tue Sep  1 16:25:03 2020 MultiBanditsActiveLearning query round: 47\n",
      "Strategy Chosen: 1 UncertaintySampling\n"
     ]
    },
    {
     "name": "stderr",
     "output_type": "stream",
     "text": [
      "C:\\Users\\Wan Jing\\Documents\\libact-torch\\libact\\query_strategies\\random_sampling.py:86: UserWarning: To copy construct from a tensor, it is recommended to use sourceTensor.clone().detach() or sourceTensor.clone().detach().requires_grad_(True), rather than torch.tensor(sourceTensor).\n",
      "  ex = torch.tensor(self.dataset.data[self.queried_hist_[-1]][0]).to(self.device)\n",
      "C:\\Users\\Wan Jing\\Documents\\libact-torch\\libact\\query_strategies\\uncertainty_sampling.py:149: UserWarning: To copy construct from a tensor, it is recommended to use sourceTensor.clone().detach() or sourceTensor.clone().detach().requires_grad_(True), rather than torch.tensor(sourceTensor).\n",
      "  ex = torch.tensor(self.dataset.data[self.queried_hist_[-1]][0]).to(self.device)\n",
      "C:\\Users\\Wan Jing\\Documents\\libact-torch\\libact\\query_strategies\\representative_sampling.py:113: UserWarning: To copy construct from a tensor, it is recommended to use sourceTensor.clone().detach() or sourceTensor.clone().detach().requires_grad_(True), rather than torch.tensor(sourceTensor).\n",
      "  ex = torch.tensor(self.dataset.data[self.queried_hist_[-1]][0]).to(self.device)\n",
      "C:\\Users\\Wan Jing\\Documents\\libact-torch\\libact\\query_strategies\\multi_bandits_active_learning.py:227: UserWarning: To copy construct from a tensor, it is recommended to use sourceTensor.clone().detach() or sourceTensor.clone().detach().requires_grad_(True), rather than torch.tensor(sourceTensor).\n",
      "  ex = torch.tensor(self.dataset.data[self.queried_hist_[-1]][0]).to(self.device)\n",
      "C:\\Users\\Wan Jing\\.conda\\envs\\deepCB\\lib\\site-packages\\sklearn\\metrics\\_classification.py:1221: UndefinedMetricWarning: Precision is ill-defined and being set to 0.0 in labels with no predicted samples. Use `zero_division` parameter to control this behavior.\n",
      "  _warn_prf(average, modifier, msg_start, len(result))\n"
     ]
    },
    {
     "name": "stdout",
     "output_type": "stream",
     "text": [
      "    labeled_acc  testing_acc    reward\n",
      "46     0.328921     0.311355  0.215223\n",
      "Tue Sep  1 16:25:18 2020 MultiBanditsActiveLearning query round: 48\n",
      "Strategy Chosen: 4 RepresentativeSampling\n"
     ]
    },
    {
     "name": "stderr",
     "output_type": "stream",
     "text": [
      "C:\\Users\\Wan Jing\\Documents\\libact-torch\\libact\\query_strategies\\representative_sampling.py:147: UserWarning: To copy construct from a tensor, it is recommended to use sourceTensor.clone().detach() or sourceTensor.clone().detach().requires_grad_(True), rather than torch.tensor(sourceTensor).\n",
      "  x = torch.tensor(x).to(self.device)\n",
      "C:\\Users\\Wan Jing\\Documents\\libact-torch\\libact\\query_strategies\\representative_sampling.py:147: UserWarning: To copy construct from a tensor, it is recommended to use sourceTensor.clone().detach() or sourceTensor.clone().detach().requires_grad_(True), rather than torch.tensor(sourceTensor).\n",
      "  x = torch.tensor(x).to(self.device)\n",
      "C:\\Users\\Wan Jing\\Documents\\libact-torch\\libact\\query_strategies\\random_sampling.py:86: UserWarning: To copy construct from a tensor, it is recommended to use sourceTensor.clone().detach() or sourceTensor.clone().detach().requires_grad_(True), rather than torch.tensor(sourceTensor).\n",
      "  ex = torch.tensor(self.dataset.data[self.queried_hist_[-1]][0]).to(self.device)\n",
      "C:\\Users\\Wan Jing\\Documents\\libact-torch\\libact\\query_strategies\\uncertainty_sampling.py:149: UserWarning: To copy construct from a tensor, it is recommended to use sourceTensor.clone().detach() or sourceTensor.clone().detach().requires_grad_(True), rather than torch.tensor(sourceTensor).\n",
      "  ex = torch.tensor(self.dataset.data[self.queried_hist_[-1]][0]).to(self.device)\n",
      "C:\\Users\\Wan Jing\\Documents\\libact-torch\\libact\\query_strategies\\representative_sampling.py:113: UserWarning: To copy construct from a tensor, it is recommended to use sourceTensor.clone().detach() or sourceTensor.clone().detach().requires_grad_(True), rather than torch.tensor(sourceTensor).\n",
      "  ex = torch.tensor(self.dataset.data[self.queried_hist_[-1]][0]).to(self.device)\n",
      "C:\\Users\\Wan Jing\\Documents\\libact-torch\\libact\\query_strategies\\multi_bandits_active_learning.py:227: UserWarning: To copy construct from a tensor, it is recommended to use sourceTensor.clone().detach() or sourceTensor.clone().detach().requires_grad_(True), rather than torch.tensor(sourceTensor).\n",
      "  ex = torch.tensor(self.dataset.data[self.queried_hist_[-1]][0]).to(self.device)\n",
      "C:\\Users\\Wan Jing\\.conda\\envs\\deepCB\\lib\\site-packages\\sklearn\\metrics\\_classification.py:1221: UndefinedMetricWarning: Precision is ill-defined and being set to 0.0 in labels with no predicted samples. Use `zero_division` parameter to control this behavior.\n",
      "  _warn_prf(average, modifier, msg_start, len(result))\n"
     ]
    },
    {
     "name": "stdout",
     "output_type": "stream",
     "text": [
      "    labeled_acc  testing_acc    reward\n",
      "47     0.331356     0.312882  0.223795\n",
      "Tue Sep  1 16:25:40 2020 MultiBanditsActiveLearning query round: 49\n",
      "Strategy Chosen: 0 RandomSampling\n"
     ]
    },
    {
     "name": "stderr",
     "output_type": "stream",
     "text": [
      "C:\\Users\\Wan Jing\\Documents\\libact-torch\\libact\\query_strategies\\random_sampling.py:86: UserWarning: To copy construct from a tensor, it is recommended to use sourceTensor.clone().detach() or sourceTensor.clone().detach().requires_grad_(True), rather than torch.tensor(sourceTensor).\n",
      "  ex = torch.tensor(self.dataset.data[self.queried_hist_[-1]][0]).to(self.device)\n",
      "C:\\Users\\Wan Jing\\Documents\\libact-torch\\libact\\query_strategies\\uncertainty_sampling.py:149: UserWarning: To copy construct from a tensor, it is recommended to use sourceTensor.clone().detach() or sourceTensor.clone().detach().requires_grad_(True), rather than torch.tensor(sourceTensor).\n",
      "  ex = torch.tensor(self.dataset.data[self.queried_hist_[-1]][0]).to(self.device)\n",
      "C:\\Users\\Wan Jing\\Documents\\libact-torch\\libact\\query_strategies\\representative_sampling.py:113: UserWarning: To copy construct from a tensor, it is recommended to use sourceTensor.clone().detach() or sourceTensor.clone().detach().requires_grad_(True), rather than torch.tensor(sourceTensor).\n",
      "  ex = torch.tensor(self.dataset.data[self.queried_hist_[-1]][0]).to(self.device)\n",
      "C:\\Users\\Wan Jing\\Documents\\libact-torch\\libact\\query_strategies\\multi_bandits_active_learning.py:227: UserWarning: To copy construct from a tensor, it is recommended to use sourceTensor.clone().detach() or sourceTensor.clone().detach().requires_grad_(True), rather than torch.tensor(sourceTensor).\n",
      "  ex = torch.tensor(self.dataset.data[self.queried_hist_[-1]][0]).to(self.device)\n",
      "C:\\Users\\Wan Jing\\.conda\\envs\\deepCB\\lib\\site-packages\\sklearn\\metrics\\_classification.py:1221: UndefinedMetricWarning: Precision is ill-defined and being set to 0.0 in labels with no predicted samples. Use `zero_division` parameter to control this behavior.\n",
      "  _warn_prf(average, modifier, msg_start, len(result))\n"
     ]
    },
    {
     "name": "stdout",
     "output_type": "stream",
     "text": [
      "    labeled_acc  testing_acc    reward\n",
      "48     0.331643     0.309524  0.236799\n",
      "Tue Sep  1 16:25:46 2020 MultiBanditsActiveLearning query round: 50\n",
      "Strategy Chosen: 2 UncertaintySampling\n"
     ]
    },
    {
     "name": "stderr",
     "output_type": "stream",
     "text": [
      "C:\\Users\\Wan Jing\\Documents\\libact-torch\\libact\\query_strategies\\random_sampling.py:86: UserWarning: To copy construct from a tensor, it is recommended to use sourceTensor.clone().detach() or sourceTensor.clone().detach().requires_grad_(True), rather than torch.tensor(sourceTensor).\n",
      "  ex = torch.tensor(self.dataset.data[self.queried_hist_[-1]][0]).to(self.device)\n",
      "C:\\Users\\Wan Jing\\Documents\\libact-torch\\libact\\query_strategies\\uncertainty_sampling.py:149: UserWarning: To copy construct from a tensor, it is recommended to use sourceTensor.clone().detach() or sourceTensor.clone().detach().requires_grad_(True), rather than torch.tensor(sourceTensor).\n",
      "  ex = torch.tensor(self.dataset.data[self.queried_hist_[-1]][0]).to(self.device)\n",
      "C:\\Users\\Wan Jing\\Documents\\libact-torch\\libact\\query_strategies\\representative_sampling.py:113: UserWarning: To copy construct from a tensor, it is recommended to use sourceTensor.clone().detach() or sourceTensor.clone().detach().requires_grad_(True), rather than torch.tensor(sourceTensor).\n",
      "  ex = torch.tensor(self.dataset.data[self.queried_hist_[-1]][0]).to(self.device)\n",
      "C:\\Users\\Wan Jing\\Documents\\libact-torch\\libact\\query_strategies\\multi_bandits_active_learning.py:227: UserWarning: To copy construct from a tensor, it is recommended to use sourceTensor.clone().detach() or sourceTensor.clone().detach().requires_grad_(True), rather than torch.tensor(sourceTensor).\n",
      "  ex = torch.tensor(self.dataset.data[self.queried_hist_[-1]][0]).to(self.device)\n",
      "C:\\Users\\Wan Jing\\.conda\\envs\\deepCB\\lib\\site-packages\\sklearn\\metrics\\_classification.py:1221: UndefinedMetricWarning: Precision is ill-defined and being set to 0.0 in labels with no predicted samples. Use `zero_division` parameter to control this behavior.\n",
      "  _warn_prf(average, modifier, msg_start, len(result))\n"
     ]
    },
    {
     "name": "stdout",
     "output_type": "stream",
     "text": [
      "    labeled_acc  testing_acc    reward\n",
      "49     0.322531     0.320513  0.217592\n",
      "Tue Sep  1 16:26:01 2020 MultiBanditsActiveLearning query round: 51\n",
      "Strategy Chosen: 3 UncertaintySampling\n"
     ]
    },
    {
     "name": "stderr",
     "output_type": "stream",
     "text": [
      "C:\\Users\\Wan Jing\\Documents\\libact-torch\\libact\\query_strategies\\random_sampling.py:86: UserWarning: To copy construct from a tensor, it is recommended to use sourceTensor.clone().detach() or sourceTensor.clone().detach().requires_grad_(True), rather than torch.tensor(sourceTensor).\n",
      "  ex = torch.tensor(self.dataset.data[self.queried_hist_[-1]][0]).to(self.device)\n",
      "C:\\Users\\Wan Jing\\Documents\\libact-torch\\libact\\query_strategies\\uncertainty_sampling.py:149: UserWarning: To copy construct from a tensor, it is recommended to use sourceTensor.clone().detach() or sourceTensor.clone().detach().requires_grad_(True), rather than torch.tensor(sourceTensor).\n",
      "  ex = torch.tensor(self.dataset.data[self.queried_hist_[-1]][0]).to(self.device)\n",
      "C:\\Users\\Wan Jing\\Documents\\libact-torch\\libact\\query_strategies\\representative_sampling.py:113: UserWarning: To copy construct from a tensor, it is recommended to use sourceTensor.clone().detach() or sourceTensor.clone().detach().requires_grad_(True), rather than torch.tensor(sourceTensor).\n",
      "  ex = torch.tensor(self.dataset.data[self.queried_hist_[-1]][0]).to(self.device)\n",
      "C:\\Users\\Wan Jing\\Documents\\libact-torch\\libact\\query_strategies\\multi_bandits_active_learning.py:227: UserWarning: To copy construct from a tensor, it is recommended to use sourceTensor.clone().detach() or sourceTensor.clone().detach().requires_grad_(True), rather than torch.tensor(sourceTensor).\n",
      "  ex = torch.tensor(self.dataset.data[self.queried_hist_[-1]][0]).to(self.device)\n",
      "C:\\Users\\Wan Jing\\.conda\\envs\\deepCB\\lib\\site-packages\\sklearn\\metrics\\_classification.py:1221: UndefinedMetricWarning: Precision is ill-defined and being set to 0.0 in labels with no predicted samples. Use `zero_division` parameter to control this behavior.\n",
      "  _warn_prf(average, modifier, msg_start, len(result))\n"
     ]
    },
    {
     "name": "stdout",
     "output_type": "stream",
     "text": [
      "    labeled_acc  testing_acc    reward\n",
      "50     0.330919     0.312576  0.223686\n",
      "Tue Sep  1 16:26:16 2020 MultiBanditsActiveLearning query round: 52\n",
      "Strategy Chosen: 1 UncertaintySampling\n"
     ]
    },
    {
     "name": "stderr",
     "output_type": "stream",
     "text": [
      "C:\\Users\\Wan Jing\\Documents\\libact-torch\\libact\\query_strategies\\random_sampling.py:86: UserWarning: To copy construct from a tensor, it is recommended to use sourceTensor.clone().detach() or sourceTensor.clone().detach().requires_grad_(True), rather than torch.tensor(sourceTensor).\n",
      "  ex = torch.tensor(self.dataset.data[self.queried_hist_[-1]][0]).to(self.device)\n",
      "C:\\Users\\Wan Jing\\Documents\\libact-torch\\libact\\query_strategies\\uncertainty_sampling.py:149: UserWarning: To copy construct from a tensor, it is recommended to use sourceTensor.clone().detach() or sourceTensor.clone().detach().requires_grad_(True), rather than torch.tensor(sourceTensor).\n",
      "  ex = torch.tensor(self.dataset.data[self.queried_hist_[-1]][0]).to(self.device)\n",
      "C:\\Users\\Wan Jing\\Documents\\libact-torch\\libact\\query_strategies\\representative_sampling.py:113: UserWarning: To copy construct from a tensor, it is recommended to use sourceTensor.clone().detach() or sourceTensor.clone().detach().requires_grad_(True), rather than torch.tensor(sourceTensor).\n",
      "  ex = torch.tensor(self.dataset.data[self.queried_hist_[-1]][0]).to(self.device)\n",
      "C:\\Users\\Wan Jing\\Documents\\libact-torch\\libact\\query_strategies\\multi_bandits_active_learning.py:227: UserWarning: To copy construct from a tensor, it is recommended to use sourceTensor.clone().detach() or sourceTensor.clone().detach().requires_grad_(True), rather than torch.tensor(sourceTensor).\n",
      "  ex = torch.tensor(self.dataset.data[self.queried_hist_[-1]][0]).to(self.device)\n",
      "C:\\Users\\Wan Jing\\.conda\\envs\\deepCB\\lib\\site-packages\\sklearn\\metrics\\_classification.py:1221: UndefinedMetricWarning: Precision is ill-defined and being set to 0.0 in labels with no predicted samples. Use `zero_division` parameter to control this behavior.\n",
      "  _warn_prf(average, modifier, msg_start, len(result))\n"
     ]
    },
    {
     "name": "stdout",
     "output_type": "stream",
     "text": [
      "    labeled_acc  testing_acc    reward\n",
      "51     0.329567     0.319597  0.238631\n",
      "Tue Sep  1 16:26:30 2020 MultiBanditsActiveLearning query round: 53\n",
      "Strategy Chosen: 0 RandomSampling\n"
     ]
    },
    {
     "name": "stderr",
     "output_type": "stream",
     "text": [
      "C:\\Users\\Wan Jing\\Documents\\libact-torch\\libact\\query_strategies\\random_sampling.py:86: UserWarning: To copy construct from a tensor, it is recommended to use sourceTensor.clone().detach() or sourceTensor.clone().detach().requires_grad_(True), rather than torch.tensor(sourceTensor).\n",
      "  ex = torch.tensor(self.dataset.data[self.queried_hist_[-1]][0]).to(self.device)\n",
      "C:\\Users\\Wan Jing\\Documents\\libact-torch\\libact\\query_strategies\\uncertainty_sampling.py:149: UserWarning: To copy construct from a tensor, it is recommended to use sourceTensor.clone().detach() or sourceTensor.clone().detach().requires_grad_(True), rather than torch.tensor(sourceTensor).\n",
      "  ex = torch.tensor(self.dataset.data[self.queried_hist_[-1]][0]).to(self.device)\n",
      "C:\\Users\\Wan Jing\\Documents\\libact-torch\\libact\\query_strategies\\representative_sampling.py:113: UserWarning: To copy construct from a tensor, it is recommended to use sourceTensor.clone().detach() or sourceTensor.clone().detach().requires_grad_(True), rather than torch.tensor(sourceTensor).\n",
      "  ex = torch.tensor(self.dataset.data[self.queried_hist_[-1]][0]).to(self.device)\n",
      "C:\\Users\\Wan Jing\\Documents\\libact-torch\\libact\\query_strategies\\multi_bandits_active_learning.py:227: UserWarning: To copy construct from a tensor, it is recommended to use sourceTensor.clone().detach() or sourceTensor.clone().detach().requires_grad_(True), rather than torch.tensor(sourceTensor).\n",
      "  ex = torch.tensor(self.dataset.data[self.queried_hist_[-1]][0]).to(self.device)\n",
      "C:\\Users\\Wan Jing\\.conda\\envs\\deepCB\\lib\\site-packages\\sklearn\\metrics\\_classification.py:1221: UndefinedMetricWarning: Precision is ill-defined and being set to 0.0 in labels with no predicted samples. Use `zero_division` parameter to control this behavior.\n",
      "  _warn_prf(average, modifier, msg_start, len(result))\n"
     ]
    },
    {
     "name": "stdout",
     "output_type": "stream",
     "text": [
      "    labeled_acc  testing_acc    reward\n",
      "52     0.336807     0.311355  0.237156\n",
      "Tue Sep  1 16:26:37 2020 MultiBanditsActiveLearning query round: 54\n",
      "Strategy Chosen: 4 RepresentativeSampling\n"
     ]
    },
    {
     "name": "stderr",
     "output_type": "stream",
     "text": [
      "C:\\Users\\Wan Jing\\Documents\\libact-torch\\libact\\query_strategies\\representative_sampling.py:147: UserWarning: To copy construct from a tensor, it is recommended to use sourceTensor.clone().detach() or sourceTensor.clone().detach().requires_grad_(True), rather than torch.tensor(sourceTensor).\n",
      "  x = torch.tensor(x).to(self.device)\n",
      "C:\\Users\\Wan Jing\\Documents\\libact-torch\\libact\\query_strategies\\representative_sampling.py:147: UserWarning: To copy construct from a tensor, it is recommended to use sourceTensor.clone().detach() or sourceTensor.clone().detach().requires_grad_(True), rather than torch.tensor(sourceTensor).\n",
      "  x = torch.tensor(x).to(self.device)\n",
      "C:\\Users\\Wan Jing\\Documents\\libact-torch\\libact\\query_strategies\\random_sampling.py:86: UserWarning: To copy construct from a tensor, it is recommended to use sourceTensor.clone().detach() or sourceTensor.clone().detach().requires_grad_(True), rather than torch.tensor(sourceTensor).\n",
      "  ex = torch.tensor(self.dataset.data[self.queried_hist_[-1]][0]).to(self.device)\n",
      "C:\\Users\\Wan Jing\\Documents\\libact-torch\\libact\\query_strategies\\uncertainty_sampling.py:149: UserWarning: To copy construct from a tensor, it is recommended to use sourceTensor.clone().detach() or sourceTensor.clone().detach().requires_grad_(True), rather than torch.tensor(sourceTensor).\n",
      "  ex = torch.tensor(self.dataset.data[self.queried_hist_[-1]][0]).to(self.device)\n",
      "C:\\Users\\Wan Jing\\Documents\\libact-torch\\libact\\query_strategies\\representative_sampling.py:113: UserWarning: To copy construct from a tensor, it is recommended to use sourceTensor.clone().detach() or sourceTensor.clone().detach().requires_grad_(True), rather than torch.tensor(sourceTensor).\n",
      "  ex = torch.tensor(self.dataset.data[self.queried_hist_[-1]][0]).to(self.device)\n",
      "C:\\Users\\Wan Jing\\Documents\\libact-torch\\libact\\query_strategies\\multi_bandits_active_learning.py:227: UserWarning: To copy construct from a tensor, it is recommended to use sourceTensor.clone().detach() or sourceTensor.clone().detach().requires_grad_(True), rather than torch.tensor(sourceTensor).\n",
      "  ex = torch.tensor(self.dataset.data[self.queried_hist_[-1]][0]).to(self.device)\n",
      "C:\\Users\\Wan Jing\\.conda\\envs\\deepCB\\lib\\site-packages\\sklearn\\metrics\\_classification.py:1221: UndefinedMetricWarning: Precision is ill-defined and being set to 0.0 in labels with no predicted samples. Use `zero_division` parameter to control this behavior.\n",
      "  _warn_prf(average, modifier, msg_start, len(result))\n"
     ]
    },
    {
     "name": "stdout",
     "output_type": "stream",
     "text": [
      "    labeled_acc  testing_acc    reward\n",
      "53     0.343624     0.314103  0.240092\n",
      "Tue Sep  1 16:26:59 2020 MultiBanditsActiveLearning query round: 55\n",
      "Strategy Chosen: 0 RandomSampling\n"
     ]
    },
    {
     "name": "stderr",
     "output_type": "stream",
     "text": [
      "C:\\Users\\Wan Jing\\Documents\\libact-torch\\libact\\query_strategies\\random_sampling.py:86: UserWarning: To copy construct from a tensor, it is recommended to use sourceTensor.clone().detach() or sourceTensor.clone().detach().requires_grad_(True), rather than torch.tensor(sourceTensor).\n",
      "  ex = torch.tensor(self.dataset.data[self.queried_hist_[-1]][0]).to(self.device)\n",
      "C:\\Users\\Wan Jing\\Documents\\libact-torch\\libact\\query_strategies\\uncertainty_sampling.py:149: UserWarning: To copy construct from a tensor, it is recommended to use sourceTensor.clone().detach() or sourceTensor.clone().detach().requires_grad_(True), rather than torch.tensor(sourceTensor).\n",
      "  ex = torch.tensor(self.dataset.data[self.queried_hist_[-1]][0]).to(self.device)\n",
      "C:\\Users\\Wan Jing\\Documents\\libact-torch\\libact\\query_strategies\\representative_sampling.py:113: UserWarning: To copy construct from a tensor, it is recommended to use sourceTensor.clone().detach() or sourceTensor.clone().detach().requires_grad_(True), rather than torch.tensor(sourceTensor).\n",
      "  ex = torch.tensor(self.dataset.data[self.queried_hist_[-1]][0]).to(self.device)\n",
      "C:\\Users\\Wan Jing\\Documents\\libact-torch\\libact\\query_strategies\\multi_bandits_active_learning.py:227: UserWarning: To copy construct from a tensor, it is recommended to use sourceTensor.clone().detach() or sourceTensor.clone().detach().requires_grad_(True), rather than torch.tensor(sourceTensor).\n",
      "  ex = torch.tensor(self.dataset.data[self.queried_hist_[-1]][0]).to(self.device)\n",
      "C:\\Users\\Wan Jing\\.conda\\envs\\deepCB\\lib\\site-packages\\sklearn\\metrics\\_classification.py:1221: UndefinedMetricWarning: Precision is ill-defined and being set to 0.0 in labels with no predicted samples. Use `zero_division` parameter to control this behavior.\n",
      "  _warn_prf(average, modifier, msg_start, len(result))\n"
     ]
    },
    {
     "name": "stdout",
     "output_type": "stream",
     "text": [
      "    labeled_acc  testing_acc   reward\n",
      "54     0.337931     0.321429  0.24022\n",
      "Tue Sep  1 16:27:06 2020 MultiBanditsActiveLearning query round: 56\n",
      "Strategy Chosen: 3 UncertaintySampling\n"
     ]
    },
    {
     "name": "stderr",
     "output_type": "stream",
     "text": [
      "C:\\Users\\Wan Jing\\Documents\\libact-torch\\libact\\query_strategies\\random_sampling.py:86: UserWarning: To copy construct from a tensor, it is recommended to use sourceTensor.clone().detach() or sourceTensor.clone().detach().requires_grad_(True), rather than torch.tensor(sourceTensor).\n",
      "  ex = torch.tensor(self.dataset.data[self.queried_hist_[-1]][0]).to(self.device)\n",
      "C:\\Users\\Wan Jing\\Documents\\libact-torch\\libact\\query_strategies\\uncertainty_sampling.py:149: UserWarning: To copy construct from a tensor, it is recommended to use sourceTensor.clone().detach() or sourceTensor.clone().detach().requires_grad_(True), rather than torch.tensor(sourceTensor).\n",
      "  ex = torch.tensor(self.dataset.data[self.queried_hist_[-1]][0]).to(self.device)\n",
      "C:\\Users\\Wan Jing\\Documents\\libact-torch\\libact\\query_strategies\\representative_sampling.py:113: UserWarning: To copy construct from a tensor, it is recommended to use sourceTensor.clone().detach() or sourceTensor.clone().detach().requires_grad_(True), rather than torch.tensor(sourceTensor).\n",
      "  ex = torch.tensor(self.dataset.data[self.queried_hist_[-1]][0]).to(self.device)\n",
      "C:\\Users\\Wan Jing\\Documents\\libact-torch\\libact\\query_strategies\\multi_bandits_active_learning.py:227: UserWarning: To copy construct from a tensor, it is recommended to use sourceTensor.clone().detach() or sourceTensor.clone().detach().requires_grad_(True), rather than torch.tensor(sourceTensor).\n",
      "  ex = torch.tensor(self.dataset.data[self.queried_hist_[-1]][0]).to(self.device)\n",
      "C:\\Users\\Wan Jing\\.conda\\envs\\deepCB\\lib\\site-packages\\sklearn\\metrics\\_classification.py:1221: UndefinedMetricWarning: Precision is ill-defined and being set to 0.0 in labels with no predicted samples. Use `zero_division` parameter to control this behavior.\n",
      "  _warn_prf(average, modifier, msg_start, len(result))\n"
     ]
    },
    {
     "name": "stdout",
     "output_type": "stream",
     "text": [
      "    labeled_acc  testing_acc    reward\n",
      "55     0.346595      0.31746  0.244145\n",
      "Tue Sep  1 16:27:21 2020 MultiBanditsActiveLearning query round: 57\n",
      "Strategy Chosen: 4 RepresentativeSampling\n"
     ]
    },
    {
     "name": "stderr",
     "output_type": "stream",
     "text": [
      "C:\\Users\\Wan Jing\\Documents\\libact-torch\\libact\\query_strategies\\representative_sampling.py:147: UserWarning: To copy construct from a tensor, it is recommended to use sourceTensor.clone().detach() or sourceTensor.clone().detach().requires_grad_(True), rather than torch.tensor(sourceTensor).\n",
      "  x = torch.tensor(x).to(self.device)\n",
      "C:\\Users\\Wan Jing\\Documents\\libact-torch\\libact\\query_strategies\\representative_sampling.py:147: UserWarning: To copy construct from a tensor, it is recommended to use sourceTensor.clone().detach() or sourceTensor.clone().detach().requires_grad_(True), rather than torch.tensor(sourceTensor).\n",
      "  x = torch.tensor(x).to(self.device)\n",
      "C:\\Users\\Wan Jing\\Documents\\libact-torch\\libact\\query_strategies\\random_sampling.py:86: UserWarning: To copy construct from a tensor, it is recommended to use sourceTensor.clone().detach() or sourceTensor.clone().detach().requires_grad_(True), rather than torch.tensor(sourceTensor).\n",
      "  ex = torch.tensor(self.dataset.data[self.queried_hist_[-1]][0]).to(self.device)\n",
      "C:\\Users\\Wan Jing\\Documents\\libact-torch\\libact\\query_strategies\\uncertainty_sampling.py:149: UserWarning: To copy construct from a tensor, it is recommended to use sourceTensor.clone().detach() or sourceTensor.clone().detach().requires_grad_(True), rather than torch.tensor(sourceTensor).\n",
      "  ex = torch.tensor(self.dataset.data[self.queried_hist_[-1]][0]).to(self.device)\n",
      "C:\\Users\\Wan Jing\\Documents\\libact-torch\\libact\\query_strategies\\representative_sampling.py:113: UserWarning: To copy construct from a tensor, it is recommended to use sourceTensor.clone().detach() or sourceTensor.clone().detach().requires_grad_(True), rather than torch.tensor(sourceTensor).\n",
      "  ex = torch.tensor(self.dataset.data[self.queried_hist_[-1]][0]).to(self.device)\n",
      "C:\\Users\\Wan Jing\\Documents\\libact-torch\\libact\\query_strategies\\multi_bandits_active_learning.py:227: UserWarning: To copy construct from a tensor, it is recommended to use sourceTensor.clone().detach() or sourceTensor.clone().detach().requires_grad_(True), rather than torch.tensor(sourceTensor).\n",
      "  ex = torch.tensor(self.dataset.data[self.queried_hist_[-1]][0]).to(self.device)\n",
      "C:\\Users\\Wan Jing\\.conda\\envs\\deepCB\\lib\\site-packages\\sklearn\\metrics\\_classification.py:1221: UndefinedMetricWarning: Precision is ill-defined and being set to 0.0 in labels with no predicted samples. Use `zero_division` parameter to control this behavior.\n",
      "  _warn_prf(average, modifier, msg_start, len(result))\n"
     ]
    },
    {
     "name": "stdout",
     "output_type": "stream",
     "text": [
      "    labeled_acc  testing_acc    reward\n",
      "56     0.336644     0.312882  0.238238\n",
      "Tue Sep  1 16:27:42 2020 MultiBanditsActiveLearning query round: 58\n",
      "Strategy Chosen: 3 UncertaintySampling\n"
     ]
    },
    {
     "name": "stderr",
     "output_type": "stream",
     "text": [
      "C:\\Users\\Wan Jing\\Documents\\libact-torch\\libact\\query_strategies\\random_sampling.py:86: UserWarning: To copy construct from a tensor, it is recommended to use sourceTensor.clone().detach() or sourceTensor.clone().detach().requires_grad_(True), rather than torch.tensor(sourceTensor).\n",
      "  ex = torch.tensor(self.dataset.data[self.queried_hist_[-1]][0]).to(self.device)\n",
      "C:\\Users\\Wan Jing\\Documents\\libact-torch\\libact\\query_strategies\\uncertainty_sampling.py:149: UserWarning: To copy construct from a tensor, it is recommended to use sourceTensor.clone().detach() or sourceTensor.clone().detach().requires_grad_(True), rather than torch.tensor(sourceTensor).\n",
      "  ex = torch.tensor(self.dataset.data[self.queried_hist_[-1]][0]).to(self.device)\n",
      "C:\\Users\\Wan Jing\\Documents\\libact-torch\\libact\\query_strategies\\representative_sampling.py:113: UserWarning: To copy construct from a tensor, it is recommended to use sourceTensor.clone().detach() or sourceTensor.clone().detach().requires_grad_(True), rather than torch.tensor(sourceTensor).\n",
      "  ex = torch.tensor(self.dataset.data[self.queried_hist_[-1]][0]).to(self.device)\n",
      "C:\\Users\\Wan Jing\\Documents\\libact-torch\\libact\\query_strategies\\multi_bandits_active_learning.py:227: UserWarning: To copy construct from a tensor, it is recommended to use sourceTensor.clone().detach() or sourceTensor.clone().detach().requires_grad_(True), rather than torch.tensor(sourceTensor).\n",
      "  ex = torch.tensor(self.dataset.data[self.queried_hist_[-1]][0]).to(self.device)\n",
      "C:\\Users\\Wan Jing\\.conda\\envs\\deepCB\\lib\\site-packages\\sklearn\\metrics\\_classification.py:1221: UndefinedMetricWarning: Precision is ill-defined and being set to 0.0 in labels with no predicted samples. Use `zero_division` parameter to control this behavior.\n",
      "  _warn_prf(average, modifier, msg_start, len(result))\n"
     ]
    },
    {
     "name": "stdout",
     "output_type": "stream",
     "text": [
      "    labeled_acc  testing_acc    reward\n",
      "57     0.341874     0.311355  0.243349\n",
      "Tue Sep  1 16:27:57 2020 MultiBanditsActiveLearning query round: 59\n",
      "Strategy Chosen: 0 RandomSampling\n"
     ]
    },
    {
     "name": "stderr",
     "output_type": "stream",
     "text": [
      "C:\\Users\\Wan Jing\\Documents\\libact-torch\\libact\\query_strategies\\random_sampling.py:86: UserWarning: To copy construct from a tensor, it is recommended to use sourceTensor.clone().detach() or sourceTensor.clone().detach().requires_grad_(True), rather than torch.tensor(sourceTensor).\n",
      "  ex = torch.tensor(self.dataset.data[self.queried_hist_[-1]][0]).to(self.device)\n",
      "C:\\Users\\Wan Jing\\Documents\\libact-torch\\libact\\query_strategies\\uncertainty_sampling.py:149: UserWarning: To copy construct from a tensor, it is recommended to use sourceTensor.clone().detach() or sourceTensor.clone().detach().requires_grad_(True), rather than torch.tensor(sourceTensor).\n",
      "  ex = torch.tensor(self.dataset.data[self.queried_hist_[-1]][0]).to(self.device)\n",
      "C:\\Users\\Wan Jing\\Documents\\libact-torch\\libact\\query_strategies\\representative_sampling.py:113: UserWarning: To copy construct from a tensor, it is recommended to use sourceTensor.clone().detach() or sourceTensor.clone().detach().requires_grad_(True), rather than torch.tensor(sourceTensor).\n",
      "  ex = torch.tensor(self.dataset.data[self.queried_hist_[-1]][0]).to(self.device)\n",
      "C:\\Users\\Wan Jing\\Documents\\libact-torch\\libact\\query_strategies\\multi_bandits_active_learning.py:227: UserWarning: To copy construct from a tensor, it is recommended to use sourceTensor.clone().detach() or sourceTensor.clone().detach().requires_grad_(True), rather than torch.tensor(sourceTensor).\n",
      "  ex = torch.tensor(self.dataset.data[self.queried_hist_[-1]][0]).to(self.device)\n",
      "C:\\Users\\Wan Jing\\.conda\\envs\\deepCB\\lib\\site-packages\\sklearn\\metrics\\_classification.py:1221: UndefinedMetricWarning: Precision is ill-defined and being set to 0.0 in labels with no predicted samples. Use `zero_division` parameter to control this behavior.\n",
      "  _warn_prf(average, modifier, msg_start, len(result))\n"
     ]
    },
    {
     "name": "stdout",
     "output_type": "stream",
     "text": [
      "    labeled_acc  testing_acc   reward\n",
      "58     0.344672     0.318376  0.23924\n",
      "Tue Sep  1 16:28:04 2020 MultiBanditsActiveLearning query round: 60\n",
      "Strategy Chosen: 1 UncertaintySampling\n"
     ]
    },
    {
     "name": "stderr",
     "output_type": "stream",
     "text": [
      "C:\\Users\\Wan Jing\\Documents\\libact-torch\\libact\\query_strategies\\random_sampling.py:86: UserWarning: To copy construct from a tensor, it is recommended to use sourceTensor.clone().detach() or sourceTensor.clone().detach().requires_grad_(True), rather than torch.tensor(sourceTensor).\n",
      "  ex = torch.tensor(self.dataset.data[self.queried_hist_[-1]][0]).to(self.device)\n",
      "C:\\Users\\Wan Jing\\Documents\\libact-torch\\libact\\query_strategies\\uncertainty_sampling.py:149: UserWarning: To copy construct from a tensor, it is recommended to use sourceTensor.clone().detach() or sourceTensor.clone().detach().requires_grad_(True), rather than torch.tensor(sourceTensor).\n",
      "  ex = torch.tensor(self.dataset.data[self.queried_hist_[-1]][0]).to(self.device)\n",
      "C:\\Users\\Wan Jing\\Documents\\libact-torch\\libact\\query_strategies\\representative_sampling.py:113: UserWarning: To copy construct from a tensor, it is recommended to use sourceTensor.clone().detach() or sourceTensor.clone().detach().requires_grad_(True), rather than torch.tensor(sourceTensor).\n",
      "  ex = torch.tensor(self.dataset.data[self.queried_hist_[-1]][0]).to(self.device)\n",
      "C:\\Users\\Wan Jing\\Documents\\libact-torch\\libact\\query_strategies\\multi_bandits_active_learning.py:227: UserWarning: To copy construct from a tensor, it is recommended to use sourceTensor.clone().detach() or sourceTensor.clone().detach().requires_grad_(True), rather than torch.tensor(sourceTensor).\n",
      "  ex = torch.tensor(self.dataset.data[self.queried_hist_[-1]][0]).to(self.device)\n",
      "C:\\Users\\Wan Jing\\.conda\\envs\\deepCB\\lib\\site-packages\\sklearn\\metrics\\_classification.py:1221: UndefinedMetricWarning: Precision is ill-defined and being set to 0.0 in labels with no predicted samples. Use `zero_division` parameter to control this behavior.\n",
      "  _warn_prf(average, modifier, msg_start, len(result))\n"
     ]
    },
    {
     "name": "stdout",
     "output_type": "stream",
     "text": [
      "    labeled_acc  testing_acc    reward\n",
      "59     0.340309     0.318987  0.237479\n",
      "Tue Sep  1 16:28:19 2020 MultiBanditsActiveLearning query round: 61\n",
      "Strategy Chosen: 3 UncertaintySampling\n"
     ]
    },
    {
     "name": "stderr",
     "output_type": "stream",
     "text": [
      "C:\\Users\\Wan Jing\\Documents\\libact-torch\\libact\\query_strategies\\random_sampling.py:86: UserWarning: To copy construct from a tensor, it is recommended to use sourceTensor.clone().detach() or sourceTensor.clone().detach().requires_grad_(True), rather than torch.tensor(sourceTensor).\n",
      "  ex = torch.tensor(self.dataset.data[self.queried_hist_[-1]][0]).to(self.device)\n",
      "C:\\Users\\Wan Jing\\Documents\\libact-torch\\libact\\query_strategies\\uncertainty_sampling.py:149: UserWarning: To copy construct from a tensor, it is recommended to use sourceTensor.clone().detach() or sourceTensor.clone().detach().requires_grad_(True), rather than torch.tensor(sourceTensor).\n",
      "  ex = torch.tensor(self.dataset.data[self.queried_hist_[-1]][0]).to(self.device)\n",
      "C:\\Users\\Wan Jing\\Documents\\libact-torch\\libact\\query_strategies\\representative_sampling.py:113: UserWarning: To copy construct from a tensor, it is recommended to use sourceTensor.clone().detach() or sourceTensor.clone().detach().requires_grad_(True), rather than torch.tensor(sourceTensor).\n",
      "  ex = torch.tensor(self.dataset.data[self.queried_hist_[-1]][0]).to(self.device)\n",
      "C:\\Users\\Wan Jing\\Documents\\libact-torch\\libact\\query_strategies\\multi_bandits_active_learning.py:227: UserWarning: To copy construct from a tensor, it is recommended to use sourceTensor.clone().detach() or sourceTensor.clone().detach().requires_grad_(True), rather than torch.tensor(sourceTensor).\n",
      "  ex = torch.tensor(self.dataset.data[self.queried_hist_[-1]][0]).to(self.device)\n",
      "C:\\Users\\Wan Jing\\.conda\\envs\\deepCB\\lib\\site-packages\\sklearn\\metrics\\_classification.py:1221: UndefinedMetricWarning: Precision is ill-defined and being set to 0.0 in labels with no predicted samples. Use `zero_division` parameter to control this behavior.\n",
      "  _warn_prf(average, modifier, msg_start, len(result))\n"
     ]
    },
    {
     "name": "stdout",
     "output_type": "stream",
     "text": [
      "    labeled_acc  testing_acc    reward\n",
      "60     0.341828     0.323871  0.241116\n",
      "Tue Sep  1 16:28:34 2020 MultiBanditsActiveLearning query round: 62\n",
      "Strategy Chosen: 0 RandomSampling\n"
     ]
    },
    {
     "name": "stderr",
     "output_type": "stream",
     "text": [
      "C:\\Users\\Wan Jing\\Documents\\libact-torch\\libact\\query_strategies\\random_sampling.py:86: UserWarning: To copy construct from a tensor, it is recommended to use sourceTensor.clone().detach() or sourceTensor.clone().detach().requires_grad_(True), rather than torch.tensor(sourceTensor).\n",
      "  ex = torch.tensor(self.dataset.data[self.queried_hist_[-1]][0]).to(self.device)\n",
      "C:\\Users\\Wan Jing\\Documents\\libact-torch\\libact\\query_strategies\\uncertainty_sampling.py:149: UserWarning: To copy construct from a tensor, it is recommended to use sourceTensor.clone().detach() or sourceTensor.clone().detach().requires_grad_(True), rather than torch.tensor(sourceTensor).\n",
      "  ex = torch.tensor(self.dataset.data[self.queried_hist_[-1]][0]).to(self.device)\n",
      "C:\\Users\\Wan Jing\\Documents\\libact-torch\\libact\\query_strategies\\representative_sampling.py:113: UserWarning: To copy construct from a tensor, it is recommended to use sourceTensor.clone().detach() or sourceTensor.clone().detach().requires_grad_(True), rather than torch.tensor(sourceTensor).\n",
      "  ex = torch.tensor(self.dataset.data[self.queried_hist_[-1]][0]).to(self.device)\n",
      "C:\\Users\\Wan Jing\\Documents\\libact-torch\\libact\\query_strategies\\multi_bandits_active_learning.py:227: UserWarning: To copy construct from a tensor, it is recommended to use sourceTensor.clone().detach() or sourceTensor.clone().detach().requires_grad_(True), rather than torch.tensor(sourceTensor).\n",
      "  ex = torch.tensor(self.dataset.data[self.queried_hist_[-1]][0]).to(self.device)\n",
      "C:\\Users\\Wan Jing\\.conda\\envs\\deepCB\\lib\\site-packages\\sklearn\\metrics\\_classification.py:1221: UndefinedMetricWarning: Precision is ill-defined and being set to 0.0 in labels with no predicted samples. Use `zero_division` parameter to control this behavior.\n",
      "  _warn_prf(average, modifier, msg_start, len(result))\n"
     ]
    },
    {
     "name": "stdout",
     "output_type": "stream",
     "text": [
      "    labeled_acc  testing_acc    reward\n",
      "61     0.344097     0.323565  0.245021\n",
      "Tue Sep  1 16:28:41 2020 MultiBanditsActiveLearning query round: 63\n",
      "Strategy Chosen: 2 UncertaintySampling\n"
     ]
    },
    {
     "name": "stderr",
     "output_type": "stream",
     "text": [
      "C:\\Users\\Wan Jing\\Documents\\libact-torch\\libact\\query_strategies\\random_sampling.py:86: UserWarning: To copy construct from a tensor, it is recommended to use sourceTensor.clone().detach() or sourceTensor.clone().detach().requires_grad_(True), rather than torch.tensor(sourceTensor).\n",
      "  ex = torch.tensor(self.dataset.data[self.queried_hist_[-1]][0]).to(self.device)\n",
      "C:\\Users\\Wan Jing\\Documents\\libact-torch\\libact\\query_strategies\\uncertainty_sampling.py:149: UserWarning: To copy construct from a tensor, it is recommended to use sourceTensor.clone().detach() or sourceTensor.clone().detach().requires_grad_(True), rather than torch.tensor(sourceTensor).\n",
      "  ex = torch.tensor(self.dataset.data[self.queried_hist_[-1]][0]).to(self.device)\n",
      "C:\\Users\\Wan Jing\\Documents\\libact-torch\\libact\\query_strategies\\representative_sampling.py:113: UserWarning: To copy construct from a tensor, it is recommended to use sourceTensor.clone().detach() or sourceTensor.clone().detach().requires_grad_(True), rather than torch.tensor(sourceTensor).\n",
      "  ex = torch.tensor(self.dataset.data[self.queried_hist_[-1]][0]).to(self.device)\n",
      "C:\\Users\\Wan Jing\\Documents\\libact-torch\\libact\\query_strategies\\multi_bandits_active_learning.py:227: UserWarning: To copy construct from a tensor, it is recommended to use sourceTensor.clone().detach() or sourceTensor.clone().detach().requires_grad_(True), rather than torch.tensor(sourceTensor).\n",
      "  ex = torch.tensor(self.dataset.data[self.queried_hist_[-1]][0]).to(self.device)\n",
      "C:\\Users\\Wan Jing\\.conda\\envs\\deepCB\\lib\\site-packages\\sklearn\\metrics\\_classification.py:1221: UndefinedMetricWarning: Precision is ill-defined and being set to 0.0 in labels with no predicted samples. Use `zero_division` parameter to control this behavior.\n",
      "  _warn_prf(average, modifier, msg_start, len(result))\n"
     ]
    },
    {
     "name": "stdout",
     "output_type": "stream",
     "text": [
      "    labeled_acc  testing_acc    reward\n",
      "62     0.352511     0.319597  0.249295\n",
      "Tue Sep  1 16:28:56 2020 MultiBanditsActiveLearning query round: 64\n",
      "Strategy Chosen: 4 RepresentativeSampling\n"
     ]
    },
    {
     "name": "stderr",
     "output_type": "stream",
     "text": [
      "C:\\Users\\Wan Jing\\Documents\\libact-torch\\libact\\query_strategies\\representative_sampling.py:147: UserWarning: To copy construct from a tensor, it is recommended to use sourceTensor.clone().detach() or sourceTensor.clone().detach().requires_grad_(True), rather than torch.tensor(sourceTensor).\n",
      "  x = torch.tensor(x).to(self.device)\n",
      "C:\\Users\\Wan Jing\\Documents\\libact-torch\\libact\\query_strategies\\representative_sampling.py:147: UserWarning: To copy construct from a tensor, it is recommended to use sourceTensor.clone().detach() or sourceTensor.clone().detach().requires_grad_(True), rather than torch.tensor(sourceTensor).\n",
      "  x = torch.tensor(x).to(self.device)\n",
      "C:\\Users\\Wan Jing\\Documents\\libact-torch\\libact\\query_strategies\\random_sampling.py:86: UserWarning: To copy construct from a tensor, it is recommended to use sourceTensor.clone().detach() or sourceTensor.clone().detach().requires_grad_(True), rather than torch.tensor(sourceTensor).\n",
      "  ex = torch.tensor(self.dataset.data[self.queried_hist_[-1]][0]).to(self.device)\n",
      "C:\\Users\\Wan Jing\\Documents\\libact-torch\\libact\\query_strategies\\uncertainty_sampling.py:149: UserWarning: To copy construct from a tensor, it is recommended to use sourceTensor.clone().detach() or sourceTensor.clone().detach().requires_grad_(True), rather than torch.tensor(sourceTensor).\n",
      "  ex = torch.tensor(self.dataset.data[self.queried_hist_[-1]][0]).to(self.device)\n",
      "C:\\Users\\Wan Jing\\Documents\\libact-torch\\libact\\query_strategies\\representative_sampling.py:113: UserWarning: To copy construct from a tensor, it is recommended to use sourceTensor.clone().detach() or sourceTensor.clone().detach().requires_grad_(True), rather than torch.tensor(sourceTensor).\n",
      "  ex = torch.tensor(self.dataset.data[self.queried_hist_[-1]][0]).to(self.device)\n",
      "C:\\Users\\Wan Jing\\Documents\\libact-torch\\libact\\query_strategies\\multi_bandits_active_learning.py:227: UserWarning: To copy construct from a tensor, it is recommended to use sourceTensor.clone().detach() or sourceTensor.clone().detach().requires_grad_(True), rather than torch.tensor(sourceTensor).\n",
      "  ex = torch.tensor(self.dataset.data[self.queried_hist_[-1]][0]).to(self.device)\n",
      "C:\\Users\\Wan Jing\\.conda\\envs\\deepCB\\lib\\site-packages\\sklearn\\metrics\\_classification.py:1221: UndefinedMetricWarning: Precision is ill-defined and being set to 0.0 in labels with no predicted samples. Use `zero_division` parameter to control this behavior.\n",
      "  _warn_prf(average, modifier, msg_start, len(result))\n"
     ]
    },
    {
     "name": "stdout",
     "output_type": "stream",
     "text": [
      "    labeled_acc  testing_acc    reward\n",
      "63     0.355358     0.321734  0.247575\n",
      "Tue Sep  1 16:29:18 2020 MultiBanditsActiveLearning query round: 65\n",
      "Strategy Chosen: 1 UncertaintySampling\n"
     ]
    },
    {
     "name": "stderr",
     "output_type": "stream",
     "text": [
      "C:\\Users\\Wan Jing\\Documents\\libact-torch\\libact\\query_strategies\\random_sampling.py:86: UserWarning: To copy construct from a tensor, it is recommended to use sourceTensor.clone().detach() or sourceTensor.clone().detach().requires_grad_(True), rather than torch.tensor(sourceTensor).\n",
      "  ex = torch.tensor(self.dataset.data[self.queried_hist_[-1]][0]).to(self.device)\n",
      "C:\\Users\\Wan Jing\\Documents\\libact-torch\\libact\\query_strategies\\uncertainty_sampling.py:149: UserWarning: To copy construct from a tensor, it is recommended to use sourceTensor.clone().detach() or sourceTensor.clone().detach().requires_grad_(True), rather than torch.tensor(sourceTensor).\n",
      "  ex = torch.tensor(self.dataset.data[self.queried_hist_[-1]][0]).to(self.device)\n",
      "C:\\Users\\Wan Jing\\Documents\\libact-torch\\libact\\query_strategies\\representative_sampling.py:113: UserWarning: To copy construct from a tensor, it is recommended to use sourceTensor.clone().detach() or sourceTensor.clone().detach().requires_grad_(True), rather than torch.tensor(sourceTensor).\n",
      "  ex = torch.tensor(self.dataset.data[self.queried_hist_[-1]][0]).to(self.device)\n",
      "C:\\Users\\Wan Jing\\Documents\\libact-torch\\libact\\query_strategies\\multi_bandits_active_learning.py:227: UserWarning: To copy construct from a tensor, it is recommended to use sourceTensor.clone().detach() or sourceTensor.clone().detach().requires_grad_(True), rather than torch.tensor(sourceTensor).\n",
      "  ex = torch.tensor(self.dataset.data[self.queried_hist_[-1]][0]).to(self.device)\n",
      "C:\\Users\\Wan Jing\\.conda\\envs\\deepCB\\lib\\site-packages\\sklearn\\metrics\\_classification.py:1221: UndefinedMetricWarning: Precision is ill-defined and being set to 0.0 in labels with no predicted samples. Use `zero_division` parameter to control this behavior.\n",
      "  _warn_prf(average, modifier, msg_start, len(result))\n"
     ]
    },
    {
     "name": "stdout",
     "output_type": "stream",
     "text": [
      "    labeled_acc  testing_acc   reward\n",
      "64     0.341035     0.325092  0.23971\n",
      "Tue Sep  1 16:29:33 2020 MultiBanditsActiveLearning query round: 66\n",
      "Strategy Chosen: 0 RandomSampling\n"
     ]
    },
    {
     "name": "stderr",
     "output_type": "stream",
     "text": [
      "C:\\Users\\Wan Jing\\Documents\\libact-torch\\libact\\query_strategies\\random_sampling.py:86: UserWarning: To copy construct from a tensor, it is recommended to use sourceTensor.clone().detach() or sourceTensor.clone().detach().requires_grad_(True), rather than torch.tensor(sourceTensor).\n",
      "  ex = torch.tensor(self.dataset.data[self.queried_hist_[-1]][0]).to(self.device)\n",
      "C:\\Users\\Wan Jing\\Documents\\libact-torch\\libact\\query_strategies\\uncertainty_sampling.py:149: UserWarning: To copy construct from a tensor, it is recommended to use sourceTensor.clone().detach() or sourceTensor.clone().detach().requires_grad_(True), rather than torch.tensor(sourceTensor).\n",
      "  ex = torch.tensor(self.dataset.data[self.queried_hist_[-1]][0]).to(self.device)\n",
      "C:\\Users\\Wan Jing\\Documents\\libact-torch\\libact\\query_strategies\\representative_sampling.py:113: UserWarning: To copy construct from a tensor, it is recommended to use sourceTensor.clone().detach() or sourceTensor.clone().detach().requires_grad_(True), rather than torch.tensor(sourceTensor).\n",
      "  ex = torch.tensor(self.dataset.data[self.queried_hist_[-1]][0]).to(self.device)\n",
      "C:\\Users\\Wan Jing\\Documents\\libact-torch\\libact\\query_strategies\\multi_bandits_active_learning.py:227: UserWarning: To copy construct from a tensor, it is recommended to use sourceTensor.clone().detach() or sourceTensor.clone().detach().requires_grad_(True), rather than torch.tensor(sourceTensor).\n",
      "  ex = torch.tensor(self.dataset.data[self.queried_hist_[-1]][0]).to(self.device)\n"
     ]
    },
    {
     "name": "stdout",
     "output_type": "stream",
     "text": [
      "    labeled_acc  testing_acc    reward\n",
      "65     0.357258     0.322039  0.257024\n",
      "Tue Sep  1 16:29:40 2020 MultiBanditsActiveLearning query round: 67\n",
      "Strategy Chosen: 4 RepresentativeSampling\n"
     ]
    },
    {
     "name": "stderr",
     "output_type": "stream",
     "text": [
      "C:\\Users\\Wan Jing\\Documents\\libact-torch\\libact\\query_strategies\\representative_sampling.py:147: UserWarning: To copy construct from a tensor, it is recommended to use sourceTensor.clone().detach() or sourceTensor.clone().detach().requires_grad_(True), rather than torch.tensor(sourceTensor).\n",
      "  x = torch.tensor(x).to(self.device)\n",
      "C:\\Users\\Wan Jing\\Documents\\libact-torch\\libact\\query_strategies\\representative_sampling.py:147: UserWarning: To copy construct from a tensor, it is recommended to use sourceTensor.clone().detach() or sourceTensor.clone().detach().requires_grad_(True), rather than torch.tensor(sourceTensor).\n",
      "  x = torch.tensor(x).to(self.device)\n",
      "C:\\Users\\Wan Jing\\Documents\\libact-torch\\libact\\query_strategies\\random_sampling.py:86: UserWarning: To copy construct from a tensor, it is recommended to use sourceTensor.clone().detach() or sourceTensor.clone().detach().requires_grad_(True), rather than torch.tensor(sourceTensor).\n",
      "  ex = torch.tensor(self.dataset.data[self.queried_hist_[-1]][0]).to(self.device)\n",
      "C:\\Users\\Wan Jing\\Documents\\libact-torch\\libact\\query_strategies\\uncertainty_sampling.py:149: UserWarning: To copy construct from a tensor, it is recommended to use sourceTensor.clone().detach() or sourceTensor.clone().detach().requires_grad_(True), rather than torch.tensor(sourceTensor).\n",
      "  ex = torch.tensor(self.dataset.data[self.queried_hist_[-1]][0]).to(self.device)\n",
      "C:\\Users\\Wan Jing\\Documents\\libact-torch\\libact\\query_strategies\\representative_sampling.py:113: UserWarning: To copy construct from a tensor, it is recommended to use sourceTensor.clone().detach() or sourceTensor.clone().detach().requires_grad_(True), rather than torch.tensor(sourceTensor).\n",
      "  ex = torch.tensor(self.dataset.data[self.queried_hist_[-1]][0]).to(self.device)\n",
      "C:\\Users\\Wan Jing\\Documents\\libact-torch\\libact\\query_strategies\\multi_bandits_active_learning.py:227: UserWarning: To copy construct from a tensor, it is recommended to use sourceTensor.clone().detach() or sourceTensor.clone().detach().requires_grad_(True), rather than torch.tensor(sourceTensor).\n",
      "  ex = torch.tensor(self.dataset.data[self.queried_hist_[-1]][0]).to(self.device)\n",
      "C:\\Users\\Wan Jing\\.conda\\envs\\deepCB\\lib\\site-packages\\sklearn\\metrics\\_classification.py:1221: UndefinedMetricWarning: Precision is ill-defined and being set to 0.0 in labels with no predicted samples. Use `zero_division` parameter to control this behavior.\n",
      "  _warn_prf(average, modifier, msg_start, len(result))\n"
     ]
    },
    {
     "name": "stdout",
     "output_type": "stream",
     "text": [
      "    labeled_acc  testing_acc   reward\n",
      "66     0.351308     0.324481  0.24955\n",
      "Tue Sep  1 16:30:02 2020 MultiBanditsActiveLearning query round: 68\n",
      "Strategy Chosen: 2 UncertaintySampling\n"
     ]
    },
    {
     "name": "stderr",
     "output_type": "stream",
     "text": [
      "C:\\Users\\Wan Jing\\Documents\\libact-torch\\libact\\query_strategies\\random_sampling.py:86: UserWarning: To copy construct from a tensor, it is recommended to use sourceTensor.clone().detach() or sourceTensor.clone().detach().requires_grad_(True), rather than torch.tensor(sourceTensor).\n",
      "  ex = torch.tensor(self.dataset.data[self.queried_hist_[-1]][0]).to(self.device)\n",
      "C:\\Users\\Wan Jing\\Documents\\libact-torch\\libact\\query_strategies\\uncertainty_sampling.py:149: UserWarning: To copy construct from a tensor, it is recommended to use sourceTensor.clone().detach() or sourceTensor.clone().detach().requires_grad_(True), rather than torch.tensor(sourceTensor).\n",
      "  ex = torch.tensor(self.dataset.data[self.queried_hist_[-1]][0]).to(self.device)\n",
      "C:\\Users\\Wan Jing\\Documents\\libact-torch\\libact\\query_strategies\\representative_sampling.py:113: UserWarning: To copy construct from a tensor, it is recommended to use sourceTensor.clone().detach() or sourceTensor.clone().detach().requires_grad_(True), rather than torch.tensor(sourceTensor).\n",
      "  ex = torch.tensor(self.dataset.data[self.queried_hist_[-1]][0]).to(self.device)\n",
      "C:\\Users\\Wan Jing\\Documents\\libact-torch\\libact\\query_strategies\\multi_bandits_active_learning.py:227: UserWarning: To copy construct from a tensor, it is recommended to use sourceTensor.clone().detach() or sourceTensor.clone().detach().requires_grad_(True), rather than torch.tensor(sourceTensor).\n",
      "  ex = torch.tensor(self.dataset.data[self.queried_hist_[-1]][0]).to(self.device)\n",
      "C:\\Users\\Wan Jing\\.conda\\envs\\deepCB\\lib\\site-packages\\sklearn\\metrics\\_classification.py:1221: UndefinedMetricWarning: Precision is ill-defined and being set to 0.0 in labels with no predicted samples. Use `zero_division` parameter to control this behavior.\n",
      "  _warn_prf(average, modifier, msg_start, len(result))\n"
     ]
    },
    {
     "name": "stdout",
     "output_type": "stream",
     "text": [
      "    labeled_acc  testing_acc    reward\n",
      "67     0.352607     0.322955  0.246168\n",
      "Tue Sep  1 16:30:17 2020 MultiBanditsActiveLearning query round: 69\n",
      "Strategy Chosen: 0 RandomSampling\n"
     ]
    },
    {
     "name": "stderr",
     "output_type": "stream",
     "text": [
      "C:\\Users\\Wan Jing\\Documents\\libact-torch\\libact\\query_strategies\\random_sampling.py:86: UserWarning: To copy construct from a tensor, it is recommended to use sourceTensor.clone().detach() or sourceTensor.clone().detach().requires_grad_(True), rather than torch.tensor(sourceTensor).\n",
      "  ex = torch.tensor(self.dataset.data[self.queried_hist_[-1]][0]).to(self.device)\n",
      "C:\\Users\\Wan Jing\\Documents\\libact-torch\\libact\\query_strategies\\uncertainty_sampling.py:149: UserWarning: To copy construct from a tensor, it is recommended to use sourceTensor.clone().detach() or sourceTensor.clone().detach().requires_grad_(True), rather than torch.tensor(sourceTensor).\n",
      "  ex = torch.tensor(self.dataset.data[self.queried_hist_[-1]][0]).to(self.device)\n",
      "C:\\Users\\Wan Jing\\Documents\\libact-torch\\libact\\query_strategies\\representative_sampling.py:113: UserWarning: To copy construct from a tensor, it is recommended to use sourceTensor.clone().detach() or sourceTensor.clone().detach().requires_grad_(True), rather than torch.tensor(sourceTensor).\n",
      "  ex = torch.tensor(self.dataset.data[self.queried_hist_[-1]][0]).to(self.device)\n",
      "C:\\Users\\Wan Jing\\Documents\\libact-torch\\libact\\query_strategies\\multi_bandits_active_learning.py:227: UserWarning: To copy construct from a tensor, it is recommended to use sourceTensor.clone().detach() or sourceTensor.clone().detach().requires_grad_(True), rather than torch.tensor(sourceTensor).\n",
      "  ex = torch.tensor(self.dataset.data[self.queried_hist_[-1]][0]).to(self.device)\n",
      "C:\\Users\\Wan Jing\\.conda\\envs\\deepCB\\lib\\site-packages\\sklearn\\metrics\\_classification.py:1221: UndefinedMetricWarning: Precision is ill-defined and being set to 0.0 in labels with no predicted samples. Use `zero_division` parameter to control this behavior.\n",
      "  _warn_prf(average, modifier, msg_start, len(result))\n"
     ]
    },
    {
     "name": "stdout",
     "output_type": "stream",
     "text": [
      "    labeled_acc  testing_acc    reward\n",
      "68     0.354909     0.322039  0.250489\n",
      "Tue Sep  1 16:30:24 2020 MultiBanditsActiveLearning query round: 70\n",
      "Strategy Chosen: 0 RandomSampling\n"
     ]
    },
    {
     "name": "stderr",
     "output_type": "stream",
     "text": [
      "C:\\Users\\Wan Jing\\Documents\\libact-torch\\libact\\query_strategies\\random_sampling.py:86: UserWarning: To copy construct from a tensor, it is recommended to use sourceTensor.clone().detach() or sourceTensor.clone().detach().requires_grad_(True), rather than torch.tensor(sourceTensor).\n",
      "  ex = torch.tensor(self.dataset.data[self.queried_hist_[-1]][0]).to(self.device)\n",
      "C:\\Users\\Wan Jing\\Documents\\libact-torch\\libact\\query_strategies\\uncertainty_sampling.py:149: UserWarning: To copy construct from a tensor, it is recommended to use sourceTensor.clone().detach() or sourceTensor.clone().detach().requires_grad_(True), rather than torch.tensor(sourceTensor).\n",
      "  ex = torch.tensor(self.dataset.data[self.queried_hist_[-1]][0]).to(self.device)\n",
      "C:\\Users\\Wan Jing\\Documents\\libact-torch\\libact\\query_strategies\\representative_sampling.py:113: UserWarning: To copy construct from a tensor, it is recommended to use sourceTensor.clone().detach() or sourceTensor.clone().detach().requires_grad_(True), rather than torch.tensor(sourceTensor).\n",
      "  ex = torch.tensor(self.dataset.data[self.queried_hist_[-1]][0]).to(self.device)\n",
      "C:\\Users\\Wan Jing\\Documents\\libact-torch\\libact\\query_strategies\\multi_bandits_active_learning.py:227: UserWarning: To copy construct from a tensor, it is recommended to use sourceTensor.clone().detach() or sourceTensor.clone().detach().requires_grad_(True), rather than torch.tensor(sourceTensor).\n",
      "  ex = torch.tensor(self.dataset.data[self.queried_hist_[-1]][0]).to(self.device)\n",
      "C:\\Users\\Wan Jing\\.conda\\envs\\deepCB\\lib\\site-packages\\sklearn\\metrics\\_classification.py:1221: UndefinedMetricWarning: Precision is ill-defined and being set to 0.0 in labels with no predicted samples. Use `zero_division` parameter to control this behavior.\n",
      "  _warn_prf(average, modifier, msg_start, len(result))\n"
     ]
    },
    {
     "name": "stdout",
     "output_type": "stream",
     "text": [
      "    labeled_acc  testing_acc    reward\n",
      "69     0.361386     0.330586  0.256783\n",
      "Tue Sep  1 16:30:32 2020 MultiBanditsActiveLearning query round: 71\n",
      "Strategy Chosen: 0 RandomSampling\n"
     ]
    },
    {
     "name": "stderr",
     "output_type": "stream",
     "text": [
      "C:\\Users\\Wan Jing\\Documents\\libact-torch\\libact\\query_strategies\\random_sampling.py:86: UserWarning: To copy construct from a tensor, it is recommended to use sourceTensor.clone().detach() or sourceTensor.clone().detach().requires_grad_(True), rather than torch.tensor(sourceTensor).\n",
      "  ex = torch.tensor(self.dataset.data[self.queried_hist_[-1]][0]).to(self.device)\n",
      "C:\\Users\\Wan Jing\\Documents\\libact-torch\\libact\\query_strategies\\uncertainty_sampling.py:149: UserWarning: To copy construct from a tensor, it is recommended to use sourceTensor.clone().detach() or sourceTensor.clone().detach().requires_grad_(True), rather than torch.tensor(sourceTensor).\n",
      "  ex = torch.tensor(self.dataset.data[self.queried_hist_[-1]][0]).to(self.device)\n",
      "C:\\Users\\Wan Jing\\Documents\\libact-torch\\libact\\query_strategies\\representative_sampling.py:113: UserWarning: To copy construct from a tensor, it is recommended to use sourceTensor.clone().detach() or sourceTensor.clone().detach().requires_grad_(True), rather than torch.tensor(sourceTensor).\n",
      "  ex = torch.tensor(self.dataset.data[self.queried_hist_[-1]][0]).to(self.device)\n",
      "C:\\Users\\Wan Jing\\Documents\\libact-torch\\libact\\query_strategies\\multi_bandits_active_learning.py:227: UserWarning: To copy construct from a tensor, it is recommended to use sourceTensor.clone().detach() or sourceTensor.clone().detach().requires_grad_(True), rather than torch.tensor(sourceTensor).\n",
      "  ex = torch.tensor(self.dataset.data[self.queried_hist_[-1]][0]).to(self.device)\n",
      "C:\\Users\\Wan Jing\\.conda\\envs\\deepCB\\lib\\site-packages\\sklearn\\metrics\\_classification.py:1221: UndefinedMetricWarning: Precision is ill-defined and being set to 0.0 in labels with no predicted samples. Use `zero_division` parameter to control this behavior.\n",
      "  _warn_prf(average, modifier, msg_start, len(result))\n"
     ]
    },
    {
     "name": "stdout",
     "output_type": "stream",
     "text": [
      "    labeled_acc  testing_acc    reward\n",
      "70      0.35723     0.329365  0.253611\n",
      "Tue Sep  1 16:30:39 2020 MultiBanditsActiveLearning query round: 72\n",
      "Strategy Chosen: 1 UncertaintySampling\n"
     ]
    },
    {
     "name": "stderr",
     "output_type": "stream",
     "text": [
      "C:\\Users\\Wan Jing\\Documents\\libact-torch\\libact\\query_strategies\\random_sampling.py:86: UserWarning: To copy construct from a tensor, it is recommended to use sourceTensor.clone().detach() or sourceTensor.clone().detach().requires_grad_(True), rather than torch.tensor(sourceTensor).\n",
      "  ex = torch.tensor(self.dataset.data[self.queried_hist_[-1]][0]).to(self.device)\n",
      "C:\\Users\\Wan Jing\\Documents\\libact-torch\\libact\\query_strategies\\uncertainty_sampling.py:149: UserWarning: To copy construct from a tensor, it is recommended to use sourceTensor.clone().detach() or sourceTensor.clone().detach().requires_grad_(True), rather than torch.tensor(sourceTensor).\n",
      "  ex = torch.tensor(self.dataset.data[self.queried_hist_[-1]][0]).to(self.device)\n",
      "C:\\Users\\Wan Jing\\Documents\\libact-torch\\libact\\query_strategies\\representative_sampling.py:113: UserWarning: To copy construct from a tensor, it is recommended to use sourceTensor.clone().detach() or sourceTensor.clone().detach().requires_grad_(True), rather than torch.tensor(sourceTensor).\n",
      "  ex = torch.tensor(self.dataset.data[self.queried_hist_[-1]][0]).to(self.device)\n",
      "C:\\Users\\Wan Jing\\Documents\\libact-torch\\libact\\query_strategies\\multi_bandits_active_learning.py:227: UserWarning: To copy construct from a tensor, it is recommended to use sourceTensor.clone().detach() or sourceTensor.clone().detach().requires_grad_(True), rather than torch.tensor(sourceTensor).\n",
      "  ex = torch.tensor(self.dataset.data[self.queried_hist_[-1]][0]).to(self.device)\n"
     ]
    },
    {
     "name": "stdout",
     "output_type": "stream",
     "text": [
      "    labeled_acc  testing_acc    reward\n",
      "71      0.35983     0.327839  0.253416\n",
      "Tue Sep  1 16:30:54 2020 MultiBanditsActiveLearning query round: 73\n",
      "Strategy Chosen: 1 UncertaintySampling\n"
     ]
    },
    {
     "name": "stderr",
     "output_type": "stream",
     "text": [
      "C:\\Users\\Wan Jing\\Documents\\libact-torch\\libact\\query_strategies\\random_sampling.py:86: UserWarning: To copy construct from a tensor, it is recommended to use sourceTensor.clone().detach() or sourceTensor.clone().detach().requires_grad_(True), rather than torch.tensor(sourceTensor).\n",
      "  ex = torch.tensor(self.dataset.data[self.queried_hist_[-1]][0]).to(self.device)\n",
      "C:\\Users\\Wan Jing\\Documents\\libact-torch\\libact\\query_strategies\\uncertainty_sampling.py:149: UserWarning: To copy construct from a tensor, it is recommended to use sourceTensor.clone().detach() or sourceTensor.clone().detach().requires_grad_(True), rather than torch.tensor(sourceTensor).\n",
      "  ex = torch.tensor(self.dataset.data[self.queried_hist_[-1]][0]).to(self.device)\n",
      "C:\\Users\\Wan Jing\\Documents\\libact-torch\\libact\\query_strategies\\representative_sampling.py:113: UserWarning: To copy construct from a tensor, it is recommended to use sourceTensor.clone().detach() or sourceTensor.clone().detach().requires_grad_(True), rather than torch.tensor(sourceTensor).\n",
      "  ex = torch.tensor(self.dataset.data[self.queried_hist_[-1]][0]).to(self.device)\n",
      "C:\\Users\\Wan Jing\\Documents\\libact-torch\\libact\\query_strategies\\multi_bandits_active_learning.py:227: UserWarning: To copy construct from a tensor, it is recommended to use sourceTensor.clone().detach() or sourceTensor.clone().detach().requires_grad_(True), rather than torch.tensor(sourceTensor).\n",
      "  ex = torch.tensor(self.dataset.data[self.queried_hist_[-1]][0]).to(self.device)\n",
      "C:\\Users\\Wan Jing\\.conda\\envs\\deepCB\\lib\\site-packages\\sklearn\\metrics\\_classification.py:1221: UndefinedMetricWarning: Precision is ill-defined and being set to 0.0 in labels with no predicted samples. Use `zero_division` parameter to control this behavior.\n",
      "  _warn_prf(average, modifier, msg_start, len(result))\n"
     ]
    },
    {
     "name": "stdout",
     "output_type": "stream",
     "text": [
      "    labeled_acc  testing_acc    reward\n",
      "72     0.354848     0.327839  0.238713\n",
      "Tue Sep  1 16:31:09 2020 MultiBanditsActiveLearning query round: 74\n",
      "Strategy Chosen: 4 RepresentativeSampling\n"
     ]
    },
    {
     "name": "stderr",
     "output_type": "stream",
     "text": [
      "C:\\Users\\Wan Jing\\Documents\\libact-torch\\libact\\query_strategies\\representative_sampling.py:147: UserWarning: To copy construct from a tensor, it is recommended to use sourceTensor.clone().detach() or sourceTensor.clone().detach().requires_grad_(True), rather than torch.tensor(sourceTensor).\n",
      "  x = torch.tensor(x).to(self.device)\n",
      "C:\\Users\\Wan Jing\\Documents\\libact-torch\\libact\\query_strategies\\representative_sampling.py:147: UserWarning: To copy construct from a tensor, it is recommended to use sourceTensor.clone().detach() or sourceTensor.clone().detach().requires_grad_(True), rather than torch.tensor(sourceTensor).\n",
      "  x = torch.tensor(x).to(self.device)\n",
      "C:\\Users\\Wan Jing\\Documents\\libact-torch\\libact\\query_strategies\\random_sampling.py:86: UserWarning: To copy construct from a tensor, it is recommended to use sourceTensor.clone().detach() or sourceTensor.clone().detach().requires_grad_(True), rather than torch.tensor(sourceTensor).\n",
      "  ex = torch.tensor(self.dataset.data[self.queried_hist_[-1]][0]).to(self.device)\n",
      "C:\\Users\\Wan Jing\\Documents\\libact-torch\\libact\\query_strategies\\uncertainty_sampling.py:149: UserWarning: To copy construct from a tensor, it is recommended to use sourceTensor.clone().detach() or sourceTensor.clone().detach().requires_grad_(True), rather than torch.tensor(sourceTensor).\n",
      "  ex = torch.tensor(self.dataset.data[self.queried_hist_[-1]][0]).to(self.device)\n",
      "C:\\Users\\Wan Jing\\Documents\\libact-torch\\libact\\query_strategies\\representative_sampling.py:113: UserWarning: To copy construct from a tensor, it is recommended to use sourceTensor.clone().detach() or sourceTensor.clone().detach().requires_grad_(True), rather than torch.tensor(sourceTensor).\n",
      "  ex = torch.tensor(self.dataset.data[self.queried_hist_[-1]][0]).to(self.device)\n",
      "C:\\Users\\Wan Jing\\Documents\\libact-torch\\libact\\query_strategies\\multi_bandits_active_learning.py:227: UserWarning: To copy construct from a tensor, it is recommended to use sourceTensor.clone().detach() or sourceTensor.clone().detach().requires_grad_(True), rather than torch.tensor(sourceTensor).\n",
      "  ex = torch.tensor(self.dataset.data[self.queried_hist_[-1]][0]).to(self.device)\n",
      "C:\\Users\\Wan Jing\\.conda\\envs\\deepCB\\lib\\site-packages\\sklearn\\metrics\\_classification.py:1221: UndefinedMetricWarning: Precision is ill-defined and being set to 0.0 in labels with no predicted samples. Use `zero_division` parameter to control this behavior.\n",
      "  _warn_prf(average, modifier, msg_start, len(result))\n"
     ]
    },
    {
     "name": "stdout",
     "output_type": "stream",
     "text": [
      "    labeled_acc  testing_acc    reward\n",
      "73     0.354935     0.332418  0.243957\n",
      "Tue Sep  1 16:31:31 2020 MultiBanditsActiveLearning query round: 75\n",
      "Strategy Chosen: 4 RepresentativeSampling\n"
     ]
    },
    {
     "name": "stderr",
     "output_type": "stream",
     "text": [
      "C:\\Users\\Wan Jing\\Documents\\libact-torch\\libact\\query_strategies\\representative_sampling.py:147: UserWarning: To copy construct from a tensor, it is recommended to use sourceTensor.clone().detach() or sourceTensor.clone().detach().requires_grad_(True), rather than torch.tensor(sourceTensor).\n",
      "  x = torch.tensor(x).to(self.device)\n",
      "C:\\Users\\Wan Jing\\Documents\\libact-torch\\libact\\query_strategies\\representative_sampling.py:147: UserWarning: To copy construct from a tensor, it is recommended to use sourceTensor.clone().detach() or sourceTensor.clone().detach().requires_grad_(True), rather than torch.tensor(sourceTensor).\n",
      "  x = torch.tensor(x).to(self.device)\n",
      "C:\\Users\\Wan Jing\\Documents\\libact-torch\\libact\\query_strategies\\random_sampling.py:86: UserWarning: To copy construct from a tensor, it is recommended to use sourceTensor.clone().detach() or sourceTensor.clone().detach().requires_grad_(True), rather than torch.tensor(sourceTensor).\n",
      "  ex = torch.tensor(self.dataset.data[self.queried_hist_[-1]][0]).to(self.device)\n",
      "C:\\Users\\Wan Jing\\Documents\\libact-torch\\libact\\query_strategies\\uncertainty_sampling.py:149: UserWarning: To copy construct from a tensor, it is recommended to use sourceTensor.clone().detach() or sourceTensor.clone().detach().requires_grad_(True), rather than torch.tensor(sourceTensor).\n",
      "  ex = torch.tensor(self.dataset.data[self.queried_hist_[-1]][0]).to(self.device)\n",
      "C:\\Users\\Wan Jing\\Documents\\libact-torch\\libact\\query_strategies\\representative_sampling.py:113: UserWarning: To copy construct from a tensor, it is recommended to use sourceTensor.clone().detach() or sourceTensor.clone().detach().requires_grad_(True), rather than torch.tensor(sourceTensor).\n",
      "  ex = torch.tensor(self.dataset.data[self.queried_hist_[-1]][0]).to(self.device)\n",
      "C:\\Users\\Wan Jing\\Documents\\libact-torch\\libact\\query_strategies\\multi_bandits_active_learning.py:227: UserWarning: To copy construct from a tensor, it is recommended to use sourceTensor.clone().detach() or sourceTensor.clone().detach().requires_grad_(True), rather than torch.tensor(sourceTensor).\n",
      "  ex = torch.tensor(self.dataset.data[self.queried_hist_[-1]][0]).to(self.device)\n",
      "C:\\Users\\Wan Jing\\.conda\\envs\\deepCB\\lib\\site-packages\\sklearn\\metrics\\_classification.py:1221: UndefinedMetricWarning: Precision is ill-defined and being set to 0.0 in labels with no predicted samples. Use `zero_division` parameter to control this behavior.\n",
      "  _warn_prf(average, modifier, msg_start, len(result))\n"
     ]
    },
    {
     "name": "stdout",
     "output_type": "stream",
     "text": [
      "    labeled_acc  testing_acc    reward\n",
      "74     0.361871      0.32967  0.257225\n",
      "Tue Sep  1 16:31:53 2020 MultiBanditsActiveLearning query round: 76\n",
      "Strategy Chosen: 0 RandomSampling\n"
     ]
    },
    {
     "name": "stderr",
     "output_type": "stream",
     "text": [
      "C:\\Users\\Wan Jing\\Documents\\libact-torch\\libact\\query_strategies\\random_sampling.py:86: UserWarning: To copy construct from a tensor, it is recommended to use sourceTensor.clone().detach() or sourceTensor.clone().detach().requires_grad_(True), rather than torch.tensor(sourceTensor).\n",
      "  ex = torch.tensor(self.dataset.data[self.queried_hist_[-1]][0]).to(self.device)\n",
      "C:\\Users\\Wan Jing\\Documents\\libact-torch\\libact\\query_strategies\\uncertainty_sampling.py:149: UserWarning: To copy construct from a tensor, it is recommended to use sourceTensor.clone().detach() or sourceTensor.clone().detach().requires_grad_(True), rather than torch.tensor(sourceTensor).\n",
      "  ex = torch.tensor(self.dataset.data[self.queried_hist_[-1]][0]).to(self.device)\n",
      "C:\\Users\\Wan Jing\\Documents\\libact-torch\\libact\\query_strategies\\representative_sampling.py:113: UserWarning: To copy construct from a tensor, it is recommended to use sourceTensor.clone().detach() or sourceTensor.clone().detach().requires_grad_(True), rather than torch.tensor(sourceTensor).\n",
      "  ex = torch.tensor(self.dataset.data[self.queried_hist_[-1]][0]).to(self.device)\n",
      "C:\\Users\\Wan Jing\\Documents\\libact-torch\\libact\\query_strategies\\multi_bandits_active_learning.py:227: UserWarning: To copy construct from a tensor, it is recommended to use sourceTensor.clone().detach() or sourceTensor.clone().detach().requires_grad_(True), rather than torch.tensor(sourceTensor).\n",
      "  ex = torch.tensor(self.dataset.data[self.queried_hist_[-1]][0]).to(self.device)\n",
      "C:\\Users\\Wan Jing\\.conda\\envs\\deepCB\\lib\\site-packages\\sklearn\\metrics\\_classification.py:1221: UndefinedMetricWarning: Precision is ill-defined and being set to 0.0 in labels with no predicted samples. Use `zero_division` parameter to control this behavior.\n",
      "  _warn_prf(average, modifier, msg_start, len(result))\n"
     ]
    },
    {
     "name": "stdout",
     "output_type": "stream",
     "text": [
      "    labeled_acc  testing_acc    reward\n",
      "75     0.364325     0.334249  0.256879\n",
      "Tue Sep  1 16:32:01 2020 MultiBanditsActiveLearning query round: 77\n",
      "Strategy Chosen: 3 UncertaintySampling\n"
     ]
    },
    {
     "name": "stderr",
     "output_type": "stream",
     "text": [
      "C:\\Users\\Wan Jing\\Documents\\libact-torch\\libact\\query_strategies\\random_sampling.py:86: UserWarning: To copy construct from a tensor, it is recommended to use sourceTensor.clone().detach() or sourceTensor.clone().detach().requires_grad_(True), rather than torch.tensor(sourceTensor).\n",
      "  ex = torch.tensor(self.dataset.data[self.queried_hist_[-1]][0]).to(self.device)\n",
      "C:\\Users\\Wan Jing\\Documents\\libact-torch\\libact\\query_strategies\\uncertainty_sampling.py:149: UserWarning: To copy construct from a tensor, it is recommended to use sourceTensor.clone().detach() or sourceTensor.clone().detach().requires_grad_(True), rather than torch.tensor(sourceTensor).\n",
      "  ex = torch.tensor(self.dataset.data[self.queried_hist_[-1]][0]).to(self.device)\n",
      "C:\\Users\\Wan Jing\\Documents\\libact-torch\\libact\\query_strategies\\representative_sampling.py:113: UserWarning: To copy construct from a tensor, it is recommended to use sourceTensor.clone().detach() or sourceTensor.clone().detach().requires_grad_(True), rather than torch.tensor(sourceTensor).\n",
      "  ex = torch.tensor(self.dataset.data[self.queried_hist_[-1]][0]).to(self.device)\n",
      "C:\\Users\\Wan Jing\\Documents\\libact-torch\\libact\\query_strategies\\multi_bandits_active_learning.py:227: UserWarning: To copy construct from a tensor, it is recommended to use sourceTensor.clone().detach() or sourceTensor.clone().detach().requires_grad_(True), rather than torch.tensor(sourceTensor).\n",
      "  ex = torch.tensor(self.dataset.data[self.queried_hist_[-1]][0]).to(self.device)\n"
     ]
    },
    {
     "name": "stdout",
     "output_type": "stream",
     "text": [
      "    labeled_acc  testing_acc    reward\n",
      "76      0.37067     0.333028  0.260199\n",
      "Tue Sep  1 16:32:16 2020 MultiBanditsActiveLearning query round: 78\n",
      "Strategy Chosen: 3 UncertaintySampling\n"
     ]
    },
    {
     "name": "stderr",
     "output_type": "stream",
     "text": [
      "C:\\Users\\Wan Jing\\Documents\\libact-torch\\libact\\query_strategies\\random_sampling.py:86: UserWarning: To copy construct from a tensor, it is recommended to use sourceTensor.clone().detach() or sourceTensor.clone().detach().requires_grad_(True), rather than torch.tensor(sourceTensor).\n",
      "  ex = torch.tensor(self.dataset.data[self.queried_hist_[-1]][0]).to(self.device)\n",
      "C:\\Users\\Wan Jing\\Documents\\libact-torch\\libact\\query_strategies\\uncertainty_sampling.py:149: UserWarning: To copy construct from a tensor, it is recommended to use sourceTensor.clone().detach() or sourceTensor.clone().detach().requires_grad_(True), rather than torch.tensor(sourceTensor).\n",
      "  ex = torch.tensor(self.dataset.data[self.queried_hist_[-1]][0]).to(self.device)\n",
      "C:\\Users\\Wan Jing\\Documents\\libact-torch\\libact\\query_strategies\\representative_sampling.py:113: UserWarning: To copy construct from a tensor, it is recommended to use sourceTensor.clone().detach() or sourceTensor.clone().detach().requires_grad_(True), rather than torch.tensor(sourceTensor).\n",
      "  ex = torch.tensor(self.dataset.data[self.queried_hist_[-1]][0]).to(self.device)\n",
      "C:\\Users\\Wan Jing\\Documents\\libact-torch\\libact\\query_strategies\\multi_bandits_active_learning.py:227: UserWarning: To copy construct from a tensor, it is recommended to use sourceTensor.clone().detach() or sourceTensor.clone().detach().requires_grad_(True), rather than torch.tensor(sourceTensor).\n",
      "  ex = torch.tensor(self.dataset.data[self.queried_hist_[-1]][0]).to(self.device)\n",
      "C:\\Users\\Wan Jing\\.conda\\envs\\deepCB\\lib\\site-packages\\sklearn\\metrics\\_classification.py:1221: UndefinedMetricWarning: Precision is ill-defined and being set to 0.0 in labels with no predicted samples. Use `zero_division` parameter to control this behavior.\n",
      "  _warn_prf(average, modifier, msg_start, len(result))\n"
     ]
    },
    {
     "name": "stdout",
     "output_type": "stream",
     "text": [
      "    labeled_acc  testing_acc    reward\n",
      "77      0.37711     0.333639  0.260291\n",
      "Tue Sep  1 16:32:31 2020 MultiBanditsActiveLearning query round: 79\n",
      "Strategy Chosen: 4 RepresentativeSampling\n"
     ]
    },
    {
     "name": "stderr",
     "output_type": "stream",
     "text": [
      "C:\\Users\\Wan Jing\\Documents\\libact-torch\\libact\\query_strategies\\representative_sampling.py:147: UserWarning: To copy construct from a tensor, it is recommended to use sourceTensor.clone().detach() or sourceTensor.clone().detach().requires_grad_(True), rather than torch.tensor(sourceTensor).\n",
      "  x = torch.tensor(x).to(self.device)\n",
      "C:\\Users\\Wan Jing\\Documents\\libact-torch\\libact\\query_strategies\\representative_sampling.py:147: UserWarning: To copy construct from a tensor, it is recommended to use sourceTensor.clone().detach() or sourceTensor.clone().detach().requires_grad_(True), rather than torch.tensor(sourceTensor).\n",
      "  x = torch.tensor(x).to(self.device)\n",
      "C:\\Users\\Wan Jing\\Documents\\libact-torch\\libact\\query_strategies\\random_sampling.py:86: UserWarning: To copy construct from a tensor, it is recommended to use sourceTensor.clone().detach() or sourceTensor.clone().detach().requires_grad_(True), rather than torch.tensor(sourceTensor).\n",
      "  ex = torch.tensor(self.dataset.data[self.queried_hist_[-1]][0]).to(self.device)\n",
      "C:\\Users\\Wan Jing\\Documents\\libact-torch\\libact\\query_strategies\\uncertainty_sampling.py:149: UserWarning: To copy construct from a tensor, it is recommended to use sourceTensor.clone().detach() or sourceTensor.clone().detach().requires_grad_(True), rather than torch.tensor(sourceTensor).\n",
      "  ex = torch.tensor(self.dataset.data[self.queried_hist_[-1]][0]).to(self.device)\n",
      "C:\\Users\\Wan Jing\\Documents\\libact-torch\\libact\\query_strategies\\representative_sampling.py:113: UserWarning: To copy construct from a tensor, it is recommended to use sourceTensor.clone().detach() or sourceTensor.clone().detach().requires_grad_(True), rather than torch.tensor(sourceTensor).\n",
      "  ex = torch.tensor(self.dataset.data[self.queried_hist_[-1]][0]).to(self.device)\n",
      "C:\\Users\\Wan Jing\\Documents\\libact-torch\\libact\\query_strategies\\multi_bandits_active_learning.py:227: UserWarning: To copy construct from a tensor, it is recommended to use sourceTensor.clone().detach() or sourceTensor.clone().detach().requires_grad_(True), rather than torch.tensor(sourceTensor).\n",
      "  ex = torch.tensor(self.dataset.data[self.queried_hist_[-1]][0]).to(self.device)\n",
      "C:\\Users\\Wan Jing\\.conda\\envs\\deepCB\\lib\\site-packages\\sklearn\\metrics\\_classification.py:1221: UndefinedMetricWarning: Precision is ill-defined and being set to 0.0 in labels with no predicted samples. Use `zero_division` parameter to control this behavior.\n",
      "  _warn_prf(average, modifier, msg_start, len(result))\n"
     ]
    },
    {
     "name": "stdout",
     "output_type": "stream",
     "text": [
      "    labeled_acc  testing_acc    reward\n",
      "78     0.376771     0.337302  0.261446\n",
      "Tue Sep  1 16:32:52 2020 MultiBanditsActiveLearning query round: 80\n",
      "Strategy Chosen: 4 RepresentativeSampling\n"
     ]
    },
    {
     "name": "stderr",
     "output_type": "stream",
     "text": [
      "C:\\Users\\Wan Jing\\Documents\\libact-torch\\libact\\query_strategies\\representative_sampling.py:147: UserWarning: To copy construct from a tensor, it is recommended to use sourceTensor.clone().detach() or sourceTensor.clone().detach().requires_grad_(True), rather than torch.tensor(sourceTensor).\n",
      "  x = torch.tensor(x).to(self.device)\n",
      "C:\\Users\\Wan Jing\\Documents\\libact-torch\\libact\\query_strategies\\representative_sampling.py:147: UserWarning: To copy construct from a tensor, it is recommended to use sourceTensor.clone().detach() or sourceTensor.clone().detach().requires_grad_(True), rather than torch.tensor(sourceTensor).\n",
      "  x = torch.tensor(x).to(self.device)\n",
      "C:\\Users\\Wan Jing\\Documents\\libact-torch\\libact\\query_strategies\\random_sampling.py:86: UserWarning: To copy construct from a tensor, it is recommended to use sourceTensor.clone().detach() or sourceTensor.clone().detach().requires_grad_(True), rather than torch.tensor(sourceTensor).\n",
      "  ex = torch.tensor(self.dataset.data[self.queried_hist_[-1]][0]).to(self.device)\n",
      "C:\\Users\\Wan Jing\\Documents\\libact-torch\\libact\\query_strategies\\uncertainty_sampling.py:149: UserWarning: To copy construct from a tensor, it is recommended to use sourceTensor.clone().detach() or sourceTensor.clone().detach().requires_grad_(True), rather than torch.tensor(sourceTensor).\n",
      "  ex = torch.tensor(self.dataset.data[self.queried_hist_[-1]][0]).to(self.device)\n",
      "C:\\Users\\Wan Jing\\Documents\\libact-torch\\libact\\query_strategies\\representative_sampling.py:113: UserWarning: To copy construct from a tensor, it is recommended to use sourceTensor.clone().detach() or sourceTensor.clone().detach().requires_grad_(True), rather than torch.tensor(sourceTensor).\n",
      "  ex = torch.tensor(self.dataset.data[self.queried_hist_[-1]][0]).to(self.device)\n",
      "C:\\Users\\Wan Jing\\Documents\\libact-torch\\libact\\query_strategies\\multi_bandits_active_learning.py:227: UserWarning: To copy construct from a tensor, it is recommended to use sourceTensor.clone().detach() or sourceTensor.clone().detach().requires_grad_(True), rather than torch.tensor(sourceTensor).\n",
      "  ex = torch.tensor(self.dataset.data[self.queried_hist_[-1]][0]).to(self.device)\n",
      "C:\\Users\\Wan Jing\\.conda\\envs\\deepCB\\lib\\site-packages\\sklearn\\metrics\\_classification.py:1221: UndefinedMetricWarning: Precision is ill-defined and being set to 0.0 in labels with no predicted samples. Use `zero_division` parameter to control this behavior.\n",
      "  _warn_prf(average, modifier, msg_start, len(result))\n"
     ]
    },
    {
     "name": "stdout",
     "output_type": "stream",
     "text": [
      "    labeled_acc  testing_acc    reward\n",
      "79     0.385004     0.338217  0.273326\n",
      "Tue Sep  1 16:33:13 2020 MultiBanditsActiveLearning query round: 81\n",
      "Strategy Chosen: 4 RepresentativeSampling\n"
     ]
    },
    {
     "name": "stderr",
     "output_type": "stream",
     "text": [
      "C:\\Users\\Wan Jing\\Documents\\libact-torch\\libact\\query_strategies\\representative_sampling.py:147: UserWarning: To copy construct from a tensor, it is recommended to use sourceTensor.clone().detach() or sourceTensor.clone().detach().requires_grad_(True), rather than torch.tensor(sourceTensor).\n",
      "  x = torch.tensor(x).to(self.device)\n",
      "C:\\Users\\Wan Jing\\Documents\\libact-torch\\libact\\query_strategies\\representative_sampling.py:147: UserWarning: To copy construct from a tensor, it is recommended to use sourceTensor.clone().detach() or sourceTensor.clone().detach().requires_grad_(True), rather than torch.tensor(sourceTensor).\n",
      "  x = torch.tensor(x).to(self.device)\n",
      "C:\\Users\\Wan Jing\\Documents\\libact-torch\\libact\\query_strategies\\random_sampling.py:86: UserWarning: To copy construct from a tensor, it is recommended to use sourceTensor.clone().detach() or sourceTensor.clone().detach().requires_grad_(True), rather than torch.tensor(sourceTensor).\n",
      "  ex = torch.tensor(self.dataset.data[self.queried_hist_[-1]][0]).to(self.device)\n",
      "C:\\Users\\Wan Jing\\Documents\\libact-torch\\libact\\query_strategies\\uncertainty_sampling.py:149: UserWarning: To copy construct from a tensor, it is recommended to use sourceTensor.clone().detach() or sourceTensor.clone().detach().requires_grad_(True), rather than torch.tensor(sourceTensor).\n",
      "  ex = torch.tensor(self.dataset.data[self.queried_hist_[-1]][0]).to(self.device)\n",
      "C:\\Users\\Wan Jing\\Documents\\libact-torch\\libact\\query_strategies\\representative_sampling.py:113: UserWarning: To copy construct from a tensor, it is recommended to use sourceTensor.clone().detach() or sourceTensor.clone().detach().requires_grad_(True), rather than torch.tensor(sourceTensor).\n",
      "  ex = torch.tensor(self.dataset.data[self.queried_hist_[-1]][0]).to(self.device)\n",
      "C:\\Users\\Wan Jing\\Documents\\libact-torch\\libact\\query_strategies\\multi_bandits_active_learning.py:227: UserWarning: To copy construct from a tensor, it is recommended to use sourceTensor.clone().detach() or sourceTensor.clone().detach().requires_grad_(True), rather than torch.tensor(sourceTensor).\n",
      "  ex = torch.tensor(self.dataset.data[self.queried_hist_[-1]][0]).to(self.device)\n",
      "C:\\Users\\Wan Jing\\.conda\\envs\\deepCB\\lib\\site-packages\\sklearn\\metrics\\_classification.py:1221: UndefinedMetricWarning: Precision is ill-defined and being set to 0.0 in labels with no predicted samples. Use `zero_division` parameter to control this behavior.\n",
      "  _warn_prf(average, modifier, msg_start, len(result))\n"
     ]
    },
    {
     "name": "stdout",
     "output_type": "stream",
     "text": [
      "    labeled_acc  testing_acc    reward\n",
      "80     0.394766     0.335165  0.281156\n",
      "Tue Sep  1 16:33:35 2020 MultiBanditsActiveLearning query round: 82\n",
      "Strategy Chosen: 0 RandomSampling\n"
     ]
    },
    {
     "name": "stderr",
     "output_type": "stream",
     "text": [
      "C:\\Users\\Wan Jing\\Documents\\libact-torch\\libact\\query_strategies\\random_sampling.py:86: UserWarning: To copy construct from a tensor, it is recommended to use sourceTensor.clone().detach() or sourceTensor.clone().detach().requires_grad_(True), rather than torch.tensor(sourceTensor).\n",
      "  ex = torch.tensor(self.dataset.data[self.queried_hist_[-1]][0]).to(self.device)\n",
      "C:\\Users\\Wan Jing\\Documents\\libact-torch\\libact\\query_strategies\\uncertainty_sampling.py:149: UserWarning: To copy construct from a tensor, it is recommended to use sourceTensor.clone().detach() or sourceTensor.clone().detach().requires_grad_(True), rather than torch.tensor(sourceTensor).\n",
      "  ex = torch.tensor(self.dataset.data[self.queried_hist_[-1]][0]).to(self.device)\n",
      "C:\\Users\\Wan Jing\\Documents\\libact-torch\\libact\\query_strategies\\representative_sampling.py:113: UserWarning: To copy construct from a tensor, it is recommended to use sourceTensor.clone().detach() or sourceTensor.clone().detach().requires_grad_(True), rather than torch.tensor(sourceTensor).\n",
      "  ex = torch.tensor(self.dataset.data[self.queried_hist_[-1]][0]).to(self.device)\n",
      "C:\\Users\\Wan Jing\\Documents\\libact-torch\\libact\\query_strategies\\multi_bandits_active_learning.py:227: UserWarning: To copy construct from a tensor, it is recommended to use sourceTensor.clone().detach() or sourceTensor.clone().detach().requires_grad_(True), rather than torch.tensor(sourceTensor).\n",
      "  ex = torch.tensor(self.dataset.data[self.queried_hist_[-1]][0]).to(self.device)\n",
      "C:\\Users\\Wan Jing\\.conda\\envs\\deepCB\\lib\\site-packages\\sklearn\\metrics\\_classification.py:1221: UndefinedMetricWarning: Precision is ill-defined and being set to 0.0 in labels with no predicted samples. Use `zero_division` parameter to control this behavior.\n",
      "  _warn_prf(average, modifier, msg_start, len(result))\n"
     ]
    },
    {
     "name": "stdout",
     "output_type": "stream",
     "text": [
      "    labeled_acc  testing_acc    reward\n",
      "81     0.380939     0.334554  0.260851\n",
      "Tue Sep  1 16:33:43 2020 MultiBanditsActiveLearning query round: 83\n",
      "Strategy Chosen: 2 UncertaintySampling\n"
     ]
    },
    {
     "name": "stderr",
     "output_type": "stream",
     "text": [
      "C:\\Users\\Wan Jing\\Documents\\libact-torch\\libact\\query_strategies\\random_sampling.py:86: UserWarning: To copy construct from a tensor, it is recommended to use sourceTensor.clone().detach() or sourceTensor.clone().detach().requires_grad_(True), rather than torch.tensor(sourceTensor).\n",
      "  ex = torch.tensor(self.dataset.data[self.queried_hist_[-1]][0]).to(self.device)\n",
      "C:\\Users\\Wan Jing\\Documents\\libact-torch\\libact\\query_strategies\\uncertainty_sampling.py:149: UserWarning: To copy construct from a tensor, it is recommended to use sourceTensor.clone().detach() or sourceTensor.clone().detach().requires_grad_(True), rather than torch.tensor(sourceTensor).\n",
      "  ex = torch.tensor(self.dataset.data[self.queried_hist_[-1]][0]).to(self.device)\n",
      "C:\\Users\\Wan Jing\\Documents\\libact-torch\\libact\\query_strategies\\representative_sampling.py:113: UserWarning: To copy construct from a tensor, it is recommended to use sourceTensor.clone().detach() or sourceTensor.clone().detach().requires_grad_(True), rather than torch.tensor(sourceTensor).\n",
      "  ex = torch.tensor(self.dataset.data[self.queried_hist_[-1]][0]).to(self.device)\n",
      "C:\\Users\\Wan Jing\\Documents\\libact-torch\\libact\\query_strategies\\multi_bandits_active_learning.py:227: UserWarning: To copy construct from a tensor, it is recommended to use sourceTensor.clone().detach() or sourceTensor.clone().detach().requires_grad_(True), rather than torch.tensor(sourceTensor).\n",
      "  ex = torch.tensor(self.dataset.data[self.queried_hist_[-1]][0]).to(self.device)\n",
      "C:\\Users\\Wan Jing\\.conda\\envs\\deepCB\\lib\\site-packages\\sklearn\\metrics\\_classification.py:1221: UndefinedMetricWarning: Precision is ill-defined and being set to 0.0 in labels with no predicted samples. Use `zero_division` parameter to control this behavior.\n",
      "  _warn_prf(average, modifier, msg_start, len(result))\n"
     ]
    },
    {
     "name": "stdout",
     "output_type": "stream",
     "text": [
      "    labeled_acc  testing_acc    reward\n",
      "82     0.384932     0.337912  0.268665\n",
      "Tue Sep  1 16:33:58 2020 MultiBanditsActiveLearning query round: 84\n",
      "Strategy Chosen: 0 RandomSampling\n"
     ]
    },
    {
     "name": "stderr",
     "output_type": "stream",
     "text": [
      "C:\\Users\\Wan Jing\\Documents\\libact-torch\\libact\\query_strategies\\random_sampling.py:86: UserWarning: To copy construct from a tensor, it is recommended to use sourceTensor.clone().detach() or sourceTensor.clone().detach().requires_grad_(True), rather than torch.tensor(sourceTensor).\n",
      "  ex = torch.tensor(self.dataset.data[self.queried_hist_[-1]][0]).to(self.device)\n",
      "C:\\Users\\Wan Jing\\Documents\\libact-torch\\libact\\query_strategies\\uncertainty_sampling.py:149: UserWarning: To copy construct from a tensor, it is recommended to use sourceTensor.clone().detach() or sourceTensor.clone().detach().requires_grad_(True), rather than torch.tensor(sourceTensor).\n",
      "  ex = torch.tensor(self.dataset.data[self.queried_hist_[-1]][0]).to(self.device)\n",
      "C:\\Users\\Wan Jing\\Documents\\libact-torch\\libact\\query_strategies\\representative_sampling.py:113: UserWarning: To copy construct from a tensor, it is recommended to use sourceTensor.clone().detach() or sourceTensor.clone().detach().requires_grad_(True), rather than torch.tensor(sourceTensor).\n",
      "  ex = torch.tensor(self.dataset.data[self.queried_hist_[-1]][0]).to(self.device)\n",
      "C:\\Users\\Wan Jing\\Documents\\libact-torch\\libact\\query_strategies\\multi_bandits_active_learning.py:227: UserWarning: To copy construct from a tensor, it is recommended to use sourceTensor.clone().detach() or sourceTensor.clone().detach().requires_grad_(True), rather than torch.tensor(sourceTensor).\n",
      "  ex = torch.tensor(self.dataset.data[self.queried_hist_[-1]][0]).to(self.device)\n",
      "C:\\Users\\Wan Jing\\.conda\\envs\\deepCB\\lib\\site-packages\\sklearn\\metrics\\_classification.py:1221: UndefinedMetricWarning: Precision is ill-defined and being set to 0.0 in labels with no predicted samples. Use `zero_division` parameter to control this behavior.\n",
      "  _warn_prf(average, modifier, msg_start, len(result))\n"
     ]
    },
    {
     "name": "stdout",
     "output_type": "stream",
     "text": [
      "    labeled_acc  testing_acc    reward\n",
      "83     0.392189     0.338523  0.273095\n",
      "Tue Sep  1 16:34:06 2020 MultiBanditsActiveLearning query round: 85\n",
      "Strategy Chosen: 4 RepresentativeSampling\n"
     ]
    },
    {
     "name": "stderr",
     "output_type": "stream",
     "text": [
      "C:\\Users\\Wan Jing\\Documents\\libact-torch\\libact\\query_strategies\\representative_sampling.py:147: UserWarning: To copy construct from a tensor, it is recommended to use sourceTensor.clone().detach() or sourceTensor.clone().detach().requires_grad_(True), rather than torch.tensor(sourceTensor).\n",
      "  x = torch.tensor(x).to(self.device)\n",
      "C:\\Users\\Wan Jing\\Documents\\libact-torch\\libact\\query_strategies\\representative_sampling.py:147: UserWarning: To copy construct from a tensor, it is recommended to use sourceTensor.clone().detach() or sourceTensor.clone().detach().requires_grad_(True), rather than torch.tensor(sourceTensor).\n",
      "  x = torch.tensor(x).to(self.device)\n",
      "C:\\Users\\Wan Jing\\Documents\\libact-torch\\libact\\query_strategies\\random_sampling.py:86: UserWarning: To copy construct from a tensor, it is recommended to use sourceTensor.clone().detach() or sourceTensor.clone().detach().requires_grad_(True), rather than torch.tensor(sourceTensor).\n",
      "  ex = torch.tensor(self.dataset.data[self.queried_hist_[-1]][0]).to(self.device)\n",
      "C:\\Users\\Wan Jing\\Documents\\libact-torch\\libact\\query_strategies\\uncertainty_sampling.py:149: UserWarning: To copy construct from a tensor, it is recommended to use sourceTensor.clone().detach() or sourceTensor.clone().detach().requires_grad_(True), rather than torch.tensor(sourceTensor).\n",
      "  ex = torch.tensor(self.dataset.data[self.queried_hist_[-1]][0]).to(self.device)\n",
      "C:\\Users\\Wan Jing\\Documents\\libact-torch\\libact\\query_strategies\\representative_sampling.py:113: UserWarning: To copy construct from a tensor, it is recommended to use sourceTensor.clone().detach() or sourceTensor.clone().detach().requires_grad_(True), rather than torch.tensor(sourceTensor).\n",
      "  ex = torch.tensor(self.dataset.data[self.queried_hist_[-1]][0]).to(self.device)\n",
      "C:\\Users\\Wan Jing\\Documents\\libact-torch\\libact\\query_strategies\\multi_bandits_active_learning.py:227: UserWarning: To copy construct from a tensor, it is recommended to use sourceTensor.clone().detach() or sourceTensor.clone().detach().requires_grad_(True), rather than torch.tensor(sourceTensor).\n",
      "  ex = torch.tensor(self.dataset.data[self.queried_hist_[-1]][0]).to(self.device)\n",
      "C:\\Users\\Wan Jing\\.conda\\envs\\deepCB\\lib\\site-packages\\sklearn\\metrics\\_classification.py:1221: UndefinedMetricWarning: Precision is ill-defined and being set to 0.0 in labels with no predicted samples. Use `zero_division` parameter to control this behavior.\n",
      "  _warn_prf(average, modifier, msg_start, len(result))\n"
     ]
    },
    {
     "name": "stdout",
     "output_type": "stream",
     "text": [
      "    labeled_acc  testing_acc    reward\n",
      "84     0.388381     0.336691  0.261164\n",
      "Tue Sep  1 16:34:27 2020 MultiBanditsActiveLearning query round: 86\n",
      "Strategy Chosen: 1 UncertaintySampling\n"
     ]
    },
    {
     "name": "stderr",
     "output_type": "stream",
     "text": [
      "C:\\Users\\Wan Jing\\Documents\\libact-torch\\libact\\query_strategies\\random_sampling.py:86: UserWarning: To copy construct from a tensor, it is recommended to use sourceTensor.clone().detach() or sourceTensor.clone().detach().requires_grad_(True), rather than torch.tensor(sourceTensor).\n",
      "  ex = torch.tensor(self.dataset.data[self.queried_hist_[-1]][0]).to(self.device)\n",
      "C:\\Users\\Wan Jing\\Documents\\libact-torch\\libact\\query_strategies\\uncertainty_sampling.py:149: UserWarning: To copy construct from a tensor, it is recommended to use sourceTensor.clone().detach() or sourceTensor.clone().detach().requires_grad_(True), rather than torch.tensor(sourceTensor).\n",
      "  ex = torch.tensor(self.dataset.data[self.queried_hist_[-1]][0]).to(self.device)\n",
      "C:\\Users\\Wan Jing\\Documents\\libact-torch\\libact\\query_strategies\\representative_sampling.py:113: UserWarning: To copy construct from a tensor, it is recommended to use sourceTensor.clone().detach() or sourceTensor.clone().detach().requires_grad_(True), rather than torch.tensor(sourceTensor).\n",
      "  ex = torch.tensor(self.dataset.data[self.queried_hist_[-1]][0]).to(self.device)\n",
      "C:\\Users\\Wan Jing\\Documents\\libact-torch\\libact\\query_strategies\\multi_bandits_active_learning.py:227: UserWarning: To copy construct from a tensor, it is recommended to use sourceTensor.clone().detach() or sourceTensor.clone().detach().requires_grad_(True), rather than torch.tensor(sourceTensor).\n",
      "  ex = torch.tensor(self.dataset.data[self.queried_hist_[-1]][0]).to(self.device)\n",
      "C:\\Users\\Wan Jing\\.conda\\envs\\deepCB\\lib\\site-packages\\sklearn\\metrics\\_classification.py:1221: UndefinedMetricWarning: Precision is ill-defined and being set to 0.0 in labels with no predicted samples. Use `zero_division` parameter to control this behavior.\n",
      "  _warn_prf(average, modifier, msg_start, len(result))\n"
     ]
    },
    {
     "name": "stdout",
     "output_type": "stream",
     "text": [
      "    labeled_acc  testing_acc    reward\n",
      "85     0.391246     0.337912  0.271879\n",
      "Tue Sep  1 16:34:42 2020 MultiBanditsActiveLearning query round: 87\n",
      "Strategy Chosen: 0 RandomSampling\n"
     ]
    },
    {
     "name": "stderr",
     "output_type": "stream",
     "text": [
      "C:\\Users\\Wan Jing\\Documents\\libact-torch\\libact\\query_strategies\\random_sampling.py:86: UserWarning: To copy construct from a tensor, it is recommended to use sourceTensor.clone().detach() or sourceTensor.clone().detach().requires_grad_(True), rather than torch.tensor(sourceTensor).\n",
      "  ex = torch.tensor(self.dataset.data[self.queried_hist_[-1]][0]).to(self.device)\n",
      "C:\\Users\\Wan Jing\\Documents\\libact-torch\\libact\\query_strategies\\uncertainty_sampling.py:149: UserWarning: To copy construct from a tensor, it is recommended to use sourceTensor.clone().detach() or sourceTensor.clone().detach().requires_grad_(True), rather than torch.tensor(sourceTensor).\n",
      "  ex = torch.tensor(self.dataset.data[self.queried_hist_[-1]][0]).to(self.device)\n",
      "C:\\Users\\Wan Jing\\Documents\\libact-torch\\libact\\query_strategies\\representative_sampling.py:113: UserWarning: To copy construct from a tensor, it is recommended to use sourceTensor.clone().detach() or sourceTensor.clone().detach().requires_grad_(True), rather than torch.tensor(sourceTensor).\n",
      "  ex = torch.tensor(self.dataset.data[self.queried_hist_[-1]][0]).to(self.device)\n",
      "C:\\Users\\Wan Jing\\Documents\\libact-torch\\libact\\query_strategies\\multi_bandits_active_learning.py:227: UserWarning: To copy construct from a tensor, it is recommended to use sourceTensor.clone().detach() or sourceTensor.clone().detach().requires_grad_(True), rather than torch.tensor(sourceTensor).\n",
      "  ex = torch.tensor(self.dataset.data[self.queried_hist_[-1]][0]).to(self.device)\n",
      "C:\\Users\\Wan Jing\\.conda\\envs\\deepCB\\lib\\site-packages\\sklearn\\metrics\\_classification.py:1221: UndefinedMetricWarning: Precision is ill-defined and being set to 0.0 in labels with no predicted samples. Use `zero_division` parameter to control this behavior.\n",
      "  _warn_prf(average, modifier, msg_start, len(result))\n"
     ]
    },
    {
     "name": "stdout",
     "output_type": "stream",
     "text": [
      "    labeled_acc  testing_acc    reward\n",
      "86     0.393811     0.340354  0.266521\n",
      "Tue Sep  1 16:34:51 2020 MultiBanditsActiveLearning query round: 88\n",
      "Strategy Chosen: 2 UncertaintySampling\n"
     ]
    },
    {
     "name": "stderr",
     "output_type": "stream",
     "text": [
      "C:\\Users\\Wan Jing\\Documents\\libact-torch\\libact\\query_strategies\\random_sampling.py:86: UserWarning: To copy construct from a tensor, it is recommended to use sourceTensor.clone().detach() or sourceTensor.clone().detach().requires_grad_(True), rather than torch.tensor(sourceTensor).\n",
      "  ex = torch.tensor(self.dataset.data[self.queried_hist_[-1]][0]).to(self.device)\n",
      "C:\\Users\\Wan Jing\\Documents\\libact-torch\\libact\\query_strategies\\uncertainty_sampling.py:149: UserWarning: To copy construct from a tensor, it is recommended to use sourceTensor.clone().detach() or sourceTensor.clone().detach().requires_grad_(True), rather than torch.tensor(sourceTensor).\n",
      "  ex = torch.tensor(self.dataset.data[self.queried_hist_[-1]][0]).to(self.device)\n",
      "C:\\Users\\Wan Jing\\Documents\\libact-torch\\libact\\query_strategies\\representative_sampling.py:113: UserWarning: To copy construct from a tensor, it is recommended to use sourceTensor.clone().detach() or sourceTensor.clone().detach().requires_grad_(True), rather than torch.tensor(sourceTensor).\n",
      "  ex = torch.tensor(self.dataset.data[self.queried_hist_[-1]][0]).to(self.device)\n",
      "C:\\Users\\Wan Jing\\Documents\\libact-torch\\libact\\query_strategies\\multi_bandits_active_learning.py:227: UserWarning: To copy construct from a tensor, it is recommended to use sourceTensor.clone().detach() or sourceTensor.clone().detach().requires_grad_(True), rather than torch.tensor(sourceTensor).\n",
      "  ex = torch.tensor(self.dataset.data[self.queried_hist_[-1]][0]).to(self.device)\n",
      "C:\\Users\\Wan Jing\\.conda\\envs\\deepCB\\lib\\site-packages\\sklearn\\metrics\\_classification.py:1221: UndefinedMetricWarning: Precision is ill-defined and being set to 0.0 in labels with no predicted samples. Use `zero_division` parameter to control this behavior.\n",
      "  _warn_prf(average, modifier, msg_start, len(result))\n"
     ]
    },
    {
     "name": "stdout",
     "output_type": "stream",
     "text": [
      "    labeled_acc  testing_acc    reward\n",
      "87     0.400997     0.344322  0.277519\n",
      "Tue Sep  1 16:35:06 2020 MultiBanditsActiveLearning query round: 89\n",
      "Strategy Chosen: 2 UncertaintySampling\n"
     ]
    },
    {
     "name": "stderr",
     "output_type": "stream",
     "text": [
      "C:\\Users\\Wan Jing\\Documents\\libact-torch\\libact\\query_strategies\\random_sampling.py:86: UserWarning: To copy construct from a tensor, it is recommended to use sourceTensor.clone().detach() or sourceTensor.clone().detach().requires_grad_(True), rather than torch.tensor(sourceTensor).\n",
      "  ex = torch.tensor(self.dataset.data[self.queried_hist_[-1]][0]).to(self.device)\n",
      "C:\\Users\\Wan Jing\\Documents\\libact-torch\\libact\\query_strategies\\uncertainty_sampling.py:149: UserWarning: To copy construct from a tensor, it is recommended to use sourceTensor.clone().detach() or sourceTensor.clone().detach().requires_grad_(True), rather than torch.tensor(sourceTensor).\n",
      "  ex = torch.tensor(self.dataset.data[self.queried_hist_[-1]][0]).to(self.device)\n",
      "C:\\Users\\Wan Jing\\Documents\\libact-torch\\libact\\query_strategies\\representative_sampling.py:113: UserWarning: To copy construct from a tensor, it is recommended to use sourceTensor.clone().detach() or sourceTensor.clone().detach().requires_grad_(True), rather than torch.tensor(sourceTensor).\n",
      "  ex = torch.tensor(self.dataset.data[self.queried_hist_[-1]][0]).to(self.device)\n",
      "C:\\Users\\Wan Jing\\Documents\\libact-torch\\libact\\query_strategies\\multi_bandits_active_learning.py:227: UserWarning: To copy construct from a tensor, it is recommended to use sourceTensor.clone().detach() or sourceTensor.clone().detach().requires_grad_(True), rather than torch.tensor(sourceTensor).\n",
      "  ex = torch.tensor(self.dataset.data[self.queried_hist_[-1]][0]).to(self.device)\n",
      "C:\\Users\\Wan Jing\\.conda\\envs\\deepCB\\lib\\site-packages\\sklearn\\metrics\\_classification.py:1221: UndefinedMetricWarning: Precision is ill-defined and being set to 0.0 in labels with no predicted samples. Use `zero_division` parameter to control this behavior.\n",
      "  _warn_prf(average, modifier, msg_start, len(result))\n"
     ]
    },
    {
     "name": "stdout",
     "output_type": "stream",
     "text": [
      "    labeled_acc  testing_acc    reward\n",
      "88     0.396148     0.342796  0.284813\n",
      "Tue Sep  1 16:35:22 2020 MultiBanditsActiveLearning query round: 90\n",
      "Strategy Chosen: 1 UncertaintySampling\n"
     ]
    },
    {
     "name": "stderr",
     "output_type": "stream",
     "text": [
      "C:\\Users\\Wan Jing\\Documents\\libact-torch\\libact\\query_strategies\\random_sampling.py:86: UserWarning: To copy construct from a tensor, it is recommended to use sourceTensor.clone().detach() or sourceTensor.clone().detach().requires_grad_(True), rather than torch.tensor(sourceTensor).\n",
      "  ex = torch.tensor(self.dataset.data[self.queried_hist_[-1]][0]).to(self.device)\n",
      "C:\\Users\\Wan Jing\\Documents\\libact-torch\\libact\\query_strategies\\uncertainty_sampling.py:149: UserWarning: To copy construct from a tensor, it is recommended to use sourceTensor.clone().detach() or sourceTensor.clone().detach().requires_grad_(True), rather than torch.tensor(sourceTensor).\n",
      "  ex = torch.tensor(self.dataset.data[self.queried_hist_[-1]][0]).to(self.device)\n",
      "C:\\Users\\Wan Jing\\Documents\\libact-torch\\libact\\query_strategies\\representative_sampling.py:113: UserWarning: To copy construct from a tensor, it is recommended to use sourceTensor.clone().detach() or sourceTensor.clone().detach().requires_grad_(True), rather than torch.tensor(sourceTensor).\n",
      "  ex = torch.tensor(self.dataset.data[self.queried_hist_[-1]][0]).to(self.device)\n",
      "C:\\Users\\Wan Jing\\Documents\\libact-torch\\libact\\query_strategies\\multi_bandits_active_learning.py:227: UserWarning: To copy construct from a tensor, it is recommended to use sourceTensor.clone().detach() or sourceTensor.clone().detach().requires_grad_(True), rather than torch.tensor(sourceTensor).\n",
      "  ex = torch.tensor(self.dataset.data[self.queried_hist_[-1]][0]).to(self.device)\n",
      "C:\\Users\\Wan Jing\\.conda\\envs\\deepCB\\lib\\site-packages\\sklearn\\metrics\\_classification.py:1221: UndefinedMetricWarning: Precision is ill-defined and being set to 0.0 in labels with no predicted samples. Use `zero_division` parameter to control this behavior.\n",
      "  _warn_prf(average, modifier, msg_start, len(result))\n"
     ]
    },
    {
     "name": "stdout",
     "output_type": "stream",
     "text": [
      "    labeled_acc  testing_acc   reward\n",
      "89     0.396903     0.351038  0.28443\n",
      "Tue Sep  1 16:35:37 2020 MultiBanditsActiveLearning query round: 91\n",
      "Strategy Chosen: 1 UncertaintySampling\n"
     ]
    },
    {
     "name": "stderr",
     "output_type": "stream",
     "text": [
      "C:\\Users\\Wan Jing\\Documents\\libact-torch\\libact\\query_strategies\\random_sampling.py:86: UserWarning: To copy construct from a tensor, it is recommended to use sourceTensor.clone().detach() or sourceTensor.clone().detach().requires_grad_(True), rather than torch.tensor(sourceTensor).\n",
      "  ex = torch.tensor(self.dataset.data[self.queried_hist_[-1]][0]).to(self.device)\n",
      "C:\\Users\\Wan Jing\\Documents\\libact-torch\\libact\\query_strategies\\uncertainty_sampling.py:149: UserWarning: To copy construct from a tensor, it is recommended to use sourceTensor.clone().detach() or sourceTensor.clone().detach().requires_grad_(True), rather than torch.tensor(sourceTensor).\n",
      "  ex = torch.tensor(self.dataset.data[self.queried_hist_[-1]][0]).to(self.device)\n",
      "C:\\Users\\Wan Jing\\Documents\\libact-torch\\libact\\query_strategies\\representative_sampling.py:113: UserWarning: To copy construct from a tensor, it is recommended to use sourceTensor.clone().detach() or sourceTensor.clone().detach().requires_grad_(True), rather than torch.tensor(sourceTensor).\n",
      "  ex = torch.tensor(self.dataset.data[self.queried_hist_[-1]][0]).to(self.device)\n",
      "C:\\Users\\Wan Jing\\Documents\\libact-torch\\libact\\query_strategies\\multi_bandits_active_learning.py:227: UserWarning: To copy construct from a tensor, it is recommended to use sourceTensor.clone().detach() or sourceTensor.clone().detach().requires_grad_(True), rather than torch.tensor(sourceTensor).\n",
      "  ex = torch.tensor(self.dataset.data[self.queried_hist_[-1]][0]).to(self.device)\n"
     ]
    },
    {
     "name": "stdout",
     "output_type": "stream",
     "text": [
      "    labeled_acc  testing_acc    reward\n",
      "90     0.400102     0.353175  0.286911\n",
      "Tue Sep  1 16:35:53 2020 MultiBanditsActiveLearning query round: 92\n",
      "Strategy Chosen: 2 UncertaintySampling\n"
     ]
    },
    {
     "name": "stderr",
     "output_type": "stream",
     "text": [
      "C:\\Users\\Wan Jing\\Documents\\libact-torch\\libact\\query_strategies\\random_sampling.py:86: UserWarning: To copy construct from a tensor, it is recommended to use sourceTensor.clone().detach() or sourceTensor.clone().detach().requires_grad_(True), rather than torch.tensor(sourceTensor).\n",
      "  ex = torch.tensor(self.dataset.data[self.queried_hist_[-1]][0]).to(self.device)\n",
      "C:\\Users\\Wan Jing\\Documents\\libact-torch\\libact\\query_strategies\\uncertainty_sampling.py:149: UserWarning: To copy construct from a tensor, it is recommended to use sourceTensor.clone().detach() or sourceTensor.clone().detach().requires_grad_(True), rather than torch.tensor(sourceTensor).\n",
      "  ex = torch.tensor(self.dataset.data[self.queried_hist_[-1]][0]).to(self.device)\n",
      "C:\\Users\\Wan Jing\\Documents\\libact-torch\\libact\\query_strategies\\representative_sampling.py:113: UserWarning: To copy construct from a tensor, it is recommended to use sourceTensor.clone().detach() or sourceTensor.clone().detach().requires_grad_(True), rather than torch.tensor(sourceTensor).\n",
      "  ex = torch.tensor(self.dataset.data[self.queried_hist_[-1]][0]).to(self.device)\n",
      "C:\\Users\\Wan Jing\\Documents\\libact-torch\\libact\\query_strategies\\multi_bandits_active_learning.py:227: UserWarning: To copy construct from a tensor, it is recommended to use sourceTensor.clone().detach() or sourceTensor.clone().detach().requires_grad_(True), rather than torch.tensor(sourceTensor).\n",
      "  ex = torch.tensor(self.dataset.data[self.queried_hist_[-1]][0]).to(self.device)\n"
     ]
    },
    {
     "name": "stdout",
     "output_type": "stream",
     "text": [
      "    labeled_acc  testing_acc    reward\n",
      "91      0.39863     0.351038  0.280269\n",
      "Tue Sep  1 16:36:08 2020 MultiBanditsActiveLearning query round: 93\n",
      "Strategy Chosen: 0 RandomSampling\n"
     ]
    },
    {
     "name": "stderr",
     "output_type": "stream",
     "text": [
      "C:\\Users\\Wan Jing\\Documents\\libact-torch\\libact\\query_strategies\\random_sampling.py:86: UserWarning: To copy construct from a tensor, it is recommended to use sourceTensor.clone().detach() or sourceTensor.clone().detach().requires_grad_(True), rather than torch.tensor(sourceTensor).\n",
      "  ex = torch.tensor(self.dataset.data[self.queried_hist_[-1]][0]).to(self.device)\n",
      "C:\\Users\\Wan Jing\\Documents\\libact-torch\\libact\\query_strategies\\uncertainty_sampling.py:149: UserWarning: To copy construct from a tensor, it is recommended to use sourceTensor.clone().detach() or sourceTensor.clone().detach().requires_grad_(True), rather than torch.tensor(sourceTensor).\n",
      "  ex = torch.tensor(self.dataset.data[self.queried_hist_[-1]][0]).to(self.device)\n",
      "C:\\Users\\Wan Jing\\Documents\\libact-torch\\libact\\query_strategies\\representative_sampling.py:113: UserWarning: To copy construct from a tensor, it is recommended to use sourceTensor.clone().detach() or sourceTensor.clone().detach().requires_grad_(True), rather than torch.tensor(sourceTensor).\n",
      "  ex = torch.tensor(self.dataset.data[self.queried_hist_[-1]][0]).to(self.device)\n",
      "C:\\Users\\Wan Jing\\Documents\\libact-torch\\libact\\query_strategies\\multi_bandits_active_learning.py:227: UserWarning: To copy construct from a tensor, it is recommended to use sourceTensor.clone().detach() or sourceTensor.clone().detach().requires_grad_(True), rather than torch.tensor(sourceTensor).\n",
      "  ex = torch.tensor(self.dataset.data[self.queried_hist_[-1]][0]).to(self.device)\n",
      "C:\\Users\\Wan Jing\\.conda\\envs\\deepCB\\lib\\site-packages\\sklearn\\metrics\\_classification.py:1221: UndefinedMetricWarning: Precision is ill-defined and being set to 0.0 in labels with no predicted samples. Use `zero_division` parameter to control this behavior.\n",
      "  _warn_prf(average, modifier, msg_start, len(result))\n"
     ]
    },
    {
     "name": "stdout",
     "output_type": "stream",
     "text": [
      "    labeled_acc  testing_acc    reward\n",
      "92     0.407501     0.351343  0.293369\n",
      "Tue Sep  1 16:36:17 2020 MultiBanditsActiveLearning query round: 94\n",
      "Strategy Chosen: 4 RepresentativeSampling\n"
     ]
    },
    {
     "name": "stderr",
     "output_type": "stream",
     "text": [
      "C:\\Users\\Wan Jing\\Documents\\libact-torch\\libact\\query_strategies\\representative_sampling.py:147: UserWarning: To copy construct from a tensor, it is recommended to use sourceTensor.clone().detach() or sourceTensor.clone().detach().requires_grad_(True), rather than torch.tensor(sourceTensor).\n",
      "  x = torch.tensor(x).to(self.device)\n",
      "C:\\Users\\Wan Jing\\Documents\\libact-torch\\libact\\query_strategies\\representative_sampling.py:147: UserWarning: To copy construct from a tensor, it is recommended to use sourceTensor.clone().detach() or sourceTensor.clone().detach().requires_grad_(True), rather than torch.tensor(sourceTensor).\n",
      "  x = torch.tensor(x).to(self.device)\n",
      "C:\\Users\\Wan Jing\\Documents\\libact-torch\\libact\\query_strategies\\random_sampling.py:86: UserWarning: To copy construct from a tensor, it is recommended to use sourceTensor.clone().detach() or sourceTensor.clone().detach().requires_grad_(True), rather than torch.tensor(sourceTensor).\n",
      "  ex = torch.tensor(self.dataset.data[self.queried_hist_[-1]][0]).to(self.device)\n",
      "C:\\Users\\Wan Jing\\Documents\\libact-torch\\libact\\query_strategies\\uncertainty_sampling.py:149: UserWarning: To copy construct from a tensor, it is recommended to use sourceTensor.clone().detach() or sourceTensor.clone().detach().requires_grad_(True), rather than torch.tensor(sourceTensor).\n",
      "  ex = torch.tensor(self.dataset.data[self.queried_hist_[-1]][0]).to(self.device)\n",
      "C:\\Users\\Wan Jing\\Documents\\libact-torch\\libact\\query_strategies\\representative_sampling.py:113: UserWarning: To copy construct from a tensor, it is recommended to use sourceTensor.clone().detach() or sourceTensor.clone().detach().requires_grad_(True), rather than torch.tensor(sourceTensor).\n",
      "  ex = torch.tensor(self.dataset.data[self.queried_hist_[-1]][0]).to(self.device)\n",
      "C:\\Users\\Wan Jing\\Documents\\libact-torch\\libact\\query_strategies\\multi_bandits_active_learning.py:227: UserWarning: To copy construct from a tensor, it is recommended to use sourceTensor.clone().detach() or sourceTensor.clone().detach().requires_grad_(True), rather than torch.tensor(sourceTensor).\n",
      "  ex = torch.tensor(self.dataset.data[self.queried_hist_[-1]][0]).to(self.device)\n",
      "C:\\Users\\Wan Jing\\.conda\\envs\\deepCB\\lib\\site-packages\\sklearn\\metrics\\_classification.py:1221: UndefinedMetricWarning: Precision is ill-defined and being set to 0.0 in labels with no predicted samples. Use `zero_division` parameter to control this behavior.\n",
      "  _warn_prf(average, modifier, msg_start, len(result))\n"
     ]
    },
    {
     "name": "stdout",
     "output_type": "stream",
     "text": [
      "    labeled_acc  testing_acc    reward\n",
      "93      0.40639     0.347985  0.281865\n",
      "Tue Sep  1 16:36:38 2020 MultiBanditsActiveLearning query round: 95\n",
      "Strategy Chosen: 0 RandomSampling\n"
     ]
    },
    {
     "name": "stderr",
     "output_type": "stream",
     "text": [
      "C:\\Users\\Wan Jing\\Documents\\libact-torch\\libact\\query_strategies\\random_sampling.py:86: UserWarning: To copy construct from a tensor, it is recommended to use sourceTensor.clone().detach() or sourceTensor.clone().detach().requires_grad_(True), rather than torch.tensor(sourceTensor).\n",
      "  ex = torch.tensor(self.dataset.data[self.queried_hist_[-1]][0]).to(self.device)\n",
      "C:\\Users\\Wan Jing\\Documents\\libact-torch\\libact\\query_strategies\\uncertainty_sampling.py:149: UserWarning: To copy construct from a tensor, it is recommended to use sourceTensor.clone().detach() or sourceTensor.clone().detach().requires_grad_(True), rather than torch.tensor(sourceTensor).\n",
      "  ex = torch.tensor(self.dataset.data[self.queried_hist_[-1]][0]).to(self.device)\n",
      "C:\\Users\\Wan Jing\\Documents\\libact-torch\\libact\\query_strategies\\representative_sampling.py:113: UserWarning: To copy construct from a tensor, it is recommended to use sourceTensor.clone().detach() or sourceTensor.clone().detach().requires_grad_(True), rather than torch.tensor(sourceTensor).\n",
      "  ex = torch.tensor(self.dataset.data[self.queried_hist_[-1]][0]).to(self.device)\n",
      "C:\\Users\\Wan Jing\\Documents\\libact-torch\\libact\\query_strategies\\multi_bandits_active_learning.py:227: UserWarning: To copy construct from a tensor, it is recommended to use sourceTensor.clone().detach() or sourceTensor.clone().detach().requires_grad_(True), rather than torch.tensor(sourceTensor).\n",
      "  ex = torch.tensor(self.dataset.data[self.queried_hist_[-1]][0]).to(self.device)\n"
     ]
    },
    {
     "name": "stdout",
     "output_type": "stream",
     "text": [
      "    labeled_acc  testing_acc   reward\n",
      "94     0.408461     0.351038  0.28514\n",
      "Tue Sep  1 16:36:46 2020 MultiBanditsActiveLearning query round: 96\n",
      "Strategy Chosen: 3 UncertaintySampling\n"
     ]
    },
    {
     "name": "stderr",
     "output_type": "stream",
     "text": [
      "C:\\Users\\Wan Jing\\Documents\\libact-torch\\libact\\query_strategies\\random_sampling.py:86: UserWarning: To copy construct from a tensor, it is recommended to use sourceTensor.clone().detach() or sourceTensor.clone().detach().requires_grad_(True), rather than torch.tensor(sourceTensor).\n",
      "  ex = torch.tensor(self.dataset.data[self.queried_hist_[-1]][0]).to(self.device)\n",
      "C:\\Users\\Wan Jing\\Documents\\libact-torch\\libact\\query_strategies\\uncertainty_sampling.py:149: UserWarning: To copy construct from a tensor, it is recommended to use sourceTensor.clone().detach() or sourceTensor.clone().detach().requires_grad_(True), rather than torch.tensor(sourceTensor).\n",
      "  ex = torch.tensor(self.dataset.data[self.queried_hist_[-1]][0]).to(self.device)\n",
      "C:\\Users\\Wan Jing\\Documents\\libact-torch\\libact\\query_strategies\\representative_sampling.py:113: UserWarning: To copy construct from a tensor, it is recommended to use sourceTensor.clone().detach() or sourceTensor.clone().detach().requires_grad_(True), rather than torch.tensor(sourceTensor).\n",
      "  ex = torch.tensor(self.dataset.data[self.queried_hist_[-1]][0]).to(self.device)\n",
      "C:\\Users\\Wan Jing\\Documents\\libact-torch\\libact\\query_strategies\\multi_bandits_active_learning.py:227: UserWarning: To copy construct from a tensor, it is recommended to use sourceTensor.clone().detach() or sourceTensor.clone().detach().requires_grad_(True), rather than torch.tensor(sourceTensor).\n",
      "  ex = torch.tensor(self.dataset.data[self.queried_hist_[-1]][0]).to(self.device)\n"
     ]
    },
    {
     "name": "stdout",
     "output_type": "stream",
     "text": [
      "    labeled_acc  testing_acc    reward\n",
      "95      0.41227     0.355006  0.288298\n",
      "Tue Sep  1 16:37:02 2020 MultiBanditsActiveLearning query round: 97\n",
      "Strategy Chosen: 2 UncertaintySampling\n"
     ]
    },
    {
     "name": "stderr",
     "output_type": "stream",
     "text": [
      "C:\\Users\\Wan Jing\\Documents\\libact-torch\\libact\\query_strategies\\random_sampling.py:86: UserWarning: To copy construct from a tensor, it is recommended to use sourceTensor.clone().detach() or sourceTensor.clone().detach().requires_grad_(True), rather than torch.tensor(sourceTensor).\n",
      "  ex = torch.tensor(self.dataset.data[self.queried_hist_[-1]][0]).to(self.device)\n",
      "C:\\Users\\Wan Jing\\Documents\\libact-torch\\libact\\query_strategies\\uncertainty_sampling.py:149: UserWarning: To copy construct from a tensor, it is recommended to use sourceTensor.clone().detach() or sourceTensor.clone().detach().requires_grad_(True), rather than torch.tensor(sourceTensor).\n",
      "  ex = torch.tensor(self.dataset.data[self.queried_hist_[-1]][0]).to(self.device)\n",
      "C:\\Users\\Wan Jing\\Documents\\libact-torch\\libact\\query_strategies\\representative_sampling.py:113: UserWarning: To copy construct from a tensor, it is recommended to use sourceTensor.clone().detach() or sourceTensor.clone().detach().requires_grad_(True), rather than torch.tensor(sourceTensor).\n",
      "  ex = torch.tensor(self.dataset.data[self.queried_hist_[-1]][0]).to(self.device)\n",
      "C:\\Users\\Wan Jing\\Documents\\libact-torch\\libact\\query_strategies\\multi_bandits_active_learning.py:227: UserWarning: To copy construct from a tensor, it is recommended to use sourceTensor.clone().detach() or sourceTensor.clone().detach().requires_grad_(True), rather than torch.tensor(sourceTensor).\n",
      "  ex = torch.tensor(self.dataset.data[self.queried_hist_[-1]][0]).to(self.device)\n"
     ]
    },
    {
     "name": "stdout",
     "output_type": "stream",
     "text": [
      "    labeled_acc  testing_acc    reward\n",
      "96     0.414658     0.351038  0.287656\n",
      "Tue Sep  1 16:37:17 2020 MultiBanditsActiveLearning query round: 98\n",
      "Strategy Chosen: 2 UncertaintySampling\n"
     ]
    },
    {
     "name": "stderr",
     "output_type": "stream",
     "text": [
      "C:\\Users\\Wan Jing\\Documents\\libact-torch\\libact\\query_strategies\\random_sampling.py:86: UserWarning: To copy construct from a tensor, it is recommended to use sourceTensor.clone().detach() or sourceTensor.clone().detach().requires_grad_(True), rather than torch.tensor(sourceTensor).\n",
      "  ex = torch.tensor(self.dataset.data[self.queried_hist_[-1]][0]).to(self.device)\n",
      "C:\\Users\\Wan Jing\\Documents\\libact-torch\\libact\\query_strategies\\uncertainty_sampling.py:149: UserWarning: To copy construct from a tensor, it is recommended to use sourceTensor.clone().detach() or sourceTensor.clone().detach().requires_grad_(True), rather than torch.tensor(sourceTensor).\n",
      "  ex = torch.tensor(self.dataset.data[self.queried_hist_[-1]][0]).to(self.device)\n",
      "C:\\Users\\Wan Jing\\Documents\\libact-torch\\libact\\query_strategies\\representative_sampling.py:113: UserWarning: To copy construct from a tensor, it is recommended to use sourceTensor.clone().detach() or sourceTensor.clone().detach().requires_grad_(True), rather than torch.tensor(sourceTensor).\n",
      "  ex = torch.tensor(self.dataset.data[self.queried_hist_[-1]][0]).to(self.device)\n",
      "C:\\Users\\Wan Jing\\Documents\\libact-torch\\libact\\query_strategies\\multi_bandits_active_learning.py:227: UserWarning: To copy construct from a tensor, it is recommended to use sourceTensor.clone().detach() or sourceTensor.clone().detach().requires_grad_(True), rather than torch.tensor(sourceTensor).\n",
      "  ex = torch.tensor(self.dataset.data[self.queried_hist_[-1]][0]).to(self.device)\n"
     ]
    },
    {
     "name": "stdout",
     "output_type": "stream",
     "text": [
      "    labeled_acc  testing_acc    reward\n",
      "97     0.415619     0.355006  0.292058\n",
      "Tue Sep  1 16:37:33 2020 MultiBanditsActiveLearning query round: 99\n",
      "Strategy Chosen: 0 RandomSampling\n"
     ]
    },
    {
     "name": "stderr",
     "output_type": "stream",
     "text": [
      "C:\\Users\\Wan Jing\\Documents\\libact-torch\\libact\\query_strategies\\random_sampling.py:86: UserWarning: To copy construct from a tensor, it is recommended to use sourceTensor.clone().detach() or sourceTensor.clone().detach().requires_grad_(True), rather than torch.tensor(sourceTensor).\n",
      "  ex = torch.tensor(self.dataset.data[self.queried_hist_[-1]][0]).to(self.device)\n",
      "C:\\Users\\Wan Jing\\Documents\\libact-torch\\libact\\query_strategies\\uncertainty_sampling.py:149: UserWarning: To copy construct from a tensor, it is recommended to use sourceTensor.clone().detach() or sourceTensor.clone().detach().requires_grad_(True), rather than torch.tensor(sourceTensor).\n",
      "  ex = torch.tensor(self.dataset.data[self.queried_hist_[-1]][0]).to(self.device)\n",
      "C:\\Users\\Wan Jing\\Documents\\libact-torch\\libact\\query_strategies\\representative_sampling.py:113: UserWarning: To copy construct from a tensor, it is recommended to use sourceTensor.clone().detach() or sourceTensor.clone().detach().requires_grad_(True), rather than torch.tensor(sourceTensor).\n",
      "  ex = torch.tensor(self.dataset.data[self.queried_hist_[-1]][0]).to(self.device)\n",
      "C:\\Users\\Wan Jing\\Documents\\libact-torch\\libact\\query_strategies\\multi_bandits_active_learning.py:227: UserWarning: To copy construct from a tensor, it is recommended to use sourceTensor.clone().detach() or sourceTensor.clone().detach().requires_grad_(True), rather than torch.tensor(sourceTensor).\n",
      "  ex = torch.tensor(self.dataset.data[self.queried_hist_[-1]][0]).to(self.device)\n",
      "C:\\Users\\Wan Jing\\.conda\\envs\\deepCB\\lib\\site-packages\\sklearn\\metrics\\_classification.py:1221: UndefinedMetricWarning: Precision is ill-defined and being set to 0.0 in labels with no predicted samples. Use `zero_division` parameter to control this behavior.\n",
      "  _warn_prf(average, modifier, msg_start, len(result))\n"
     ]
    },
    {
     "name": "stdout",
     "output_type": "stream",
     "text": [
      "    labeled_acc  testing_acc  reward\n",
      "98     0.422985     0.353785  0.2976\n",
      "Tue Sep  1 16:37:42 2020 MultiBanditsActiveLearning query round: 100\n",
      "Strategy Chosen: 4 RepresentativeSampling\n"
     ]
    },
    {
     "name": "stderr",
     "output_type": "stream",
     "text": [
      "C:\\Users\\Wan Jing\\Documents\\libact-torch\\libact\\query_strategies\\representative_sampling.py:147: UserWarning: To copy construct from a tensor, it is recommended to use sourceTensor.clone().detach() or sourceTensor.clone().detach().requires_grad_(True), rather than torch.tensor(sourceTensor).\n",
      "  x = torch.tensor(x).to(self.device)\n",
      "C:\\Users\\Wan Jing\\Documents\\libact-torch\\libact\\query_strategies\\representative_sampling.py:147: UserWarning: To copy construct from a tensor, it is recommended to use sourceTensor.clone().detach() or sourceTensor.clone().detach().requires_grad_(True), rather than torch.tensor(sourceTensor).\n",
      "  x = torch.tensor(x).to(self.device)\n",
      "C:\\Users\\Wan Jing\\Documents\\libact-torch\\libact\\query_strategies\\random_sampling.py:86: UserWarning: To copy construct from a tensor, it is recommended to use sourceTensor.clone().detach() or sourceTensor.clone().detach().requires_grad_(True), rather than torch.tensor(sourceTensor).\n",
      "  ex = torch.tensor(self.dataset.data[self.queried_hist_[-1]][0]).to(self.device)\n",
      "C:\\Users\\Wan Jing\\Documents\\libact-torch\\libact\\query_strategies\\uncertainty_sampling.py:149: UserWarning: To copy construct from a tensor, it is recommended to use sourceTensor.clone().detach() or sourceTensor.clone().detach().requires_grad_(True), rather than torch.tensor(sourceTensor).\n",
      "  ex = torch.tensor(self.dataset.data[self.queried_hist_[-1]][0]).to(self.device)\n",
      "C:\\Users\\Wan Jing\\Documents\\libact-torch\\libact\\query_strategies\\representative_sampling.py:113: UserWarning: To copy construct from a tensor, it is recommended to use sourceTensor.clone().detach() or sourceTensor.clone().detach().requires_grad_(True), rather than torch.tensor(sourceTensor).\n",
      "  ex = torch.tensor(self.dataset.data[self.queried_hist_[-1]][0]).to(self.device)\n",
      "C:\\Users\\Wan Jing\\Documents\\libact-torch\\libact\\query_strategies\\multi_bandits_active_learning.py:227: UserWarning: To copy construct from a tensor, it is recommended to use sourceTensor.clone().detach() or sourceTensor.clone().detach().requires_grad_(True), rather than torch.tensor(sourceTensor).\n",
      "  ex = torch.tensor(self.dataset.data[self.queried_hist_[-1]][0]).to(self.device)\n",
      "C:\\Users\\Wan Jing\\.conda\\envs\\deepCB\\lib\\site-packages\\sklearn\\metrics\\_classification.py:1221: UndefinedMetricWarning: Precision is ill-defined and being set to 0.0 in labels with no predicted samples. Use `zero_division` parameter to control this behavior.\n",
      "  _warn_prf(average, modifier, msg_start, len(result))\n"
     ]
    },
    {
     "name": "stdout",
     "output_type": "stream",
     "text": [
      "    labeled_acc  testing_acc    reward\n",
      "99     0.422884      0.35409  0.288254\n",
      "Tue Sep  1 16:38:03 2020 MultiBanditsActiveLearning query round: 101\n",
      "Strategy Chosen: 1 UncertaintySampling\n"
     ]
    },
    {
     "name": "stderr",
     "output_type": "stream",
     "text": [
      "C:\\Users\\Wan Jing\\Documents\\libact-torch\\libact\\query_strategies\\random_sampling.py:86: UserWarning: To copy construct from a tensor, it is recommended to use sourceTensor.clone().detach() or sourceTensor.clone().detach().requires_grad_(True), rather than torch.tensor(sourceTensor).\n",
      "  ex = torch.tensor(self.dataset.data[self.queried_hist_[-1]][0]).to(self.device)\n",
      "C:\\Users\\Wan Jing\\Documents\\libact-torch\\libact\\query_strategies\\uncertainty_sampling.py:149: UserWarning: To copy construct from a tensor, it is recommended to use sourceTensor.clone().detach() or sourceTensor.clone().detach().requires_grad_(True), rather than torch.tensor(sourceTensor).\n",
      "  ex = torch.tensor(self.dataset.data[self.queried_hist_[-1]][0]).to(self.device)\n",
      "C:\\Users\\Wan Jing\\Documents\\libact-torch\\libact\\query_strategies\\representative_sampling.py:113: UserWarning: To copy construct from a tensor, it is recommended to use sourceTensor.clone().detach() or sourceTensor.clone().detach().requires_grad_(True), rather than torch.tensor(sourceTensor).\n",
      "  ex = torch.tensor(self.dataset.data[self.queried_hist_[-1]][0]).to(self.device)\n",
      "C:\\Users\\Wan Jing\\Documents\\libact-torch\\libact\\query_strategies\\multi_bandits_active_learning.py:227: UserWarning: To copy construct from a tensor, it is recommended to use sourceTensor.clone().detach() or sourceTensor.clone().detach().requires_grad_(True), rather than torch.tensor(sourceTensor).\n",
      "  ex = torch.tensor(self.dataset.data[self.queried_hist_[-1]][0]).to(self.device)\n"
     ]
    },
    {
     "name": "stdout",
     "output_type": "stream",
     "text": [
      "     labeled_acc  testing_acc    reward\n",
      "100     0.424615     0.357753  0.287752\n",
      "Tue Sep  1 16:38:18 2020 MultiBanditsActiveLearning query round: 102\n",
      "Strategy Chosen: 4 RepresentativeSampling\n"
     ]
    },
    {
     "name": "stderr",
     "output_type": "stream",
     "text": [
      "C:\\Users\\Wan Jing\\Documents\\libact-torch\\libact\\query_strategies\\representative_sampling.py:147: UserWarning: To copy construct from a tensor, it is recommended to use sourceTensor.clone().detach() or sourceTensor.clone().detach().requires_grad_(True), rather than torch.tensor(sourceTensor).\n",
      "  x = torch.tensor(x).to(self.device)\n",
      "C:\\Users\\Wan Jing\\Documents\\libact-torch\\libact\\query_strategies\\representative_sampling.py:147: UserWarning: To copy construct from a tensor, it is recommended to use sourceTensor.clone().detach() or sourceTensor.clone().detach().requires_grad_(True), rather than torch.tensor(sourceTensor).\n",
      "  x = torch.tensor(x).to(self.device)\n",
      "C:\\Users\\Wan Jing\\Documents\\libact-torch\\libact\\query_strategies\\random_sampling.py:86: UserWarning: To copy construct from a tensor, it is recommended to use sourceTensor.clone().detach() or sourceTensor.clone().detach().requires_grad_(True), rather than torch.tensor(sourceTensor).\n",
      "  ex = torch.tensor(self.dataset.data[self.queried_hist_[-1]][0]).to(self.device)\n",
      "C:\\Users\\Wan Jing\\Documents\\libact-torch\\libact\\query_strategies\\uncertainty_sampling.py:149: UserWarning: To copy construct from a tensor, it is recommended to use sourceTensor.clone().detach() or sourceTensor.clone().detach().requires_grad_(True), rather than torch.tensor(sourceTensor).\n",
      "  ex = torch.tensor(self.dataset.data[self.queried_hist_[-1]][0]).to(self.device)\n",
      "C:\\Users\\Wan Jing\\Documents\\libact-torch\\libact\\query_strategies\\representative_sampling.py:113: UserWarning: To copy construct from a tensor, it is recommended to use sourceTensor.clone().detach() or sourceTensor.clone().detach().requires_grad_(True), rather than torch.tensor(sourceTensor).\n",
      "  ex = torch.tensor(self.dataset.data[self.queried_hist_[-1]][0]).to(self.device)\n",
      "C:\\Users\\Wan Jing\\Documents\\libact-torch\\libact\\query_strategies\\multi_bandits_active_learning.py:227: UserWarning: To copy construct from a tensor, it is recommended to use sourceTensor.clone().detach() or sourceTensor.clone().detach().requires_grad_(True), rather than torch.tensor(sourceTensor).\n",
      "  ex = torch.tensor(self.dataset.data[self.queried_hist_[-1]][0]).to(self.device)\n"
     ]
    },
    {
     "name": "stdout",
     "output_type": "stream",
     "text": [
      "     labeled_acc  testing_acc   reward\n",
      "101     0.432667     0.356838  0.30312\n",
      "Tue Sep  1 16:38:39 2020 MultiBanditsActiveLearning query round: 103\n",
      "Strategy Chosen: 2 UncertaintySampling\n"
     ]
    },
    {
     "name": "stderr",
     "output_type": "stream",
     "text": [
      "C:\\Users\\Wan Jing\\Documents\\libact-torch\\libact\\query_strategies\\random_sampling.py:86: UserWarning: To copy construct from a tensor, it is recommended to use sourceTensor.clone().detach() or sourceTensor.clone().detach().requires_grad_(True), rather than torch.tensor(sourceTensor).\n",
      "  ex = torch.tensor(self.dataset.data[self.queried_hist_[-1]][0]).to(self.device)\n",
      "C:\\Users\\Wan Jing\\Documents\\libact-torch\\libact\\query_strategies\\uncertainty_sampling.py:149: UserWarning: To copy construct from a tensor, it is recommended to use sourceTensor.clone().detach() or sourceTensor.clone().detach().requires_grad_(True), rather than torch.tensor(sourceTensor).\n",
      "  ex = torch.tensor(self.dataset.data[self.queried_hist_[-1]][0]).to(self.device)\n",
      "C:\\Users\\Wan Jing\\Documents\\libact-torch\\libact\\query_strategies\\representative_sampling.py:113: UserWarning: To copy construct from a tensor, it is recommended to use sourceTensor.clone().detach() or sourceTensor.clone().detach().requires_grad_(True), rather than torch.tensor(sourceTensor).\n",
      "  ex = torch.tensor(self.dataset.data[self.queried_hist_[-1]][0]).to(self.device)\n",
      "C:\\Users\\Wan Jing\\Documents\\libact-torch\\libact\\query_strategies\\multi_bandits_active_learning.py:227: UserWarning: To copy construct from a tensor, it is recommended to use sourceTensor.clone().detach() or sourceTensor.clone().detach().requires_grad_(True), rather than torch.tensor(sourceTensor).\n",
      "  ex = torch.tensor(self.dataset.data[self.queried_hist_[-1]][0]).to(self.device)\n"
     ]
    },
    {
     "name": "stdout",
     "output_type": "stream",
     "text": [
      "     labeled_acc  testing_acc    reward\n",
      "102     0.426738      0.35409  0.289715\n",
      "Tue Sep  1 16:38:55 2020 MultiBanditsActiveLearning query round: 104\n",
      "Strategy Chosen: 1 UncertaintySampling\n"
     ]
    },
    {
     "name": "stderr",
     "output_type": "stream",
     "text": [
      "C:\\Users\\Wan Jing\\Documents\\libact-torch\\libact\\query_strategies\\random_sampling.py:86: UserWarning: To copy construct from a tensor, it is recommended to use sourceTensor.clone().detach() or sourceTensor.clone().detach().requires_grad_(True), rather than torch.tensor(sourceTensor).\n",
      "  ex = torch.tensor(self.dataset.data[self.queried_hist_[-1]][0]).to(self.device)\n",
      "C:\\Users\\Wan Jing\\Documents\\libact-torch\\libact\\query_strategies\\uncertainty_sampling.py:149: UserWarning: To copy construct from a tensor, it is recommended to use sourceTensor.clone().detach() or sourceTensor.clone().detach().requires_grad_(True), rather than torch.tensor(sourceTensor).\n",
      "  ex = torch.tensor(self.dataset.data[self.queried_hist_[-1]][0]).to(self.device)\n",
      "C:\\Users\\Wan Jing\\Documents\\libact-torch\\libact\\query_strategies\\representative_sampling.py:113: UserWarning: To copy construct from a tensor, it is recommended to use sourceTensor.clone().detach() or sourceTensor.clone().detach().requires_grad_(True), rather than torch.tensor(sourceTensor).\n",
      "  ex = torch.tensor(self.dataset.data[self.queried_hist_[-1]][0]).to(self.device)\n",
      "C:\\Users\\Wan Jing\\Documents\\libact-torch\\libact\\query_strategies\\multi_bandits_active_learning.py:227: UserWarning: To copy construct from a tensor, it is recommended to use sourceTensor.clone().detach() or sourceTensor.clone().detach().requires_grad_(True), rather than torch.tensor(sourceTensor).\n",
      "  ex = torch.tensor(self.dataset.data[self.queried_hist_[-1]][0]).to(self.device)\n"
     ]
    },
    {
     "name": "stdout",
     "output_type": "stream",
     "text": [
      "     labeled_acc  testing_acc    reward\n",
      "103     0.425561     0.357143  0.295464\n",
      "Tue Sep  1 16:39:11 2020 MultiBanditsActiveLearning query round: 105\n",
      "Strategy Chosen: 2 UncertaintySampling\n"
     ]
    },
    {
     "name": "stderr",
     "output_type": "stream",
     "text": [
      "C:\\Users\\Wan Jing\\Documents\\libact-torch\\libact\\query_strategies\\random_sampling.py:86: UserWarning: To copy construct from a tensor, it is recommended to use sourceTensor.clone().detach() or sourceTensor.clone().detach().requires_grad_(True), rather than torch.tensor(sourceTensor).\n",
      "  ex = torch.tensor(self.dataset.data[self.queried_hist_[-1]][0]).to(self.device)\n",
      "C:\\Users\\Wan Jing\\Documents\\libact-torch\\libact\\query_strategies\\uncertainty_sampling.py:149: UserWarning: To copy construct from a tensor, it is recommended to use sourceTensor.clone().detach() or sourceTensor.clone().detach().requires_grad_(True), rather than torch.tensor(sourceTensor).\n",
      "  ex = torch.tensor(self.dataset.data[self.queried_hist_[-1]][0]).to(self.device)\n",
      "C:\\Users\\Wan Jing\\Documents\\libact-torch\\libact\\query_strategies\\representative_sampling.py:113: UserWarning: To copy construct from a tensor, it is recommended to use sourceTensor.clone().detach() or sourceTensor.clone().detach().requires_grad_(True), rather than torch.tensor(sourceTensor).\n",
      "  ex = torch.tensor(self.dataset.data[self.queried_hist_[-1]][0]).to(self.device)\n",
      "C:\\Users\\Wan Jing\\Documents\\libact-torch\\libact\\query_strategies\\multi_bandits_active_learning.py:227: UserWarning: To copy construct from a tensor, it is recommended to use sourceTensor.clone().detach() or sourceTensor.clone().detach().requires_grad_(True), rather than torch.tensor(sourceTensor).\n",
      "  ex = torch.tensor(self.dataset.data[self.queried_hist_[-1]][0]).to(self.device)\n"
     ]
    },
    {
     "name": "stdout",
     "output_type": "stream",
     "text": [
      "     labeled_acc  testing_acc    reward\n",
      "104     0.436652     0.358974  0.309381\n",
      "Tue Sep  1 16:39:27 2020 MultiBanditsActiveLearning query round: 106\n",
      "Strategy Chosen: 1 UncertaintySampling\n"
     ]
    },
    {
     "name": "stderr",
     "output_type": "stream",
     "text": [
      "C:\\Users\\Wan Jing\\Documents\\libact-torch\\libact\\query_strategies\\random_sampling.py:86: UserWarning: To copy construct from a tensor, it is recommended to use sourceTensor.clone().detach() or sourceTensor.clone().detach().requires_grad_(True), rather than torch.tensor(sourceTensor).\n",
      "  ex = torch.tensor(self.dataset.data[self.queried_hist_[-1]][0]).to(self.device)\n",
      "C:\\Users\\Wan Jing\\Documents\\libact-torch\\libact\\query_strategies\\uncertainty_sampling.py:149: UserWarning: To copy construct from a tensor, it is recommended to use sourceTensor.clone().detach() or sourceTensor.clone().detach().requires_grad_(True), rather than torch.tensor(sourceTensor).\n",
      "  ex = torch.tensor(self.dataset.data[self.queried_hist_[-1]][0]).to(self.device)\n",
      "C:\\Users\\Wan Jing\\Documents\\libact-torch\\libact\\query_strategies\\representative_sampling.py:113: UserWarning: To copy construct from a tensor, it is recommended to use sourceTensor.clone().detach() or sourceTensor.clone().detach().requires_grad_(True), rather than torch.tensor(sourceTensor).\n",
      "  ex = torch.tensor(self.dataset.data[self.queried_hist_[-1]][0]).to(self.device)\n",
      "C:\\Users\\Wan Jing\\Documents\\libact-torch\\libact\\query_strategies\\multi_bandits_active_learning.py:227: UserWarning: To copy construct from a tensor, it is recommended to use sourceTensor.clone().detach() or sourceTensor.clone().detach().requires_grad_(True), rather than torch.tensor(sourceTensor).\n",
      "  ex = torch.tensor(self.dataset.data[self.queried_hist_[-1]][0]).to(self.device)\n"
     ]
    },
    {
     "name": "stdout",
     "output_type": "stream",
     "text": [
      "     labeled_acc  testing_acc    reward\n",
      "105     0.446726     0.365385  0.321745\n",
      "Tue Sep  1 16:39:42 2020 MultiBanditsActiveLearning query round: 107\n",
      "Strategy Chosen: 0 RandomSampling\n"
     ]
    },
    {
     "name": "stderr",
     "output_type": "stream",
     "text": [
      "C:\\Users\\Wan Jing\\Documents\\libact-torch\\libact\\query_strategies\\random_sampling.py:86: UserWarning: To copy construct from a tensor, it is recommended to use sourceTensor.clone().detach() or sourceTensor.clone().detach().requires_grad_(True), rather than torch.tensor(sourceTensor).\n",
      "  ex = torch.tensor(self.dataset.data[self.queried_hist_[-1]][0]).to(self.device)\n",
      "C:\\Users\\Wan Jing\\Documents\\libact-torch\\libact\\query_strategies\\uncertainty_sampling.py:149: UserWarning: To copy construct from a tensor, it is recommended to use sourceTensor.clone().detach() or sourceTensor.clone().detach().requires_grad_(True), rather than torch.tensor(sourceTensor).\n",
      "  ex = torch.tensor(self.dataset.data[self.queried_hist_[-1]][0]).to(self.device)\n",
      "C:\\Users\\Wan Jing\\Documents\\libact-torch\\libact\\query_strategies\\representative_sampling.py:113: UserWarning: To copy construct from a tensor, it is recommended to use sourceTensor.clone().detach() or sourceTensor.clone().detach().requires_grad_(True), rather than torch.tensor(sourceTensor).\n",
      "  ex = torch.tensor(self.dataset.data[self.queried_hist_[-1]][0]).to(self.device)\n",
      "C:\\Users\\Wan Jing\\Documents\\libact-torch\\libact\\query_strategies\\multi_bandits_active_learning.py:227: UserWarning: To copy construct from a tensor, it is recommended to use sourceTensor.clone().detach() or sourceTensor.clone().detach().requires_grad_(True), rather than torch.tensor(sourceTensor).\n",
      "  ex = torch.tensor(self.dataset.data[self.queried_hist_[-1]][0]).to(self.device)\n"
     ]
    },
    {
     "name": "stdout",
     "output_type": "stream",
     "text": [
      "     labeled_acc  testing_acc    reward\n",
      "106     0.442229     0.361722  0.311885\n",
      "Tue Sep  1 16:39:52 2020 MultiBanditsActiveLearning query round: 108\n",
      "Strategy Chosen: 1 UncertaintySampling\n"
     ]
    },
    {
     "name": "stderr",
     "output_type": "stream",
     "text": [
      "C:\\Users\\Wan Jing\\Documents\\libact-torch\\libact\\query_strategies\\random_sampling.py:86: UserWarning: To copy construct from a tensor, it is recommended to use sourceTensor.clone().detach() or sourceTensor.clone().detach().requires_grad_(True), rather than torch.tensor(sourceTensor).\n",
      "  ex = torch.tensor(self.dataset.data[self.queried_hist_[-1]][0]).to(self.device)\n",
      "C:\\Users\\Wan Jing\\Documents\\libact-torch\\libact\\query_strategies\\uncertainty_sampling.py:149: UserWarning: To copy construct from a tensor, it is recommended to use sourceTensor.clone().detach() or sourceTensor.clone().detach().requires_grad_(True), rather than torch.tensor(sourceTensor).\n",
      "  ex = torch.tensor(self.dataset.data[self.queried_hist_[-1]][0]).to(self.device)\n",
      "C:\\Users\\Wan Jing\\Documents\\libact-torch\\libact\\query_strategies\\representative_sampling.py:113: UserWarning: To copy construct from a tensor, it is recommended to use sourceTensor.clone().detach() or sourceTensor.clone().detach().requires_grad_(True), rather than torch.tensor(sourceTensor).\n",
      "  ex = torch.tensor(self.dataset.data[self.queried_hist_[-1]][0]).to(self.device)\n",
      "C:\\Users\\Wan Jing\\Documents\\libact-torch\\libact\\query_strategies\\multi_bandits_active_learning.py:227: UserWarning: To copy construct from a tensor, it is recommended to use sourceTensor.clone().detach() or sourceTensor.clone().detach().requires_grad_(True), rather than torch.tensor(sourceTensor).\n",
      "  ex = torch.tensor(self.dataset.data[self.queried_hist_[-1]][0]).to(self.device)\n",
      "C:\\Users\\Wan Jing\\.conda\\envs\\deepCB\\lib\\site-packages\\sklearn\\metrics\\_classification.py:1221: UndefinedMetricWarning: Precision is ill-defined and being set to 0.0 in labels with no predicted samples. Use `zero_division` parameter to control this behavior.\n",
      "  _warn_prf(average, modifier, msg_start, len(result))\n"
     ]
    },
    {
     "name": "stdout",
     "output_type": "stream",
     "text": [
      "     labeled_acc  testing_acc    reward\n",
      "107     0.442122     0.357448  0.304045\n",
      "Tue Sep  1 16:40:07 2020 MultiBanditsActiveLearning query round: 109\n",
      "Strategy Chosen: 2 UncertaintySampling\n"
     ]
    },
    {
     "name": "stderr",
     "output_type": "stream",
     "text": [
      "C:\\Users\\Wan Jing\\Documents\\libact-torch\\libact\\query_strategies\\random_sampling.py:86: UserWarning: To copy construct from a tensor, it is recommended to use sourceTensor.clone().detach() or sourceTensor.clone().detach().requires_grad_(True), rather than torch.tensor(sourceTensor).\n",
      "  ex = torch.tensor(self.dataset.data[self.queried_hist_[-1]][0]).to(self.device)\n",
      "C:\\Users\\Wan Jing\\Documents\\libact-torch\\libact\\query_strategies\\uncertainty_sampling.py:149: UserWarning: To copy construct from a tensor, it is recommended to use sourceTensor.clone().detach() or sourceTensor.clone().detach().requires_grad_(True), rather than torch.tensor(sourceTensor).\n",
      "  ex = torch.tensor(self.dataset.data[self.queried_hist_[-1]][0]).to(self.device)\n",
      "C:\\Users\\Wan Jing\\Documents\\libact-torch\\libact\\query_strategies\\representative_sampling.py:113: UserWarning: To copy construct from a tensor, it is recommended to use sourceTensor.clone().detach() or sourceTensor.clone().detach().requires_grad_(True), rather than torch.tensor(sourceTensor).\n",
      "  ex = torch.tensor(self.dataset.data[self.queried_hist_[-1]][0]).to(self.device)\n",
      "C:\\Users\\Wan Jing\\Documents\\libact-torch\\libact\\query_strategies\\multi_bandits_active_learning.py:227: UserWarning: To copy construct from a tensor, it is recommended to use sourceTensor.clone().detach() or sourceTensor.clone().detach().requires_grad_(True), rather than torch.tensor(sourceTensor).\n",
      "  ex = torch.tensor(self.dataset.data[self.queried_hist_[-1]][0]).to(self.device)\n"
     ]
    },
    {
     "name": "stdout",
     "output_type": "stream",
     "text": [
      "     labeled_acc  testing_acc    reward\n",
      "108     0.446922     0.360806  0.313212\n",
      "Tue Sep  1 16:40:23 2020 MultiBanditsActiveLearning query round: 110\n",
      "Strategy Chosen: 1 UncertaintySampling\n"
     ]
    },
    {
     "name": "stderr",
     "output_type": "stream",
     "text": [
      "C:\\Users\\Wan Jing\\Documents\\libact-torch\\libact\\query_strategies\\random_sampling.py:86: UserWarning: To copy construct from a tensor, it is recommended to use sourceTensor.clone().detach() or sourceTensor.clone().detach().requires_grad_(True), rather than torch.tensor(sourceTensor).\n",
      "  ex = torch.tensor(self.dataset.data[self.queried_hist_[-1]][0]).to(self.device)\n",
      "C:\\Users\\Wan Jing\\Documents\\libact-torch\\libact\\query_strategies\\uncertainty_sampling.py:149: UserWarning: To copy construct from a tensor, it is recommended to use sourceTensor.clone().detach() or sourceTensor.clone().detach().requires_grad_(True), rather than torch.tensor(sourceTensor).\n",
      "  ex = torch.tensor(self.dataset.data[self.queried_hist_[-1]][0]).to(self.device)\n",
      "C:\\Users\\Wan Jing\\Documents\\libact-torch\\libact\\query_strategies\\representative_sampling.py:113: UserWarning: To copy construct from a tensor, it is recommended to use sourceTensor.clone().detach() or sourceTensor.clone().detach().requires_grad_(True), rather than torch.tensor(sourceTensor).\n",
      "  ex = torch.tensor(self.dataset.data[self.queried_hist_[-1]][0]).to(self.device)\n",
      "C:\\Users\\Wan Jing\\Documents\\libact-torch\\libact\\query_strategies\\multi_bandits_active_learning.py:227: UserWarning: To copy construct from a tensor, it is recommended to use sourceTensor.clone().detach() or sourceTensor.clone().detach().requires_grad_(True), rather than torch.tensor(sourceTensor).\n",
      "  ex = torch.tensor(self.dataset.data[self.queried_hist_[-1]][0]).to(self.device)\n"
     ]
    },
    {
     "name": "stdout",
     "output_type": "stream",
     "text": [
      "     labeled_acc  testing_acc    reward\n",
      "109     0.443509     0.362027  0.312845\n",
      "Tue Sep  1 16:40:39 2020 MultiBanditsActiveLearning query round: 111\n",
      "Strategy Chosen: 4 RepresentativeSampling\n"
     ]
    },
    {
     "name": "stderr",
     "output_type": "stream",
     "text": [
      "C:\\Users\\Wan Jing\\Documents\\libact-torch\\libact\\query_strategies\\representative_sampling.py:147: UserWarning: To copy construct from a tensor, it is recommended to use sourceTensor.clone().detach() or sourceTensor.clone().detach().requires_grad_(True), rather than torch.tensor(sourceTensor).\n",
      "  x = torch.tensor(x).to(self.device)\n",
      "C:\\Users\\Wan Jing\\Documents\\libact-torch\\libact\\query_strategies\\representative_sampling.py:147: UserWarning: To copy construct from a tensor, it is recommended to use sourceTensor.clone().detach() or sourceTensor.clone().detach().requires_grad_(True), rather than torch.tensor(sourceTensor).\n",
      "  x = torch.tensor(x).to(self.device)\n",
      "C:\\Users\\Wan Jing\\Documents\\libact-torch\\libact\\query_strategies\\random_sampling.py:86: UserWarning: To copy construct from a tensor, it is recommended to use sourceTensor.clone().detach() or sourceTensor.clone().detach().requires_grad_(True), rather than torch.tensor(sourceTensor).\n",
      "  ex = torch.tensor(self.dataset.data[self.queried_hist_[-1]][0]).to(self.device)\n",
      "C:\\Users\\Wan Jing\\Documents\\libact-torch\\libact\\query_strategies\\uncertainty_sampling.py:149: UserWarning: To copy construct from a tensor, it is recommended to use sourceTensor.clone().detach() or sourceTensor.clone().detach().requires_grad_(True), rather than torch.tensor(sourceTensor).\n",
      "  ex = torch.tensor(self.dataset.data[self.queried_hist_[-1]][0]).to(self.device)\n",
      "C:\\Users\\Wan Jing\\Documents\\libact-torch\\libact\\query_strategies\\representative_sampling.py:113: UserWarning: To copy construct from a tensor, it is recommended to use sourceTensor.clone().detach() or sourceTensor.clone().detach().requires_grad_(True), rather than torch.tensor(sourceTensor).\n",
      "  ex = torch.tensor(self.dataset.data[self.queried_hist_[-1]][0]).to(self.device)\n",
      "C:\\Users\\Wan Jing\\Documents\\libact-torch\\libact\\query_strategies\\multi_bandits_active_learning.py:227: UserWarning: To copy construct from a tensor, it is recommended to use sourceTensor.clone().detach() or sourceTensor.clone().detach().requires_grad_(True), rather than torch.tensor(sourceTensor).\n",
      "  ex = torch.tensor(self.dataset.data[self.queried_hist_[-1]][0]).to(self.device)\n",
      "C:\\Users\\Wan Jing\\.conda\\envs\\deepCB\\lib\\site-packages\\sklearn\\metrics\\_classification.py:1221: UndefinedMetricWarning: Precision is ill-defined and being set to 0.0 in labels with no predicted samples. Use `zero_division` parameter to control this behavior.\n",
      "  _warn_prf(average, modifier, msg_start, len(result))\n"
     ]
    },
    {
     "name": "stdout",
     "output_type": "stream",
     "text": [
      "     labeled_acc  testing_acc    reward\n",
      "110     0.455565     0.362637  0.312772\n",
      "Tue Sep  1 16:41:00 2020 MultiBanditsActiveLearning query round: 112\n",
      "Strategy Chosen: 1 UncertaintySampling\n"
     ]
    },
    {
     "name": "stderr",
     "output_type": "stream",
     "text": [
      "C:\\Users\\Wan Jing\\Documents\\libact-torch\\libact\\query_strategies\\random_sampling.py:86: UserWarning: To copy construct from a tensor, it is recommended to use sourceTensor.clone().detach() or sourceTensor.clone().detach().requires_grad_(True), rather than torch.tensor(sourceTensor).\n",
      "  ex = torch.tensor(self.dataset.data[self.queried_hist_[-1]][0]).to(self.device)\n",
      "C:\\Users\\Wan Jing\\Documents\\libact-torch\\libact\\query_strategies\\uncertainty_sampling.py:149: UserWarning: To copy construct from a tensor, it is recommended to use sourceTensor.clone().detach() or sourceTensor.clone().detach().requires_grad_(True), rather than torch.tensor(sourceTensor).\n",
      "  ex = torch.tensor(self.dataset.data[self.queried_hist_[-1]][0]).to(self.device)\n",
      "C:\\Users\\Wan Jing\\Documents\\libact-torch\\libact\\query_strategies\\representative_sampling.py:113: UserWarning: To copy construct from a tensor, it is recommended to use sourceTensor.clone().detach() or sourceTensor.clone().detach().requires_grad_(True), rather than torch.tensor(sourceTensor).\n",
      "  ex = torch.tensor(self.dataset.data[self.queried_hist_[-1]][0]).to(self.device)\n",
      "C:\\Users\\Wan Jing\\Documents\\libact-torch\\libact\\query_strategies\\multi_bandits_active_learning.py:227: UserWarning: To copy construct from a tensor, it is recommended to use sourceTensor.clone().detach() or sourceTensor.clone().detach().requires_grad_(True), rather than torch.tensor(sourceTensor).\n",
      "  ex = torch.tensor(self.dataset.data[self.queried_hist_[-1]][0]).to(self.device)\n"
     ]
    },
    {
     "name": "stdout",
     "output_type": "stream",
     "text": [
      "     labeled_acc  testing_acc    reward\n",
      "111     0.459926     0.361111  0.314704\n",
      "Tue Sep  1 16:41:16 2020 MultiBanditsActiveLearning query round: 113\n",
      "Strategy Chosen: 1 UncertaintySampling\n"
     ]
    },
    {
     "name": "stderr",
     "output_type": "stream",
     "text": [
      "C:\\Users\\Wan Jing\\Documents\\libact-torch\\libact\\query_strategies\\random_sampling.py:86: UserWarning: To copy construct from a tensor, it is recommended to use sourceTensor.clone().detach() or sourceTensor.clone().detach().requires_grad_(True), rather than torch.tensor(sourceTensor).\n",
      "  ex = torch.tensor(self.dataset.data[self.queried_hist_[-1]][0]).to(self.device)\n",
      "C:\\Users\\Wan Jing\\Documents\\libact-torch\\libact\\query_strategies\\uncertainty_sampling.py:149: UserWarning: To copy construct from a tensor, it is recommended to use sourceTensor.clone().detach() or sourceTensor.clone().detach().requires_grad_(True), rather than torch.tensor(sourceTensor).\n",
      "  ex = torch.tensor(self.dataset.data[self.queried_hist_[-1]][0]).to(self.device)\n",
      "C:\\Users\\Wan Jing\\Documents\\libact-torch\\libact\\query_strategies\\representative_sampling.py:113: UserWarning: To copy construct from a tensor, it is recommended to use sourceTensor.clone().detach() or sourceTensor.clone().detach().requires_grad_(True), rather than torch.tensor(sourceTensor).\n",
      "  ex = torch.tensor(self.dataset.data[self.queried_hist_[-1]][0]).to(self.device)\n",
      "C:\\Users\\Wan Jing\\Documents\\libact-torch\\libact\\query_strategies\\multi_bandits_active_learning.py:227: UserWarning: To copy construct from a tensor, it is recommended to use sourceTensor.clone().detach() or sourceTensor.clone().detach().requires_grad_(True), rather than torch.tensor(sourceTensor).\n",
      "  ex = torch.tensor(self.dataset.data[self.queried_hist_[-1]][0]).to(self.device)\n",
      "C:\\Users\\Wan Jing\\.conda\\envs\\deepCB\\lib\\site-packages\\sklearn\\metrics\\_classification.py:1221: UndefinedMetricWarning: Precision is ill-defined and being set to 0.0 in labels with no predicted samples. Use `zero_division` parameter to control this behavior.\n",
      "  _warn_prf(average, modifier, msg_start, len(result))\n"
     ]
    },
    {
     "name": "stdout",
     "output_type": "stream",
     "text": [
      "     labeled_acc  testing_acc   reward\n",
      "112     0.455196     0.361111  0.30904\n",
      "Tue Sep  1 16:41:32 2020 MultiBanditsActiveLearning query round: 114\n",
      "Strategy Chosen: 1 UncertaintySampling\n"
     ]
    },
    {
     "name": "stderr",
     "output_type": "stream",
     "text": [
      "C:\\Users\\Wan Jing\\Documents\\libact-torch\\libact\\query_strategies\\random_sampling.py:86: UserWarning: To copy construct from a tensor, it is recommended to use sourceTensor.clone().detach() or sourceTensor.clone().detach().requires_grad_(True), rather than torch.tensor(sourceTensor).\n",
      "  ex = torch.tensor(self.dataset.data[self.queried_hist_[-1]][0]).to(self.device)\n",
      "C:\\Users\\Wan Jing\\Documents\\libact-torch\\libact\\query_strategies\\uncertainty_sampling.py:149: UserWarning: To copy construct from a tensor, it is recommended to use sourceTensor.clone().detach() or sourceTensor.clone().detach().requires_grad_(True), rather than torch.tensor(sourceTensor).\n",
      "  ex = torch.tensor(self.dataset.data[self.queried_hist_[-1]][0]).to(self.device)\n",
      "C:\\Users\\Wan Jing\\Documents\\libact-torch\\libact\\query_strategies\\representative_sampling.py:113: UserWarning: To copy construct from a tensor, it is recommended to use sourceTensor.clone().detach() or sourceTensor.clone().detach().requires_grad_(True), rather than torch.tensor(sourceTensor).\n",
      "  ex = torch.tensor(self.dataset.data[self.queried_hist_[-1]][0]).to(self.device)\n",
      "C:\\Users\\Wan Jing\\Documents\\libact-torch\\libact\\query_strategies\\multi_bandits_active_learning.py:227: UserWarning: To copy construct from a tensor, it is recommended to use sourceTensor.clone().detach() or sourceTensor.clone().detach().requires_grad_(True), rather than torch.tensor(sourceTensor).\n",
      "  ex = torch.tensor(self.dataset.data[self.queried_hist_[-1]][0]).to(self.device)\n"
     ]
    },
    {
     "name": "stdout",
     "output_type": "stream",
     "text": [
      "     labeled_acc  testing_acc    reward\n",
      "113     0.467916     0.369658  0.326439\n",
      "Tue Sep  1 16:41:48 2020 MultiBanditsActiveLearning query round: 115\n",
      "Strategy Chosen: 0 RandomSampling\n"
     ]
    },
    {
     "name": "stderr",
     "output_type": "stream",
     "text": [
      "C:\\Users\\Wan Jing\\Documents\\libact-torch\\libact\\query_strategies\\random_sampling.py:86: UserWarning: To copy construct from a tensor, it is recommended to use sourceTensor.clone().detach() or sourceTensor.clone().detach().requires_grad_(True), rather than torch.tensor(sourceTensor).\n",
      "  ex = torch.tensor(self.dataset.data[self.queried_hist_[-1]][0]).to(self.device)\n",
      "C:\\Users\\Wan Jing\\Documents\\libact-torch\\libact\\query_strategies\\uncertainty_sampling.py:149: UserWarning: To copy construct from a tensor, it is recommended to use sourceTensor.clone().detach() or sourceTensor.clone().detach().requires_grad_(True), rather than torch.tensor(sourceTensor).\n",
      "  ex = torch.tensor(self.dataset.data[self.queried_hist_[-1]][0]).to(self.device)\n",
      "C:\\Users\\Wan Jing\\Documents\\libact-torch\\libact\\query_strategies\\representative_sampling.py:113: UserWarning: To copy construct from a tensor, it is recommended to use sourceTensor.clone().detach() or sourceTensor.clone().detach().requires_grad_(True), rather than torch.tensor(sourceTensor).\n",
      "  ex = torch.tensor(self.dataset.data[self.queried_hist_[-1]][0]).to(self.device)\n",
      "C:\\Users\\Wan Jing\\Documents\\libact-torch\\libact\\query_strategies\\multi_bandits_active_learning.py:227: UserWarning: To copy construct from a tensor, it is recommended to use sourceTensor.clone().detach() or sourceTensor.clone().detach().requires_grad_(True), rather than torch.tensor(sourceTensor).\n",
      "  ex = torch.tensor(self.dataset.data[self.queried_hist_[-1]][0]).to(self.device)\n"
     ]
    },
    {
     "name": "stdout",
     "output_type": "stream",
     "text": [
      "     labeled_acc  testing_acc    reward\n",
      "114     0.469392     0.363553  0.315472\n",
      "Tue Sep  1 16:41:57 2020 MultiBanditsActiveLearning query round: 116\n",
      "Strategy Chosen: 4 RepresentativeSampling\n"
     ]
    },
    {
     "name": "stderr",
     "output_type": "stream",
     "text": [
      "C:\\Users\\Wan Jing\\Documents\\libact-torch\\libact\\query_strategies\\representative_sampling.py:147: UserWarning: To copy construct from a tensor, it is recommended to use sourceTensor.clone().detach() or sourceTensor.clone().detach().requires_grad_(True), rather than torch.tensor(sourceTensor).\n",
      "  x = torch.tensor(x).to(self.device)\n",
      "C:\\Users\\Wan Jing\\Documents\\libact-torch\\libact\\query_strategies\\representative_sampling.py:147: UserWarning: To copy construct from a tensor, it is recommended to use sourceTensor.clone().detach() or sourceTensor.clone().detach().requires_grad_(True), rather than torch.tensor(sourceTensor).\n",
      "  x = torch.tensor(x).to(self.device)\n",
      "C:\\Users\\Wan Jing\\Documents\\libact-torch\\libact\\query_strategies\\random_sampling.py:86: UserWarning: To copy construct from a tensor, it is recommended to use sourceTensor.clone().detach() or sourceTensor.clone().detach().requires_grad_(True), rather than torch.tensor(sourceTensor).\n",
      "  ex = torch.tensor(self.dataset.data[self.queried_hist_[-1]][0]).to(self.device)\n",
      "C:\\Users\\Wan Jing\\Documents\\libact-torch\\libact\\query_strategies\\uncertainty_sampling.py:149: UserWarning: To copy construct from a tensor, it is recommended to use sourceTensor.clone().detach() or sourceTensor.clone().detach().requires_grad_(True), rather than torch.tensor(sourceTensor).\n",
      "  ex = torch.tensor(self.dataset.data[self.queried_hist_[-1]][0]).to(self.device)\n",
      "C:\\Users\\Wan Jing\\Documents\\libact-torch\\libact\\query_strategies\\representative_sampling.py:113: UserWarning: To copy construct from a tensor, it is recommended to use sourceTensor.clone().detach() or sourceTensor.clone().detach().requires_grad_(True), rather than torch.tensor(sourceTensor).\n",
      "  ex = torch.tensor(self.dataset.data[self.queried_hist_[-1]][0]).to(self.device)\n",
      "C:\\Users\\Wan Jing\\Documents\\libact-torch\\libact\\query_strategies\\multi_bandits_active_learning.py:227: UserWarning: To copy construct from a tensor, it is recommended to use sourceTensor.clone().detach() or sourceTensor.clone().detach().requires_grad_(True), rather than torch.tensor(sourceTensor).\n",
      "  ex = torch.tensor(self.dataset.data[self.queried_hist_[-1]][0]).to(self.device)\n"
     ]
    },
    {
     "name": "stdout",
     "output_type": "stream",
     "text": [
      "     labeled_acc  testing_acc    reward\n",
      "115     0.476292     0.368132  0.317684\n",
      "Tue Sep  1 16:42:18 2020 MultiBanditsActiveLearning query round: 117\n",
      "Strategy Chosen: 1 UncertaintySampling\n"
     ]
    },
    {
     "name": "stderr",
     "output_type": "stream",
     "text": [
      "C:\\Users\\Wan Jing\\Documents\\libact-torch\\libact\\query_strategies\\random_sampling.py:86: UserWarning: To copy construct from a tensor, it is recommended to use sourceTensor.clone().detach() or sourceTensor.clone().detach().requires_grad_(True), rather than torch.tensor(sourceTensor).\n",
      "  ex = torch.tensor(self.dataset.data[self.queried_hist_[-1]][0]).to(self.device)\n",
      "C:\\Users\\Wan Jing\\Documents\\libact-torch\\libact\\query_strategies\\uncertainty_sampling.py:149: UserWarning: To copy construct from a tensor, it is recommended to use sourceTensor.clone().detach() or sourceTensor.clone().detach().requires_grad_(True), rather than torch.tensor(sourceTensor).\n",
      "  ex = torch.tensor(self.dataset.data[self.queried_hist_[-1]][0]).to(self.device)\n",
      "C:\\Users\\Wan Jing\\Documents\\libact-torch\\libact\\query_strategies\\representative_sampling.py:113: UserWarning: To copy construct from a tensor, it is recommended to use sourceTensor.clone().detach() or sourceTensor.clone().detach().requires_grad_(True), rather than torch.tensor(sourceTensor).\n",
      "  ex = torch.tensor(self.dataset.data[self.queried_hist_[-1]][0]).to(self.device)\n",
      "C:\\Users\\Wan Jing\\Documents\\libact-torch\\libact\\query_strategies\\multi_bandits_active_learning.py:227: UserWarning: To copy construct from a tensor, it is recommended to use sourceTensor.clone().detach() or sourceTensor.clone().detach().requires_grad_(True), rather than torch.tensor(sourceTensor).\n",
      "  ex = torch.tensor(self.dataset.data[self.queried_hist_[-1]][0]).to(self.device)\n",
      "C:\\Users\\Wan Jing\\.conda\\envs\\deepCB\\lib\\site-packages\\sklearn\\metrics\\_classification.py:1221: UndefinedMetricWarning: Precision is ill-defined and being set to 0.0 in labels with no predicted samples. Use `zero_division` parameter to control this behavior.\n",
      "  _warn_prf(average, modifier, msg_start, len(result))\n"
     ]
    },
    {
     "name": "stdout",
     "output_type": "stream",
     "text": [
      "     labeled_acc  testing_acc    reward\n",
      "116     0.478793     0.362027  0.328156\n",
      "Tue Sep  1 16:42:34 2020 MultiBanditsActiveLearning query round: 118\n",
      "Strategy Chosen: 2 UncertaintySampling\n"
     ]
    },
    {
     "name": "stderr",
     "output_type": "stream",
     "text": [
      "C:\\Users\\Wan Jing\\Documents\\libact-torch\\libact\\query_strategies\\random_sampling.py:86: UserWarning: To copy construct from a tensor, it is recommended to use sourceTensor.clone().detach() or sourceTensor.clone().detach().requires_grad_(True), rather than torch.tensor(sourceTensor).\n",
      "  ex = torch.tensor(self.dataset.data[self.queried_hist_[-1]][0]).to(self.device)\n",
      "C:\\Users\\Wan Jing\\Documents\\libact-torch\\libact\\query_strategies\\uncertainty_sampling.py:149: UserWarning: To copy construct from a tensor, it is recommended to use sourceTensor.clone().detach() or sourceTensor.clone().detach().requires_grad_(True), rather than torch.tensor(sourceTensor).\n",
      "  ex = torch.tensor(self.dataset.data[self.queried_hist_[-1]][0]).to(self.device)\n",
      "C:\\Users\\Wan Jing\\Documents\\libact-torch\\libact\\query_strategies\\representative_sampling.py:113: UserWarning: To copy construct from a tensor, it is recommended to use sourceTensor.clone().detach() or sourceTensor.clone().detach().requires_grad_(True), rather than torch.tensor(sourceTensor).\n",
      "  ex = torch.tensor(self.dataset.data[self.queried_hist_[-1]][0]).to(self.device)\n",
      "C:\\Users\\Wan Jing\\Documents\\libact-torch\\libact\\query_strategies\\multi_bandits_active_learning.py:227: UserWarning: To copy construct from a tensor, it is recommended to use sourceTensor.clone().detach() or sourceTensor.clone().detach().requires_grad_(True), rather than torch.tensor(sourceTensor).\n",
      "  ex = torch.tensor(self.dataset.data[self.queried_hist_[-1]][0]).to(self.device)\n"
     ]
    },
    {
     "name": "stdout",
     "output_type": "stream",
     "text": [
      "     labeled_acc  testing_acc    reward\n",
      "117     0.479145     0.371184  0.316662\n",
      "Tue Sep  1 16:42:50 2020 MultiBanditsActiveLearning query round: 119\n",
      "Strategy Chosen: 1 UncertaintySampling\n"
     ]
    },
    {
     "name": "stderr",
     "output_type": "stream",
     "text": [
      "C:\\Users\\Wan Jing\\Documents\\libact-torch\\libact\\query_strategies\\random_sampling.py:86: UserWarning: To copy construct from a tensor, it is recommended to use sourceTensor.clone().detach() or sourceTensor.clone().detach().requires_grad_(True), rather than torch.tensor(sourceTensor).\n",
      "  ex = torch.tensor(self.dataset.data[self.queried_hist_[-1]][0]).to(self.device)\n",
      "C:\\Users\\Wan Jing\\Documents\\libact-torch\\libact\\query_strategies\\uncertainty_sampling.py:149: UserWarning: To copy construct from a tensor, it is recommended to use sourceTensor.clone().detach() or sourceTensor.clone().detach().requires_grad_(True), rather than torch.tensor(sourceTensor).\n",
      "  ex = torch.tensor(self.dataset.data[self.queried_hist_[-1]][0]).to(self.device)\n",
      "C:\\Users\\Wan Jing\\Documents\\libact-torch\\libact\\query_strategies\\representative_sampling.py:113: UserWarning: To copy construct from a tensor, it is recommended to use sourceTensor.clone().detach() or sourceTensor.clone().detach().requires_grad_(True), rather than torch.tensor(sourceTensor).\n",
      "  ex = torch.tensor(self.dataset.data[self.queried_hist_[-1]][0]).to(self.device)\n",
      "C:\\Users\\Wan Jing\\Documents\\libact-torch\\libact\\query_strategies\\multi_bandits_active_learning.py:227: UserWarning: To copy construct from a tensor, it is recommended to use sourceTensor.clone().detach() or sourceTensor.clone().detach().requires_grad_(True), rather than torch.tensor(sourceTensor).\n",
      "  ex = torch.tensor(self.dataset.data[self.queried_hist_[-1]][0]).to(self.device)\n",
      "C:\\Users\\Wan Jing\\.conda\\envs\\deepCB\\lib\\site-packages\\sklearn\\metrics\\_classification.py:1221: UndefinedMetricWarning: Precision is ill-defined and being set to 0.0 in labels with no predicted samples. Use `zero_division` parameter to control this behavior.\n",
      "  _warn_prf(average, modifier, msg_start, len(result))\n"
     ]
    },
    {
     "name": "stdout",
     "output_type": "stream",
     "text": [
      "     labeled_acc  testing_acc    reward\n",
      "118     0.482924     0.364774  0.329207\n",
      "Tue Sep  1 16:43:06 2020 MultiBanditsActiveLearning query round: 120\n",
      "Strategy Chosen: 1 UncertaintySampling\n"
     ]
    },
    {
     "name": "stderr",
     "output_type": "stream",
     "text": [
      "C:\\Users\\Wan Jing\\Documents\\libact-torch\\libact\\query_strategies\\random_sampling.py:86: UserWarning: To copy construct from a tensor, it is recommended to use sourceTensor.clone().detach() or sourceTensor.clone().detach().requires_grad_(True), rather than torch.tensor(sourceTensor).\n",
      "  ex = torch.tensor(self.dataset.data[self.queried_hist_[-1]][0]).to(self.device)\n",
      "C:\\Users\\Wan Jing\\Documents\\libact-torch\\libact\\query_strategies\\uncertainty_sampling.py:149: UserWarning: To copy construct from a tensor, it is recommended to use sourceTensor.clone().detach() or sourceTensor.clone().detach().requires_grad_(True), rather than torch.tensor(sourceTensor).\n",
      "  ex = torch.tensor(self.dataset.data[self.queried_hist_[-1]][0]).to(self.device)\n",
      "C:\\Users\\Wan Jing\\Documents\\libact-torch\\libact\\query_strategies\\representative_sampling.py:113: UserWarning: To copy construct from a tensor, it is recommended to use sourceTensor.clone().detach() or sourceTensor.clone().detach().requires_grad_(True), rather than torch.tensor(sourceTensor).\n",
      "  ex = torch.tensor(self.dataset.data[self.queried_hist_[-1]][0]).to(self.device)\n",
      "C:\\Users\\Wan Jing\\Documents\\libact-torch\\libact\\query_strategies\\multi_bandits_active_learning.py:227: UserWarning: To copy construct from a tensor, it is recommended to use sourceTensor.clone().detach() or sourceTensor.clone().detach().requires_grad_(True), rather than torch.tensor(sourceTensor).\n",
      "  ex = torch.tensor(self.dataset.data[self.queried_hist_[-1]][0]).to(self.device)\n"
     ]
    },
    {
     "name": "stdout",
     "output_type": "stream",
     "text": [
      "     labeled_acc  testing_acc    reward\n",
      "119     0.481489     0.368437  0.319884\n",
      "Tue Sep  1 16:43:23 2020 MultiBanditsActiveLearning query round: 121\n",
      "Strategy Chosen: 1 UncertaintySampling\n"
     ]
    },
    {
     "name": "stderr",
     "output_type": "stream",
     "text": [
      "C:\\Users\\Wan Jing\\Documents\\libact-torch\\libact\\query_strategies\\random_sampling.py:86: UserWarning: To copy construct from a tensor, it is recommended to use sourceTensor.clone().detach() or sourceTensor.clone().detach().requires_grad_(True), rather than torch.tensor(sourceTensor).\n",
      "  ex = torch.tensor(self.dataset.data[self.queried_hist_[-1]][0]).to(self.device)\n",
      "C:\\Users\\Wan Jing\\Documents\\libact-torch\\libact\\query_strategies\\uncertainty_sampling.py:149: UserWarning: To copy construct from a tensor, it is recommended to use sourceTensor.clone().detach() or sourceTensor.clone().detach().requires_grad_(True), rather than torch.tensor(sourceTensor).\n",
      "  ex = torch.tensor(self.dataset.data[self.queried_hist_[-1]][0]).to(self.device)\n",
      "C:\\Users\\Wan Jing\\Documents\\libact-torch\\libact\\query_strategies\\representative_sampling.py:113: UserWarning: To copy construct from a tensor, it is recommended to use sourceTensor.clone().detach() or sourceTensor.clone().detach().requires_grad_(True), rather than torch.tensor(sourceTensor).\n",
      "  ex = torch.tensor(self.dataset.data[self.queried_hist_[-1]][0]).to(self.device)\n",
      "C:\\Users\\Wan Jing\\Documents\\libact-torch\\libact\\query_strategies\\multi_bandits_active_learning.py:227: UserWarning: To copy construct from a tensor, it is recommended to use sourceTensor.clone().detach() or sourceTensor.clone().detach().requires_grad_(True), rather than torch.tensor(sourceTensor).\n",
      "  ex = torch.tensor(self.dataset.data[self.queried_hist_[-1]][0]).to(self.device)\n"
     ]
    },
    {
     "name": "stdout",
     "output_type": "stream",
     "text": [
      "     labeled_acc  testing_acc    reward\n",
      "120     0.476367     0.366911  0.314695\n",
      "Tue Sep  1 16:43:39 2020 MultiBanditsActiveLearning query round: 122\n",
      "Strategy Chosen: 1 UncertaintySampling\n"
     ]
    },
    {
     "name": "stderr",
     "output_type": "stream",
     "text": [
      "C:\\Users\\Wan Jing\\Documents\\libact-torch\\libact\\query_strategies\\random_sampling.py:86: UserWarning: To copy construct from a tensor, it is recommended to use sourceTensor.clone().detach() or sourceTensor.clone().detach().requires_grad_(True), rather than torch.tensor(sourceTensor).\n",
      "  ex = torch.tensor(self.dataset.data[self.queried_hist_[-1]][0]).to(self.device)\n",
      "C:\\Users\\Wan Jing\\Documents\\libact-torch\\libact\\query_strategies\\uncertainty_sampling.py:149: UserWarning: To copy construct from a tensor, it is recommended to use sourceTensor.clone().detach() or sourceTensor.clone().detach().requires_grad_(True), rather than torch.tensor(sourceTensor).\n",
      "  ex = torch.tensor(self.dataset.data[self.queried_hist_[-1]][0]).to(self.device)\n",
      "C:\\Users\\Wan Jing\\Documents\\libact-torch\\libact\\query_strategies\\representative_sampling.py:113: UserWarning: To copy construct from a tensor, it is recommended to use sourceTensor.clone().detach() or sourceTensor.clone().detach().requires_grad_(True), rather than torch.tensor(sourceTensor).\n",
      "  ex = torch.tensor(self.dataset.data[self.queried_hist_[-1]][0]).to(self.device)\n",
      "C:\\Users\\Wan Jing\\Documents\\libact-torch\\libact\\query_strategies\\multi_bandits_active_learning.py:227: UserWarning: To copy construct from a tensor, it is recommended to use sourceTensor.clone().detach() or sourceTensor.clone().detach().requires_grad_(True), rather than torch.tensor(sourceTensor).\n",
      "  ex = torch.tensor(self.dataset.data[self.queried_hist_[-1]][0]).to(self.device)\n",
      "C:\\Users\\Wan Jing\\.conda\\envs\\deepCB\\lib\\site-packages\\sklearn\\metrics\\_classification.py:1221: UndefinedMetricWarning: Precision is ill-defined and being set to 0.0 in labels with no predicted samples. Use `zero_division` parameter to control this behavior.\n",
      "  _warn_prf(average, modifier, msg_start, len(result))\n"
     ]
    },
    {
     "name": "stdout",
     "output_type": "stream",
     "text": [
      "     labeled_acc  testing_acc    reward\n",
      "121     0.488562     0.368437  0.324674\n",
      "Tue Sep  1 16:43:55 2020 MultiBanditsActiveLearning query round: 123\n",
      "Strategy Chosen: 2 UncertaintySampling\n"
     ]
    },
    {
     "name": "stderr",
     "output_type": "stream",
     "text": [
      "C:\\Users\\Wan Jing\\Documents\\libact-torch\\libact\\query_strategies\\random_sampling.py:86: UserWarning: To copy construct from a tensor, it is recommended to use sourceTensor.clone().detach() or sourceTensor.clone().detach().requires_grad_(True), rather than torch.tensor(sourceTensor).\n",
      "  ex = torch.tensor(self.dataset.data[self.queried_hist_[-1]][0]).to(self.device)\n",
      "C:\\Users\\Wan Jing\\Documents\\libact-torch\\libact\\query_strategies\\uncertainty_sampling.py:149: UserWarning: To copy construct from a tensor, it is recommended to use sourceTensor.clone().detach() or sourceTensor.clone().detach().requires_grad_(True), rather than torch.tensor(sourceTensor).\n",
      "  ex = torch.tensor(self.dataset.data[self.queried_hist_[-1]][0]).to(self.device)\n",
      "C:\\Users\\Wan Jing\\Documents\\libact-torch\\libact\\query_strategies\\representative_sampling.py:113: UserWarning: To copy construct from a tensor, it is recommended to use sourceTensor.clone().detach() or sourceTensor.clone().detach().requires_grad_(True), rather than torch.tensor(sourceTensor).\n",
      "  ex = torch.tensor(self.dataset.data[self.queried_hist_[-1]][0]).to(self.device)\n",
      "C:\\Users\\Wan Jing\\Documents\\libact-torch\\libact\\query_strategies\\multi_bandits_active_learning.py:227: UserWarning: To copy construct from a tensor, it is recommended to use sourceTensor.clone().detach() or sourceTensor.clone().detach().requires_grad_(True), rather than torch.tensor(sourceTensor).\n",
      "  ex = torch.tensor(self.dataset.data[self.queried_hist_[-1]][0]).to(self.device)\n"
     ]
    },
    {
     "name": "stdout",
     "output_type": "stream",
     "text": [
      "     labeled_acc  testing_acc    reward\n",
      "122     0.496755     0.368132  0.325192\n",
      "Tue Sep  1 16:44:11 2020 MultiBanditsActiveLearning query round: 124\n",
      "Strategy Chosen: 1 UncertaintySampling\n"
     ]
    },
    {
     "name": "stderr",
     "output_type": "stream",
     "text": [
      "C:\\Users\\Wan Jing\\Documents\\libact-torch\\libact\\query_strategies\\random_sampling.py:86: UserWarning: To copy construct from a tensor, it is recommended to use sourceTensor.clone().detach() or sourceTensor.clone().detach().requires_grad_(True), rather than torch.tensor(sourceTensor).\n",
      "  ex = torch.tensor(self.dataset.data[self.queried_hist_[-1]][0]).to(self.device)\n",
      "C:\\Users\\Wan Jing\\Documents\\libact-torch\\libact\\query_strategies\\uncertainty_sampling.py:149: UserWarning: To copy construct from a tensor, it is recommended to use sourceTensor.clone().detach() or sourceTensor.clone().detach().requires_grad_(True), rather than torch.tensor(sourceTensor).\n",
      "  ex = torch.tensor(self.dataset.data[self.queried_hist_[-1]][0]).to(self.device)\n",
      "C:\\Users\\Wan Jing\\Documents\\libact-torch\\libact\\query_strategies\\representative_sampling.py:113: UserWarning: To copy construct from a tensor, it is recommended to use sourceTensor.clone().detach() or sourceTensor.clone().detach().requires_grad_(True), rather than torch.tensor(sourceTensor).\n",
      "  ex = torch.tensor(self.dataset.data[self.queried_hist_[-1]][0]).to(self.device)\n",
      "C:\\Users\\Wan Jing\\Documents\\libact-torch\\libact\\query_strategies\\multi_bandits_active_learning.py:227: UserWarning: To copy construct from a tensor, it is recommended to use sourceTensor.clone().detach() or sourceTensor.clone().detach().requires_grad_(True), rather than torch.tensor(sourceTensor).\n",
      "  ex = torch.tensor(self.dataset.data[self.queried_hist_[-1]][0]).to(self.device)\n",
      "C:\\Users\\Wan Jing\\.conda\\envs\\deepCB\\lib\\site-packages\\sklearn\\metrics\\_classification.py:1221: UndefinedMetricWarning: Precision is ill-defined and being set to 0.0 in labels with no predicted samples. Use `zero_division` parameter to control this behavior.\n",
      "  _warn_prf(average, modifier, msg_start, len(result))\n"
     ]
    },
    {
     "name": "stdout",
     "output_type": "stream",
     "text": [
      "     labeled_acc  testing_acc    reward\n",
      "123     0.497784     0.375763  0.326377\n",
      "Tue Sep  1 16:44:27 2020 MultiBanditsActiveLearning query round: 125\n",
      "Strategy Chosen: 2 UncertaintySampling\n"
     ]
    },
    {
     "name": "stderr",
     "output_type": "stream",
     "text": [
      "C:\\Users\\Wan Jing\\Documents\\libact-torch\\libact\\query_strategies\\random_sampling.py:86: UserWarning: To copy construct from a tensor, it is recommended to use sourceTensor.clone().detach() or sourceTensor.clone().detach().requires_grad_(True), rather than torch.tensor(sourceTensor).\n",
      "  ex = torch.tensor(self.dataset.data[self.queried_hist_[-1]][0]).to(self.device)\n",
      "C:\\Users\\Wan Jing\\Documents\\libact-torch\\libact\\query_strategies\\uncertainty_sampling.py:149: UserWarning: To copy construct from a tensor, it is recommended to use sourceTensor.clone().detach() or sourceTensor.clone().detach().requires_grad_(True), rather than torch.tensor(sourceTensor).\n",
      "  ex = torch.tensor(self.dataset.data[self.queried_hist_[-1]][0]).to(self.device)\n",
      "C:\\Users\\Wan Jing\\Documents\\libact-torch\\libact\\query_strategies\\representative_sampling.py:113: UserWarning: To copy construct from a tensor, it is recommended to use sourceTensor.clone().detach() or sourceTensor.clone().detach().requires_grad_(True), rather than torch.tensor(sourceTensor).\n",
      "  ex = torch.tensor(self.dataset.data[self.queried_hist_[-1]][0]).to(self.device)\n",
      "C:\\Users\\Wan Jing\\Documents\\libact-torch\\libact\\query_strategies\\multi_bandits_active_learning.py:227: UserWarning: To copy construct from a tensor, it is recommended to use sourceTensor.clone().detach() or sourceTensor.clone().detach().requires_grad_(True), rather than torch.tensor(sourceTensor).\n",
      "  ex = torch.tensor(self.dataset.data[self.queried_hist_[-1]][0]).to(self.device)\n"
     ]
    },
    {
     "name": "stdout",
     "output_type": "stream",
     "text": [
      "     labeled_acc  testing_acc    reward\n",
      "124     0.503904     0.376679  0.339413\n",
      "Tue Sep  1 16:44:43 2020 MultiBanditsActiveLearning query round: 126\n",
      "Strategy Chosen: 0 RandomSampling\n"
     ]
    },
    {
     "name": "stderr",
     "output_type": "stream",
     "text": [
      "C:\\Users\\Wan Jing\\Documents\\libact-torch\\libact\\query_strategies\\random_sampling.py:86: UserWarning: To copy construct from a tensor, it is recommended to use sourceTensor.clone().detach() or sourceTensor.clone().detach().requires_grad_(True), rather than torch.tensor(sourceTensor).\n",
      "  ex = torch.tensor(self.dataset.data[self.queried_hist_[-1]][0]).to(self.device)\n",
      "C:\\Users\\Wan Jing\\Documents\\libact-torch\\libact\\query_strategies\\uncertainty_sampling.py:149: UserWarning: To copy construct from a tensor, it is recommended to use sourceTensor.clone().detach() or sourceTensor.clone().detach().requires_grad_(True), rather than torch.tensor(sourceTensor).\n",
      "  ex = torch.tensor(self.dataset.data[self.queried_hist_[-1]][0]).to(self.device)\n",
      "C:\\Users\\Wan Jing\\Documents\\libact-torch\\libact\\query_strategies\\representative_sampling.py:113: UserWarning: To copy construct from a tensor, it is recommended to use sourceTensor.clone().detach() or sourceTensor.clone().detach().requires_grad_(True), rather than torch.tensor(sourceTensor).\n",
      "  ex = torch.tensor(self.dataset.data[self.queried_hist_[-1]][0]).to(self.device)\n",
      "C:\\Users\\Wan Jing\\Documents\\libact-torch\\libact\\query_strategies\\multi_bandits_active_learning.py:227: UserWarning: To copy construct from a tensor, it is recommended to use sourceTensor.clone().detach() or sourceTensor.clone().detach().requires_grad_(True), rather than torch.tensor(sourceTensor).\n",
      "  ex = torch.tensor(self.dataset.data[self.queried_hist_[-1]][0]).to(self.device)\n"
     ]
    },
    {
     "name": "stdout",
     "output_type": "stream",
     "text": [
      "     labeled_acc  testing_acc    reward\n",
      "125      0.50199     0.375153  0.337362\n",
      "Tue Sep  1 16:44:53 2020 MultiBanditsActiveLearning query round: 127\n",
      "Strategy Chosen: 3 UncertaintySampling\n"
     ]
    },
    {
     "name": "stderr",
     "output_type": "stream",
     "text": [
      "C:\\Users\\Wan Jing\\Documents\\libact-torch\\libact\\query_strategies\\random_sampling.py:86: UserWarning: To copy construct from a tensor, it is recommended to use sourceTensor.clone().detach() or sourceTensor.clone().detach().requires_grad_(True), rather than torch.tensor(sourceTensor).\n",
      "  ex = torch.tensor(self.dataset.data[self.queried_hist_[-1]][0]).to(self.device)\n",
      "C:\\Users\\Wan Jing\\Documents\\libact-torch\\libact\\query_strategies\\uncertainty_sampling.py:149: UserWarning: To copy construct from a tensor, it is recommended to use sourceTensor.clone().detach() or sourceTensor.clone().detach().requires_grad_(True), rather than torch.tensor(sourceTensor).\n",
      "  ex = torch.tensor(self.dataset.data[self.queried_hist_[-1]][0]).to(self.device)\n",
      "C:\\Users\\Wan Jing\\Documents\\libact-torch\\libact\\query_strategies\\representative_sampling.py:113: UserWarning: To copy construct from a tensor, it is recommended to use sourceTensor.clone().detach() or sourceTensor.clone().detach().requires_grad_(True), rather than torch.tensor(sourceTensor).\n",
      "  ex = torch.tensor(self.dataset.data[self.queried_hist_[-1]][0]).to(self.device)\n",
      "C:\\Users\\Wan Jing\\Documents\\libact-torch\\libact\\query_strategies\\multi_bandits_active_learning.py:227: UserWarning: To copy construct from a tensor, it is recommended to use sourceTensor.clone().detach() or sourceTensor.clone().detach().requires_grad_(True), rather than torch.tensor(sourceTensor).\n",
      "  ex = torch.tensor(self.dataset.data[self.queried_hist_[-1]][0]).to(self.device)\n",
      "C:\\Users\\Wan Jing\\.conda\\envs\\deepCB\\lib\\site-packages\\sklearn\\metrics\\_classification.py:1221: UndefinedMetricWarning: Precision is ill-defined and being set to 0.0 in labels with no predicted samples. Use `zero_division` parameter to control this behavior.\n",
      "  _warn_prf(average, modifier, msg_start, len(result))\n"
     ]
    },
    {
     "name": "stdout",
     "output_type": "stream",
     "text": [
      "     labeled_acc  testing_acc    reward\n",
      "126     0.514235     0.376984  0.337517\n",
      "Tue Sep  1 16:45:09 2020 MultiBanditsActiveLearning query round: 128\n",
      "Strategy Chosen: 2 UncertaintySampling\n"
     ]
    },
    {
     "name": "stderr",
     "output_type": "stream",
     "text": [
      "C:\\Users\\Wan Jing\\Documents\\libact-torch\\libact\\query_strategies\\random_sampling.py:86: UserWarning: To copy construct from a tensor, it is recommended to use sourceTensor.clone().detach() or sourceTensor.clone().detach().requires_grad_(True), rather than torch.tensor(sourceTensor).\n",
      "  ex = torch.tensor(self.dataset.data[self.queried_hist_[-1]][0]).to(self.device)\n",
      "C:\\Users\\Wan Jing\\Documents\\libact-torch\\libact\\query_strategies\\uncertainty_sampling.py:149: UserWarning: To copy construct from a tensor, it is recommended to use sourceTensor.clone().detach() or sourceTensor.clone().detach().requires_grad_(True), rather than torch.tensor(sourceTensor).\n",
      "  ex = torch.tensor(self.dataset.data[self.queried_hist_[-1]][0]).to(self.device)\n",
      "C:\\Users\\Wan Jing\\Documents\\libact-torch\\libact\\query_strategies\\representative_sampling.py:113: UserWarning: To copy construct from a tensor, it is recommended to use sourceTensor.clone().detach() or sourceTensor.clone().detach().requires_grad_(True), rather than torch.tensor(sourceTensor).\n",
      "  ex = torch.tensor(self.dataset.data[self.queried_hist_[-1]][0]).to(self.device)\n",
      "C:\\Users\\Wan Jing\\Documents\\libact-torch\\libact\\query_strategies\\multi_bandits_active_learning.py:227: UserWarning: To copy construct from a tensor, it is recommended to use sourceTensor.clone().detach() or sourceTensor.clone().detach().requires_grad_(True), rather than torch.tensor(sourceTensor).\n",
      "  ex = torch.tensor(self.dataset.data[self.queried_hist_[-1]][0]).to(self.device)\n"
     ]
    },
    {
     "name": "stdout",
     "output_type": "stream",
     "text": [
      "     labeled_acc  testing_acc    reward\n",
      "127     0.514246     0.378816  0.341405\n",
      "Tue Sep  1 16:45:25 2020 MultiBanditsActiveLearning query round: 129\n",
      "Strategy Chosen: 3 UncertaintySampling\n"
     ]
    },
    {
     "name": "stderr",
     "output_type": "stream",
     "text": [
      "C:\\Users\\Wan Jing\\Documents\\libact-torch\\libact\\query_strategies\\random_sampling.py:86: UserWarning: To copy construct from a tensor, it is recommended to use sourceTensor.clone().detach() or sourceTensor.clone().detach().requires_grad_(True), rather than torch.tensor(sourceTensor).\n",
      "  ex = torch.tensor(self.dataset.data[self.queried_hist_[-1]][0]).to(self.device)\n",
      "C:\\Users\\Wan Jing\\Documents\\libact-torch\\libact\\query_strategies\\uncertainty_sampling.py:149: UserWarning: To copy construct from a tensor, it is recommended to use sourceTensor.clone().detach() or sourceTensor.clone().detach().requires_grad_(True), rather than torch.tensor(sourceTensor).\n",
      "  ex = torch.tensor(self.dataset.data[self.queried_hist_[-1]][0]).to(self.device)\n",
      "C:\\Users\\Wan Jing\\Documents\\libact-torch\\libact\\query_strategies\\representative_sampling.py:113: UserWarning: To copy construct from a tensor, it is recommended to use sourceTensor.clone().detach() or sourceTensor.clone().detach().requires_grad_(True), rather than torch.tensor(sourceTensor).\n",
      "  ex = torch.tensor(self.dataset.data[self.queried_hist_[-1]][0]).to(self.device)\n",
      "C:\\Users\\Wan Jing\\Documents\\libact-torch\\libact\\query_strategies\\multi_bandits_active_learning.py:227: UserWarning: To copy construct from a tensor, it is recommended to use sourceTensor.clone().detach() or sourceTensor.clone().detach().requires_grad_(True), rather than torch.tensor(sourceTensor).\n",
      "  ex = torch.tensor(self.dataset.data[self.queried_hist_[-1]][0]).to(self.device)\n",
      "C:\\Users\\Wan Jing\\.conda\\envs\\deepCB\\lib\\site-packages\\sklearn\\metrics\\_classification.py:1221: UndefinedMetricWarning: Precision is ill-defined and being set to 0.0 in labels with no predicted samples. Use `zero_division` parameter to control this behavior.\n",
      "  _warn_prf(average, modifier, msg_start, len(result))\n"
     ]
    },
    {
     "name": "stdout",
     "output_type": "stream",
     "text": [
      "     labeled_acc  testing_acc    reward\n",
      "128       0.5126     0.377289  0.349396\n",
      "Tue Sep  1 16:45:42 2020 MultiBanditsActiveLearning query round: 130\n",
      "Strategy Chosen: 0 RandomSampling\n"
     ]
    },
    {
     "name": "stderr",
     "output_type": "stream",
     "text": [
      "C:\\Users\\Wan Jing\\Documents\\libact-torch\\libact\\query_strategies\\random_sampling.py:86: UserWarning: To copy construct from a tensor, it is recommended to use sourceTensor.clone().detach() or sourceTensor.clone().detach().requires_grad_(True), rather than torch.tensor(sourceTensor).\n",
      "  ex = torch.tensor(self.dataset.data[self.queried_hist_[-1]][0]).to(self.device)\n",
      "C:\\Users\\Wan Jing\\Documents\\libact-torch\\libact\\query_strategies\\uncertainty_sampling.py:149: UserWarning: To copy construct from a tensor, it is recommended to use sourceTensor.clone().detach() or sourceTensor.clone().detach().requires_grad_(True), rather than torch.tensor(sourceTensor).\n",
      "  ex = torch.tensor(self.dataset.data[self.queried_hist_[-1]][0]).to(self.device)\n",
      "C:\\Users\\Wan Jing\\Documents\\libact-torch\\libact\\query_strategies\\representative_sampling.py:113: UserWarning: To copy construct from a tensor, it is recommended to use sourceTensor.clone().detach() or sourceTensor.clone().detach().requires_grad_(True), rather than torch.tensor(sourceTensor).\n",
      "  ex = torch.tensor(self.dataset.data[self.queried_hist_[-1]][0]).to(self.device)\n",
      "C:\\Users\\Wan Jing\\Documents\\libact-torch\\libact\\query_strategies\\multi_bandits_active_learning.py:227: UserWarning: To copy construct from a tensor, it is recommended to use sourceTensor.clone().detach() or sourceTensor.clone().detach().requires_grad_(True), rather than torch.tensor(sourceTensor).\n",
      "  ex = torch.tensor(self.dataset.data[self.queried_hist_[-1]][0]).to(self.device)\n"
     ]
    },
    {
     "name": "stdout",
     "output_type": "stream",
     "text": [
      "     labeled_acc  testing_acc    reward\n",
      "129     0.516686     0.378816  0.340256\n",
      "Tue Sep  1 16:45:52 2020 MultiBanditsActiveLearning query round: 131\n",
      "Strategy Chosen: 0 RandomSampling\n"
     ]
    },
    {
     "name": "stderr",
     "output_type": "stream",
     "text": [
      "C:\\Users\\Wan Jing\\Documents\\libact-torch\\libact\\query_strategies\\random_sampling.py:86: UserWarning: To copy construct from a tensor, it is recommended to use sourceTensor.clone().detach() or sourceTensor.clone().detach().requires_grad_(True), rather than torch.tensor(sourceTensor).\n",
      "  ex = torch.tensor(self.dataset.data[self.queried_hist_[-1]][0]).to(self.device)\n",
      "C:\\Users\\Wan Jing\\Documents\\libact-torch\\libact\\query_strategies\\uncertainty_sampling.py:149: UserWarning: To copy construct from a tensor, it is recommended to use sourceTensor.clone().detach() or sourceTensor.clone().detach().requires_grad_(True), rather than torch.tensor(sourceTensor).\n",
      "  ex = torch.tensor(self.dataset.data[self.queried_hist_[-1]][0]).to(self.device)\n",
      "C:\\Users\\Wan Jing\\Documents\\libact-torch\\libact\\query_strategies\\representative_sampling.py:113: UserWarning: To copy construct from a tensor, it is recommended to use sourceTensor.clone().detach() or sourceTensor.clone().detach().requires_grad_(True), rather than torch.tensor(sourceTensor).\n",
      "  ex = torch.tensor(self.dataset.data[self.queried_hist_[-1]][0]).to(self.device)\n",
      "C:\\Users\\Wan Jing\\Documents\\libact-torch\\libact\\query_strategies\\multi_bandits_active_learning.py:227: UserWarning: To copy construct from a tensor, it is recommended to use sourceTensor.clone().detach() or sourceTensor.clone().detach().requires_grad_(True), rather than torch.tensor(sourceTensor).\n",
      "  ex = torch.tensor(self.dataset.data[self.queried_hist_[-1]][0]).to(self.device)\n"
     ]
    },
    {
     "name": "stdout",
     "output_type": "stream",
     "text": [
      "     labeled_acc  testing_acc    reward\n",
      "130     0.518311     0.376374  0.338539\n",
      "Tue Sep  1 16:46:02 2020 MultiBanditsActiveLearning query round: 132\n",
      "Strategy Chosen: 4 RepresentativeSampling\n"
     ]
    },
    {
     "name": "stderr",
     "output_type": "stream",
     "text": [
      "C:\\Users\\Wan Jing\\Documents\\libact-torch\\libact\\query_strategies\\representative_sampling.py:147: UserWarning: To copy construct from a tensor, it is recommended to use sourceTensor.clone().detach() or sourceTensor.clone().detach().requires_grad_(True), rather than torch.tensor(sourceTensor).\n",
      "  x = torch.tensor(x).to(self.device)\n",
      "C:\\Users\\Wan Jing\\Documents\\libact-torch\\libact\\query_strategies\\representative_sampling.py:147: UserWarning: To copy construct from a tensor, it is recommended to use sourceTensor.clone().detach() or sourceTensor.clone().detach().requires_grad_(True), rather than torch.tensor(sourceTensor).\n",
      "  x = torch.tensor(x).to(self.device)\n",
      "C:\\Users\\Wan Jing\\Documents\\libact-torch\\libact\\query_strategies\\random_sampling.py:86: UserWarning: To copy construct from a tensor, it is recommended to use sourceTensor.clone().detach() or sourceTensor.clone().detach().requires_grad_(True), rather than torch.tensor(sourceTensor).\n",
      "  ex = torch.tensor(self.dataset.data[self.queried_hist_[-1]][0]).to(self.device)\n",
      "C:\\Users\\Wan Jing\\Documents\\libact-torch\\libact\\query_strategies\\uncertainty_sampling.py:149: UserWarning: To copy construct from a tensor, it is recommended to use sourceTensor.clone().detach() or sourceTensor.clone().detach().requires_grad_(True), rather than torch.tensor(sourceTensor).\n",
      "  ex = torch.tensor(self.dataset.data[self.queried_hist_[-1]][0]).to(self.device)\n",
      "C:\\Users\\Wan Jing\\Documents\\libact-torch\\libact\\query_strategies\\representative_sampling.py:113: UserWarning: To copy construct from a tensor, it is recommended to use sourceTensor.clone().detach() or sourceTensor.clone().detach().requires_grad_(True), rather than torch.tensor(sourceTensor).\n",
      "  ex = torch.tensor(self.dataset.data[self.queried_hist_[-1]][0]).to(self.device)\n",
      "C:\\Users\\Wan Jing\\Documents\\libact-torch\\libact\\query_strategies\\multi_bandits_active_learning.py:227: UserWarning: To copy construct from a tensor, it is recommended to use sourceTensor.clone().detach() or sourceTensor.clone().detach().requires_grad_(True), rather than torch.tensor(sourceTensor).\n",
      "  ex = torch.tensor(self.dataset.data[self.queried_hist_[-1]][0]).to(self.device)\n"
     ]
    },
    {
     "name": "stdout",
     "output_type": "stream",
     "text": [
      "     labeled_acc  testing_acc    reward\n",
      "131     0.528342      0.37851  0.344893\n",
      "Tue Sep  1 16:46:23 2020 MultiBanditsActiveLearning query round: 133\n",
      "Strategy Chosen: 0 RandomSampling\n"
     ]
    },
    {
     "name": "stderr",
     "output_type": "stream",
     "text": [
      "C:\\Users\\Wan Jing\\Documents\\libact-torch\\libact\\query_strategies\\random_sampling.py:86: UserWarning: To copy construct from a tensor, it is recommended to use sourceTensor.clone().detach() or sourceTensor.clone().detach().requires_grad_(True), rather than torch.tensor(sourceTensor).\n",
      "  ex = torch.tensor(self.dataset.data[self.queried_hist_[-1]][0]).to(self.device)\n",
      "C:\\Users\\Wan Jing\\Documents\\libact-torch\\libact\\query_strategies\\uncertainty_sampling.py:149: UserWarning: To copy construct from a tensor, it is recommended to use sourceTensor.clone().detach() or sourceTensor.clone().detach().requires_grad_(True), rather than torch.tensor(sourceTensor).\n",
      "  ex = torch.tensor(self.dataset.data[self.queried_hist_[-1]][0]).to(self.device)\n",
      "C:\\Users\\Wan Jing\\Documents\\libact-torch\\libact\\query_strategies\\representative_sampling.py:113: UserWarning: To copy construct from a tensor, it is recommended to use sourceTensor.clone().detach() or sourceTensor.clone().detach().requires_grad_(True), rather than torch.tensor(sourceTensor).\n",
      "  ex = torch.tensor(self.dataset.data[self.queried_hist_[-1]][0]).to(self.device)\n",
      "C:\\Users\\Wan Jing\\Documents\\libact-torch\\libact\\query_strategies\\multi_bandits_active_learning.py:227: UserWarning: To copy construct from a tensor, it is recommended to use sourceTensor.clone().detach() or sourceTensor.clone().detach().requires_grad_(True), rather than torch.tensor(sourceTensor).\n",
      "  ex = torch.tensor(self.dataset.data[self.queried_hist_[-1]][0]).to(self.device)\n"
     ]
    },
    {
     "name": "stdout",
     "output_type": "stream",
     "text": [
      "     labeled_acc  testing_acc    reward\n",
      "132     0.534919       0.3779  0.343505\n",
      "Tue Sep  1 16:46:34 2020 MultiBanditsActiveLearning query round: 134\n",
      "Strategy Chosen: 4 RepresentativeSampling\n"
     ]
    },
    {
     "name": "stderr",
     "output_type": "stream",
     "text": [
      "C:\\Users\\Wan Jing\\Documents\\libact-torch\\libact\\query_strategies\\representative_sampling.py:147: UserWarning: To copy construct from a tensor, it is recommended to use sourceTensor.clone().detach() or sourceTensor.clone().detach().requires_grad_(True), rather than torch.tensor(sourceTensor).\n",
      "  x = torch.tensor(x).to(self.device)\n",
      "C:\\Users\\Wan Jing\\Documents\\libact-torch\\libact\\query_strategies\\representative_sampling.py:147: UserWarning: To copy construct from a tensor, it is recommended to use sourceTensor.clone().detach() or sourceTensor.clone().detach().requires_grad_(True), rather than torch.tensor(sourceTensor).\n",
      "  x = torch.tensor(x).to(self.device)\n",
      "C:\\Users\\Wan Jing\\Documents\\libact-torch\\libact\\query_strategies\\random_sampling.py:86: UserWarning: To copy construct from a tensor, it is recommended to use sourceTensor.clone().detach() or sourceTensor.clone().detach().requires_grad_(True), rather than torch.tensor(sourceTensor).\n",
      "  ex = torch.tensor(self.dataset.data[self.queried_hist_[-1]][0]).to(self.device)\n",
      "C:\\Users\\Wan Jing\\Documents\\libact-torch\\libact\\query_strategies\\uncertainty_sampling.py:149: UserWarning: To copy construct from a tensor, it is recommended to use sourceTensor.clone().detach() or sourceTensor.clone().detach().requires_grad_(True), rather than torch.tensor(sourceTensor).\n",
      "  ex = torch.tensor(self.dataset.data[self.queried_hist_[-1]][0]).to(self.device)\n",
      "C:\\Users\\Wan Jing\\Documents\\libact-torch\\libact\\query_strategies\\representative_sampling.py:113: UserWarning: To copy construct from a tensor, it is recommended to use sourceTensor.clone().detach() or sourceTensor.clone().detach().requires_grad_(True), rather than torch.tensor(sourceTensor).\n",
      "  ex = torch.tensor(self.dataset.data[self.queried_hist_[-1]][0]).to(self.device)\n",
      "C:\\Users\\Wan Jing\\Documents\\libact-torch\\libact\\query_strategies\\multi_bandits_active_learning.py:227: UserWarning: To copy construct from a tensor, it is recommended to use sourceTensor.clone().detach() or sourceTensor.clone().detach().requires_grad_(True), rather than torch.tensor(sourceTensor).\n",
      "  ex = torch.tensor(self.dataset.data[self.queried_hist_[-1]][0]).to(self.device)\n"
     ]
    },
    {
     "name": "stdout",
     "output_type": "stream",
     "text": [
      "     labeled_acc  testing_acc    reward\n",
      "133     0.536133     0.381563  0.334162\n",
      "Tue Sep  1 16:46:55 2020 MultiBanditsActiveLearning query round: 135\n",
      "Strategy Chosen: 0 RandomSampling\n"
     ]
    },
    {
     "name": "stderr",
     "output_type": "stream",
     "text": [
      "C:\\Users\\Wan Jing\\Documents\\libact-torch\\libact\\query_strategies\\random_sampling.py:86: UserWarning: To copy construct from a tensor, it is recommended to use sourceTensor.clone().detach() or sourceTensor.clone().detach().requires_grad_(True), rather than torch.tensor(sourceTensor).\n",
      "  ex = torch.tensor(self.dataset.data[self.queried_hist_[-1]][0]).to(self.device)\n",
      "C:\\Users\\Wan Jing\\Documents\\libact-torch\\libact\\query_strategies\\uncertainty_sampling.py:149: UserWarning: To copy construct from a tensor, it is recommended to use sourceTensor.clone().detach() or sourceTensor.clone().detach().requires_grad_(True), rather than torch.tensor(sourceTensor).\n",
      "  ex = torch.tensor(self.dataset.data[self.queried_hist_[-1]][0]).to(self.device)\n",
      "C:\\Users\\Wan Jing\\Documents\\libact-torch\\libact\\query_strategies\\representative_sampling.py:113: UserWarning: To copy construct from a tensor, it is recommended to use sourceTensor.clone().detach() or sourceTensor.clone().detach().requires_grad_(True), rather than torch.tensor(sourceTensor).\n",
      "  ex = torch.tensor(self.dataset.data[self.queried_hist_[-1]][0]).to(self.device)\n",
      "C:\\Users\\Wan Jing\\Documents\\libact-torch\\libact\\query_strategies\\multi_bandits_active_learning.py:227: UserWarning: To copy construct from a tensor, it is recommended to use sourceTensor.clone().detach() or sourceTensor.clone().detach().requires_grad_(True), rather than torch.tensor(sourceTensor).\n",
      "  ex = torch.tensor(self.dataset.data[self.queried_hist_[-1]][0]).to(self.device)\n"
     ]
    },
    {
     "name": "stdout",
     "output_type": "stream",
     "text": [
      "     labeled_acc  testing_acc    reward\n",
      "134     0.534136     0.378205  0.352181\n",
      "Tue Sep  1 16:47:06 2020 MultiBanditsActiveLearning query round: 136\n",
      "Strategy Chosen: 2 UncertaintySampling\n"
     ]
    },
    {
     "name": "stderr",
     "output_type": "stream",
     "text": [
      "C:\\Users\\Wan Jing\\Documents\\libact-torch\\libact\\query_strategies\\random_sampling.py:86: UserWarning: To copy construct from a tensor, it is recommended to use sourceTensor.clone().detach() or sourceTensor.clone().detach().requires_grad_(True), rather than torch.tensor(sourceTensor).\n",
      "  ex = torch.tensor(self.dataset.data[self.queried_hist_[-1]][0]).to(self.device)\n",
      "C:\\Users\\Wan Jing\\Documents\\libact-torch\\libact\\query_strategies\\uncertainty_sampling.py:149: UserWarning: To copy construct from a tensor, it is recommended to use sourceTensor.clone().detach() or sourceTensor.clone().detach().requires_grad_(True), rather than torch.tensor(sourceTensor).\n",
      "  ex = torch.tensor(self.dataset.data[self.queried_hist_[-1]][0]).to(self.device)\n",
      "C:\\Users\\Wan Jing\\Documents\\libact-torch\\libact\\query_strategies\\representative_sampling.py:113: UserWarning: To copy construct from a tensor, it is recommended to use sourceTensor.clone().detach() or sourceTensor.clone().detach().requires_grad_(True), rather than torch.tensor(sourceTensor).\n",
      "  ex = torch.tensor(self.dataset.data[self.queried_hist_[-1]][0]).to(self.device)\n",
      "C:\\Users\\Wan Jing\\Documents\\libact-torch\\libact\\query_strategies\\multi_bandits_active_learning.py:227: UserWarning: To copy construct from a tensor, it is recommended to use sourceTensor.clone().detach() or sourceTensor.clone().detach().requires_grad_(True), rather than torch.tensor(sourceTensor).\n",
      "  ex = torch.tensor(self.dataset.data[self.queried_hist_[-1]][0]).to(self.device)\n"
     ]
    },
    {
     "name": "stdout",
     "output_type": "stream",
     "text": [
      "     labeled_acc  testing_acc    reward\n",
      "135      0.54384     0.384005  0.341453\n",
      "Tue Sep  1 16:47:22 2020 MultiBanditsActiveLearning query round: 137\n",
      "Strategy Chosen: 4 RepresentativeSampling\n"
     ]
    },
    {
     "name": "stderr",
     "output_type": "stream",
     "text": [
      "C:\\Users\\Wan Jing\\Documents\\libact-torch\\libact\\query_strategies\\representative_sampling.py:147: UserWarning: To copy construct from a tensor, it is recommended to use sourceTensor.clone().detach() or sourceTensor.clone().detach().requires_grad_(True), rather than torch.tensor(sourceTensor).\n",
      "  x = torch.tensor(x).to(self.device)\n",
      "C:\\Users\\Wan Jing\\Documents\\libact-torch\\libact\\query_strategies\\representative_sampling.py:147: UserWarning: To copy construct from a tensor, it is recommended to use sourceTensor.clone().detach() or sourceTensor.clone().detach().requires_grad_(True), rather than torch.tensor(sourceTensor).\n",
      "  x = torch.tensor(x).to(self.device)\n",
      "C:\\Users\\Wan Jing\\Documents\\libact-torch\\libact\\query_strategies\\random_sampling.py:86: UserWarning: To copy construct from a tensor, it is recommended to use sourceTensor.clone().detach() or sourceTensor.clone().detach().requires_grad_(True), rather than torch.tensor(sourceTensor).\n",
      "  ex = torch.tensor(self.dataset.data[self.queried_hist_[-1]][0]).to(self.device)\n",
      "C:\\Users\\Wan Jing\\Documents\\libact-torch\\libact\\query_strategies\\uncertainty_sampling.py:149: UserWarning: To copy construct from a tensor, it is recommended to use sourceTensor.clone().detach() or sourceTensor.clone().detach().requires_grad_(True), rather than torch.tensor(sourceTensor).\n",
      "  ex = torch.tensor(self.dataset.data[self.queried_hist_[-1]][0]).to(self.device)\n",
      "C:\\Users\\Wan Jing\\Documents\\libact-torch\\libact\\query_strategies\\representative_sampling.py:113: UserWarning: To copy construct from a tensor, it is recommended to use sourceTensor.clone().detach() or sourceTensor.clone().detach().requires_grad_(True), rather than torch.tensor(sourceTensor).\n",
      "  ex = torch.tensor(self.dataset.data[self.queried_hist_[-1]][0]).to(self.device)\n",
      "C:\\Users\\Wan Jing\\Documents\\libact-torch\\libact\\query_strategies\\multi_bandits_active_learning.py:227: UserWarning: To copy construct from a tensor, it is recommended to use sourceTensor.clone().detach() or sourceTensor.clone().detach().requires_grad_(True), rather than torch.tensor(sourceTensor).\n",
      "  ex = torch.tensor(self.dataset.data[self.queried_hist_[-1]][0]).to(self.device)\n",
      "C:\\Users\\Wan Jing\\.conda\\envs\\deepCB\\lib\\site-packages\\sklearn\\metrics\\_classification.py:1221: UndefinedMetricWarning: Precision is ill-defined and being set to 0.0 in labels with no predicted samples. Use `zero_division` parameter to control this behavior.\n",
      "  _warn_prf(average, modifier, msg_start, len(result))\n"
     ]
    },
    {
     "name": "stdout",
     "output_type": "stream",
     "text": [
      "     labeled_acc  testing_acc    reward\n",
      "136     0.524447      0.37149  0.331506\n",
      "Tue Sep  1 16:47:43 2020 MultiBanditsActiveLearning query round: 138\n",
      "Strategy Chosen: 1 UncertaintySampling\n"
     ]
    },
    {
     "name": "stderr",
     "output_type": "stream",
     "text": [
      "C:\\Users\\Wan Jing\\Documents\\libact-torch\\libact\\query_strategies\\random_sampling.py:86: UserWarning: To copy construct from a tensor, it is recommended to use sourceTensor.clone().detach() or sourceTensor.clone().detach().requires_grad_(True), rather than torch.tensor(sourceTensor).\n",
      "  ex = torch.tensor(self.dataset.data[self.queried_hist_[-1]][0]).to(self.device)\n",
      "C:\\Users\\Wan Jing\\Documents\\libact-torch\\libact\\query_strategies\\uncertainty_sampling.py:149: UserWarning: To copy construct from a tensor, it is recommended to use sourceTensor.clone().detach() or sourceTensor.clone().detach().requires_grad_(True), rather than torch.tensor(sourceTensor).\n",
      "  ex = torch.tensor(self.dataset.data[self.queried_hist_[-1]][0]).to(self.device)\n",
      "C:\\Users\\Wan Jing\\Documents\\libact-torch\\libact\\query_strategies\\representative_sampling.py:113: UserWarning: To copy construct from a tensor, it is recommended to use sourceTensor.clone().detach() or sourceTensor.clone().detach().requires_grad_(True), rather than torch.tensor(sourceTensor).\n",
      "  ex = torch.tensor(self.dataset.data[self.queried_hist_[-1]][0]).to(self.device)\n",
      "C:\\Users\\Wan Jing\\Documents\\libact-torch\\libact\\query_strategies\\multi_bandits_active_learning.py:227: UserWarning: To copy construct from a tensor, it is recommended to use sourceTensor.clone().detach() or sourceTensor.clone().detach().requires_grad_(True), rather than torch.tensor(sourceTensor).\n",
      "  ex = torch.tensor(self.dataset.data[self.queried_hist_[-1]][0]).to(self.device)\n",
      "C:\\Users\\Wan Jing\\.conda\\envs\\deepCB\\lib\\site-packages\\sklearn\\metrics\\_classification.py:1221: UndefinedMetricWarning: Precision is ill-defined and being set to 0.0 in labels with no predicted samples. Use `zero_division` parameter to control this behavior.\n",
      "  _warn_prf(average, modifier, msg_start, len(result))\n"
     ]
    },
    {
     "name": "stdout",
     "output_type": "stream",
     "text": [
      "     labeled_acc  testing_acc    reward\n",
      "137     0.549353     0.379121  0.344886\n",
      "Tue Sep  1 16:48:00 2020 MultiBanditsActiveLearning query round: 139\n",
      "Strategy Chosen: 1 UncertaintySampling\n"
     ]
    },
    {
     "name": "stderr",
     "output_type": "stream",
     "text": [
      "C:\\Users\\Wan Jing\\Documents\\libact-torch\\libact\\query_strategies\\random_sampling.py:86: UserWarning: To copy construct from a tensor, it is recommended to use sourceTensor.clone().detach() or sourceTensor.clone().detach().requires_grad_(True), rather than torch.tensor(sourceTensor).\n",
      "  ex = torch.tensor(self.dataset.data[self.queried_hist_[-1]][0]).to(self.device)\n",
      "C:\\Users\\Wan Jing\\Documents\\libact-torch\\libact\\query_strategies\\uncertainty_sampling.py:149: UserWarning: To copy construct from a tensor, it is recommended to use sourceTensor.clone().detach() or sourceTensor.clone().detach().requires_grad_(True), rather than torch.tensor(sourceTensor).\n",
      "  ex = torch.tensor(self.dataset.data[self.queried_hist_[-1]][0]).to(self.device)\n",
      "C:\\Users\\Wan Jing\\Documents\\libact-torch\\libact\\query_strategies\\representative_sampling.py:113: UserWarning: To copy construct from a tensor, it is recommended to use sourceTensor.clone().detach() or sourceTensor.clone().detach().requires_grad_(True), rather than torch.tensor(sourceTensor).\n",
      "  ex = torch.tensor(self.dataset.data[self.queried_hist_[-1]][0]).to(self.device)\n",
      "C:\\Users\\Wan Jing\\Documents\\libact-torch\\libact\\query_strategies\\multi_bandits_active_learning.py:227: UserWarning: To copy construct from a tensor, it is recommended to use sourceTensor.clone().detach() or sourceTensor.clone().detach().requires_grad_(True), rather than torch.tensor(sourceTensor).\n",
      "  ex = torch.tensor(self.dataset.data[self.queried_hist_[-1]][0]).to(self.device)\n"
     ]
    },
    {
     "name": "stdout",
     "output_type": "stream",
     "text": [
      "     labeled_acc  testing_acc   reward\n",
      "138     0.549834     0.380647  0.34988\n",
      "Tue Sep  1 16:48:16 2020 MultiBanditsActiveLearning query round: 140\n",
      "Strategy Chosen: 3 UncertaintySampling\n"
     ]
    },
    {
     "name": "stderr",
     "output_type": "stream",
     "text": [
      "C:\\Users\\Wan Jing\\Documents\\libact-torch\\libact\\query_strategies\\random_sampling.py:86: UserWarning: To copy construct from a tensor, it is recommended to use sourceTensor.clone().detach() or sourceTensor.clone().detach().requires_grad_(True), rather than torch.tensor(sourceTensor).\n",
      "  ex = torch.tensor(self.dataset.data[self.queried_hist_[-1]][0]).to(self.device)\n",
      "C:\\Users\\Wan Jing\\Documents\\libact-torch\\libact\\query_strategies\\uncertainty_sampling.py:149: UserWarning: To copy construct from a tensor, it is recommended to use sourceTensor.clone().detach() or sourceTensor.clone().detach().requires_grad_(True), rather than torch.tensor(sourceTensor).\n",
      "  ex = torch.tensor(self.dataset.data[self.queried_hist_[-1]][0]).to(self.device)\n",
      "C:\\Users\\Wan Jing\\Documents\\libact-torch\\libact\\query_strategies\\representative_sampling.py:113: UserWarning: To copy construct from a tensor, it is recommended to use sourceTensor.clone().detach() or sourceTensor.clone().detach().requires_grad_(True), rather than torch.tensor(sourceTensor).\n",
      "  ex = torch.tensor(self.dataset.data[self.queried_hist_[-1]][0]).to(self.device)\n",
      "C:\\Users\\Wan Jing\\Documents\\libact-torch\\libact\\query_strategies\\multi_bandits_active_learning.py:227: UserWarning: To copy construct from a tensor, it is recommended to use sourceTensor.clone().detach() or sourceTensor.clone().detach().requires_grad_(True), rather than torch.tensor(sourceTensor).\n",
      "  ex = torch.tensor(self.dataset.data[self.queried_hist_[-1]][0]).to(self.device)\n"
     ]
    },
    {
     "name": "stdout",
     "output_type": "stream",
     "text": [
      "     labeled_acc  testing_acc    reward\n",
      "139     0.551005     0.384921  0.350092\n",
      "Tue Sep  1 16:48:33 2020 MultiBanditsActiveLearning query round: 141\n",
      "Strategy Chosen: 1 UncertaintySampling\n"
     ]
    },
    {
     "name": "stderr",
     "output_type": "stream",
     "text": [
      "C:\\Users\\Wan Jing\\Documents\\libact-torch\\libact\\query_strategies\\random_sampling.py:86: UserWarning: To copy construct from a tensor, it is recommended to use sourceTensor.clone().detach() or sourceTensor.clone().detach().requires_grad_(True), rather than torch.tensor(sourceTensor).\n",
      "  ex = torch.tensor(self.dataset.data[self.queried_hist_[-1]][0]).to(self.device)\n",
      "C:\\Users\\Wan Jing\\Documents\\libact-torch\\libact\\query_strategies\\uncertainty_sampling.py:149: UserWarning: To copy construct from a tensor, it is recommended to use sourceTensor.clone().detach() or sourceTensor.clone().detach().requires_grad_(True), rather than torch.tensor(sourceTensor).\n",
      "  ex = torch.tensor(self.dataset.data[self.queried_hist_[-1]][0]).to(self.device)\n",
      "C:\\Users\\Wan Jing\\Documents\\libact-torch\\libact\\query_strategies\\representative_sampling.py:113: UserWarning: To copy construct from a tensor, it is recommended to use sourceTensor.clone().detach() or sourceTensor.clone().detach().requires_grad_(True), rather than torch.tensor(sourceTensor).\n",
      "  ex = torch.tensor(self.dataset.data[self.queried_hist_[-1]][0]).to(self.device)\n",
      "C:\\Users\\Wan Jing\\Documents\\libact-torch\\libact\\query_strategies\\multi_bandits_active_learning.py:227: UserWarning: To copy construct from a tensor, it is recommended to use sourceTensor.clone().detach() or sourceTensor.clone().detach().requires_grad_(True), rather than torch.tensor(sourceTensor).\n",
      "  ex = torch.tensor(self.dataset.data[self.queried_hist_[-1]][0]).to(self.device)\n"
     ]
    },
    {
     "name": "stdout",
     "output_type": "stream",
     "text": [
      "     labeled_acc  testing_acc    reward\n",
      "140     0.555535     0.381563  0.349657\n",
      "Tue Sep  1 16:48:49 2020 MultiBanditsActiveLearning query round: 142\n",
      "Strategy Chosen: 4 RepresentativeSampling\n"
     ]
    },
    {
     "name": "stderr",
     "output_type": "stream",
     "text": [
      "C:\\Users\\Wan Jing\\Documents\\libact-torch\\libact\\query_strategies\\representative_sampling.py:147: UserWarning: To copy construct from a tensor, it is recommended to use sourceTensor.clone().detach() or sourceTensor.clone().detach().requires_grad_(True), rather than torch.tensor(sourceTensor).\n",
      "  x = torch.tensor(x).to(self.device)\n",
      "C:\\Users\\Wan Jing\\Documents\\libact-torch\\libact\\query_strategies\\representative_sampling.py:147: UserWarning: To copy construct from a tensor, it is recommended to use sourceTensor.clone().detach() or sourceTensor.clone().detach().requires_grad_(True), rather than torch.tensor(sourceTensor).\n",
      "  x = torch.tensor(x).to(self.device)\n",
      "C:\\Users\\Wan Jing\\Documents\\libact-torch\\libact\\query_strategies\\random_sampling.py:86: UserWarning: To copy construct from a tensor, it is recommended to use sourceTensor.clone().detach() or sourceTensor.clone().detach().requires_grad_(True), rather than torch.tensor(sourceTensor).\n",
      "  ex = torch.tensor(self.dataset.data[self.queried_hist_[-1]][0]).to(self.device)\n",
      "C:\\Users\\Wan Jing\\Documents\\libact-torch\\libact\\query_strategies\\uncertainty_sampling.py:149: UserWarning: To copy construct from a tensor, it is recommended to use sourceTensor.clone().detach() or sourceTensor.clone().detach().requires_grad_(True), rather than torch.tensor(sourceTensor).\n",
      "  ex = torch.tensor(self.dataset.data[self.queried_hist_[-1]][0]).to(self.device)\n",
      "C:\\Users\\Wan Jing\\Documents\\libact-torch\\libact\\query_strategies\\representative_sampling.py:113: UserWarning: To copy construct from a tensor, it is recommended to use sourceTensor.clone().detach() or sourceTensor.clone().detach().requires_grad_(True), rather than torch.tensor(sourceTensor).\n",
      "  ex = torch.tensor(self.dataset.data[self.queried_hist_[-1]][0]).to(self.device)\n",
      "C:\\Users\\Wan Jing\\Documents\\libact-torch\\libact\\query_strategies\\multi_bandits_active_learning.py:227: UserWarning: To copy construct from a tensor, it is recommended to use sourceTensor.clone().detach() or sourceTensor.clone().detach().requires_grad_(True), rather than torch.tensor(sourceTensor).\n",
      "  ex = torch.tensor(self.dataset.data[self.queried_hist_[-1]][0]).to(self.device)\n"
     ]
    },
    {
     "name": "stdout",
     "output_type": "stream",
     "text": [
      "     labeled_acc  testing_acc    reward\n",
      "141     0.564228     0.386142  0.349626\n",
      "Tue Sep  1 16:49:11 2020 MultiBanditsActiveLearning query round: 143\n",
      "Strategy Chosen: 4 RepresentativeSampling\n"
     ]
    },
    {
     "name": "stderr",
     "output_type": "stream",
     "text": [
      "C:\\Users\\Wan Jing\\Documents\\libact-torch\\libact\\query_strategies\\representative_sampling.py:147: UserWarning: To copy construct from a tensor, it is recommended to use sourceTensor.clone().detach() or sourceTensor.clone().detach().requires_grad_(True), rather than torch.tensor(sourceTensor).\n",
      "  x = torch.tensor(x).to(self.device)\n",
      "C:\\Users\\Wan Jing\\Documents\\libact-torch\\libact\\query_strategies\\representative_sampling.py:147: UserWarning: To copy construct from a tensor, it is recommended to use sourceTensor.clone().detach() or sourceTensor.clone().detach().requires_grad_(True), rather than torch.tensor(sourceTensor).\n",
      "  x = torch.tensor(x).to(self.device)\n",
      "C:\\Users\\Wan Jing\\Documents\\libact-torch\\libact\\query_strategies\\random_sampling.py:86: UserWarning: To copy construct from a tensor, it is recommended to use sourceTensor.clone().detach() or sourceTensor.clone().detach().requires_grad_(True), rather than torch.tensor(sourceTensor).\n",
      "  ex = torch.tensor(self.dataset.data[self.queried_hist_[-1]][0]).to(self.device)\n",
      "C:\\Users\\Wan Jing\\Documents\\libact-torch\\libact\\query_strategies\\uncertainty_sampling.py:149: UserWarning: To copy construct from a tensor, it is recommended to use sourceTensor.clone().detach() or sourceTensor.clone().detach().requires_grad_(True), rather than torch.tensor(sourceTensor).\n",
      "  ex = torch.tensor(self.dataset.data[self.queried_hist_[-1]][0]).to(self.device)\n",
      "C:\\Users\\Wan Jing\\Documents\\libact-torch\\libact\\query_strategies\\representative_sampling.py:113: UserWarning: To copy construct from a tensor, it is recommended to use sourceTensor.clone().detach() or sourceTensor.clone().detach().requires_grad_(True), rather than torch.tensor(sourceTensor).\n",
      "  ex = torch.tensor(self.dataset.data[self.queried_hist_[-1]][0]).to(self.device)\n",
      "C:\\Users\\Wan Jing\\Documents\\libact-torch\\libact\\query_strategies\\multi_bandits_active_learning.py:227: UserWarning: To copy construct from a tensor, it is recommended to use sourceTensor.clone().detach() or sourceTensor.clone().detach().requires_grad_(True), rather than torch.tensor(sourceTensor).\n",
      "  ex = torch.tensor(self.dataset.data[self.queried_hist_[-1]][0]).to(self.device)\n"
     ]
    },
    {
     "name": "stdout",
     "output_type": "stream",
     "text": [
      "     labeled_acc  testing_acc    reward\n",
      "142     0.563757     0.382479  0.347508\n",
      "Tue Sep  1 16:49:32 2020 MultiBanditsActiveLearning query round: 144\n",
      "Strategy Chosen: 3 UncertaintySampling\n"
     ]
    },
    {
     "name": "stderr",
     "output_type": "stream",
     "text": [
      "C:\\Users\\Wan Jing\\Documents\\libact-torch\\libact\\query_strategies\\random_sampling.py:86: UserWarning: To copy construct from a tensor, it is recommended to use sourceTensor.clone().detach() or sourceTensor.clone().detach().requires_grad_(True), rather than torch.tensor(sourceTensor).\n",
      "  ex = torch.tensor(self.dataset.data[self.queried_hist_[-1]][0]).to(self.device)\n",
      "C:\\Users\\Wan Jing\\Documents\\libact-torch\\libact\\query_strategies\\uncertainty_sampling.py:149: UserWarning: To copy construct from a tensor, it is recommended to use sourceTensor.clone().detach() or sourceTensor.clone().detach().requires_grad_(True), rather than torch.tensor(sourceTensor).\n",
      "  ex = torch.tensor(self.dataset.data[self.queried_hist_[-1]][0]).to(self.device)\n",
      "C:\\Users\\Wan Jing\\Documents\\libact-torch\\libact\\query_strategies\\representative_sampling.py:113: UserWarning: To copy construct from a tensor, it is recommended to use sourceTensor.clone().detach() or sourceTensor.clone().detach().requires_grad_(True), rather than torch.tensor(sourceTensor).\n",
      "  ex = torch.tensor(self.dataset.data[self.queried_hist_[-1]][0]).to(self.device)\n",
      "C:\\Users\\Wan Jing\\Documents\\libact-torch\\libact\\query_strategies\\multi_bandits_active_learning.py:227: UserWarning: To copy construct from a tensor, it is recommended to use sourceTensor.clone().detach() or sourceTensor.clone().detach().requires_grad_(True), rather than torch.tensor(sourceTensor).\n",
      "  ex = torch.tensor(self.dataset.data[self.queried_hist_[-1]][0]).to(self.device)\n"
     ]
    },
    {
     "name": "stdout",
     "output_type": "stream",
     "text": [
      "     labeled_acc  testing_acc    reward\n",
      "143     0.565334      0.37851  0.350561\n",
      "Tue Sep  1 16:49:49 2020 MultiBanditsActiveLearning query round: 145\n",
      "Strategy Chosen: 0 RandomSampling\n"
     ]
    },
    {
     "name": "stderr",
     "output_type": "stream",
     "text": [
      "C:\\Users\\Wan Jing\\Documents\\libact-torch\\libact\\query_strategies\\random_sampling.py:86: UserWarning: To copy construct from a tensor, it is recommended to use sourceTensor.clone().detach() or sourceTensor.clone().detach().requires_grad_(True), rather than torch.tensor(sourceTensor).\n",
      "  ex = torch.tensor(self.dataset.data[self.queried_hist_[-1]][0]).to(self.device)\n",
      "C:\\Users\\Wan Jing\\Documents\\libact-torch\\libact\\query_strategies\\uncertainty_sampling.py:149: UserWarning: To copy construct from a tensor, it is recommended to use sourceTensor.clone().detach() or sourceTensor.clone().detach().requires_grad_(True), rather than torch.tensor(sourceTensor).\n",
      "  ex = torch.tensor(self.dataset.data[self.queried_hist_[-1]][0]).to(self.device)\n",
      "C:\\Users\\Wan Jing\\Documents\\libact-torch\\libact\\query_strategies\\representative_sampling.py:113: UserWarning: To copy construct from a tensor, it is recommended to use sourceTensor.clone().detach() or sourceTensor.clone().detach().requires_grad_(True), rather than torch.tensor(sourceTensor).\n",
      "  ex = torch.tensor(self.dataset.data[self.queried_hist_[-1]][0]).to(self.device)\n",
      "C:\\Users\\Wan Jing\\Documents\\libact-torch\\libact\\query_strategies\\multi_bandits_active_learning.py:227: UserWarning: To copy construct from a tensor, it is recommended to use sourceTensor.clone().detach() or sourceTensor.clone().detach().requires_grad_(True), rather than torch.tensor(sourceTensor).\n",
      "  ex = torch.tensor(self.dataset.data[self.queried_hist_[-1]][0]).to(self.device)\n"
     ]
    },
    {
     "name": "stdout",
     "output_type": "stream",
     "text": [
      "     labeled_acc  testing_acc    reward\n",
      "144     0.553505     0.374237  0.347331\n",
      "Tue Sep  1 16:50:00 2020 MultiBanditsActiveLearning query round: 146\n",
      "Strategy Chosen: 4 RepresentativeSampling\n"
     ]
    },
    {
     "name": "stderr",
     "output_type": "stream",
     "text": [
      "C:\\Users\\Wan Jing\\Documents\\libact-torch\\libact\\query_strategies\\representative_sampling.py:147: UserWarning: To copy construct from a tensor, it is recommended to use sourceTensor.clone().detach() or sourceTensor.clone().detach().requires_grad_(True), rather than torch.tensor(sourceTensor).\n",
      "  x = torch.tensor(x).to(self.device)\n",
      "C:\\Users\\Wan Jing\\Documents\\libact-torch\\libact\\query_strategies\\representative_sampling.py:147: UserWarning: To copy construct from a tensor, it is recommended to use sourceTensor.clone().detach() or sourceTensor.clone().detach().requires_grad_(True), rather than torch.tensor(sourceTensor).\n",
      "  x = torch.tensor(x).to(self.device)\n",
      "C:\\Users\\Wan Jing\\Documents\\libact-torch\\libact\\query_strategies\\random_sampling.py:86: UserWarning: To copy construct from a tensor, it is recommended to use sourceTensor.clone().detach() or sourceTensor.clone().detach().requires_grad_(True), rather than torch.tensor(sourceTensor).\n",
      "  ex = torch.tensor(self.dataset.data[self.queried_hist_[-1]][0]).to(self.device)\n",
      "C:\\Users\\Wan Jing\\Documents\\libact-torch\\libact\\query_strategies\\uncertainty_sampling.py:149: UserWarning: To copy construct from a tensor, it is recommended to use sourceTensor.clone().detach() or sourceTensor.clone().detach().requires_grad_(True), rather than torch.tensor(sourceTensor).\n",
      "  ex = torch.tensor(self.dataset.data[self.queried_hist_[-1]][0]).to(self.device)\n",
      "C:\\Users\\Wan Jing\\Documents\\libact-torch\\libact\\query_strategies\\representative_sampling.py:113: UserWarning: To copy construct from a tensor, it is recommended to use sourceTensor.clone().detach() or sourceTensor.clone().detach().requires_grad_(True), rather than torch.tensor(sourceTensor).\n",
      "  ex = torch.tensor(self.dataset.data[self.queried_hist_[-1]][0]).to(self.device)\n",
      "C:\\Users\\Wan Jing\\Documents\\libact-torch\\libact\\query_strategies\\multi_bandits_active_learning.py:227: UserWarning: To copy construct from a tensor, it is recommended to use sourceTensor.clone().detach() or sourceTensor.clone().detach().requires_grad_(True), rather than torch.tensor(sourceTensor).\n",
      "  ex = torch.tensor(self.dataset.data[self.queried_hist_[-1]][0]).to(self.device)\n"
     ]
    },
    {
     "name": "stdout",
     "output_type": "stream",
     "text": [
      "     labeled_acc  testing_acc    reward\n",
      "145     0.577052      0.37851  0.346211\n",
      "Tue Sep  1 16:50:21 2020 MultiBanditsActiveLearning query round: 147\n",
      "Strategy Chosen: 1 UncertaintySampling\n"
     ]
    },
    {
     "name": "stderr",
     "output_type": "stream",
     "text": [
      "C:\\Users\\Wan Jing\\Documents\\libact-torch\\libact\\query_strategies\\random_sampling.py:86: UserWarning: To copy construct from a tensor, it is recommended to use sourceTensor.clone().detach() or sourceTensor.clone().detach().requires_grad_(True), rather than torch.tensor(sourceTensor).\n",
      "  ex = torch.tensor(self.dataset.data[self.queried_hist_[-1]][0]).to(self.device)\n",
      "C:\\Users\\Wan Jing\\Documents\\libact-torch\\libact\\query_strategies\\uncertainty_sampling.py:149: UserWarning: To copy construct from a tensor, it is recommended to use sourceTensor.clone().detach() or sourceTensor.clone().detach().requires_grad_(True), rather than torch.tensor(sourceTensor).\n",
      "  ex = torch.tensor(self.dataset.data[self.queried_hist_[-1]][0]).to(self.device)\n",
      "C:\\Users\\Wan Jing\\Documents\\libact-torch\\libact\\query_strategies\\representative_sampling.py:113: UserWarning: To copy construct from a tensor, it is recommended to use sourceTensor.clone().detach() or sourceTensor.clone().detach().requires_grad_(True), rather than torch.tensor(sourceTensor).\n",
      "  ex = torch.tensor(self.dataset.data[self.queried_hist_[-1]][0]).to(self.device)\n",
      "C:\\Users\\Wan Jing\\Documents\\libact-torch\\libact\\query_strategies\\multi_bandits_active_learning.py:227: UserWarning: To copy construct from a tensor, it is recommended to use sourceTensor.clone().detach() or sourceTensor.clone().detach().requires_grad_(True), rather than torch.tensor(sourceTensor).\n",
      "  ex = torch.tensor(self.dataset.data[self.queried_hist_[-1]][0]).to(self.device)\n"
     ]
    },
    {
     "name": "stdout",
     "output_type": "stream",
     "text": [
      "     labeled_acc  testing_acc    reward\n",
      "146     0.577524     0.375458  0.344108\n",
      "Tue Sep  1 16:50:38 2020 MultiBanditsActiveLearning query round: 148\n",
      "Strategy Chosen: 3 UncertaintySampling\n"
     ]
    },
    {
     "name": "stderr",
     "output_type": "stream",
     "text": [
      "C:\\Users\\Wan Jing\\Documents\\libact-torch\\libact\\query_strategies\\random_sampling.py:86: UserWarning: To copy construct from a tensor, it is recommended to use sourceTensor.clone().detach() or sourceTensor.clone().detach().requires_grad_(True), rather than torch.tensor(sourceTensor).\n",
      "  ex = torch.tensor(self.dataset.data[self.queried_hist_[-1]][0]).to(self.device)\n",
      "C:\\Users\\Wan Jing\\Documents\\libact-torch\\libact\\query_strategies\\uncertainty_sampling.py:149: UserWarning: To copy construct from a tensor, it is recommended to use sourceTensor.clone().detach() or sourceTensor.clone().detach().requires_grad_(True), rather than torch.tensor(sourceTensor).\n",
      "  ex = torch.tensor(self.dataset.data[self.queried_hist_[-1]][0]).to(self.device)\n",
      "C:\\Users\\Wan Jing\\Documents\\libact-torch\\libact\\query_strategies\\representative_sampling.py:113: UserWarning: To copy construct from a tensor, it is recommended to use sourceTensor.clone().detach() or sourceTensor.clone().detach().requires_grad_(True), rather than torch.tensor(sourceTensor).\n",
      "  ex = torch.tensor(self.dataset.data[self.queried_hist_[-1]][0]).to(self.device)\n",
      "C:\\Users\\Wan Jing\\Documents\\libact-torch\\libact\\query_strategies\\multi_bandits_active_learning.py:227: UserWarning: To copy construct from a tensor, it is recommended to use sourceTensor.clone().detach() or sourceTensor.clone().detach().requires_grad_(True), rather than torch.tensor(sourceTensor).\n",
      "  ex = torch.tensor(self.dataset.data[self.queried_hist_[-1]][0]).to(self.device)\n",
      "C:\\Users\\Wan Jing\\.conda\\envs\\deepCB\\lib\\site-packages\\sklearn\\metrics\\_classification.py:1221: UndefinedMetricWarning: Precision is ill-defined and being set to 0.0 in labels with no predicted samples. Use `zero_division` parameter to control this behavior.\n",
      "  _warn_prf(average, modifier, msg_start, len(result))\n"
     ]
    },
    {
     "name": "stdout",
     "output_type": "stream",
     "text": [
      "     labeled_acc  testing_acc    reward\n",
      "147     0.579186     0.383089  0.347032\n",
      "Tue Sep  1 16:50:54 2020 MultiBanditsActiveLearning query round: 149\n",
      "Strategy Chosen: 2 UncertaintySampling\n"
     ]
    },
    {
     "name": "stderr",
     "output_type": "stream",
     "text": [
      "C:\\Users\\Wan Jing\\Documents\\libact-torch\\libact\\query_strategies\\random_sampling.py:86: UserWarning: To copy construct from a tensor, it is recommended to use sourceTensor.clone().detach() or sourceTensor.clone().detach().requires_grad_(True), rather than torch.tensor(sourceTensor).\n",
      "  ex = torch.tensor(self.dataset.data[self.queried_hist_[-1]][0]).to(self.device)\n",
      "C:\\Users\\Wan Jing\\Documents\\libact-torch\\libact\\query_strategies\\uncertainty_sampling.py:149: UserWarning: To copy construct from a tensor, it is recommended to use sourceTensor.clone().detach() or sourceTensor.clone().detach().requires_grad_(True), rather than torch.tensor(sourceTensor).\n",
      "  ex = torch.tensor(self.dataset.data[self.queried_hist_[-1]][0]).to(self.device)\n",
      "C:\\Users\\Wan Jing\\Documents\\libact-torch\\libact\\query_strategies\\representative_sampling.py:113: UserWarning: To copy construct from a tensor, it is recommended to use sourceTensor.clone().detach() or sourceTensor.clone().detach().requires_grad_(True), rather than torch.tensor(sourceTensor).\n",
      "  ex = torch.tensor(self.dataset.data[self.queried_hist_[-1]][0]).to(self.device)\n",
      "C:\\Users\\Wan Jing\\Documents\\libact-torch\\libact\\query_strategies\\multi_bandits_active_learning.py:227: UserWarning: To copy construct from a tensor, it is recommended to use sourceTensor.clone().detach() or sourceTensor.clone().detach().requires_grad_(True), rather than torch.tensor(sourceTensor).\n",
      "  ex = torch.tensor(self.dataset.data[self.queried_hist_[-1]][0]).to(self.device)\n"
     ]
    },
    {
     "name": "stdout",
     "output_type": "stream",
     "text": [
      "     labeled_acc  testing_acc    reward\n",
      "148     0.582276     0.379121  0.346097\n",
      "Tue Sep  1 16:51:11 2020 MultiBanditsActiveLearning query round: 150\n",
      "Strategy Chosen: 0 RandomSampling\n"
     ]
    },
    {
     "name": "stderr",
     "output_type": "stream",
     "text": [
      "C:\\Users\\Wan Jing\\Documents\\libact-torch\\libact\\query_strategies\\random_sampling.py:86: UserWarning: To copy construct from a tensor, it is recommended to use sourceTensor.clone().detach() or sourceTensor.clone().detach().requires_grad_(True), rather than torch.tensor(sourceTensor).\n",
      "  ex = torch.tensor(self.dataset.data[self.queried_hist_[-1]][0]).to(self.device)\n",
      "C:\\Users\\Wan Jing\\Documents\\libact-torch\\libact\\query_strategies\\uncertainty_sampling.py:149: UserWarning: To copy construct from a tensor, it is recommended to use sourceTensor.clone().detach() or sourceTensor.clone().detach().requires_grad_(True), rather than torch.tensor(sourceTensor).\n",
      "  ex = torch.tensor(self.dataset.data[self.queried_hist_[-1]][0]).to(self.device)\n",
      "C:\\Users\\Wan Jing\\Documents\\libact-torch\\libact\\query_strategies\\representative_sampling.py:113: UserWarning: To copy construct from a tensor, it is recommended to use sourceTensor.clone().detach() or sourceTensor.clone().detach().requires_grad_(True), rather than torch.tensor(sourceTensor).\n",
      "  ex = torch.tensor(self.dataset.data[self.queried_hist_[-1]][0]).to(self.device)\n",
      "C:\\Users\\Wan Jing\\Documents\\libact-torch\\libact\\query_strategies\\multi_bandits_active_learning.py:227: UserWarning: To copy construct from a tensor, it is recommended to use sourceTensor.clone().detach() or sourceTensor.clone().detach().requires_grad_(True), rather than torch.tensor(sourceTensor).\n",
      "  ex = torch.tensor(self.dataset.data[self.queried_hist_[-1]][0]).to(self.device)\n"
     ]
    },
    {
     "name": "stdout",
     "output_type": "stream",
     "text": [
      "     labeled_acc  testing_acc    reward\n",
      "149     0.588276     0.386142  0.356015\n"
     ]
    }
   ],
   "source": [
    "test_size = 0.20\n",
    "\n",
    "n_labeled = 1000      # number of samples that are initially labeled\n",
    "\n",
    "dataname = 'Biome'\n",
    "\n",
    "fname = 'C:\\\\Users\\\\Wan Jing\\\\Documents\\\\CSML Dissertation\\\\Data Admin\\\\filteredBiome2.txt'\n",
    "ifile = open(fname, 'rb')\n",
    "Biome_X, Biome_y, Biome_dist = pickle.load(ifile)\n",
    "ifile.close()\n",
    "\n",
    "args_pool = {'Biome':\n",
    "                {'n_epoch': 4, 'transform': transforms.Compose([transforms.ToTensor(), transforms.Normalize((0.5,0.5,0.5), (0.5,0.5,0.5))]),\n",
    "                'loader_tr_args':{'batch_size': 256, 'num_workers': 0},\n",
    "                'loader_te_args':{'batch_size': 1000, 'num_workers': 0},\n",
    "                'optimizer_args':{'lr': 0.05, 'momentum': 0.3},\n",
    "                'handler': DatasetBiome, 'nclasses': 5}\n",
    "            }\n",
    "\n",
    "args = args_pool[dataname]\n",
    "\n",
    "def custom_rw(te_acc, te_acc_change, hp1 = 0.9):\n",
    "    '''hp1 < 1'''\n",
    "\n",
    "    return te_acc*(1+ te_acc_change*hp1)\n",
    "\n",
    "for r in range(1): # repeat the experiment 20 times\n",
    "    print(\"%dth experiment\" % (r+1))\n",
    "\n",
    "    results = []\n",
    "\n",
    "    trn_ds, tst_ds, y_train, fully_labeled_trn_ds = \\\n",
    "        split_train_test_Biome(Biome_X, Biome_y, test_size, n_labeled, args)\n",
    "    print(\"Size of Training Set:\", len(trn_ds), \"; Size of Testing Set:\", len(tst_ds))\n",
    "    lbr = IdealLabeler(fully_labeled_trn_ds)\n",
    "\n",
    "    # quota = len(y_train) - n_labeled    # number of samples to query\n",
    "    nquery = 50\n",
    "    quota = 150\n",
    "\n",
    "    if dataname == 'Biome':\n",
    "        model_cbal = NetBiome().to(\"cuda\")\n",
    "#     model_us = copy.deepcopy(model_us)\n",
    "#     model_rs = copy.deepcopy(model_us)\n",
    "#     model_reps = copy.deepcopy(model_us)\n",
    "#     model_albl = copy.deepcopy(model_us)\n",
    "#     model_cbal = copy.deepcopy(model_us)\n",
    "#     model_mbal = copy.deepcopy(model_us)\n",
    "#     model_ubal = copy.deepcopy(model_us)\n",
    "    \n",
    "#     trn_ds2 = copy.deepcopy(trn_ds)\n",
    "#     trn_ds3 = copy.deepcopy(trn_ds)\n",
    "#     trn_ds5 = copy.deepcopy(trn_ds)\n",
    "#     trn_ds6 = copy.deepcopy(trn_ds)\n",
    "\n",
    "    # Comparing UncertaintySampling strategy with RandomSampling.\n",
    "    # model is the base learner, e.g. LogisticRegression, SVM ... etc.\n",
    "#     qs = UncertaintySampling(trn_ds, args, T=quota, model=model_us, method='entropy')\n",
    "#     expr1 = expr(trn_ds, tst_ds, lbr, model_us, qs, nquery, args)\n",
    "#     E_out_1 = expr1.run(quota)\n",
    "\n",
    "#     qs2 = RandomSampling(trn_ds, args, T=quota, model=model_rs)\n",
    "#     expr2 = expr(trn_ds, tst_ds, lbr, model_rs, qs2, nquery, args)\n",
    "#     E_out_2 = expr2.run(quota)\n",
    "    \n",
    "#     qs3 = RepresentativeSampling(trn_ds, args, T=quota, model=model_reps)\n",
    "#     expr3 = expr(trn_ds, tst_ds, lbr, model_reps, qs3, nquery, args)\n",
    "#     E_out_3 = expr3.run(quota)\n",
    "\n",
    "#     qs5 = ActiveLearningByLearning(trn_ds, args,\n",
    "#                 query_strategies=[\n",
    "#                     RandomSampling(trn_ds, args, T=quota, model=model_albl),\n",
    "#                     UncertaintySampling(trn_ds, args, T=quota, model=model_albl, method='lc'),\n",
    "#                     UncertaintySampling(trn_ds, args, T=quota, model=model_albl, method='sm'),\n",
    "#                     UncertaintySampling(trn_ds, args, T=quota, model=model_albl, method='entropy'),\n",
    "#                     RepresentativeSampling(trn_ds, args, T=quota, model=model_albl)\n",
    "#                 ],\n",
    "#                 T=quota,\n",
    "#                 uniform_sampler=False,\n",
    "#                 model=model_albl,\n",
    "#                 reward_fn = custom_rw\n",
    "#             )\n",
    "#     expr5 = expr(trn_ds, tst_ds, lbr, model_albl, qs5, nquery, args, custom_rw)\n",
    "#     E_out_5 = expr5.run(quota)\n",
    "\n",
    "    num_actions = 5\n",
    "    context_dim = 14\n",
    "    hparams_linear = tf.contrib.training.HParams(num_actions=num_actions,\n",
    "                                                   context_dim=context_dim,\n",
    "                                                   a0=6,\n",
    "                                                   b0=6,\n",
    "                                                   lambda_prior=0.25,\n",
    "                                                   initial_pulls=num_actions)\n",
    "    algo = LinearFullPosteriorSampling('LinFullPost', hparams_linear)\n",
    "    qs6 = ContextualBanditsActiveLearning(trn_ds, args,\n",
    "                query_strategies=[\n",
    "                    RandomSampling(trn_ds, args, T=quota, model=model_cbal),\n",
    "                    UncertaintySampling(trn_ds, args, T=quota, model=model_cbal, method='lc'),\n",
    "                    UncertaintySampling(trn_ds, args, T=quota, model=model_cbal, method='sm'),\n",
    "                    UncertaintySampling(trn_ds, args, T=quota, model=model_cbal, method='entropy'),\n",
    "                    RepresentativeSampling(trn_ds, args, T=quota, model=model_cbal)\n",
    "                ],\n",
    "                T=quota,\n",
    "                uniform_sampler=False,\n",
    "                model=model_cbal,\n",
    "                cb_strategy=algo,\n",
    "                reward_fn = custom_rw\n",
    "            )\n",
    "    expr6 = exprCB(trn_ds, tst_ds, lbr, model_cbal, qs6, nquery, args, custom_rw)\n",
    "    E_out_6 = expr6.run(quota)\n",
    "\n",
    "#     qs7 = MultiBanditsActiveLearning(trn_ds, args,\n",
    "#                 query_strategies=[\n",
    "#                     RandomSampling(trn_ds, args, T=quota, model=model_mbal),\n",
    "#                     UncertaintySampling(trn_ds, args, T=quota, model=model_mbal, method='lc'),\n",
    "#                     UncertaintySampling(trn_ds, args, T=quota, model=model_mbal, method='sm'),\n",
    "#                     UncertaintySampling(trn_ds, args, T=quota, model=model_mbal, method='entropy'),\n",
    "#                     RepresentativeSampling(trn_ds, args, T=quota, model=model_mbal)\n",
    "#                 ],\n",
    "#                 T=quota,\n",
    "#                 uniform_sampler=False,\n",
    "#                 model=model_mbal,\n",
    "#                 reward_fn = custom_rw\n",
    "#             )\n",
    "#     expr7 = expr(trn_ds, tst_ds, lbr, model_mbal, qs7, nquery, args, custom_rw)\n",
    "#     E_out_7 = expr7.run(quota)\n",
    "\n",
    "#     qs8 = UniformBanditsActiveLearning(trn_ds, args,\n",
    "#                 query_strategies=[\n",
    "#                     RandomSampling(trn_ds, args, T=quota, model=model_ubal),\n",
    "#                     UncertaintySampling(trn_ds, args, T=quota, model=model_ubal, method='lc'),\n",
    "#                     UncertaintySampling(trn_ds, args, T=quota, model=model_ubal, method='sm'),\n",
    "#                     UncertaintySampling(trn_ds, args, T=quota, model=model_ubal, method='entropy'),\n",
    "#                     RepresentativeSampling(trn_ds, args, T=quota, model=model_ubal)\n",
    "#                 ],\n",
    "#                 T=quota,\n",
    "#                 uniform_sampler=False,\n",
    "#                 model=model_ubal,\n",
    "#                 reward_fn = custom_rw\n",
    "#             )\n",
    "#     expr8 = expr(trn_ds, tst_ds, lbr, model_ubal, qs8, nquery, args, custom_rw)\n",
    "#     E_out_8 = expr8.run(quota)\n",
    "# print(results)"
   ]
  },
  {
   "cell_type": "code",
   "execution_count": 4,
   "metadata": {},
   "outputs": [
    {
     "name": "stdout",
     "output_type": "stream",
     "text": [
      "0.38614163614163616\n"
     ]
    },
    {
     "data": {
      "image/png": "[encoded data removed]",
      "text/plain": [
       "<Figure size 432x288 with 1 Axes>"
      ]
     },
     "metadata": {
      "needs_background": "light"
     },
     "output_type": "display_data"
    }
   ],
   "source": [
    "import matplotlib.pyplot as plt\n",
    "\n",
    "print(expr6._besttestacc)\n",
    "\n",
    "query_num = range(1,150+1)\n",
    "plt.plot(query_num, E_out_6['labeled_acc'], 'g', label='labeled')\n",
    "plt.plot(query_num, E_out_6['testing_acc'], 'b', label='testing')\n",
    "\n",
    "plt.xlabel('Number of Queries')\n",
    "plt.ylabel('Error')\n",
    "plt.title('Experiment Result; LC; epoch4')\n",
    "plt.legend(loc='upper center', bbox_to_anchor=(0.5, -0.05),\n",
    "            fancybox=True, shadow=True, ncol=5)\n",
    "plt.show()"
   ]
  },
  {
   "cell_type": "code",
   "execution_count": 5,
   "metadata": {},
   "outputs": [],
   "source": [
    "fname = 'mbalf1Biome2.txt'\n",
    "ofile = open(fname, 'wb')\n",
    "pickle.dump([E_out_6, 'epoch=4; quota=150'], ofile)\n",
    "ofile.close()"
   ]
  }
 ],
 "metadata": {
  "kernelspec": {
   "display_name": "deepCB",
   "language": "python",
   "name": "deepcb"
  },
  "language_info": {
   "codemirror_mode": {
    "name": "ipython",
    "version": 3
   },
   "file_extension": ".py",
   "mimetype": "text/x-python",
   "name": "python",
   "nbconvert_exporter": "python",
   "pygments_lexer": "ipython3",
   "version": "3.6.10"
  }
 },
 "nbformat": 4,
 "nbformat_minor": 4
}
