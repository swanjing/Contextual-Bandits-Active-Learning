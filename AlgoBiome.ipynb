{
 "cells": [
  {
   "cell_type": "code",
   "execution_count": 1,
   "metadata": {},
   "outputs": [],
   "source": [
    "import torch\n",
    "from torchvision import datasets, transforms\n",
    "import torch.nn as nn\n",
    "import torch.nn.functional as F\n",
    "from torch.utils.data import DataLoader\n",
    "import torch.optim as optim\n",
    "from scipy.stats import entropy\n",
    "from sklearn.metrics import accuracy_score, f1_score, precision_score, recall_score\n",
    "import time\n",
    "import pandas as pd\n",
    "\n",
    "import copy\n",
    "import os\n",
    "import pickle\n",
    "\n",
    "import numpy as np\n",
    "try:\n",
    "    from sklearn.model_selection import train_test_split\n",
    "except ImportError:\n",
    "    from sklearn.cross_validation import train_test_split\n",
    "\n",
    "# libact classes\n",
    "from libact.base.dataset import Dataset, DatasetBiome, import_libsvm_sparse\n",
    "from libact.models import SVM\n",
    "from libact.query_strategies import RepresentativeSampling, UncertaintySampling, RandomSampling,\\\n",
    "    ActiveLearningByLearning, ContextualBanditsActiveLearning\n",
    "from libact.labelers import IdealLabeler\n",
    "\n",
    "import tensorflow as tf\n",
    "from libact.query_strategies.bandits.algorithms.uniform_sampling import UniformSampling\n",
    "from libact.query_strategies.bandits.algorithms.linear_full_posterior_sampling import LinearFullPosteriorSampling"
   ]
  },
  {
   "cell_type": "code",
   "execution_count": 2,
   "metadata": {},
   "outputs": [
    {
     "name": "stdout",
     "output_type": "stream",
     "text": [
      "WARNING:tensorflow:\n",
      "The TensorFlow contrib module will not be included in TensorFlow 2.0.\n",
      "For more information, please see:\n",
      "  * https://github.com/tensorflow/community/blob/master/rfcs/20180907-contrib-sunset.md\n",
      "  * https://github.com/tensorflow/addons\n",
      "  * https://github.com/tensorflow/io (for I/O related ops)\n",
      "If you depend on functionality not listed there, please file an issue.\n",
      "\n"
     ]
    }
   ],
   "source": [
    "'''Training Specific ThompsonSampling Sampler'''\n",
    "\n",
    "num_actions = 5\n",
    "context_dim = 14\n",
    "hparams_linear = tf.contrib.training.HParams(num_actions=num_actions,\n",
    "                                               context_dim=context_dim,\n",
    "                                               a0=6,\n",
    "                                               b0=6,\n",
    "                                               lambda_prior=0.25,\n",
    "                                               initial_pulls=num_actions)\n",
    "algoBiome = LinearFullPosteriorSampling('LinFullPost', hparams_linear)"
   ]
  },
  {
   "cell_type": "code",
   "execution_count": 3,
   "metadata": {},
   "outputs": [],
   "source": [
    "'''Loading Data from previous runs'''\n",
    "\n",
    "cbal = list()\n",
    "fnames = ['cbalCBiome1','cbalCBiome2','cbalCBiome3']\n",
    "for name in fnames:\n",
    "    fname = os.path.join(os.getcwd()+'\\\\outputs\\\\'+name+'.txt')\n",
    "    ifile = open(fname,'rb')\n",
    "    tp, _ = pickle.load(ifile)\n",
    "    ifile.close()\n",
    "    cbal.append(tp)\n",
    "\n",
    "ctxs = pd.DataFrame()\n",
    "arms = pd.DataFrame()\n",
    "rws = pd.DataFrame()\n",
    "for r in cbal:\n",
    "    ctxs = ctxs.append(r[['iteration','labeled_entropy','labeled_acc','labeled_f1','labeled_precision',\n",
    "                        'labeled_recall','testing_acc','testing_f1','testing_precision','testing_recall',\n",
    "                        'testing_acc_change','testing_f1_change','testing_precision_change','testing_recall_change']])\n",
    "    arms = arms.append(r[['strategy']])\n",
    "    rws = rws.append(r[['reward']])"
   ]
  },
  {
   "cell_type": "code",
   "execution_count": 4,
   "metadata": {},
   "outputs": [
    {
     "data": {
      "text/plain": [
       "iteration                   0.033333\n",
       "labeled_entropy             1.575259\n",
       "labeled_acc                 0.288000\n",
       "labeled_f1                  0.089441\n",
       "labeled_precision           0.057600\n",
       "labeled_recall              0.200000\n",
       "testing_acc                 0.275641\n",
       "testing_f1                  0.086432\n",
       "testing_precision           0.055128\n",
       "testing_recall              0.200000\n",
       "testing_acc_change          0.000000\n",
       "testing_f1_change           0.000000\n",
       "testing_precision_change    0.000000\n",
       "testing_recall_change       0.000000\n",
       "Name: 4, dtype: float64"
      ]
     },
     "execution_count": 4,
     "metadata": {},
     "output_type": "execute_result"
    }
   ],
   "source": [
    "ctxs.iloc[4,:]"
   ]
  },
  {
   "cell_type": "code",
   "execution_count": 5,
   "metadata": {},
   "outputs": [
    {
     "data": {
      "text/plain": [
       "((450, 14), (450, 1), (450, 1), array([3], dtype=object), array([0.27564103]))"
      ]
     },
     "execution_count": 5,
     "metadata": {},
     "output_type": "execute_result"
    }
   ],
   "source": [
    "ctxs.shape, arms.shape, rws.shape, np.array(arms.iloc[3]), np.array(rws.iloc[3])"
   ]
  },
  {
   "cell_type": "code",
   "execution_count": 6,
   "metadata": {},
   "outputs": [],
   "source": [
    "for idx, ctx in ctxs[:3].iterrows():\n",
    "    algoBiome.update(np.array(ctx),int(arms.iloc[idx]), np.array(rws.iloc[idx]))"
   ]
  },
  {
   "cell_type": "code",
   "execution_count": 11,
   "metadata": {},
   "outputs": [
    {
     "name": "stdout",
     "output_type": "stream",
     "text": [
      "3 0\n"
     ]
    }
   ],
   "source": [
    "idx = 25\n",
    "print(algoBiome.action(np.array(ctxs.iloc[idx,:])), int(arms.iloc[idx]))\n",
    "# print(ctxs.iloc[idx,:])"
   ]
  },
  {
   "cell_type": "code",
   "execution_count": 2,
   "metadata": {},
   "outputs": [],
   "source": [
    "# fname = 'algoCBiome.txt'\n",
    "# ofile = open(fname, 'wb')\n",
    "# pickle.dump(algoBiome, ofile)\n",
    "# ofile.close()\n",
    "\n",
    "fname = 'algoCBiome.txt'\n",
    "ifile = open(fname, 'rb')\n",
    "algoBiome = pickle.load(ifile)\n",
    "ifile.close()"
   ]
  },
  {
   "cell_type": "code",
   "execution_count": null,
   "metadata": {},
   "outputs": [],
   "source": []
  },
  {
   "cell_type": "code",
   "execution_count": null,
   "metadata": {},
   "outputs": [],
   "source": []
  },
  {
   "cell_type": "code",
   "execution_count": null,
   "metadata": {},
   "outputs": [],
   "source": []
  },
  {
   "cell_type": "code",
   "execution_count": 3,
   "metadata": {},
   "outputs": [],
   "source": [
    "import torch\n",
    "from torchvision import datasets, transforms\n",
    "import torch.nn as nn\n",
    "import torch.nn.functional as F\n",
    "from torch.utils.data import DataLoader\n",
    "import torch.optim as optim\n",
    "from scipy.stats import entropy\n",
    "from sklearn.metrics import accuracy_score, f1_score, precision_score, recall_score\n",
    "import time\n",
    "import pandas as pd\n",
    "\n",
    "import copy\n",
    "import os\n",
    "import pickle\n",
    "\n",
    "import numpy as np\n",
    "try:\n",
    "    from sklearn.model_selection import train_test_split\n",
    "except ImportError:\n",
    "    from sklearn.cross_validation import train_test_split\n",
    "\n",
    "# libact classes\n",
    "from libact.base.dataset import Dataset, DatasetBiome, import_libsvm_sparse\n",
    "from libact.models import SVM\n",
    "from libact.query_strategies import RepresentativeSampling, UncertaintySampling, RandomSampling,\\\n",
    "    ActiveLearningByLearning, ContextualBanditsActiveLearning, MultiBanditsActiveLearning, UniformBanditsActiveLearning\n",
    "from libact.labelers import IdealLabeler\n",
    "\n",
    "import tensorflow as tf\n",
    "from libact.query_strategies.bandits.algorithms.uniform_sampling import UniformSampling\n",
    "from libact.query_strategies.bandits.algorithms.linear_full_posterior_sampling import LinearFullPosteriorSampling\n",
    "    \n",
    "# class NetBiome(nn.Module):\n",
    "#     def __init__(self):\n",
    "#         super(NetBiome, self).__init__()\n",
    "#         self.conv1 = nn.Conv2d(3, 96, kernel_size=10, stride=5)\n",
    "#         self.conv1_drop = nn.Dropout2d()\n",
    "#         self.conv2 = nn.Conv2d(96, 64, kernel_size=5, stride=2)\n",
    "#         self.conv2_drop = nn.Dropout2d()\n",
    "#         self.fc1 = nn.Linear(256, 64)\n",
    "#         self.fc2 = nn.Linear(64, 5)\n",
    "\n",
    "#     def forward(self, x):\n",
    "#         x = self.conv1(x)\n",
    "#         x = self.conv1_drop(x)\n",
    "#         x = F.relu(x)\n",
    "#         x = self.conv2(x)\n",
    "#         x = self.conv2_drop(x)\n",
    "#         x = F.max_pool2d(x, 2)\n",
    "#         x = F.relu(x)\n",
    "#         x = F.max_pool2d(x, 2)\n",
    "#         x = x.view(-1, 256)\n",
    "#         e1 = F.relu(self.fc1(x))\n",
    "#         x = F.dropout(e1, training=self.training)\n",
    "#         x = self.fc2(x)\n",
    "#         return x, e1\n",
    "\n",
    "#     def get_embedding_dim(self):\n",
    "#         return 64\n",
    "\n",
    "class NetBiome(nn.Module):\n",
    "    def __init__(self):\n",
    "        super(NetBiome, self).__init__()\n",
    "        self.conv1 = nn.Conv2d(3, 96, kernel_size=6, stride=3)\n",
    "        self.convdropout1 = nn.Dropout2d()\n",
    "        self.conv2 = nn.Conv2d(96, 64, kernel_size=3, stride=2)\n",
    "        self.convdropout2 = nn.Dropout2d()\n",
    "        self.fc1 = nn.Linear(576, 128)\n",
    "        self.fc2 = nn.Linear(128, 5)\n",
    "\n",
    "    def forward(self, x):\n",
    "        x = self.conv1(x)\n",
    "        x = self.convdropout1(x)\n",
    "        x = F.max_pool2d(x, 2)\n",
    "        x = F.relu(x)\n",
    "        x = self.conv2(x)\n",
    "        x = self.convdropout2(x)\n",
    "        x = F.max_pool2d(x, 2)\n",
    "        x = F.relu(x)\n",
    "        x = x.view(-1, 576)\n",
    "        e1 = F.relu(self.fc1(x))\n",
    "        x = F.dropout(e1, training=self.training)\n",
    "        x = self.fc2(x)\n",
    "        out = F.log_softmax(x, dim=1)\n",
    "        \n",
    "        return out, e1\n",
    "\n",
    "    def get_embedding_dim(self):\n",
    "        return 128\n",
    "    \n",
    "class Net1(nn.Module):\n",
    "    def __init__(self):\n",
    "        super(Net1, self).__init__()\n",
    "        self.conv1 = nn.Conv2d(1, 10, kernel_size=5)\n",
    "        self.conv2 = nn.Conv2d(10, 20, kernel_size=5)\n",
    "        self.conv2_drop = nn.Dropout2d()\n",
    "        self.fc1 = nn.Linear(320, 50)\n",
    "        self.fc2 = nn.Linear(50, 10)\n",
    "\n",
    "    def forward(self, x):\n",
    "        x = F.relu(F.max_pool2d(self.conv1(x), 2))\n",
    "        x = F.relu(F.max_pool2d(self.conv2_drop(self.conv2(x)), 2))\n",
    "        x = x.view(-1, 320)\n",
    "        e1 = F.relu(self.fc1(x))\n",
    "        x = F.dropout(e1, training=self.training)\n",
    "        x = self.fc2(x)\n",
    "        return x, e1\n",
    "\n",
    "    def get_embedding_dim(self):\n",
    "        return 50\n",
    "\n",
    "def split_train_test_Biome(X_raw, y_raw , test_size, n_labeled, args):\n",
    "    X, y = X_raw, y_raw\n",
    "    splt_id = int(len(X) * test_size)\n",
    "    \n",
    "    X_train, X_test, y_train, y_test = X[splt_id:], X[:splt_id], y[splt_id:], y[:splt_id]\n",
    "    shuf_id = np.arange(len(X_train))\n",
    "    np.random.shuffle(shuf_id)\n",
    "    X_train = X_train[shuf_id]\n",
    "    y_train = y_train[shuf_id]\n",
    "\n",
    "    handler = args['handler']\n",
    "\n",
    "    trn_ds = handler(X_train, np.concatenate([y_train[:n_labeled], [None] * (len(y_train) - n_labeled)]), args['transform'])\n",
    "    tst_ds = handler(X_test, y_test, args['transform'])\n",
    "    fully_labeled_trn_ds = handler(X_train, y_train, args['transform'])\n",
    "\n",
    "    return trn_ds, tst_ds, y_train, fully_labeled_trn_ds\n",
    "\n",
    "class exprCB(object):\n",
    "    def __init__(self, trn_ds, tst_ds, lbr, model, qs, nquery, args, reward_fn=None):\n",
    "        print(time.ctime(time.time()))\n",
    "        self._args = args\n",
    "        self._trn_ds = trn_ds\n",
    "        self._tst_ds = tst_ds\n",
    "        self._lbr = lbr\n",
    "        self._model = model\n",
    "        self._qs = qs\n",
    "        self._nquery = nquery\n",
    "        self._T = self._qs.T\n",
    "        self._handler = args['handler']\n",
    "        self._reward_fn = reward_fn\n",
    "        \n",
    "        self._rd = 0\n",
    "        self._nclasses = self._qs._nclasses\n",
    "        self._features = pd.DataFrame(columns=['iteration','query_bincount','query_entropy','labeled_bincount','labeled_entropy',\n",
    "                                                'query_acc','query_f1','query_precision','query_recall','labeled_acc',\n",
    "                                                'labeled_f1','labeled_precision','labeled_recall','testing_acc','testing_f1',\n",
    "                                                'testing_precision', 'testing_recall','testing_acc_change',\n",
    "                                                'testing_f1_change','testing_precision_change','testing_recall_change','strategy',\n",
    "                                                'strategy_entropy','reward'])\n",
    "        \n",
    "        use_cuda = torch.cuda.is_available()\n",
    "        self._device = torch.device(\"cuda\" if use_cuda else \"cpu\")\n",
    "        self._nepoch = self._args['n_epoch']\n",
    "\n",
    "#         self._optimizer = optim.SGD(self._model.parameters(), **self._args['optimizer_args'])\n",
    "        self._optimizer = optim.Adam(self._model.parameters(), lr=1e-4, weight_decay=1e-5)\n",
    "        self._besttestacc = 0\n",
    "\n",
    "        self.train()\n",
    "        testing_acc, testing_f1, testing_precision, testing_recall = self.get_scores(self._tst_ds._X, self._tst_ds._y)\n",
    "\n",
    "        self._prev_acc_te = testing_acc\n",
    "        self._prev_f1_te = testing_f1\n",
    "        self._prev_precision_te = testing_precision\n",
    "        self._prev_recall_te = testing_recall\n",
    "\n",
    "    def train(self):\n",
    "        labeled_entry_Xs, labeled_entry_ys = self._trn_ds.get_labeled_entries()\n",
    "        labeled_dataset = self._handler(labeled_entry_Xs, labeled_entry_ys, transform=self._args['transform'])\n",
    "\n",
    "        loader_tr = DataLoader(labeled_dataset,\n",
    "                            shuffle=True, **self._args['loader_tr_args'])\n",
    "\n",
    "        for epoch in range(1, self._nepoch):\n",
    "            self._model.train()\n",
    "            for batch_idx, (x, y) in enumerate(loader_tr):\n",
    "                x, y = x.to(self._device), y.long().to(self._device)\n",
    "                self._optimizer.zero_grad()\n",
    "                out, e1 = self._model(x)\n",
    "                loss = F.cross_entropy(out, y)\n",
    "                loss.backward()\n",
    "                self._optimizer.step()\n",
    "\n",
    "    def predict(self):\n",
    "        # predict labels in test set\n",
    "        loader_te = DataLoader(self._tst_ds, shuffle=False, **self._args['loader_te_args'])\n",
    "\n",
    "        self._model.eval()\n",
    "        P = torch.tensor([], dtype=torch.long)\n",
    "        with torch.no_grad():\n",
    "            for batch_idx, (x, y) in enumerate(loader_te):\n",
    "                x = x.to(self._device)\n",
    "                out, e1 = self._model(x)\n",
    "\n",
    "                pred = out.max(1)[1]\n",
    "                P = torch.cat((P,pred.cpu()))\n",
    "\n",
    "        return P\n",
    "\n",
    "    def get_scores(self, xs, lb):\n",
    "        loader_te = DataLoader(self._handler(xs, lb, transform=self._args['transform']),\n",
    "                            shuffle=False, **self._args['loader_te_args'])\n",
    "        \n",
    "        self._model.eval()\n",
    "        P = torch.tensor([], dtype=torch.long)\n",
    "        with torch.no_grad():\n",
    "            for batch_idx, (x, y) in enumerate(loader_te):\n",
    "                x = x.to(self._device)\n",
    "                out, e1 = self._model(x)\n",
    "\n",
    "                pred = out.max(1)[1]\n",
    "                P = torch.cat((P,pred.cpu()))\n",
    "        \n",
    "        acc = accuracy_score(lb, P)\n",
    "        f1 = f1_score(lb,P,average='macro')\n",
    "        precision = precision_score(lb,P,average='macro')\n",
    "        recall = recall_score(lb,P,average='macro')\n",
    "\n",
    "        return acc, f1, precision, recall\n",
    "\n",
    "    def get_features(self, ask_id, lb):\n",
    "        itr = self._rd/self._T\n",
    "\n",
    "        # getting entropies\n",
    "        query_bincount = np.bincount(lb, None, self._nclasses)\n",
    "        query_entropy = entropy(query_bincount)\n",
    "        \n",
    "        labeled_x, labeled_y = self._trn_ds.get_labeled_entries()\n",
    "        labeled_bincount = np.bincount(labeled_y, None, self._nclasses)\n",
    "        labeled_entropy = entropy(labeled_bincount)\n",
    "\n",
    "        # query scores\n",
    "        query_acc, query_f1, query_precision, query_recall = self.get_scores(self._trn_ds._X[ask_id], lb)\n",
    "\n",
    "        # labeled scores\n",
    "        labeled_acc, labeled_f1, labeled_precision, labeled_recall = self.get_scores(labeled_x, labeled_y)\n",
    "        \n",
    "        # testing scores\n",
    "        testing_acc, testing_f1, testing_precision, testing_recall = self.get_scores(self._tst_ds._X, self._tst_ds._y)\n",
    "\n",
    "        testing_acc_change = testing_acc - self._prev_acc_te\n",
    "        testing_f1_change = testing_f1 - self._prev_f1_te\n",
    "        testing_precision_change = testing_precision - self._prev_precision_te\n",
    "        testing_recall_change = testing_recall - self._prev_recall_te\n",
    "\n",
    "        self._prev_acc_te = testing_acc\n",
    "        self._prev_f1_te = testing_f1\n",
    "        self._prev_precision_te = testing_precision\n",
    "        self._prev_recall_te = testing_recall\n",
    "\n",
    "        try:\n",
    "            strategy_entropy = entropy(self._qs.exp4p_.w)\n",
    "        except AttributeError:\n",
    "            strategy_entropy = 0\n",
    "        \n",
    "        if self._reward_fn == None:\n",
    "            reward = self._qs.calc_reward_fn()\n",
    "        else:\n",
    "            reward = self._reward_fn(testing_acc, testing_acc_change)\n",
    "            self._qs.rw = reward\n",
    "            \n",
    "        self._features = self._features.append({'iteration': itr, 'query_bincount': query_bincount, 'query_entropy': query_entropy,\n",
    "                              'labeled_bincount': labeled_bincount, 'labeled_entropy': labeled_entropy, 'query_acc': query_acc,\n",
    "                              'query_f1': query_f1, 'query_precision': query_precision, 'query_recall': query_recall,\n",
    "                              'labeled_acc': labeled_acc, 'labeled_f1': labeled_f1, 'labeled_precision': labeled_precision, \n",
    "                              'labeled_recall': labeled_recall, 'testing_acc': testing_acc, 'testing_f1': testing_f1,\n",
    "                              'testing_precision': testing_precision, 'testing_recall': testing_recall,\n",
    "                              'testing_acc_change': testing_acc_change, 'testing_f1_change': testing_f1_change, \n",
    "                              'testing_precision_change': testing_precision_change, 'testing_recall_change': testing_recall_change, \n",
    "                              'strategy':self._qs.strat_idx ,'strategy_entropy': strategy_entropy, 'reward': reward\n",
    "                              }, ignore_index=True)\n",
    "        return self._features.tail(1)\n",
    "    \n",
    "\n",
    "    def run(self, quota):\n",
    "        # E_out = np.array([])\n",
    "\n",
    "        for nround in range(quota):\n",
    "            self._rd += 1\n",
    "            \n",
    "            print(time.ctime(time.time()), type(self._qs).__name__, \"query round:\",self._rd)\n",
    "            # print(self._qs.W, self._qs.raw_rw)\n",
    "\n",
    "            ask_id = self._qs.make_query(num=self._nquery)\n",
    "            lb = self._lbr.label(ask_id)\n",
    "            self._trn_ds.update(ask_id, lb)\n",
    "\n",
    "            self.train()\n",
    "            self._qs.update(ask_id, lb)\n",
    "            \n",
    "            self._context = self.get_features(ask_id, lb)\n",
    "            ctx = np.array(self._context[['iteration','labeled_entropy','labeled_acc','labeled_f1','labeled_precision',\n",
    "                                'labeled_recall','testing_acc','testing_f1','testing_precision','testing_recall',\n",
    "                                'testing_acc_change','testing_f1_change','testing_precision_change','testing_recall_change']])\n",
    "            \n",
    "            self._qs.update_context(ctx) ######## UPDATE CONTEXT\n",
    "            print(self._features[['strategy','labeled_acc','testing_acc','reward']].tail(1))\n",
    "            \n",
    "            if self._features['testing_acc'].iloc[-1] > self._besttestacc:\n",
    "                self._bestmodel = copy.deepcopy(self._model)\n",
    "                self._besttestacc = self._features['testing_acc'].iloc[-1]\n",
    "\n",
    "        return self._features"
   ]
  },
  {
   "cell_type": "code",
   "execution_count": 4,
   "metadata": {},
   "outputs": [
    {
     "name": "stdout",
     "output_type": "stream",
     "text": [
      "1th experiment\n",
      "Size of Training Set: 13104 ; Size of Testing Set: 3276\n",
      "Mon Aug 31 15:43:26 2020\n"
     ]
    },
    {
     "name": "stderr",
     "output_type": "stream",
     "text": [
      "C:\\Users\\Wan Jing\\.conda\\envs\\deepCB\\lib\\site-packages\\sklearn\\metrics\\_classification.py:1221: UndefinedMetricWarning: Precision is ill-defined and being set to 0.0 in labels with no predicted samples. Use `zero_division` parameter to control this behavior.\n",
      "  _warn_prf(average, modifier, msg_start, len(result))\n"
     ]
    },
    {
     "name": "stdout",
     "output_type": "stream",
     "text": [
      "Mon Aug 31 15:43:29 2020 ContextualBanditsActiveLearning query round: 1\n",
      "Strategy Chosen: UncertaintySampling\n"
     ]
    },
    {
     "name": "stderr",
     "output_type": "stream",
     "text": [
      "C:\\Users\\Wan Jing\\Documents\\libact-torch\\libact\\query_strategies\\contextual_bandits_active_learning.py:184: UserWarning: To copy construct from a tensor, it is recommended to use sourceTensor.clone().detach() or sourceTensor.clone().detach().requires_grad_(True), rather than torch.tensor(sourceTensor).\n",
      "  ex = torch.tensor(self.dataset.data[self.queried_hist_[-1]][0]).to(self.device)\n",
      "C:\\Users\\Wan Jing\\Documents\\libact-torch\\libact\\query_strategies\\uncertainty_sampling.py:149: UserWarning: To copy construct from a tensor, it is recommended to use sourceTensor.clone().detach() or sourceTensor.clone().detach().requires_grad_(True), rather than torch.tensor(sourceTensor).\n",
      "  ex = torch.tensor(self.dataset.data[self.queried_hist_[-1]][0]).to(self.device)\n",
      "C:\\Users\\Wan Jing\\Documents\\libact-torch\\libact\\query_strategies\\representative_sampling.py:113: UserWarning: To copy construct from a tensor, it is recommended to use sourceTensor.clone().detach() or sourceTensor.clone().detach().requires_grad_(True), rather than torch.tensor(sourceTensor).\n",
      "  ex = torch.tensor(self.dataset.data[self.queried_hist_[-1]][0]).to(self.device)\n",
      "C:\\Users\\Wan Jing\\Documents\\libact-torch\\libact\\query_strategies\\random_sampling.py:86: UserWarning: To copy construct from a tensor, it is recommended to use sourceTensor.clone().detach() or sourceTensor.clone().detach().requires_grad_(True), rather than torch.tensor(sourceTensor).\n",
      "  ex = torch.tensor(self.dataset.data[self.queried_hist_[-1]][0]).to(self.device)\n"
     ]
    },
    {
     "name": "stdout",
     "output_type": "stream",
     "text": [
      "  strategy  labeled_acc  testing_acc    reward\n",
      "0        3     0.294286     0.275641  0.276323\n",
      "Mon Aug 31 15:43:38 2020 ContextualBanditsActiveLearning query round: 2\n",
      "Strategy Chosen: RepresentativeSampling\n"
     ]
    },
    {
     "name": "stderr",
     "output_type": "stream",
     "text": [
      "C:\\Users\\Wan Jing\\Documents\\libact-torch\\libact\\query_strategies\\representative_sampling.py:147: UserWarning: To copy construct from a tensor, it is recommended to use sourceTensor.clone().detach() or sourceTensor.clone().detach().requires_grad_(True), rather than torch.tensor(sourceTensor).\n",
      "  x = torch.tensor(x).to(self.device)\n",
      "C:\\Users\\Wan Jing\\Documents\\libact-torch\\libact\\query_strategies\\contextual_bandits_active_learning.py:184: UserWarning: To copy construct from a tensor, it is recommended to use sourceTensor.clone().detach() or sourceTensor.clone().detach().requires_grad_(True), rather than torch.tensor(sourceTensor).\n",
      "  ex = torch.tensor(self.dataset.data[self.queried_hist_[-1]][0]).to(self.device)\n",
      "C:\\Users\\Wan Jing\\Documents\\libact-torch\\libact\\query_strategies\\uncertainty_sampling.py:149: UserWarning: To copy construct from a tensor, it is recommended to use sourceTensor.clone().detach() or sourceTensor.clone().detach().requires_grad_(True), rather than torch.tensor(sourceTensor).\n",
      "  ex = torch.tensor(self.dataset.data[self.queried_hist_[-1]][0]).to(self.device)\n",
      "C:\\Users\\Wan Jing\\Documents\\libact-torch\\libact\\query_strategies\\representative_sampling.py:113: UserWarning: To copy construct from a tensor, it is recommended to use sourceTensor.clone().detach() or sourceTensor.clone().detach().requires_grad_(True), rather than torch.tensor(sourceTensor).\n",
      "  ex = torch.tensor(self.dataset.data[self.queried_hist_[-1]][0]).to(self.device)\n",
      "C:\\Users\\Wan Jing\\Documents\\libact-torch\\libact\\query_strategies\\random_sampling.py:86: UserWarning: To copy construct from a tensor, it is recommended to use sourceTensor.clone().detach() or sourceTensor.clone().detach().requires_grad_(True), rather than torch.tensor(sourceTensor).\n",
      "  ex = torch.tensor(self.dataset.data[self.queried_hist_[-1]][0]).to(self.device)\n",
      "C:\\Users\\Wan Jing\\.conda\\envs\\deepCB\\lib\\site-packages\\sklearn\\metrics\\_classification.py:1221: UndefinedMetricWarning: Precision is ill-defined and being set to 0.0 in labels with no predicted samples. Use `zero_division` parameter to control this behavior.\n",
      "  _warn_prf(average, modifier, msg_start, len(result))\n"
     ]
    },
    {
     "name": "stdout",
     "output_type": "stream",
     "text": [
      "  strategy  labeled_acc  testing_acc    reward\n",
      "1        4     0.287273     0.275641  0.275641\n",
      "Mon Aug 31 15:43:49 2020 ContextualBanditsActiveLearning query round: 3\n",
      "Strategy Chosen: RandomSampling\n"
     ]
    },
    {
     "name": "stderr",
     "output_type": "stream",
     "text": [
      "C:\\Users\\Wan Jing\\Documents\\libact-torch\\libact\\query_strategies\\contextual_bandits_active_learning.py:184: UserWarning: To copy construct from a tensor, it is recommended to use sourceTensor.clone().detach() or sourceTensor.clone().detach().requires_grad_(True), rather than torch.tensor(sourceTensor).\n",
      "  ex = torch.tensor(self.dataset.data[self.queried_hist_[-1]][0]).to(self.device)\n",
      "C:\\Users\\Wan Jing\\Documents\\libact-torch\\libact\\query_strategies\\uncertainty_sampling.py:149: UserWarning: To copy construct from a tensor, it is recommended to use sourceTensor.clone().detach() or sourceTensor.clone().detach().requires_grad_(True), rather than torch.tensor(sourceTensor).\n",
      "  ex = torch.tensor(self.dataset.data[self.queried_hist_[-1]][0]).to(self.device)\n",
      "C:\\Users\\Wan Jing\\Documents\\libact-torch\\libact\\query_strategies\\representative_sampling.py:113: UserWarning: To copy construct from a tensor, it is recommended to use sourceTensor.clone().detach() or sourceTensor.clone().detach().requires_grad_(True), rather than torch.tensor(sourceTensor).\n",
      "  ex = torch.tensor(self.dataset.data[self.queried_hist_[-1]][0]).to(self.device)\n",
      "C:\\Users\\Wan Jing\\Documents\\libact-torch\\libact\\query_strategies\\random_sampling.py:86: UserWarning: To copy construct from a tensor, it is recommended to use sourceTensor.clone().detach() or sourceTensor.clone().detach().requires_grad_(True), rather than torch.tensor(sourceTensor).\n",
      "  ex = torch.tensor(self.dataset.data[self.queried_hist_[-1]][0]).to(self.device)\n",
      "C:\\Users\\Wan Jing\\.conda\\envs\\deepCB\\lib\\site-packages\\sklearn\\metrics\\_classification.py:1221: UndefinedMetricWarning: Precision is ill-defined and being set to 0.0 in labels with no predicted samples. Use `zero_division` parameter to control this behavior.\n",
      "  _warn_prf(average, modifier, msg_start, len(result))\n"
     ]
    },
    {
     "name": "stdout",
     "output_type": "stream",
     "text": [
      "  strategy  labeled_acc  testing_acc    reward\n",
      "2        0     0.284348      0.27442  0.274118\n",
      "Mon Aug 31 15:43:53 2020 ContextualBanditsActiveLearning query round: 4\n",
      "Strategy Chosen: UncertaintySampling\n"
     ]
    },
    {
     "name": "stderr",
     "output_type": "stream",
     "text": [
      "C:\\Users\\Wan Jing\\Documents\\libact-torch\\libact\\query_strategies\\contextual_bandits_active_learning.py:184: UserWarning: To copy construct from a tensor, it is recommended to use sourceTensor.clone().detach() or sourceTensor.clone().detach().requires_grad_(True), rather than torch.tensor(sourceTensor).\n",
      "  ex = torch.tensor(self.dataset.data[self.queried_hist_[-1]][0]).to(self.device)\n",
      "C:\\Users\\Wan Jing\\Documents\\libact-torch\\libact\\query_strategies\\uncertainty_sampling.py:149: UserWarning: To copy construct from a tensor, it is recommended to use sourceTensor.clone().detach() or sourceTensor.clone().detach().requires_grad_(True), rather than torch.tensor(sourceTensor).\n",
      "  ex = torch.tensor(self.dataset.data[self.queried_hist_[-1]][0]).to(self.device)\n",
      "C:\\Users\\Wan Jing\\Documents\\libact-torch\\libact\\query_strategies\\representative_sampling.py:113: UserWarning: To copy construct from a tensor, it is recommended to use sourceTensor.clone().detach() or sourceTensor.clone().detach().requires_grad_(True), rather than torch.tensor(sourceTensor).\n",
      "  ex = torch.tensor(self.dataset.data[self.queried_hist_[-1]][0]).to(self.device)\n",
      "C:\\Users\\Wan Jing\\Documents\\libact-torch\\libact\\query_strategies\\random_sampling.py:86: UserWarning: To copy construct from a tensor, it is recommended to use sourceTensor.clone().detach() or sourceTensor.clone().detach().requires_grad_(True), rather than torch.tensor(sourceTensor).\n",
      "  ex = torch.tensor(self.dataset.data[self.queried_hist_[-1]][0]).to(self.device)\n",
      "C:\\Users\\Wan Jing\\.conda\\envs\\deepCB\\lib\\site-packages\\sklearn\\metrics\\_classification.py:1221: UndefinedMetricWarning: Precision is ill-defined and being set to 0.0 in labels with no predicted samples. Use `zero_division` parameter to control this behavior.\n",
      "  _warn_prf(average, modifier, msg_start, len(result))\n"
     ]
    },
    {
     "name": "stdout",
     "output_type": "stream",
     "text": [
      "  strategy  labeled_acc  testing_acc    reward\n",
      "3        1       0.3025     0.272589  0.272139\n",
      "Mon Aug 31 15:44:02 2020 ContextualBanditsActiveLearning query round: 5\n",
      "Strategy Chosen: UncertaintySampling\n"
     ]
    },
    {
     "name": "stderr",
     "output_type": "stream",
     "text": [
      "C:\\Users\\Wan Jing\\Documents\\libact-torch\\libact\\query_strategies\\contextual_bandits_active_learning.py:184: UserWarning: To copy construct from a tensor, it is recommended to use sourceTensor.clone().detach() or sourceTensor.clone().detach().requires_grad_(True), rather than torch.tensor(sourceTensor).\n",
      "  ex = torch.tensor(self.dataset.data[self.queried_hist_[-1]][0]).to(self.device)\n",
      "C:\\Users\\Wan Jing\\Documents\\libact-torch\\libact\\query_strategies\\uncertainty_sampling.py:149: UserWarning: To copy construct from a tensor, it is recommended to use sourceTensor.clone().detach() or sourceTensor.clone().detach().requires_grad_(True), rather than torch.tensor(sourceTensor).\n",
      "  ex = torch.tensor(self.dataset.data[self.queried_hist_[-1]][0]).to(self.device)\n",
      "C:\\Users\\Wan Jing\\Documents\\libact-torch\\libact\\query_strategies\\representative_sampling.py:113: UserWarning: To copy construct from a tensor, it is recommended to use sourceTensor.clone().detach() or sourceTensor.clone().detach().requires_grad_(True), rather than torch.tensor(sourceTensor).\n",
      "  ex = torch.tensor(self.dataset.data[self.queried_hist_[-1]][0]).to(self.device)\n",
      "C:\\Users\\Wan Jing\\Documents\\libact-torch\\libact\\query_strategies\\random_sampling.py:86: UserWarning: To copy construct from a tensor, it is recommended to use sourceTensor.clone().detach() or sourceTensor.clone().detach().requires_grad_(True), rather than torch.tensor(sourceTensor).\n",
      "  ex = torch.tensor(self.dataset.data[self.queried_hist_[-1]][0]).to(self.device)\n",
      "C:\\Users\\Wan Jing\\.conda\\envs\\deepCB\\lib\\site-packages\\sklearn\\metrics\\_classification.py:1221: UndefinedMetricWarning: Precision is ill-defined and being set to 0.0 in labels with no predicted samples. Use `zero_division` parameter to control this behavior.\n",
      "  _warn_prf(average, modifier, msg_start, len(result))\n"
     ]
    },
    {
     "name": "stdout",
     "output_type": "stream",
     "text": [
      "  strategy  labeled_acc  testing_acc   reward\n",
      "4        2       0.2944     0.275946  0.27678\n",
      "Mon Aug 31 15:44:11 2020 ContextualBanditsActiveLearning query round: 6\n",
      "Strategy Chosen: UncertaintySampling\n"
     ]
    },
    {
     "name": "stderr",
     "output_type": "stream",
     "text": [
      "C:\\Users\\Wan Jing\\Documents\\libact-torch\\libact\\query_strategies\\contextual_bandits_active_learning.py:184: UserWarning: To copy construct from a tensor, it is recommended to use sourceTensor.clone().detach() or sourceTensor.clone().detach().requires_grad_(True), rather than torch.tensor(sourceTensor).\n",
      "  ex = torch.tensor(self.dataset.data[self.queried_hist_[-1]][0]).to(self.device)\n",
      "C:\\Users\\Wan Jing\\Documents\\libact-torch\\libact\\query_strategies\\uncertainty_sampling.py:149: UserWarning: To copy construct from a tensor, it is recommended to use sourceTensor.clone().detach() or sourceTensor.clone().detach().requires_grad_(True), rather than torch.tensor(sourceTensor).\n",
      "  ex = torch.tensor(self.dataset.data[self.queried_hist_[-1]][0]).to(self.device)\n",
      "C:\\Users\\Wan Jing\\Documents\\libact-torch\\libact\\query_strategies\\representative_sampling.py:113: UserWarning: To copy construct from a tensor, it is recommended to use sourceTensor.clone().detach() or sourceTensor.clone().detach().requires_grad_(True), rather than torch.tensor(sourceTensor).\n",
      "  ex = torch.tensor(self.dataset.data[self.queried_hist_[-1]][0]).to(self.device)\n",
      "C:\\Users\\Wan Jing\\Documents\\libact-torch\\libact\\query_strategies\\random_sampling.py:86: UserWarning: To copy construct from a tensor, it is recommended to use sourceTensor.clone().detach() or sourceTensor.clone().detach().requires_grad_(True), rather than torch.tensor(sourceTensor).\n",
      "  ex = torch.tensor(self.dataset.data[self.queried_hist_[-1]][0]).to(self.device)\n",
      "C:\\Users\\Wan Jing\\.conda\\envs\\deepCB\\lib\\site-packages\\sklearn\\metrics\\_classification.py:1221: UndefinedMetricWarning: Precision is ill-defined and being set to 0.0 in labels with no predicted samples. Use `zero_division` parameter to control this behavior.\n",
      "  _warn_prf(average, modifier, msg_start, len(result))\n"
     ]
    },
    {
     "name": "stdout",
     "output_type": "stream",
     "text": [
      "  strategy  labeled_acc  testing_acc    reward\n",
      "5        3     0.293846     0.275946  0.275946\n",
      "Mon Aug 31 15:44:19 2020 ContextualBanditsActiveLearning query round: 7\n",
      "Strategy Chosen: RepresentativeSampling\n"
     ]
    },
    {
     "name": "stderr",
     "output_type": "stream",
     "text": [
      "C:\\Users\\Wan Jing\\Documents\\libact-torch\\libact\\query_strategies\\representative_sampling.py:147: UserWarning: To copy construct from a tensor, it is recommended to use sourceTensor.clone().detach() or sourceTensor.clone().detach().requires_grad_(True), rather than torch.tensor(sourceTensor).\n",
      "  x = torch.tensor(x).to(self.device)\n",
      "C:\\Users\\Wan Jing\\Documents\\libact-torch\\libact\\query_strategies\\contextual_bandits_active_learning.py:184: UserWarning: To copy construct from a tensor, it is recommended to use sourceTensor.clone().detach() or sourceTensor.clone().detach().requires_grad_(True), rather than torch.tensor(sourceTensor).\n",
      "  ex = torch.tensor(self.dataset.data[self.queried_hist_[-1]][0]).to(self.device)\n",
      "C:\\Users\\Wan Jing\\Documents\\libact-torch\\libact\\query_strategies\\uncertainty_sampling.py:149: UserWarning: To copy construct from a tensor, it is recommended to use sourceTensor.clone().detach() or sourceTensor.clone().detach().requires_grad_(True), rather than torch.tensor(sourceTensor).\n",
      "  ex = torch.tensor(self.dataset.data[self.queried_hist_[-1]][0]).to(self.device)\n",
      "C:\\Users\\Wan Jing\\Documents\\libact-torch\\libact\\query_strategies\\representative_sampling.py:113: UserWarning: To copy construct from a tensor, it is recommended to use sourceTensor.clone().detach() or sourceTensor.clone().detach().requires_grad_(True), rather than torch.tensor(sourceTensor).\n",
      "  ex = torch.tensor(self.dataset.data[self.queried_hist_[-1]][0]).to(self.device)\n",
      "C:\\Users\\Wan Jing\\Documents\\libact-torch\\libact\\query_strategies\\random_sampling.py:86: UserWarning: To copy construct from a tensor, it is recommended to use sourceTensor.clone().detach() or sourceTensor.clone().detach().requires_grad_(True), rather than torch.tensor(sourceTensor).\n",
      "  ex = torch.tensor(self.dataset.data[self.queried_hist_[-1]][0]).to(self.device)\n",
      "C:\\Users\\Wan Jing\\.conda\\envs\\deepCB\\lib\\site-packages\\sklearn\\metrics\\_classification.py:1221: UndefinedMetricWarning: Precision is ill-defined and being set to 0.0 in labels with no predicted samples. Use `zero_division` parameter to control this behavior.\n",
      "  _warn_prf(average, modifier, msg_start, len(result))\n"
     ]
    },
    {
     "name": "stdout",
     "output_type": "stream",
     "text": [
      "  strategy  labeled_acc  testing_acc    reward\n",
      "6        4      0.29037     0.277778  0.278236\n",
      "Mon Aug 31 15:44:31 2020 ContextualBanditsActiveLearning query round: 8\n",
      "Strategy Chosen: RandomSampling\n"
     ]
    },
    {
     "name": "stderr",
     "output_type": "stream",
     "text": [
      "C:\\Users\\Wan Jing\\Documents\\libact-torch\\libact\\query_strategies\\contextual_bandits_active_learning.py:184: UserWarning: To copy construct from a tensor, it is recommended to use sourceTensor.clone().detach() or sourceTensor.clone().detach().requires_grad_(True), rather than torch.tensor(sourceTensor).\n",
      "  ex = torch.tensor(self.dataset.data[self.queried_hist_[-1]][0]).to(self.device)\n",
      "C:\\Users\\Wan Jing\\Documents\\libact-torch\\libact\\query_strategies\\uncertainty_sampling.py:149: UserWarning: To copy construct from a tensor, it is recommended to use sourceTensor.clone().detach() or sourceTensor.clone().detach().requires_grad_(True), rather than torch.tensor(sourceTensor).\n",
      "  ex = torch.tensor(self.dataset.data[self.queried_hist_[-1]][0]).to(self.device)\n",
      "C:\\Users\\Wan Jing\\Documents\\libact-torch\\libact\\query_strategies\\representative_sampling.py:113: UserWarning: To copy construct from a tensor, it is recommended to use sourceTensor.clone().detach() or sourceTensor.clone().detach().requires_grad_(True), rather than torch.tensor(sourceTensor).\n",
      "  ex = torch.tensor(self.dataset.data[self.queried_hist_[-1]][0]).to(self.device)\n",
      "C:\\Users\\Wan Jing\\Documents\\libact-torch\\libact\\query_strategies\\random_sampling.py:86: UserWarning: To copy construct from a tensor, it is recommended to use sourceTensor.clone().detach() or sourceTensor.clone().detach().requires_grad_(True), rather than torch.tensor(sourceTensor).\n",
      "  ex = torch.tensor(self.dataset.data[self.queried_hist_[-1]][0]).to(self.device)\n",
      "C:\\Users\\Wan Jing\\.conda\\envs\\deepCB\\lib\\site-packages\\sklearn\\metrics\\_classification.py:1221: UndefinedMetricWarning: Precision is ill-defined and being set to 0.0 in labels with no predicted samples. Use `zero_division` parameter to control this behavior.\n",
      "  _warn_prf(average, modifier, msg_start, len(result))\n"
     ]
    },
    {
     "name": "stdout",
     "output_type": "stream",
     "text": [
      "  strategy  labeled_acc  testing_acc    reward\n",
      "7        0     0.288571     0.277473  0.277396\n",
      "Mon Aug 31 15:44:35 2020 ContextualBanditsActiveLearning query round: 9\n",
      "Strategy Chosen: UncertaintySampling\n"
     ]
    },
    {
     "name": "stderr",
     "output_type": "stream",
     "text": [
      "C:\\Users\\Wan Jing\\Documents\\libact-torch\\libact\\query_strategies\\contextual_bandits_active_learning.py:184: UserWarning: To copy construct from a tensor, it is recommended to use sourceTensor.clone().detach() or sourceTensor.clone().detach().requires_grad_(True), rather than torch.tensor(sourceTensor).\n",
      "  ex = torch.tensor(self.dataset.data[self.queried_hist_[-1]][0]).to(self.device)\n",
      "C:\\Users\\Wan Jing\\Documents\\libact-torch\\libact\\query_strategies\\uncertainty_sampling.py:149: UserWarning: To copy construct from a tensor, it is recommended to use sourceTensor.clone().detach() or sourceTensor.clone().detach().requires_grad_(True), rather than torch.tensor(sourceTensor).\n",
      "  ex = torch.tensor(self.dataset.data[self.queried_hist_[-1]][0]).to(self.device)\n",
      "C:\\Users\\Wan Jing\\Documents\\libact-torch\\libact\\query_strategies\\representative_sampling.py:113: UserWarning: To copy construct from a tensor, it is recommended to use sourceTensor.clone().detach() or sourceTensor.clone().detach().requires_grad_(True), rather than torch.tensor(sourceTensor).\n",
      "  ex = torch.tensor(self.dataset.data[self.queried_hist_[-1]][0]).to(self.device)\n",
      "C:\\Users\\Wan Jing\\Documents\\libact-torch\\libact\\query_strategies\\random_sampling.py:86: UserWarning: To copy construct from a tensor, it is recommended to use sourceTensor.clone().detach() or sourceTensor.clone().detach().requires_grad_(True), rather than torch.tensor(sourceTensor).\n",
      "  ex = torch.tensor(self.dataset.data[self.queried_hist_[-1]][0]).to(self.device)\n",
      "C:\\Users\\Wan Jing\\.conda\\envs\\deepCB\\lib\\site-packages\\sklearn\\metrics\\_classification.py:1221: UndefinedMetricWarning: Precision is ill-defined and being set to 0.0 in labels with no predicted samples. Use `zero_division` parameter to control this behavior.\n",
      "  _warn_prf(average, modifier, msg_start, len(result))\n"
     ]
    },
    {
     "name": "stdout",
     "output_type": "stream",
     "text": [
      "  strategy  labeled_acc  testing_acc    reward\n",
      "8        1     0.285517     0.270452  0.268743\n",
      "Mon Aug 31 15:44:44 2020 ContextualBanditsActiveLearning query round: 10\n",
      "Strategy Chosen: UncertaintySampling\n"
     ]
    },
    {
     "name": "stderr",
     "output_type": "stream",
     "text": [
      "C:\\Users\\Wan Jing\\Documents\\libact-torch\\libact\\query_strategies\\contextual_bandits_active_learning.py:184: UserWarning: To copy construct from a tensor, it is recommended to use sourceTensor.clone().detach() or sourceTensor.clone().detach().requires_grad_(True), rather than torch.tensor(sourceTensor).\n",
      "  ex = torch.tensor(self.dataset.data[self.queried_hist_[-1]][0]).to(self.device)\n",
      "C:\\Users\\Wan Jing\\Documents\\libact-torch\\libact\\query_strategies\\uncertainty_sampling.py:149: UserWarning: To copy construct from a tensor, it is recommended to use sourceTensor.clone().detach() or sourceTensor.clone().detach().requires_grad_(True), rather than torch.tensor(sourceTensor).\n",
      "  ex = torch.tensor(self.dataset.data[self.queried_hist_[-1]][0]).to(self.device)\n",
      "C:\\Users\\Wan Jing\\Documents\\libact-torch\\libact\\query_strategies\\representative_sampling.py:113: UserWarning: To copy construct from a tensor, it is recommended to use sourceTensor.clone().detach() or sourceTensor.clone().detach().requires_grad_(True), rather than torch.tensor(sourceTensor).\n",
      "  ex = torch.tensor(self.dataset.data[self.queried_hist_[-1]][0]).to(self.device)\n",
      "C:\\Users\\Wan Jing\\Documents\\libact-torch\\libact\\query_strategies\\random_sampling.py:86: UserWarning: To copy construct from a tensor, it is recommended to use sourceTensor.clone().detach() or sourceTensor.clone().detach().requires_grad_(True), rather than torch.tensor(sourceTensor).\n",
      "  ex = torch.tensor(self.dataset.data[self.queried_hist_[-1]][0]).to(self.device)\n",
      "C:\\Users\\Wan Jing\\.conda\\envs\\deepCB\\lib\\site-packages\\sklearn\\metrics\\_classification.py:1221: UndefinedMetricWarning: Precision is ill-defined and being set to 0.0 in labels with no predicted samples. Use `zero_division` parameter to control this behavior.\n",
      "  _warn_prf(average, modifier, msg_start, len(result))\n"
     ]
    },
    {
     "name": "stdout",
     "output_type": "stream",
     "text": [
      "  strategy  labeled_acc  testing_acc    reward\n",
      "9        2     0.298667     0.277778  0.279609\n",
      "Mon Aug 31 15:44:53 2020 ContextualBanditsActiveLearning query round: 11\n",
      "Strategy Chosen: UncertaintySampling\n"
     ]
    },
    {
     "name": "stderr",
     "output_type": "stream",
     "text": [
      "C:\\Users\\Wan Jing\\Documents\\libact-torch\\libact\\query_strategies\\contextual_bandits_active_learning.py:184: UserWarning: To copy construct from a tensor, it is recommended to use sourceTensor.clone().detach() or sourceTensor.clone().detach().requires_grad_(True), rather than torch.tensor(sourceTensor).\n",
      "  ex = torch.tensor(self.dataset.data[self.queried_hist_[-1]][0]).to(self.device)\n",
      "C:\\Users\\Wan Jing\\Documents\\libact-torch\\libact\\query_strategies\\uncertainty_sampling.py:149: UserWarning: To copy construct from a tensor, it is recommended to use sourceTensor.clone().detach() or sourceTensor.clone().detach().requires_grad_(True), rather than torch.tensor(sourceTensor).\n",
      "  ex = torch.tensor(self.dataset.data[self.queried_hist_[-1]][0]).to(self.device)\n",
      "C:\\Users\\Wan Jing\\Documents\\libact-torch\\libact\\query_strategies\\representative_sampling.py:113: UserWarning: To copy construct from a tensor, it is recommended to use sourceTensor.clone().detach() or sourceTensor.clone().detach().requires_grad_(True), rather than torch.tensor(sourceTensor).\n",
      "  ex = torch.tensor(self.dataset.data[self.queried_hist_[-1]][0]).to(self.device)\n",
      "C:\\Users\\Wan Jing\\Documents\\libact-torch\\libact\\query_strategies\\random_sampling.py:86: UserWarning: To copy construct from a tensor, it is recommended to use sourceTensor.clone().detach() or sourceTensor.clone().detach().requires_grad_(True), rather than torch.tensor(sourceTensor).\n",
      "  ex = torch.tensor(self.dataset.data[self.queried_hist_[-1]][0]).to(self.device)\n",
      "C:\\Users\\Wan Jing\\.conda\\envs\\deepCB\\lib\\site-packages\\sklearn\\metrics\\_classification.py:1221: UndefinedMetricWarning: Precision is ill-defined and being set to 0.0 in labels with no predicted samples. Use `zero_division` parameter to control this behavior.\n",
      "  _warn_prf(average, modifier, msg_start, len(result))\n"
     ]
    },
    {
     "name": "stdout",
     "output_type": "stream",
     "text": [
      "   strategy  labeled_acc  testing_acc    reward\n",
      "10        3     0.285806     0.266178  0.263399\n",
      "Mon Aug 31 15:45:02 2020 ContextualBanditsActiveLearning query round: 12\n",
      "Strategy Chosen: RepresentativeSampling\n"
     ]
    },
    {
     "name": "stderr",
     "output_type": "stream",
     "text": [
      "C:\\Users\\Wan Jing\\Documents\\libact-torch\\libact\\query_strategies\\representative_sampling.py:147: UserWarning: To copy construct from a tensor, it is recommended to use sourceTensor.clone().detach() or sourceTensor.clone().detach().requires_grad_(True), rather than torch.tensor(sourceTensor).\n",
      "  x = torch.tensor(x).to(self.device)\n",
      "C:\\Users\\Wan Jing\\Documents\\libact-torch\\libact\\query_strategies\\contextual_bandits_active_learning.py:184: UserWarning: To copy construct from a tensor, it is recommended to use sourceTensor.clone().detach() or sourceTensor.clone().detach().requires_grad_(True), rather than torch.tensor(sourceTensor).\n",
      "  ex = torch.tensor(self.dataset.data[self.queried_hist_[-1]][0]).to(self.device)\n",
      "C:\\Users\\Wan Jing\\Documents\\libact-torch\\libact\\query_strategies\\uncertainty_sampling.py:149: UserWarning: To copy construct from a tensor, it is recommended to use sourceTensor.clone().detach() or sourceTensor.clone().detach().requires_grad_(True), rather than torch.tensor(sourceTensor).\n",
      "  ex = torch.tensor(self.dataset.data[self.queried_hist_[-1]][0]).to(self.device)\n",
      "C:\\Users\\Wan Jing\\Documents\\libact-torch\\libact\\query_strategies\\representative_sampling.py:113: UserWarning: To copy construct from a tensor, it is recommended to use sourceTensor.clone().detach() or sourceTensor.clone().detach().requires_grad_(True), rather than torch.tensor(sourceTensor).\n",
      "  ex = torch.tensor(self.dataset.data[self.queried_hist_[-1]][0]).to(self.device)\n",
      "C:\\Users\\Wan Jing\\Documents\\libact-torch\\libact\\query_strategies\\random_sampling.py:86: UserWarning: To copy construct from a tensor, it is recommended to use sourceTensor.clone().detach() or sourceTensor.clone().detach().requires_grad_(True), rather than torch.tensor(sourceTensor).\n",
      "  ex = torch.tensor(self.dataset.data[self.queried_hist_[-1]][0]).to(self.device)\n",
      "C:\\Users\\Wan Jing\\.conda\\envs\\deepCB\\lib\\site-packages\\sklearn\\metrics\\_classification.py:1221: UndefinedMetricWarning: Precision is ill-defined and being set to 0.0 in labels with no predicted samples. Use `zero_division` parameter to control this behavior.\n",
      "  _warn_prf(average, modifier, msg_start, len(result))\n"
     ]
    },
    {
     "name": "stdout",
     "output_type": "stream",
     "text": [
      "   strategy  labeled_acc  testing_acc    reward\n",
      "11        4       0.2825     0.259768  0.258269\n",
      "Mon Aug 31 15:45:14 2020 ContextualBanditsActiveLearning query round: 13\n",
      "Strategy Chosen: RandomSampling\n"
     ]
    },
    {
     "name": "stderr",
     "output_type": "stream",
     "text": [
      "C:\\Users\\Wan Jing\\Documents\\libact-torch\\libact\\query_strategies\\contextual_bandits_active_learning.py:184: UserWarning: To copy construct from a tensor, it is recommended to use sourceTensor.clone().detach() or sourceTensor.clone().detach().requires_grad_(True), rather than torch.tensor(sourceTensor).\n",
      "  ex = torch.tensor(self.dataset.data[self.queried_hist_[-1]][0]).to(self.device)\n",
      "C:\\Users\\Wan Jing\\Documents\\libact-torch\\libact\\query_strategies\\uncertainty_sampling.py:149: UserWarning: To copy construct from a tensor, it is recommended to use sourceTensor.clone().detach() or sourceTensor.clone().detach().requires_grad_(True), rather than torch.tensor(sourceTensor).\n",
      "  ex = torch.tensor(self.dataset.data[self.queried_hist_[-1]][0]).to(self.device)\n",
      "C:\\Users\\Wan Jing\\Documents\\libact-torch\\libact\\query_strategies\\representative_sampling.py:113: UserWarning: To copy construct from a tensor, it is recommended to use sourceTensor.clone().detach() or sourceTensor.clone().detach().requires_grad_(True), rather than torch.tensor(sourceTensor).\n",
      "  ex = torch.tensor(self.dataset.data[self.queried_hist_[-1]][0]).to(self.device)\n",
      "C:\\Users\\Wan Jing\\Documents\\libact-torch\\libact\\query_strategies\\random_sampling.py:86: UserWarning: To copy construct from a tensor, it is recommended to use sourceTensor.clone().detach() or sourceTensor.clone().detach().requires_grad_(True), rather than torch.tensor(sourceTensor).\n",
      "  ex = torch.tensor(self.dataset.data[self.queried_hist_[-1]][0]).to(self.device)\n",
      "C:\\Users\\Wan Jing\\.conda\\envs\\deepCB\\lib\\site-packages\\sklearn\\metrics\\_classification.py:1221: UndefinedMetricWarning: Precision is ill-defined and being set to 0.0 in labels with no predicted samples. Use `zero_division` parameter to control this behavior.\n",
      "  _warn_prf(average, modifier, msg_start, len(result))\n"
     ]
    },
    {
     "name": "stdout",
     "output_type": "stream",
     "text": [
      "   strategy  labeled_acc  testing_acc    reward\n",
      "12        0     0.290303     0.268926  0.271142\n",
      "Mon Aug 31 15:45:19 2020 ContextualBanditsActiveLearning query round: 14\n",
      "Strategy Chosen: UncertaintySampling\n"
     ]
    },
    {
     "name": "stderr",
     "output_type": "stream",
     "text": [
      "C:\\Users\\Wan Jing\\Documents\\libact-torch\\libact\\query_strategies\\contextual_bandits_active_learning.py:184: UserWarning: To copy construct from a tensor, it is recommended to use sourceTensor.clone().detach() or sourceTensor.clone().detach().requires_grad_(True), rather than torch.tensor(sourceTensor).\n",
      "  ex = torch.tensor(self.dataset.data[self.queried_hist_[-1]][0]).to(self.device)\n",
      "C:\\Users\\Wan Jing\\Documents\\libact-torch\\libact\\query_strategies\\uncertainty_sampling.py:149: UserWarning: To copy construct from a tensor, it is recommended to use sourceTensor.clone().detach() or sourceTensor.clone().detach().requires_grad_(True), rather than torch.tensor(sourceTensor).\n",
      "  ex = torch.tensor(self.dataset.data[self.queried_hist_[-1]][0]).to(self.device)\n",
      "C:\\Users\\Wan Jing\\Documents\\libact-torch\\libact\\query_strategies\\representative_sampling.py:113: UserWarning: To copy construct from a tensor, it is recommended to use sourceTensor.clone().detach() or sourceTensor.clone().detach().requires_grad_(True), rather than torch.tensor(sourceTensor).\n",
      "  ex = torch.tensor(self.dataset.data[self.queried_hist_[-1]][0]).to(self.device)\n",
      "C:\\Users\\Wan Jing\\Documents\\libact-torch\\libact\\query_strategies\\random_sampling.py:86: UserWarning: To copy construct from a tensor, it is recommended to use sourceTensor.clone().detach() or sourceTensor.clone().detach().requires_grad_(True), rather than torch.tensor(sourceTensor).\n",
      "  ex = torch.tensor(self.dataset.data[self.queried_hist_[-1]][0]).to(self.device)\n",
      "C:\\Users\\Wan Jing\\.conda\\envs\\deepCB\\lib\\site-packages\\sklearn\\metrics\\_classification.py:1221: UndefinedMetricWarning: Precision is ill-defined and being set to 0.0 in labels with no predicted samples. Use `zero_division` parameter to control this behavior.\n",
      "  _warn_prf(average, modifier, msg_start, len(result))\n"
     ]
    },
    {
     "name": "stdout",
     "output_type": "stream",
     "text": [
      "   strategy  labeled_acc  testing_acc    reward\n",
      "13        1         0.27     0.252747  0.249067\n",
      "Mon Aug 31 15:45:28 2020 ContextualBanditsActiveLearning query round: 15\n",
      "Strategy Chosen: UncertaintySampling\n"
     ]
    },
    {
     "name": "stderr",
     "output_type": "stream",
     "text": [
      "C:\\Users\\Wan Jing\\Documents\\libact-torch\\libact\\query_strategies\\contextual_bandits_active_learning.py:184: UserWarning: To copy construct from a tensor, it is recommended to use sourceTensor.clone().detach() or sourceTensor.clone().detach().requires_grad_(True), rather than torch.tensor(sourceTensor).\n",
      "  ex = torch.tensor(self.dataset.data[self.queried_hist_[-1]][0]).to(self.device)\n",
      "C:\\Users\\Wan Jing\\Documents\\libact-torch\\libact\\query_strategies\\uncertainty_sampling.py:149: UserWarning: To copy construct from a tensor, it is recommended to use sourceTensor.clone().detach() or sourceTensor.clone().detach().requires_grad_(True), rather than torch.tensor(sourceTensor).\n",
      "  ex = torch.tensor(self.dataset.data[self.queried_hist_[-1]][0]).to(self.device)\n",
      "C:\\Users\\Wan Jing\\Documents\\libact-torch\\libact\\query_strategies\\representative_sampling.py:113: UserWarning: To copy construct from a tensor, it is recommended to use sourceTensor.clone().detach() or sourceTensor.clone().detach().requires_grad_(True), rather than torch.tensor(sourceTensor).\n",
      "  ex = torch.tensor(self.dataset.data[self.queried_hist_[-1]][0]).to(self.device)\n",
      "C:\\Users\\Wan Jing\\Documents\\libact-torch\\libact\\query_strategies\\random_sampling.py:86: UserWarning: To copy construct from a tensor, it is recommended to use sourceTensor.clone().detach() or sourceTensor.clone().detach().requires_grad_(True), rather than torch.tensor(sourceTensor).\n",
      "  ex = torch.tensor(self.dataset.data[self.queried_hist_[-1]][0]).to(self.device)\n",
      "C:\\Users\\Wan Jing\\.conda\\envs\\deepCB\\lib\\site-packages\\sklearn\\metrics\\_classification.py:1221: UndefinedMetricWarning: Precision is ill-defined and being set to 0.0 in labels with no predicted samples. Use `zero_division` parameter to control this behavior.\n",
      "  _warn_prf(average, modifier, msg_start, len(result))\n"
     ]
    },
    {
     "name": "stdout",
     "output_type": "stream",
     "text": [
      "   strategy  labeled_acc  testing_acc    reward\n",
      "14        2     0.277714     0.260684  0.262546\n",
      "Mon Aug 31 15:45:38 2020 ContextualBanditsActiveLearning query round: 16\n",
      "Strategy Chosen: UncertaintySampling\n"
     ]
    },
    {
     "name": "stderr",
     "output_type": "stream",
     "text": [
      "C:\\Users\\Wan Jing\\Documents\\libact-torch\\libact\\query_strategies\\contextual_bandits_active_learning.py:184: UserWarning: To copy construct from a tensor, it is recommended to use sourceTensor.clone().detach() or sourceTensor.clone().detach().requires_grad_(True), rather than torch.tensor(sourceTensor).\n",
      "  ex = torch.tensor(self.dataset.data[self.queried_hist_[-1]][0]).to(self.device)\n",
      "C:\\Users\\Wan Jing\\Documents\\libact-torch\\libact\\query_strategies\\uncertainty_sampling.py:149: UserWarning: To copy construct from a tensor, it is recommended to use sourceTensor.clone().detach() or sourceTensor.clone().detach().requires_grad_(True), rather than torch.tensor(sourceTensor).\n",
      "  ex = torch.tensor(self.dataset.data[self.queried_hist_[-1]][0]).to(self.device)\n",
      "C:\\Users\\Wan Jing\\Documents\\libact-torch\\libact\\query_strategies\\representative_sampling.py:113: UserWarning: To copy construct from a tensor, it is recommended to use sourceTensor.clone().detach() or sourceTensor.clone().detach().requires_grad_(True), rather than torch.tensor(sourceTensor).\n",
      "  ex = torch.tensor(self.dataset.data[self.queried_hist_[-1]][0]).to(self.device)\n",
      "C:\\Users\\Wan Jing\\Documents\\libact-torch\\libact\\query_strategies\\random_sampling.py:86: UserWarning: To copy construct from a tensor, it is recommended to use sourceTensor.clone().detach() or sourceTensor.clone().detach().requires_grad_(True), rather than torch.tensor(sourceTensor).\n",
      "  ex = torch.tensor(self.dataset.data[self.queried_hist_[-1]][0]).to(self.device)\n",
      "C:\\Users\\Wan Jing\\.conda\\envs\\deepCB\\lib\\site-packages\\sklearn\\metrics\\_classification.py:1221: UndefinedMetricWarning: Precision is ill-defined and being set to 0.0 in labels with no predicted samples. Use `zero_division` parameter to control this behavior.\n",
      "  _warn_prf(average, modifier, msg_start, len(result))\n"
     ]
    },
    {
     "name": "stdout",
     "output_type": "stream",
     "text": [
      "   strategy  labeled_acc  testing_acc  reward\n",
      "15        3     0.290556     0.284188  0.2902\n",
      "Mon Aug 31 15:45:47 2020 ContextualBanditsActiveLearning query round: 17\n",
      "Strategy Chosen: RepresentativeSampling\n"
     ]
    },
    {
     "name": "stderr",
     "output_type": "stream",
     "text": [
      "C:\\Users\\Wan Jing\\Documents\\libact-torch\\libact\\query_strategies\\representative_sampling.py:147: UserWarning: To copy construct from a tensor, it is recommended to use sourceTensor.clone().detach() or sourceTensor.clone().detach().requires_grad_(True), rather than torch.tensor(sourceTensor).\n",
      "  x = torch.tensor(x).to(self.device)\n",
      "C:\\Users\\Wan Jing\\Documents\\libact-torch\\libact\\query_strategies\\contextual_bandits_active_learning.py:184: UserWarning: To copy construct from a tensor, it is recommended to use sourceTensor.clone().detach() or sourceTensor.clone().detach().requires_grad_(True), rather than torch.tensor(sourceTensor).\n",
      "  ex = torch.tensor(self.dataset.data[self.queried_hist_[-1]][0]).to(self.device)\n",
      "C:\\Users\\Wan Jing\\Documents\\libact-torch\\libact\\query_strategies\\uncertainty_sampling.py:149: UserWarning: To copy construct from a tensor, it is recommended to use sourceTensor.clone().detach() or sourceTensor.clone().detach().requires_grad_(True), rather than torch.tensor(sourceTensor).\n",
      "  ex = torch.tensor(self.dataset.data[self.queried_hist_[-1]][0]).to(self.device)\n",
      "C:\\Users\\Wan Jing\\Documents\\libact-torch\\libact\\query_strategies\\representative_sampling.py:113: UserWarning: To copy construct from a tensor, it is recommended to use sourceTensor.clone().detach() or sourceTensor.clone().detach().requires_grad_(True), rather than torch.tensor(sourceTensor).\n",
      "  ex = torch.tensor(self.dataset.data[self.queried_hist_[-1]][0]).to(self.device)\n",
      "C:\\Users\\Wan Jing\\Documents\\libact-torch\\libact\\query_strategies\\random_sampling.py:86: UserWarning: To copy construct from a tensor, it is recommended to use sourceTensor.clone().detach() or sourceTensor.clone().detach().requires_grad_(True), rather than torch.tensor(sourceTensor).\n",
      "  ex = torch.tensor(self.dataset.data[self.queried_hist_[-1]][0]).to(self.device)\n",
      "C:\\Users\\Wan Jing\\.conda\\envs\\deepCB\\lib\\site-packages\\sklearn\\metrics\\_classification.py:1221: UndefinedMetricWarning: Precision is ill-defined and being set to 0.0 in labels with no predicted samples. Use `zero_division` parameter to control this behavior.\n",
      "  _warn_prf(average, modifier, msg_start, len(result))\n"
     ]
    },
    {
     "name": "stdout",
     "output_type": "stream",
     "text": [
      "   strategy  labeled_acc  testing_acc    reward\n",
      "16        4     0.287568     0.282662  0.282274\n",
      "Mon Aug 31 15:45:59 2020 ContextualBanditsActiveLearning query round: 18\n",
      "Strategy Chosen: RandomSampling\n"
     ]
    },
    {
     "name": "stderr",
     "output_type": "stream",
     "text": [
      "C:\\Users\\Wan Jing\\Documents\\libact-torch\\libact\\query_strategies\\contextual_bandits_active_learning.py:184: UserWarning: To copy construct from a tensor, it is recommended to use sourceTensor.clone().detach() or sourceTensor.clone().detach().requires_grad_(True), rather than torch.tensor(sourceTensor).\n",
      "  ex = torch.tensor(self.dataset.data[self.queried_hist_[-1]][0]).to(self.device)\n",
      "C:\\Users\\Wan Jing\\Documents\\libact-torch\\libact\\query_strategies\\uncertainty_sampling.py:149: UserWarning: To copy construct from a tensor, it is recommended to use sourceTensor.clone().detach() or sourceTensor.clone().detach().requires_grad_(True), rather than torch.tensor(sourceTensor).\n",
      "  ex = torch.tensor(self.dataset.data[self.queried_hist_[-1]][0]).to(self.device)\n",
      "C:\\Users\\Wan Jing\\Documents\\libact-torch\\libact\\query_strategies\\representative_sampling.py:113: UserWarning: To copy construct from a tensor, it is recommended to use sourceTensor.clone().detach() or sourceTensor.clone().detach().requires_grad_(True), rather than torch.tensor(sourceTensor).\n",
      "  ex = torch.tensor(self.dataset.data[self.queried_hist_[-1]][0]).to(self.device)\n",
      "C:\\Users\\Wan Jing\\Documents\\libact-torch\\libact\\query_strategies\\random_sampling.py:86: UserWarning: To copy construct from a tensor, it is recommended to use sourceTensor.clone().detach() or sourceTensor.clone().detach().requires_grad_(True), rather than torch.tensor(sourceTensor).\n",
      "  ex = torch.tensor(self.dataset.data[self.queried_hist_[-1]][0]).to(self.device)\n",
      "C:\\Users\\Wan Jing\\.conda\\envs\\deepCB\\lib\\site-packages\\sklearn\\metrics\\_classification.py:1221: UndefinedMetricWarning: Precision is ill-defined and being set to 0.0 in labels with no predicted samples. Use `zero_division` parameter to control this behavior.\n",
      "  _warn_prf(average, modifier, msg_start, len(result))\n"
     ]
    },
    {
     "name": "stdout",
     "output_type": "stream",
     "text": [
      "   strategy  labeled_acc  testing_acc    reward\n",
      "17        0     0.286842     0.284188  0.284578\n",
      "Mon Aug 31 15:46:05 2020 ContextualBanditsActiveLearning query round: 19\n",
      "Strategy Chosen: UncertaintySampling\n"
     ]
    },
    {
     "name": "stderr",
     "output_type": "stream",
     "text": [
      "C:\\Users\\Wan Jing\\Documents\\libact-torch\\libact\\query_strategies\\contextual_bandits_active_learning.py:184: UserWarning: To copy construct from a tensor, it is recommended to use sourceTensor.clone().detach() or sourceTensor.clone().detach().requires_grad_(True), rather than torch.tensor(sourceTensor).\n",
      "  ex = torch.tensor(self.dataset.data[self.queried_hist_[-1]][0]).to(self.device)\n",
      "C:\\Users\\Wan Jing\\Documents\\libact-torch\\libact\\query_strategies\\uncertainty_sampling.py:149: UserWarning: To copy construct from a tensor, it is recommended to use sourceTensor.clone().detach() or sourceTensor.clone().detach().requires_grad_(True), rather than torch.tensor(sourceTensor).\n",
      "  ex = torch.tensor(self.dataset.data[self.queried_hist_[-1]][0]).to(self.device)\n",
      "C:\\Users\\Wan Jing\\Documents\\libact-torch\\libact\\query_strategies\\representative_sampling.py:113: UserWarning: To copy construct from a tensor, it is recommended to use sourceTensor.clone().detach() or sourceTensor.clone().detach().requires_grad_(True), rather than torch.tensor(sourceTensor).\n",
      "  ex = torch.tensor(self.dataset.data[self.queried_hist_[-1]][0]).to(self.device)\n",
      "C:\\Users\\Wan Jing\\Documents\\libact-torch\\libact\\query_strategies\\random_sampling.py:86: UserWarning: To copy construct from a tensor, it is recommended to use sourceTensor.clone().detach() or sourceTensor.clone().detach().requires_grad_(True), rather than torch.tensor(sourceTensor).\n",
      "  ex = torch.tensor(self.dataset.data[self.queried_hist_[-1]][0]).to(self.device)\n",
      "C:\\Users\\Wan Jing\\.conda\\envs\\deepCB\\lib\\site-packages\\sklearn\\metrics\\_classification.py:1221: UndefinedMetricWarning: Precision is ill-defined and being set to 0.0 in labels with no predicted samples. Use `zero_division` parameter to control this behavior.\n",
      "  _warn_prf(average, modifier, msg_start, len(result))\n"
     ]
    },
    {
     "name": "stdout",
     "output_type": "stream",
     "text": [
      "   strategy  labeled_acc  testing_acc    reward\n",
      "18        1     0.283077     0.281441  0.280745\n",
      "Mon Aug 31 15:46:14 2020 ContextualBanditsActiveLearning query round: 20\n",
      "Strategy Chosen: UncertaintySampling\n"
     ]
    },
    {
     "name": "stderr",
     "output_type": "stream",
     "text": [
      "C:\\Users\\Wan Jing\\Documents\\libact-torch\\libact\\query_strategies\\contextual_bandits_active_learning.py:184: UserWarning: To copy construct from a tensor, it is recommended to use sourceTensor.clone().detach() or sourceTensor.clone().detach().requires_grad_(True), rather than torch.tensor(sourceTensor).\n",
      "  ex = torch.tensor(self.dataset.data[self.queried_hist_[-1]][0]).to(self.device)\n",
      "C:\\Users\\Wan Jing\\Documents\\libact-torch\\libact\\query_strategies\\uncertainty_sampling.py:149: UserWarning: To copy construct from a tensor, it is recommended to use sourceTensor.clone().detach() or sourceTensor.clone().detach().requires_grad_(True), rather than torch.tensor(sourceTensor).\n",
      "  ex = torch.tensor(self.dataset.data[self.queried_hist_[-1]][0]).to(self.device)\n",
      "C:\\Users\\Wan Jing\\Documents\\libact-torch\\libact\\query_strategies\\representative_sampling.py:113: UserWarning: To copy construct from a tensor, it is recommended to use sourceTensor.clone().detach() or sourceTensor.clone().detach().requires_grad_(True), rather than torch.tensor(sourceTensor).\n",
      "  ex = torch.tensor(self.dataset.data[self.queried_hist_[-1]][0]).to(self.device)\n",
      "C:\\Users\\Wan Jing\\Documents\\libact-torch\\libact\\query_strategies\\random_sampling.py:86: UserWarning: To copy construct from a tensor, it is recommended to use sourceTensor.clone().detach() or sourceTensor.clone().detach().requires_grad_(True), rather than torch.tensor(sourceTensor).\n",
      "  ex = torch.tensor(self.dataset.data[self.queried_hist_[-1]][0]).to(self.device)\n",
      "C:\\Users\\Wan Jing\\.conda\\envs\\deepCB\\lib\\site-packages\\sklearn\\metrics\\_classification.py:1221: UndefinedMetricWarning: Precision is ill-defined and being set to 0.0 in labels with no predicted samples. Use `zero_division` parameter to control this behavior.\n",
      "  _warn_prf(average, modifier, msg_start, len(result))\n"
     ]
    },
    {
     "name": "stdout",
     "output_type": "stream",
     "text": [
      "   strategy  labeled_acc  testing_acc    reward\n",
      "19        2       0.2865     0.278694  0.278004\n",
      "Mon Aug 31 15:46:24 2020 ContextualBanditsActiveLearning query round: 21\n",
      "Strategy Chosen: UncertaintySampling\n"
     ]
    },
    {
     "name": "stderr",
     "output_type": "stream",
     "text": [
      "C:\\Users\\Wan Jing\\Documents\\libact-torch\\libact\\query_strategies\\contextual_bandits_active_learning.py:184: UserWarning: To copy construct from a tensor, it is recommended to use sourceTensor.clone().detach() or sourceTensor.clone().detach().requires_grad_(True), rather than torch.tensor(sourceTensor).\n",
      "  ex = torch.tensor(self.dataset.data[self.queried_hist_[-1]][0]).to(self.device)\n",
      "C:\\Users\\Wan Jing\\Documents\\libact-torch\\libact\\query_strategies\\uncertainty_sampling.py:149: UserWarning: To copy construct from a tensor, it is recommended to use sourceTensor.clone().detach() or sourceTensor.clone().detach().requires_grad_(True), rather than torch.tensor(sourceTensor).\n",
      "  ex = torch.tensor(self.dataset.data[self.queried_hist_[-1]][0]).to(self.device)\n",
      "C:\\Users\\Wan Jing\\Documents\\libact-torch\\libact\\query_strategies\\representative_sampling.py:113: UserWarning: To copy construct from a tensor, it is recommended to use sourceTensor.clone().detach() or sourceTensor.clone().detach().requires_grad_(True), rather than torch.tensor(sourceTensor).\n",
      "  ex = torch.tensor(self.dataset.data[self.queried_hist_[-1]][0]).to(self.device)\n",
      "C:\\Users\\Wan Jing\\Documents\\libact-torch\\libact\\query_strategies\\random_sampling.py:86: UserWarning: To copy construct from a tensor, it is recommended to use sourceTensor.clone().detach() or sourceTensor.clone().detach().requires_grad_(True), rather than torch.tensor(sourceTensor).\n",
      "  ex = torch.tensor(self.dataset.data[self.queried_hist_[-1]][0]).to(self.device)\n",
      "C:\\Users\\Wan Jing\\.conda\\envs\\deepCB\\lib\\site-packages\\sklearn\\metrics\\_classification.py:1221: UndefinedMetricWarning: Precision is ill-defined and being set to 0.0 in labels with no predicted samples. Use `zero_division` parameter to control this behavior.\n",
      "  _warn_prf(average, modifier, msg_start, len(result))\n"
     ]
    },
    {
     "name": "stdout",
     "output_type": "stream",
     "text": [
      "   strategy  labeled_acc  testing_acc    reward\n",
      "20        3     0.292195     0.277473  0.277168\n",
      "Mon Aug 31 15:46:33 2020 ContextualBanditsActiveLearning query round: 22\n",
      "Strategy Chosen: RepresentativeSampling\n"
     ]
    },
    {
     "name": "stderr",
     "output_type": "stream",
     "text": [
      "C:\\Users\\Wan Jing\\Documents\\libact-torch\\libact\\query_strategies\\representative_sampling.py:147: UserWarning: To copy construct from a tensor, it is recommended to use sourceTensor.clone().detach() or sourceTensor.clone().detach().requires_grad_(True), rather than torch.tensor(sourceTensor).\n",
      "  x = torch.tensor(x).to(self.device)\n",
      "C:\\Users\\Wan Jing\\Documents\\libact-torch\\libact\\query_strategies\\contextual_bandits_active_learning.py:184: UserWarning: To copy construct from a tensor, it is recommended to use sourceTensor.clone().detach() or sourceTensor.clone().detach().requires_grad_(True), rather than torch.tensor(sourceTensor).\n",
      "  ex = torch.tensor(self.dataset.data[self.queried_hist_[-1]][0]).to(self.device)\n",
      "C:\\Users\\Wan Jing\\Documents\\libact-torch\\libact\\query_strategies\\uncertainty_sampling.py:149: UserWarning: To copy construct from a tensor, it is recommended to use sourceTensor.clone().detach() or sourceTensor.clone().detach().requires_grad_(True), rather than torch.tensor(sourceTensor).\n",
      "  ex = torch.tensor(self.dataset.data[self.queried_hist_[-1]][0]).to(self.device)\n",
      "C:\\Users\\Wan Jing\\Documents\\libact-torch\\libact\\query_strategies\\representative_sampling.py:113: UserWarning: To copy construct from a tensor, it is recommended to use sourceTensor.clone().detach() or sourceTensor.clone().detach().requires_grad_(True), rather than torch.tensor(sourceTensor).\n",
      "  ex = torch.tensor(self.dataset.data[self.queried_hist_[-1]][0]).to(self.device)\n",
      "C:\\Users\\Wan Jing\\Documents\\libact-torch\\libact\\query_strategies\\random_sampling.py:86: UserWarning: To copy construct from a tensor, it is recommended to use sourceTensor.clone().detach() or sourceTensor.clone().detach().requires_grad_(True), rather than torch.tensor(sourceTensor).\n",
      "  ex = torch.tensor(self.dataset.data[self.queried_hist_[-1]][0]).to(self.device)\n",
      "C:\\Users\\Wan Jing\\.conda\\envs\\deepCB\\lib\\site-packages\\sklearn\\metrics\\_classification.py:1221: UndefinedMetricWarning: Precision is ill-defined and being set to 0.0 in labels with no predicted samples. Use `zero_division` parameter to control this behavior.\n",
      "  _warn_prf(average, modifier, msg_start, len(result))\n"
     ]
    },
    {
     "name": "stdout",
     "output_type": "stream",
     "text": [
      "   strategy  labeled_acc  testing_acc    reward\n",
      "21        4     0.295238     0.287241  0.289766\n",
      "Mon Aug 31 15:46:46 2020 ContextualBanditsActiveLearning query round: 23\n",
      "Strategy Chosen: RepresentativeSampling\n"
     ]
    },
    {
     "name": "stderr",
     "output_type": "stream",
     "text": [
      "C:\\Users\\Wan Jing\\Documents\\libact-torch\\libact\\query_strategies\\representative_sampling.py:147: UserWarning: To copy construct from a tensor, it is recommended to use sourceTensor.clone().detach() or sourceTensor.clone().detach().requires_grad_(True), rather than torch.tensor(sourceTensor).\n",
      "  x = torch.tensor(x).to(self.device)\n",
      "C:\\Users\\Wan Jing\\Documents\\libact-torch\\libact\\query_strategies\\contextual_bandits_active_learning.py:184: UserWarning: To copy construct from a tensor, it is recommended to use sourceTensor.clone().detach() or sourceTensor.clone().detach().requires_grad_(True), rather than torch.tensor(sourceTensor).\n",
      "  ex = torch.tensor(self.dataset.data[self.queried_hist_[-1]][0]).to(self.device)\n",
      "C:\\Users\\Wan Jing\\Documents\\libact-torch\\libact\\query_strategies\\uncertainty_sampling.py:149: UserWarning: To copy construct from a tensor, it is recommended to use sourceTensor.clone().detach() or sourceTensor.clone().detach().requires_grad_(True), rather than torch.tensor(sourceTensor).\n",
      "  ex = torch.tensor(self.dataset.data[self.queried_hist_[-1]][0]).to(self.device)\n",
      "C:\\Users\\Wan Jing\\Documents\\libact-torch\\libact\\query_strategies\\representative_sampling.py:113: UserWarning: To copy construct from a tensor, it is recommended to use sourceTensor.clone().detach() or sourceTensor.clone().detach().requires_grad_(True), rather than torch.tensor(sourceTensor).\n",
      "  ex = torch.tensor(self.dataset.data[self.queried_hist_[-1]][0]).to(self.device)\n",
      "C:\\Users\\Wan Jing\\Documents\\libact-torch\\libact\\query_strategies\\random_sampling.py:86: UserWarning: To copy construct from a tensor, it is recommended to use sourceTensor.clone().detach() or sourceTensor.clone().detach().requires_grad_(True), rather than torch.tensor(sourceTensor).\n",
      "  ex = torch.tensor(self.dataset.data[self.queried_hist_[-1]][0]).to(self.device)\n",
      "C:\\Users\\Wan Jing\\.conda\\envs\\deepCB\\lib\\site-packages\\sklearn\\metrics\\_classification.py:1221: UndefinedMetricWarning: Precision is ill-defined and being set to 0.0 in labels with no predicted samples. Use `zero_division` parameter to control this behavior.\n",
      "  _warn_prf(average, modifier, msg_start, len(result))\n"
     ]
    },
    {
     "name": "stdout",
     "output_type": "stream",
     "text": [
      "   strategy  labeled_acc  testing_acc   reward\n",
      "22        4     0.295349     0.284493  0.28379\n",
      "Mon Aug 31 15:46:59 2020 ContextualBanditsActiveLearning query round: 24\n",
      "Strategy Chosen: UncertaintySampling\n"
     ]
    },
    {
     "name": "stderr",
     "output_type": "stream",
     "text": [
      "C:\\Users\\Wan Jing\\Documents\\libact-torch\\libact\\query_strategies\\contextual_bandits_active_learning.py:184: UserWarning: To copy construct from a tensor, it is recommended to use sourceTensor.clone().detach() or sourceTensor.clone().detach().requires_grad_(True), rather than torch.tensor(sourceTensor).\n",
      "  ex = torch.tensor(self.dataset.data[self.queried_hist_[-1]][0]).to(self.device)\n",
      "C:\\Users\\Wan Jing\\Documents\\libact-torch\\libact\\query_strategies\\uncertainty_sampling.py:149: UserWarning: To copy construct from a tensor, it is recommended to use sourceTensor.clone().detach() or sourceTensor.clone().detach().requires_grad_(True), rather than torch.tensor(sourceTensor).\n",
      "  ex = torch.tensor(self.dataset.data[self.queried_hist_[-1]][0]).to(self.device)\n",
      "C:\\Users\\Wan Jing\\Documents\\libact-torch\\libact\\query_strategies\\representative_sampling.py:113: UserWarning: To copy construct from a tensor, it is recommended to use sourceTensor.clone().detach() or sourceTensor.clone().detach().requires_grad_(True), rather than torch.tensor(sourceTensor).\n",
      "  ex = torch.tensor(self.dataset.data[self.queried_hist_[-1]][0]).to(self.device)\n",
      "C:\\Users\\Wan Jing\\Documents\\libact-torch\\libact\\query_strategies\\random_sampling.py:86: UserWarning: To copy construct from a tensor, it is recommended to use sourceTensor.clone().detach() or sourceTensor.clone().detach().requires_grad_(True), rather than torch.tensor(sourceTensor).\n",
      "  ex = torch.tensor(self.dataset.data[self.queried_hist_[-1]][0]).to(self.device)\n",
      "C:\\Users\\Wan Jing\\.conda\\envs\\deepCB\\lib\\site-packages\\sklearn\\metrics\\_classification.py:1221: UndefinedMetricWarning: Precision is ill-defined and being set to 0.0 in labels with no predicted samples. Use `zero_division` parameter to control this behavior.\n",
      "  _warn_prf(average, modifier, msg_start, len(result))\n"
     ]
    },
    {
     "name": "stdout",
     "output_type": "stream",
     "text": [
      "   strategy  labeled_acc  testing_acc    reward\n",
      "23        1     0.283636     0.281746  0.281049\n",
      "Mon Aug 31 15:47:09 2020 ContextualBanditsActiveLearning query round: 25\n",
      "Strategy Chosen: UncertaintySampling\n"
     ]
    },
    {
     "name": "stderr",
     "output_type": "stream",
     "text": [
      "C:\\Users\\Wan Jing\\Documents\\libact-torch\\libact\\query_strategies\\contextual_bandits_active_learning.py:184: UserWarning: To copy construct from a tensor, it is recommended to use sourceTensor.clone().detach() or sourceTensor.clone().detach().requires_grad_(True), rather than torch.tensor(sourceTensor).\n",
      "  ex = torch.tensor(self.dataset.data[self.queried_hist_[-1]][0]).to(self.device)\n",
      "C:\\Users\\Wan Jing\\Documents\\libact-torch\\libact\\query_strategies\\uncertainty_sampling.py:149: UserWarning: To copy construct from a tensor, it is recommended to use sourceTensor.clone().detach() or sourceTensor.clone().detach().requires_grad_(True), rather than torch.tensor(sourceTensor).\n",
      "  ex = torch.tensor(self.dataset.data[self.queried_hist_[-1]][0]).to(self.device)\n",
      "C:\\Users\\Wan Jing\\Documents\\libact-torch\\libact\\query_strategies\\representative_sampling.py:113: UserWarning: To copy construct from a tensor, it is recommended to use sourceTensor.clone().detach() or sourceTensor.clone().detach().requires_grad_(True), rather than torch.tensor(sourceTensor).\n",
      "  ex = torch.tensor(self.dataset.data[self.queried_hist_[-1]][0]).to(self.device)\n",
      "C:\\Users\\Wan Jing\\Documents\\libact-torch\\libact\\query_strategies\\random_sampling.py:86: UserWarning: To copy construct from a tensor, it is recommended to use sourceTensor.clone().detach() or sourceTensor.clone().detach().requires_grad_(True), rather than torch.tensor(sourceTensor).\n",
      "  ex = torch.tensor(self.dataset.data[self.queried_hist_[-1]][0]).to(self.device)\n",
      "C:\\Users\\Wan Jing\\.conda\\envs\\deepCB\\lib\\site-packages\\sklearn\\metrics\\_classification.py:1221: UndefinedMetricWarning: Precision is ill-defined and being set to 0.0 in labels with no predicted samples. Use `zero_division` parameter to control this behavior.\n",
      "  _warn_prf(average, modifier, msg_start, len(result))\n"
     ]
    },
    {
     "name": "stdout",
     "output_type": "stream",
     "text": [
      "   strategy  labeled_acc  testing_acc    reward\n",
      "24        3     0.288444     0.282051  0.282129\n",
      "Mon Aug 31 15:47:18 2020 ContextualBanditsActiveLearning query round: 26\n",
      "Strategy Chosen: RandomSampling\n"
     ]
    },
    {
     "name": "stderr",
     "output_type": "stream",
     "text": [
      "C:\\Users\\Wan Jing\\Documents\\libact-torch\\libact\\query_strategies\\contextual_bandits_active_learning.py:184: UserWarning: To copy construct from a tensor, it is recommended to use sourceTensor.clone().detach() or sourceTensor.clone().detach().requires_grad_(True), rather than torch.tensor(sourceTensor).\n",
      "  ex = torch.tensor(self.dataset.data[self.queried_hist_[-1]][0]).to(self.device)\n",
      "C:\\Users\\Wan Jing\\Documents\\libact-torch\\libact\\query_strategies\\uncertainty_sampling.py:149: UserWarning: To copy construct from a tensor, it is recommended to use sourceTensor.clone().detach() or sourceTensor.clone().detach().requires_grad_(True), rather than torch.tensor(sourceTensor).\n",
      "  ex = torch.tensor(self.dataset.data[self.queried_hist_[-1]][0]).to(self.device)\n",
      "C:\\Users\\Wan Jing\\Documents\\libact-torch\\libact\\query_strategies\\representative_sampling.py:113: UserWarning: To copy construct from a tensor, it is recommended to use sourceTensor.clone().detach() or sourceTensor.clone().detach().requires_grad_(True), rather than torch.tensor(sourceTensor).\n",
      "  ex = torch.tensor(self.dataset.data[self.queried_hist_[-1]][0]).to(self.device)\n",
      "C:\\Users\\Wan Jing\\Documents\\libact-torch\\libact\\query_strategies\\random_sampling.py:86: UserWarning: To copy construct from a tensor, it is recommended to use sourceTensor.clone().detach() or sourceTensor.clone().detach().requires_grad_(True), rather than torch.tensor(sourceTensor).\n",
      "  ex = torch.tensor(self.dataset.data[self.queried_hist_[-1]][0]).to(self.device)\n",
      "C:\\Users\\Wan Jing\\.conda\\envs\\deepCB\\lib\\site-packages\\sklearn\\metrics\\_classification.py:1221: UndefinedMetricWarning: Precision is ill-defined and being set to 0.0 in labels with no predicted samples. Use `zero_division` parameter to control this behavior.\n",
      "  _warn_prf(average, modifier, msg_start, len(result))\n"
     ]
    },
    {
     "name": "stdout",
     "output_type": "stream",
     "text": [
      "   strategy  labeled_acc  testing_acc   reward\n",
      "25        0     0.289565     0.280525  0.28014\n",
      "Mon Aug 31 15:47:24 2020 ContextualBanditsActiveLearning query round: 27\n",
      "Strategy Chosen: UncertaintySampling\n"
     ]
    },
    {
     "name": "stderr",
     "output_type": "stream",
     "text": [
      "C:\\Users\\Wan Jing\\Documents\\libact-torch\\libact\\query_strategies\\contextual_bandits_active_learning.py:184: UserWarning: To copy construct from a tensor, it is recommended to use sourceTensor.clone().detach() or sourceTensor.clone().detach().requires_grad_(True), rather than torch.tensor(sourceTensor).\n",
      "  ex = torch.tensor(self.dataset.data[self.queried_hist_[-1]][0]).to(self.device)\n",
      "C:\\Users\\Wan Jing\\Documents\\libact-torch\\libact\\query_strategies\\uncertainty_sampling.py:149: UserWarning: To copy construct from a tensor, it is recommended to use sourceTensor.clone().detach() or sourceTensor.clone().detach().requires_grad_(True), rather than torch.tensor(sourceTensor).\n",
      "  ex = torch.tensor(self.dataset.data[self.queried_hist_[-1]][0]).to(self.device)\n",
      "C:\\Users\\Wan Jing\\Documents\\libact-torch\\libact\\query_strategies\\representative_sampling.py:113: UserWarning: To copy construct from a tensor, it is recommended to use sourceTensor.clone().detach() or sourceTensor.clone().detach().requires_grad_(True), rather than torch.tensor(sourceTensor).\n",
      "  ex = torch.tensor(self.dataset.data[self.queried_hist_[-1]][0]).to(self.device)\n",
      "C:\\Users\\Wan Jing\\Documents\\libact-torch\\libact\\query_strategies\\random_sampling.py:86: UserWarning: To copy construct from a tensor, it is recommended to use sourceTensor.clone().detach() or sourceTensor.clone().detach().requires_grad_(True), rather than torch.tensor(sourceTensor).\n",
      "  ex = torch.tensor(self.dataset.data[self.queried_hist_[-1]][0]).to(self.device)\n",
      "C:\\Users\\Wan Jing\\.conda\\envs\\deepCB\\lib\\site-packages\\sklearn\\metrics\\_classification.py:1221: UndefinedMetricWarning: Precision is ill-defined and being set to 0.0 in labels with no predicted samples. Use `zero_division` parameter to control this behavior.\n",
      "  _warn_prf(average, modifier, msg_start, len(result))\n"
     ]
    },
    {
     "name": "stdout",
     "output_type": "stream",
     "text": [
      "   strategy  labeled_acc  testing_acc    reward\n",
      "26        1      0.28766     0.285714  0.287049\n",
      "Mon Aug 31 15:47:34 2020 ContextualBanditsActiveLearning query round: 28\n",
      "Strategy Chosen: UncertaintySampling\n"
     ]
    },
    {
     "name": "stderr",
     "output_type": "stream",
     "text": [
      "C:\\Users\\Wan Jing\\Documents\\libact-torch\\libact\\query_strategies\\contextual_bandits_active_learning.py:184: UserWarning: To copy construct from a tensor, it is recommended to use sourceTensor.clone().detach() or sourceTensor.clone().detach().requires_grad_(True), rather than torch.tensor(sourceTensor).\n",
      "  ex = torch.tensor(self.dataset.data[self.queried_hist_[-1]][0]).to(self.device)\n",
      "C:\\Users\\Wan Jing\\Documents\\libact-torch\\libact\\query_strategies\\uncertainty_sampling.py:149: UserWarning: To copy construct from a tensor, it is recommended to use sourceTensor.clone().detach() or sourceTensor.clone().detach().requires_grad_(True), rather than torch.tensor(sourceTensor).\n",
      "  ex = torch.tensor(self.dataset.data[self.queried_hist_[-1]][0]).to(self.device)\n",
      "C:\\Users\\Wan Jing\\Documents\\libact-torch\\libact\\query_strategies\\representative_sampling.py:113: UserWarning: To copy construct from a tensor, it is recommended to use sourceTensor.clone().detach() or sourceTensor.clone().detach().requires_grad_(True), rather than torch.tensor(sourceTensor).\n",
      "  ex = torch.tensor(self.dataset.data[self.queried_hist_[-1]][0]).to(self.device)\n",
      "C:\\Users\\Wan Jing\\Documents\\libact-torch\\libact\\query_strategies\\random_sampling.py:86: UserWarning: To copy construct from a tensor, it is recommended to use sourceTensor.clone().detach() or sourceTensor.clone().detach().requires_grad_(True), rather than torch.tensor(sourceTensor).\n",
      "  ex = torch.tensor(self.dataset.data[self.queried_hist_[-1]][0]).to(self.device)\n",
      "C:\\Users\\Wan Jing\\.conda\\envs\\deepCB\\lib\\site-packages\\sklearn\\metrics\\_classification.py:1221: UndefinedMetricWarning: Precision is ill-defined and being set to 0.0 in labels with no predicted samples. Use `zero_division` parameter to control this behavior.\n",
      "  _warn_prf(average, modifier, msg_start, len(result))\n"
     ]
    },
    {
     "name": "stdout",
     "output_type": "stream",
     "text": [
      "   strategy  labeled_acc  testing_acc   reward\n",
      "27        2      0.29125     0.288767  0.28956\n",
      "Mon Aug 31 15:47:44 2020 ContextualBanditsActiveLearning query round: 29\n",
      "Strategy Chosen: RepresentativeSampling\n"
     ]
    },
    {
     "name": "stderr",
     "output_type": "stream",
     "text": [
      "C:\\Users\\Wan Jing\\Documents\\libact-torch\\libact\\query_strategies\\representative_sampling.py:147: UserWarning: To copy construct from a tensor, it is recommended to use sourceTensor.clone().detach() or sourceTensor.clone().detach().requires_grad_(True), rather than torch.tensor(sourceTensor).\n",
      "  x = torch.tensor(x).to(self.device)\n",
      "C:\\Users\\Wan Jing\\Documents\\libact-torch\\libact\\query_strategies\\contextual_bandits_active_learning.py:184: UserWarning: To copy construct from a tensor, it is recommended to use sourceTensor.clone().detach() or sourceTensor.clone().detach().requires_grad_(True), rather than torch.tensor(sourceTensor).\n",
      "  ex = torch.tensor(self.dataset.data[self.queried_hist_[-1]][0]).to(self.device)\n",
      "C:\\Users\\Wan Jing\\Documents\\libact-torch\\libact\\query_strategies\\uncertainty_sampling.py:149: UserWarning: To copy construct from a tensor, it is recommended to use sourceTensor.clone().detach() or sourceTensor.clone().detach().requires_grad_(True), rather than torch.tensor(sourceTensor).\n",
      "  ex = torch.tensor(self.dataset.data[self.queried_hist_[-1]][0]).to(self.device)\n",
      "C:\\Users\\Wan Jing\\Documents\\libact-torch\\libact\\query_strategies\\representative_sampling.py:113: UserWarning: To copy construct from a tensor, it is recommended to use sourceTensor.clone().detach() or sourceTensor.clone().detach().requires_grad_(True), rather than torch.tensor(sourceTensor).\n",
      "  ex = torch.tensor(self.dataset.data[self.queried_hist_[-1]][0]).to(self.device)\n",
      "C:\\Users\\Wan Jing\\Documents\\libact-torch\\libact\\query_strategies\\random_sampling.py:86: UserWarning: To copy construct from a tensor, it is recommended to use sourceTensor.clone().detach() or sourceTensor.clone().detach().requires_grad_(True), rather than torch.tensor(sourceTensor).\n",
      "  ex = torch.tensor(self.dataset.data[self.queried_hist_[-1]][0]).to(self.device)\n",
      "C:\\Users\\Wan Jing\\.conda\\envs\\deepCB\\lib\\site-packages\\sklearn\\metrics\\_classification.py:1221: UndefinedMetricWarning: Precision is ill-defined and being set to 0.0 in labels with no predicted samples. Use `zero_division` parameter to control this behavior.\n",
      "  _warn_prf(average, modifier, msg_start, len(result))\n"
     ]
    },
    {
     "name": "stdout",
     "output_type": "stream",
     "text": [
      "   strategy  labeled_acc  testing_acc    reward\n",
      "28        4     0.298367     0.289377  0.289536\n",
      "Mon Aug 31 15:47:57 2020 ContextualBanditsActiveLearning query round: 30\n",
      "Strategy Chosen: RepresentativeSampling\n"
     ]
    },
    {
     "name": "stderr",
     "output_type": "stream",
     "text": [
      "C:\\Users\\Wan Jing\\Documents\\libact-torch\\libact\\query_strategies\\representative_sampling.py:147: UserWarning: To copy construct from a tensor, it is recommended to use sourceTensor.clone().detach() or sourceTensor.clone().detach().requires_grad_(True), rather than torch.tensor(sourceTensor).\n",
      "  x = torch.tensor(x).to(self.device)\n",
      "C:\\Users\\Wan Jing\\Documents\\libact-torch\\libact\\query_strategies\\contextual_bandits_active_learning.py:184: UserWarning: To copy construct from a tensor, it is recommended to use sourceTensor.clone().detach() or sourceTensor.clone().detach().requires_grad_(True), rather than torch.tensor(sourceTensor).\n",
      "  ex = torch.tensor(self.dataset.data[self.queried_hist_[-1]][0]).to(self.device)\n",
      "C:\\Users\\Wan Jing\\Documents\\libact-torch\\libact\\query_strategies\\uncertainty_sampling.py:149: UserWarning: To copy construct from a tensor, it is recommended to use sourceTensor.clone().detach() or sourceTensor.clone().detach().requires_grad_(True), rather than torch.tensor(sourceTensor).\n",
      "  ex = torch.tensor(self.dataset.data[self.queried_hist_[-1]][0]).to(self.device)\n",
      "C:\\Users\\Wan Jing\\Documents\\libact-torch\\libact\\query_strategies\\representative_sampling.py:113: UserWarning: To copy construct from a tensor, it is recommended to use sourceTensor.clone().detach() or sourceTensor.clone().detach().requires_grad_(True), rather than torch.tensor(sourceTensor).\n",
      "  ex = torch.tensor(self.dataset.data[self.queried_hist_[-1]][0]).to(self.device)\n",
      "C:\\Users\\Wan Jing\\Documents\\libact-torch\\libact\\query_strategies\\random_sampling.py:86: UserWarning: To copy construct from a tensor, it is recommended to use sourceTensor.clone().detach() or sourceTensor.clone().detach().requires_grad_(True), rather than torch.tensor(sourceTensor).\n",
      "  ex = torch.tensor(self.dataset.data[self.queried_hist_[-1]][0]).to(self.device)\n",
      "C:\\Users\\Wan Jing\\.conda\\envs\\deepCB\\lib\\site-packages\\sklearn\\metrics\\_classification.py:1221: UndefinedMetricWarning: Precision is ill-defined and being set to 0.0 in labels with no predicted samples. Use `zero_division` parameter to control this behavior.\n",
      "  _warn_prf(average, modifier, msg_start, len(result))\n"
     ]
    },
    {
     "name": "stdout",
     "output_type": "stream",
     "text": [
      "   strategy  labeled_acc  testing_acc    reward\n",
      "29        4          0.3      0.29243  0.293233\n",
      "Mon Aug 31 15:48:10 2020 ContextualBanditsActiveLearning query round: 31\n",
      "Strategy Chosen: UncertaintySampling\n"
     ]
    },
    {
     "name": "stderr",
     "output_type": "stream",
     "text": [
      "C:\\Users\\Wan Jing\\Documents\\libact-torch\\libact\\query_strategies\\contextual_bandits_active_learning.py:184: UserWarning: To copy construct from a tensor, it is recommended to use sourceTensor.clone().detach() or sourceTensor.clone().detach().requires_grad_(True), rather than torch.tensor(sourceTensor).\n",
      "  ex = torch.tensor(self.dataset.data[self.queried_hist_[-1]][0]).to(self.device)\n",
      "C:\\Users\\Wan Jing\\Documents\\libact-torch\\libact\\query_strategies\\uncertainty_sampling.py:149: UserWarning: To copy construct from a tensor, it is recommended to use sourceTensor.clone().detach() or sourceTensor.clone().detach().requires_grad_(True), rather than torch.tensor(sourceTensor).\n",
      "  ex = torch.tensor(self.dataset.data[self.queried_hist_[-1]][0]).to(self.device)\n",
      "C:\\Users\\Wan Jing\\Documents\\libact-torch\\libact\\query_strategies\\representative_sampling.py:113: UserWarning: To copy construct from a tensor, it is recommended to use sourceTensor.clone().detach() or sourceTensor.clone().detach().requires_grad_(True), rather than torch.tensor(sourceTensor).\n",
      "  ex = torch.tensor(self.dataset.data[self.queried_hist_[-1]][0]).to(self.device)\n",
      "C:\\Users\\Wan Jing\\Documents\\libact-torch\\libact\\query_strategies\\random_sampling.py:86: UserWarning: To copy construct from a tensor, it is recommended to use sourceTensor.clone().detach() or sourceTensor.clone().detach().requires_grad_(True), rather than torch.tensor(sourceTensor).\n",
      "  ex = torch.tensor(self.dataset.data[self.queried_hist_[-1]][0]).to(self.device)\n",
      "C:\\Users\\Wan Jing\\.conda\\envs\\deepCB\\lib\\site-packages\\sklearn\\metrics\\_classification.py:1221: UndefinedMetricWarning: Precision is ill-defined and being set to 0.0 in labels with no predicted samples. Use `zero_division` parameter to control this behavior.\n",
      "  _warn_prf(average, modifier, msg_start, len(result))\n"
     ]
    },
    {
     "name": "stdout",
     "output_type": "stream",
     "text": [
      "   strategy  labeled_acc  testing_acc    reward\n",
      "30        3     0.300784     0.288156  0.287048\n",
      "Mon Aug 31 15:48:20 2020 ContextualBanditsActiveLearning query round: 32\n",
      "Strategy Chosen: UncertaintySampling\n"
     ]
    },
    {
     "name": "stderr",
     "output_type": "stream",
     "text": [
      "C:\\Users\\Wan Jing\\Documents\\libact-torch\\libact\\query_strategies\\contextual_bandits_active_learning.py:184: UserWarning: To copy construct from a tensor, it is recommended to use sourceTensor.clone().detach() or sourceTensor.clone().detach().requires_grad_(True), rather than torch.tensor(sourceTensor).\n",
      "  ex = torch.tensor(self.dataset.data[self.queried_hist_[-1]][0]).to(self.device)\n",
      "C:\\Users\\Wan Jing\\Documents\\libact-torch\\libact\\query_strategies\\uncertainty_sampling.py:149: UserWarning: To copy construct from a tensor, it is recommended to use sourceTensor.clone().detach() or sourceTensor.clone().detach().requires_grad_(True), rather than torch.tensor(sourceTensor).\n",
      "  ex = torch.tensor(self.dataset.data[self.queried_hist_[-1]][0]).to(self.device)\n",
      "C:\\Users\\Wan Jing\\Documents\\libact-torch\\libact\\query_strategies\\representative_sampling.py:113: UserWarning: To copy construct from a tensor, it is recommended to use sourceTensor.clone().detach() or sourceTensor.clone().detach().requires_grad_(True), rather than torch.tensor(sourceTensor).\n",
      "  ex = torch.tensor(self.dataset.data[self.queried_hist_[-1]][0]).to(self.device)\n",
      "C:\\Users\\Wan Jing\\Documents\\libact-torch\\libact\\query_strategies\\random_sampling.py:86: UserWarning: To copy construct from a tensor, it is recommended to use sourceTensor.clone().detach() or sourceTensor.clone().detach().requires_grad_(True), rather than torch.tensor(sourceTensor).\n",
      "  ex = torch.tensor(self.dataset.data[self.queried_hist_[-1]][0]).to(self.device)\n",
      "C:\\Users\\Wan Jing\\.conda\\envs\\deepCB\\lib\\site-packages\\sklearn\\metrics\\_classification.py:1221: UndefinedMetricWarning: Precision is ill-defined and being set to 0.0 in labels with no predicted samples. Use `zero_division` parameter to control this behavior.\n",
      "  _warn_prf(average, modifier, msg_start, len(result))\n"
     ]
    },
    {
     "name": "stdout",
     "output_type": "stream",
     "text": [
      "   strategy  labeled_acc  testing_acc    reward\n",
      "31        1     0.293077     0.291819  0.292781\n",
      "Mon Aug 31 15:48:30 2020 ContextualBanditsActiveLearning query round: 33\n",
      "Strategy Chosen: RandomSampling\n"
     ]
    },
    {
     "name": "stderr",
     "output_type": "stream",
     "text": [
      "C:\\Users\\Wan Jing\\Documents\\libact-torch\\libact\\query_strategies\\contextual_bandits_active_learning.py:184: UserWarning: To copy construct from a tensor, it is recommended to use sourceTensor.clone().detach() or sourceTensor.clone().detach().requires_grad_(True), rather than torch.tensor(sourceTensor).\n",
      "  ex = torch.tensor(self.dataset.data[self.queried_hist_[-1]][0]).to(self.device)\n",
      "C:\\Users\\Wan Jing\\Documents\\libact-torch\\libact\\query_strategies\\uncertainty_sampling.py:149: UserWarning: To copy construct from a tensor, it is recommended to use sourceTensor.clone().detach() or sourceTensor.clone().detach().requires_grad_(True), rather than torch.tensor(sourceTensor).\n",
      "  ex = torch.tensor(self.dataset.data[self.queried_hist_[-1]][0]).to(self.device)\n",
      "C:\\Users\\Wan Jing\\Documents\\libact-torch\\libact\\query_strategies\\representative_sampling.py:113: UserWarning: To copy construct from a tensor, it is recommended to use sourceTensor.clone().detach() or sourceTensor.clone().detach().requires_grad_(True), rather than torch.tensor(sourceTensor).\n",
      "  ex = torch.tensor(self.dataset.data[self.queried_hist_[-1]][0]).to(self.device)\n",
      "C:\\Users\\Wan Jing\\Documents\\libact-torch\\libact\\query_strategies\\random_sampling.py:86: UserWarning: To copy construct from a tensor, it is recommended to use sourceTensor.clone().detach() or sourceTensor.clone().detach().requires_grad_(True), rather than torch.tensor(sourceTensor).\n",
      "  ex = torch.tensor(self.dataset.data[self.queried_hist_[-1]][0]).to(self.device)\n",
      "C:\\Users\\Wan Jing\\.conda\\envs\\deepCB\\lib\\site-packages\\sklearn\\metrics\\_classification.py:1221: UndefinedMetricWarning: Precision is ill-defined and being set to 0.0 in labels with no predicted samples. Use `zero_division` parameter to control this behavior.\n",
      "  _warn_prf(average, modifier, msg_start, len(result))\n"
     ]
    },
    {
     "name": "stdout",
     "output_type": "stream",
     "text": [
      "   strategy  labeled_acc  testing_acc   reward\n",
      "32        0     0.298113     0.288462  0.28759\n",
      "Mon Aug 31 15:48:37 2020 ContextualBanditsActiveLearning query round: 34\n",
      "Strategy Chosen: UncertaintySampling\n"
     ]
    },
    {
     "name": "stderr",
     "output_type": "stream",
     "text": [
      "C:\\Users\\Wan Jing\\Documents\\libact-torch\\libact\\query_strategies\\contextual_bandits_active_learning.py:184: UserWarning: To copy construct from a tensor, it is recommended to use sourceTensor.clone().detach() or sourceTensor.clone().detach().requires_grad_(True), rather than torch.tensor(sourceTensor).\n",
      "  ex = torch.tensor(self.dataset.data[self.queried_hist_[-1]][0]).to(self.device)\n",
      "C:\\Users\\Wan Jing\\Documents\\libact-torch\\libact\\query_strategies\\uncertainty_sampling.py:149: UserWarning: To copy construct from a tensor, it is recommended to use sourceTensor.clone().detach() or sourceTensor.clone().detach().requires_grad_(True), rather than torch.tensor(sourceTensor).\n",
      "  ex = torch.tensor(self.dataset.data[self.queried_hist_[-1]][0]).to(self.device)\n",
      "C:\\Users\\Wan Jing\\Documents\\libact-torch\\libact\\query_strategies\\representative_sampling.py:113: UserWarning: To copy construct from a tensor, it is recommended to use sourceTensor.clone().detach() or sourceTensor.clone().detach().requires_grad_(True), rather than torch.tensor(sourceTensor).\n",
      "  ex = torch.tensor(self.dataset.data[self.queried_hist_[-1]][0]).to(self.device)\n",
      "C:\\Users\\Wan Jing\\Documents\\libact-torch\\libact\\query_strategies\\random_sampling.py:86: UserWarning: To copy construct from a tensor, it is recommended to use sourceTensor.clone().detach() or sourceTensor.clone().detach().requires_grad_(True), rather than torch.tensor(sourceTensor).\n",
      "  ex = torch.tensor(self.dataset.data[self.queried_hist_[-1]][0]).to(self.device)\n",
      "C:\\Users\\Wan Jing\\.conda\\envs\\deepCB\\lib\\site-packages\\sklearn\\metrics\\_classification.py:1221: UndefinedMetricWarning: Precision is ill-defined and being set to 0.0 in labels with no predicted samples. Use `zero_division` parameter to control this behavior.\n",
      "  _warn_prf(average, modifier, msg_start, len(result))\n"
     ]
    },
    {
     "name": "stdout",
     "output_type": "stream",
     "text": [
      "   strategy  labeled_acc  testing_acc    reward\n",
      "33        1     0.298889     0.296703  0.298904\n",
      "Mon Aug 31 15:48:47 2020 ContextualBanditsActiveLearning query round: 35\n",
      "Strategy Chosen: UncertaintySampling\n"
     ]
    },
    {
     "name": "stderr",
     "output_type": "stream",
     "text": [
      "C:\\Users\\Wan Jing\\Documents\\libact-torch\\libact\\query_strategies\\contextual_bandits_active_learning.py:184: UserWarning: To copy construct from a tensor, it is recommended to use sourceTensor.clone().detach() or sourceTensor.clone().detach().requires_grad_(True), rather than torch.tensor(sourceTensor).\n",
      "  ex = torch.tensor(self.dataset.data[self.queried_hist_[-1]][0]).to(self.device)\n",
      "C:\\Users\\Wan Jing\\Documents\\libact-torch\\libact\\query_strategies\\uncertainty_sampling.py:149: UserWarning: To copy construct from a tensor, it is recommended to use sourceTensor.clone().detach() or sourceTensor.clone().detach().requires_grad_(True), rather than torch.tensor(sourceTensor).\n",
      "  ex = torch.tensor(self.dataset.data[self.queried_hist_[-1]][0]).to(self.device)\n",
      "C:\\Users\\Wan Jing\\Documents\\libact-torch\\libact\\query_strategies\\representative_sampling.py:113: UserWarning: To copy construct from a tensor, it is recommended to use sourceTensor.clone().detach() or sourceTensor.clone().detach().requires_grad_(True), rather than torch.tensor(sourceTensor).\n",
      "  ex = torch.tensor(self.dataset.data[self.queried_hist_[-1]][0]).to(self.device)\n",
      "C:\\Users\\Wan Jing\\Documents\\libact-torch\\libact\\query_strategies\\random_sampling.py:86: UserWarning: To copy construct from a tensor, it is recommended to use sourceTensor.clone().detach() or sourceTensor.clone().detach().requires_grad_(True), rather than torch.tensor(sourceTensor).\n",
      "  ex = torch.tensor(self.dataset.data[self.queried_hist_[-1]][0]).to(self.device)\n",
      "C:\\Users\\Wan Jing\\.conda\\envs\\deepCB\\lib\\site-packages\\sklearn\\metrics\\_classification.py:1221: UndefinedMetricWarning: Precision is ill-defined and being set to 0.0 in labels with no predicted samples. Use `zero_division` parameter to control this behavior.\n",
      "  _warn_prf(average, modifier, msg_start, len(result))\n"
     ]
    },
    {
     "name": "stdout",
     "output_type": "stream",
     "text": [
      "   strategy  labeled_acc  testing_acc    reward\n",
      "34        3     0.312727     0.297924  0.298252\n",
      "Mon Aug 31 15:48:57 2020 ContextualBanditsActiveLearning query round: 36\n",
      "Strategy Chosen: UncertaintySampling\n"
     ]
    },
    {
     "name": "stderr",
     "output_type": "stream",
     "text": [
      "C:\\Users\\Wan Jing\\Documents\\libact-torch\\libact\\query_strategies\\contextual_bandits_active_learning.py:184: UserWarning: To copy construct from a tensor, it is recommended to use sourceTensor.clone().detach() or sourceTensor.clone().detach().requires_grad_(True), rather than torch.tensor(sourceTensor).\n",
      "  ex = torch.tensor(self.dataset.data[self.queried_hist_[-1]][0]).to(self.device)\n",
      "C:\\Users\\Wan Jing\\Documents\\libact-torch\\libact\\query_strategies\\uncertainty_sampling.py:149: UserWarning: To copy construct from a tensor, it is recommended to use sourceTensor.clone().detach() or sourceTensor.clone().detach().requires_grad_(True), rather than torch.tensor(sourceTensor).\n",
      "  ex = torch.tensor(self.dataset.data[self.queried_hist_[-1]][0]).to(self.device)\n",
      "C:\\Users\\Wan Jing\\Documents\\libact-torch\\libact\\query_strategies\\representative_sampling.py:113: UserWarning: To copy construct from a tensor, it is recommended to use sourceTensor.clone().detach() or sourceTensor.clone().detach().requires_grad_(True), rather than torch.tensor(sourceTensor).\n",
      "  ex = torch.tensor(self.dataset.data[self.queried_hist_[-1]][0]).to(self.device)\n",
      "C:\\Users\\Wan Jing\\Documents\\libact-torch\\libact\\query_strategies\\random_sampling.py:86: UserWarning: To copy construct from a tensor, it is recommended to use sourceTensor.clone().detach() or sourceTensor.clone().detach().requires_grad_(True), rather than torch.tensor(sourceTensor).\n",
      "  ex = torch.tensor(self.dataset.data[self.queried_hist_[-1]][0]).to(self.device)\n",
      "C:\\Users\\Wan Jing\\.conda\\envs\\deepCB\\lib\\site-packages\\sklearn\\metrics\\_classification.py:1221: UndefinedMetricWarning: Precision is ill-defined and being set to 0.0 in labels with no predicted samples. Use `zero_division` parameter to control this behavior.\n",
      "  _warn_prf(average, modifier, msg_start, len(result))\n"
     ]
    },
    {
     "name": "stdout",
     "output_type": "stream",
     "text": [
      "   strategy  labeled_acc  testing_acc   reward\n",
      "35        3     0.311429     0.302198  0.30336\n",
      "Mon Aug 31 15:49:07 2020 ContextualBanditsActiveLearning query round: 37\n",
      "Strategy Chosen: RandomSampling\n"
     ]
    },
    {
     "name": "stderr",
     "output_type": "stream",
     "text": [
      "C:\\Users\\Wan Jing\\Documents\\libact-torch\\libact\\query_strategies\\contextual_bandits_active_learning.py:184: UserWarning: To copy construct from a tensor, it is recommended to use sourceTensor.clone().detach() or sourceTensor.clone().detach().requires_grad_(True), rather than torch.tensor(sourceTensor).\n",
      "  ex = torch.tensor(self.dataset.data[self.queried_hist_[-1]][0]).to(self.device)\n",
      "C:\\Users\\Wan Jing\\Documents\\libact-torch\\libact\\query_strategies\\uncertainty_sampling.py:149: UserWarning: To copy construct from a tensor, it is recommended to use sourceTensor.clone().detach() or sourceTensor.clone().detach().requires_grad_(True), rather than torch.tensor(sourceTensor).\n",
      "  ex = torch.tensor(self.dataset.data[self.queried_hist_[-1]][0]).to(self.device)\n",
      "C:\\Users\\Wan Jing\\Documents\\libact-torch\\libact\\query_strategies\\representative_sampling.py:113: UserWarning: To copy construct from a tensor, it is recommended to use sourceTensor.clone().detach() or sourceTensor.clone().detach().requires_grad_(True), rather than torch.tensor(sourceTensor).\n",
      "  ex = torch.tensor(self.dataset.data[self.queried_hist_[-1]][0]).to(self.device)\n",
      "C:\\Users\\Wan Jing\\Documents\\libact-torch\\libact\\query_strategies\\random_sampling.py:86: UserWarning: To copy construct from a tensor, it is recommended to use sourceTensor.clone().detach() or sourceTensor.clone().detach().requires_grad_(True), rather than torch.tensor(sourceTensor).\n",
      "  ex = torch.tensor(self.dataset.data[self.queried_hist_[-1]][0]).to(self.device)\n",
      "C:\\Users\\Wan Jing\\.conda\\envs\\deepCB\\lib\\site-packages\\sklearn\\metrics\\_classification.py:1221: UndefinedMetricWarning: Precision is ill-defined and being set to 0.0 in labels with no predicted samples. Use `zero_division` parameter to control this behavior.\n",
      "  _warn_prf(average, modifier, msg_start, len(result))\n"
     ]
    },
    {
     "name": "stdout",
     "output_type": "stream",
     "text": [
      "   strategy  labeled_acc  testing_acc    reward\n",
      "36        0     0.312982     0.297924  0.296778\n",
      "Mon Aug 31 15:49:13 2020 ContextualBanditsActiveLearning query round: 38\n",
      "Strategy Chosen: UncertaintySampling\n"
     ]
    },
    {
     "name": "stderr",
     "output_type": "stream",
     "text": [
      "C:\\Users\\Wan Jing\\Documents\\libact-torch\\libact\\query_strategies\\contextual_bandits_active_learning.py:184: UserWarning: To copy construct from a tensor, it is recommended to use sourceTensor.clone().detach() or sourceTensor.clone().detach().requires_grad_(True), rather than torch.tensor(sourceTensor).\n",
      "  ex = torch.tensor(self.dataset.data[self.queried_hist_[-1]][0]).to(self.device)\n",
      "C:\\Users\\Wan Jing\\Documents\\libact-torch\\libact\\query_strategies\\uncertainty_sampling.py:149: UserWarning: To copy construct from a tensor, it is recommended to use sourceTensor.clone().detach() or sourceTensor.clone().detach().requires_grad_(True), rather than torch.tensor(sourceTensor).\n",
      "  ex = torch.tensor(self.dataset.data[self.queried_hist_[-1]][0]).to(self.device)\n",
      "C:\\Users\\Wan Jing\\Documents\\libact-torch\\libact\\query_strategies\\representative_sampling.py:113: UserWarning: To copy construct from a tensor, it is recommended to use sourceTensor.clone().detach() or sourceTensor.clone().detach().requires_grad_(True), rather than torch.tensor(sourceTensor).\n",
      "  ex = torch.tensor(self.dataset.data[self.queried_hist_[-1]][0]).to(self.device)\n",
      "C:\\Users\\Wan Jing\\Documents\\libact-torch\\libact\\query_strategies\\random_sampling.py:86: UserWarning: To copy construct from a tensor, it is recommended to use sourceTensor.clone().detach() or sourceTensor.clone().detach().requires_grad_(True), rather than torch.tensor(sourceTensor).\n",
      "  ex = torch.tensor(self.dataset.data[self.queried_hist_[-1]][0]).to(self.device)\n"
     ]
    },
    {
     "name": "stdout",
     "output_type": "stream",
     "text": [
      "   strategy  labeled_acc  testing_acc    reward\n",
      "37        2      0.32069     0.302808  0.304139\n",
      "Mon Aug 31 15:49:24 2020 ContextualBanditsActiveLearning query round: 39\n",
      "Strategy Chosen: RandomSampling\n"
     ]
    },
    {
     "name": "stderr",
     "output_type": "stream",
     "text": [
      "C:\\Users\\Wan Jing\\Documents\\libact-torch\\libact\\query_strategies\\contextual_bandits_active_learning.py:184: UserWarning: To copy construct from a tensor, it is recommended to use sourceTensor.clone().detach() or sourceTensor.clone().detach().requires_grad_(True), rather than torch.tensor(sourceTensor).\n",
      "  ex = torch.tensor(self.dataset.data[self.queried_hist_[-1]][0]).to(self.device)\n",
      "C:\\Users\\Wan Jing\\Documents\\libact-torch\\libact\\query_strategies\\uncertainty_sampling.py:149: UserWarning: To copy construct from a tensor, it is recommended to use sourceTensor.clone().detach() or sourceTensor.clone().detach().requires_grad_(True), rather than torch.tensor(sourceTensor).\n",
      "  ex = torch.tensor(self.dataset.data[self.queried_hist_[-1]][0]).to(self.device)\n",
      "C:\\Users\\Wan Jing\\Documents\\libact-torch\\libact\\query_strategies\\representative_sampling.py:113: UserWarning: To copy construct from a tensor, it is recommended to use sourceTensor.clone().detach() or sourceTensor.clone().detach().requires_grad_(True), rather than torch.tensor(sourceTensor).\n",
      "  ex = torch.tensor(self.dataset.data[self.queried_hist_[-1]][0]).to(self.device)\n",
      "C:\\Users\\Wan Jing\\Documents\\libact-torch\\libact\\query_strategies\\random_sampling.py:86: UserWarning: To copy construct from a tensor, it is recommended to use sourceTensor.clone().detach() or sourceTensor.clone().detach().requires_grad_(True), rather than torch.tensor(sourceTensor).\n",
      "  ex = torch.tensor(self.dataset.data[self.queried_hist_[-1]][0]).to(self.device)\n"
     ]
    },
    {
     "name": "stdout",
     "output_type": "stream",
     "text": [
      "   strategy  labeled_acc  testing_acc    reward\n",
      "38        0     0.329153     0.304335  0.304753\n",
      "Mon Aug 31 15:49:30 2020 ContextualBanditsActiveLearning query round: 40\n",
      "Strategy Chosen: UncertaintySampling\n"
     ]
    },
    {
     "name": "stderr",
     "output_type": "stream",
     "text": [
      "C:\\Users\\Wan Jing\\Documents\\libact-torch\\libact\\query_strategies\\contextual_bandits_active_learning.py:184: UserWarning: To copy construct from a tensor, it is recommended to use sourceTensor.clone().detach() or sourceTensor.clone().detach().requires_grad_(True), rather than torch.tensor(sourceTensor).\n",
      "  ex = torch.tensor(self.dataset.data[self.queried_hist_[-1]][0]).to(self.device)\n",
      "C:\\Users\\Wan Jing\\Documents\\libact-torch\\libact\\query_strategies\\uncertainty_sampling.py:149: UserWarning: To copy construct from a tensor, it is recommended to use sourceTensor.clone().detach() or sourceTensor.clone().detach().requires_grad_(True), rather than torch.tensor(sourceTensor).\n",
      "  ex = torch.tensor(self.dataset.data[self.queried_hist_[-1]][0]).to(self.device)\n",
      "C:\\Users\\Wan Jing\\Documents\\libact-torch\\libact\\query_strategies\\representative_sampling.py:113: UserWarning: To copy construct from a tensor, it is recommended to use sourceTensor.clone().detach() or sourceTensor.clone().detach().requires_grad_(True), rather than torch.tensor(sourceTensor).\n",
      "  ex = torch.tensor(self.dataset.data[self.queried_hist_[-1]][0]).to(self.device)\n",
      "C:\\Users\\Wan Jing\\Documents\\libact-torch\\libact\\query_strategies\\random_sampling.py:86: UserWarning: To copy construct from a tensor, it is recommended to use sourceTensor.clone().detach() or sourceTensor.clone().detach().requires_grad_(True), rather than torch.tensor(sourceTensor).\n",
      "  ex = torch.tensor(self.dataset.data[self.queried_hist_[-1]][0]).to(self.device)\n",
      "C:\\Users\\Wan Jing\\.conda\\envs\\deepCB\\lib\\site-packages\\sklearn\\metrics\\_classification.py:1221: UndefinedMetricWarning: Precision is ill-defined and being set to 0.0 in labels with no predicted samples. Use `zero_division` parameter to control this behavior.\n",
      "  _warn_prf(average, modifier, msg_start, len(result))\n"
     ]
    },
    {
     "name": "stdout",
     "output_type": "stream",
     "text": [
      "   strategy  labeled_acc  testing_acc    reward\n",
      "39        2        0.339     0.308913  0.310186\n",
      "Mon Aug 31 15:49:41 2020 ContextualBanditsActiveLearning query round: 41\n",
      "Strategy Chosen: UncertaintySampling\n"
     ]
    },
    {
     "name": "stderr",
     "output_type": "stream",
     "text": [
      "C:\\Users\\Wan Jing\\Documents\\libact-torch\\libact\\query_strategies\\contextual_bandits_active_learning.py:184: UserWarning: To copy construct from a tensor, it is recommended to use sourceTensor.clone().detach() or sourceTensor.clone().detach().requires_grad_(True), rather than torch.tensor(sourceTensor).\n",
      "  ex = torch.tensor(self.dataset.data[self.queried_hist_[-1]][0]).to(self.device)\n",
      "C:\\Users\\Wan Jing\\Documents\\libact-torch\\libact\\query_strategies\\uncertainty_sampling.py:149: UserWarning: To copy construct from a tensor, it is recommended to use sourceTensor.clone().detach() or sourceTensor.clone().detach().requires_grad_(True), rather than torch.tensor(sourceTensor).\n",
      "  ex = torch.tensor(self.dataset.data[self.queried_hist_[-1]][0]).to(self.device)\n",
      "C:\\Users\\Wan Jing\\Documents\\libact-torch\\libact\\query_strategies\\representative_sampling.py:113: UserWarning: To copy construct from a tensor, it is recommended to use sourceTensor.clone().detach() or sourceTensor.clone().detach().requires_grad_(True), rather than torch.tensor(sourceTensor).\n",
      "  ex = torch.tensor(self.dataset.data[self.queried_hist_[-1]][0]).to(self.device)\n",
      "C:\\Users\\Wan Jing\\Documents\\libact-torch\\libact\\query_strategies\\random_sampling.py:86: UserWarning: To copy construct from a tensor, it is recommended to use sourceTensor.clone().detach() or sourceTensor.clone().detach().requires_grad_(True), rather than torch.tensor(sourceTensor).\n",
      "  ex = torch.tensor(self.dataset.data[self.queried_hist_[-1]][0]).to(self.device)\n",
      "C:\\Users\\Wan Jing\\.conda\\envs\\deepCB\\lib\\site-packages\\sklearn\\metrics\\_classification.py:1221: UndefinedMetricWarning: Precision is ill-defined and being set to 0.0 in labels with no predicted samples. Use `zero_division` parameter to control this behavior.\n",
      "  _warn_prf(average, modifier, msg_start, len(result))\n"
     ]
    },
    {
     "name": "stdout",
     "output_type": "stream",
     "text": [
      "   strategy  labeled_acc  testing_acc    reward\n",
      "40        2     0.341639     0.310745  0.311257\n",
      "Mon Aug 31 15:49:52 2020 ContextualBanditsActiveLearning query round: 42\n",
      "Strategy Chosen: UncertaintySampling\n"
     ]
    },
    {
     "name": "stderr",
     "output_type": "stream",
     "text": [
      "C:\\Users\\Wan Jing\\Documents\\libact-torch\\libact\\query_strategies\\contextual_bandits_active_learning.py:184: UserWarning: To copy construct from a tensor, it is recommended to use sourceTensor.clone().detach() or sourceTensor.clone().detach().requires_grad_(True), rather than torch.tensor(sourceTensor).\n",
      "  ex = torch.tensor(self.dataset.data[self.queried_hist_[-1]][0]).to(self.device)\n",
      "C:\\Users\\Wan Jing\\Documents\\libact-torch\\libact\\query_strategies\\uncertainty_sampling.py:149: UserWarning: To copy construct from a tensor, it is recommended to use sourceTensor.clone().detach() or sourceTensor.clone().detach().requires_grad_(True), rather than torch.tensor(sourceTensor).\n",
      "  ex = torch.tensor(self.dataset.data[self.queried_hist_[-1]][0]).to(self.device)\n",
      "C:\\Users\\Wan Jing\\Documents\\libact-torch\\libact\\query_strategies\\representative_sampling.py:113: UserWarning: To copy construct from a tensor, it is recommended to use sourceTensor.clone().detach() or sourceTensor.clone().detach().requires_grad_(True), rather than torch.tensor(sourceTensor).\n",
      "  ex = torch.tensor(self.dataset.data[self.queried_hist_[-1]][0]).to(self.device)\n",
      "C:\\Users\\Wan Jing\\Documents\\libact-torch\\libact\\query_strategies\\random_sampling.py:86: UserWarning: To copy construct from a tensor, it is recommended to use sourceTensor.clone().detach() or sourceTensor.clone().detach().requires_grad_(True), rather than torch.tensor(sourceTensor).\n",
      "  ex = torch.tensor(self.dataset.data[self.queried_hist_[-1]][0]).to(self.device)\n",
      "C:\\Users\\Wan Jing\\.conda\\envs\\deepCB\\lib\\site-packages\\sklearn\\metrics\\_classification.py:1221: UndefinedMetricWarning: Precision is ill-defined and being set to 0.0 in labels with no predicted samples. Use `zero_division` parameter to control this behavior.\n",
      "  _warn_prf(average, modifier, msg_start, len(result))\n"
     ]
    },
    {
     "name": "stdout",
     "output_type": "stream",
     "text": [
      "   strategy  labeled_acc  testing_acc    reward\n",
      "41        3     0.333226     0.313797  0.314659\n",
      "Mon Aug 31 15:50:02 2020 ContextualBanditsActiveLearning query round: 43\n",
      "Strategy Chosen: RepresentativeSampling\n"
     ]
    },
    {
     "name": "stderr",
     "output_type": "stream",
     "text": [
      "C:\\Users\\Wan Jing\\Documents\\libact-torch\\libact\\query_strategies\\representative_sampling.py:147: UserWarning: To copy construct from a tensor, it is recommended to use sourceTensor.clone().detach() or sourceTensor.clone().detach().requires_grad_(True), rather than torch.tensor(sourceTensor).\n",
      "  x = torch.tensor(x).to(self.device)\n",
      "C:\\Users\\Wan Jing\\Documents\\libact-torch\\libact\\query_strategies\\contextual_bandits_active_learning.py:184: UserWarning: To copy construct from a tensor, it is recommended to use sourceTensor.clone().detach() or sourceTensor.clone().detach().requires_grad_(True), rather than torch.tensor(sourceTensor).\n",
      "  ex = torch.tensor(self.dataset.data[self.queried_hist_[-1]][0]).to(self.device)\n",
      "C:\\Users\\Wan Jing\\Documents\\libact-torch\\libact\\query_strategies\\uncertainty_sampling.py:149: UserWarning: To copy construct from a tensor, it is recommended to use sourceTensor.clone().detach() or sourceTensor.clone().detach().requires_grad_(True), rather than torch.tensor(sourceTensor).\n",
      "  ex = torch.tensor(self.dataset.data[self.queried_hist_[-1]][0]).to(self.device)\n",
      "C:\\Users\\Wan Jing\\Documents\\libact-torch\\libact\\query_strategies\\representative_sampling.py:113: UserWarning: To copy construct from a tensor, it is recommended to use sourceTensor.clone().detach() or sourceTensor.clone().detach().requires_grad_(True), rather than torch.tensor(sourceTensor).\n",
      "  ex = torch.tensor(self.dataset.data[self.queried_hist_[-1]][0]).to(self.device)\n",
      "C:\\Users\\Wan Jing\\Documents\\libact-torch\\libact\\query_strategies\\random_sampling.py:86: UserWarning: To copy construct from a tensor, it is recommended to use sourceTensor.clone().detach() or sourceTensor.clone().detach().requires_grad_(True), rather than torch.tensor(sourceTensor).\n",
      "  ex = torch.tensor(self.dataset.data[self.queried_hist_[-1]][0]).to(self.device)\n",
      "C:\\Users\\Wan Jing\\.conda\\envs\\deepCB\\lib\\site-packages\\sklearn\\metrics\\_classification.py:1221: UndefinedMetricWarning: Precision is ill-defined and being set to 0.0 in labels with no predicted samples. Use `zero_division` parameter to control this behavior.\n",
      "  _warn_prf(average, modifier, msg_start, len(result))\n"
     ]
    },
    {
     "name": "stdout",
     "output_type": "stream",
     "text": [
      "   strategy  labeled_acc  testing_acc    reward\n",
      "42        4     0.346032     0.311661  0.311061\n",
      "Mon Aug 31 15:50:16 2020 ContextualBanditsActiveLearning query round: 44\n",
      "Strategy Chosen: RepresentativeSampling\n"
     ]
    },
    {
     "name": "stderr",
     "output_type": "stream",
     "text": [
      "C:\\Users\\Wan Jing\\Documents\\libact-torch\\libact\\query_strategies\\representative_sampling.py:147: UserWarning: To copy construct from a tensor, it is recommended to use sourceTensor.clone().detach() or sourceTensor.clone().detach().requires_grad_(True), rather than torch.tensor(sourceTensor).\n",
      "  x = torch.tensor(x).to(self.device)\n",
      "C:\\Users\\Wan Jing\\Documents\\libact-torch\\libact\\query_strategies\\contextual_bandits_active_learning.py:184: UserWarning: To copy construct from a tensor, it is recommended to use sourceTensor.clone().detach() or sourceTensor.clone().detach().requires_grad_(True), rather than torch.tensor(sourceTensor).\n",
      "  ex = torch.tensor(self.dataset.data[self.queried_hist_[-1]][0]).to(self.device)\n",
      "C:\\Users\\Wan Jing\\Documents\\libact-torch\\libact\\query_strategies\\uncertainty_sampling.py:149: UserWarning: To copy construct from a tensor, it is recommended to use sourceTensor.clone().detach() or sourceTensor.clone().detach().requires_grad_(True), rather than torch.tensor(sourceTensor).\n",
      "  ex = torch.tensor(self.dataset.data[self.queried_hist_[-1]][0]).to(self.device)\n",
      "C:\\Users\\Wan Jing\\Documents\\libact-torch\\libact\\query_strategies\\representative_sampling.py:113: UserWarning: To copy construct from a tensor, it is recommended to use sourceTensor.clone().detach() or sourceTensor.clone().detach().requires_grad_(True), rather than torch.tensor(sourceTensor).\n",
      "  ex = torch.tensor(self.dataset.data[self.queried_hist_[-1]][0]).to(self.device)\n",
      "C:\\Users\\Wan Jing\\Documents\\libact-torch\\libact\\query_strategies\\random_sampling.py:86: UserWarning: To copy construct from a tensor, it is recommended to use sourceTensor.clone().detach() or sourceTensor.clone().detach().requires_grad_(True), rather than torch.tensor(sourceTensor).\n",
      "  ex = torch.tensor(self.dataset.data[self.queried_hist_[-1]][0]).to(self.device)\n",
      "C:\\Users\\Wan Jing\\.conda\\envs\\deepCB\\lib\\site-packages\\sklearn\\metrics\\_classification.py:1221: UndefinedMetricWarning: Precision is ill-defined and being set to 0.0 in labels with no predicted samples. Use `zero_division` parameter to control this behavior.\n",
      "  _warn_prf(average, modifier, msg_start, len(result))\n"
     ]
    },
    {
     "name": "stdout",
     "output_type": "stream",
     "text": [
      "   strategy  labeled_acc  testing_acc   reward\n",
      "43        4     0.352187     0.319597  0.32188\n",
      "Mon Aug 31 15:50:30 2020 ContextualBanditsActiveLearning query round: 45\n",
      "Strategy Chosen: UncertaintySampling\n"
     ]
    },
    {
     "name": "stderr",
     "output_type": "stream",
     "text": [
      "C:\\Users\\Wan Jing\\Documents\\libact-torch\\libact\\query_strategies\\contextual_bandits_active_learning.py:184: UserWarning: To copy construct from a tensor, it is recommended to use sourceTensor.clone().detach() or sourceTensor.clone().detach().requires_grad_(True), rather than torch.tensor(sourceTensor).\n",
      "  ex = torch.tensor(self.dataset.data[self.queried_hist_[-1]][0]).to(self.device)\n",
      "C:\\Users\\Wan Jing\\Documents\\libact-torch\\libact\\query_strategies\\uncertainty_sampling.py:149: UserWarning: To copy construct from a tensor, it is recommended to use sourceTensor.clone().detach() or sourceTensor.clone().detach().requires_grad_(True), rather than torch.tensor(sourceTensor).\n",
      "  ex = torch.tensor(self.dataset.data[self.queried_hist_[-1]][0]).to(self.device)\n",
      "C:\\Users\\Wan Jing\\Documents\\libact-torch\\libact\\query_strategies\\representative_sampling.py:113: UserWarning: To copy construct from a tensor, it is recommended to use sourceTensor.clone().detach() or sourceTensor.clone().detach().requires_grad_(True), rather than torch.tensor(sourceTensor).\n",
      "  ex = torch.tensor(self.dataset.data[self.queried_hist_[-1]][0]).to(self.device)\n",
      "C:\\Users\\Wan Jing\\Documents\\libact-torch\\libact\\query_strategies\\random_sampling.py:86: UserWarning: To copy construct from a tensor, it is recommended to use sourceTensor.clone().detach() or sourceTensor.clone().detach().requires_grad_(True), rather than torch.tensor(sourceTensor).\n",
      "  ex = torch.tensor(self.dataset.data[self.queried_hist_[-1]][0]).to(self.device)\n",
      "C:\\Users\\Wan Jing\\.conda\\envs\\deepCB\\lib\\site-packages\\sklearn\\metrics\\_classification.py:1221: UndefinedMetricWarning: Precision is ill-defined and being set to 0.0 in labels with no predicted samples. Use `zero_division` parameter to control this behavior.\n",
      "  _warn_prf(average, modifier, msg_start, len(result))\n"
     ]
    },
    {
     "name": "stdout",
     "output_type": "stream",
     "text": [
      "   strategy  labeled_acc  testing_acc    reward\n",
      "44        2     0.361231     0.317155  0.316458\n",
      "Mon Aug 31 15:50:40 2020 ContextualBanditsActiveLearning query round: 46\n",
      "Strategy Chosen: UncertaintySampling\n"
     ]
    },
    {
     "name": "stderr",
     "output_type": "stream",
     "text": [
      "C:\\Users\\Wan Jing\\Documents\\libact-torch\\libact\\query_strategies\\contextual_bandits_active_learning.py:184: UserWarning: To copy construct from a tensor, it is recommended to use sourceTensor.clone().detach() or sourceTensor.clone().detach().requires_grad_(True), rather than torch.tensor(sourceTensor).\n",
      "  ex = torch.tensor(self.dataset.data[self.queried_hist_[-1]][0]).to(self.device)\n",
      "C:\\Users\\Wan Jing\\Documents\\libact-torch\\libact\\query_strategies\\uncertainty_sampling.py:149: UserWarning: To copy construct from a tensor, it is recommended to use sourceTensor.clone().detach() or sourceTensor.clone().detach().requires_grad_(True), rather than torch.tensor(sourceTensor).\n",
      "  ex = torch.tensor(self.dataset.data[self.queried_hist_[-1]][0]).to(self.device)\n",
      "C:\\Users\\Wan Jing\\Documents\\libact-torch\\libact\\query_strategies\\representative_sampling.py:113: UserWarning: To copy construct from a tensor, it is recommended to use sourceTensor.clone().detach() or sourceTensor.clone().detach().requires_grad_(True), rather than torch.tensor(sourceTensor).\n",
      "  ex = torch.tensor(self.dataset.data[self.queried_hist_[-1]][0]).to(self.device)\n",
      "C:\\Users\\Wan Jing\\Documents\\libact-torch\\libact\\query_strategies\\random_sampling.py:86: UserWarning: To copy construct from a tensor, it is recommended to use sourceTensor.clone().detach() or sourceTensor.clone().detach().requires_grad_(True), rather than torch.tensor(sourceTensor).\n",
      "  ex = torch.tensor(self.dataset.data[self.queried_hist_[-1]][0]).to(self.device)\n"
     ]
    },
    {
     "name": "stdout",
     "output_type": "stream",
     "text": [
      "   strategy  labeled_acc  testing_acc    reward\n",
      "45        1     0.358788     0.318987  0.319512\n",
      "Mon Aug 31 15:50:51 2020 ContextualBanditsActiveLearning query round: 47\n",
      "Strategy Chosen: RandomSampling\n"
     ]
    },
    {
     "name": "stderr",
     "output_type": "stream",
     "text": [
      "C:\\Users\\Wan Jing\\Documents\\libact-torch\\libact\\query_strategies\\contextual_bandits_active_learning.py:184: UserWarning: To copy construct from a tensor, it is recommended to use sourceTensor.clone().detach() or sourceTensor.clone().detach().requires_grad_(True), rather than torch.tensor(sourceTensor).\n",
      "  ex = torch.tensor(self.dataset.data[self.queried_hist_[-1]][0]).to(self.device)\n",
      "C:\\Users\\Wan Jing\\Documents\\libact-torch\\libact\\query_strategies\\uncertainty_sampling.py:149: UserWarning: To copy construct from a tensor, it is recommended to use sourceTensor.clone().detach() or sourceTensor.clone().detach().requires_grad_(True), rather than torch.tensor(sourceTensor).\n",
      "  ex = torch.tensor(self.dataset.data[self.queried_hist_[-1]][0]).to(self.device)\n",
      "C:\\Users\\Wan Jing\\Documents\\libact-torch\\libact\\query_strategies\\representative_sampling.py:113: UserWarning: To copy construct from a tensor, it is recommended to use sourceTensor.clone().detach() or sourceTensor.clone().detach().requires_grad_(True), rather than torch.tensor(sourceTensor).\n",
      "  ex = torch.tensor(self.dataset.data[self.queried_hist_[-1]][0]).to(self.device)\n",
      "C:\\Users\\Wan Jing\\Documents\\libact-torch\\libact\\query_strategies\\random_sampling.py:86: UserWarning: To copy construct from a tensor, it is recommended to use sourceTensor.clone().detach() or sourceTensor.clone().detach().requires_grad_(True), rather than torch.tensor(sourceTensor).\n",
      "  ex = torch.tensor(self.dataset.data[self.queried_hist_[-1]][0]).to(self.device)\n",
      "C:\\Users\\Wan Jing\\.conda\\envs\\deepCB\\lib\\site-packages\\sklearn\\metrics\\_classification.py:1221: UndefinedMetricWarning: Precision is ill-defined and being set to 0.0 in labels with no predicted samples. Use `zero_division` parameter to control this behavior.\n",
      "  _warn_prf(average, modifier, msg_start, len(result))\n"
     ]
    },
    {
     "name": "stdout",
     "output_type": "stream",
     "text": [
      "   strategy  labeled_acc  testing_acc    reward\n",
      "46        0     0.362687     0.328755  0.331645\n",
      "Mon Aug 31 15:50:58 2020 ContextualBanditsActiveLearning query round: 48\n",
      "Strategy Chosen: RepresentativeSampling\n"
     ]
    },
    {
     "name": "stderr",
     "output_type": "stream",
     "text": [
      "C:\\Users\\Wan Jing\\Documents\\libact-torch\\libact\\query_strategies\\representative_sampling.py:147: UserWarning: To copy construct from a tensor, it is recommended to use sourceTensor.clone().detach() or sourceTensor.clone().detach().requires_grad_(True), rather than torch.tensor(sourceTensor).\n",
      "  x = torch.tensor(x).to(self.device)\n",
      "C:\\Users\\Wan Jing\\Documents\\libact-torch\\libact\\query_strategies\\contextual_bandits_active_learning.py:184: UserWarning: To copy construct from a tensor, it is recommended to use sourceTensor.clone().detach() or sourceTensor.clone().detach().requires_grad_(True), rather than torch.tensor(sourceTensor).\n",
      "  ex = torch.tensor(self.dataset.data[self.queried_hist_[-1]][0]).to(self.device)\n",
      "C:\\Users\\Wan Jing\\Documents\\libact-torch\\libact\\query_strategies\\uncertainty_sampling.py:149: UserWarning: To copy construct from a tensor, it is recommended to use sourceTensor.clone().detach() or sourceTensor.clone().detach().requires_grad_(True), rather than torch.tensor(sourceTensor).\n",
      "  ex = torch.tensor(self.dataset.data[self.queried_hist_[-1]][0]).to(self.device)\n",
      "C:\\Users\\Wan Jing\\Documents\\libact-torch\\libact\\query_strategies\\representative_sampling.py:113: UserWarning: To copy construct from a tensor, it is recommended to use sourceTensor.clone().detach() or sourceTensor.clone().detach().requires_grad_(True), rather than torch.tensor(sourceTensor).\n",
      "  ex = torch.tensor(self.dataset.data[self.queried_hist_[-1]][0]).to(self.device)\n",
      "C:\\Users\\Wan Jing\\Documents\\libact-torch\\libact\\query_strategies\\random_sampling.py:86: UserWarning: To copy construct from a tensor, it is recommended to use sourceTensor.clone().detach() or sourceTensor.clone().detach().requires_grad_(True), rather than torch.tensor(sourceTensor).\n",
      "  ex = torch.tensor(self.dataset.data[self.queried_hist_[-1]][0]).to(self.device)\n",
      "C:\\Users\\Wan Jing\\.conda\\envs\\deepCB\\lib\\site-packages\\sklearn\\metrics\\_classification.py:1221: UndefinedMetricWarning: Precision is ill-defined and being set to 0.0 in labels with no predicted samples. Use `zero_division` parameter to control this behavior.\n",
      "  _warn_prf(average, modifier, msg_start, len(result))\n"
     ]
    },
    {
     "name": "stdout",
     "output_type": "stream",
     "text": [
      "   strategy  labeled_acc  testing_acc    reward\n",
      "47        4     0.362059     0.330281  0.330735\n",
      "Mon Aug 31 15:51:13 2020 ContextualBanditsActiveLearning query round: 49\n",
      "Strategy Chosen: UncertaintySampling\n"
     ]
    },
    {
     "name": "stderr",
     "output_type": "stream",
     "text": [
      "C:\\Users\\Wan Jing\\Documents\\libact-torch\\libact\\query_strategies\\contextual_bandits_active_learning.py:184: UserWarning: To copy construct from a tensor, it is recommended to use sourceTensor.clone().detach() or sourceTensor.clone().detach().requires_grad_(True), rather than torch.tensor(sourceTensor).\n",
      "  ex = torch.tensor(self.dataset.data[self.queried_hist_[-1]][0]).to(self.device)\n",
      "C:\\Users\\Wan Jing\\Documents\\libact-torch\\libact\\query_strategies\\uncertainty_sampling.py:149: UserWarning: To copy construct from a tensor, it is recommended to use sourceTensor.clone().detach() or sourceTensor.clone().detach().requires_grad_(True), rather than torch.tensor(sourceTensor).\n",
      "  ex = torch.tensor(self.dataset.data[self.queried_hist_[-1]][0]).to(self.device)\n",
      "C:\\Users\\Wan Jing\\Documents\\libact-torch\\libact\\query_strategies\\representative_sampling.py:113: UserWarning: To copy construct from a tensor, it is recommended to use sourceTensor.clone().detach() or sourceTensor.clone().detach().requires_grad_(True), rather than torch.tensor(sourceTensor).\n",
      "  ex = torch.tensor(self.dataset.data[self.queried_hist_[-1]][0]).to(self.device)\n",
      "C:\\Users\\Wan Jing\\Documents\\libact-torch\\libact\\query_strategies\\random_sampling.py:86: UserWarning: To copy construct from a tensor, it is recommended to use sourceTensor.clone().detach() or sourceTensor.clone().detach().requires_grad_(True), rather than torch.tensor(sourceTensor).\n",
      "  ex = torch.tensor(self.dataset.data[self.queried_hist_[-1]][0]).to(self.device)\n",
      "C:\\Users\\Wan Jing\\.conda\\envs\\deepCB\\lib\\site-packages\\sklearn\\metrics\\_classification.py:1221: UndefinedMetricWarning: Precision is ill-defined and being set to 0.0 in labels with no predicted samples. Use `zero_division` parameter to control this behavior.\n",
      "  _warn_prf(average, modifier, msg_start, len(result))\n"
     ]
    },
    {
     "name": "stdout",
     "output_type": "stream",
     "text": [
      "   strategy  labeled_acc  testing_acc    reward\n",
      "48        3     0.367246     0.328449  0.327908\n",
      "Mon Aug 31 15:51:24 2020 ContextualBanditsActiveLearning query round: 50\n",
      "Strategy Chosen: UncertaintySampling\n"
     ]
    },
    {
     "name": "stderr",
     "output_type": "stream",
     "text": [
      "C:\\Users\\Wan Jing\\Documents\\libact-torch\\libact\\query_strategies\\contextual_bandits_active_learning.py:184: UserWarning: To copy construct from a tensor, it is recommended to use sourceTensor.clone().detach() or sourceTensor.clone().detach().requires_grad_(True), rather than torch.tensor(sourceTensor).\n",
      "  ex = torch.tensor(self.dataset.data[self.queried_hist_[-1]][0]).to(self.device)\n",
      "C:\\Users\\Wan Jing\\Documents\\libact-torch\\libact\\query_strategies\\uncertainty_sampling.py:149: UserWarning: To copy construct from a tensor, it is recommended to use sourceTensor.clone().detach() or sourceTensor.clone().detach().requires_grad_(True), rather than torch.tensor(sourceTensor).\n",
      "  ex = torch.tensor(self.dataset.data[self.queried_hist_[-1]][0]).to(self.device)\n",
      "C:\\Users\\Wan Jing\\Documents\\libact-torch\\libact\\query_strategies\\representative_sampling.py:113: UserWarning: To copy construct from a tensor, it is recommended to use sourceTensor.clone().detach() or sourceTensor.clone().detach().requires_grad_(True), rather than torch.tensor(sourceTensor).\n",
      "  ex = torch.tensor(self.dataset.data[self.queried_hist_[-1]][0]).to(self.device)\n",
      "C:\\Users\\Wan Jing\\Documents\\libact-torch\\libact\\query_strategies\\random_sampling.py:86: UserWarning: To copy construct from a tensor, it is recommended to use sourceTensor.clone().detach() or sourceTensor.clone().detach().requires_grad_(True), rather than torch.tensor(sourceTensor).\n",
      "  ex = torch.tensor(self.dataset.data[self.queried_hist_[-1]][0]).to(self.device)\n"
     ]
    },
    {
     "name": "stdout",
     "output_type": "stream",
     "text": [
      "   strategy  labeled_acc  testing_acc    reward\n",
      "49        3     0.368571     0.335165  0.337191\n",
      "Mon Aug 31 15:51:35 2020 ContextualBanditsActiveLearning query round: 51\n",
      "Strategy Chosen: RepresentativeSampling\n"
     ]
    },
    {
     "name": "stderr",
     "output_type": "stream",
     "text": [
      "C:\\Users\\Wan Jing\\Documents\\libact-torch\\libact\\query_strategies\\representative_sampling.py:147: UserWarning: To copy construct from a tensor, it is recommended to use sourceTensor.clone().detach() or sourceTensor.clone().detach().requires_grad_(True), rather than torch.tensor(sourceTensor).\n",
      "  x = torch.tensor(x).to(self.device)\n",
      "C:\\Users\\Wan Jing\\Documents\\libact-torch\\libact\\query_strategies\\contextual_bandits_active_learning.py:184: UserWarning: To copy construct from a tensor, it is recommended to use sourceTensor.clone().detach() or sourceTensor.clone().detach().requires_grad_(True), rather than torch.tensor(sourceTensor).\n",
      "  ex = torch.tensor(self.dataset.data[self.queried_hist_[-1]][0]).to(self.device)\n",
      "C:\\Users\\Wan Jing\\Documents\\libact-torch\\libact\\query_strategies\\uncertainty_sampling.py:149: UserWarning: To copy construct from a tensor, it is recommended to use sourceTensor.clone().detach() or sourceTensor.clone().detach().requires_grad_(True), rather than torch.tensor(sourceTensor).\n",
      "  ex = torch.tensor(self.dataset.data[self.queried_hist_[-1]][0]).to(self.device)\n",
      "C:\\Users\\Wan Jing\\Documents\\libact-torch\\libact\\query_strategies\\representative_sampling.py:113: UserWarning: To copy construct from a tensor, it is recommended to use sourceTensor.clone().detach() or sourceTensor.clone().detach().requires_grad_(True), rather than torch.tensor(sourceTensor).\n",
      "  ex = torch.tensor(self.dataset.data[self.queried_hist_[-1]][0]).to(self.device)\n",
      "C:\\Users\\Wan Jing\\Documents\\libact-torch\\libact\\query_strategies\\random_sampling.py:86: UserWarning: To copy construct from a tensor, it is recommended to use sourceTensor.clone().detach() or sourceTensor.clone().detach().requires_grad_(True), rather than torch.tensor(sourceTensor).\n",
      "  ex = torch.tensor(self.dataset.data[self.queried_hist_[-1]][0]).to(self.device)\n",
      "C:\\Users\\Wan Jing\\.conda\\envs\\deepCB\\lib\\site-packages\\sklearn\\metrics\\_classification.py:1221: UndefinedMetricWarning: Precision is ill-defined and being set to 0.0 in labels with no predicted samples. Use `zero_division` parameter to control this behavior.\n",
      "  _warn_prf(average, modifier, msg_start, len(result))\n"
     ]
    },
    {
     "name": "stdout",
     "output_type": "stream",
     "text": [
      "   strategy  labeled_acc  testing_acc   reward\n",
      "50        4     0.374648     0.337302  0.33795\n",
      "Mon Aug 31 15:51:48 2020 ContextualBanditsActiveLearning query round: 52\n",
      "Strategy Chosen: UncertaintySampling\n"
     ]
    },
    {
     "name": "stderr",
     "output_type": "stream",
     "text": [
      "C:\\Users\\Wan Jing\\Documents\\libact-torch\\libact\\query_strategies\\contextual_bandits_active_learning.py:184: UserWarning: To copy construct from a tensor, it is recommended to use sourceTensor.clone().detach() or sourceTensor.clone().detach().requires_grad_(True), rather than torch.tensor(sourceTensor).\n",
      "  ex = torch.tensor(self.dataset.data[self.queried_hist_[-1]][0]).to(self.device)\n",
      "C:\\Users\\Wan Jing\\Documents\\libact-torch\\libact\\query_strategies\\uncertainty_sampling.py:149: UserWarning: To copy construct from a tensor, it is recommended to use sourceTensor.clone().detach() or sourceTensor.clone().detach().requires_grad_(True), rather than torch.tensor(sourceTensor).\n",
      "  ex = torch.tensor(self.dataset.data[self.queried_hist_[-1]][0]).to(self.device)\n",
      "C:\\Users\\Wan Jing\\Documents\\libact-torch\\libact\\query_strategies\\representative_sampling.py:113: UserWarning: To copy construct from a tensor, it is recommended to use sourceTensor.clone().detach() or sourceTensor.clone().detach().requires_grad_(True), rather than torch.tensor(sourceTensor).\n",
      "  ex = torch.tensor(self.dataset.data[self.queried_hist_[-1]][0]).to(self.device)\n",
      "C:\\Users\\Wan Jing\\Documents\\libact-torch\\libact\\query_strategies\\random_sampling.py:86: UserWarning: To copy construct from a tensor, it is recommended to use sourceTensor.clone().detach() or sourceTensor.clone().detach().requires_grad_(True), rather than torch.tensor(sourceTensor).\n",
      "  ex = torch.tensor(self.dataset.data[self.queried_hist_[-1]][0]).to(self.device)\n"
     ]
    },
    {
     "name": "stdout",
     "output_type": "stream",
     "text": [
      "   strategy  labeled_acc  testing_acc    reward\n",
      "51        2     0.377778     0.332112  0.330561\n",
      "Mon Aug 31 15:52:00 2020 ContextualBanditsActiveLearning query round: 53\n",
      "Strategy Chosen: UncertaintySampling\n"
     ]
    },
    {
     "name": "stderr",
     "output_type": "stream",
     "text": [
      "C:\\Users\\Wan Jing\\Documents\\libact-torch\\libact\\query_strategies\\contextual_bandits_active_learning.py:184: UserWarning: To copy construct from a tensor, it is recommended to use sourceTensor.clone().detach() or sourceTensor.clone().detach().requires_grad_(True), rather than torch.tensor(sourceTensor).\n",
      "  ex = torch.tensor(self.dataset.data[self.queried_hist_[-1]][0]).to(self.device)\n",
      "C:\\Users\\Wan Jing\\Documents\\libact-torch\\libact\\query_strategies\\uncertainty_sampling.py:149: UserWarning: To copy construct from a tensor, it is recommended to use sourceTensor.clone().detach() or sourceTensor.clone().detach().requires_grad_(True), rather than torch.tensor(sourceTensor).\n",
      "  ex = torch.tensor(self.dataset.data[self.queried_hist_[-1]][0]).to(self.device)\n",
      "C:\\Users\\Wan Jing\\Documents\\libact-torch\\libact\\query_strategies\\representative_sampling.py:113: UserWarning: To copy construct from a tensor, it is recommended to use sourceTensor.clone().detach() or sourceTensor.clone().detach().requires_grad_(True), rather than torch.tensor(sourceTensor).\n",
      "  ex = torch.tensor(self.dataset.data[self.queried_hist_[-1]][0]).to(self.device)\n",
      "C:\\Users\\Wan Jing\\Documents\\libact-torch\\libact\\query_strategies\\random_sampling.py:86: UserWarning: To copy construct from a tensor, it is recommended to use sourceTensor.clone().detach() or sourceTensor.clone().detach().requires_grad_(True), rather than torch.tensor(sourceTensor).\n",
      "  ex = torch.tensor(self.dataset.data[self.queried_hist_[-1]][0]).to(self.device)\n"
     ]
    },
    {
     "name": "stdout",
     "output_type": "stream",
     "text": [
      "   strategy  labeled_acc  testing_acc    reward\n",
      "52        2     0.372055     0.333028  0.333303\n",
      "Mon Aug 31 15:52:11 2020 ContextualBanditsActiveLearning query round: 54\n",
      "Strategy Chosen: UncertaintySampling\n"
     ]
    },
    {
     "name": "stderr",
     "output_type": "stream",
     "text": [
      "C:\\Users\\Wan Jing\\Documents\\libact-torch\\libact\\query_strategies\\contextual_bandits_active_learning.py:184: UserWarning: To copy construct from a tensor, it is recommended to use sourceTensor.clone().detach() or sourceTensor.clone().detach().requires_grad_(True), rather than torch.tensor(sourceTensor).\n",
      "  ex = torch.tensor(self.dataset.data[self.queried_hist_[-1]][0]).to(self.device)\n",
      "C:\\Users\\Wan Jing\\Documents\\libact-torch\\libact\\query_strategies\\uncertainty_sampling.py:149: UserWarning: To copy construct from a tensor, it is recommended to use sourceTensor.clone().detach() or sourceTensor.clone().detach().requires_grad_(True), rather than torch.tensor(sourceTensor).\n",
      "  ex = torch.tensor(self.dataset.data[self.queried_hist_[-1]][0]).to(self.device)\n",
      "C:\\Users\\Wan Jing\\Documents\\libact-torch\\libact\\query_strategies\\representative_sampling.py:113: UserWarning: To copy construct from a tensor, it is recommended to use sourceTensor.clone().detach() or sourceTensor.clone().detach().requires_grad_(True), rather than torch.tensor(sourceTensor).\n",
      "  ex = torch.tensor(self.dataset.data[self.queried_hist_[-1]][0]).to(self.device)\n",
      "C:\\Users\\Wan Jing\\Documents\\libact-torch\\libact\\query_strategies\\random_sampling.py:86: UserWarning: To copy construct from a tensor, it is recommended to use sourceTensor.clone().detach() or sourceTensor.clone().detach().requires_grad_(True), rather than torch.tensor(sourceTensor).\n",
      "  ex = torch.tensor(self.dataset.data[self.queried_hist_[-1]][0]).to(self.device)\n",
      "C:\\Users\\Wan Jing\\.conda\\envs\\deepCB\\lib\\site-packages\\sklearn\\metrics\\_classification.py:1221: UndefinedMetricWarning: Precision is ill-defined and being set to 0.0 in labels with no predicted samples. Use `zero_division` parameter to control this behavior.\n",
      "  _warn_prf(average, modifier, msg_start, len(result))\n"
     ]
    },
    {
     "name": "stdout",
     "output_type": "stream",
     "text": [
      "   strategy  labeled_acc  testing_acc    reward\n",
      "53        1     0.374595     0.332723  0.332631\n",
      "Mon Aug 31 15:52:22 2020 ContextualBanditsActiveLearning query round: 55\n",
      "Strategy Chosen: RandomSampling\n"
     ]
    },
    {
     "name": "stderr",
     "output_type": "stream",
     "text": [
      "C:\\Users\\Wan Jing\\Documents\\libact-torch\\libact\\query_strategies\\contextual_bandits_active_learning.py:184: UserWarning: To copy construct from a tensor, it is recommended to use sourceTensor.clone().detach() or sourceTensor.clone().detach().requires_grad_(True), rather than torch.tensor(sourceTensor).\n",
      "  ex = torch.tensor(self.dataset.data[self.queried_hist_[-1]][0]).to(self.device)\n",
      "C:\\Users\\Wan Jing\\Documents\\libact-torch\\libact\\query_strategies\\uncertainty_sampling.py:149: UserWarning: To copy construct from a tensor, it is recommended to use sourceTensor.clone().detach() or sourceTensor.clone().detach().requires_grad_(True), rather than torch.tensor(sourceTensor).\n",
      "  ex = torch.tensor(self.dataset.data[self.queried_hist_[-1]][0]).to(self.device)\n",
      "C:\\Users\\Wan Jing\\Documents\\libact-torch\\libact\\query_strategies\\representative_sampling.py:113: UserWarning: To copy construct from a tensor, it is recommended to use sourceTensor.clone().detach() or sourceTensor.clone().detach().requires_grad_(True), rather than torch.tensor(sourceTensor).\n",
      "  ex = torch.tensor(self.dataset.data[self.queried_hist_[-1]][0]).to(self.device)\n",
      "C:\\Users\\Wan Jing\\Documents\\libact-torch\\libact\\query_strategies\\random_sampling.py:86: UserWarning: To copy construct from a tensor, it is recommended to use sourceTensor.clone().detach() or sourceTensor.clone().detach().requires_grad_(True), rather than torch.tensor(sourceTensor).\n",
      "  ex = torch.tensor(self.dataset.data[self.queried_hist_[-1]][0]).to(self.device)\n"
     ]
    },
    {
     "name": "stdout",
     "output_type": "stream",
     "text": [
      "   strategy  labeled_acc  testing_acc    reward\n",
      "54        0     0.375733     0.337607  0.339091\n",
      "Mon Aug 31 15:52:29 2020 ContextualBanditsActiveLearning query round: 56\n",
      "Strategy Chosen: RepresentativeSampling\n"
     ]
    },
    {
     "name": "stderr",
     "output_type": "stream",
     "text": [
      "C:\\Users\\Wan Jing\\Documents\\libact-torch\\libact\\query_strategies\\representative_sampling.py:147: UserWarning: To copy construct from a tensor, it is recommended to use sourceTensor.clone().detach() or sourceTensor.clone().detach().requires_grad_(True), rather than torch.tensor(sourceTensor).\n",
      "  x = torch.tensor(x).to(self.device)\n",
      "C:\\Users\\Wan Jing\\Documents\\libact-torch\\libact\\query_strategies\\contextual_bandits_active_learning.py:184: UserWarning: To copy construct from a tensor, it is recommended to use sourceTensor.clone().detach() or sourceTensor.clone().detach().requires_grad_(True), rather than torch.tensor(sourceTensor).\n",
      "  ex = torch.tensor(self.dataset.data[self.queried_hist_[-1]][0]).to(self.device)\n",
      "C:\\Users\\Wan Jing\\Documents\\libact-torch\\libact\\query_strategies\\uncertainty_sampling.py:149: UserWarning: To copy construct from a tensor, it is recommended to use sourceTensor.clone().detach() or sourceTensor.clone().detach().requires_grad_(True), rather than torch.tensor(sourceTensor).\n",
      "  ex = torch.tensor(self.dataset.data[self.queried_hist_[-1]][0]).to(self.device)\n",
      "C:\\Users\\Wan Jing\\Documents\\libact-torch\\libact\\query_strategies\\representative_sampling.py:113: UserWarning: To copy construct from a tensor, it is recommended to use sourceTensor.clone().detach() or sourceTensor.clone().detach().requires_grad_(True), rather than torch.tensor(sourceTensor).\n",
      "  ex = torch.tensor(self.dataset.data[self.queried_hist_[-1]][0]).to(self.device)\n",
      "C:\\Users\\Wan Jing\\Documents\\libact-torch\\libact\\query_strategies\\random_sampling.py:86: UserWarning: To copy construct from a tensor, it is recommended to use sourceTensor.clone().detach() or sourceTensor.clone().detach().requires_grad_(True), rather than torch.tensor(sourceTensor).\n",
      "  ex = torch.tensor(self.dataset.data[self.queried_hist_[-1]][0]).to(self.device)\n",
      "C:\\Users\\Wan Jing\\.conda\\envs\\deepCB\\lib\\site-packages\\sklearn\\metrics\\_classification.py:1221: UndefinedMetricWarning: Precision is ill-defined and being set to 0.0 in labels with no predicted samples. Use `zero_division` parameter to control this behavior.\n",
      "  _warn_prf(average, modifier, msg_start, len(result))\n"
     ]
    },
    {
     "name": "stdout",
     "output_type": "stream",
     "text": [
      "   strategy  labeled_acc  testing_acc    reward\n",
      "55        4     0.377368     0.332418  0.330865\n",
      "Mon Aug 31 15:52:44 2020 ContextualBanditsActiveLearning query round: 57\n",
      "Strategy Chosen: UncertaintySampling\n"
     ]
    },
    {
     "name": "stderr",
     "output_type": "stream",
     "text": [
      "C:\\Users\\Wan Jing\\Documents\\libact-torch\\libact\\query_strategies\\contextual_bandits_active_learning.py:184: UserWarning: To copy construct from a tensor, it is recommended to use sourceTensor.clone().detach() or sourceTensor.clone().detach().requires_grad_(True), rather than torch.tensor(sourceTensor).\n",
      "  ex = torch.tensor(self.dataset.data[self.queried_hist_[-1]][0]).to(self.device)\n",
      "C:\\Users\\Wan Jing\\Documents\\libact-torch\\libact\\query_strategies\\uncertainty_sampling.py:149: UserWarning: To copy construct from a tensor, it is recommended to use sourceTensor.clone().detach() or sourceTensor.clone().detach().requires_grad_(True), rather than torch.tensor(sourceTensor).\n",
      "  ex = torch.tensor(self.dataset.data[self.queried_hist_[-1]][0]).to(self.device)\n",
      "C:\\Users\\Wan Jing\\Documents\\libact-torch\\libact\\query_strategies\\representative_sampling.py:113: UserWarning: To copy construct from a tensor, it is recommended to use sourceTensor.clone().detach() or sourceTensor.clone().detach().requires_grad_(True), rather than torch.tensor(sourceTensor).\n",
      "  ex = torch.tensor(self.dataset.data[self.queried_hist_[-1]][0]).to(self.device)\n",
      "C:\\Users\\Wan Jing\\Documents\\libact-torch\\libact\\query_strategies\\random_sampling.py:86: UserWarning: To copy construct from a tensor, it is recommended to use sourceTensor.clone().detach() or sourceTensor.clone().detach().requires_grad_(True), rather than torch.tensor(sourceTensor).\n",
      "  ex = torch.tensor(self.dataset.data[self.queried_hist_[-1]][0]).to(self.device)\n"
     ]
    },
    {
     "name": "stdout",
     "output_type": "stream",
     "text": [
      "   strategy  labeled_acc  testing_acc    reward\n",
      "56        2         0.38     0.332112  0.332021\n",
      "Mon Aug 31 15:52:55 2020 ContextualBanditsActiveLearning query round: 58\n",
      "Strategy Chosen: UncertaintySampling\n"
     ]
    },
    {
     "name": "stderr",
     "output_type": "stream",
     "text": [
      "C:\\Users\\Wan Jing\\Documents\\libact-torch\\libact\\query_strategies\\contextual_bandits_active_learning.py:184: UserWarning: To copy construct from a tensor, it is recommended to use sourceTensor.clone().detach() or sourceTensor.clone().detach().requires_grad_(True), rather than torch.tensor(sourceTensor).\n",
      "  ex = torch.tensor(self.dataset.data[self.queried_hist_[-1]][0]).to(self.device)\n",
      "C:\\Users\\Wan Jing\\Documents\\libact-torch\\libact\\query_strategies\\uncertainty_sampling.py:149: UserWarning: To copy construct from a tensor, it is recommended to use sourceTensor.clone().detach() or sourceTensor.clone().detach().requires_grad_(True), rather than torch.tensor(sourceTensor).\n",
      "  ex = torch.tensor(self.dataset.data[self.queried_hist_[-1]][0]).to(self.device)\n",
      "C:\\Users\\Wan Jing\\Documents\\libact-torch\\libact\\query_strategies\\representative_sampling.py:113: UserWarning: To copy construct from a tensor, it is recommended to use sourceTensor.clone().detach() or sourceTensor.clone().detach().requires_grad_(True), rather than torch.tensor(sourceTensor).\n",
      "  ex = torch.tensor(self.dataset.data[self.queried_hist_[-1]][0]).to(self.device)\n",
      "C:\\Users\\Wan Jing\\Documents\\libact-torch\\libact\\query_strategies\\random_sampling.py:86: UserWarning: To copy construct from a tensor, it is recommended to use sourceTensor.clone().detach() or sourceTensor.clone().detach().requires_grad_(True), rather than torch.tensor(sourceTensor).\n",
      "  ex = torch.tensor(self.dataset.data[self.queried_hist_[-1]][0]).to(self.device)\n"
     ]
    },
    {
     "name": "stdout",
     "output_type": "stream",
     "text": [
      "   strategy  labeled_acc  testing_acc    reward\n",
      "57        1     0.382051      0.33547  0.336484\n",
      "Mon Aug 31 15:53:07 2020 ContextualBanditsActiveLearning query round: 59\n",
      "Strategy Chosen: UncertaintySampling\n"
     ]
    },
    {
     "name": "stderr",
     "output_type": "stream",
     "text": [
      "C:\\Users\\Wan Jing\\Documents\\libact-torch\\libact\\query_strategies\\contextual_bandits_active_learning.py:184: UserWarning: To copy construct from a tensor, it is recommended to use sourceTensor.clone().detach() or sourceTensor.clone().detach().requires_grad_(True), rather than torch.tensor(sourceTensor).\n",
      "  ex = torch.tensor(self.dataset.data[self.queried_hist_[-1]][0]).to(self.device)\n",
      "C:\\Users\\Wan Jing\\Documents\\libact-torch\\libact\\query_strategies\\uncertainty_sampling.py:149: UserWarning: To copy construct from a tensor, it is recommended to use sourceTensor.clone().detach() or sourceTensor.clone().detach().requires_grad_(True), rather than torch.tensor(sourceTensor).\n",
      "  ex = torch.tensor(self.dataset.data[self.queried_hist_[-1]][0]).to(self.device)\n",
      "C:\\Users\\Wan Jing\\Documents\\libact-torch\\libact\\query_strategies\\representative_sampling.py:113: UserWarning: To copy construct from a tensor, it is recommended to use sourceTensor.clone().detach() or sourceTensor.clone().detach().requires_grad_(True), rather than torch.tensor(sourceTensor).\n",
      "  ex = torch.tensor(self.dataset.data[self.queried_hist_[-1]][0]).to(self.device)\n",
      "C:\\Users\\Wan Jing\\Documents\\libact-torch\\libact\\query_strategies\\random_sampling.py:86: UserWarning: To copy construct from a tensor, it is recommended to use sourceTensor.clone().detach() or sourceTensor.clone().detach().requires_grad_(True), rather than torch.tensor(sourceTensor).\n",
      "  ex = torch.tensor(self.dataset.data[self.queried_hist_[-1]][0]).to(self.device)\n"
     ]
    },
    {
     "name": "stdout",
     "output_type": "stream",
     "text": [
      "   strategy  labeled_acc  testing_acc    reward\n",
      "58        3     0.388861     0.338523  0.339453\n",
      "Mon Aug 31 15:53:18 2020 ContextualBanditsActiveLearning query round: 60\n",
      "Strategy Chosen: UncertaintySampling\n"
     ]
    },
    {
     "name": "stderr",
     "output_type": "stream",
     "text": [
      "C:\\Users\\Wan Jing\\Documents\\libact-torch\\libact\\query_strategies\\contextual_bandits_active_learning.py:184: UserWarning: To copy construct from a tensor, it is recommended to use sourceTensor.clone().detach() or sourceTensor.clone().detach().requires_grad_(True), rather than torch.tensor(sourceTensor).\n",
      "  ex = torch.tensor(self.dataset.data[self.queried_hist_[-1]][0]).to(self.device)\n",
      "C:\\Users\\Wan Jing\\Documents\\libact-torch\\libact\\query_strategies\\uncertainty_sampling.py:149: UserWarning: To copy construct from a tensor, it is recommended to use sourceTensor.clone().detach() or sourceTensor.clone().detach().requires_grad_(True), rather than torch.tensor(sourceTensor).\n",
      "  ex = torch.tensor(self.dataset.data[self.queried_hist_[-1]][0]).to(self.device)\n",
      "C:\\Users\\Wan Jing\\Documents\\libact-torch\\libact\\query_strategies\\representative_sampling.py:113: UserWarning: To copy construct from a tensor, it is recommended to use sourceTensor.clone().detach() or sourceTensor.clone().detach().requires_grad_(True), rather than torch.tensor(sourceTensor).\n",
      "  ex = torch.tensor(self.dataset.data[self.queried_hist_[-1]][0]).to(self.device)\n",
      "C:\\Users\\Wan Jing\\Documents\\libact-torch\\libact\\query_strategies\\random_sampling.py:86: UserWarning: To copy construct from a tensor, it is recommended to use sourceTensor.clone().detach() or sourceTensor.clone().detach().requires_grad_(True), rather than torch.tensor(sourceTensor).\n",
      "  ex = torch.tensor(self.dataset.data[self.queried_hist_[-1]][0]).to(self.device)\n"
     ]
    },
    {
     "name": "stdout",
     "output_type": "stream",
     "text": [
      "   strategy  labeled_acc  testing_acc    reward\n",
      "59        1        0.385     0.338523  0.338523\n",
      "Mon Aug 31 15:53:29 2020 ContextualBanditsActiveLearning query round: 61\n",
      "Strategy Chosen: RandomSampling\n"
     ]
    },
    {
     "name": "stderr",
     "output_type": "stream",
     "text": [
      "C:\\Users\\Wan Jing\\Documents\\libact-torch\\libact\\query_strategies\\contextual_bandits_active_learning.py:184: UserWarning: To copy construct from a tensor, it is recommended to use sourceTensor.clone().detach() or sourceTensor.clone().detach().requires_grad_(True), rather than torch.tensor(sourceTensor).\n",
      "  ex = torch.tensor(self.dataset.data[self.queried_hist_[-1]][0]).to(self.device)\n",
      "C:\\Users\\Wan Jing\\Documents\\libact-torch\\libact\\query_strategies\\uncertainty_sampling.py:149: UserWarning: To copy construct from a tensor, it is recommended to use sourceTensor.clone().detach() or sourceTensor.clone().detach().requires_grad_(True), rather than torch.tensor(sourceTensor).\n",
      "  ex = torch.tensor(self.dataset.data[self.queried_hist_[-1]][0]).to(self.device)\n",
      "C:\\Users\\Wan Jing\\Documents\\libact-torch\\libact\\query_strategies\\representative_sampling.py:113: UserWarning: To copy construct from a tensor, it is recommended to use sourceTensor.clone().detach() or sourceTensor.clone().detach().requires_grad_(True), rather than torch.tensor(sourceTensor).\n",
      "  ex = torch.tensor(self.dataset.data[self.queried_hist_[-1]][0]).to(self.device)\n",
      "C:\\Users\\Wan Jing\\Documents\\libact-torch\\libact\\query_strategies\\random_sampling.py:86: UserWarning: To copy construct from a tensor, it is recommended to use sourceTensor.clone().detach() or sourceTensor.clone().detach().requires_grad_(True), rather than torch.tensor(sourceTensor).\n",
      "  ex = torch.tensor(self.dataset.data[self.queried_hist_[-1]][0]).to(self.device)\n",
      "C:\\Users\\Wan Jing\\.conda\\envs\\deepCB\\lib\\site-packages\\sklearn\\metrics\\_classification.py:1221: UndefinedMetricWarning: Precision is ill-defined and being set to 0.0 in labels with no predicted samples. Use `zero_division` parameter to control this behavior.\n",
      "  _warn_prf(average, modifier, msg_start, len(result))\n"
     ]
    },
    {
     "name": "stdout",
     "output_type": "stream",
     "text": [
      "   strategy  labeled_acc  testing_acc    reward\n",
      "60        0     0.387654     0.340354  0.340915\n",
      "Mon Aug 31 15:53:38 2020 ContextualBanditsActiveLearning query round: 62\n",
      "Strategy Chosen: UncertaintySampling\n"
     ]
    },
    {
     "name": "stderr",
     "output_type": "stream",
     "text": [
      "C:\\Users\\Wan Jing\\Documents\\libact-torch\\libact\\query_strategies\\contextual_bandits_active_learning.py:184: UserWarning: To copy construct from a tensor, it is recommended to use sourceTensor.clone().detach() or sourceTensor.clone().detach().requires_grad_(True), rather than torch.tensor(sourceTensor).\n",
      "  ex = torch.tensor(self.dataset.data[self.queried_hist_[-1]][0]).to(self.device)\n",
      "C:\\Users\\Wan Jing\\Documents\\libact-torch\\libact\\query_strategies\\uncertainty_sampling.py:149: UserWarning: To copy construct from a tensor, it is recommended to use sourceTensor.clone().detach() or sourceTensor.clone().detach().requires_grad_(True), rather than torch.tensor(sourceTensor).\n",
      "  ex = torch.tensor(self.dataset.data[self.queried_hist_[-1]][0]).to(self.device)\n",
      "C:\\Users\\Wan Jing\\Documents\\libact-torch\\libact\\query_strategies\\representative_sampling.py:113: UserWarning: To copy construct from a tensor, it is recommended to use sourceTensor.clone().detach() or sourceTensor.clone().detach().requires_grad_(True), rather than torch.tensor(sourceTensor).\n",
      "  ex = torch.tensor(self.dataset.data[self.queried_hist_[-1]][0]).to(self.device)\n",
      "C:\\Users\\Wan Jing\\Documents\\libact-torch\\libact\\query_strategies\\random_sampling.py:86: UserWarning: To copy construct from a tensor, it is recommended to use sourceTensor.clone().detach() or sourceTensor.clone().detach().requires_grad_(True), rather than torch.tensor(sourceTensor).\n",
      "  ex = torch.tensor(self.dataset.data[self.queried_hist_[-1]][0]).to(self.device)\n",
      "C:\\Users\\Wan Jing\\.conda\\envs\\deepCB\\lib\\site-packages\\sklearn\\metrics\\_classification.py:1221: UndefinedMetricWarning: Precision is ill-defined and being set to 0.0 in labels with no predicted samples. Use `zero_division` parameter to control this behavior.\n",
      "  _warn_prf(average, modifier, msg_start, len(result))\n"
     ]
    },
    {
     "name": "stdout",
     "output_type": "stream",
     "text": [
      "   strategy  labeled_acc  testing_acc    reward\n",
      "61        3     0.386585     0.336691  0.335581\n",
      "Mon Aug 31 15:53:49 2020 ContextualBanditsActiveLearning query round: 63\n",
      "Strategy Chosen: UncertaintySampling\n"
     ]
    },
    {
     "name": "stderr",
     "output_type": "stream",
     "text": [
      "C:\\Users\\Wan Jing\\Documents\\libact-torch\\libact\\query_strategies\\contextual_bandits_active_learning.py:184: UserWarning: To copy construct from a tensor, it is recommended to use sourceTensor.clone().detach() or sourceTensor.clone().detach().requires_grad_(True), rather than torch.tensor(sourceTensor).\n",
      "  ex = torch.tensor(self.dataset.data[self.queried_hist_[-1]][0]).to(self.device)\n",
      "C:\\Users\\Wan Jing\\Documents\\libact-torch\\libact\\query_strategies\\uncertainty_sampling.py:149: UserWarning: To copy construct from a tensor, it is recommended to use sourceTensor.clone().detach() or sourceTensor.clone().detach().requires_grad_(True), rather than torch.tensor(sourceTensor).\n",
      "  ex = torch.tensor(self.dataset.data[self.queried_hist_[-1]][0]).to(self.device)\n",
      "C:\\Users\\Wan Jing\\Documents\\libact-torch\\libact\\query_strategies\\representative_sampling.py:113: UserWarning: To copy construct from a tensor, it is recommended to use sourceTensor.clone().detach() or sourceTensor.clone().detach().requires_grad_(True), rather than torch.tensor(sourceTensor).\n",
      "  ex = torch.tensor(self.dataset.data[self.queried_hist_[-1]][0]).to(self.device)\n",
      "C:\\Users\\Wan Jing\\Documents\\libact-torch\\libact\\query_strategies\\random_sampling.py:86: UserWarning: To copy construct from a tensor, it is recommended to use sourceTensor.clone().detach() or sourceTensor.clone().detach().requires_grad_(True), rather than torch.tensor(sourceTensor).\n",
      "  ex = torch.tensor(self.dataset.data[self.queried_hist_[-1]][0]).to(self.device)\n",
      "C:\\Users\\Wan Jing\\.conda\\envs\\deepCB\\lib\\site-packages\\sklearn\\metrics\\_classification.py:1221: UndefinedMetricWarning: Precision is ill-defined and being set to 0.0 in labels with no predicted samples. Use `zero_division` parameter to control this behavior.\n",
      "  _warn_prf(average, modifier, msg_start, len(result))\n"
     ]
    },
    {
     "name": "stdout",
     "output_type": "stream",
     "text": [
      "   strategy  labeled_acc  testing_acc    reward\n",
      "62        1     0.386747     0.339438  0.340278\n",
      "Mon Aug 31 15:54:01 2020 ContextualBanditsActiveLearning query round: 64\n",
      "Strategy Chosen: RepresentativeSampling\n"
     ]
    },
    {
     "name": "stderr",
     "output_type": "stream",
     "text": [
      "C:\\Users\\Wan Jing\\Documents\\libact-torch\\libact\\query_strategies\\representative_sampling.py:147: UserWarning: To copy construct from a tensor, it is recommended to use sourceTensor.clone().detach() or sourceTensor.clone().detach().requires_grad_(True), rather than torch.tensor(sourceTensor).\n",
      "  x = torch.tensor(x).to(self.device)\n",
      "C:\\Users\\Wan Jing\\Documents\\libact-torch\\libact\\query_strategies\\contextual_bandits_active_learning.py:184: UserWarning: To copy construct from a tensor, it is recommended to use sourceTensor.clone().detach() or sourceTensor.clone().detach().requires_grad_(True), rather than torch.tensor(sourceTensor).\n",
      "  ex = torch.tensor(self.dataset.data[self.queried_hist_[-1]][0]).to(self.device)\n",
      "C:\\Users\\Wan Jing\\Documents\\libact-torch\\libact\\query_strategies\\uncertainty_sampling.py:149: UserWarning: To copy construct from a tensor, it is recommended to use sourceTensor.clone().detach() or sourceTensor.clone().detach().requires_grad_(True), rather than torch.tensor(sourceTensor).\n",
      "  ex = torch.tensor(self.dataset.data[self.queried_hist_[-1]][0]).to(self.device)\n",
      "C:\\Users\\Wan Jing\\Documents\\libact-torch\\libact\\query_strategies\\representative_sampling.py:113: UserWarning: To copy construct from a tensor, it is recommended to use sourceTensor.clone().detach() or sourceTensor.clone().detach().requires_grad_(True), rather than torch.tensor(sourceTensor).\n",
      "  ex = torch.tensor(self.dataset.data[self.queried_hist_[-1]][0]).to(self.device)\n",
      "C:\\Users\\Wan Jing\\Documents\\libact-torch\\libact\\query_strategies\\random_sampling.py:86: UserWarning: To copy construct from a tensor, it is recommended to use sourceTensor.clone().detach() or sourceTensor.clone().detach().requires_grad_(True), rather than torch.tensor(sourceTensor).\n",
      "  ex = torch.tensor(self.dataset.data[self.queried_hist_[-1]][0]).to(self.device)\n",
      "C:\\Users\\Wan Jing\\.conda\\envs\\deepCB\\lib\\site-packages\\sklearn\\metrics\\_classification.py:1221: UndefinedMetricWarning: Precision is ill-defined and being set to 0.0 in labels with no predicted samples. Use `zero_division` parameter to control this behavior.\n",
      "  _warn_prf(average, modifier, msg_start, len(result))\n"
     ]
    },
    {
     "name": "stdout",
     "output_type": "stream",
     "text": [
      "   strategy  labeled_acc  testing_acc    reward\n",
      "63        4     0.385238     0.337302  0.336653\n",
      "Mon Aug 31 15:54:15 2020 ContextualBanditsActiveLearning query round: 65\n",
      "Strategy Chosen: UncertaintySampling\n"
     ]
    },
    {
     "name": "stderr",
     "output_type": "stream",
     "text": [
      "C:\\Users\\Wan Jing\\Documents\\libact-torch\\libact\\query_strategies\\contextual_bandits_active_learning.py:184: UserWarning: To copy construct from a tensor, it is recommended to use sourceTensor.clone().detach() or sourceTensor.clone().detach().requires_grad_(True), rather than torch.tensor(sourceTensor).\n",
      "  ex = torch.tensor(self.dataset.data[self.queried_hist_[-1]][0]).to(self.device)\n",
      "C:\\Users\\Wan Jing\\Documents\\libact-torch\\libact\\query_strategies\\uncertainty_sampling.py:149: UserWarning: To copy construct from a tensor, it is recommended to use sourceTensor.clone().detach() or sourceTensor.clone().detach().requires_grad_(True), rather than torch.tensor(sourceTensor).\n",
      "  ex = torch.tensor(self.dataset.data[self.queried_hist_[-1]][0]).to(self.device)\n",
      "C:\\Users\\Wan Jing\\Documents\\libact-torch\\libact\\query_strategies\\representative_sampling.py:113: UserWarning: To copy construct from a tensor, it is recommended to use sourceTensor.clone().detach() or sourceTensor.clone().detach().requires_grad_(True), rather than torch.tensor(sourceTensor).\n",
      "  ex = torch.tensor(self.dataset.data[self.queried_hist_[-1]][0]).to(self.device)\n",
      "C:\\Users\\Wan Jing\\Documents\\libact-torch\\libact\\query_strategies\\random_sampling.py:86: UserWarning: To copy construct from a tensor, it is recommended to use sourceTensor.clone().detach() or sourceTensor.clone().detach().requires_grad_(True), rather than torch.tensor(sourceTensor).\n",
      "  ex = torch.tensor(self.dataset.data[self.queried_hist_[-1]][0]).to(self.device)\n"
     ]
    },
    {
     "name": "stdout",
     "output_type": "stream",
     "text": [
      "   strategy  labeled_acc  testing_acc    reward\n",
      "64        3     0.392941     0.340659  0.341689\n",
      "Mon Aug 31 15:54:27 2020 ContextualBanditsActiveLearning query round: 66\n",
      "Strategy Chosen: UncertaintySampling\n"
     ]
    },
    {
     "name": "stderr",
     "output_type": "stream",
     "text": [
      "C:\\Users\\Wan Jing\\Documents\\libact-torch\\libact\\query_strategies\\contextual_bandits_active_learning.py:184: UserWarning: To copy construct from a tensor, it is recommended to use sourceTensor.clone().detach() or sourceTensor.clone().detach().requires_grad_(True), rather than torch.tensor(sourceTensor).\n",
      "  ex = torch.tensor(self.dataset.data[self.queried_hist_[-1]][0]).to(self.device)\n",
      "C:\\Users\\Wan Jing\\Documents\\libact-torch\\libact\\query_strategies\\uncertainty_sampling.py:149: UserWarning: To copy construct from a tensor, it is recommended to use sourceTensor.clone().detach() or sourceTensor.clone().detach().requires_grad_(True), rather than torch.tensor(sourceTensor).\n",
      "  ex = torch.tensor(self.dataset.data[self.queried_hist_[-1]][0]).to(self.device)\n",
      "C:\\Users\\Wan Jing\\Documents\\libact-torch\\libact\\query_strategies\\representative_sampling.py:113: UserWarning: To copy construct from a tensor, it is recommended to use sourceTensor.clone().detach() or sourceTensor.clone().detach().requires_grad_(True), rather than torch.tensor(sourceTensor).\n",
      "  ex = torch.tensor(self.dataset.data[self.queried_hist_[-1]][0]).to(self.device)\n",
      "C:\\Users\\Wan Jing\\Documents\\libact-torch\\libact\\query_strategies\\random_sampling.py:86: UserWarning: To copy construct from a tensor, it is recommended to use sourceTensor.clone().detach() or sourceTensor.clone().detach().requires_grad_(True), rather than torch.tensor(sourceTensor).\n",
      "  ex = torch.tensor(self.dataset.data[self.queried_hist_[-1]][0]).to(self.device)\n"
     ]
    },
    {
     "name": "stdout",
     "output_type": "stream",
     "text": [
      "   strategy  labeled_acc  testing_acc    reward\n",
      "65        1     0.393721      0.34188  0.342256\n",
      "Mon Aug 31 15:54:38 2020 ContextualBanditsActiveLearning query round: 67\n",
      "Strategy Chosen: UncertaintySampling\n"
     ]
    },
    {
     "name": "stderr",
     "output_type": "stream",
     "text": [
      "C:\\Users\\Wan Jing\\Documents\\libact-torch\\libact\\query_strategies\\contextual_bandits_active_learning.py:184: UserWarning: To copy construct from a tensor, it is recommended to use sourceTensor.clone().detach() or sourceTensor.clone().detach().requires_grad_(True), rather than torch.tensor(sourceTensor).\n",
      "  ex = torch.tensor(self.dataset.data[self.queried_hist_[-1]][0]).to(self.device)\n",
      "C:\\Users\\Wan Jing\\Documents\\libact-torch\\libact\\query_strategies\\uncertainty_sampling.py:149: UserWarning: To copy construct from a tensor, it is recommended to use sourceTensor.clone().detach() or sourceTensor.clone().detach().requires_grad_(True), rather than torch.tensor(sourceTensor).\n",
      "  ex = torch.tensor(self.dataset.data[self.queried_hist_[-1]][0]).to(self.device)\n",
      "C:\\Users\\Wan Jing\\Documents\\libact-torch\\libact\\query_strategies\\representative_sampling.py:113: UserWarning: To copy construct from a tensor, it is recommended to use sourceTensor.clone().detach() or sourceTensor.clone().detach().requires_grad_(True), rather than torch.tensor(sourceTensor).\n",
      "  ex = torch.tensor(self.dataset.data[self.queried_hist_[-1]][0]).to(self.device)\n",
      "C:\\Users\\Wan Jing\\Documents\\libact-torch\\libact\\query_strategies\\random_sampling.py:86: UserWarning: To copy construct from a tensor, it is recommended to use sourceTensor.clone().detach() or sourceTensor.clone().detach().requires_grad_(True), rather than torch.tensor(sourceTensor).\n",
      "  ex = torch.tensor(self.dataset.data[self.queried_hist_[-1]][0]).to(self.device)\n"
     ]
    },
    {
     "name": "stdout",
     "output_type": "stream",
     "text": [
      "   strategy  labeled_acc  testing_acc   reward\n",
      "66        2     0.393103      0.34188  0.34188\n",
      "Mon Aug 31 15:54:50 2020 ContextualBanditsActiveLearning query round: 68\n",
      "Strategy Chosen: UncertaintySampling\n"
     ]
    },
    {
     "name": "stderr",
     "output_type": "stream",
     "text": [
      "C:\\Users\\Wan Jing\\Documents\\libact-torch\\libact\\query_strategies\\contextual_bandits_active_learning.py:184: UserWarning: To copy construct from a tensor, it is recommended to use sourceTensor.clone().detach() or sourceTensor.clone().detach().requires_grad_(True), rather than torch.tensor(sourceTensor).\n",
      "  ex = torch.tensor(self.dataset.data[self.queried_hist_[-1]][0]).to(self.device)\n",
      "C:\\Users\\Wan Jing\\Documents\\libact-torch\\libact\\query_strategies\\uncertainty_sampling.py:149: UserWarning: To copy construct from a tensor, it is recommended to use sourceTensor.clone().detach() or sourceTensor.clone().detach().requires_grad_(True), rather than torch.tensor(sourceTensor).\n",
      "  ex = torch.tensor(self.dataset.data[self.queried_hist_[-1]][0]).to(self.device)\n",
      "C:\\Users\\Wan Jing\\Documents\\libact-torch\\libact\\query_strategies\\representative_sampling.py:113: UserWarning: To copy construct from a tensor, it is recommended to use sourceTensor.clone().detach() or sourceTensor.clone().detach().requires_grad_(True), rather than torch.tensor(sourceTensor).\n",
      "  ex = torch.tensor(self.dataset.data[self.queried_hist_[-1]][0]).to(self.device)\n",
      "C:\\Users\\Wan Jing\\Documents\\libact-torch\\libact\\query_strategies\\random_sampling.py:86: UserWarning: To copy construct from a tensor, it is recommended to use sourceTensor.clone().detach() or sourceTensor.clone().detach().requires_grad_(True), rather than torch.tensor(sourceTensor).\n",
      "  ex = torch.tensor(self.dataset.data[self.queried_hist_[-1]][0]).to(self.device)\n",
      "C:\\Users\\Wan Jing\\.conda\\envs\\deepCB\\lib\\site-packages\\sklearn\\metrics\\_classification.py:1221: UndefinedMetricWarning: Precision is ill-defined and being set to 0.0 in labels with no predicted samples. Use `zero_division` parameter to control this behavior.\n",
      "  _warn_prf(average, modifier, msg_start, len(result))\n"
     ]
    },
    {
     "name": "stdout",
     "output_type": "stream",
     "text": [
      "   strategy  labeled_acc  testing_acc    reward\n",
      "67        1     0.390909     0.345238  0.346281\n",
      "Mon Aug 31 15:55:02 2020 ContextualBanditsActiveLearning query round: 69\n",
      "Strategy Chosen: UncertaintySampling\n"
     ]
    },
    {
     "name": "stderr",
     "output_type": "stream",
     "text": [
      "C:\\Users\\Wan Jing\\Documents\\libact-torch\\libact\\query_strategies\\contextual_bandits_active_learning.py:184: UserWarning: To copy construct from a tensor, it is recommended to use sourceTensor.clone().detach() or sourceTensor.clone().detach().requires_grad_(True), rather than torch.tensor(sourceTensor).\n",
      "  ex = torch.tensor(self.dataset.data[self.queried_hist_[-1]][0]).to(self.device)\n",
      "C:\\Users\\Wan Jing\\Documents\\libact-torch\\libact\\query_strategies\\uncertainty_sampling.py:149: UserWarning: To copy construct from a tensor, it is recommended to use sourceTensor.clone().detach() or sourceTensor.clone().detach().requires_grad_(True), rather than torch.tensor(sourceTensor).\n",
      "  ex = torch.tensor(self.dataset.data[self.queried_hist_[-1]][0]).to(self.device)\n",
      "C:\\Users\\Wan Jing\\Documents\\libact-torch\\libact\\query_strategies\\representative_sampling.py:113: UserWarning: To copy construct from a tensor, it is recommended to use sourceTensor.clone().detach() or sourceTensor.clone().detach().requires_grad_(True), rather than torch.tensor(sourceTensor).\n",
      "  ex = torch.tensor(self.dataset.data[self.queried_hist_[-1]][0]).to(self.device)\n",
      "C:\\Users\\Wan Jing\\Documents\\libact-torch\\libact\\query_strategies\\random_sampling.py:86: UserWarning: To copy construct from a tensor, it is recommended to use sourceTensor.clone().detach() or sourceTensor.clone().detach().requires_grad_(True), rather than torch.tensor(sourceTensor).\n",
      "  ex = torch.tensor(self.dataset.data[self.queried_hist_[-1]][0]).to(self.device)\n"
     ]
    },
    {
     "name": "stdout",
     "output_type": "stream",
     "text": [
      "   strategy  labeled_acc  testing_acc    reward\n",
      "68        2     0.396854      0.34768  0.348444\n",
      "Mon Aug 31 15:55:14 2020 ContextualBanditsActiveLearning query round: 70\n",
      "Strategy Chosen: RandomSampling\n"
     ]
    },
    {
     "name": "stderr",
     "output_type": "stream",
     "text": [
      "C:\\Users\\Wan Jing\\Documents\\libact-torch\\libact\\query_strategies\\contextual_bandits_active_learning.py:184: UserWarning: To copy construct from a tensor, it is recommended to use sourceTensor.clone().detach() or sourceTensor.clone().detach().requires_grad_(True), rather than torch.tensor(sourceTensor).\n",
      "  ex = torch.tensor(self.dataset.data[self.queried_hist_[-1]][0]).to(self.device)\n",
      "C:\\Users\\Wan Jing\\Documents\\libact-torch\\libact\\query_strategies\\uncertainty_sampling.py:149: UserWarning: To copy construct from a tensor, it is recommended to use sourceTensor.clone().detach() or sourceTensor.clone().detach().requires_grad_(True), rather than torch.tensor(sourceTensor).\n",
      "  ex = torch.tensor(self.dataset.data[self.queried_hist_[-1]][0]).to(self.device)\n",
      "C:\\Users\\Wan Jing\\Documents\\libact-torch\\libact\\query_strategies\\representative_sampling.py:113: UserWarning: To copy construct from a tensor, it is recommended to use sourceTensor.clone().detach() or sourceTensor.clone().detach().requires_grad_(True), rather than torch.tensor(sourceTensor).\n",
      "  ex = torch.tensor(self.dataset.data[self.queried_hist_[-1]][0]).to(self.device)\n",
      "C:\\Users\\Wan Jing\\Documents\\libact-torch\\libact\\query_strategies\\random_sampling.py:86: UserWarning: To copy construct from a tensor, it is recommended to use sourceTensor.clone().detach() or sourceTensor.clone().detach().requires_grad_(True), rather than torch.tensor(sourceTensor).\n",
      "  ex = torch.tensor(self.dataset.data[self.queried_hist_[-1]][0]).to(self.device)\n",
      "C:\\Users\\Wan Jing\\.conda\\envs\\deepCB\\lib\\site-packages\\sklearn\\metrics\\_classification.py:1221: UndefinedMetricWarning: Precision is ill-defined and being set to 0.0 in labels with no predicted samples. Use `zero_division` parameter to control this behavior.\n",
      "  _warn_prf(average, modifier, msg_start, len(result))\n"
     ]
    },
    {
     "name": "stdout",
     "output_type": "stream",
     "text": [
      "   strategy  labeled_acc  testing_acc    reward\n",
      "69        0     0.401556     0.346154  0.345678\n",
      "Mon Aug 31 15:55:22 2020 ContextualBanditsActiveLearning query round: 71\n",
      "Strategy Chosen: UncertaintySampling\n"
     ]
    },
    {
     "name": "stderr",
     "output_type": "stream",
     "text": [
      "C:\\Users\\Wan Jing\\Documents\\libact-torch\\libact\\query_strategies\\contextual_bandits_active_learning.py:184: UserWarning: To copy construct from a tensor, it is recommended to use sourceTensor.clone().detach() or sourceTensor.clone().detach().requires_grad_(True), rather than torch.tensor(sourceTensor).\n",
      "  ex = torch.tensor(self.dataset.data[self.queried_hist_[-1]][0]).to(self.device)\n",
      "C:\\Users\\Wan Jing\\Documents\\libact-torch\\libact\\query_strategies\\uncertainty_sampling.py:149: UserWarning: To copy construct from a tensor, it is recommended to use sourceTensor.clone().detach() or sourceTensor.clone().detach().requires_grad_(True), rather than torch.tensor(sourceTensor).\n",
      "  ex = torch.tensor(self.dataset.data[self.queried_hist_[-1]][0]).to(self.device)\n",
      "C:\\Users\\Wan Jing\\Documents\\libact-torch\\libact\\query_strategies\\representative_sampling.py:113: UserWarning: To copy construct from a tensor, it is recommended to use sourceTensor.clone().detach() or sourceTensor.clone().detach().requires_grad_(True), rather than torch.tensor(sourceTensor).\n",
      "  ex = torch.tensor(self.dataset.data[self.queried_hist_[-1]][0]).to(self.device)\n",
      "C:\\Users\\Wan Jing\\Documents\\libact-torch\\libact\\query_strategies\\random_sampling.py:86: UserWarning: To copy construct from a tensor, it is recommended to use sourceTensor.clone().detach() or sourceTensor.clone().detach().requires_grad_(True), rather than torch.tensor(sourceTensor).\n",
      "  ex = torch.tensor(self.dataset.data[self.queried_hist_[-1]][0]).to(self.device)\n",
      "C:\\Users\\Wan Jing\\.conda\\envs\\deepCB\\lib\\site-packages\\sklearn\\metrics\\_classification.py:1221: UndefinedMetricWarning: Precision is ill-defined and being set to 0.0 in labels with no predicted samples. Use `zero_division` parameter to control this behavior.\n",
      "  _warn_prf(average, modifier, msg_start, len(result))\n"
     ]
    },
    {
     "name": "stdout",
     "output_type": "stream",
     "text": [
      "   strategy  labeled_acc  testing_acc    reward\n",
      "70        2     0.402418     0.351038  0.352581\n",
      "Mon Aug 31 15:55:34 2020 ContextualBanditsActiveLearning query round: 72\n",
      "Strategy Chosen: UncertaintySampling\n"
     ]
    },
    {
     "name": "stderr",
     "output_type": "stream",
     "text": [
      "C:\\Users\\Wan Jing\\Documents\\libact-torch\\libact\\query_strategies\\contextual_bandits_active_learning.py:184: UserWarning: To copy construct from a tensor, it is recommended to use sourceTensor.clone().detach() or sourceTensor.clone().detach().requires_grad_(True), rather than torch.tensor(sourceTensor).\n",
      "  ex = torch.tensor(self.dataset.data[self.queried_hist_[-1]][0]).to(self.device)\n",
      "C:\\Users\\Wan Jing\\Documents\\libact-torch\\libact\\query_strategies\\uncertainty_sampling.py:149: UserWarning: To copy construct from a tensor, it is recommended to use sourceTensor.clone().detach() or sourceTensor.clone().detach().requires_grad_(True), rather than torch.tensor(sourceTensor).\n",
      "  ex = torch.tensor(self.dataset.data[self.queried_hist_[-1]][0]).to(self.device)\n",
      "C:\\Users\\Wan Jing\\Documents\\libact-torch\\libact\\query_strategies\\representative_sampling.py:113: UserWarning: To copy construct from a tensor, it is recommended to use sourceTensor.clone().detach() or sourceTensor.clone().detach().requires_grad_(True), rather than torch.tensor(sourceTensor).\n",
      "  ex = torch.tensor(self.dataset.data[self.queried_hist_[-1]][0]).to(self.device)\n",
      "C:\\Users\\Wan Jing\\Documents\\libact-torch\\libact\\query_strategies\\random_sampling.py:86: UserWarning: To copy construct from a tensor, it is recommended to use sourceTensor.clone().detach() or sourceTensor.clone().detach().requires_grad_(True), rather than torch.tensor(sourceTensor).\n",
      "  ex = torch.tensor(self.dataset.data[self.queried_hist_[-1]][0]).to(self.device)\n"
     ]
    },
    {
     "name": "stdout",
     "output_type": "stream",
     "text": [
      "   strategy  labeled_acc  testing_acc    reward\n",
      "71        1        0.405     0.350733  0.350636\n",
      "Mon Aug 31 15:55:46 2020 ContextualBanditsActiveLearning query round: 73\n",
      "Strategy Chosen: UncertaintySampling\n"
     ]
    },
    {
     "name": "stderr",
     "output_type": "stream",
     "text": [
      "C:\\Users\\Wan Jing\\Documents\\libact-torch\\libact\\query_strategies\\contextual_bandits_active_learning.py:184: UserWarning: To copy construct from a tensor, it is recommended to use sourceTensor.clone().detach() or sourceTensor.clone().detach().requires_grad_(True), rather than torch.tensor(sourceTensor).\n",
      "  ex = torch.tensor(self.dataset.data[self.queried_hist_[-1]][0]).to(self.device)\n",
      "C:\\Users\\Wan Jing\\Documents\\libact-torch\\libact\\query_strategies\\uncertainty_sampling.py:149: UserWarning: To copy construct from a tensor, it is recommended to use sourceTensor.clone().detach() or sourceTensor.clone().detach().requires_grad_(True), rather than torch.tensor(sourceTensor).\n",
      "  ex = torch.tensor(self.dataset.data[self.queried_hist_[-1]][0]).to(self.device)\n",
      "C:\\Users\\Wan Jing\\Documents\\libact-torch\\libact\\query_strategies\\representative_sampling.py:113: UserWarning: To copy construct from a tensor, it is recommended to use sourceTensor.clone().detach() or sourceTensor.clone().detach().requires_grad_(True), rather than torch.tensor(sourceTensor).\n",
      "  ex = torch.tensor(self.dataset.data[self.queried_hist_[-1]][0]).to(self.device)\n",
      "C:\\Users\\Wan Jing\\Documents\\libact-torch\\libact\\query_strategies\\random_sampling.py:86: UserWarning: To copy construct from a tensor, it is recommended to use sourceTensor.clone().detach() or sourceTensor.clone().detach().requires_grad_(True), rather than torch.tensor(sourceTensor).\n",
      "  ex = torch.tensor(self.dataset.data[self.queried_hist_[-1]][0]).to(self.device)\n"
     ]
    },
    {
     "name": "stdout",
     "output_type": "stream",
     "text": [
      "   strategy  labeled_acc  testing_acc    reward\n",
      "72        3     0.404946      0.34768  0.346725\n",
      "Mon Aug 31 15:55:58 2020 ContextualBanditsActiveLearning query round: 74\n",
      "Strategy Chosen: UncertaintySampling\n"
     ]
    },
    {
     "name": "stderr",
     "output_type": "stream",
     "text": [
      "C:\\Users\\Wan Jing\\Documents\\libact-torch\\libact\\query_strategies\\contextual_bandits_active_learning.py:184: UserWarning: To copy construct from a tensor, it is recommended to use sourceTensor.clone().detach() or sourceTensor.clone().detach().requires_grad_(True), rather than torch.tensor(sourceTensor).\n",
      "  ex = torch.tensor(self.dataset.data[self.queried_hist_[-1]][0]).to(self.device)\n",
      "C:\\Users\\Wan Jing\\Documents\\libact-torch\\libact\\query_strategies\\uncertainty_sampling.py:149: UserWarning: To copy construct from a tensor, it is recommended to use sourceTensor.clone().detach() or sourceTensor.clone().detach().requires_grad_(True), rather than torch.tensor(sourceTensor).\n",
      "  ex = torch.tensor(self.dataset.data[self.queried_hist_[-1]][0]).to(self.device)\n",
      "C:\\Users\\Wan Jing\\Documents\\libact-torch\\libact\\query_strategies\\representative_sampling.py:113: UserWarning: To copy construct from a tensor, it is recommended to use sourceTensor.clone().detach() or sourceTensor.clone().detach().requires_grad_(True), rather than torch.tensor(sourceTensor).\n",
      "  ex = torch.tensor(self.dataset.data[self.queried_hist_[-1]][0]).to(self.device)\n",
      "C:\\Users\\Wan Jing\\Documents\\libact-torch\\libact\\query_strategies\\random_sampling.py:86: UserWarning: To copy construct from a tensor, it is recommended to use sourceTensor.clone().detach() or sourceTensor.clone().detach().requires_grad_(True), rather than torch.tensor(sourceTensor).\n",
      "  ex = torch.tensor(self.dataset.data[self.queried_hist_[-1]][0]).to(self.device)\n"
     ]
    },
    {
     "name": "stdout",
     "output_type": "stream",
     "text": [
      "   strategy  labeled_acc  testing_acc    reward\n",
      "73        1      0.40617     0.350122  0.350892\n",
      "Mon Aug 31 15:56:10 2020 ContextualBanditsActiveLearning query round: 75\n",
      "Strategy Chosen: RepresentativeSampling\n"
     ]
    },
    {
     "name": "stderr",
     "output_type": "stream",
     "text": [
      "C:\\Users\\Wan Jing\\Documents\\libact-torch\\libact\\query_strategies\\representative_sampling.py:147: UserWarning: To copy construct from a tensor, it is recommended to use sourceTensor.clone().detach() or sourceTensor.clone().detach().requires_grad_(True), rather than torch.tensor(sourceTensor).\n",
      "  x = torch.tensor(x).to(self.device)\n",
      "C:\\Users\\Wan Jing\\Documents\\libact-torch\\libact\\query_strategies\\contextual_bandits_active_learning.py:184: UserWarning: To copy construct from a tensor, it is recommended to use sourceTensor.clone().detach() or sourceTensor.clone().detach().requires_grad_(True), rather than torch.tensor(sourceTensor).\n",
      "  ex = torch.tensor(self.dataset.data[self.queried_hist_[-1]][0]).to(self.device)\n",
      "C:\\Users\\Wan Jing\\Documents\\libact-torch\\libact\\query_strategies\\uncertainty_sampling.py:149: UserWarning: To copy construct from a tensor, it is recommended to use sourceTensor.clone().detach() or sourceTensor.clone().detach().requires_grad_(True), rather than torch.tensor(sourceTensor).\n",
      "  ex = torch.tensor(self.dataset.data[self.queried_hist_[-1]][0]).to(self.device)\n",
      "C:\\Users\\Wan Jing\\Documents\\libact-torch\\libact\\query_strategies\\representative_sampling.py:113: UserWarning: To copy construct from a tensor, it is recommended to use sourceTensor.clone().detach() or sourceTensor.clone().detach().requires_grad_(True), rather than torch.tensor(sourceTensor).\n",
      "  ex = torch.tensor(self.dataset.data[self.queried_hist_[-1]][0]).to(self.device)\n",
      "C:\\Users\\Wan Jing\\Documents\\libact-torch\\libact\\query_strategies\\random_sampling.py:86: UserWarning: To copy construct from a tensor, it is recommended to use sourceTensor.clone().detach() or sourceTensor.clone().detach().requires_grad_(True), rather than torch.tensor(sourceTensor).\n",
      "  ex = torch.tensor(self.dataset.data[self.queried_hist_[-1]][0]).to(self.device)\n",
      "C:\\Users\\Wan Jing\\.conda\\envs\\deepCB\\lib\\site-packages\\sklearn\\metrics\\_classification.py:1221: UndefinedMetricWarning: Precision is ill-defined and being set to 0.0 in labels with no predicted samples. Use `zero_division` parameter to control this behavior.\n",
      "  _warn_prf(average, modifier, msg_start, len(result))\n"
     ]
    },
    {
     "name": "stdout",
     "output_type": "stream",
     "text": [
      "   strategy  labeled_acc  testing_acc    reward\n",
      "74        4     0.411158     0.352564  0.353339\n",
      "Mon Aug 31 15:56:25 2020 ContextualBanditsActiveLearning query round: 76\n",
      "Strategy Chosen: UncertaintySampling\n"
     ]
    },
    {
     "name": "stderr",
     "output_type": "stream",
     "text": [
      "C:\\Users\\Wan Jing\\Documents\\libact-torch\\libact\\query_strategies\\contextual_bandits_active_learning.py:184: UserWarning: To copy construct from a tensor, it is recommended to use sourceTensor.clone().detach() or sourceTensor.clone().detach().requires_grad_(True), rather than torch.tensor(sourceTensor).\n",
      "  ex = torch.tensor(self.dataset.data[self.queried_hist_[-1]][0]).to(self.device)\n",
      "C:\\Users\\Wan Jing\\Documents\\libact-torch\\libact\\query_strategies\\uncertainty_sampling.py:149: UserWarning: To copy construct from a tensor, it is recommended to use sourceTensor.clone().detach() or sourceTensor.clone().detach().requires_grad_(True), rather than torch.tensor(sourceTensor).\n",
      "  ex = torch.tensor(self.dataset.data[self.queried_hist_[-1]][0]).to(self.device)\n",
      "C:\\Users\\Wan Jing\\Documents\\libact-torch\\libact\\query_strategies\\representative_sampling.py:113: UserWarning: To copy construct from a tensor, it is recommended to use sourceTensor.clone().detach() or sourceTensor.clone().detach().requires_grad_(True), rather than torch.tensor(sourceTensor).\n",
      "  ex = torch.tensor(self.dataset.data[self.queried_hist_[-1]][0]).to(self.device)\n",
      "C:\\Users\\Wan Jing\\Documents\\libact-torch\\libact\\query_strategies\\random_sampling.py:86: UserWarning: To copy construct from a tensor, it is recommended to use sourceTensor.clone().detach() or sourceTensor.clone().detach().requires_grad_(True), rather than torch.tensor(sourceTensor).\n",
      "  ex = torch.tensor(self.dataset.data[self.queried_hist_[-1]][0]).to(self.device)\n"
     ]
    },
    {
     "name": "stdout",
     "output_type": "stream",
     "text": [
      "   strategy  labeled_acc  testing_acc    reward\n",
      "75        1     0.414167     0.352259  0.352162\n",
      "Mon Aug 31 15:56:37 2020 ContextualBanditsActiveLearning query round: 77\n",
      "Strategy Chosen: RepresentativeSampling\n"
     ]
    },
    {
     "name": "stderr",
     "output_type": "stream",
     "text": [
      "C:\\Users\\Wan Jing\\Documents\\libact-torch\\libact\\query_strategies\\representative_sampling.py:147: UserWarning: To copy construct from a tensor, it is recommended to use sourceTensor.clone().detach() or sourceTensor.clone().detach().requires_grad_(True), rather than torch.tensor(sourceTensor).\n",
      "  x = torch.tensor(x).to(self.device)\n",
      "C:\\Users\\Wan Jing\\Documents\\libact-torch\\libact\\query_strategies\\contextual_bandits_active_learning.py:184: UserWarning: To copy construct from a tensor, it is recommended to use sourceTensor.clone().detach() or sourceTensor.clone().detach().requires_grad_(True), rather than torch.tensor(sourceTensor).\n",
      "  ex = torch.tensor(self.dataset.data[self.queried_hist_[-1]][0]).to(self.device)\n",
      "C:\\Users\\Wan Jing\\Documents\\libact-torch\\libact\\query_strategies\\uncertainty_sampling.py:149: UserWarning: To copy construct from a tensor, it is recommended to use sourceTensor.clone().detach() or sourceTensor.clone().detach().requires_grad_(True), rather than torch.tensor(sourceTensor).\n",
      "  ex = torch.tensor(self.dataset.data[self.queried_hist_[-1]][0]).to(self.device)\n",
      "C:\\Users\\Wan Jing\\Documents\\libact-torch\\libact\\query_strategies\\representative_sampling.py:113: UserWarning: To copy construct from a tensor, it is recommended to use sourceTensor.clone().detach() or sourceTensor.clone().detach().requires_grad_(True), rather than torch.tensor(sourceTensor).\n",
      "  ex = torch.tensor(self.dataset.data[self.queried_hist_[-1]][0]).to(self.device)\n",
      "C:\\Users\\Wan Jing\\Documents\\libact-torch\\libact\\query_strategies\\random_sampling.py:86: UserWarning: To copy construct from a tensor, it is recommended to use sourceTensor.clone().detach() or sourceTensor.clone().detach().requires_grad_(True), rather than torch.tensor(sourceTensor).\n",
      "  ex = torch.tensor(self.dataset.data[self.queried_hist_[-1]][0]).to(self.device)\n",
      "C:\\Users\\Wan Jing\\.conda\\envs\\deepCB\\lib\\site-packages\\sklearn\\metrics\\_classification.py:1221: UndefinedMetricWarning: Precision is ill-defined and being set to 0.0 in labels with no predicted samples. Use `zero_division` parameter to control this behavior.\n",
      "  _warn_prf(average, modifier, msg_start, len(result))\n"
     ]
    },
    {
     "name": "stdout",
     "output_type": "stream",
     "text": [
      "   strategy  labeled_acc  testing_acc    reward\n",
      "76        4     0.424742     0.356532  0.357904\n",
      "Mon Aug 31 15:56:52 2020 ContextualBanditsActiveLearning query round: 78\n",
      "Strategy Chosen: UncertaintySampling\n"
     ]
    },
    {
     "name": "stderr",
     "output_type": "stream",
     "text": [
      "C:\\Users\\Wan Jing\\Documents\\libact-torch\\libact\\query_strategies\\contextual_bandits_active_learning.py:184: UserWarning: To copy construct from a tensor, it is recommended to use sourceTensor.clone().detach() or sourceTensor.clone().detach().requires_grad_(True), rather than torch.tensor(sourceTensor).\n",
      "  ex = torch.tensor(self.dataset.data[self.queried_hist_[-1]][0]).to(self.device)\n",
      "C:\\Users\\Wan Jing\\Documents\\libact-torch\\libact\\query_strategies\\uncertainty_sampling.py:149: UserWarning: To copy construct from a tensor, it is recommended to use sourceTensor.clone().detach() or sourceTensor.clone().detach().requires_grad_(True), rather than torch.tensor(sourceTensor).\n",
      "  ex = torch.tensor(self.dataset.data[self.queried_hist_[-1]][0]).to(self.device)\n",
      "C:\\Users\\Wan Jing\\Documents\\libact-torch\\libact\\query_strategies\\representative_sampling.py:113: UserWarning: To copy construct from a tensor, it is recommended to use sourceTensor.clone().detach() or sourceTensor.clone().detach().requires_grad_(True), rather than torch.tensor(sourceTensor).\n",
      "  ex = torch.tensor(self.dataset.data[self.queried_hist_[-1]][0]).to(self.device)\n",
      "C:\\Users\\Wan Jing\\Documents\\libact-torch\\libact\\query_strategies\\random_sampling.py:86: UserWarning: To copy construct from a tensor, it is recommended to use sourceTensor.clone().detach() or sourceTensor.clone().detach().requires_grad_(True), rather than torch.tensor(sourceTensor).\n",
      "  ex = torch.tensor(self.dataset.data[self.queried_hist_[-1]][0]).to(self.device)\n",
      "C:\\Users\\Wan Jing\\.conda\\envs\\deepCB\\lib\\site-packages\\sklearn\\metrics\\_classification.py:1221: UndefinedMetricWarning: Precision is ill-defined and being set to 0.0 in labels with no predicted samples. Use `zero_division` parameter to control this behavior.\n",
      "  _warn_prf(average, modifier, msg_start, len(result))\n"
     ]
    },
    {
     "name": "stdout",
     "output_type": "stream",
     "text": [
      "   strategy  labeled_acc  testing_acc    reward\n",
      "77        3     0.420816     0.356532  0.356532\n",
      "Mon Aug 31 15:57:04 2020 ContextualBanditsActiveLearning query round: 79\n",
      "Strategy Chosen: UncertaintySampling\n"
     ]
    },
    {
     "name": "stderr",
     "output_type": "stream",
     "text": [
      "C:\\Users\\Wan Jing\\Documents\\libact-torch\\libact\\query_strategies\\contextual_bandits_active_learning.py:184: UserWarning: To copy construct from a tensor, it is recommended to use sourceTensor.clone().detach() or sourceTensor.clone().detach().requires_grad_(True), rather than torch.tensor(sourceTensor).\n",
      "  ex = torch.tensor(self.dataset.data[self.queried_hist_[-1]][0]).to(self.device)\n",
      "C:\\Users\\Wan Jing\\Documents\\libact-torch\\libact\\query_strategies\\uncertainty_sampling.py:149: UserWarning: To copy construct from a tensor, it is recommended to use sourceTensor.clone().detach() or sourceTensor.clone().detach().requires_grad_(True), rather than torch.tensor(sourceTensor).\n",
      "  ex = torch.tensor(self.dataset.data[self.queried_hist_[-1]][0]).to(self.device)\n",
      "C:\\Users\\Wan Jing\\Documents\\libact-torch\\libact\\query_strategies\\representative_sampling.py:113: UserWarning: To copy construct from a tensor, it is recommended to use sourceTensor.clone().detach() or sourceTensor.clone().detach().requires_grad_(True), rather than torch.tensor(sourceTensor).\n",
      "  ex = torch.tensor(self.dataset.data[self.queried_hist_[-1]][0]).to(self.device)\n",
      "C:\\Users\\Wan Jing\\Documents\\libact-torch\\libact\\query_strategies\\random_sampling.py:86: UserWarning: To copy construct from a tensor, it is recommended to use sourceTensor.clone().detach() or sourceTensor.clone().detach().requires_grad_(True), rather than torch.tensor(sourceTensor).\n",
      "  ex = torch.tensor(self.dataset.data[self.queried_hist_[-1]][0]).to(self.device)\n"
     ]
    },
    {
     "name": "stdout",
     "output_type": "stream",
     "text": [
      "   strategy  labeled_acc  testing_acc    reward\n",
      "78        2     0.429091     0.358669  0.359359\n",
      "Mon Aug 31 15:57:16 2020 ContextualBanditsActiveLearning query round: 80\n",
      "Strategy Chosen: UncertaintySampling\n"
     ]
    },
    {
     "name": "stderr",
     "output_type": "stream",
     "text": [
      "C:\\Users\\Wan Jing\\Documents\\libact-torch\\libact\\query_strategies\\contextual_bandits_active_learning.py:184: UserWarning: To copy construct from a tensor, it is recommended to use sourceTensor.clone().detach() or sourceTensor.clone().detach().requires_grad_(True), rather than torch.tensor(sourceTensor).\n",
      "  ex = torch.tensor(self.dataset.data[self.queried_hist_[-1]][0]).to(self.device)\n",
      "C:\\Users\\Wan Jing\\Documents\\libact-torch\\libact\\query_strategies\\uncertainty_sampling.py:149: UserWarning: To copy construct from a tensor, it is recommended to use sourceTensor.clone().detach() or sourceTensor.clone().detach().requires_grad_(True), rather than torch.tensor(sourceTensor).\n",
      "  ex = torch.tensor(self.dataset.data[self.queried_hist_[-1]][0]).to(self.device)\n",
      "C:\\Users\\Wan Jing\\Documents\\libact-torch\\libact\\query_strategies\\representative_sampling.py:113: UserWarning: To copy construct from a tensor, it is recommended to use sourceTensor.clone().detach() or sourceTensor.clone().detach().requires_grad_(True), rather than torch.tensor(sourceTensor).\n",
      "  ex = torch.tensor(self.dataset.data[self.queried_hist_[-1]][0]).to(self.device)\n",
      "C:\\Users\\Wan Jing\\Documents\\libact-torch\\libact\\query_strategies\\random_sampling.py:86: UserWarning: To copy construct from a tensor, it is recommended to use sourceTensor.clone().detach() or sourceTensor.clone().detach().requires_grad_(True), rather than torch.tensor(sourceTensor).\n",
      "  ex = torch.tensor(self.dataset.data[self.queried_hist_[-1]][0]).to(self.device)\n"
     ]
    },
    {
     "name": "stdout",
     "output_type": "stream",
     "text": [
      "   strategy  labeled_acc  testing_acc    reward\n",
      "79        2       0.4228     0.356532  0.355847\n",
      "Mon Aug 31 15:57:29 2020 ContextualBanditsActiveLearning query round: 81\n",
      "Strategy Chosen: UncertaintySampling\n"
     ]
    },
    {
     "name": "stderr",
     "output_type": "stream",
     "text": [
      "C:\\Users\\Wan Jing\\Documents\\libact-torch\\libact\\query_strategies\\contextual_bandits_active_learning.py:184: UserWarning: To copy construct from a tensor, it is recommended to use sourceTensor.clone().detach() or sourceTensor.clone().detach().requires_grad_(True), rather than torch.tensor(sourceTensor).\n",
      "  ex = torch.tensor(self.dataset.data[self.queried_hist_[-1]][0]).to(self.device)\n",
      "C:\\Users\\Wan Jing\\Documents\\libact-torch\\libact\\query_strategies\\uncertainty_sampling.py:149: UserWarning: To copy construct from a tensor, it is recommended to use sourceTensor.clone().detach() or sourceTensor.clone().detach().requires_grad_(True), rather than torch.tensor(sourceTensor).\n",
      "  ex = torch.tensor(self.dataset.data[self.queried_hist_[-1]][0]).to(self.device)\n",
      "C:\\Users\\Wan Jing\\Documents\\libact-torch\\libact\\query_strategies\\representative_sampling.py:113: UserWarning: To copy construct from a tensor, it is recommended to use sourceTensor.clone().detach() or sourceTensor.clone().detach().requires_grad_(True), rather than torch.tensor(sourceTensor).\n",
      "  ex = torch.tensor(self.dataset.data[self.queried_hist_[-1]][0]).to(self.device)\n",
      "C:\\Users\\Wan Jing\\Documents\\libact-torch\\libact\\query_strategies\\random_sampling.py:86: UserWarning: To copy construct from a tensor, it is recommended to use sourceTensor.clone().detach() or sourceTensor.clone().detach().requires_grad_(True), rather than torch.tensor(sourceTensor).\n",
      "  ex = torch.tensor(self.dataset.data[self.queried_hist_[-1]][0]).to(self.device)\n",
      "C:\\Users\\Wan Jing\\.conda\\envs\\deepCB\\lib\\site-packages\\sklearn\\metrics\\_classification.py:1221: UndefinedMetricWarning: Precision is ill-defined and being set to 0.0 in labels with no predicted samples. Use `zero_division` parameter to control this behavior.\n",
      "  _warn_prf(average, modifier, msg_start, len(result))\n"
     ]
    },
    {
     "name": "stdout",
     "output_type": "stream",
     "text": [
      "   strategy  labeled_acc  testing_acc   reward\n",
      "80        3     0.427921     0.362637  0.36463\n",
      "Mon Aug 31 15:57:41 2020 ContextualBanditsActiveLearning query round: 82\n",
      "Strategy Chosen: RandomSampling\n"
     ]
    },
    {
     "name": "stderr",
     "output_type": "stream",
     "text": [
      "C:\\Users\\Wan Jing\\Documents\\libact-torch\\libact\\query_strategies\\contextual_bandits_active_learning.py:184: UserWarning: To copy construct from a tensor, it is recommended to use sourceTensor.clone().detach() or sourceTensor.clone().detach().requires_grad_(True), rather than torch.tensor(sourceTensor).\n",
      "  ex = torch.tensor(self.dataset.data[self.queried_hist_[-1]][0]).to(self.device)\n",
      "C:\\Users\\Wan Jing\\Documents\\libact-torch\\libact\\query_strategies\\uncertainty_sampling.py:149: UserWarning: To copy construct from a tensor, it is recommended to use sourceTensor.clone().detach() or sourceTensor.clone().detach().requires_grad_(True), rather than torch.tensor(sourceTensor).\n",
      "  ex = torch.tensor(self.dataset.data[self.queried_hist_[-1]][0]).to(self.device)\n",
      "C:\\Users\\Wan Jing\\Documents\\libact-torch\\libact\\query_strategies\\representative_sampling.py:113: UserWarning: To copy construct from a tensor, it is recommended to use sourceTensor.clone().detach() or sourceTensor.clone().detach().requires_grad_(True), rather than torch.tensor(sourceTensor).\n",
      "  ex = torch.tensor(self.dataset.data[self.queried_hist_[-1]][0]).to(self.device)\n",
      "C:\\Users\\Wan Jing\\Documents\\libact-torch\\libact\\query_strategies\\random_sampling.py:86: UserWarning: To copy construct from a tensor, it is recommended to use sourceTensor.clone().detach() or sourceTensor.clone().detach().requires_grad_(True), rather than torch.tensor(sourceTensor).\n",
      "  ex = torch.tensor(self.dataset.data[self.queried_hist_[-1]][0]).to(self.device)\n"
     ]
    },
    {
     "name": "stdout",
     "output_type": "stream",
     "text": [
      "   strategy  labeled_acc  testing_acc    reward\n",
      "81        0     0.422745     0.360195  0.359404\n",
      "Mon Aug 31 15:57:51 2020 ContextualBanditsActiveLearning query round: 83\n",
      "Strategy Chosen: UncertaintySampling\n"
     ]
    },
    {
     "name": "stderr",
     "output_type": "stream",
     "text": [
      "C:\\Users\\Wan Jing\\Documents\\libact-torch\\libact\\query_strategies\\contextual_bandits_active_learning.py:184: UserWarning: To copy construct from a tensor, it is recommended to use sourceTensor.clone().detach() or sourceTensor.clone().detach().requires_grad_(True), rather than torch.tensor(sourceTensor).\n",
      "  ex = torch.tensor(self.dataset.data[self.queried_hist_[-1]][0]).to(self.device)\n",
      "C:\\Users\\Wan Jing\\Documents\\libact-torch\\libact\\query_strategies\\uncertainty_sampling.py:149: UserWarning: To copy construct from a tensor, it is recommended to use sourceTensor.clone().detach() or sourceTensor.clone().detach().requires_grad_(True), rather than torch.tensor(sourceTensor).\n",
      "  ex = torch.tensor(self.dataset.data[self.queried_hist_[-1]][0]).to(self.device)\n",
      "C:\\Users\\Wan Jing\\Documents\\libact-torch\\libact\\query_strategies\\representative_sampling.py:113: UserWarning: To copy construct from a tensor, it is recommended to use sourceTensor.clone().detach() or sourceTensor.clone().detach().requires_grad_(True), rather than torch.tensor(sourceTensor).\n",
      "  ex = torch.tensor(self.dataset.data[self.queried_hist_[-1]][0]).to(self.device)\n",
      "C:\\Users\\Wan Jing\\Documents\\libact-torch\\libact\\query_strategies\\random_sampling.py:86: UserWarning: To copy construct from a tensor, it is recommended to use sourceTensor.clone().detach() or sourceTensor.clone().detach().requires_grad_(True), rather than torch.tensor(sourceTensor).\n",
      "  ex = torch.tensor(self.dataset.data[self.queried_hist_[-1]][0]).to(self.device)\n"
     ]
    },
    {
     "name": "stdout",
     "output_type": "stream",
     "text": [
      "   strategy  labeled_acc  testing_acc   reward\n",
      "82        1      0.43068     0.362943  0.36384\n",
      "Mon Aug 31 15:58:03 2020 ContextualBanditsActiveLearning query round: 84\n",
      "Strategy Chosen: UncertaintySampling\n"
     ]
    },
    {
     "name": "stderr",
     "output_type": "stream",
     "text": [
      "C:\\Users\\Wan Jing\\Documents\\libact-torch\\libact\\query_strategies\\contextual_bandits_active_learning.py:184: UserWarning: To copy construct from a tensor, it is recommended to use sourceTensor.clone().detach() or sourceTensor.clone().detach().requires_grad_(True), rather than torch.tensor(sourceTensor).\n",
      "  ex = torch.tensor(self.dataset.data[self.queried_hist_[-1]][0]).to(self.device)\n",
      "C:\\Users\\Wan Jing\\Documents\\libact-torch\\libact\\query_strategies\\uncertainty_sampling.py:149: UserWarning: To copy construct from a tensor, it is recommended to use sourceTensor.clone().detach() or sourceTensor.clone().detach().requires_grad_(True), rather than torch.tensor(sourceTensor).\n",
      "  ex = torch.tensor(self.dataset.data[self.queried_hist_[-1]][0]).to(self.device)\n",
      "C:\\Users\\Wan Jing\\Documents\\libact-torch\\libact\\query_strategies\\representative_sampling.py:113: UserWarning: To copy construct from a tensor, it is recommended to use sourceTensor.clone().detach() or sourceTensor.clone().detach().requires_grad_(True), rather than torch.tensor(sourceTensor).\n",
      "  ex = torch.tensor(self.dataset.data[self.queried_hist_[-1]][0]).to(self.device)\n",
      "C:\\Users\\Wan Jing\\Documents\\libact-torch\\libact\\query_strategies\\random_sampling.py:86: UserWarning: To copy construct from a tensor, it is recommended to use sourceTensor.clone().detach() or sourceTensor.clone().detach().requires_grad_(True), rather than torch.tensor(sourceTensor).\n",
      "  ex = torch.tensor(self.dataset.data[self.queried_hist_[-1]][0]).to(self.device)\n"
     ]
    },
    {
     "name": "stdout",
     "output_type": "stream",
     "text": [
      "   strategy  labeled_acc  testing_acc    reward\n",
      "83        1     0.426538     0.362943  0.362943\n",
      "Mon Aug 31 15:58:16 2020 ContextualBanditsActiveLearning query round: 85\n",
      "Strategy Chosen: UncertaintySampling\n"
     ]
    },
    {
     "name": "stderr",
     "output_type": "stream",
     "text": [
      "C:\\Users\\Wan Jing\\Documents\\libact-torch\\libact\\query_strategies\\contextual_bandits_active_learning.py:184: UserWarning: To copy construct from a tensor, it is recommended to use sourceTensor.clone().detach() or sourceTensor.clone().detach().requires_grad_(True), rather than torch.tensor(sourceTensor).\n",
      "  ex = torch.tensor(self.dataset.data[self.queried_hist_[-1]][0]).to(self.device)\n",
      "C:\\Users\\Wan Jing\\Documents\\libact-torch\\libact\\query_strategies\\uncertainty_sampling.py:149: UserWarning: To copy construct from a tensor, it is recommended to use sourceTensor.clone().detach() or sourceTensor.clone().detach().requires_grad_(True), rather than torch.tensor(sourceTensor).\n",
      "  ex = torch.tensor(self.dataset.data[self.queried_hist_[-1]][0]).to(self.device)\n",
      "C:\\Users\\Wan Jing\\Documents\\libact-torch\\libact\\query_strategies\\representative_sampling.py:113: UserWarning: To copy construct from a tensor, it is recommended to use sourceTensor.clone().detach() or sourceTensor.clone().detach().requires_grad_(True), rather than torch.tensor(sourceTensor).\n",
      "  ex = torch.tensor(self.dataset.data[self.queried_hist_[-1]][0]).to(self.device)\n",
      "C:\\Users\\Wan Jing\\Documents\\libact-torch\\libact\\query_strategies\\random_sampling.py:86: UserWarning: To copy construct from a tensor, it is recommended to use sourceTensor.clone().detach() or sourceTensor.clone().detach().requires_grad_(True), rather than torch.tensor(sourceTensor).\n",
      "  ex = torch.tensor(self.dataset.data[self.queried_hist_[-1]][0]).to(self.device)\n"
     ]
    },
    {
     "name": "stdout",
     "output_type": "stream",
     "text": [
      "   strategy  labeled_acc  testing_acc    reward\n",
      "84        3     0.430476       0.3663  0.367407\n",
      "Mon Aug 31 15:58:28 2020 ContextualBanditsActiveLearning query round: 86\n",
      "Strategy Chosen: RepresentativeSampling\n"
     ]
    },
    {
     "name": "stderr",
     "output_type": "stream",
     "text": [
      "C:\\Users\\Wan Jing\\Documents\\libact-torch\\libact\\query_strategies\\representative_sampling.py:147: UserWarning: To copy construct from a tensor, it is recommended to use sourceTensor.clone().detach() or sourceTensor.clone().detach().requires_grad_(True), rather than torch.tensor(sourceTensor).\n",
      "  x = torch.tensor(x).to(self.device)\n",
      "C:\\Users\\Wan Jing\\Documents\\libact-torch\\libact\\query_strategies\\contextual_bandits_active_learning.py:184: UserWarning: To copy construct from a tensor, it is recommended to use sourceTensor.clone().detach() or sourceTensor.clone().detach().requires_grad_(True), rather than torch.tensor(sourceTensor).\n",
      "  ex = torch.tensor(self.dataset.data[self.queried_hist_[-1]][0]).to(self.device)\n",
      "C:\\Users\\Wan Jing\\Documents\\libact-torch\\libact\\query_strategies\\uncertainty_sampling.py:149: UserWarning: To copy construct from a tensor, it is recommended to use sourceTensor.clone().detach() or sourceTensor.clone().detach().requires_grad_(True), rather than torch.tensor(sourceTensor).\n",
      "  ex = torch.tensor(self.dataset.data[self.queried_hist_[-1]][0]).to(self.device)\n",
      "C:\\Users\\Wan Jing\\Documents\\libact-torch\\libact\\query_strategies\\representative_sampling.py:113: UserWarning: To copy construct from a tensor, it is recommended to use sourceTensor.clone().detach() or sourceTensor.clone().detach().requires_grad_(True), rather than torch.tensor(sourceTensor).\n",
      "  ex = torch.tensor(self.dataset.data[self.queried_hist_[-1]][0]).to(self.device)\n",
      "C:\\Users\\Wan Jing\\Documents\\libact-torch\\libact\\query_strategies\\random_sampling.py:86: UserWarning: To copy construct from a tensor, it is recommended to use sourceTensor.clone().detach() or sourceTensor.clone().detach().requires_grad_(True), rather than torch.tensor(sourceTensor).\n",
      "  ex = torch.tensor(self.dataset.data[self.queried_hist_[-1]][0]).to(self.device)\n",
      "C:\\Users\\Wan Jing\\.conda\\envs\\deepCB\\lib\\site-packages\\sklearn\\metrics\\_classification.py:1221: UndefinedMetricWarning: Precision is ill-defined and being set to 0.0 in labels with no predicted samples. Use `zero_division` parameter to control this behavior.\n",
      "  _warn_prf(average, modifier, msg_start, len(result))\n"
     ]
    },
    {
     "name": "stdout",
     "output_type": "stream",
     "text": [
      "   strategy  labeled_acc  testing_acc    reward\n",
      "85        4     0.441509      0.37149  0.373225\n",
      "Mon Aug 31 15:58:43 2020 ContextualBanditsActiveLearning query round: 87\n",
      "Strategy Chosen: RandomSampling\n"
     ]
    },
    {
     "name": "stderr",
     "output_type": "stream",
     "text": [
      "C:\\Users\\Wan Jing\\Documents\\libact-torch\\libact\\query_strategies\\contextual_bandits_active_learning.py:184: UserWarning: To copy construct from a tensor, it is recommended to use sourceTensor.clone().detach() or sourceTensor.clone().detach().requires_grad_(True), rather than torch.tensor(sourceTensor).\n",
      "  ex = torch.tensor(self.dataset.data[self.queried_hist_[-1]][0]).to(self.device)\n",
      "C:\\Users\\Wan Jing\\Documents\\libact-torch\\libact\\query_strategies\\uncertainty_sampling.py:149: UserWarning: To copy construct from a tensor, it is recommended to use sourceTensor.clone().detach() or sourceTensor.clone().detach().requires_grad_(True), rather than torch.tensor(sourceTensor).\n",
      "  ex = torch.tensor(self.dataset.data[self.queried_hist_[-1]][0]).to(self.device)\n",
      "C:\\Users\\Wan Jing\\Documents\\libact-torch\\libact\\query_strategies\\representative_sampling.py:113: UserWarning: To copy construct from a tensor, it is recommended to use sourceTensor.clone().detach() or sourceTensor.clone().detach().requires_grad_(True), rather than torch.tensor(sourceTensor).\n",
      "  ex = torch.tensor(self.dataset.data[self.queried_hist_[-1]][0]).to(self.device)\n",
      "C:\\Users\\Wan Jing\\Documents\\libact-torch\\libact\\query_strategies\\random_sampling.py:86: UserWarning: To copy construct from a tensor, it is recommended to use sourceTensor.clone().detach() or sourceTensor.clone().detach().requires_grad_(True), rather than torch.tensor(sourceTensor).\n",
      "  ex = torch.tensor(self.dataset.data[self.queried_hist_[-1]][0]).to(self.device)\n"
     ]
    },
    {
     "name": "stdout",
     "output_type": "stream",
     "text": [
      "   strategy  labeled_acc  testing_acc    reward\n",
      "86        0     0.441682       0.3721  0.372305\n",
      "Mon Aug 31 15:58:53 2020 ContextualBanditsActiveLearning query round: 88\n",
      "Strategy Chosen: UncertaintySampling\n"
     ]
    },
    {
     "name": "stderr",
     "output_type": "stream",
     "text": [
      "C:\\Users\\Wan Jing\\Documents\\libact-torch\\libact\\query_strategies\\contextual_bandits_active_learning.py:184: UserWarning: To copy construct from a tensor, it is recommended to use sourceTensor.clone().detach() or sourceTensor.clone().detach().requires_grad_(True), rather than torch.tensor(sourceTensor).\n",
      "  ex = torch.tensor(self.dataset.data[self.queried_hist_[-1]][0]).to(self.device)\n",
      "C:\\Users\\Wan Jing\\Documents\\libact-torch\\libact\\query_strategies\\uncertainty_sampling.py:149: UserWarning: To copy construct from a tensor, it is recommended to use sourceTensor.clone().detach() or sourceTensor.clone().detach().requires_grad_(True), rather than torch.tensor(sourceTensor).\n",
      "  ex = torch.tensor(self.dataset.data[self.queried_hist_[-1]][0]).to(self.device)\n",
      "C:\\Users\\Wan Jing\\Documents\\libact-torch\\libact\\query_strategies\\representative_sampling.py:113: UserWarning: To copy construct from a tensor, it is recommended to use sourceTensor.clone().detach() or sourceTensor.clone().detach().requires_grad_(True), rather than torch.tensor(sourceTensor).\n",
      "  ex = torch.tensor(self.dataset.data[self.queried_hist_[-1]][0]).to(self.device)\n",
      "C:\\Users\\Wan Jing\\Documents\\libact-torch\\libact\\query_strategies\\random_sampling.py:86: UserWarning: To copy construct from a tensor, it is recommended to use sourceTensor.clone().detach() or sourceTensor.clone().detach().requires_grad_(True), rather than torch.tensor(sourceTensor).\n",
      "  ex = torch.tensor(self.dataset.data[self.queried_hist_[-1]][0]).to(self.device)\n",
      "C:\\Users\\Wan Jing\\.conda\\envs\\deepCB\\lib\\site-packages\\sklearn\\metrics\\_classification.py:1221: UndefinedMetricWarning: Precision is ill-defined and being set to 0.0 in labels with no predicted samples. Use `zero_division` parameter to control this behavior.\n",
      "  _warn_prf(average, modifier, msg_start, len(result))\n"
     ]
    },
    {
     "name": "stdout",
     "output_type": "stream",
     "text": [
      "   strategy  labeled_acc  testing_acc    reward\n",
      "87        1     0.440741     0.367827  0.366412\n",
      "Mon Aug 31 15:59:06 2020 ContextualBanditsActiveLearning query round: 89\n",
      "Strategy Chosen: UncertaintySampling\n"
     ]
    },
    {
     "name": "stderr",
     "output_type": "stream",
     "text": [
      "C:\\Users\\Wan Jing\\Documents\\libact-torch\\libact\\query_strategies\\contextual_bandits_active_learning.py:184: UserWarning: To copy construct from a tensor, it is recommended to use sourceTensor.clone().detach() or sourceTensor.clone().detach().requires_grad_(True), rather than torch.tensor(sourceTensor).\n",
      "  ex = torch.tensor(self.dataset.data[self.queried_hist_[-1]][0]).to(self.device)\n",
      "C:\\Users\\Wan Jing\\Documents\\libact-torch\\libact\\query_strategies\\uncertainty_sampling.py:149: UserWarning: To copy construct from a tensor, it is recommended to use sourceTensor.clone().detach() or sourceTensor.clone().detach().requires_grad_(True), rather than torch.tensor(sourceTensor).\n",
      "  ex = torch.tensor(self.dataset.data[self.queried_hist_[-1]][0]).to(self.device)\n",
      "C:\\Users\\Wan Jing\\Documents\\libact-torch\\libact\\query_strategies\\representative_sampling.py:113: UserWarning: To copy construct from a tensor, it is recommended to use sourceTensor.clone().detach() or sourceTensor.clone().detach().requires_grad_(True), rather than torch.tensor(sourceTensor).\n",
      "  ex = torch.tensor(self.dataset.data[self.queried_hist_[-1]][0]).to(self.device)\n",
      "C:\\Users\\Wan Jing\\Documents\\libact-torch\\libact\\query_strategies\\random_sampling.py:86: UserWarning: To copy construct from a tensor, it is recommended to use sourceTensor.clone().detach() or sourceTensor.clone().detach().requires_grad_(True), rather than torch.tensor(sourceTensor).\n",
      "  ex = torch.tensor(self.dataset.data[self.queried_hist_[-1]][0]).to(self.device)\n"
     ]
    },
    {
     "name": "stdout",
     "output_type": "stream",
     "text": [
      "   strategy  labeled_acc  testing_acc    reward\n",
      "88        3     0.447339     0.374542  0.376806\n",
      "Mon Aug 31 15:59:19 2020 ContextualBanditsActiveLearning query round: 90\n",
      "Strategy Chosen: RandomSampling\n"
     ]
    },
    {
     "name": "stderr",
     "output_type": "stream",
     "text": [
      "C:\\Users\\Wan Jing\\Documents\\libact-torch\\libact\\query_strategies\\contextual_bandits_active_learning.py:184: UserWarning: To copy construct from a tensor, it is recommended to use sourceTensor.clone().detach() or sourceTensor.clone().detach().requires_grad_(True), rather than torch.tensor(sourceTensor).\n",
      "  ex = torch.tensor(self.dataset.data[self.queried_hist_[-1]][0]).to(self.device)\n",
      "C:\\Users\\Wan Jing\\Documents\\libact-torch\\libact\\query_strategies\\uncertainty_sampling.py:149: UserWarning: To copy construct from a tensor, it is recommended to use sourceTensor.clone().detach() or sourceTensor.clone().detach().requires_grad_(True), rather than torch.tensor(sourceTensor).\n",
      "  ex = torch.tensor(self.dataset.data[self.queried_hist_[-1]][0]).to(self.device)\n",
      "C:\\Users\\Wan Jing\\Documents\\libact-torch\\libact\\query_strategies\\representative_sampling.py:113: UserWarning: To copy construct from a tensor, it is recommended to use sourceTensor.clone().detach() or sourceTensor.clone().detach().requires_grad_(True), rather than torch.tensor(sourceTensor).\n",
      "  ex = torch.tensor(self.dataset.data[self.queried_hist_[-1]][0]).to(self.device)\n",
      "C:\\Users\\Wan Jing\\Documents\\libact-torch\\libact\\query_strategies\\random_sampling.py:86: UserWarning: To copy construct from a tensor, it is recommended to use sourceTensor.clone().detach() or sourceTensor.clone().detach().requires_grad_(True), rather than torch.tensor(sourceTensor).\n",
      "  ex = torch.tensor(self.dataset.data[self.queried_hist_[-1]][0]).to(self.device)\n",
      "C:\\Users\\Wan Jing\\.conda\\envs\\deepCB\\lib\\site-packages\\sklearn\\metrics\\_classification.py:1221: UndefinedMetricWarning: Precision is ill-defined and being set to 0.0 in labels with no predicted samples. Use `zero_division` parameter to control this behavior.\n",
      "  _warn_prf(average, modifier, msg_start, len(result))\n"
     ]
    },
    {
     "name": "stdout",
     "output_type": "stream",
     "text": [
      "   strategy  labeled_acc  testing_acc    reward\n",
      "89        0     0.445455     0.377595  0.378632\n",
      "Mon Aug 31 15:59:29 2020 ContextualBanditsActiveLearning query round: 91\n",
      "Strategy Chosen: UncertaintySampling\n"
     ]
    },
    {
     "name": "stderr",
     "output_type": "stream",
     "text": [
      "C:\\Users\\Wan Jing\\Documents\\libact-torch\\libact\\query_strategies\\contextual_bandits_active_learning.py:184: UserWarning: To copy construct from a tensor, it is recommended to use sourceTensor.clone().detach() or sourceTensor.clone().detach().requires_grad_(True), rather than torch.tensor(sourceTensor).\n",
      "  ex = torch.tensor(self.dataset.data[self.queried_hist_[-1]][0]).to(self.device)\n",
      "C:\\Users\\Wan Jing\\Documents\\libact-torch\\libact\\query_strategies\\uncertainty_sampling.py:149: UserWarning: To copy construct from a tensor, it is recommended to use sourceTensor.clone().detach() or sourceTensor.clone().detach().requires_grad_(True), rather than torch.tensor(sourceTensor).\n",
      "  ex = torch.tensor(self.dataset.data[self.queried_hist_[-1]][0]).to(self.device)\n",
      "C:\\Users\\Wan Jing\\Documents\\libact-torch\\libact\\query_strategies\\representative_sampling.py:113: UserWarning: To copy construct from a tensor, it is recommended to use sourceTensor.clone().detach() or sourceTensor.clone().detach().requires_grad_(True), rather than torch.tensor(sourceTensor).\n",
      "  ex = torch.tensor(self.dataset.data[self.queried_hist_[-1]][0]).to(self.device)\n",
      "C:\\Users\\Wan Jing\\Documents\\libact-torch\\libact\\query_strategies\\random_sampling.py:86: UserWarning: To copy construct from a tensor, it is recommended to use sourceTensor.clone().detach() or sourceTensor.clone().detach().requires_grad_(True), rather than torch.tensor(sourceTensor).\n",
      "  ex = torch.tensor(self.dataset.data[self.queried_hist_[-1]][0]).to(self.device)\n"
     ]
    },
    {
     "name": "stdout",
     "output_type": "stream",
     "text": [
      "   strategy  labeled_acc  testing_acc    reward\n",
      "90        2     0.448108     0.380342  0.381282\n",
      "Mon Aug 31 15:59:42 2020 ContextualBanditsActiveLearning query round: 92\n",
      "Strategy Chosen: RandomSampling\n"
     ]
    },
    {
     "name": "stderr",
     "output_type": "stream",
     "text": [
      "C:\\Users\\Wan Jing\\Documents\\libact-torch\\libact\\query_strategies\\contextual_bandits_active_learning.py:184: UserWarning: To copy construct from a tensor, it is recommended to use sourceTensor.clone().detach() or sourceTensor.clone().detach().requires_grad_(True), rather than torch.tensor(sourceTensor).\n",
      "  ex = torch.tensor(self.dataset.data[self.queried_hist_[-1]][0]).to(self.device)\n",
      "C:\\Users\\Wan Jing\\Documents\\libact-torch\\libact\\query_strategies\\uncertainty_sampling.py:149: UserWarning: To copy construct from a tensor, it is recommended to use sourceTensor.clone().detach() or sourceTensor.clone().detach().requires_grad_(True), rather than torch.tensor(sourceTensor).\n",
      "  ex = torch.tensor(self.dataset.data[self.queried_hist_[-1]][0]).to(self.device)\n",
      "C:\\Users\\Wan Jing\\Documents\\libact-torch\\libact\\query_strategies\\representative_sampling.py:113: UserWarning: To copy construct from a tensor, it is recommended to use sourceTensor.clone().detach() or sourceTensor.clone().detach().requires_grad_(True), rather than torch.tensor(sourceTensor).\n",
      "  ex = torch.tensor(self.dataset.data[self.queried_hist_[-1]][0]).to(self.device)\n",
      "C:\\Users\\Wan Jing\\Documents\\libact-torch\\libact\\query_strategies\\random_sampling.py:86: UserWarning: To copy construct from a tensor, it is recommended to use sourceTensor.clone().detach() or sourceTensor.clone().detach().requires_grad_(True), rather than torch.tensor(sourceTensor).\n",
      "  ex = torch.tensor(self.dataset.data[self.queried_hist_[-1]][0]).to(self.device)\n"
     ]
    },
    {
     "name": "stdout",
     "output_type": "stream",
     "text": [
      "   strategy  labeled_acc  testing_acc    reward\n",
      "91        0     0.450179      0.37851  0.377886\n",
      "Mon Aug 31 15:59:52 2020 ContextualBanditsActiveLearning query round: 93\n",
      "Strategy Chosen: UncertaintySampling\n"
     ]
    },
    {
     "name": "stderr",
     "output_type": "stream",
     "text": [
      "C:\\Users\\Wan Jing\\Documents\\libact-torch\\libact\\query_strategies\\contextual_bandits_active_learning.py:184: UserWarning: To copy construct from a tensor, it is recommended to use sourceTensor.clone().detach() or sourceTensor.clone().detach().requires_grad_(True), rather than torch.tensor(sourceTensor).\n",
      "  ex = torch.tensor(self.dataset.data[self.queried_hist_[-1]][0]).to(self.device)\n",
      "C:\\Users\\Wan Jing\\Documents\\libact-torch\\libact\\query_strategies\\uncertainty_sampling.py:149: UserWarning: To copy construct from a tensor, it is recommended to use sourceTensor.clone().detach() or sourceTensor.clone().detach().requires_grad_(True), rather than torch.tensor(sourceTensor).\n",
      "  ex = torch.tensor(self.dataset.data[self.queried_hist_[-1]][0]).to(self.device)\n",
      "C:\\Users\\Wan Jing\\Documents\\libact-torch\\libact\\query_strategies\\representative_sampling.py:113: UserWarning: To copy construct from a tensor, it is recommended to use sourceTensor.clone().detach() or sourceTensor.clone().detach().requires_grad_(True), rather than torch.tensor(sourceTensor).\n",
      "  ex = torch.tensor(self.dataset.data[self.queried_hist_[-1]][0]).to(self.device)\n",
      "C:\\Users\\Wan Jing\\Documents\\libact-torch\\libact\\query_strategies\\random_sampling.py:86: UserWarning: To copy construct from a tensor, it is recommended to use sourceTensor.clone().detach() or sourceTensor.clone().detach().requires_grad_(True), rather than torch.tensor(sourceTensor).\n",
      "  ex = torch.tensor(self.dataset.data[self.queried_hist_[-1]][0]).to(self.device)\n",
      "C:\\Users\\Wan Jing\\.conda\\envs\\deepCB\\lib\\site-packages\\sklearn\\metrics\\_classification.py:1221: UndefinedMetricWarning: Precision is ill-defined and being set to 0.0 in labels with no predicted samples. Use `zero_division` parameter to control this behavior.\n",
      "  _warn_prf(average, modifier, msg_start, len(result))\n"
     ]
    },
    {
     "name": "stdout",
     "output_type": "stream",
     "text": [
      "   strategy  labeled_acc  testing_acc    reward\n",
      "92        3     0.459115     0.381868  0.383022\n",
      "Mon Aug 31 16:00:05 2020 ContextualBanditsActiveLearning query round: 94\n",
      "Strategy Chosen: UncertaintySampling\n"
     ]
    },
    {
     "name": "stderr",
     "output_type": "stream",
     "text": [
      "C:\\Users\\Wan Jing\\Documents\\libact-torch\\libact\\query_strategies\\contextual_bandits_active_learning.py:184: UserWarning: To copy construct from a tensor, it is recommended to use sourceTensor.clone().detach() or sourceTensor.clone().detach().requires_grad_(True), rather than torch.tensor(sourceTensor).\n",
      "  ex = torch.tensor(self.dataset.data[self.queried_hist_[-1]][0]).to(self.device)\n",
      "C:\\Users\\Wan Jing\\Documents\\libact-torch\\libact\\query_strategies\\uncertainty_sampling.py:149: UserWarning: To copy construct from a tensor, it is recommended to use sourceTensor.clone().detach() or sourceTensor.clone().detach().requires_grad_(True), rather than torch.tensor(sourceTensor).\n",
      "  ex = torch.tensor(self.dataset.data[self.queried_hist_[-1]][0]).to(self.device)\n",
      "C:\\Users\\Wan Jing\\Documents\\libact-torch\\libact\\query_strategies\\representative_sampling.py:113: UserWarning: To copy construct from a tensor, it is recommended to use sourceTensor.clone().detach() or sourceTensor.clone().detach().requires_grad_(True), rather than torch.tensor(sourceTensor).\n",
      "  ex = torch.tensor(self.dataset.data[self.queried_hist_[-1]][0]).to(self.device)\n",
      "C:\\Users\\Wan Jing\\Documents\\libact-torch\\libact\\query_strategies\\random_sampling.py:86: UserWarning: To copy construct from a tensor, it is recommended to use sourceTensor.clone().detach() or sourceTensor.clone().detach().requires_grad_(True), rather than torch.tensor(sourceTensor).\n",
      "  ex = torch.tensor(self.dataset.data[self.queried_hist_[-1]][0]).to(self.device)\n",
      "C:\\Users\\Wan Jing\\.conda\\envs\\deepCB\\lib\\site-packages\\sklearn\\metrics\\_classification.py:1221: UndefinedMetricWarning: Precision is ill-defined and being set to 0.0 in labels with no predicted samples. Use `zero_division` parameter to control this behavior.\n",
      "  _warn_prf(average, modifier, msg_start, len(result))\n"
     ]
    },
    {
     "name": "stdout",
     "output_type": "stream",
     "text": [
      "   strategy  labeled_acc  testing_acc    reward\n",
      "93        1     0.457018     0.382784  0.383099\n",
      "Mon Aug 31 16:00:18 2020 ContextualBanditsActiveLearning query round: 95\n",
      "Strategy Chosen: UncertaintySampling\n"
     ]
    },
    {
     "name": "stderr",
     "output_type": "stream",
     "text": [
      "C:\\Users\\Wan Jing\\Documents\\libact-torch\\libact\\query_strategies\\contextual_bandits_active_learning.py:184: UserWarning: To copy construct from a tensor, it is recommended to use sourceTensor.clone().detach() or sourceTensor.clone().detach().requires_grad_(True), rather than torch.tensor(sourceTensor).\n",
      "  ex = torch.tensor(self.dataset.data[self.queried_hist_[-1]][0]).to(self.device)\n",
      "C:\\Users\\Wan Jing\\Documents\\libact-torch\\libact\\query_strategies\\uncertainty_sampling.py:149: UserWarning: To copy construct from a tensor, it is recommended to use sourceTensor.clone().detach() or sourceTensor.clone().detach().requires_grad_(True), rather than torch.tensor(sourceTensor).\n",
      "  ex = torch.tensor(self.dataset.data[self.queried_hist_[-1]][0]).to(self.device)\n",
      "C:\\Users\\Wan Jing\\Documents\\libact-torch\\libact\\query_strategies\\representative_sampling.py:113: UserWarning: To copy construct from a tensor, it is recommended to use sourceTensor.clone().detach() or sourceTensor.clone().detach().requires_grad_(True), rather than torch.tensor(sourceTensor).\n",
      "  ex = torch.tensor(self.dataset.data[self.queried_hist_[-1]][0]).to(self.device)\n",
      "C:\\Users\\Wan Jing\\Documents\\libact-torch\\libact\\query_strategies\\random_sampling.py:86: UserWarning: To copy construct from a tensor, it is recommended to use sourceTensor.clone().detach() or sourceTensor.clone().detach().requires_grad_(True), rather than torch.tensor(sourceTensor).\n",
      "  ex = torch.tensor(self.dataset.data[self.queried_hist_[-1]][0]).to(self.device)\n"
     ]
    },
    {
     "name": "stdout",
     "output_type": "stream",
     "text": [
      "   strategy  labeled_acc  testing_acc   reward\n",
      "94        3     0.457565     0.379426  0.37828\n",
      "Mon Aug 31 16:00:31 2020 ContextualBanditsActiveLearning query round: 96\n",
      "Strategy Chosen: RandomSampling\n"
     ]
    },
    {
     "name": "stderr",
     "output_type": "stream",
     "text": [
      "C:\\Users\\Wan Jing\\Documents\\libact-torch\\libact\\query_strategies\\contextual_bandits_active_learning.py:184: UserWarning: To copy construct from a tensor, it is recommended to use sourceTensor.clone().detach() or sourceTensor.clone().detach().requires_grad_(True), rather than torch.tensor(sourceTensor).\n",
      "  ex = torch.tensor(self.dataset.data[self.queried_hist_[-1]][0]).to(self.device)\n",
      "C:\\Users\\Wan Jing\\Documents\\libact-torch\\libact\\query_strategies\\uncertainty_sampling.py:149: UserWarning: To copy construct from a tensor, it is recommended to use sourceTensor.clone().detach() or sourceTensor.clone().detach().requires_grad_(True), rather than torch.tensor(sourceTensor).\n",
      "  ex = torch.tensor(self.dataset.data[self.queried_hist_[-1]][0]).to(self.device)\n",
      "C:\\Users\\Wan Jing\\Documents\\libact-torch\\libact\\query_strategies\\representative_sampling.py:113: UserWarning: To copy construct from a tensor, it is recommended to use sourceTensor.clone().detach() or sourceTensor.clone().detach().requires_grad_(True), rather than torch.tensor(sourceTensor).\n",
      "  ex = torch.tensor(self.dataset.data[self.queried_hist_[-1]][0]).to(self.device)\n",
      "C:\\Users\\Wan Jing\\Documents\\libact-torch\\libact\\query_strategies\\random_sampling.py:86: UserWarning: To copy construct from a tensor, it is recommended to use sourceTensor.clone().detach() or sourceTensor.clone().detach().requires_grad_(True), rather than torch.tensor(sourceTensor).\n",
      "  ex = torch.tensor(self.dataset.data[self.queried_hist_[-1]][0]).to(self.device)\n"
     ]
    },
    {
     "name": "stdout",
     "output_type": "stream",
     "text": [
      "   strategy  labeled_acc  testing_acc    reward\n",
      "95        0     0.460862      0.38431  0.385999\n",
      "Mon Aug 31 16:00:42 2020 ContextualBanditsActiveLearning query round: 97\n",
      "Strategy Chosen: UncertaintySampling\n"
     ]
    },
    {
     "name": "stderr",
     "output_type": "stream",
     "text": [
      "C:\\Users\\Wan Jing\\Documents\\libact-torch\\libact\\query_strategies\\contextual_bandits_active_learning.py:184: UserWarning: To copy construct from a tensor, it is recommended to use sourceTensor.clone().detach() or sourceTensor.clone().detach().requires_grad_(True), rather than torch.tensor(sourceTensor).\n",
      "  ex = torch.tensor(self.dataset.data[self.queried_hist_[-1]][0]).to(self.device)\n",
      "C:\\Users\\Wan Jing\\Documents\\libact-torch\\libact\\query_strategies\\uncertainty_sampling.py:149: UserWarning: To copy construct from a tensor, it is recommended to use sourceTensor.clone().detach() or sourceTensor.clone().detach().requires_grad_(True), rather than torch.tensor(sourceTensor).\n",
      "  ex = torch.tensor(self.dataset.data[self.queried_hist_[-1]][0]).to(self.device)\n",
      "C:\\Users\\Wan Jing\\Documents\\libact-torch\\libact\\query_strategies\\representative_sampling.py:113: UserWarning: To copy construct from a tensor, it is recommended to use sourceTensor.clone().detach() or sourceTensor.clone().detach().requires_grad_(True), rather than torch.tensor(sourceTensor).\n",
      "  ex = torch.tensor(self.dataset.data[self.queried_hist_[-1]][0]).to(self.device)\n",
      "C:\\Users\\Wan Jing\\Documents\\libact-torch\\libact\\query_strategies\\random_sampling.py:86: UserWarning: To copy construct from a tensor, it is recommended to use sourceTensor.clone().detach() or sourceTensor.clone().detach().requires_grad_(True), rather than torch.tensor(sourceTensor).\n",
      "  ex = torch.tensor(self.dataset.data[self.queried_hist_[-1]][0]).to(self.device)\n",
      "C:\\Users\\Wan Jing\\.conda\\envs\\deepCB\\lib\\site-packages\\sklearn\\metrics\\_classification.py:1221: UndefinedMetricWarning: Precision is ill-defined and being set to 0.0 in labels with no predicted samples. Use `zero_division` parameter to control this behavior.\n",
      "  _warn_prf(average, modifier, msg_start, len(result))\n"
     ]
    },
    {
     "name": "stdout",
     "output_type": "stream",
     "text": [
      "   strategy  labeled_acc  testing_acc    reward\n",
      "96        2     0.460513     0.384921  0.385132\n",
      "Mon Aug 31 16:00:55 2020 ContextualBanditsActiveLearning query round: 98\n",
      "Strategy Chosen: RepresentativeSampling\n"
     ]
    },
    {
     "name": "stderr",
     "output_type": "stream",
     "text": [
      "C:\\Users\\Wan Jing\\Documents\\libact-torch\\libact\\query_strategies\\representative_sampling.py:147: UserWarning: To copy construct from a tensor, it is recommended to use sourceTensor.clone().detach() or sourceTensor.clone().detach().requires_grad_(True), rather than torch.tensor(sourceTensor).\n",
      "  x = torch.tensor(x).to(self.device)\n",
      "C:\\Users\\Wan Jing\\Documents\\libact-torch\\libact\\query_strategies\\contextual_bandits_active_learning.py:184: UserWarning: To copy construct from a tensor, it is recommended to use sourceTensor.clone().detach() or sourceTensor.clone().detach().requires_grad_(True), rather than torch.tensor(sourceTensor).\n",
      "  ex = torch.tensor(self.dataset.data[self.queried_hist_[-1]][0]).to(self.device)\n",
      "C:\\Users\\Wan Jing\\Documents\\libact-torch\\libact\\query_strategies\\uncertainty_sampling.py:149: UserWarning: To copy construct from a tensor, it is recommended to use sourceTensor.clone().detach() or sourceTensor.clone().detach().requires_grad_(True), rather than torch.tensor(sourceTensor).\n",
      "  ex = torch.tensor(self.dataset.data[self.queried_hist_[-1]][0]).to(self.device)\n",
      "C:\\Users\\Wan Jing\\Documents\\libact-torch\\libact\\query_strategies\\representative_sampling.py:113: UserWarning: To copy construct from a tensor, it is recommended to use sourceTensor.clone().detach() or sourceTensor.clone().detach().requires_grad_(True), rather than torch.tensor(sourceTensor).\n",
      "  ex = torch.tensor(self.dataset.data[self.queried_hist_[-1]][0]).to(self.device)\n",
      "C:\\Users\\Wan Jing\\Documents\\libact-torch\\libact\\query_strategies\\random_sampling.py:86: UserWarning: To copy construct from a tensor, it is recommended to use sourceTensor.clone().detach() or sourceTensor.clone().detach().requires_grad_(True), rather than torch.tensor(sourceTensor).\n",
      "  ex = torch.tensor(self.dataset.data[self.queried_hist_[-1]][0]).to(self.device)\n",
      "C:\\Users\\Wan Jing\\.conda\\envs\\deepCB\\lib\\site-packages\\sklearn\\metrics\\_classification.py:1221: UndefinedMetricWarning: Precision is ill-defined and being set to 0.0 in labels with no predicted samples. Use `zero_division` parameter to control this behavior.\n",
      "  _warn_prf(average, modifier, msg_start, len(result))\n"
     ]
    },
    {
     "name": "stdout",
     "output_type": "stream",
     "text": [
      "   strategy  labeled_acc  testing_acc    reward\n",
      "97        4     0.462203     0.383089  0.382458\n",
      "Mon Aug 31 16:01:10 2020 ContextualBanditsActiveLearning query round: 99\n",
      "Strategy Chosen: UncertaintySampling\n"
     ]
    },
    {
     "name": "stderr",
     "output_type": "stream",
     "text": [
      "C:\\Users\\Wan Jing\\Documents\\libact-torch\\libact\\query_strategies\\contextual_bandits_active_learning.py:184: UserWarning: To copy construct from a tensor, it is recommended to use sourceTensor.clone().detach() or sourceTensor.clone().detach().requires_grad_(True), rather than torch.tensor(sourceTensor).\n",
      "  ex = torch.tensor(self.dataset.data[self.queried_hist_[-1]][0]).to(self.device)\n",
      "C:\\Users\\Wan Jing\\Documents\\libact-torch\\libact\\query_strategies\\uncertainty_sampling.py:149: UserWarning: To copy construct from a tensor, it is recommended to use sourceTensor.clone().detach() or sourceTensor.clone().detach().requires_grad_(True), rather than torch.tensor(sourceTensor).\n",
      "  ex = torch.tensor(self.dataset.data[self.queried_hist_[-1]][0]).to(self.device)\n",
      "C:\\Users\\Wan Jing\\Documents\\libact-torch\\libact\\query_strategies\\representative_sampling.py:113: UserWarning: To copy construct from a tensor, it is recommended to use sourceTensor.clone().detach() or sourceTensor.clone().detach().requires_grad_(True), rather than torch.tensor(sourceTensor).\n",
      "  ex = torch.tensor(self.dataset.data[self.queried_hist_[-1]][0]).to(self.device)\n",
      "C:\\Users\\Wan Jing\\Documents\\libact-torch\\libact\\query_strategies\\random_sampling.py:86: UserWarning: To copy construct from a tensor, it is recommended to use sourceTensor.clone().detach() or sourceTensor.clone().detach().requires_grad_(True), rather than torch.tensor(sourceTensor).\n",
      "  ex = torch.tensor(self.dataset.data[self.queried_hist_[-1]][0]).to(self.device)\n"
     ]
    },
    {
     "name": "stdout",
     "output_type": "stream",
     "text": [
      "   strategy  labeled_acc  testing_acc    reward\n",
      "98        1     0.470084     0.387973  0.389679\n",
      "Mon Aug 31 16:01:23 2020 ContextualBanditsActiveLearning query round: 100\n",
      "Strategy Chosen: RandomSampling\n"
     ]
    },
    {
     "name": "stderr",
     "output_type": "stream",
     "text": [
      "C:\\Users\\Wan Jing\\Documents\\libact-torch\\libact\\query_strategies\\contextual_bandits_active_learning.py:184: UserWarning: To copy construct from a tensor, it is recommended to use sourceTensor.clone().detach() or sourceTensor.clone().detach().requires_grad_(True), rather than torch.tensor(sourceTensor).\n",
      "  ex = torch.tensor(self.dataset.data[self.queried_hist_[-1]][0]).to(self.device)\n",
      "C:\\Users\\Wan Jing\\Documents\\libact-torch\\libact\\query_strategies\\uncertainty_sampling.py:149: UserWarning: To copy construct from a tensor, it is recommended to use sourceTensor.clone().detach() or sourceTensor.clone().detach().requires_grad_(True), rather than torch.tensor(sourceTensor).\n",
      "  ex = torch.tensor(self.dataset.data[self.queried_hist_[-1]][0]).to(self.device)\n",
      "C:\\Users\\Wan Jing\\Documents\\libact-torch\\libact\\query_strategies\\representative_sampling.py:113: UserWarning: To copy construct from a tensor, it is recommended to use sourceTensor.clone().detach() or sourceTensor.clone().detach().requires_grad_(True), rather than torch.tensor(sourceTensor).\n",
      "  ex = torch.tensor(self.dataset.data[self.queried_hist_[-1]][0]).to(self.device)\n",
      "C:\\Users\\Wan Jing\\Documents\\libact-torch\\libact\\query_strategies\\random_sampling.py:86: UserWarning: To copy construct from a tensor, it is recommended to use sourceTensor.clone().detach() or sourceTensor.clone().detach().requires_grad_(True), rather than torch.tensor(sourceTensor).\n",
      "  ex = torch.tensor(self.dataset.data[self.queried_hist_[-1]][0]).to(self.device)\n"
     ]
    },
    {
     "name": "stdout",
     "output_type": "stream",
     "text": [
      "   strategy  labeled_acc  testing_acc    reward\n",
      "99        0     0.476667     0.385531  0.384684\n",
      "Mon Aug 31 16:01:34 2020 ContextualBanditsActiveLearning query round: 101\n",
      "Strategy Chosen: RandomSampling\n"
     ]
    },
    {
     "name": "stderr",
     "output_type": "stream",
     "text": [
      "C:\\Users\\Wan Jing\\Documents\\libact-torch\\libact\\query_strategies\\contextual_bandits_active_learning.py:184: UserWarning: To copy construct from a tensor, it is recommended to use sourceTensor.clone().detach() or sourceTensor.clone().detach().requires_grad_(True), rather than torch.tensor(sourceTensor).\n",
      "  ex = torch.tensor(self.dataset.data[self.queried_hist_[-1]][0]).to(self.device)\n",
      "C:\\Users\\Wan Jing\\Documents\\libact-torch\\libact\\query_strategies\\uncertainty_sampling.py:149: UserWarning: To copy construct from a tensor, it is recommended to use sourceTensor.clone().detach() or sourceTensor.clone().detach().requires_grad_(True), rather than torch.tensor(sourceTensor).\n",
      "  ex = torch.tensor(self.dataset.data[self.queried_hist_[-1]][0]).to(self.device)\n",
      "C:\\Users\\Wan Jing\\Documents\\libact-torch\\libact\\query_strategies\\representative_sampling.py:113: UserWarning: To copy construct from a tensor, it is recommended to use sourceTensor.clone().detach() or sourceTensor.clone().detach().requires_grad_(True), rather than torch.tensor(sourceTensor).\n",
      "  ex = torch.tensor(self.dataset.data[self.queried_hist_[-1]][0]).to(self.device)\n",
      "C:\\Users\\Wan Jing\\Documents\\libact-torch\\libact\\query_strategies\\random_sampling.py:86: UserWarning: To copy construct from a tensor, it is recommended to use sourceTensor.clone().detach() or sourceTensor.clone().detach().requires_grad_(True), rather than torch.tensor(sourceTensor).\n",
      "  ex = torch.tensor(self.dataset.data[self.queried_hist_[-1]][0]).to(self.device)\n"
     ]
    },
    {
     "name": "stdout",
     "output_type": "stream",
     "text": [
      "    strategy  labeled_acc  testing_acc    reward\n",
      "100        0     0.475537     0.388278  0.389238\n",
      "Mon Aug 31 16:01:45 2020 ContextualBanditsActiveLearning query round: 102\n",
      "Strategy Chosen: RepresentativeSampling\n"
     ]
    },
    {
     "name": "stderr",
     "output_type": "stream",
     "text": [
      "C:\\Users\\Wan Jing\\Documents\\libact-torch\\libact\\query_strategies\\representative_sampling.py:147: UserWarning: To copy construct from a tensor, it is recommended to use sourceTensor.clone().detach() or sourceTensor.clone().detach().requires_grad_(True), rather than torch.tensor(sourceTensor).\n",
      "  x = torch.tensor(x).to(self.device)\n",
      "C:\\Users\\Wan Jing\\Documents\\libact-torch\\libact\\query_strategies\\contextual_bandits_active_learning.py:184: UserWarning: To copy construct from a tensor, it is recommended to use sourceTensor.clone().detach() or sourceTensor.clone().detach().requires_grad_(True), rather than torch.tensor(sourceTensor).\n",
      "  ex = torch.tensor(self.dataset.data[self.queried_hist_[-1]][0]).to(self.device)\n",
      "C:\\Users\\Wan Jing\\Documents\\libact-torch\\libact\\query_strategies\\uncertainty_sampling.py:149: UserWarning: To copy construct from a tensor, it is recommended to use sourceTensor.clone().detach() or sourceTensor.clone().detach().requires_grad_(True), rather than torch.tensor(sourceTensor).\n",
      "  ex = torch.tensor(self.dataset.data[self.queried_hist_[-1]][0]).to(self.device)\n",
      "C:\\Users\\Wan Jing\\Documents\\libact-torch\\libact\\query_strategies\\representative_sampling.py:113: UserWarning: To copy construct from a tensor, it is recommended to use sourceTensor.clone().detach() or sourceTensor.clone().detach().requires_grad_(True), rather than torch.tensor(sourceTensor).\n",
      "  ex = torch.tensor(self.dataset.data[self.queried_hist_[-1]][0]).to(self.device)\n",
      "C:\\Users\\Wan Jing\\Documents\\libact-torch\\libact\\query_strategies\\random_sampling.py:86: UserWarning: To copy construct from a tensor, it is recommended to use sourceTensor.clone().detach() or sourceTensor.clone().detach().requires_grad_(True), rather than torch.tensor(sourceTensor).\n",
      "  ex = torch.tensor(self.dataset.data[self.queried_hist_[-1]][0]).to(self.device)\n"
     ]
    },
    {
     "name": "stdout",
     "output_type": "stream",
     "text": [
      "    strategy  labeled_acc  testing_acc    reward\n",
      "101        4     0.468689     0.384921  0.383757\n",
      "Mon Aug 31 16:02:00 2020 ContextualBanditsActiveLearning query round: 103\n",
      "Strategy Chosen: UncertaintySampling\n"
     ]
    },
    {
     "name": "stderr",
     "output_type": "stream",
     "text": [
      "C:\\Users\\Wan Jing\\Documents\\libact-torch\\libact\\query_strategies\\contextual_bandits_active_learning.py:184: UserWarning: To copy construct from a tensor, it is recommended to use sourceTensor.clone().detach() or sourceTensor.clone().detach().requires_grad_(True), rather than torch.tensor(sourceTensor).\n",
      "  ex = torch.tensor(self.dataset.data[self.queried_hist_[-1]][0]).to(self.device)\n",
      "C:\\Users\\Wan Jing\\Documents\\libact-torch\\libact\\query_strategies\\uncertainty_sampling.py:149: UserWarning: To copy construct from a tensor, it is recommended to use sourceTensor.clone().detach() or sourceTensor.clone().detach().requires_grad_(True), rather than torch.tensor(sourceTensor).\n",
      "  ex = torch.tensor(self.dataset.data[self.queried_hist_[-1]][0]).to(self.device)\n",
      "C:\\Users\\Wan Jing\\Documents\\libact-torch\\libact\\query_strategies\\representative_sampling.py:113: UserWarning: To copy construct from a tensor, it is recommended to use sourceTensor.clone().detach() or sourceTensor.clone().detach().requires_grad_(True), rather than torch.tensor(sourceTensor).\n",
      "  ex = torch.tensor(self.dataset.data[self.queried_hist_[-1]][0]).to(self.device)\n",
      "C:\\Users\\Wan Jing\\Documents\\libact-torch\\libact\\query_strategies\\random_sampling.py:86: UserWarning: To copy construct from a tensor, it is recommended to use sourceTensor.clone().detach() or sourceTensor.clone().detach().requires_grad_(True), rather than torch.tensor(sourceTensor).\n",
      "  ex = torch.tensor(self.dataset.data[self.queried_hist_[-1]][0]).to(self.device)\n"
     ]
    },
    {
     "name": "stdout",
     "output_type": "stream",
     "text": [
      "    strategy  labeled_acc  testing_acc    reward\n",
      "102        3     0.472683     0.380952  0.379592\n",
      "Mon Aug 31 16:02:14 2020 ContextualBanditsActiveLearning query round: 104\n",
      "Strategy Chosen: UncertaintySampling\n"
     ]
    },
    {
     "name": "stderr",
     "output_type": "stream",
     "text": [
      "C:\\Users\\Wan Jing\\Documents\\libact-torch\\libact\\query_strategies\\contextual_bandits_active_learning.py:184: UserWarning: To copy construct from a tensor, it is recommended to use sourceTensor.clone().detach() or sourceTensor.clone().detach().requires_grad_(True), rather than torch.tensor(sourceTensor).\n",
      "  ex = torch.tensor(self.dataset.data[self.queried_hist_[-1]][0]).to(self.device)\n",
      "C:\\Users\\Wan Jing\\Documents\\libact-torch\\libact\\query_strategies\\uncertainty_sampling.py:149: UserWarning: To copy construct from a tensor, it is recommended to use sourceTensor.clone().detach() or sourceTensor.clone().detach().requires_grad_(True), rather than torch.tensor(sourceTensor).\n",
      "  ex = torch.tensor(self.dataset.data[self.queried_hist_[-1]][0]).to(self.device)\n",
      "C:\\Users\\Wan Jing\\Documents\\libact-torch\\libact\\query_strategies\\representative_sampling.py:113: UserWarning: To copy construct from a tensor, it is recommended to use sourceTensor.clone().detach() or sourceTensor.clone().detach().requires_grad_(True), rather than torch.tensor(sourceTensor).\n",
      "  ex = torch.tensor(self.dataset.data[self.queried_hist_[-1]][0]).to(self.device)\n",
      "C:\\Users\\Wan Jing\\Documents\\libact-torch\\libact\\query_strategies\\random_sampling.py:86: UserWarning: To copy construct from a tensor, it is recommended to use sourceTensor.clone().detach() or sourceTensor.clone().detach().requires_grad_(True), rather than torch.tensor(sourceTensor).\n",
      "  ex = torch.tensor(self.dataset.data[self.queried_hist_[-1]][0]).to(self.device)\n",
      "C:\\Users\\Wan Jing\\.conda\\envs\\deepCB\\lib\\site-packages\\sklearn\\metrics\\_classification.py:1221: UndefinedMetricWarning: Precision is ill-defined and being set to 0.0 in labels with no predicted samples. Use `zero_division` parameter to control this behavior.\n",
      "  _warn_prf(average, modifier, msg_start, len(result))\n"
     ]
    },
    {
     "name": "stdout",
     "output_type": "stream",
     "text": [
      "    strategy  labeled_acc  testing_acc    reward\n",
      "103        1     0.485806     0.392247  0.396234\n",
      "Mon Aug 31 16:02:28 2020 ContextualBanditsActiveLearning query round: 105\n",
      "Strategy Chosen: RandomSampling\n"
     ]
    },
    {
     "name": "stderr",
     "output_type": "stream",
     "text": [
      "C:\\Users\\Wan Jing\\Documents\\libact-torch\\libact\\query_strategies\\contextual_bandits_active_learning.py:184: UserWarning: To copy construct from a tensor, it is recommended to use sourceTensor.clone().detach() or sourceTensor.clone().detach().requires_grad_(True), rather than torch.tensor(sourceTensor).\n",
      "  ex = torch.tensor(self.dataset.data[self.queried_hist_[-1]][0]).to(self.device)\n",
      "C:\\Users\\Wan Jing\\Documents\\libact-torch\\libact\\query_strategies\\uncertainty_sampling.py:149: UserWarning: To copy construct from a tensor, it is recommended to use sourceTensor.clone().detach() or sourceTensor.clone().detach().requires_grad_(True), rather than torch.tensor(sourceTensor).\n",
      "  ex = torch.tensor(self.dataset.data[self.queried_hist_[-1]][0]).to(self.device)\n",
      "C:\\Users\\Wan Jing\\Documents\\libact-torch\\libact\\query_strategies\\representative_sampling.py:113: UserWarning: To copy construct from a tensor, it is recommended to use sourceTensor.clone().detach() or sourceTensor.clone().detach().requires_grad_(True), rather than torch.tensor(sourceTensor).\n",
      "  ex = torch.tensor(self.dataset.data[self.queried_hist_[-1]][0]).to(self.device)\n",
      "C:\\Users\\Wan Jing\\Documents\\libact-torch\\libact\\query_strategies\\random_sampling.py:86: UserWarning: To copy construct from a tensor, it is recommended to use sourceTensor.clone().detach() or sourceTensor.clone().detach().requires_grad_(True), rather than torch.tensor(sourceTensor).\n",
      "  ex = torch.tensor(self.dataset.data[self.queried_hist_[-1]][0]).to(self.device)\n",
      "C:\\Users\\Wan Jing\\.conda\\envs\\deepCB\\lib\\site-packages\\sklearn\\metrics\\_classification.py:1221: UndefinedMetricWarning: Precision is ill-defined and being set to 0.0 in labels with no predicted samples. Use `zero_division` parameter to control this behavior.\n",
      "  _warn_prf(average, modifier, msg_start, len(result))\n"
     ]
    },
    {
     "name": "stdout",
     "output_type": "stream",
     "text": [
      "    strategy  labeled_acc  testing_acc    reward\n",
      "104        0      0.48192     0.391026  0.390596\n",
      "Mon Aug 31 16:02:39 2020 ContextualBanditsActiveLearning query round: 106\n",
      "Strategy Chosen: UncertaintySampling\n"
     ]
    },
    {
     "name": "stderr",
     "output_type": "stream",
     "text": [
      "C:\\Users\\Wan Jing\\Documents\\libact-torch\\libact\\query_strategies\\contextual_bandits_active_learning.py:184: UserWarning: To copy construct from a tensor, it is recommended to use sourceTensor.clone().detach() or sourceTensor.clone().detach().requires_grad_(True), rather than torch.tensor(sourceTensor).\n",
      "  ex = torch.tensor(self.dataset.data[self.queried_hist_[-1]][0]).to(self.device)\n",
      "C:\\Users\\Wan Jing\\Documents\\libact-torch\\libact\\query_strategies\\uncertainty_sampling.py:149: UserWarning: To copy construct from a tensor, it is recommended to use sourceTensor.clone().detach() or sourceTensor.clone().detach().requires_grad_(True), rather than torch.tensor(sourceTensor).\n",
      "  ex = torch.tensor(self.dataset.data[self.queried_hist_[-1]][0]).to(self.device)\n",
      "C:\\Users\\Wan Jing\\Documents\\libact-torch\\libact\\query_strategies\\representative_sampling.py:113: UserWarning: To copy construct from a tensor, it is recommended to use sourceTensor.clone().detach() or sourceTensor.clone().detach().requires_grad_(True), rather than torch.tensor(sourceTensor).\n",
      "  ex = torch.tensor(self.dataset.data[self.queried_hist_[-1]][0]).to(self.device)\n",
      "C:\\Users\\Wan Jing\\Documents\\libact-torch\\libact\\query_strategies\\random_sampling.py:86: UserWarning: To copy construct from a tensor, it is recommended to use sourceTensor.clone().detach() or sourceTensor.clone().detach().requires_grad_(True), rather than torch.tensor(sourceTensor).\n",
      "  ex = torch.tensor(self.dataset.data[self.queried_hist_[-1]][0]).to(self.device)\n"
     ]
    },
    {
     "name": "stdout",
     "output_type": "stream",
     "text": [
      "    strategy  labeled_acc  testing_acc    reward\n",
      "105        1     0.488254     0.391026  0.391026\n",
      "Mon Aug 31 16:02:52 2020 ContextualBanditsActiveLearning query round: 107\n",
      "Strategy Chosen: UncertaintySampling\n"
     ]
    },
    {
     "name": "stderr",
     "output_type": "stream",
     "text": [
      "C:\\Users\\Wan Jing\\Documents\\libact-torch\\libact\\query_strategies\\contextual_bandits_active_learning.py:184: UserWarning: To copy construct from a tensor, it is recommended to use sourceTensor.clone().detach() or sourceTensor.clone().detach().requires_grad_(True), rather than torch.tensor(sourceTensor).\n",
      "  ex = torch.tensor(self.dataset.data[self.queried_hist_[-1]][0]).to(self.device)\n",
      "C:\\Users\\Wan Jing\\Documents\\libact-torch\\libact\\query_strategies\\uncertainty_sampling.py:149: UserWarning: To copy construct from a tensor, it is recommended to use sourceTensor.clone().detach() or sourceTensor.clone().detach().requires_grad_(True), rather than torch.tensor(sourceTensor).\n",
      "  ex = torch.tensor(self.dataset.data[self.queried_hist_[-1]][0]).to(self.device)\n",
      "C:\\Users\\Wan Jing\\Documents\\libact-torch\\libact\\query_strategies\\representative_sampling.py:113: UserWarning: To copy construct from a tensor, it is recommended to use sourceTensor.clone().detach() or sourceTensor.clone().detach().requires_grad_(True), rather than torch.tensor(sourceTensor).\n",
      "  ex = torch.tensor(self.dataset.data[self.queried_hist_[-1]][0]).to(self.device)\n",
      "C:\\Users\\Wan Jing\\Documents\\libact-torch\\libact\\query_strategies\\random_sampling.py:86: UserWarning: To copy construct from a tensor, it is recommended to use sourceTensor.clone().detach() or sourceTensor.clone().detach().requires_grad_(True), rather than torch.tensor(sourceTensor).\n",
      "  ex = torch.tensor(self.dataset.data[self.queried_hist_[-1]][0]).to(self.device)\n"
     ]
    },
    {
     "name": "stdout",
     "output_type": "stream",
     "text": [
      "    strategy  labeled_acc  testing_acc    reward\n",
      "106        3     0.488031     0.394078  0.395161\n",
      "Mon Aug 31 16:03:06 2020 ContextualBanditsActiveLearning query round: 108\n",
      "Strategy Chosen: UncertaintySampling\n"
     ]
    },
    {
     "name": "stderr",
     "output_type": "stream",
     "text": [
      "C:\\Users\\Wan Jing\\Documents\\libact-torch\\libact\\query_strategies\\contextual_bandits_active_learning.py:184: UserWarning: To copy construct from a tensor, it is recommended to use sourceTensor.clone().detach() or sourceTensor.clone().detach().requires_grad_(True), rather than torch.tensor(sourceTensor).\n",
      "  ex = torch.tensor(self.dataset.data[self.queried_hist_[-1]][0]).to(self.device)\n",
      "C:\\Users\\Wan Jing\\Documents\\libact-torch\\libact\\query_strategies\\uncertainty_sampling.py:149: UserWarning: To copy construct from a tensor, it is recommended to use sourceTensor.clone().detach() or sourceTensor.clone().detach().requires_grad_(True), rather than torch.tensor(sourceTensor).\n",
      "  ex = torch.tensor(self.dataset.data[self.queried_hist_[-1]][0]).to(self.device)\n",
      "C:\\Users\\Wan Jing\\Documents\\libact-torch\\libact\\query_strategies\\representative_sampling.py:113: UserWarning: To copy construct from a tensor, it is recommended to use sourceTensor.clone().detach() or sourceTensor.clone().detach().requires_grad_(True), rather than torch.tensor(sourceTensor).\n",
      "  ex = torch.tensor(self.dataset.data[self.queried_hist_[-1]][0]).to(self.device)\n",
      "C:\\Users\\Wan Jing\\Documents\\libact-torch\\libact\\query_strategies\\random_sampling.py:86: UserWarning: To copy construct from a tensor, it is recommended to use sourceTensor.clone().detach() or sourceTensor.clone().detach().requires_grad_(True), rather than torch.tensor(sourceTensor).\n",
      "  ex = torch.tensor(self.dataset.data[self.queried_hist_[-1]][0]).to(self.device)\n"
     ]
    },
    {
     "name": "stdout",
     "output_type": "stream",
     "text": [
      "    strategy  labeled_acc  testing_acc    reward\n",
      "107        2     0.482969     0.388889  0.387073\n",
      "Mon Aug 31 16:03:20 2020 ContextualBanditsActiveLearning query round: 109\n",
      "Strategy Chosen: UncertaintySampling\n"
     ]
    },
    {
     "name": "stderr",
     "output_type": "stream",
     "text": [
      "C:\\Users\\Wan Jing\\Documents\\libact-torch\\libact\\query_strategies\\contextual_bandits_active_learning.py:184: UserWarning: To copy construct from a tensor, it is recommended to use sourceTensor.clone().detach() or sourceTensor.clone().detach().requires_grad_(True), rather than torch.tensor(sourceTensor).\n",
      "  ex = torch.tensor(self.dataset.data[self.queried_hist_[-1]][0]).to(self.device)\n",
      "C:\\Users\\Wan Jing\\Documents\\libact-torch\\libact\\query_strategies\\uncertainty_sampling.py:149: UserWarning: To copy construct from a tensor, it is recommended to use sourceTensor.clone().detach() or sourceTensor.clone().detach().requires_grad_(True), rather than torch.tensor(sourceTensor).\n",
      "  ex = torch.tensor(self.dataset.data[self.queried_hist_[-1]][0]).to(self.device)\n",
      "C:\\Users\\Wan Jing\\Documents\\libact-torch\\libact\\query_strategies\\representative_sampling.py:113: UserWarning: To copy construct from a tensor, it is recommended to use sourceTensor.clone().detach() or sourceTensor.clone().detach().requires_grad_(True), rather than torch.tensor(sourceTensor).\n",
      "  ex = torch.tensor(self.dataset.data[self.queried_hist_[-1]][0]).to(self.device)\n",
      "C:\\Users\\Wan Jing\\Documents\\libact-torch\\libact\\query_strategies\\random_sampling.py:86: UserWarning: To copy construct from a tensor, it is recommended to use sourceTensor.clone().detach() or sourceTensor.clone().detach().requires_grad_(True), rather than torch.tensor(sourceTensor).\n",
      "  ex = torch.tensor(self.dataset.data[self.queried_hist_[-1]][0]).to(self.device)\n",
      "C:\\Users\\Wan Jing\\.conda\\envs\\deepCB\\lib\\site-packages\\sklearn\\metrics\\_classification.py:1221: UndefinedMetricWarning: Precision is ill-defined and being set to 0.0 in labels with no predicted samples. Use `zero_division` parameter to control this behavior.\n",
      "  _warn_prf(average, modifier, msg_start, len(result))\n"
     ]
    },
    {
     "name": "stdout",
     "output_type": "stream",
     "text": [
      "    strategy  labeled_acc  testing_acc    reward\n",
      "108        3     0.488837     0.392247  0.393432\n",
      "Mon Aug 31 16:03:34 2020 ContextualBanditsActiveLearning query round: 110\n",
      "Strategy Chosen: UncertaintySampling\n"
     ]
    },
    {
     "name": "stderr",
     "output_type": "stream",
     "text": [
      "C:\\Users\\Wan Jing\\Documents\\libact-torch\\libact\\query_strategies\\contextual_bandits_active_learning.py:184: UserWarning: To copy construct from a tensor, it is recommended to use sourceTensor.clone().detach() or sourceTensor.clone().detach().requires_grad_(True), rather than torch.tensor(sourceTensor).\n",
      "  ex = torch.tensor(self.dataset.data[self.queried_hist_[-1]][0]).to(self.device)\n",
      "C:\\Users\\Wan Jing\\Documents\\libact-torch\\libact\\query_strategies\\uncertainty_sampling.py:149: UserWarning: To copy construct from a tensor, it is recommended to use sourceTensor.clone().detach() or sourceTensor.clone().detach().requires_grad_(True), rather than torch.tensor(sourceTensor).\n",
      "  ex = torch.tensor(self.dataset.data[self.queried_hist_[-1]][0]).to(self.device)\n",
      "C:\\Users\\Wan Jing\\Documents\\libact-torch\\libact\\query_strategies\\representative_sampling.py:113: UserWarning: To copy construct from a tensor, it is recommended to use sourceTensor.clone().detach() or sourceTensor.clone().detach().requires_grad_(True), rather than torch.tensor(sourceTensor).\n",
      "  ex = torch.tensor(self.dataset.data[self.queried_hist_[-1]][0]).to(self.device)\n",
      "C:\\Users\\Wan Jing\\Documents\\libact-torch\\libact\\query_strategies\\random_sampling.py:86: UserWarning: To copy construct from a tensor, it is recommended to use sourceTensor.clone().detach() or sourceTensor.clone().detach().requires_grad_(True), rather than torch.tensor(sourceTensor).\n",
      "  ex = torch.tensor(self.dataset.data[self.queried_hist_[-1]][0]).to(self.device)\n"
     ]
    },
    {
     "name": "stdout",
     "output_type": "stream",
     "text": [
      "    strategy  labeled_acc  testing_acc    reward\n",
      "109        3        0.492     0.396825  0.398461\n",
      "Mon Aug 31 16:03:47 2020 ContextualBanditsActiveLearning query round: 111\n",
      "Strategy Chosen: RepresentativeSampling\n"
     ]
    },
    {
     "name": "stderr",
     "output_type": "stream",
     "text": [
      "C:\\Users\\Wan Jing\\Documents\\libact-torch\\libact\\query_strategies\\representative_sampling.py:147: UserWarning: To copy construct from a tensor, it is recommended to use sourceTensor.clone().detach() or sourceTensor.clone().detach().requires_grad_(True), rather than torch.tensor(sourceTensor).\n",
      "  x = torch.tensor(x).to(self.device)\n",
      "C:\\Users\\Wan Jing\\Documents\\libact-torch\\libact\\query_strategies\\contextual_bandits_active_learning.py:184: UserWarning: To copy construct from a tensor, it is recommended to use sourceTensor.clone().detach() or sourceTensor.clone().detach().requires_grad_(True), rather than torch.tensor(sourceTensor).\n",
      "  ex = torch.tensor(self.dataset.data[self.queried_hist_[-1]][0]).to(self.device)\n",
      "C:\\Users\\Wan Jing\\Documents\\libact-torch\\libact\\query_strategies\\uncertainty_sampling.py:149: UserWarning: To copy construct from a tensor, it is recommended to use sourceTensor.clone().detach() or sourceTensor.clone().detach().requires_grad_(True), rather than torch.tensor(sourceTensor).\n",
      "  ex = torch.tensor(self.dataset.data[self.queried_hist_[-1]][0]).to(self.device)\n",
      "C:\\Users\\Wan Jing\\Documents\\libact-torch\\libact\\query_strategies\\representative_sampling.py:113: UserWarning: To copy construct from a tensor, it is recommended to use sourceTensor.clone().detach() or sourceTensor.clone().detach().requires_grad_(True), rather than torch.tensor(sourceTensor).\n",
      "  ex = torch.tensor(self.dataset.data[self.queried_hist_[-1]][0]).to(self.device)\n",
      "C:\\Users\\Wan Jing\\Documents\\libact-torch\\libact\\query_strategies\\random_sampling.py:86: UserWarning: To copy construct from a tensor, it is recommended to use sourceTensor.clone().detach() or sourceTensor.clone().detach().requires_grad_(True), rather than torch.tensor(sourceTensor).\n",
      "  ex = torch.tensor(self.dataset.data[self.queried_hist_[-1]][0]).to(self.device)\n"
     ]
    },
    {
     "name": "stdout",
     "output_type": "stream",
     "text": [
      "    strategy  labeled_acc  testing_acc    reward\n",
      "110        4     0.490382     0.398046  0.398484\n",
      "Mon Aug 31 16:04:03 2020 ContextualBanditsActiveLearning query round: 112\n",
      "Strategy Chosen: RepresentativeSampling\n"
     ]
    },
    {
     "name": "stderr",
     "output_type": "stream",
     "text": [
      "C:\\Users\\Wan Jing\\Documents\\libact-torch\\libact\\query_strategies\\representative_sampling.py:147: UserWarning: To copy construct from a tensor, it is recommended to use sourceTensor.clone().detach() or sourceTensor.clone().detach().requires_grad_(True), rather than torch.tensor(sourceTensor).\n",
      "  x = torch.tensor(x).to(self.device)\n",
      "C:\\Users\\Wan Jing\\Documents\\libact-torch\\libact\\query_strategies\\contextual_bandits_active_learning.py:184: UserWarning: To copy construct from a tensor, it is recommended to use sourceTensor.clone().detach() or sourceTensor.clone().detach().requires_grad_(True), rather than torch.tensor(sourceTensor).\n",
      "  ex = torch.tensor(self.dataset.data[self.queried_hist_[-1]][0]).to(self.device)\n",
      "C:\\Users\\Wan Jing\\Documents\\libact-torch\\libact\\query_strategies\\uncertainty_sampling.py:149: UserWarning: To copy construct from a tensor, it is recommended to use sourceTensor.clone().detach() or sourceTensor.clone().detach().requires_grad_(True), rather than torch.tensor(sourceTensor).\n",
      "  ex = torch.tensor(self.dataset.data[self.queried_hist_[-1]][0]).to(self.device)\n",
      "C:\\Users\\Wan Jing\\Documents\\libact-torch\\libact\\query_strategies\\representative_sampling.py:113: UserWarning: To copy construct from a tensor, it is recommended to use sourceTensor.clone().detach() or sourceTensor.clone().detach().requires_grad_(True), rather than torch.tensor(sourceTensor).\n",
      "  ex = torch.tensor(self.dataset.data[self.queried_hist_[-1]][0]).to(self.device)\n",
      "C:\\Users\\Wan Jing\\Documents\\libact-torch\\libact\\query_strategies\\random_sampling.py:86: UserWarning: To copy construct from a tensor, it is recommended to use sourceTensor.clone().detach() or sourceTensor.clone().detach().requires_grad_(True), rather than torch.tensor(sourceTensor).\n",
      "  ex = torch.tensor(self.dataset.data[self.queried_hist_[-1]][0]).to(self.device)\n"
     ]
    },
    {
     "name": "stdout",
     "output_type": "stream",
     "text": [
      "    strategy  labeled_acc  testing_acc    reward\n",
      "111        4     0.493485     0.394078  0.392671\n",
      "Mon Aug 31 16:04:19 2020 ContextualBanditsActiveLearning query round: 113\n",
      "Strategy Chosen: UncertaintySampling\n"
     ]
    },
    {
     "name": "stderr",
     "output_type": "stream",
     "text": [
      "C:\\Users\\Wan Jing\\Documents\\libact-torch\\libact\\query_strategies\\contextual_bandits_active_learning.py:184: UserWarning: To copy construct from a tensor, it is recommended to use sourceTensor.clone().detach() or sourceTensor.clone().detach().requires_grad_(True), rather than torch.tensor(sourceTensor).\n",
      "  ex = torch.tensor(self.dataset.data[self.queried_hist_[-1]][0]).to(self.device)\n",
      "C:\\Users\\Wan Jing\\Documents\\libact-torch\\libact\\query_strategies\\uncertainty_sampling.py:149: UserWarning: To copy construct from a tensor, it is recommended to use sourceTensor.clone().detach() or sourceTensor.clone().detach().requires_grad_(True), rather than torch.tensor(sourceTensor).\n",
      "  ex = torch.tensor(self.dataset.data[self.queried_hist_[-1]][0]).to(self.device)\n",
      "C:\\Users\\Wan Jing\\Documents\\libact-torch\\libact\\query_strategies\\representative_sampling.py:113: UserWarning: To copy construct from a tensor, it is recommended to use sourceTensor.clone().detach() or sourceTensor.clone().detach().requires_grad_(True), rather than torch.tensor(sourceTensor).\n",
      "  ex = torch.tensor(self.dataset.data[self.queried_hist_[-1]][0]).to(self.device)\n",
      "C:\\Users\\Wan Jing\\Documents\\libact-torch\\libact\\query_strategies\\random_sampling.py:86: UserWarning: To copy construct from a tensor, it is recommended to use sourceTensor.clone().detach() or sourceTensor.clone().detach().requires_grad_(True), rather than torch.tensor(sourceTensor).\n",
      "  ex = torch.tensor(self.dataset.data[self.queried_hist_[-1]][0]).to(self.device)\n"
     ]
    },
    {
     "name": "stdout",
     "output_type": "stream",
     "text": [
      "    strategy  labeled_acc  testing_acc  reward\n",
      "112        1     0.501654     0.398657  0.4003\n",
      "Mon Aug 31 16:04:33 2020 ContextualBanditsActiveLearning query round: 114\n",
      "Strategy Chosen: RepresentativeSampling\n"
     ]
    },
    {
     "name": "stderr",
     "output_type": "stream",
     "text": [
      "C:\\Users\\Wan Jing\\Documents\\libact-torch\\libact\\query_strategies\\representative_sampling.py:147: UserWarning: To copy construct from a tensor, it is recommended to use sourceTensor.clone().detach() or sourceTensor.clone().detach().requires_grad_(True), rather than torch.tensor(sourceTensor).\n",
      "  x = torch.tensor(x).to(self.device)\n",
      "C:\\Users\\Wan Jing\\Documents\\libact-torch\\libact\\query_strategies\\contextual_bandits_active_learning.py:184: UserWarning: To copy construct from a tensor, it is recommended to use sourceTensor.clone().detach() or sourceTensor.clone().detach().requires_grad_(True), rather than torch.tensor(sourceTensor).\n",
      "  ex = torch.tensor(self.dataset.data[self.queried_hist_[-1]][0]).to(self.device)\n",
      "C:\\Users\\Wan Jing\\Documents\\libact-torch\\libact\\query_strategies\\uncertainty_sampling.py:149: UserWarning: To copy construct from a tensor, it is recommended to use sourceTensor.clone().detach() or sourceTensor.clone().detach().requires_grad_(True), rather than torch.tensor(sourceTensor).\n",
      "  ex = torch.tensor(self.dataset.data[self.queried_hist_[-1]][0]).to(self.device)\n",
      "C:\\Users\\Wan Jing\\Documents\\libact-torch\\libact\\query_strategies\\representative_sampling.py:113: UserWarning: To copy construct from a tensor, it is recommended to use sourceTensor.clone().detach() or sourceTensor.clone().detach().requires_grad_(True), rather than torch.tensor(sourceTensor).\n",
      "  ex = torch.tensor(self.dataset.data[self.queried_hist_[-1]][0]).to(self.device)\n",
      "C:\\Users\\Wan Jing\\Documents\\libact-torch\\libact\\query_strategies\\random_sampling.py:86: UserWarning: To copy construct from a tensor, it is recommended to use sourceTensor.clone().detach() or sourceTensor.clone().detach().requires_grad_(True), rather than torch.tensor(sourceTensor).\n",
      "  ex = torch.tensor(self.dataset.data[self.queried_hist_[-1]][0]).to(self.device)\n",
      "C:\\Users\\Wan Jing\\.conda\\envs\\deepCB\\lib\\site-packages\\sklearn\\metrics\\_classification.py:1221: UndefinedMetricWarning: Precision is ill-defined and being set to 0.0 in labels with no predicted samples. Use `zero_division` parameter to control this behavior.\n",
      "  _warn_prf(average, modifier, msg_start, len(result))\n"
     ]
    },
    {
     "name": "stdout",
     "output_type": "stream",
     "text": [
      "    strategy  labeled_acc  testing_acc    reward\n",
      "113        4     0.501642     0.392247  0.389984\n",
      "Mon Aug 31 16:04:49 2020 ContextualBanditsActiveLearning query round: 115\n",
      "Strategy Chosen: UncertaintySampling\n"
     ]
    },
    {
     "name": "stderr",
     "output_type": "stream",
     "text": [
      "C:\\Users\\Wan Jing\\Documents\\libact-torch\\libact\\query_strategies\\contextual_bandits_active_learning.py:184: UserWarning: To copy construct from a tensor, it is recommended to use sourceTensor.clone().detach() or sourceTensor.clone().detach().requires_grad_(True), rather than torch.tensor(sourceTensor).\n",
      "  ex = torch.tensor(self.dataset.data[self.queried_hist_[-1]][0]).to(self.device)\n",
      "C:\\Users\\Wan Jing\\Documents\\libact-torch\\libact\\query_strategies\\uncertainty_sampling.py:149: UserWarning: To copy construct from a tensor, it is recommended to use sourceTensor.clone().detach() or sourceTensor.clone().detach().requires_grad_(True), rather than torch.tensor(sourceTensor).\n",
      "  ex = torch.tensor(self.dataset.data[self.queried_hist_[-1]][0]).to(self.device)\n",
      "C:\\Users\\Wan Jing\\Documents\\libact-torch\\libact\\query_strategies\\representative_sampling.py:113: UserWarning: To copy construct from a tensor, it is recommended to use sourceTensor.clone().detach() or sourceTensor.clone().detach().requires_grad_(True), rather than torch.tensor(sourceTensor).\n",
      "  ex = torch.tensor(self.dataset.data[self.queried_hist_[-1]][0]).to(self.device)\n",
      "C:\\Users\\Wan Jing\\Documents\\libact-torch\\libact\\query_strategies\\random_sampling.py:86: UserWarning: To copy construct from a tensor, it is recommended to use sourceTensor.clone().detach() or sourceTensor.clone().detach().requires_grad_(True), rather than torch.tensor(sourceTensor).\n",
      "  ex = torch.tensor(self.dataset.data[self.queried_hist_[-1]][0]).to(self.device)\n",
      "C:\\Users\\Wan Jing\\.conda\\envs\\deepCB\\lib\\site-packages\\sklearn\\metrics\\_classification.py:1221: UndefinedMetricWarning: Precision is ill-defined and being set to 0.0 in labels with no predicted samples. Use `zero_division` parameter to control this behavior.\n",
      "  _warn_prf(average, modifier, msg_start, len(result))\n"
     ]
    },
    {
     "name": "stdout",
     "output_type": "stream",
     "text": [
      "    strategy  labeled_acc  testing_acc  reward\n",
      "114        3     0.504296     0.395604  0.3968\n",
      "Mon Aug 31 16:05:03 2020 ContextualBanditsActiveLearning query round: 116\n",
      "Strategy Chosen: UncertaintySampling\n"
     ]
    },
    {
     "name": "stderr",
     "output_type": "stream",
     "text": [
      "C:\\Users\\Wan Jing\\Documents\\libact-torch\\libact\\query_strategies\\contextual_bandits_active_learning.py:184: UserWarning: To copy construct from a tensor, it is recommended to use sourceTensor.clone().detach() or sourceTensor.clone().detach().requires_grad_(True), rather than torch.tensor(sourceTensor).\n",
      "  ex = torch.tensor(self.dataset.data[self.queried_hist_[-1]][0]).to(self.device)\n",
      "C:\\Users\\Wan Jing\\Documents\\libact-torch\\libact\\query_strategies\\uncertainty_sampling.py:149: UserWarning: To copy construct from a tensor, it is recommended to use sourceTensor.clone().detach() or sourceTensor.clone().detach().requires_grad_(True), rather than torch.tensor(sourceTensor).\n",
      "  ex = torch.tensor(self.dataset.data[self.queried_hist_[-1]][0]).to(self.device)\n",
      "C:\\Users\\Wan Jing\\Documents\\libact-torch\\libact\\query_strategies\\representative_sampling.py:113: UserWarning: To copy construct from a tensor, it is recommended to use sourceTensor.clone().detach() or sourceTensor.clone().detach().requires_grad_(True), rather than torch.tensor(sourceTensor).\n",
      "  ex = torch.tensor(self.dataset.data[self.queried_hist_[-1]][0]).to(self.device)\n",
      "C:\\Users\\Wan Jing\\Documents\\libact-torch\\libact\\query_strategies\\random_sampling.py:86: UserWarning: To copy construct from a tensor, it is recommended to use sourceTensor.clone().detach() or sourceTensor.clone().detach().requires_grad_(True), rather than torch.tensor(sourceTensor).\n",
      "  ex = torch.tensor(self.dataset.data[self.queried_hist_[-1]][0]).to(self.device)\n"
     ]
    },
    {
     "name": "stdout",
     "output_type": "stream",
     "text": [
      "    strategy  labeled_acc  testing_acc    reward\n",
      "115        1     0.515441     0.398962  0.400168\n",
      "Mon Aug 31 16:05:17 2020 ContextualBanditsActiveLearning query round: 117\n",
      "Strategy Chosen: UncertaintySampling\n"
     ]
    },
    {
     "name": "stderr",
     "output_type": "stream",
     "text": [
      "C:\\Users\\Wan Jing\\Documents\\libact-torch\\libact\\query_strategies\\contextual_bandits_active_learning.py:184: UserWarning: To copy construct from a tensor, it is recommended to use sourceTensor.clone().detach() or sourceTensor.clone().detach().requires_grad_(True), rather than torch.tensor(sourceTensor).\n",
      "  ex = torch.tensor(self.dataset.data[self.queried_hist_[-1]][0]).to(self.device)\n",
      "C:\\Users\\Wan Jing\\Documents\\libact-torch\\libact\\query_strategies\\uncertainty_sampling.py:149: UserWarning: To copy construct from a tensor, it is recommended to use sourceTensor.clone().detach() or sourceTensor.clone().detach().requires_grad_(True), rather than torch.tensor(sourceTensor).\n",
      "  ex = torch.tensor(self.dataset.data[self.queried_hist_[-1]][0]).to(self.device)\n",
      "C:\\Users\\Wan Jing\\Documents\\libact-torch\\libact\\query_strategies\\representative_sampling.py:113: UserWarning: To copy construct from a tensor, it is recommended to use sourceTensor.clone().detach() or sourceTensor.clone().detach().requires_grad_(True), rather than torch.tensor(sourceTensor).\n",
      "  ex = torch.tensor(self.dataset.data[self.queried_hist_[-1]][0]).to(self.device)\n",
      "C:\\Users\\Wan Jing\\Documents\\libact-torch\\libact\\query_strategies\\random_sampling.py:86: UserWarning: To copy construct from a tensor, it is recommended to use sourceTensor.clone().detach() or sourceTensor.clone().detach().requires_grad_(True), rather than torch.tensor(sourceTensor).\n",
      "  ex = torch.tensor(self.dataset.data[self.queried_hist_[-1]][0]).to(self.device)\n"
     ]
    },
    {
     "name": "stdout",
     "output_type": "stream",
     "text": [
      "    strategy  labeled_acc  testing_acc    reward\n",
      "116        2     0.509197     0.398962  0.398962\n",
      "Mon Aug 31 16:05:32 2020 ContextualBanditsActiveLearning query round: 118\n",
      "Strategy Chosen: RepresentativeSampling\n"
     ]
    },
    {
     "name": "stderr",
     "output_type": "stream",
     "text": [
      "C:\\Users\\Wan Jing\\Documents\\libact-torch\\libact\\query_strategies\\representative_sampling.py:147: UserWarning: To copy construct from a tensor, it is recommended to use sourceTensor.clone().detach() or sourceTensor.clone().detach().requires_grad_(True), rather than torch.tensor(sourceTensor).\n",
      "  x = torch.tensor(x).to(self.device)\n",
      "C:\\Users\\Wan Jing\\Documents\\libact-torch\\libact\\query_strategies\\contextual_bandits_active_learning.py:184: UserWarning: To copy construct from a tensor, it is recommended to use sourceTensor.clone().detach() or sourceTensor.clone().detach().requires_grad_(True), rather than torch.tensor(sourceTensor).\n",
      "  ex = torch.tensor(self.dataset.data[self.queried_hist_[-1]][0]).to(self.device)\n",
      "C:\\Users\\Wan Jing\\Documents\\libact-torch\\libact\\query_strategies\\uncertainty_sampling.py:149: UserWarning: To copy construct from a tensor, it is recommended to use sourceTensor.clone().detach() or sourceTensor.clone().detach().requires_grad_(True), rather than torch.tensor(sourceTensor).\n",
      "  ex = torch.tensor(self.dataset.data[self.queried_hist_[-1]][0]).to(self.device)\n",
      "C:\\Users\\Wan Jing\\Documents\\libact-torch\\libact\\query_strategies\\representative_sampling.py:113: UserWarning: To copy construct from a tensor, it is recommended to use sourceTensor.clone().detach() or sourceTensor.clone().detach().requires_grad_(True), rather than torch.tensor(sourceTensor).\n",
      "  ex = torch.tensor(self.dataset.data[self.queried_hist_[-1]][0]).to(self.device)\n",
      "C:\\Users\\Wan Jing\\Documents\\libact-torch\\libact\\query_strategies\\random_sampling.py:86: UserWarning: To copy construct from a tensor, it is recommended to use sourceTensor.clone().detach() or sourceTensor.clone().detach().requires_grad_(True), rather than torch.tensor(sourceTensor).\n",
      "  ex = torch.tensor(self.dataset.data[self.queried_hist_[-1]][0]).to(self.device)\n",
      "C:\\Users\\Wan Jing\\.conda\\envs\\deepCB\\lib\\site-packages\\sklearn\\metrics\\_classification.py:1221: UndefinedMetricWarning: Precision is ill-defined and being set to 0.0 in labels with no predicted samples. Use `zero_division` parameter to control this behavior.\n",
      "  _warn_prf(average, modifier, msg_start, len(result))\n"
     ]
    },
    {
     "name": "stdout",
     "output_type": "stream",
     "text": [
      "    strategy  labeled_acc  testing_acc   reward\n",
      "117        4     0.518986     0.397436  0.39689\n",
      "Mon Aug 31 16:05:48 2020 ContextualBanditsActiveLearning query round: 119\n",
      "Strategy Chosen: UncertaintySampling\n"
     ]
    },
    {
     "name": "stderr",
     "output_type": "stream",
     "text": [
      "C:\\Users\\Wan Jing\\Documents\\libact-torch\\libact\\query_strategies\\contextual_bandits_active_learning.py:184: UserWarning: To copy construct from a tensor, it is recommended to use sourceTensor.clone().detach() or sourceTensor.clone().detach().requires_grad_(True), rather than torch.tensor(sourceTensor).\n",
      "  ex = torch.tensor(self.dataset.data[self.queried_hist_[-1]][0]).to(self.device)\n",
      "C:\\Users\\Wan Jing\\Documents\\libact-torch\\libact\\query_strategies\\uncertainty_sampling.py:149: UserWarning: To copy construct from a tensor, it is recommended to use sourceTensor.clone().detach() or sourceTensor.clone().detach().requires_grad_(True), rather than torch.tensor(sourceTensor).\n",
      "  ex = torch.tensor(self.dataset.data[self.queried_hist_[-1]][0]).to(self.device)\n",
      "C:\\Users\\Wan Jing\\Documents\\libact-torch\\libact\\query_strategies\\representative_sampling.py:113: UserWarning: To copy construct from a tensor, it is recommended to use sourceTensor.clone().detach() or sourceTensor.clone().detach().requires_grad_(True), rather than torch.tensor(sourceTensor).\n",
      "  ex = torch.tensor(self.dataset.data[self.queried_hist_[-1]][0]).to(self.device)\n",
      "C:\\Users\\Wan Jing\\Documents\\libact-torch\\libact\\query_strategies\\random_sampling.py:86: UserWarning: To copy construct from a tensor, it is recommended to use sourceTensor.clone().detach() or sourceTensor.clone().detach().requires_grad_(True), rather than torch.tensor(sourceTensor).\n",
      "  ex = torch.tensor(self.dataset.data[self.queried_hist_[-1]][0]).to(self.device)\n"
     ]
    },
    {
     "name": "stdout",
     "output_type": "stream",
     "text": [
      "    strategy  labeled_acc  testing_acc    reward\n",
      "118        2     0.510072     0.403846  0.406176\n",
      "Mon Aug 31 16:06:02 2020 ContextualBanditsActiveLearning query round: 120\n",
      "Strategy Chosen: UncertaintySampling\n"
     ]
    },
    {
     "name": "stderr",
     "output_type": "stream",
     "text": [
      "C:\\Users\\Wan Jing\\Documents\\libact-torch\\libact\\query_strategies\\contextual_bandits_active_learning.py:184: UserWarning: To copy construct from a tensor, it is recommended to use sourceTensor.clone().detach() or sourceTensor.clone().detach().requires_grad_(True), rather than torch.tensor(sourceTensor).\n",
      "  ex = torch.tensor(self.dataset.data[self.queried_hist_[-1]][0]).to(self.device)\n",
      "C:\\Users\\Wan Jing\\Documents\\libact-torch\\libact\\query_strategies\\uncertainty_sampling.py:149: UserWarning: To copy construct from a tensor, it is recommended to use sourceTensor.clone().detach() or sourceTensor.clone().detach().requires_grad_(True), rather than torch.tensor(sourceTensor).\n",
      "  ex = torch.tensor(self.dataset.data[self.queried_hist_[-1]][0]).to(self.device)\n",
      "C:\\Users\\Wan Jing\\Documents\\libact-torch\\libact\\query_strategies\\representative_sampling.py:113: UserWarning: To copy construct from a tensor, it is recommended to use sourceTensor.clone().detach() or sourceTensor.clone().detach().requires_grad_(True), rather than torch.tensor(sourceTensor).\n",
      "  ex = torch.tensor(self.dataset.data[self.queried_hist_[-1]][0]).to(self.device)\n",
      "C:\\Users\\Wan Jing\\Documents\\libact-torch\\libact\\query_strategies\\random_sampling.py:86: UserWarning: To copy construct from a tensor, it is recommended to use sourceTensor.clone().detach() or sourceTensor.clone().detach().requires_grad_(True), rather than torch.tensor(sourceTensor).\n",
      "  ex = torch.tensor(self.dataset.data[self.queried_hist_[-1]][0]).to(self.device)\n"
     ]
    },
    {
     "name": "stdout",
     "output_type": "stream",
     "text": [
      "    strategy  labeled_acc  testing_acc    reward\n",
      "119        1     0.521429     0.403236  0.403014\n",
      "Mon Aug 31 16:06:17 2020 ContextualBanditsActiveLearning query round: 121\n",
      "Strategy Chosen: UncertaintySampling\n"
     ]
    },
    {
     "name": "stderr",
     "output_type": "stream",
     "text": [
      "C:\\Users\\Wan Jing\\Documents\\libact-torch\\libact\\query_strategies\\contextual_bandits_active_learning.py:184: UserWarning: To copy construct from a tensor, it is recommended to use sourceTensor.clone().detach() or sourceTensor.clone().detach().requires_grad_(True), rather than torch.tensor(sourceTensor).\n",
      "  ex = torch.tensor(self.dataset.data[self.queried_hist_[-1]][0]).to(self.device)\n",
      "C:\\Users\\Wan Jing\\Documents\\libact-torch\\libact\\query_strategies\\uncertainty_sampling.py:149: UserWarning: To copy construct from a tensor, it is recommended to use sourceTensor.clone().detach() or sourceTensor.clone().detach().requires_grad_(True), rather than torch.tensor(sourceTensor).\n",
      "  ex = torch.tensor(self.dataset.data[self.queried_hist_[-1]][0]).to(self.device)\n",
      "C:\\Users\\Wan Jing\\Documents\\libact-torch\\libact\\query_strategies\\representative_sampling.py:113: UserWarning: To copy construct from a tensor, it is recommended to use sourceTensor.clone().detach() or sourceTensor.clone().detach().requires_grad_(True), rather than torch.tensor(sourceTensor).\n",
      "  ex = torch.tensor(self.dataset.data[self.queried_hist_[-1]][0]).to(self.device)\n",
      "C:\\Users\\Wan Jing\\Documents\\libact-torch\\libact\\query_strategies\\random_sampling.py:86: UserWarning: To copy construct from a tensor, it is recommended to use sourceTensor.clone().detach() or sourceTensor.clone().detach().requires_grad_(True), rather than torch.tensor(sourceTensor).\n",
      "  ex = torch.tensor(self.dataset.data[self.queried_hist_[-1]][0]).to(self.device)\n"
     ]
    },
    {
     "name": "stdout",
     "output_type": "stream",
     "text": [
      "    strategy  labeled_acc  testing_acc    reward\n",
      "120        2     0.526383     0.397741  0.395774\n",
      "Mon Aug 31 16:06:31 2020 ContextualBanditsActiveLearning query round: 122\n",
      "Strategy Chosen: UncertaintySampling\n"
     ]
    },
    {
     "name": "stderr",
     "output_type": "stream",
     "text": [
      "C:\\Users\\Wan Jing\\Documents\\libact-torch\\libact\\query_strategies\\contextual_bandits_active_learning.py:184: UserWarning: To copy construct from a tensor, it is recommended to use sourceTensor.clone().detach() or sourceTensor.clone().detach().requires_grad_(True), rather than torch.tensor(sourceTensor).\n",
      "  ex = torch.tensor(self.dataset.data[self.queried_hist_[-1]][0]).to(self.device)\n",
      "C:\\Users\\Wan Jing\\Documents\\libact-torch\\libact\\query_strategies\\uncertainty_sampling.py:149: UserWarning: To copy construct from a tensor, it is recommended to use sourceTensor.clone().detach() or sourceTensor.clone().detach().requires_grad_(True), rather than torch.tensor(sourceTensor).\n",
      "  ex = torch.tensor(self.dataset.data[self.queried_hist_[-1]][0]).to(self.device)\n",
      "C:\\Users\\Wan Jing\\Documents\\libact-torch\\libact\\query_strategies\\representative_sampling.py:113: UserWarning: To copy construct from a tensor, it is recommended to use sourceTensor.clone().detach() or sourceTensor.clone().detach().requires_grad_(True), rather than torch.tensor(sourceTensor).\n",
      "  ex = torch.tensor(self.dataset.data[self.queried_hist_[-1]][0]).to(self.device)\n",
      "C:\\Users\\Wan Jing\\Documents\\libact-torch\\libact\\query_strategies\\random_sampling.py:86: UserWarning: To copy construct from a tensor, it is recommended to use sourceTensor.clone().detach() or sourceTensor.clone().detach().requires_grad_(True), rather than torch.tensor(sourceTensor).\n",
      "  ex = torch.tensor(self.dataset.data[self.queried_hist_[-1]][0]).to(self.device)\n"
     ]
    },
    {
     "name": "stdout",
     "output_type": "stream",
     "text": [
      "    strategy  labeled_acc  testing_acc   reward\n",
      "121        2     0.524366     0.392857  0.39113\n",
      "Mon Aug 31 16:06:46 2020 ContextualBanditsActiveLearning query round: 123\n",
      "Strategy Chosen: RandomSampling\n"
     ]
    },
    {
     "name": "stderr",
     "output_type": "stream",
     "text": [
      "C:\\Users\\Wan Jing\\Documents\\libact-torch\\libact\\query_strategies\\contextual_bandits_active_learning.py:184: UserWarning: To copy construct from a tensor, it is recommended to use sourceTensor.clone().detach() or sourceTensor.clone().detach().requires_grad_(True), rather than torch.tensor(sourceTensor).\n",
      "  ex = torch.tensor(self.dataset.data[self.queried_hist_[-1]][0]).to(self.device)\n",
      "C:\\Users\\Wan Jing\\Documents\\libact-torch\\libact\\query_strategies\\uncertainty_sampling.py:149: UserWarning: To copy construct from a tensor, it is recommended to use sourceTensor.clone().detach() or sourceTensor.clone().detach().requires_grad_(True), rather than torch.tensor(sourceTensor).\n",
      "  ex = torch.tensor(self.dataset.data[self.queried_hist_[-1]][0]).to(self.device)\n",
      "C:\\Users\\Wan Jing\\Documents\\libact-torch\\libact\\query_strategies\\representative_sampling.py:113: UserWarning: To copy construct from a tensor, it is recommended to use sourceTensor.clone().detach() or sourceTensor.clone().detach().requires_grad_(True), rather than torch.tensor(sourceTensor).\n",
      "  ex = torch.tensor(self.dataset.data[self.queried_hist_[-1]][0]).to(self.device)\n",
      "C:\\Users\\Wan Jing\\Documents\\libact-torch\\libact\\query_strategies\\random_sampling.py:86: UserWarning: To copy construct from a tensor, it is recommended to use sourceTensor.clone().detach() or sourceTensor.clone().detach().requires_grad_(True), rather than torch.tensor(sourceTensor).\n",
      "  ex = torch.tensor(self.dataset.data[self.queried_hist_[-1]][0]).to(self.device)\n"
     ]
    },
    {
     "name": "stdout",
     "output_type": "stream",
     "text": [
      "    strategy  labeled_acc  testing_acc   reward\n",
      "122        0     0.525035     0.404151  0.40826\n",
      "Mon Aug 31 16:06:58 2020 ContextualBanditsActiveLearning query round: 124\n",
      "Strategy Chosen: UncertaintySampling\n"
     ]
    },
    {
     "name": "stderr",
     "output_type": "stream",
     "text": [
      "C:\\Users\\Wan Jing\\Documents\\libact-torch\\libact\\query_strategies\\contextual_bandits_active_learning.py:184: UserWarning: To copy construct from a tensor, it is recommended to use sourceTensor.clone().detach() or sourceTensor.clone().detach().requires_grad_(True), rather than torch.tensor(sourceTensor).\n",
      "  ex = torch.tensor(self.dataset.data[self.queried_hist_[-1]][0]).to(self.device)\n",
      "C:\\Users\\Wan Jing\\Documents\\libact-torch\\libact\\query_strategies\\uncertainty_sampling.py:149: UserWarning: To copy construct from a tensor, it is recommended to use sourceTensor.clone().detach() or sourceTensor.clone().detach().requires_grad_(True), rather than torch.tensor(sourceTensor).\n",
      "  ex = torch.tensor(self.dataset.data[self.queried_hist_[-1]][0]).to(self.device)\n",
      "C:\\Users\\Wan Jing\\Documents\\libact-torch\\libact\\query_strategies\\representative_sampling.py:113: UserWarning: To copy construct from a tensor, it is recommended to use sourceTensor.clone().detach() or sourceTensor.clone().detach().requires_grad_(True), rather than torch.tensor(sourceTensor).\n",
      "  ex = torch.tensor(self.dataset.data[self.queried_hist_[-1]][0]).to(self.device)\n",
      "C:\\Users\\Wan Jing\\Documents\\libact-torch\\libact\\query_strategies\\random_sampling.py:86: UserWarning: To copy construct from a tensor, it is recommended to use sourceTensor.clone().detach() or sourceTensor.clone().detach().requires_grad_(True), rather than torch.tensor(sourceTensor).\n",
      "  ex = torch.tensor(self.dataset.data[self.queried_hist_[-1]][0]).to(self.device)\n"
     ]
    },
    {
     "name": "stdout",
     "output_type": "stream",
     "text": [
      "    strategy  labeled_acc  testing_acc    reward\n",
      "123        2     0.534167      0.40293  0.402488\n",
      "Mon Aug 31 16:07:12 2020 ContextualBanditsActiveLearning query round: 125\n",
      "Strategy Chosen: UncertaintySampling\n"
     ]
    },
    {
     "name": "stderr",
     "output_type": "stream",
     "text": [
      "C:\\Users\\Wan Jing\\Documents\\libact-torch\\libact\\query_strategies\\contextual_bandits_active_learning.py:184: UserWarning: To copy construct from a tensor, it is recommended to use sourceTensor.clone().detach() or sourceTensor.clone().detach().requires_grad_(True), rather than torch.tensor(sourceTensor).\n",
      "  ex = torch.tensor(self.dataset.data[self.queried_hist_[-1]][0]).to(self.device)\n",
      "C:\\Users\\Wan Jing\\Documents\\libact-torch\\libact\\query_strategies\\uncertainty_sampling.py:149: UserWarning: To copy construct from a tensor, it is recommended to use sourceTensor.clone().detach() or sourceTensor.clone().detach().requires_grad_(True), rather than torch.tensor(sourceTensor).\n",
      "  ex = torch.tensor(self.dataset.data[self.queried_hist_[-1]][0]).to(self.device)\n",
      "C:\\Users\\Wan Jing\\Documents\\libact-torch\\libact\\query_strategies\\representative_sampling.py:113: UserWarning: To copy construct from a tensor, it is recommended to use sourceTensor.clone().detach() or sourceTensor.clone().detach().requires_grad_(True), rather than torch.tensor(sourceTensor).\n",
      "  ex = torch.tensor(self.dataset.data[self.queried_hist_[-1]][0]).to(self.device)\n",
      "C:\\Users\\Wan Jing\\Documents\\libact-torch\\libact\\query_strategies\\random_sampling.py:86: UserWarning: To copy construct from a tensor, it is recommended to use sourceTensor.clone().detach() or sourceTensor.clone().detach().requires_grad_(True), rather than torch.tensor(sourceTensor).\n",
      "  ex = torch.tensor(self.dataset.data[self.queried_hist_[-1]][0]).to(self.device)\n"
     ]
    },
    {
     "name": "stdout",
     "output_type": "stream",
     "text": [
      "    strategy  labeled_acc  testing_acc    reward\n",
      "124        1      0.53531     0.401709  0.401268\n",
      "Mon Aug 31 16:07:27 2020 ContextualBanditsActiveLearning query round: 126\n",
      "Strategy Chosen: RepresentativeSampling\n"
     ]
    },
    {
     "name": "stderr",
     "output_type": "stream",
     "text": [
      "C:\\Users\\Wan Jing\\Documents\\libact-torch\\libact\\query_strategies\\representative_sampling.py:147: UserWarning: To copy construct from a tensor, it is recommended to use sourceTensor.clone().detach() or sourceTensor.clone().detach().requires_grad_(True), rather than torch.tensor(sourceTensor).\n",
      "  x = torch.tensor(x).to(self.device)\n",
      "C:\\Users\\Wan Jing\\Documents\\libact-torch\\libact\\query_strategies\\contextual_bandits_active_learning.py:184: UserWarning: To copy construct from a tensor, it is recommended to use sourceTensor.clone().detach() or sourceTensor.clone().detach().requires_grad_(True), rather than torch.tensor(sourceTensor).\n",
      "  ex = torch.tensor(self.dataset.data[self.queried_hist_[-1]][0]).to(self.device)\n",
      "C:\\Users\\Wan Jing\\Documents\\libact-torch\\libact\\query_strategies\\uncertainty_sampling.py:149: UserWarning: To copy construct from a tensor, it is recommended to use sourceTensor.clone().detach() or sourceTensor.clone().detach().requires_grad_(True), rather than torch.tensor(sourceTensor).\n",
      "  ex = torch.tensor(self.dataset.data[self.queried_hist_[-1]][0]).to(self.device)\n",
      "C:\\Users\\Wan Jing\\Documents\\libact-torch\\libact\\query_strategies\\representative_sampling.py:113: UserWarning: To copy construct from a tensor, it is recommended to use sourceTensor.clone().detach() or sourceTensor.clone().detach().requires_grad_(True), rather than torch.tensor(sourceTensor).\n",
      "  ex = torch.tensor(self.dataset.data[self.queried_hist_[-1]][0]).to(self.device)\n",
      "C:\\Users\\Wan Jing\\Documents\\libact-torch\\libact\\query_strategies\\random_sampling.py:86: UserWarning: To copy construct from a tensor, it is recommended to use sourceTensor.clone().detach() or sourceTensor.clone().detach().requires_grad_(True), rather than torch.tensor(sourceTensor).\n",
      "  ex = torch.tensor(self.dataset.data[self.queried_hist_[-1]][0]).to(self.device)\n"
     ]
    },
    {
     "name": "stdout",
     "output_type": "stream",
     "text": [
      "    strategy  labeled_acc  testing_acc    reward\n",
      "125        4     0.536849     0.407814  0.410055\n",
      "Mon Aug 31 16:07:43 2020 ContextualBanditsActiveLearning query round: 127\n",
      "Strategy Chosen: UncertaintySampling\n"
     ]
    },
    {
     "name": "stderr",
     "output_type": "stream",
     "text": [
      "C:\\Users\\Wan Jing\\Documents\\libact-torch\\libact\\query_strategies\\contextual_bandits_active_learning.py:184: UserWarning: To copy construct from a tensor, it is recommended to use sourceTensor.clone().detach() or sourceTensor.clone().detach().requires_grad_(True), rather than torch.tensor(sourceTensor).\n",
      "  ex = torch.tensor(self.dataset.data[self.queried_hist_[-1]][0]).to(self.device)\n",
      "C:\\Users\\Wan Jing\\Documents\\libact-torch\\libact\\query_strategies\\uncertainty_sampling.py:149: UserWarning: To copy construct from a tensor, it is recommended to use sourceTensor.clone().detach() or sourceTensor.clone().detach().requires_grad_(True), rather than torch.tensor(sourceTensor).\n",
      "  ex = torch.tensor(self.dataset.data[self.queried_hist_[-1]][0]).to(self.device)\n",
      "C:\\Users\\Wan Jing\\Documents\\libact-torch\\libact\\query_strategies\\representative_sampling.py:113: UserWarning: To copy construct from a tensor, it is recommended to use sourceTensor.clone().detach() or sourceTensor.clone().detach().requires_grad_(True), rather than torch.tensor(sourceTensor).\n",
      "  ex = torch.tensor(self.dataset.data[self.queried_hist_[-1]][0]).to(self.device)\n",
      "C:\\Users\\Wan Jing\\Documents\\libact-torch\\libact\\query_strategies\\random_sampling.py:86: UserWarning: To copy construct from a tensor, it is recommended to use sourceTensor.clone().detach() or sourceTensor.clone().detach().requires_grad_(True), rather than torch.tensor(sourceTensor).\n",
      "  ex = torch.tensor(self.dataset.data[self.queried_hist_[-1]][0]).to(self.device)\n"
     ]
    },
    {
     "name": "stdout",
     "output_type": "stream",
     "text": [
      "    strategy  labeled_acc  testing_acc    reward\n",
      "126        2     0.548163     0.411172  0.412415\n",
      "Mon Aug 31 16:07:58 2020 ContextualBanditsActiveLearning query round: 128\n",
      "Strategy Chosen: UncertaintySampling\n"
     ]
    },
    {
     "name": "stderr",
     "output_type": "stream",
     "text": [
      "C:\\Users\\Wan Jing\\Documents\\libact-torch\\libact\\query_strategies\\contextual_bandits_active_learning.py:184: UserWarning: To copy construct from a tensor, it is recommended to use sourceTensor.clone().detach() or sourceTensor.clone().detach().requires_grad_(True), rather than torch.tensor(sourceTensor).\n",
      "  ex = torch.tensor(self.dataset.data[self.queried_hist_[-1]][0]).to(self.device)\n",
      "C:\\Users\\Wan Jing\\Documents\\libact-torch\\libact\\query_strategies\\uncertainty_sampling.py:149: UserWarning: To copy construct from a tensor, it is recommended to use sourceTensor.clone().detach() or sourceTensor.clone().detach().requires_grad_(True), rather than torch.tensor(sourceTensor).\n",
      "  ex = torch.tensor(self.dataset.data[self.queried_hist_[-1]][0]).to(self.device)\n",
      "C:\\Users\\Wan Jing\\Documents\\libact-torch\\libact\\query_strategies\\representative_sampling.py:113: UserWarning: To copy construct from a tensor, it is recommended to use sourceTensor.clone().detach() or sourceTensor.clone().detach().requires_grad_(True), rather than torch.tensor(sourceTensor).\n",
      "  ex = torch.tensor(self.dataset.data[self.queried_hist_[-1]][0]).to(self.device)\n",
      "C:\\Users\\Wan Jing\\Documents\\libact-torch\\libact\\query_strategies\\random_sampling.py:86: UserWarning: To copy construct from a tensor, it is recommended to use sourceTensor.clone().detach() or sourceTensor.clone().detach().requires_grad_(True), rather than torch.tensor(sourceTensor).\n",
      "  ex = torch.tensor(self.dataset.data[self.queried_hist_[-1]][0]).to(self.device)\n",
      "C:\\Users\\Wan Jing\\.conda\\envs\\deepCB\\lib\\site-packages\\sklearn\\metrics\\_classification.py:1221: UndefinedMetricWarning: Precision is ill-defined and being set to 0.0 in labels with no predicted samples. Use `zero_division` parameter to control this behavior.\n",
      "  _warn_prf(average, modifier, msg_start, len(result))\n"
     ]
    },
    {
     "name": "stdout",
     "output_type": "stream",
     "text": [
      "    strategy  labeled_acc  testing_acc    reward\n",
      "127        1     0.534459     0.407814  0.406582\n",
      "Mon Aug 31 16:08:13 2020 ContextualBanditsActiveLearning query round: 129\n",
      "Strategy Chosen: UncertaintySampling\n"
     ]
    },
    {
     "name": "stderr",
     "output_type": "stream",
     "text": [
      "C:\\Users\\Wan Jing\\Documents\\libact-torch\\libact\\query_strategies\\contextual_bandits_active_learning.py:184: UserWarning: To copy construct from a tensor, it is recommended to use sourceTensor.clone().detach() or sourceTensor.clone().detach().requires_grad_(True), rather than torch.tensor(sourceTensor).\n",
      "  ex = torch.tensor(self.dataset.data[self.queried_hist_[-1]][0]).to(self.device)\n",
      "C:\\Users\\Wan Jing\\Documents\\libact-torch\\libact\\query_strategies\\uncertainty_sampling.py:149: UserWarning: To copy construct from a tensor, it is recommended to use sourceTensor.clone().detach() or sourceTensor.clone().detach().requires_grad_(True), rather than torch.tensor(sourceTensor).\n",
      "  ex = torch.tensor(self.dataset.data[self.queried_hist_[-1]][0]).to(self.device)\n",
      "C:\\Users\\Wan Jing\\Documents\\libact-torch\\libact\\query_strategies\\representative_sampling.py:113: UserWarning: To copy construct from a tensor, it is recommended to use sourceTensor.clone().detach() or sourceTensor.clone().detach().requires_grad_(True), rather than torch.tensor(sourceTensor).\n",
      "  ex = torch.tensor(self.dataset.data[self.queried_hist_[-1]][0]).to(self.device)\n",
      "C:\\Users\\Wan Jing\\Documents\\libact-torch\\libact\\query_strategies\\random_sampling.py:86: UserWarning: To copy construct from a tensor, it is recommended to use sourceTensor.clone().detach() or sourceTensor.clone().detach().requires_grad_(True), rather than torch.tensor(sourceTensor).\n",
      "  ex = torch.tensor(self.dataset.data[self.queried_hist_[-1]][0]).to(self.device)\n"
     ]
    },
    {
     "name": "stdout",
     "output_type": "stream",
     "text": [
      "    strategy  labeled_acc  testing_acc    reward\n",
      "128        3     0.537584     0.409341  0.409903\n",
      "Mon Aug 31 16:08:27 2020 ContextualBanditsActiveLearning query round: 130\n",
      "Strategy Chosen: RandomSampling\n"
     ]
    },
    {
     "name": "stderr",
     "output_type": "stream",
     "text": [
      "C:\\Users\\Wan Jing\\Documents\\libact-torch\\libact\\query_strategies\\contextual_bandits_active_learning.py:184: UserWarning: To copy construct from a tensor, it is recommended to use sourceTensor.clone().detach() or sourceTensor.clone().detach().requires_grad_(True), rather than torch.tensor(sourceTensor).\n",
      "  ex = torch.tensor(self.dataset.data[self.queried_hist_[-1]][0]).to(self.device)\n",
      "C:\\Users\\Wan Jing\\Documents\\libact-torch\\libact\\query_strategies\\uncertainty_sampling.py:149: UserWarning: To copy construct from a tensor, it is recommended to use sourceTensor.clone().detach() or sourceTensor.clone().detach().requires_grad_(True), rather than torch.tensor(sourceTensor).\n",
      "  ex = torch.tensor(self.dataset.data[self.queried_hist_[-1]][0]).to(self.device)\n",
      "C:\\Users\\Wan Jing\\Documents\\libact-torch\\libact\\query_strategies\\representative_sampling.py:113: UserWarning: To copy construct from a tensor, it is recommended to use sourceTensor.clone().detach() or sourceTensor.clone().detach().requires_grad_(True), rather than torch.tensor(sourceTensor).\n",
      "  ex = torch.tensor(self.dataset.data[self.queried_hist_[-1]][0]).to(self.device)\n",
      "C:\\Users\\Wan Jing\\Documents\\libact-torch\\libact\\query_strategies\\random_sampling.py:86: UserWarning: To copy construct from a tensor, it is recommended to use sourceTensor.clone().detach() or sourceTensor.clone().detach().requires_grad_(True), rather than torch.tensor(sourceTensor).\n",
      "  ex = torch.tensor(self.dataset.data[self.queried_hist_[-1]][0]).to(self.device)\n"
     ]
    },
    {
     "name": "stdout",
     "output_type": "stream",
     "text": [
      "    strategy  labeled_acc  testing_acc    reward\n",
      "129        0     0.549733     0.403846  0.401849\n",
      "Mon Aug 31 16:08:40 2020 ContextualBanditsActiveLearning query round: 131\n",
      "Strategy Chosen: RandomSampling\n"
     ]
    },
    {
     "name": "stderr",
     "output_type": "stream",
     "text": [
      "C:\\Users\\Wan Jing\\Documents\\libact-torch\\libact\\query_strategies\\contextual_bandits_active_learning.py:184: UserWarning: To copy construct from a tensor, it is recommended to use sourceTensor.clone().detach() or sourceTensor.clone().detach().requires_grad_(True), rather than torch.tensor(sourceTensor).\n",
      "  ex = torch.tensor(self.dataset.data[self.queried_hist_[-1]][0]).to(self.device)\n",
      "C:\\Users\\Wan Jing\\Documents\\libact-torch\\libact\\query_strategies\\uncertainty_sampling.py:149: UserWarning: To copy construct from a tensor, it is recommended to use sourceTensor.clone().detach() or sourceTensor.clone().detach().requires_grad_(True), rather than torch.tensor(sourceTensor).\n",
      "  ex = torch.tensor(self.dataset.data[self.queried_hist_[-1]][0]).to(self.device)\n",
      "C:\\Users\\Wan Jing\\Documents\\libact-torch\\libact\\query_strategies\\representative_sampling.py:113: UserWarning: To copy construct from a tensor, it is recommended to use sourceTensor.clone().detach() or sourceTensor.clone().detach().requires_grad_(True), rather than torch.tensor(sourceTensor).\n",
      "  ex = torch.tensor(self.dataset.data[self.queried_hist_[-1]][0]).to(self.device)\n",
      "C:\\Users\\Wan Jing\\Documents\\libact-torch\\libact\\query_strategies\\random_sampling.py:86: UserWarning: To copy construct from a tensor, it is recommended to use sourceTensor.clone().detach() or sourceTensor.clone().detach().requires_grad_(True), rather than torch.tensor(sourceTensor).\n",
      "  ex = torch.tensor(self.dataset.data[self.queried_hist_[-1]][0]).to(self.device)\n"
     ]
    },
    {
     "name": "stdout",
     "output_type": "stream",
     "text": [
      "    strategy  labeled_acc  testing_acc    reward\n",
      "130        0     0.551523     0.411477  0.414303\n",
      "Mon Aug 31 16:08:53 2020 ContextualBanditsActiveLearning query round: 132\n",
      "Strategy Chosen: RandomSampling\n"
     ]
    },
    {
     "name": "stderr",
     "output_type": "stream",
     "text": [
      "C:\\Users\\Wan Jing\\Documents\\libact-torch\\libact\\query_strategies\\contextual_bandits_active_learning.py:184: UserWarning: To copy construct from a tensor, it is recommended to use sourceTensor.clone().detach() or sourceTensor.clone().detach().requires_grad_(True), rather than torch.tensor(sourceTensor).\n",
      "  ex = torch.tensor(self.dataset.data[self.queried_hist_[-1]][0]).to(self.device)\n",
      "C:\\Users\\Wan Jing\\Documents\\libact-torch\\libact\\query_strategies\\uncertainty_sampling.py:149: UserWarning: To copy construct from a tensor, it is recommended to use sourceTensor.clone().detach() or sourceTensor.clone().detach().requires_grad_(True), rather than torch.tensor(sourceTensor).\n",
      "  ex = torch.tensor(self.dataset.data[self.queried_hist_[-1]][0]).to(self.device)\n",
      "C:\\Users\\Wan Jing\\Documents\\libact-torch\\libact\\query_strategies\\representative_sampling.py:113: UserWarning: To copy construct from a tensor, it is recommended to use sourceTensor.clone().detach() or sourceTensor.clone().detach().requires_grad_(True), rather than torch.tensor(sourceTensor).\n",
      "  ex = torch.tensor(self.dataset.data[self.queried_hist_[-1]][0]).to(self.device)\n",
      "C:\\Users\\Wan Jing\\Documents\\libact-torch\\libact\\query_strategies\\random_sampling.py:86: UserWarning: To copy construct from a tensor, it is recommended to use sourceTensor.clone().detach() or sourceTensor.clone().detach().requires_grad_(True), rather than torch.tensor(sourceTensor).\n",
      "  ex = torch.tensor(self.dataset.data[self.queried_hist_[-1]][0]).to(self.device)\n",
      "C:\\Users\\Wan Jing\\.conda\\envs\\deepCB\\lib\\site-packages\\sklearn\\metrics\\_classification.py:1221: UndefinedMetricWarning: Precision is ill-defined and being set to 0.0 in labels with no predicted samples. Use `zero_division` parameter to control this behavior.\n",
      "  _warn_prf(average, modifier, msg_start, len(result))\n"
     ]
    },
    {
     "name": "stdout",
     "output_type": "stream",
     "text": [
      "    strategy  labeled_acc  testing_acc    reward\n",
      "131        0     0.557368     0.410256  0.409806\n",
      "Mon Aug 31 16:09:06 2020 ContextualBanditsActiveLearning query round: 133\n",
      "Strategy Chosen: UncertaintySampling\n"
     ]
    },
    {
     "name": "stderr",
     "output_type": "stream",
     "text": [
      "C:\\Users\\Wan Jing\\Documents\\libact-torch\\libact\\query_strategies\\contextual_bandits_active_learning.py:184: UserWarning: To copy construct from a tensor, it is recommended to use sourceTensor.clone().detach() or sourceTensor.clone().detach().requires_grad_(True), rather than torch.tensor(sourceTensor).\n",
      "  ex = torch.tensor(self.dataset.data[self.queried_hist_[-1]][0]).to(self.device)\n",
      "C:\\Users\\Wan Jing\\Documents\\libact-torch\\libact\\query_strategies\\uncertainty_sampling.py:149: UserWarning: To copy construct from a tensor, it is recommended to use sourceTensor.clone().detach() or sourceTensor.clone().detach().requires_grad_(True), rather than torch.tensor(sourceTensor).\n",
      "  ex = torch.tensor(self.dataset.data[self.queried_hist_[-1]][0]).to(self.device)\n",
      "C:\\Users\\Wan Jing\\Documents\\libact-torch\\libact\\query_strategies\\representative_sampling.py:113: UserWarning: To copy construct from a tensor, it is recommended to use sourceTensor.clone().detach() or sourceTensor.clone().detach().requires_grad_(True), rather than torch.tensor(sourceTensor).\n",
      "  ex = torch.tensor(self.dataset.data[self.queried_hist_[-1]][0]).to(self.device)\n",
      "C:\\Users\\Wan Jing\\Documents\\libact-torch\\libact\\query_strategies\\random_sampling.py:86: UserWarning: To copy construct from a tensor, it is recommended to use sourceTensor.clone().detach() or sourceTensor.clone().detach().requires_grad_(True), rather than torch.tensor(sourceTensor).\n",
      "  ex = torch.tensor(self.dataset.data[self.queried_hist_[-1]][0]).to(self.device)\n"
     ]
    },
    {
     "name": "stdout",
     "output_type": "stream",
     "text": [
      "    strategy  labeled_acc  testing_acc    reward\n",
      "132        3     0.552288     0.405983  0.404421\n",
      "Mon Aug 31 16:09:21 2020 ContextualBanditsActiveLearning query round: 134\n",
      "Strategy Chosen: RandomSampling\n"
     ]
    },
    {
     "name": "stderr",
     "output_type": "stream",
     "text": [
      "C:\\Users\\Wan Jing\\Documents\\libact-torch\\libact\\query_strategies\\contextual_bandits_active_learning.py:184: UserWarning: To copy construct from a tensor, it is recommended to use sourceTensor.clone().detach() or sourceTensor.clone().detach().requires_grad_(True), rather than torch.tensor(sourceTensor).\n",
      "  ex = torch.tensor(self.dataset.data[self.queried_hist_[-1]][0]).to(self.device)\n",
      "C:\\Users\\Wan Jing\\Documents\\libact-torch\\libact\\query_strategies\\uncertainty_sampling.py:149: UserWarning: To copy construct from a tensor, it is recommended to use sourceTensor.clone().detach() or sourceTensor.clone().detach().requires_grad_(True), rather than torch.tensor(sourceTensor).\n",
      "  ex = torch.tensor(self.dataset.data[self.queried_hist_[-1]][0]).to(self.device)\n",
      "C:\\Users\\Wan Jing\\Documents\\libact-torch\\libact\\query_strategies\\representative_sampling.py:113: UserWarning: To copy construct from a tensor, it is recommended to use sourceTensor.clone().detach() or sourceTensor.clone().detach().requires_grad_(True), rather than torch.tensor(sourceTensor).\n",
      "  ex = torch.tensor(self.dataset.data[self.queried_hist_[-1]][0]).to(self.device)\n",
      "C:\\Users\\Wan Jing\\Documents\\libact-torch\\libact\\query_strategies\\random_sampling.py:86: UserWarning: To copy construct from a tensor, it is recommended to use sourceTensor.clone().detach() or sourceTensor.clone().detach().requires_grad_(True), rather than torch.tensor(sourceTensor).\n",
      "  ex = torch.tensor(self.dataset.data[self.queried_hist_[-1]][0]).to(self.device)\n"
     ]
    },
    {
     "name": "stdout",
     "output_type": "stream",
     "text": [
      "    strategy  labeled_acc  testing_acc    reward\n",
      "133        0     0.556234     0.407509  0.408069\n",
      "Mon Aug 31 16:09:34 2020 ContextualBanditsActiveLearning query round: 135\n",
      "Strategy Chosen: UncertaintySampling\n"
     ]
    },
    {
     "name": "stderr",
     "output_type": "stream",
     "text": [
      "C:\\Users\\Wan Jing\\Documents\\libact-torch\\libact\\query_strategies\\contextual_bandits_active_learning.py:184: UserWarning: To copy construct from a tensor, it is recommended to use sourceTensor.clone().detach() or sourceTensor.clone().detach().requires_grad_(True), rather than torch.tensor(sourceTensor).\n",
      "  ex = torch.tensor(self.dataset.data[self.queried_hist_[-1]][0]).to(self.device)\n",
      "C:\\Users\\Wan Jing\\Documents\\libact-torch\\libact\\query_strategies\\uncertainty_sampling.py:149: UserWarning: To copy construct from a tensor, it is recommended to use sourceTensor.clone().detach() or sourceTensor.clone().detach().requires_grad_(True), rather than torch.tensor(sourceTensor).\n",
      "  ex = torch.tensor(self.dataset.data[self.queried_hist_[-1]][0]).to(self.device)\n",
      "C:\\Users\\Wan Jing\\Documents\\libact-torch\\libact\\query_strategies\\representative_sampling.py:113: UserWarning: To copy construct from a tensor, it is recommended to use sourceTensor.clone().detach() or sourceTensor.clone().detach().requires_grad_(True), rather than torch.tensor(sourceTensor).\n",
      "  ex = torch.tensor(self.dataset.data[self.queried_hist_[-1]][0]).to(self.device)\n",
      "C:\\Users\\Wan Jing\\Documents\\libact-torch\\libact\\query_strategies\\random_sampling.py:86: UserWarning: To copy construct from a tensor, it is recommended to use sourceTensor.clone().detach() or sourceTensor.clone().detach().requires_grad_(True), rather than torch.tensor(sourceTensor).\n",
      "  ex = torch.tensor(self.dataset.data[self.queried_hist_[-1]][0]).to(self.device)\n"
     ]
    },
    {
     "name": "stdout",
     "output_type": "stream",
     "text": [
      "    strategy  labeled_acc  testing_acc    reward\n",
      "134        2     0.561548     0.411783  0.413366\n",
      "Mon Aug 31 16:09:49 2020 ContextualBanditsActiveLearning query round: 136\n",
      "Strategy Chosen: UncertaintySampling\n"
     ]
    },
    {
     "name": "stderr",
     "output_type": "stream",
     "text": [
      "C:\\Users\\Wan Jing\\Documents\\libact-torch\\libact\\query_strategies\\contextual_bandits_active_learning.py:184: UserWarning: To copy construct from a tensor, it is recommended to use sourceTensor.clone().detach() or sourceTensor.clone().detach().requires_grad_(True), rather than torch.tensor(sourceTensor).\n",
      "  ex = torch.tensor(self.dataset.data[self.queried_hist_[-1]][0]).to(self.device)\n",
      "C:\\Users\\Wan Jing\\Documents\\libact-torch\\libact\\query_strategies\\uncertainty_sampling.py:149: UserWarning: To copy construct from a tensor, it is recommended to use sourceTensor.clone().detach() or sourceTensor.clone().detach().requires_grad_(True), rather than torch.tensor(sourceTensor).\n",
      "  ex = torch.tensor(self.dataset.data[self.queried_hist_[-1]][0]).to(self.device)\n",
      "C:\\Users\\Wan Jing\\Documents\\libact-torch\\libact\\query_strategies\\representative_sampling.py:113: UserWarning: To copy construct from a tensor, it is recommended to use sourceTensor.clone().detach() or sourceTensor.clone().detach().requires_grad_(True), rather than torch.tensor(sourceTensor).\n",
      "  ex = torch.tensor(self.dataset.data[self.queried_hist_[-1]][0]).to(self.device)\n",
      "C:\\Users\\Wan Jing\\Documents\\libact-torch\\libact\\query_strategies\\random_sampling.py:86: UserWarning: To copy construct from a tensor, it is recommended to use sourceTensor.clone().detach() or sourceTensor.clone().detach().requires_grad_(True), rather than torch.tensor(sourceTensor).\n",
      "  ex = torch.tensor(self.dataset.data[self.queried_hist_[-1]][0]).to(self.device)\n",
      "C:\\Users\\Wan Jing\\.conda\\envs\\deepCB\\lib\\site-packages\\sklearn\\metrics\\_classification.py:1221: UndefinedMetricWarning: Precision is ill-defined and being set to 0.0 in labels with no predicted samples. Use `zero_division` parameter to control this behavior.\n",
      "  _warn_prf(average, modifier, msg_start, len(result))\n"
     ]
    },
    {
     "name": "stdout",
     "output_type": "stream",
     "text": [
      "    strategy  labeled_acc  testing_acc    reward\n",
      "135        3     0.568718     0.410256  0.409693\n",
      "Mon Aug 31 16:10:04 2020 ContextualBanditsActiveLearning query round: 137\n",
      "Strategy Chosen: UncertaintySampling\n"
     ]
    },
    {
     "name": "stderr",
     "output_type": "stream",
     "text": [
      "C:\\Users\\Wan Jing\\Documents\\libact-torch\\libact\\query_strategies\\contextual_bandits_active_learning.py:184: UserWarning: To copy construct from a tensor, it is recommended to use sourceTensor.clone().detach() or sourceTensor.clone().detach().requires_grad_(True), rather than torch.tensor(sourceTensor).\n",
      "  ex = torch.tensor(self.dataset.data[self.queried_hist_[-1]][0]).to(self.device)\n",
      "C:\\Users\\Wan Jing\\Documents\\libact-torch\\libact\\query_strategies\\uncertainty_sampling.py:149: UserWarning: To copy construct from a tensor, it is recommended to use sourceTensor.clone().detach() or sourceTensor.clone().detach().requires_grad_(True), rather than torch.tensor(sourceTensor).\n",
      "  ex = torch.tensor(self.dataset.data[self.queried_hist_[-1]][0]).to(self.device)\n",
      "C:\\Users\\Wan Jing\\Documents\\libact-torch\\libact\\query_strategies\\representative_sampling.py:113: UserWarning: To copy construct from a tensor, it is recommended to use sourceTensor.clone().detach() or sourceTensor.clone().detach().requires_grad_(True), rather than torch.tensor(sourceTensor).\n",
      "  ex = torch.tensor(self.dataset.data[self.queried_hist_[-1]][0]).to(self.device)\n",
      "C:\\Users\\Wan Jing\\Documents\\libact-torch\\libact\\query_strategies\\random_sampling.py:86: UserWarning: To copy construct from a tensor, it is recommended to use sourceTensor.clone().detach() or sourceTensor.clone().detach().requires_grad_(True), rather than torch.tensor(sourceTensor).\n",
      "  ex = torch.tensor(self.dataset.data[self.queried_hist_[-1]][0]).to(self.device)\n"
     ]
    },
    {
     "name": "stdout",
     "output_type": "stream",
     "text": [
      "    strategy  labeled_acc  testing_acc    reward\n",
      "136        2     0.564968     0.411783  0.412348\n",
      "Mon Aug 31 16:10:19 2020 ContextualBanditsActiveLearning query round: 138\n",
      "Strategy Chosen: UncertaintySampling\n"
     ]
    },
    {
     "name": "stderr",
     "output_type": "stream",
     "text": [
      "C:\\Users\\Wan Jing\\Documents\\libact-torch\\libact\\query_strategies\\contextual_bandits_active_learning.py:184: UserWarning: To copy construct from a tensor, it is recommended to use sourceTensor.clone().detach() or sourceTensor.clone().detach().requires_grad_(True), rather than torch.tensor(sourceTensor).\n",
      "  ex = torch.tensor(self.dataset.data[self.queried_hist_[-1]][0]).to(self.device)\n",
      "C:\\Users\\Wan Jing\\Documents\\libact-torch\\libact\\query_strategies\\uncertainty_sampling.py:149: UserWarning: To copy construct from a tensor, it is recommended to use sourceTensor.clone().detach() or sourceTensor.clone().detach().requires_grad_(True), rather than torch.tensor(sourceTensor).\n",
      "  ex = torch.tensor(self.dataset.data[self.queried_hist_[-1]][0]).to(self.device)\n",
      "C:\\Users\\Wan Jing\\Documents\\libact-torch\\libact\\query_strategies\\representative_sampling.py:113: UserWarning: To copy construct from a tensor, it is recommended to use sourceTensor.clone().detach() or sourceTensor.clone().detach().requires_grad_(True), rather than torch.tensor(sourceTensor).\n",
      "  ex = torch.tensor(self.dataset.data[self.queried_hist_[-1]][0]).to(self.device)\n",
      "C:\\Users\\Wan Jing\\Documents\\libact-torch\\libact\\query_strategies\\random_sampling.py:86: UserWarning: To copy construct from a tensor, it is recommended to use sourceTensor.clone().detach() or sourceTensor.clone().detach().requires_grad_(True), rather than torch.tensor(sourceTensor).\n",
      "  ex = torch.tensor(self.dataset.data[self.queried_hist_[-1]][0]).to(self.device)\n"
     ]
    },
    {
     "name": "stdout",
     "output_type": "stream",
     "text": [
      "    strategy  labeled_acc  testing_acc    reward\n",
      "137        3     0.554557     0.410256  0.409693\n",
      "Mon Aug 31 16:10:35 2020 ContextualBanditsActiveLearning query round: 139\n",
      "Strategy Chosen: UncertaintySampling\n"
     ]
    },
    {
     "name": "stderr",
     "output_type": "stream",
     "text": [
      "C:\\Users\\Wan Jing\\Documents\\libact-torch\\libact\\query_strategies\\contextual_bandits_active_learning.py:184: UserWarning: To copy construct from a tensor, it is recommended to use sourceTensor.clone().detach() or sourceTensor.clone().detach().requires_grad_(True), rather than torch.tensor(sourceTensor).\n",
      "  ex = torch.tensor(self.dataset.data[self.queried_hist_[-1]][0]).to(self.device)\n",
      "C:\\Users\\Wan Jing\\Documents\\libact-torch\\libact\\query_strategies\\uncertainty_sampling.py:149: UserWarning: To copy construct from a tensor, it is recommended to use sourceTensor.clone().detach() or sourceTensor.clone().detach().requires_grad_(True), rather than torch.tensor(sourceTensor).\n",
      "  ex = torch.tensor(self.dataset.data[self.queried_hist_[-1]][0]).to(self.device)\n",
      "C:\\Users\\Wan Jing\\Documents\\libact-torch\\libact\\query_strategies\\representative_sampling.py:113: UserWarning: To copy construct from a tensor, it is recommended to use sourceTensor.clone().detach() or sourceTensor.clone().detach().requires_grad_(True), rather than torch.tensor(sourceTensor).\n",
      "  ex = torch.tensor(self.dataset.data[self.queried_hist_[-1]][0]).to(self.device)\n",
      "C:\\Users\\Wan Jing\\Documents\\libact-torch\\libact\\query_strategies\\random_sampling.py:86: UserWarning: To copy construct from a tensor, it is recommended to use sourceTensor.clone().detach() or sourceTensor.clone().detach().requires_grad_(True), rather than torch.tensor(sourceTensor).\n",
      "  ex = torch.tensor(self.dataset.data[self.queried_hist_[-1]][0]).to(self.device)\n",
      "C:\\Users\\Wan Jing\\.conda\\envs\\deepCB\\lib\\site-packages\\sklearn\\metrics\\_classification.py:1221: UndefinedMetricWarning: Precision is ill-defined and being set to 0.0 in labels with no predicted samples. Use `zero_division` parameter to control this behavior.\n",
      "  _warn_prf(average, modifier, msg_start, len(result))\n"
     ]
    },
    {
     "name": "stdout",
     "output_type": "stream",
     "text": [
      "    strategy  labeled_acc  testing_acc    reward\n",
      "138        1     0.580881     0.414225  0.415704\n",
      "Mon Aug 31 16:10:50 2020 ContextualBanditsActiveLearning query round: 140\n",
      "Strategy Chosen: RandomSampling\n"
     ]
    },
    {
     "name": "stderr",
     "output_type": "stream",
     "text": [
      "C:\\Users\\Wan Jing\\Documents\\libact-torch\\libact\\query_strategies\\contextual_bandits_active_learning.py:184: UserWarning: To copy construct from a tensor, it is recommended to use sourceTensor.clone().detach() or sourceTensor.clone().detach().requires_grad_(True), rather than torch.tensor(sourceTensor).\n",
      "  ex = torch.tensor(self.dataset.data[self.queried_hist_[-1]][0]).to(self.device)\n",
      "C:\\Users\\Wan Jing\\Documents\\libact-torch\\libact\\query_strategies\\uncertainty_sampling.py:149: UserWarning: To copy construct from a tensor, it is recommended to use sourceTensor.clone().detach() or sourceTensor.clone().detach().requires_grad_(True), rather than torch.tensor(sourceTensor).\n",
      "  ex = torch.tensor(self.dataset.data[self.queried_hist_[-1]][0]).to(self.device)\n",
      "C:\\Users\\Wan Jing\\Documents\\libact-torch\\libact\\query_strategies\\representative_sampling.py:113: UserWarning: To copy construct from a tensor, it is recommended to use sourceTensor.clone().detach() or sourceTensor.clone().detach().requires_grad_(True), rather than torch.tensor(sourceTensor).\n",
      "  ex = torch.tensor(self.dataset.data[self.queried_hist_[-1]][0]).to(self.device)\n",
      "C:\\Users\\Wan Jing\\Documents\\libact-torch\\libact\\query_strategies\\random_sampling.py:86: UserWarning: To copy construct from a tensor, it is recommended to use sourceTensor.clone().detach() or sourceTensor.clone().detach().requires_grad_(True), rather than torch.tensor(sourceTensor).\n",
      "  ex = torch.tensor(self.dataset.data[self.queried_hist_[-1]][0]).to(self.device)\n",
      "C:\\Users\\Wan Jing\\.conda\\envs\\deepCB\\lib\\site-packages\\sklearn\\metrics\\_classification.py:1221: UndefinedMetricWarning: Precision is ill-defined and being set to 0.0 in labels with no predicted samples. Use `zero_division` parameter to control this behavior.\n",
      "  _warn_prf(average, modifier, msg_start, len(result))\n"
     ]
    },
    {
     "name": "stdout",
     "output_type": "stream",
     "text": [
      "    strategy  labeled_acc  testing_acc   reward\n",
      "139        0     0.573125     0.413004  0.41255\n",
      "Mon Aug 31 16:11:03 2020 ContextualBanditsActiveLearning query round: 141\n",
      "Strategy Chosen: UncertaintySampling\n"
     ]
    },
    {
     "name": "stderr",
     "output_type": "stream",
     "text": [
      "C:\\Users\\Wan Jing\\Documents\\libact-torch\\libact\\query_strategies\\contextual_bandits_active_learning.py:184: UserWarning: To copy construct from a tensor, it is recommended to use sourceTensor.clone().detach() or sourceTensor.clone().detach().requires_grad_(True), rather than torch.tensor(sourceTensor).\n",
      "  ex = torch.tensor(self.dataset.data[self.queried_hist_[-1]][0]).to(self.device)\n",
      "C:\\Users\\Wan Jing\\Documents\\libact-torch\\libact\\query_strategies\\uncertainty_sampling.py:149: UserWarning: To copy construct from a tensor, it is recommended to use sourceTensor.clone().detach() or sourceTensor.clone().detach().requires_grad_(True), rather than torch.tensor(sourceTensor).\n",
      "  ex = torch.tensor(self.dataset.data[self.queried_hist_[-1]][0]).to(self.device)\n",
      "C:\\Users\\Wan Jing\\Documents\\libact-torch\\libact\\query_strategies\\representative_sampling.py:113: UserWarning: To copy construct from a tensor, it is recommended to use sourceTensor.clone().detach() or sourceTensor.clone().detach().requires_grad_(True), rather than torch.tensor(sourceTensor).\n",
      "  ex = torch.tensor(self.dataset.data[self.queried_hist_[-1]][0]).to(self.device)\n",
      "C:\\Users\\Wan Jing\\Documents\\libact-torch\\libact\\query_strategies\\random_sampling.py:86: UserWarning: To copy construct from a tensor, it is recommended to use sourceTensor.clone().detach() or sourceTensor.clone().detach().requires_grad_(True), rather than torch.tensor(sourceTensor).\n",
      "  ex = torch.tensor(self.dataset.data[self.queried_hist_[-1]][0]).to(self.device)\n"
     ]
    },
    {
     "name": "stdout",
     "output_type": "stream",
     "text": [
      "    strategy  labeled_acc  testing_acc    reward\n",
      "140        1     0.586335     0.411477  0.410912\n",
      "Mon Aug 31 16:11:19 2020 ContextualBanditsActiveLearning query round: 142\n",
      "Strategy Chosen: UncertaintySampling\n"
     ]
    },
    {
     "name": "stderr",
     "output_type": "stream",
     "text": [
      "C:\\Users\\Wan Jing\\Documents\\libact-torch\\libact\\query_strategies\\contextual_bandits_active_learning.py:184: UserWarning: To copy construct from a tensor, it is recommended to use sourceTensor.clone().detach() or sourceTensor.clone().detach().requires_grad_(True), rather than torch.tensor(sourceTensor).\n",
      "  ex = torch.tensor(self.dataset.data[self.queried_hist_[-1]][0]).to(self.device)\n",
      "C:\\Users\\Wan Jing\\Documents\\libact-torch\\libact\\query_strategies\\uncertainty_sampling.py:149: UserWarning: To copy construct from a tensor, it is recommended to use sourceTensor.clone().detach() or sourceTensor.clone().detach().requires_grad_(True), rather than torch.tensor(sourceTensor).\n",
      "  ex = torch.tensor(self.dataset.data[self.queried_hist_[-1]][0]).to(self.device)\n",
      "C:\\Users\\Wan Jing\\Documents\\libact-torch\\libact\\query_strategies\\representative_sampling.py:113: UserWarning: To copy construct from a tensor, it is recommended to use sourceTensor.clone().detach() or sourceTensor.clone().detach().requires_grad_(True), rather than torch.tensor(sourceTensor).\n",
      "  ex = torch.tensor(self.dataset.data[self.queried_hist_[-1]][0]).to(self.device)\n",
      "C:\\Users\\Wan Jing\\Documents\\libact-torch\\libact\\query_strategies\\random_sampling.py:86: UserWarning: To copy construct from a tensor, it is recommended to use sourceTensor.clone().detach() or sourceTensor.clone().detach().requires_grad_(True), rather than torch.tensor(sourceTensor).\n",
      "  ex = torch.tensor(self.dataset.data[self.queried_hist_[-1]][0]).to(self.device)\n"
     ]
    },
    {
     "name": "stdout",
     "output_type": "stream",
     "text": [
      "    strategy  labeled_acc  testing_acc    reward\n",
      "141        2     0.591235     0.413919  0.414829\n",
      "Mon Aug 31 16:11:35 2020 ContextualBanditsActiveLearning query round: 143\n",
      "Strategy Chosen: UncertaintySampling\n"
     ]
    },
    {
     "name": "stderr",
     "output_type": "stream",
     "text": [
      "C:\\Users\\Wan Jing\\Documents\\libact-torch\\libact\\query_strategies\\contextual_bandits_active_learning.py:184: UserWarning: To copy construct from a tensor, it is recommended to use sourceTensor.clone().detach() or sourceTensor.clone().detach().requires_grad_(True), rather than torch.tensor(sourceTensor).\n",
      "  ex = torch.tensor(self.dataset.data[self.queried_hist_[-1]][0]).to(self.device)\n",
      "C:\\Users\\Wan Jing\\Documents\\libact-torch\\libact\\query_strategies\\uncertainty_sampling.py:149: UserWarning: To copy construct from a tensor, it is recommended to use sourceTensor.clone().detach() or sourceTensor.clone().detach().requires_grad_(True), rather than torch.tensor(sourceTensor).\n",
      "  ex = torch.tensor(self.dataset.data[self.queried_hist_[-1]][0]).to(self.device)\n",
      "C:\\Users\\Wan Jing\\Documents\\libact-torch\\libact\\query_strategies\\representative_sampling.py:113: UserWarning: To copy construct from a tensor, it is recommended to use sourceTensor.clone().detach() or sourceTensor.clone().detach().requires_grad_(True), rather than torch.tensor(sourceTensor).\n",
      "  ex = torch.tensor(self.dataset.data[self.queried_hist_[-1]][0]).to(self.device)\n",
      "C:\\Users\\Wan Jing\\Documents\\libact-torch\\libact\\query_strategies\\random_sampling.py:86: UserWarning: To copy construct from a tensor, it is recommended to use sourceTensor.clone().detach() or sourceTensor.clone().detach().requires_grad_(True), rather than torch.tensor(sourceTensor).\n",
      "  ex = torch.tensor(self.dataset.data[self.queried_hist_[-1]][0]).to(self.device)\n",
      "C:\\Users\\Wan Jing\\.conda\\envs\\deepCB\\lib\\site-packages\\sklearn\\metrics\\_classification.py:1221: UndefinedMetricWarning: Precision is ill-defined and being set to 0.0 in labels with no predicted samples. Use `zero_division` parameter to control this behavior.\n",
      "  _warn_prf(average, modifier, msg_start, len(result))\n"
     ]
    },
    {
     "name": "stdout",
     "output_type": "stream",
     "text": [
      "    strategy  labeled_acc  testing_acc    reward\n",
      "142        1     0.589939     0.411172  0.410156\n",
      "Mon Aug 31 16:11:51 2020 ContextualBanditsActiveLearning query round: 144\n",
      "Strategy Chosen: UncertaintySampling\n"
     ]
    },
    {
     "name": "stderr",
     "output_type": "stream",
     "text": [
      "C:\\Users\\Wan Jing\\Documents\\libact-torch\\libact\\query_strategies\\contextual_bandits_active_learning.py:184: UserWarning: To copy construct from a tensor, it is recommended to use sourceTensor.clone().detach() or sourceTensor.clone().detach().requires_grad_(True), rather than torch.tensor(sourceTensor).\n",
      "  ex = torch.tensor(self.dataset.data[self.queried_hist_[-1]][0]).to(self.device)\n",
      "C:\\Users\\Wan Jing\\Documents\\libact-torch\\libact\\query_strategies\\uncertainty_sampling.py:149: UserWarning: To copy construct from a tensor, it is recommended to use sourceTensor.clone().detach() or sourceTensor.clone().detach().requires_grad_(True), rather than torch.tensor(sourceTensor).\n",
      "  ex = torch.tensor(self.dataset.data[self.queried_hist_[-1]][0]).to(self.device)\n",
      "C:\\Users\\Wan Jing\\Documents\\libact-torch\\libact\\query_strategies\\representative_sampling.py:113: UserWarning: To copy construct from a tensor, it is recommended to use sourceTensor.clone().detach() or sourceTensor.clone().detach().requires_grad_(True), rather than torch.tensor(sourceTensor).\n",
      "  ex = torch.tensor(self.dataset.data[self.queried_hist_[-1]][0]).to(self.device)\n",
      "C:\\Users\\Wan Jing\\Documents\\libact-torch\\libact\\query_strategies\\random_sampling.py:86: UserWarning: To copy construct from a tensor, it is recommended to use sourceTensor.clone().detach() or sourceTensor.clone().detach().requires_grad_(True), rather than torch.tensor(sourceTensor).\n",
      "  ex = torch.tensor(self.dataset.data[self.queried_hist_[-1]][0]).to(self.device)\n"
     ]
    },
    {
     "name": "stdout",
     "output_type": "stream",
     "text": [
      "    strategy  labeled_acc  testing_acc    reward\n",
      "143        1     0.586829      0.41514  0.416623\n",
      "Mon Aug 31 16:12:06 2020 ContextualBanditsActiveLearning query round: 145\n",
      "Strategy Chosen: RepresentativeSampling\n"
     ]
    },
    {
     "name": "stderr",
     "output_type": "stream",
     "text": [
      "C:\\Users\\Wan Jing\\Documents\\libact-torch\\libact\\query_strategies\\representative_sampling.py:147: UserWarning: To copy construct from a tensor, it is recommended to use sourceTensor.clone().detach() or sourceTensor.clone().detach().requires_grad_(True), rather than torch.tensor(sourceTensor).\n",
      "  x = torch.tensor(x).to(self.device)\n",
      "C:\\Users\\Wan Jing\\Documents\\libact-torch\\libact\\query_strategies\\contextual_bandits_active_learning.py:184: UserWarning: To copy construct from a tensor, it is recommended to use sourceTensor.clone().detach() or sourceTensor.clone().detach().requires_grad_(True), rather than torch.tensor(sourceTensor).\n",
      "  ex = torch.tensor(self.dataset.data[self.queried_hist_[-1]][0]).to(self.device)\n",
      "C:\\Users\\Wan Jing\\Documents\\libact-torch\\libact\\query_strategies\\uncertainty_sampling.py:149: UserWarning: To copy construct from a tensor, it is recommended to use sourceTensor.clone().detach() or sourceTensor.clone().detach().requires_grad_(True), rather than torch.tensor(sourceTensor).\n",
      "  ex = torch.tensor(self.dataset.data[self.queried_hist_[-1]][0]).to(self.device)\n",
      "C:\\Users\\Wan Jing\\Documents\\libact-torch\\libact\\query_strategies\\representative_sampling.py:113: UserWarning: To copy construct from a tensor, it is recommended to use sourceTensor.clone().detach() or sourceTensor.clone().detach().requires_grad_(True), rather than torch.tensor(sourceTensor).\n",
      "  ex = torch.tensor(self.dataset.data[self.queried_hist_[-1]][0]).to(self.device)\n",
      "C:\\Users\\Wan Jing\\Documents\\libact-torch\\libact\\query_strategies\\random_sampling.py:86: UserWarning: To copy construct from a tensor, it is recommended to use sourceTensor.clone().detach() or sourceTensor.clone().detach().requires_grad_(True), rather than torch.tensor(sourceTensor).\n",
      "  ex = torch.tensor(self.dataset.data[self.queried_hist_[-1]][0]).to(self.device)\n"
     ]
    },
    {
     "name": "stdout",
     "output_type": "stream",
     "text": [
      "    strategy  labeled_acc  testing_acc    reward\n",
      "144        4     0.591273     0.411783  0.410538\n",
      "Mon Aug 31 16:12:23 2020 ContextualBanditsActiveLearning query round: 146\n",
      "Strategy Chosen: RepresentativeSampling\n"
     ]
    },
    {
     "name": "stderr",
     "output_type": "stream",
     "text": [
      "C:\\Users\\Wan Jing\\Documents\\libact-torch\\libact\\query_strategies\\representative_sampling.py:147: UserWarning: To copy construct from a tensor, it is recommended to use sourceTensor.clone().detach() or sourceTensor.clone().detach().requires_grad_(True), rather than torch.tensor(sourceTensor).\n",
      "  x = torch.tensor(x).to(self.device)\n",
      "C:\\Users\\Wan Jing\\Documents\\libact-torch\\libact\\query_strategies\\contextual_bandits_active_learning.py:184: UserWarning: To copy construct from a tensor, it is recommended to use sourceTensor.clone().detach() or sourceTensor.clone().detach().requires_grad_(True), rather than torch.tensor(sourceTensor).\n",
      "  ex = torch.tensor(self.dataset.data[self.queried_hist_[-1]][0]).to(self.device)\n",
      "C:\\Users\\Wan Jing\\Documents\\libact-torch\\libact\\query_strategies\\uncertainty_sampling.py:149: UserWarning: To copy construct from a tensor, it is recommended to use sourceTensor.clone().detach() or sourceTensor.clone().detach().requires_grad_(True), rather than torch.tensor(sourceTensor).\n",
      "  ex = torch.tensor(self.dataset.data[self.queried_hist_[-1]][0]).to(self.device)\n",
      "C:\\Users\\Wan Jing\\Documents\\libact-torch\\libact\\query_strategies\\representative_sampling.py:113: UserWarning: To copy construct from a tensor, it is recommended to use sourceTensor.clone().detach() or sourceTensor.clone().detach().requires_grad_(True), rather than torch.tensor(sourceTensor).\n",
      "  ex = torch.tensor(self.dataset.data[self.queried_hist_[-1]][0]).to(self.device)\n",
      "C:\\Users\\Wan Jing\\Documents\\libact-torch\\libact\\query_strategies\\random_sampling.py:86: UserWarning: To copy construct from a tensor, it is recommended to use sourceTensor.clone().detach() or sourceTensor.clone().detach().requires_grad_(True), rather than torch.tensor(sourceTensor).\n",
      "  ex = torch.tensor(self.dataset.data[self.queried_hist_[-1]][0]).to(self.device)\n"
     ]
    },
    {
     "name": "stdout",
     "output_type": "stream",
     "text": [
      "    strategy  labeled_acc  testing_acc    reward\n",
      "145        4     0.600602     0.412698  0.413039\n",
      "Mon Aug 31 16:12:40 2020 ContextualBanditsActiveLearning query round: 147\n",
      "Strategy Chosen: UncertaintySampling\n"
     ]
    },
    {
     "name": "stderr",
     "output_type": "stream",
     "text": [
      "C:\\Users\\Wan Jing\\Documents\\libact-torch\\libact\\query_strategies\\contextual_bandits_active_learning.py:184: UserWarning: To copy construct from a tensor, it is recommended to use sourceTensor.clone().detach() or sourceTensor.clone().detach().requires_grad_(True), rather than torch.tensor(sourceTensor).\n",
      "  ex = torch.tensor(self.dataset.data[self.queried_hist_[-1]][0]).to(self.device)\n",
      "C:\\Users\\Wan Jing\\Documents\\libact-torch\\libact\\query_strategies\\uncertainty_sampling.py:149: UserWarning: To copy construct from a tensor, it is recommended to use sourceTensor.clone().detach() or sourceTensor.clone().detach().requires_grad_(True), rather than torch.tensor(sourceTensor).\n",
      "  ex = torch.tensor(self.dataset.data[self.queried_hist_[-1]][0]).to(self.device)\n",
      "C:\\Users\\Wan Jing\\Documents\\libact-torch\\libact\\query_strategies\\representative_sampling.py:113: UserWarning: To copy construct from a tensor, it is recommended to use sourceTensor.clone().detach() or sourceTensor.clone().detach().requires_grad_(True), rather than torch.tensor(sourceTensor).\n",
      "  ex = torch.tensor(self.dataset.data[self.queried_hist_[-1]][0]).to(self.device)\n",
      "C:\\Users\\Wan Jing\\Documents\\libact-torch\\libact\\query_strategies\\random_sampling.py:86: UserWarning: To copy construct from a tensor, it is recommended to use sourceTensor.clone().detach() or sourceTensor.clone().detach().requires_grad_(True), rather than torch.tensor(sourceTensor).\n",
      "  ex = torch.tensor(self.dataset.data[self.queried_hist_[-1]][0]).to(self.device)\n"
     ]
    },
    {
     "name": "stdout",
     "output_type": "stream",
     "text": [
      "    strategy  labeled_acc  testing_acc    reward\n",
      "146        2     0.597605     0.411783  0.411443\n",
      "Mon Aug 31 16:12:56 2020 ContextualBanditsActiveLearning query round: 148\n",
      "Strategy Chosen: UncertaintySampling\n"
     ]
    },
    {
     "name": "stderr",
     "output_type": "stream",
     "text": [
      "C:\\Users\\Wan Jing\\Documents\\libact-torch\\libact\\query_strategies\\contextual_bandits_active_learning.py:184: UserWarning: To copy construct from a tensor, it is recommended to use sourceTensor.clone().detach() or sourceTensor.clone().detach().requires_grad_(True), rather than torch.tensor(sourceTensor).\n",
      "  ex = torch.tensor(self.dataset.data[self.queried_hist_[-1]][0]).to(self.device)\n",
      "C:\\Users\\Wan Jing\\Documents\\libact-torch\\libact\\query_strategies\\uncertainty_sampling.py:149: UserWarning: To copy construct from a tensor, it is recommended to use sourceTensor.clone().detach() or sourceTensor.clone().detach().requires_grad_(True), rather than torch.tensor(sourceTensor).\n",
      "  ex = torch.tensor(self.dataset.data[self.queried_hist_[-1]][0]).to(self.device)\n",
      "C:\\Users\\Wan Jing\\Documents\\libact-torch\\libact\\query_strategies\\representative_sampling.py:113: UserWarning: To copy construct from a tensor, it is recommended to use sourceTensor.clone().detach() or sourceTensor.clone().detach().requires_grad_(True), rather than torch.tensor(sourceTensor).\n",
      "  ex = torch.tensor(self.dataset.data[self.queried_hist_[-1]][0]).to(self.device)\n",
      "C:\\Users\\Wan Jing\\Documents\\libact-torch\\libact\\query_strategies\\random_sampling.py:86: UserWarning: To copy construct from a tensor, it is recommended to use sourceTensor.clone().detach() or sourceTensor.clone().detach().requires_grad_(True), rather than torch.tensor(sourceTensor).\n",
      "  ex = torch.tensor(self.dataset.data[self.queried_hist_[-1]][0]).to(self.device)\n"
     ]
    },
    {
     "name": "stdout",
     "output_type": "stream",
     "text": [
      "    strategy  labeled_acc  testing_acc    reward\n",
      "147        3     0.607619     0.410867  0.410528\n",
      "Mon Aug 31 16:13:11 2020 ContextualBanditsActiveLearning query round: 149\n",
      "Strategy Chosen: UncertaintySampling\n"
     ]
    },
    {
     "name": "stderr",
     "output_type": "stream",
     "text": [
      "C:\\Users\\Wan Jing\\Documents\\libact-torch\\libact\\query_strategies\\contextual_bandits_active_learning.py:184: UserWarning: To copy construct from a tensor, it is recommended to use sourceTensor.clone().detach() or sourceTensor.clone().detach().requires_grad_(True), rather than torch.tensor(sourceTensor).\n",
      "  ex = torch.tensor(self.dataset.data[self.queried_hist_[-1]][0]).to(self.device)\n",
      "C:\\Users\\Wan Jing\\Documents\\libact-torch\\libact\\query_strategies\\uncertainty_sampling.py:149: UserWarning: To copy construct from a tensor, it is recommended to use sourceTensor.clone().detach() or sourceTensor.clone().detach().requires_grad_(True), rather than torch.tensor(sourceTensor).\n",
      "  ex = torch.tensor(self.dataset.data[self.queried_hist_[-1]][0]).to(self.device)\n",
      "C:\\Users\\Wan Jing\\Documents\\libact-torch\\libact\\query_strategies\\representative_sampling.py:113: UserWarning: To copy construct from a tensor, it is recommended to use sourceTensor.clone().detach() or sourceTensor.clone().detach().requires_grad_(True), rather than torch.tensor(sourceTensor).\n",
      "  ex = torch.tensor(self.dataset.data[self.queried_hist_[-1]][0]).to(self.device)\n",
      "C:\\Users\\Wan Jing\\Documents\\libact-torch\\libact\\query_strategies\\random_sampling.py:86: UserWarning: To copy construct from a tensor, it is recommended to use sourceTensor.clone().detach() or sourceTensor.clone().detach().requires_grad_(True), rather than torch.tensor(sourceTensor).\n",
      "  ex = torch.tensor(self.dataset.data[self.queried_hist_[-1]][0]).to(self.device)\n"
     ]
    },
    {
     "name": "stdout",
     "output_type": "stream",
     "text": [
      "    strategy  labeled_acc  testing_acc   reward\n",
      "148        2     0.600828     0.412393  0.41296\n",
      "Mon Aug 31 16:13:27 2020 ContextualBanditsActiveLearning query round: 150\n",
      "Strategy Chosen: UncertaintySampling\n"
     ]
    },
    {
     "name": "stderr",
     "output_type": "stream",
     "text": [
      "C:\\Users\\Wan Jing\\Documents\\libact-torch\\libact\\query_strategies\\contextual_bandits_active_learning.py:184: UserWarning: To copy construct from a tensor, it is recommended to use sourceTensor.clone().detach() or sourceTensor.clone().detach().requires_grad_(True), rather than torch.tensor(sourceTensor).\n",
      "  ex = torch.tensor(self.dataset.data[self.queried_hist_[-1]][0]).to(self.device)\n",
      "C:\\Users\\Wan Jing\\Documents\\libact-torch\\libact\\query_strategies\\uncertainty_sampling.py:149: UserWarning: To copy construct from a tensor, it is recommended to use sourceTensor.clone().detach() or sourceTensor.clone().detach().requires_grad_(True), rather than torch.tensor(sourceTensor).\n",
      "  ex = torch.tensor(self.dataset.data[self.queried_hist_[-1]][0]).to(self.device)\n",
      "C:\\Users\\Wan Jing\\Documents\\libact-torch\\libact\\query_strategies\\representative_sampling.py:113: UserWarning: To copy construct from a tensor, it is recommended to use sourceTensor.clone().detach() or sourceTensor.clone().detach().requires_grad_(True), rather than torch.tensor(sourceTensor).\n",
      "  ex = torch.tensor(self.dataset.data[self.queried_hist_[-1]][0]).to(self.device)\n",
      "C:\\Users\\Wan Jing\\Documents\\libact-torch\\libact\\query_strategies\\random_sampling.py:86: UserWarning: To copy construct from a tensor, it is recommended to use sourceTensor.clone().detach() or sourceTensor.clone().detach().requires_grad_(True), rather than torch.tensor(sourceTensor).\n",
      "  ex = torch.tensor(self.dataset.data[self.queried_hist_[-1]][0]).to(self.device)\n"
     ]
    },
    {
     "name": "stdout",
     "output_type": "stream",
     "text": [
      "    strategy  labeled_acc  testing_acc    reward\n",
      "149        1     0.598824     0.405372  0.402811\n"
     ]
    }
   ],
   "source": [
    "test_size = 0.20\n",
    "\n",
    "n_labeled = 1000      # number of samples that are initially labeled\n",
    "\n",
    "dataname = 'Biome'\n",
    "\n",
    "fname = 'C:\\\\Users\\\\Wan Jing\\\\Documents\\\\CSML Dissertation\\\\Data Admin\\\\filteredBiome2.txt'\n",
    "ifile = open(fname, 'rb')\n",
    "Biome_X, Biome_y, Biome_dist = pickle.load(ifile)\n",
    "ifile.close()\n",
    "\n",
    "args_pool = {'MNIST':\n",
    "                {'n_epoch': 10, 'transform': transforms.Compose([transforms.ToTensor(), transforms.Normalize((0.1307,), (0.3081,))]),\n",
    "                'loader_tr_args':{'batch_size': 256, 'num_workers': 1},\n",
    "                'loader_te_args':{'batch_size': 1000, 'num_workers': 1},\n",
    "                'optimizer_args':{'lr': 0.01, 'momentum': 0.5},\n",
    "                'handler': Dataset, 'nclasses': 10},\n",
    "            'Biome':\n",
    "                {'n_epoch': 4, 'transform': transforms.Compose([transforms.ToTensor(), transforms.Normalize((0.5,0.5,0.5), (0.5,0.5,0.5))]),\n",
    "                'loader_tr_args':{'batch_size': 256, 'num_workers': 0},\n",
    "                'loader_te_args':{'batch_size': 1000, 'num_workers': 0},\n",
    "                'optimizer_args':{'lr': 0.05, 'momentum': 0.3},\n",
    "                'handler': DatasetBiome, 'nclasses': 5}\n",
    "            }\n",
    "\n",
    "args = args_pool[dataname]\n",
    "\n",
    "def custom_rw(te_acc, te_acc_change, hp1 = 0.9):\n",
    "    '''hp1 < 1'''\n",
    "#     return (hp1**te_acc) * (hp1**te_acc) + (hp1-hp1**te_acc)*te_acc_change*hp1\n",
    "    return te_acc*(1+ te_acc_change*hp1)\n",
    "\n",
    "for r in range(1): # repeat the experiment 20 times\n",
    "    print(\"%dth experiment\" % (r+1))\n",
    "\n",
    "    results = []\n",
    "\n",
    "    trn_ds, tst_ds, y_train, fully_labeled_trn_ds = \\\n",
    "        split_train_test_Biome(Biome_X, Biome_y, test_size, n_labeled, args)\n",
    "    print(\"Size of Training Set:\", len(trn_ds), \"; Size of Testing Set:\", len(tst_ds))\n",
    "    lbr = IdealLabeler(fully_labeled_trn_ds)\n",
    "\n",
    "    # quota = len(y_train) - n_labeled    # number of samples to query\n",
    "    nquery = 50\n",
    "    quota = 150\n",
    "\n",
    "    if dataname == 'MNIST':\n",
    "        model_cbal = Net1().to(\"cuda\")\n",
    "    elif dataname == 'Biome':\n",
    "        model_cbal = NetBiome().to(\"cuda\")\n",
    "#     model_us = copy.deepcopy(model_us)\n",
    "#     model_rs = copy.deepcopy(model_us)\n",
    "#     model_reps = copy.deepcopy(model_us)\n",
    "#     model_albl = copy.deepcopy(model_us)\n",
    "#     model_cbal = copy.deepcopy(model_us)\n",
    "#     model_mbal = copy.deepcopy(model_us)\n",
    "#     model_ubal = copy.deepcopy(model_us)\n",
    "    \n",
    "#     trn_ds2 = copy.deepcopy(trn_ds)\n",
    "#     trn_ds3 = copy.deepcopy(trn_ds)\n",
    "#     trn_ds5 = copy.deepcopy(trn_ds)\n",
    "#     trn_ds6 = copy.deepcopy(trn_ds)\n",
    "\n",
    "    # Comparing UncertaintySampling strategy with RandomSampling.\n",
    "    # model is the base learner, e.g. LogisticRegression, SVM ... etc.\n",
    "#     qs = UncertaintySampling(trn_ds, args, T=quota, model=model_us, method='entropy')\n",
    "#     expr1 = expr(trn_ds, tst_ds, lbr, model_us, qs, nquery, args)\n",
    "#     E_out_1 = expr1.run(quota)\n",
    "\n",
    "#     qs2 = RandomSampling(trn_ds, args, T=quota, model=model_rs)\n",
    "#     expr2 = expr(trn_ds, tst_ds, lbr, model_rs, qs2, nquery, args)\n",
    "#     E_out_2 = expr2.run(quota)\n",
    "    \n",
    "#     qs3 = RepresentativeSampling(trn_ds, args, T=quota, model=model_reps)\n",
    "#     expr3 = expr(trn_ds, tst_ds, lbr, model_reps, qs3, nquery, args)\n",
    "#     E_out_3 = expr3.run(quota)\n",
    "\n",
    "#     qs5 = ActiveLearningByLearning(trn_ds, args,\n",
    "#                 query_strategies=[\n",
    "#                     RandomSampling(trn_ds, args, T=quota, model=model_albl),\n",
    "#                     UncertaintySampling(trn_ds, args, T=quota, model=model_albl, method='lc'),\n",
    "#                     UncertaintySampling(trn_ds, args, T=quota, model=model_albl, method='sm'),\n",
    "#                     UncertaintySampling(trn_ds, args, T=quota, model=model_albl, method='entropy'),\n",
    "#                     RepresentativeSampling(trn_ds, args, T=quota, model=model_albl)\n",
    "#                 ],\n",
    "#                 T=quota,\n",
    "#                 uniform_sampler=False,\n",
    "#                 model=model_albl,\n",
    "#                 reward_fn = custom_rw\n",
    "#             )\n",
    "#     expr5 = expr(trn_ds, tst_ds, lbr, model_albl, qs5, nquery, args, custom_rw)\n",
    "#     E_out_5 = expr5.run(quota)\n",
    "\n",
    "    num_actions = 5\n",
    "    context_dim = 14\n",
    "#     hparams_linear = tf.contrib.training.HParams(num_actions=num_actions,\n",
    "#                                                    context_dim=context_dim,\n",
    "#                                                    a0=6,\n",
    "#                                                    b0=6,\n",
    "#                                                    lambda_prior=0.25,\n",
    "#                                                    initial_pulls=num_actions)\n",
    "    algo = algoBiome\n",
    "    qs6 = ContextualBanditsActiveLearning(trn_ds, args,\n",
    "                query_strategies=[\n",
    "                    RandomSampling(trn_ds, args, T=quota, model=model_cbal),\n",
    "                    UncertaintySampling(trn_ds, args, T=quota, model=model_cbal, method='lc'),\n",
    "                    UncertaintySampling(trn_ds, args, T=quota, model=model_cbal, method='sm'),\n",
    "                    UncertaintySampling(trn_ds, args, T=quota, model=model_cbal, method='entropy'),\n",
    "                    RepresentativeSampling(trn_ds, args, T=quota, model=model_cbal)\n",
    "                ],\n",
    "                T=quota,\n",
    "                uniform_sampler=False,\n",
    "                model=model_cbal,\n",
    "                cb_strategy=algo,\n",
    "                reward_fn = custom_rw\n",
    "            )\n",
    "    expr6 = exprCB(trn_ds, tst_ds, lbr, model_cbal, qs6, nquery, args, custom_rw)\n",
    "    E_out_6 = expr6.run(quota)\n",
    "\n",
    "#     qs7 = MultiBanditsActiveLearning(trn_ds, args,\n",
    "#                 query_strategies=[\n",
    "#                     RandomSampling(trn_ds, args, T=quota, model=model_mbal),\n",
    "#                     UncertaintySampling(trn_ds, args, T=quota, model=model_mbal, method='lc'),\n",
    "#                     UncertaintySampling(trn_ds, args, T=quota, model=model_mbal, method='sm'),\n",
    "#                     UncertaintySampling(trn_ds, args, T=quota, model=model_mbal, method='entropy'),\n",
    "#                     RepresentativeSampling(trn_ds, args, T=quota, model=model_mbal)\n",
    "#                 ],\n",
    "#                 T=quota,\n",
    "#                 uniform_sampler=False,\n",
    "#                 model=model_mbal,\n",
    "#                 reward_fn = custom_rw\n",
    "#             )\n",
    "#     expr7 = expr(trn_ds, tst_ds, lbr, model_mbal, qs7, nquery, args, custom_rw)\n",
    "#     E_out_7 = expr7.run(quota)\n",
    "\n",
    "#     qs8 = UniformBanditsActiveLearning(trn_ds, args,\n",
    "#                 query_strategies=[\n",
    "#                     RandomSampling(trn_ds, args, T=quota, model=model_ubal),\n",
    "#                     UncertaintySampling(trn_ds, args, T=quota, model=model_ubal, method='lc'),\n",
    "#                     UncertaintySampling(trn_ds, args, T=quota, model=model_ubal, method='sm'),\n",
    "#                     UncertaintySampling(trn_ds, args, T=quota, model=model_ubal, method='entropy'),\n",
    "#                     RepresentativeSampling(trn_ds, args, T=quota, model=model_ubal)\n",
    "#                 ],\n",
    "#                 T=quota,\n",
    "#                 uniform_sampler=False,\n",
    "#                 model=model_ubal,\n",
    "#                 reward_fn = custom_rw\n",
    "#             )\n",
    "#     expr8 = expr(trn_ds, tst_ds, lbr, model_ubal, qs8, nquery, args, custom_rw)\n",
    "#     E_out_8 = expr8.run(quota)\n",
    "# print(results)"
   ]
  },
  {
   "cell_type": "code",
   "execution_count": 5,
   "metadata": {},
   "outputs": [
    {
     "name": "stdout",
     "output_type": "stream",
     "text": [
      "0.41514041514041516\n"
     ]
    },
    {
     "data": {
      "image/png": "[encoded data removed]",
      "text/plain": [
       "<Figure size 432x288 with 1 Axes>"
      ]
     },
     "metadata": {
      "needs_background": "light"
     },
     "output_type": "display_data"
    }
   ],
   "source": [
    "import matplotlib.pyplot as plt\n",
    "\n",
    "print(expr6._besttestacc)\n",
    "\n",
    "query_num = range(1,150+1)\n",
    "plt.plot(query_num, E_out_6['labeled_acc'], 'g', label='labeled')\n",
    "plt.plot(query_num, E_out_6['testing_acc'], 'b', label='testing')\n",
    "\n",
    "plt.xlabel('Number of Queries')\n",
    "plt.ylabel('Error')\n",
    "plt.title('Experiment Result; LC; epoch4')\n",
    "plt.legend(loc='upper center', bbox_to_anchor=(0.5, -0.05),\n",
    "            fancybox=True, shadow=True, ncol=5)\n",
    "plt.show()"
   ]
  },
  {
   "cell_type": "code",
   "execution_count": 6,
   "metadata": {},
   "outputs": [],
   "source": [
    "fname = 'cbalCTBiome3.txt'\n",
    "ofile = open(fname, 'wb')\n",
    "pickle.dump([E_out_6, 'epoch=4; quota=150'], ofile)\n",
    "ofile.close()"
   ]
  },
  {
   "cell_type": "markdown",
   "metadata": {},
   "source": [
    "# IW-Acc reward"
   ]
  },
  {
   "cell_type": "code",
   "execution_count": 3,
   "metadata": {},
   "outputs": [],
   "source": [
    "class NetBiome(nn.Module):\n",
    "    def __init__(self):\n",
    "        super(NetBiome, self).__init__()\n",
    "        self.conv1 = nn.Conv2d(3, 96, kernel_size=6, stride=3)\n",
    "        self.convdropout1 = nn.Dropout2d()\n",
    "        self.conv2 = nn.Conv2d(96, 64, kernel_size=3, stride=2)\n",
    "        self.convdropout2 = nn.Dropout2d()\n",
    "        self.fc1 = nn.Linear(576, 128)\n",
    "        self.fc2 = nn.Linear(128, 5)\n",
    "\n",
    "    def forward(self, x):\n",
    "        x = self.conv1(x)\n",
    "        x = self.convdropout1(x)\n",
    "        x = F.max_pool2d(x, 2)\n",
    "        x = F.relu(x)\n",
    "        x = self.conv2(x)\n",
    "        x = self.convdropout2(x)\n",
    "        x = F.max_pool2d(x, 2)\n",
    "        x = F.relu(x)\n",
    "        x = x.view(-1, 576)\n",
    "        e1 = F.relu(self.fc1(x))\n",
    "        x = F.dropout(e1, training=self.training)\n",
    "        x = self.fc2(x)\n",
    "        out = F.log_softmax(x, dim=1)\n",
    "        \n",
    "        return out, e1\n",
    "\n",
    "    def get_embedding_dim(self):\n",
    "        return 128\n",
    "    \n",
    "class Net1(nn.Module):\n",
    "    def __init__(self):\n",
    "        super(Net1, self).__init__()\n",
    "        self.conv1 = nn.Conv2d(1, 10, kernel_size=5)\n",
    "        self.conv2 = nn.Conv2d(10, 20, kernel_size=5)\n",
    "        self.conv2_drop = nn.Dropout2d()\n",
    "        self.fc1 = nn.Linear(320, 50)\n",
    "        self.fc2 = nn.Linear(50, 10)\n",
    "\n",
    "    def forward(self, x):\n",
    "        x = F.relu(F.max_pool2d(self.conv1(x), 2))\n",
    "        x = F.relu(F.max_pool2d(self.conv2_drop(self.conv2(x)), 2))\n",
    "        x = x.view(-1, 320)\n",
    "        e1 = F.relu(self.fc1(x))\n",
    "        x = F.dropout(e1, training=self.training)\n",
    "        x = self.fc2(x)\n",
    "        return x, e1\n",
    "\n",
    "    def get_embedding_dim(self):\n",
    "        return 50\n",
    "\n",
    "def split_train_test_Biome(X_raw, y_raw , test_size, n_labeled, args):\n",
    "    X, y = X_raw, y_raw\n",
    "    splt_id = int(len(X) * test_size)\n",
    "    \n",
    "    X_train, X_test, y_train, y_test = X[splt_id:], X[:splt_id], y[splt_id:], y[:splt_id]\n",
    "    shuf_id = np.arange(len(X_train))\n",
    "    np.random.shuffle(shuf_id)\n",
    "    X_train = X_train[shuf_id]\n",
    "    y_train = y_train[shuf_id]\n",
    "\n",
    "    handler = args['handler']\n",
    "\n",
    "    trn_ds = handler(X_train, np.concatenate([y_train[:n_labeled], [None] * (len(y_train) - n_labeled)]), args['transform'])\n",
    "    tst_ds = handler(X_test, y_test, args['transform'])\n",
    "    fully_labeled_trn_ds = handler(X_train, y_train, args['transform'])\n",
    "\n",
    "    return trn_ds, tst_ds, y_train, fully_labeled_trn_ds\n",
    "\n",
    "class exprCB(object):\n",
    "    def __init__(self, trn_ds, tst_ds, lbr, model, qs, nquery, args):\n",
    "        print(time.ctime(time.time()))\n",
    "        self._args = args\n",
    "        self._trn_ds = trn_ds\n",
    "        self._tst_ds = tst_ds\n",
    "        self._lbr = lbr\n",
    "        self._model = model\n",
    "        self._qs = qs\n",
    "        self._nquery = nquery\n",
    "        self._T = self._qs.T\n",
    "        self._handler = args['handler']\n",
    "        \n",
    "        self._rd = 0\n",
    "        self._nclasses = self._qs._nclasses\n",
    "        self._features = pd.DataFrame(columns=['iteration','query_bincount','query_entropy','labeled_bincount','labeled_entropy',\n",
    "                                                'query_acc','query_f1','query_precision','query_recall','labeled_acc',\n",
    "                                                'labeled_f1','labeled_precision','labeled_recall','testing_acc','testing_f1',\n",
    "                                                'testing_precision', 'testing_recall','testing_acc_change',\n",
    "                                                'testing_f1_change','testing_precision_change','testing_recall_change','strategy',\n",
    "                                                'strategy_entropy','reward'])\n",
    "        \n",
    "        use_cuda = torch.cuda.is_available()\n",
    "        self._device = torch.device(\"cuda\" if use_cuda else \"cpu\")\n",
    "        self._nepoch = self._args['n_epoch']\n",
    "\n",
    "#         self._optimizer = optim.SGD(self._model.parameters(), **self._args['optimizer_args'])\n",
    "        self._optimizer = optim.Adam(self._model.parameters(), lr=1e-4, weight_decay=1e-5)\n",
    "        self._besttestacc = 0\n",
    "\n",
    "        self.train()\n",
    "        testing_acc, testing_f1, testing_precision, testing_recall = self.get_scores(self._tst_ds._X, self._tst_ds._y)\n",
    "\n",
    "        self._prev_acc_te = testing_acc\n",
    "        self._prev_f1_te = testing_f1\n",
    "        self._prev_precision_te = testing_precision\n",
    "        self._prev_recall_te = testing_recall\n",
    "\n",
    "    def train(self):\n",
    "        labeled_entry_Xs, labeled_entry_ys = self._trn_ds.get_labeled_entries()\n",
    "        labeled_dataset = self._handler(labeled_entry_Xs, labeled_entry_ys, transform=self._args['transform'])\n",
    "\n",
    "        loader_tr = DataLoader(labeled_dataset,\n",
    "                            shuffle=True, **self._args['loader_tr_args'])\n",
    "\n",
    "        for epoch in range(1, self._nepoch):\n",
    "            self._model.train()\n",
    "            for batch_idx, (x, y) in enumerate(loader_tr):\n",
    "                x, y = x.to(self._device), y.long().to(self._device)\n",
    "                self._optimizer.zero_grad()\n",
    "                out, e1 = self._model(x)\n",
    "                loss = F.cross_entropy(out, y)\n",
    "                loss.backward()\n",
    "                self._optimizer.step()\n",
    "\n",
    "    def predict(self):\n",
    "        # predict labels in test set\n",
    "        loader_te = DataLoader(self._tst_ds, shuffle=False, **self._args['loader_te_args'])\n",
    "\n",
    "        self._model.eval()\n",
    "        P = torch.tensor([], dtype=torch.long)\n",
    "        with torch.no_grad():\n",
    "            for batch_idx, (x, y) in enumerate(loader_te):\n",
    "                x = x.to(self._device)\n",
    "                out, e1 = self._model(x)\n",
    "\n",
    "                pred = out.max(1)[1]\n",
    "                P = torch.cat((P,pred.cpu()))\n",
    "\n",
    "        return P\n",
    "\n",
    "    def get_scores(self, xs, lb):\n",
    "        loader_te = DataLoader(self._handler(xs, lb, transform=self._args['transform']),\n",
    "                            shuffle=False, **self._args['loader_te_args'])\n",
    "        \n",
    "        self._model.eval()\n",
    "        P = torch.tensor([], dtype=torch.long)\n",
    "        with torch.no_grad():\n",
    "            for batch_idx, (x, y) in enumerate(loader_te):\n",
    "                x = x.to(self._device)\n",
    "                out, e1 = self._model(x)\n",
    "\n",
    "                pred = out.max(1)[1]\n",
    "                P = torch.cat((P,pred.cpu()))\n",
    "        \n",
    "        acc = accuracy_score(lb, P)\n",
    "        f1 = f1_score(lb,P,average='macro')\n",
    "        precision = precision_score(lb,P,average='macro')\n",
    "        recall = recall_score(lb,P,average='macro')\n",
    "\n",
    "        return acc, f1, precision, recall\n",
    "\n",
    "    def get_features(self, ask_id, lb):\n",
    "        itr = self._rd/self._T\n",
    "\n",
    "        # getting entropies\n",
    "        query_bincount = np.bincount(lb, None, self._nclasses)\n",
    "        query_entropy = entropy(query_bincount)\n",
    "        \n",
    "        labeled_x, labeled_y = self._trn_ds.get_labeled_entries()\n",
    "        labeled_bincount = np.bincount(labeled_y, None, self._nclasses)\n",
    "        labeled_entropy = entropy(labeled_bincount)\n",
    "\n",
    "        # query scores\n",
    "        query_acc, query_f1, query_precision, query_recall = self.get_scores(self._trn_ds._X[ask_id], lb)\n",
    "\n",
    "        # labeled scores\n",
    "        labeled_acc, labeled_f1, labeled_precision, labeled_recall = self.get_scores(labeled_x, labeled_y)\n",
    "        \n",
    "        # testing scores\n",
    "        testing_acc, testing_f1, testing_precision, testing_recall = self.get_scores(self._tst_ds._X, self._tst_ds._y)\n",
    "\n",
    "        testing_acc_change = testing_acc - self._prev_acc_te\n",
    "        testing_f1_change = testing_f1 - self._prev_f1_te\n",
    "        testing_precision_change = testing_precision - self._prev_precision_te\n",
    "        testing_recall_change = testing_recall - self._prev_recall_te\n",
    "\n",
    "        self._prev_acc_te = testing_acc\n",
    "        self._prev_f1_te = testing_f1\n",
    "        self._prev_precision_te = testing_precision\n",
    "        self._prev_recall_te = testing_recall\n",
    "\n",
    "        try:\n",
    "            strategy_entropy = entropy(self._qs.exp4p_.w)\n",
    "        except AttributeError:\n",
    "            strategy_entropy = 0\n",
    "\n",
    "        reward = self._qs.calc_reward_fn()\n",
    "        self._features = self._features.append({'iteration': itr, 'query_bincount': query_bincount, 'query_entropy': query_entropy,\n",
    "                              'labeled_bincount': labeled_bincount, 'labeled_entropy': labeled_entropy, 'query_acc': query_acc,\n",
    "                              'query_f1': query_f1, 'query_precision': query_precision, 'query_recall': query_recall,\n",
    "                              'labeled_acc': labeled_acc, 'labeled_f1': labeled_f1, 'labeled_precision': labeled_precision, \n",
    "                              'labeled_recall': labeled_recall, 'testing_acc': testing_acc, 'testing_f1': testing_f1,\n",
    "                              'testing_precision': testing_precision, 'testing_recall': testing_recall,\n",
    "                              'testing_acc_change': testing_acc_change, 'testing_f1_change': testing_f1_change, \n",
    "                              'testing_precision_change': testing_precision_change, 'testing_recall_change': testing_recall_change, \n",
    "                              'strategy':self._qs.strat_idx ,'strategy_entropy': strategy_entropy, 'reward': reward\n",
    "                              }, ignore_index=True)\n",
    "        return self._features.tail(1)\n",
    "    \n",
    "\n",
    "    def run(self, quota):\n",
    "        # E_out = np.array([])\n",
    "\n",
    "        for nround in range(quota):\n",
    "            self._rd += 1\n",
    "            \n",
    "            print(time.ctime(time.time()), type(self._qs).__name__, \"query round:\",self._rd)\n",
    "            # print(self._qs.W, self._qs.raw_rw)\n",
    "\n",
    "            ask_id = self._qs.make_query(num=self._nquery)\n",
    "            lb = self._lbr.label(ask_id)\n",
    "            self._trn_ds.update(ask_id, lb)\n",
    "\n",
    "            self.train()\n",
    "            self._qs.update(ask_id, lb)\n",
    "            \n",
    "            self._context = self.get_features(ask_id, lb)\n",
    "            ctx = np.array(self._context[['iteration','labeled_entropy','labeled_acc','labeled_f1','labeled_precision',\n",
    "                                'labeled_recall','testing_acc','testing_f1','testing_precision','testing_recall',\n",
    "                                'testing_acc_change','testing_f1_change','testing_precision_change','testing_recall_change']])\n",
    "\n",
    "            self._qs.update_context(ctx) ######## UPDATE CONTEXT\n",
    "            print(self._features[['strategy','labeled_acc','testing_acc']].tail(1))\n",
    "            \n",
    "            if self._features['testing_acc'].iloc[-1] > self._besttestacc:\n",
    "                self._bestmodel = copy.deepcopy(self._model)\n",
    "                self._besttestacc = self._features['testing_acc'].iloc[-1]\n",
    "\n",
    "        return self._features"
   ]
  },
  {
   "cell_type": "code",
   "execution_count": 4,
   "metadata": {},
   "outputs": [
    {
     "name": "stdout",
     "output_type": "stream",
     "text": [
      "1th experiment\n",
      "Size of Training Set: 13104 ; Size of Testing Set: 3276\n",
      "Tue Aug 25 05:47:20 2020\n"
     ]
    },
    {
     "name": "stderr",
     "output_type": "stream",
     "text": [
      "C:\\Users\\Wan Jing\\.conda\\envs\\deepCB\\lib\\site-packages\\sklearn\\metrics\\_classification.py:1221: UndefinedMetricWarning: Precision is ill-defined and being set to 0.0 in labels with no predicted samples. Use `zero_division` parameter to control this behavior.\n",
      "  _warn_prf(average, modifier, msg_start, len(result))\n"
     ]
    },
    {
     "name": "stdout",
     "output_type": "stream",
     "text": [
      "Tue Aug 25 05:47:23 2020 ContextualBanditsActiveLearning query round: 1\n",
      "Strategy Chosen: UncertaintySampling\n"
     ]
    },
    {
     "name": "stderr",
     "output_type": "stream",
     "text": [
      "C:\\Users\\Wan Jing\\Documents\\libact-torch\\libact\\query_strategies\\random_sampling.py:86: UserWarning: To copy construct from a tensor, it is recommended to use sourceTensor.clone().detach() or sourceTensor.clone().detach().requires_grad_(True), rather than torch.tensor(sourceTensor).\n",
      "  ex = torch.tensor(self.dataset.data[self.queried_hist_[-1]][0]).to(self.device)\n",
      "C:\\Users\\Wan Jing\\Documents\\libact-torch\\libact\\query_strategies\\contextual_bandits_active_learning.py:180: UserWarning: To copy construct from a tensor, it is recommended to use sourceTensor.clone().detach() or sourceTensor.clone().detach().requires_grad_(True), rather than torch.tensor(sourceTensor).\n",
      "  ex = torch.tensor(self.dataset.data[self.queried_hist_[-1]][0]).to(self.device)\n",
      "C:\\Users\\Wan Jing\\Documents\\libact-torch\\libact\\query_strategies\\uncertainty_sampling.py:149: UserWarning: To copy construct from a tensor, it is recommended to use sourceTensor.clone().detach() or sourceTensor.clone().detach().requires_grad_(True), rather than torch.tensor(sourceTensor).\n",
      "  ex = torch.tensor(self.dataset.data[self.queried_hist_[-1]][0]).to(self.device)\n",
      "C:\\Users\\Wan Jing\\Documents\\libact-torch\\libact\\query_strategies\\representative_sampling.py:113: UserWarning: To copy construct from a tensor, it is recommended to use sourceTensor.clone().detach() or sourceTensor.clone().detach().requires_grad_(True), rather than torch.tensor(sourceTensor).\n",
      "  ex = torch.tensor(self.dataset.data[self.queried_hist_[-1]][0]).to(self.device)\n"
     ]
    },
    {
     "name": "stdout",
     "output_type": "stream",
     "text": [
      "  strategy  labeled_acc  testing_acc\n",
      "0        3     0.305714     0.275641\n",
      "Tue Aug 25 05:47:32 2020 ContextualBanditsActiveLearning query round: 2\n",
      "Strategy Chosen: RepresentativeSampling\n"
     ]
    },
    {
     "name": "stderr",
     "output_type": "stream",
     "text": [
      "C:\\Users\\Wan Jing\\Documents\\libact-torch\\libact\\query_strategies\\representative_sampling.py:147: UserWarning: To copy construct from a tensor, it is recommended to use sourceTensor.clone().detach() or sourceTensor.clone().detach().requires_grad_(True), rather than torch.tensor(sourceTensor).\n",
      "  x = torch.tensor(x).to(self.device)\n",
      "C:\\Users\\Wan Jing\\Documents\\libact-torch\\libact\\query_strategies\\random_sampling.py:86: UserWarning: To copy construct from a tensor, it is recommended to use sourceTensor.clone().detach() or sourceTensor.clone().detach().requires_grad_(True), rather than torch.tensor(sourceTensor).\n",
      "  ex = torch.tensor(self.dataset.data[self.queried_hist_[-1]][0]).to(self.device)\n",
      "C:\\Users\\Wan Jing\\Documents\\libact-torch\\libact\\query_strategies\\contextual_bandits_active_learning.py:180: UserWarning: To copy construct from a tensor, it is recommended to use sourceTensor.clone().detach() or sourceTensor.clone().detach().requires_grad_(True), rather than torch.tensor(sourceTensor).\n",
      "  ex = torch.tensor(self.dataset.data[self.queried_hist_[-1]][0]).to(self.device)\n",
      "C:\\Users\\Wan Jing\\Documents\\libact-torch\\libact\\query_strategies\\uncertainty_sampling.py:149: UserWarning: To copy construct from a tensor, it is recommended to use sourceTensor.clone().detach() or sourceTensor.clone().detach().requires_grad_(True), rather than torch.tensor(sourceTensor).\n",
      "  ex = torch.tensor(self.dataset.data[self.queried_hist_[-1]][0]).to(self.device)\n",
      "C:\\Users\\Wan Jing\\Documents\\libact-torch\\libact\\query_strategies\\representative_sampling.py:113: UserWarning: To copy construct from a tensor, it is recommended to use sourceTensor.clone().detach() or sourceTensor.clone().detach().requires_grad_(True), rather than torch.tensor(sourceTensor).\n",
      "  ex = torch.tensor(self.dataset.data[self.queried_hist_[-1]][0]).to(self.device)\n",
      "C:\\Users\\Wan Jing\\.conda\\envs\\deepCB\\lib\\site-packages\\sklearn\\metrics\\_classification.py:1221: UndefinedMetricWarning: Precision is ill-defined and being set to 0.0 in labels with no predicted samples. Use `zero_division` parameter to control this behavior.\n",
      "  _warn_prf(average, modifier, msg_start, len(result))\n"
     ]
    },
    {
     "name": "stdout",
     "output_type": "stream",
     "text": [
      "  strategy  labeled_acc  testing_acc\n",
      "1        4     0.301818     0.275641\n",
      "Tue Aug 25 05:47:44 2020 ContextualBanditsActiveLearning query round: 3\n",
      "Strategy Chosen: RandomSampling\n"
     ]
    },
    {
     "name": "stderr",
     "output_type": "stream",
     "text": [
      "C:\\Users\\Wan Jing\\Documents\\libact-torch\\libact\\query_strategies\\random_sampling.py:86: UserWarning: To copy construct from a tensor, it is recommended to use sourceTensor.clone().detach() or sourceTensor.clone().detach().requires_grad_(True), rather than torch.tensor(sourceTensor).\n",
      "  ex = torch.tensor(self.dataset.data[self.queried_hist_[-1]][0]).to(self.device)\n",
      "C:\\Users\\Wan Jing\\Documents\\libact-torch\\libact\\query_strategies\\contextual_bandits_active_learning.py:180: UserWarning: To copy construct from a tensor, it is recommended to use sourceTensor.clone().detach() or sourceTensor.clone().detach().requires_grad_(True), rather than torch.tensor(sourceTensor).\n",
      "  ex = torch.tensor(self.dataset.data[self.queried_hist_[-1]][0]).to(self.device)\n",
      "C:\\Users\\Wan Jing\\Documents\\libact-torch\\libact\\query_strategies\\uncertainty_sampling.py:149: UserWarning: To copy construct from a tensor, it is recommended to use sourceTensor.clone().detach() or sourceTensor.clone().detach().requires_grad_(True), rather than torch.tensor(sourceTensor).\n",
      "  ex = torch.tensor(self.dataset.data[self.queried_hist_[-1]][0]).to(self.device)\n",
      "C:\\Users\\Wan Jing\\Documents\\libact-torch\\libact\\query_strategies\\representative_sampling.py:113: UserWarning: To copy construct from a tensor, it is recommended to use sourceTensor.clone().detach() or sourceTensor.clone().detach().requires_grad_(True), rather than torch.tensor(sourceTensor).\n",
      "  ex = torch.tensor(self.dataset.data[self.queried_hist_[-1]][0]).to(self.device)\n",
      "C:\\Users\\Wan Jing\\.conda\\envs\\deepCB\\lib\\site-packages\\sklearn\\metrics\\_classification.py:1221: UndefinedMetricWarning: Precision is ill-defined and being set to 0.0 in labels with no predicted samples. Use `zero_division` parameter to control this behavior.\n",
      "  _warn_prf(average, modifier, msg_start, len(result))\n"
     ]
    },
    {
     "name": "stdout",
     "output_type": "stream",
     "text": [
      "  strategy  labeled_acc  testing_acc\n",
      "2        0     0.302609     0.275641\n",
      "Tue Aug 25 05:47:48 2020 ContextualBanditsActiveLearning query round: 4\n",
      "Strategy Chosen: UncertaintySampling\n"
     ]
    },
    {
     "name": "stderr",
     "output_type": "stream",
     "text": [
      "C:\\Users\\Wan Jing\\Documents\\libact-torch\\libact\\query_strategies\\random_sampling.py:86: UserWarning: To copy construct from a tensor, it is recommended to use sourceTensor.clone().detach() or sourceTensor.clone().detach().requires_grad_(True), rather than torch.tensor(sourceTensor).\n",
      "  ex = torch.tensor(self.dataset.data[self.queried_hist_[-1]][0]).to(self.device)\n",
      "C:\\Users\\Wan Jing\\Documents\\libact-torch\\libact\\query_strategies\\contextual_bandits_active_learning.py:180: UserWarning: To copy construct from a tensor, it is recommended to use sourceTensor.clone().detach() or sourceTensor.clone().detach().requires_grad_(True), rather than torch.tensor(sourceTensor).\n",
      "  ex = torch.tensor(self.dataset.data[self.queried_hist_[-1]][0]).to(self.device)\n",
      "C:\\Users\\Wan Jing\\Documents\\libact-torch\\libact\\query_strategies\\uncertainty_sampling.py:149: UserWarning: To copy construct from a tensor, it is recommended to use sourceTensor.clone().detach() or sourceTensor.clone().detach().requires_grad_(True), rather than torch.tensor(sourceTensor).\n",
      "  ex = torch.tensor(self.dataset.data[self.queried_hist_[-1]][0]).to(self.device)\n",
      "C:\\Users\\Wan Jing\\Documents\\libact-torch\\libact\\query_strategies\\representative_sampling.py:113: UserWarning: To copy construct from a tensor, it is recommended to use sourceTensor.clone().detach() or sourceTensor.clone().detach().requires_grad_(True), rather than torch.tensor(sourceTensor).\n",
      "  ex = torch.tensor(self.dataset.data[self.queried_hist_[-1]][0]).to(self.device)\n",
      "C:\\Users\\Wan Jing\\.conda\\envs\\deepCB\\lib\\site-packages\\sklearn\\metrics\\_classification.py:1221: UndefinedMetricWarning: Precision is ill-defined and being set to 0.0 in labels with no predicted samples. Use `zero_division` parameter to control this behavior.\n",
      "  _warn_prf(average, modifier, msg_start, len(result))\n"
     ]
    },
    {
     "name": "stdout",
     "output_type": "stream",
     "text": [
      "  strategy  labeled_acc  testing_acc\n",
      "3        1     0.298333     0.275641\n",
      "Tue Aug 25 05:47:57 2020 ContextualBanditsActiveLearning query round: 5\n",
      "Strategy Chosen: UncertaintySampling\n"
     ]
    },
    {
     "name": "stderr",
     "output_type": "stream",
     "text": [
      "C:\\Users\\Wan Jing\\Documents\\libact-torch\\libact\\query_strategies\\random_sampling.py:86: UserWarning: To copy construct from a tensor, it is recommended to use sourceTensor.clone().detach() or sourceTensor.clone().detach().requires_grad_(True), rather than torch.tensor(sourceTensor).\n",
      "  ex = torch.tensor(self.dataset.data[self.queried_hist_[-1]][0]).to(self.device)\n",
      "C:\\Users\\Wan Jing\\Documents\\libact-torch\\libact\\query_strategies\\contextual_bandits_active_learning.py:180: UserWarning: To copy construct from a tensor, it is recommended to use sourceTensor.clone().detach() or sourceTensor.clone().detach().requires_grad_(True), rather than torch.tensor(sourceTensor).\n",
      "  ex = torch.tensor(self.dataset.data[self.queried_hist_[-1]][0]).to(self.device)\n",
      "C:\\Users\\Wan Jing\\Documents\\libact-torch\\libact\\query_strategies\\uncertainty_sampling.py:149: UserWarning: To copy construct from a tensor, it is recommended to use sourceTensor.clone().detach() or sourceTensor.clone().detach().requires_grad_(True), rather than torch.tensor(sourceTensor).\n",
      "  ex = torch.tensor(self.dataset.data[self.queried_hist_[-1]][0]).to(self.device)\n",
      "C:\\Users\\Wan Jing\\Documents\\libact-torch\\libact\\query_strategies\\representative_sampling.py:113: UserWarning: To copy construct from a tensor, it is recommended to use sourceTensor.clone().detach() or sourceTensor.clone().detach().requires_grad_(True), rather than torch.tensor(sourceTensor).\n",
      "  ex = torch.tensor(self.dataset.data[self.queried_hist_[-1]][0]).to(self.device)\n",
      "C:\\Users\\Wan Jing\\.conda\\envs\\deepCB\\lib\\site-packages\\sklearn\\metrics\\_classification.py:1221: UndefinedMetricWarning: Precision is ill-defined and being set to 0.0 in labels with no predicted samples. Use `zero_division` parameter to control this behavior.\n",
      "  _warn_prf(average, modifier, msg_start, len(result))\n"
     ]
    },
    {
     "name": "stdout",
     "output_type": "stream",
     "text": [
      "  strategy  labeled_acc  testing_acc\n",
      "4        2       0.2968     0.275641\n",
      "Tue Aug 25 05:48:06 2020 ContextualBanditsActiveLearning query round: 6\n",
      "Strategy Chosen: UncertaintySampling\n"
     ]
    },
    {
     "name": "stderr",
     "output_type": "stream",
     "text": [
      "C:\\Users\\Wan Jing\\Documents\\libact-torch\\libact\\query_strategies\\random_sampling.py:86: UserWarning: To copy construct from a tensor, it is recommended to use sourceTensor.clone().detach() or sourceTensor.clone().detach().requires_grad_(True), rather than torch.tensor(sourceTensor).\n",
      "  ex = torch.tensor(self.dataset.data[self.queried_hist_[-1]][0]).to(self.device)\n",
      "C:\\Users\\Wan Jing\\Documents\\libact-torch\\libact\\query_strategies\\contextual_bandits_active_learning.py:180: UserWarning: To copy construct from a tensor, it is recommended to use sourceTensor.clone().detach() or sourceTensor.clone().detach().requires_grad_(True), rather than torch.tensor(sourceTensor).\n",
      "  ex = torch.tensor(self.dataset.data[self.queried_hist_[-1]][0]).to(self.device)\n",
      "C:\\Users\\Wan Jing\\Documents\\libact-torch\\libact\\query_strategies\\uncertainty_sampling.py:149: UserWarning: To copy construct from a tensor, it is recommended to use sourceTensor.clone().detach() or sourceTensor.clone().detach().requires_grad_(True), rather than torch.tensor(sourceTensor).\n",
      "  ex = torch.tensor(self.dataset.data[self.queried_hist_[-1]][0]).to(self.device)\n",
      "C:\\Users\\Wan Jing\\Documents\\libact-torch\\libact\\query_strategies\\representative_sampling.py:113: UserWarning: To copy construct from a tensor, it is recommended to use sourceTensor.clone().detach() or sourceTensor.clone().detach().requires_grad_(True), rather than torch.tensor(sourceTensor).\n",
      "  ex = torch.tensor(self.dataset.data[self.queried_hist_[-1]][0]).to(self.device)\n",
      "C:\\Users\\Wan Jing\\.conda\\envs\\deepCB\\lib\\site-packages\\sklearn\\metrics\\_classification.py:1221: UndefinedMetricWarning: Precision is ill-defined and being set to 0.0 in labels with no predicted samples. Use `zero_division` parameter to control this behavior.\n",
      "  _warn_prf(average, modifier, msg_start, len(result))\n"
     ]
    },
    {
     "name": "stdout",
     "output_type": "stream",
     "text": [
      "  strategy  labeled_acc  testing_acc\n",
      "5        3     0.290769     0.275641\n",
      "Tue Aug 25 05:48:15 2020 ContextualBanditsActiveLearning query round: 7\n",
      "Strategy Chosen: RepresentativeSampling\n"
     ]
    },
    {
     "name": "stderr",
     "output_type": "stream",
     "text": [
      "C:\\Users\\Wan Jing\\Documents\\libact-torch\\libact\\query_strategies\\representative_sampling.py:147: UserWarning: To copy construct from a tensor, it is recommended to use sourceTensor.clone().detach() or sourceTensor.clone().detach().requires_grad_(True), rather than torch.tensor(sourceTensor).\n",
      "  x = torch.tensor(x).to(self.device)\n",
      "C:\\Users\\Wan Jing\\Documents\\libact-torch\\libact\\query_strategies\\random_sampling.py:86: UserWarning: To copy construct from a tensor, it is recommended to use sourceTensor.clone().detach() or sourceTensor.clone().detach().requires_grad_(True), rather than torch.tensor(sourceTensor).\n",
      "  ex = torch.tensor(self.dataset.data[self.queried_hist_[-1]][0]).to(self.device)\n",
      "C:\\Users\\Wan Jing\\Documents\\libact-torch\\libact\\query_strategies\\contextual_bandits_active_learning.py:180: UserWarning: To copy construct from a tensor, it is recommended to use sourceTensor.clone().detach() or sourceTensor.clone().detach().requires_grad_(True), rather than torch.tensor(sourceTensor).\n",
      "  ex = torch.tensor(self.dataset.data[self.queried_hist_[-1]][0]).to(self.device)\n",
      "C:\\Users\\Wan Jing\\Documents\\libact-torch\\libact\\query_strategies\\uncertainty_sampling.py:149: UserWarning: To copy construct from a tensor, it is recommended to use sourceTensor.clone().detach() or sourceTensor.clone().detach().requires_grad_(True), rather than torch.tensor(sourceTensor).\n",
      "  ex = torch.tensor(self.dataset.data[self.queried_hist_[-1]][0]).to(self.device)\n",
      "C:\\Users\\Wan Jing\\Documents\\libact-torch\\libact\\query_strategies\\representative_sampling.py:113: UserWarning: To copy construct from a tensor, it is recommended to use sourceTensor.clone().detach() or sourceTensor.clone().detach().requires_grad_(True), rather than torch.tensor(sourceTensor).\n",
      "  ex = torch.tensor(self.dataset.data[self.queried_hist_[-1]][0]).to(self.device)\n",
      "C:\\Users\\Wan Jing\\.conda\\envs\\deepCB\\lib\\site-packages\\sklearn\\metrics\\_classification.py:1221: UndefinedMetricWarning: Precision is ill-defined and being set to 0.0 in labels with no predicted samples. Use `zero_division` parameter to control this behavior.\n",
      "  _warn_prf(average, modifier, msg_start, len(result))\n"
     ]
    },
    {
     "name": "stdout",
     "output_type": "stream",
     "text": [
      "  strategy  labeled_acc  testing_acc\n",
      "6        4     0.285926     0.275641\n",
      "Tue Aug 25 05:48:28 2020 ContextualBanditsActiveLearning query round: 8\n",
      "Strategy Chosen: RandomSampling\n"
     ]
    },
    {
     "name": "stderr",
     "output_type": "stream",
     "text": [
      "C:\\Users\\Wan Jing\\Documents\\libact-torch\\libact\\query_strategies\\random_sampling.py:86: UserWarning: To copy construct from a tensor, it is recommended to use sourceTensor.clone().detach() or sourceTensor.clone().detach().requires_grad_(True), rather than torch.tensor(sourceTensor).\n",
      "  ex = torch.tensor(self.dataset.data[self.queried_hist_[-1]][0]).to(self.device)\n",
      "C:\\Users\\Wan Jing\\Documents\\libact-torch\\libact\\query_strategies\\contextual_bandits_active_learning.py:180: UserWarning: To copy construct from a tensor, it is recommended to use sourceTensor.clone().detach() or sourceTensor.clone().detach().requires_grad_(True), rather than torch.tensor(sourceTensor).\n",
      "  ex = torch.tensor(self.dataset.data[self.queried_hist_[-1]][0]).to(self.device)\n",
      "C:\\Users\\Wan Jing\\Documents\\libact-torch\\libact\\query_strategies\\uncertainty_sampling.py:149: UserWarning: To copy construct from a tensor, it is recommended to use sourceTensor.clone().detach() or sourceTensor.clone().detach().requires_grad_(True), rather than torch.tensor(sourceTensor).\n",
      "  ex = torch.tensor(self.dataset.data[self.queried_hist_[-1]][0]).to(self.device)\n",
      "C:\\Users\\Wan Jing\\Documents\\libact-torch\\libact\\query_strategies\\representative_sampling.py:113: UserWarning: To copy construct from a tensor, it is recommended to use sourceTensor.clone().detach() or sourceTensor.clone().detach().requires_grad_(True), rather than torch.tensor(sourceTensor).\n",
      "  ex = torch.tensor(self.dataset.data[self.queried_hist_[-1]][0]).to(self.device)\n",
      "C:\\Users\\Wan Jing\\.conda\\envs\\deepCB\\lib\\site-packages\\sklearn\\metrics\\_classification.py:1221: UndefinedMetricWarning: Precision is ill-defined and being set to 0.0 in labels with no predicted samples. Use `zero_division` parameter to control this behavior.\n",
      "  _warn_prf(average, modifier, msg_start, len(result))\n"
     ]
    },
    {
     "name": "stdout",
     "output_type": "stream",
     "text": [
      "  strategy  labeled_acc  testing_acc\n",
      "7        0     0.286429     0.275641\n",
      "Tue Aug 25 05:48:32 2020 ContextualBanditsActiveLearning query round: 9\n",
      "Strategy Chosen: UncertaintySampling\n"
     ]
    },
    {
     "name": "stderr",
     "output_type": "stream",
     "text": [
      "C:\\Users\\Wan Jing\\Documents\\libact-torch\\libact\\query_strategies\\random_sampling.py:86: UserWarning: To copy construct from a tensor, it is recommended to use sourceTensor.clone().detach() or sourceTensor.clone().detach().requires_grad_(True), rather than torch.tensor(sourceTensor).\n",
      "  ex = torch.tensor(self.dataset.data[self.queried_hist_[-1]][0]).to(self.device)\n",
      "C:\\Users\\Wan Jing\\Documents\\libact-torch\\libact\\query_strategies\\contextual_bandits_active_learning.py:180: UserWarning: To copy construct from a tensor, it is recommended to use sourceTensor.clone().detach() or sourceTensor.clone().detach().requires_grad_(True), rather than torch.tensor(sourceTensor).\n",
      "  ex = torch.tensor(self.dataset.data[self.queried_hist_[-1]][0]).to(self.device)\n",
      "C:\\Users\\Wan Jing\\Documents\\libact-torch\\libact\\query_strategies\\uncertainty_sampling.py:149: UserWarning: To copy construct from a tensor, it is recommended to use sourceTensor.clone().detach() or sourceTensor.clone().detach().requires_grad_(True), rather than torch.tensor(sourceTensor).\n",
      "  ex = torch.tensor(self.dataset.data[self.queried_hist_[-1]][0]).to(self.device)\n",
      "C:\\Users\\Wan Jing\\Documents\\libact-torch\\libact\\query_strategies\\representative_sampling.py:113: UserWarning: To copy construct from a tensor, it is recommended to use sourceTensor.clone().detach() or sourceTensor.clone().detach().requires_grad_(True), rather than torch.tensor(sourceTensor).\n",
      "  ex = torch.tensor(self.dataset.data[self.queried_hist_[-1]][0]).to(self.device)\n",
      "C:\\Users\\Wan Jing\\.conda\\envs\\deepCB\\lib\\site-packages\\sklearn\\metrics\\_classification.py:1221: UndefinedMetricWarning: Precision is ill-defined and being set to 0.0 in labels with no predicted samples. Use `zero_division` parameter to control this behavior.\n",
      "  _warn_prf(average, modifier, msg_start, len(result))\n"
     ]
    },
    {
     "name": "stdout",
     "output_type": "stream",
     "text": [
      "  strategy  labeled_acc  testing_acc\n",
      "8        1     0.283448     0.275641\n",
      "Tue Aug 25 05:48:41 2020 ContextualBanditsActiveLearning query round: 10\n",
      "Strategy Chosen: UncertaintySampling\n"
     ]
    },
    {
     "name": "stderr",
     "output_type": "stream",
     "text": [
      "C:\\Users\\Wan Jing\\Documents\\libact-torch\\libact\\query_strategies\\random_sampling.py:86: UserWarning: To copy construct from a tensor, it is recommended to use sourceTensor.clone().detach() or sourceTensor.clone().detach().requires_grad_(True), rather than torch.tensor(sourceTensor).\n",
      "  ex = torch.tensor(self.dataset.data[self.queried_hist_[-1]][0]).to(self.device)\n",
      "C:\\Users\\Wan Jing\\Documents\\libact-torch\\libact\\query_strategies\\contextual_bandits_active_learning.py:180: UserWarning: To copy construct from a tensor, it is recommended to use sourceTensor.clone().detach() or sourceTensor.clone().detach().requires_grad_(True), rather than torch.tensor(sourceTensor).\n",
      "  ex = torch.tensor(self.dataset.data[self.queried_hist_[-1]][0]).to(self.device)\n",
      "C:\\Users\\Wan Jing\\Documents\\libact-torch\\libact\\query_strategies\\uncertainty_sampling.py:149: UserWarning: To copy construct from a tensor, it is recommended to use sourceTensor.clone().detach() or sourceTensor.clone().detach().requires_grad_(True), rather than torch.tensor(sourceTensor).\n",
      "  ex = torch.tensor(self.dataset.data[self.queried_hist_[-1]][0]).to(self.device)\n",
      "C:\\Users\\Wan Jing\\Documents\\libact-torch\\libact\\query_strategies\\representative_sampling.py:113: UserWarning: To copy construct from a tensor, it is recommended to use sourceTensor.clone().detach() or sourceTensor.clone().detach().requires_grad_(True), rather than torch.tensor(sourceTensor).\n",
      "  ex = torch.tensor(self.dataset.data[self.queried_hist_[-1]][0]).to(self.device)\n",
      "C:\\Users\\Wan Jing\\.conda\\envs\\deepCB\\lib\\site-packages\\sklearn\\metrics\\_classification.py:1221: UndefinedMetricWarning: Precision is ill-defined and being set to 0.0 in labels with no predicted samples. Use `zero_division` parameter to control this behavior.\n",
      "  _warn_prf(average, modifier, msg_start, len(result))\n"
     ]
    },
    {
     "name": "stdout",
     "output_type": "stream",
     "text": [
      "  strategy  labeled_acc  testing_acc\n",
      "9        2     0.283333     0.275641\n",
      "Tue Aug 25 05:48:50 2020 ContextualBanditsActiveLearning query round: 11\n",
      "Strategy Chosen: UncertaintySampling\n"
     ]
    },
    {
     "name": "stderr",
     "output_type": "stream",
     "text": [
      "C:\\Users\\Wan Jing\\Documents\\libact-torch\\libact\\query_strategies\\random_sampling.py:86: UserWarning: To copy construct from a tensor, it is recommended to use sourceTensor.clone().detach() or sourceTensor.clone().detach().requires_grad_(True), rather than torch.tensor(sourceTensor).\n",
      "  ex = torch.tensor(self.dataset.data[self.queried_hist_[-1]][0]).to(self.device)\n",
      "C:\\Users\\Wan Jing\\Documents\\libact-torch\\libact\\query_strategies\\contextual_bandits_active_learning.py:180: UserWarning: To copy construct from a tensor, it is recommended to use sourceTensor.clone().detach() or sourceTensor.clone().detach().requires_grad_(True), rather than torch.tensor(sourceTensor).\n",
      "  ex = torch.tensor(self.dataset.data[self.queried_hist_[-1]][0]).to(self.device)\n",
      "C:\\Users\\Wan Jing\\Documents\\libact-torch\\libact\\query_strategies\\uncertainty_sampling.py:149: UserWarning: To copy construct from a tensor, it is recommended to use sourceTensor.clone().detach() or sourceTensor.clone().detach().requires_grad_(True), rather than torch.tensor(sourceTensor).\n",
      "  ex = torch.tensor(self.dataset.data[self.queried_hist_[-1]][0]).to(self.device)\n",
      "C:\\Users\\Wan Jing\\Documents\\libact-torch\\libact\\query_strategies\\representative_sampling.py:113: UserWarning: To copy construct from a tensor, it is recommended to use sourceTensor.clone().detach() or sourceTensor.clone().detach().requires_grad_(True), rather than torch.tensor(sourceTensor).\n",
      "  ex = torch.tensor(self.dataset.data[self.queried_hist_[-1]][0]).to(self.device)\n",
      "C:\\Users\\Wan Jing\\.conda\\envs\\deepCB\\lib\\site-packages\\sklearn\\metrics\\_classification.py:1221: UndefinedMetricWarning: Precision is ill-defined and being set to 0.0 in labels with no predicted samples. Use `zero_division` parameter to control this behavior.\n",
      "  _warn_prf(average, modifier, msg_start, len(result))\n"
     ]
    },
    {
     "name": "stdout",
     "output_type": "stream",
     "text": [
      "   strategy  labeled_acc  testing_acc\n",
      "10        3     0.284516     0.275641\n",
      "Tue Aug 25 05:49:00 2020 ContextualBanditsActiveLearning query round: 12\n",
      "Strategy Chosen: RepresentativeSampling\n"
     ]
    },
    {
     "name": "stderr",
     "output_type": "stream",
     "text": [
      "C:\\Users\\Wan Jing\\Documents\\libact-torch\\libact\\query_strategies\\representative_sampling.py:147: UserWarning: To copy construct from a tensor, it is recommended to use sourceTensor.clone().detach() or sourceTensor.clone().detach().requires_grad_(True), rather than torch.tensor(sourceTensor).\n",
      "  x = torch.tensor(x).to(self.device)\n",
      "C:\\Users\\Wan Jing\\Documents\\libact-torch\\libact\\query_strategies\\random_sampling.py:86: UserWarning: To copy construct from a tensor, it is recommended to use sourceTensor.clone().detach() or sourceTensor.clone().detach().requires_grad_(True), rather than torch.tensor(sourceTensor).\n",
      "  ex = torch.tensor(self.dataset.data[self.queried_hist_[-1]][0]).to(self.device)\n",
      "C:\\Users\\Wan Jing\\Documents\\libact-torch\\libact\\query_strategies\\contextual_bandits_active_learning.py:180: UserWarning: To copy construct from a tensor, it is recommended to use sourceTensor.clone().detach() or sourceTensor.clone().detach().requires_grad_(True), rather than torch.tensor(sourceTensor).\n",
      "  ex = torch.tensor(self.dataset.data[self.queried_hist_[-1]][0]).to(self.device)\n",
      "C:\\Users\\Wan Jing\\Documents\\libact-torch\\libact\\query_strategies\\uncertainty_sampling.py:149: UserWarning: To copy construct from a tensor, it is recommended to use sourceTensor.clone().detach() or sourceTensor.clone().detach().requires_grad_(True), rather than torch.tensor(sourceTensor).\n",
      "  ex = torch.tensor(self.dataset.data[self.queried_hist_[-1]][0]).to(self.device)\n",
      "C:\\Users\\Wan Jing\\Documents\\libact-torch\\libact\\query_strategies\\representative_sampling.py:113: UserWarning: To copy construct from a tensor, it is recommended to use sourceTensor.clone().detach() or sourceTensor.clone().detach().requires_grad_(True), rather than torch.tensor(sourceTensor).\n",
      "  ex = torch.tensor(self.dataset.data[self.queried_hist_[-1]][0]).to(self.device)\n",
      "C:\\Users\\Wan Jing\\.conda\\envs\\deepCB\\lib\\site-packages\\sklearn\\metrics\\_classification.py:1221: UndefinedMetricWarning: Precision is ill-defined and being set to 0.0 in labels with no predicted samples. Use `zero_division` parameter to control this behavior.\n",
      "  _warn_prf(average, modifier, msg_start, len(result))\n"
     ]
    },
    {
     "name": "stdout",
     "output_type": "stream",
     "text": [
      "   strategy  labeled_acc  testing_acc\n",
      "11        4     0.283125     0.275641\n",
      "Tue Aug 25 05:49:12 2020 ContextualBanditsActiveLearning query round: 13\n",
      "Strategy Chosen: RandomSampling\n"
     ]
    },
    {
     "name": "stderr",
     "output_type": "stream",
     "text": [
      "C:\\Users\\Wan Jing\\Documents\\libact-torch\\libact\\query_strategies\\random_sampling.py:86: UserWarning: To copy construct from a tensor, it is recommended to use sourceTensor.clone().detach() or sourceTensor.clone().detach().requires_grad_(True), rather than torch.tensor(sourceTensor).\n",
      "  ex = torch.tensor(self.dataset.data[self.queried_hist_[-1]][0]).to(self.device)\n",
      "C:\\Users\\Wan Jing\\Documents\\libact-torch\\libact\\query_strategies\\contextual_bandits_active_learning.py:180: UserWarning: To copy construct from a tensor, it is recommended to use sourceTensor.clone().detach() or sourceTensor.clone().detach().requires_grad_(True), rather than torch.tensor(sourceTensor).\n",
      "  ex = torch.tensor(self.dataset.data[self.queried_hist_[-1]][0]).to(self.device)\n",
      "C:\\Users\\Wan Jing\\Documents\\libact-torch\\libact\\query_strategies\\uncertainty_sampling.py:149: UserWarning: To copy construct from a tensor, it is recommended to use sourceTensor.clone().detach() or sourceTensor.clone().detach().requires_grad_(True), rather than torch.tensor(sourceTensor).\n",
      "  ex = torch.tensor(self.dataset.data[self.queried_hist_[-1]][0]).to(self.device)\n",
      "C:\\Users\\Wan Jing\\Documents\\libact-torch\\libact\\query_strategies\\representative_sampling.py:113: UserWarning: To copy construct from a tensor, it is recommended to use sourceTensor.clone().detach() or sourceTensor.clone().detach().requires_grad_(True), rather than torch.tensor(sourceTensor).\n",
      "  ex = torch.tensor(self.dataset.data[self.queried_hist_[-1]][0]).to(self.device)\n",
      "C:\\Users\\Wan Jing\\.conda\\envs\\deepCB\\lib\\site-packages\\sklearn\\metrics\\_classification.py:1221: UndefinedMetricWarning: Precision is ill-defined and being set to 0.0 in labels with no predicted samples. Use `zero_division` parameter to control this behavior.\n",
      "  _warn_prf(average, modifier, msg_start, len(result))\n"
     ]
    },
    {
     "name": "stdout",
     "output_type": "stream",
     "text": [
      "   strategy  labeled_acc  testing_acc\n",
      "12        0     0.283636     0.275641\n",
      "Tue Aug 25 05:49:17 2020 ContextualBanditsActiveLearning query round: 14\n",
      "Strategy Chosen: UncertaintySampling\n"
     ]
    },
    {
     "name": "stderr",
     "output_type": "stream",
     "text": [
      "C:\\Users\\Wan Jing\\Documents\\libact-torch\\libact\\query_strategies\\random_sampling.py:86: UserWarning: To copy construct from a tensor, it is recommended to use sourceTensor.clone().detach() or sourceTensor.clone().detach().requires_grad_(True), rather than torch.tensor(sourceTensor).\n",
      "  ex = torch.tensor(self.dataset.data[self.queried_hist_[-1]][0]).to(self.device)\n",
      "C:\\Users\\Wan Jing\\Documents\\libact-torch\\libact\\query_strategies\\contextual_bandits_active_learning.py:180: UserWarning: To copy construct from a tensor, it is recommended to use sourceTensor.clone().detach() or sourceTensor.clone().detach().requires_grad_(True), rather than torch.tensor(sourceTensor).\n",
      "  ex = torch.tensor(self.dataset.data[self.queried_hist_[-1]][0]).to(self.device)\n",
      "C:\\Users\\Wan Jing\\Documents\\libact-torch\\libact\\query_strategies\\uncertainty_sampling.py:149: UserWarning: To copy construct from a tensor, it is recommended to use sourceTensor.clone().detach() or sourceTensor.clone().detach().requires_grad_(True), rather than torch.tensor(sourceTensor).\n",
      "  ex = torch.tensor(self.dataset.data[self.queried_hist_[-1]][0]).to(self.device)\n",
      "C:\\Users\\Wan Jing\\Documents\\libact-torch\\libact\\query_strategies\\representative_sampling.py:113: UserWarning: To copy construct from a tensor, it is recommended to use sourceTensor.clone().detach() or sourceTensor.clone().detach().requires_grad_(True), rather than torch.tensor(sourceTensor).\n",
      "  ex = torch.tensor(self.dataset.data[self.queried_hist_[-1]][0]).to(self.device)\n",
      "C:\\Users\\Wan Jing\\.conda\\envs\\deepCB\\lib\\site-packages\\sklearn\\metrics\\_classification.py:1221: UndefinedMetricWarning: Precision is ill-defined and being set to 0.0 in labels with no predicted samples. Use `zero_division` parameter to control this behavior.\n",
      "  _warn_prf(average, modifier, msg_start, len(result))\n"
     ]
    },
    {
     "name": "stdout",
     "output_type": "stream",
     "text": [
      "   strategy  labeled_acc  testing_acc\n",
      "13        1     0.280588     0.275641\n",
      "Tue Aug 25 05:49:26 2020 ContextualBanditsActiveLearning query round: 15\n",
      "Strategy Chosen: UncertaintySampling\n"
     ]
    },
    {
     "name": "stderr",
     "output_type": "stream",
     "text": [
      "C:\\Users\\Wan Jing\\Documents\\libact-torch\\libact\\query_strategies\\random_sampling.py:86: UserWarning: To copy construct from a tensor, it is recommended to use sourceTensor.clone().detach() or sourceTensor.clone().detach().requires_grad_(True), rather than torch.tensor(sourceTensor).\n",
      "  ex = torch.tensor(self.dataset.data[self.queried_hist_[-1]][0]).to(self.device)\n",
      "C:\\Users\\Wan Jing\\Documents\\libact-torch\\libact\\query_strategies\\contextual_bandits_active_learning.py:180: UserWarning: To copy construct from a tensor, it is recommended to use sourceTensor.clone().detach() or sourceTensor.clone().detach().requires_grad_(True), rather than torch.tensor(sourceTensor).\n",
      "  ex = torch.tensor(self.dataset.data[self.queried_hist_[-1]][0]).to(self.device)\n",
      "C:\\Users\\Wan Jing\\Documents\\libact-torch\\libact\\query_strategies\\uncertainty_sampling.py:149: UserWarning: To copy construct from a tensor, it is recommended to use sourceTensor.clone().detach() or sourceTensor.clone().detach().requires_grad_(True), rather than torch.tensor(sourceTensor).\n",
      "  ex = torch.tensor(self.dataset.data[self.queried_hist_[-1]][0]).to(self.device)\n",
      "C:\\Users\\Wan Jing\\Documents\\libact-torch\\libact\\query_strategies\\representative_sampling.py:113: UserWarning: To copy construct from a tensor, it is recommended to use sourceTensor.clone().detach() or sourceTensor.clone().detach().requires_grad_(True), rather than torch.tensor(sourceTensor).\n",
      "  ex = torch.tensor(self.dataset.data[self.queried_hist_[-1]][0]).to(self.device)\n",
      "C:\\Users\\Wan Jing\\.conda\\envs\\deepCB\\lib\\site-packages\\sklearn\\metrics\\_classification.py:1221: UndefinedMetricWarning: Precision is ill-defined and being set to 0.0 in labels with no predicted samples. Use `zero_division` parameter to control this behavior.\n",
      "  _warn_prf(average, modifier, msg_start, len(result))\n"
     ]
    },
    {
     "name": "stdout",
     "output_type": "stream",
     "text": [
      "   strategy  labeled_acc  testing_acc\n",
      "14        2     0.278286     0.275641\n",
      "Tue Aug 25 05:49:36 2020 ContextualBanditsActiveLearning query round: 16\n",
      "Strategy Chosen: UncertaintySampling\n"
     ]
    },
    {
     "name": "stderr",
     "output_type": "stream",
     "text": [
      "C:\\Users\\Wan Jing\\Documents\\libact-torch\\libact\\query_strategies\\random_sampling.py:86: UserWarning: To copy construct from a tensor, it is recommended to use sourceTensor.clone().detach() or sourceTensor.clone().detach().requires_grad_(True), rather than torch.tensor(sourceTensor).\n",
      "  ex = torch.tensor(self.dataset.data[self.queried_hist_[-1]][0]).to(self.device)\n",
      "C:\\Users\\Wan Jing\\Documents\\libact-torch\\libact\\query_strategies\\contextual_bandits_active_learning.py:180: UserWarning: To copy construct from a tensor, it is recommended to use sourceTensor.clone().detach() or sourceTensor.clone().detach().requires_grad_(True), rather than torch.tensor(sourceTensor).\n",
      "  ex = torch.tensor(self.dataset.data[self.queried_hist_[-1]][0]).to(self.device)\n",
      "C:\\Users\\Wan Jing\\Documents\\libact-torch\\libact\\query_strategies\\uncertainty_sampling.py:149: UserWarning: To copy construct from a tensor, it is recommended to use sourceTensor.clone().detach() or sourceTensor.clone().detach().requires_grad_(True), rather than torch.tensor(sourceTensor).\n",
      "  ex = torch.tensor(self.dataset.data[self.queried_hist_[-1]][0]).to(self.device)\n",
      "C:\\Users\\Wan Jing\\Documents\\libact-torch\\libact\\query_strategies\\representative_sampling.py:113: UserWarning: To copy construct from a tensor, it is recommended to use sourceTensor.clone().detach() or sourceTensor.clone().detach().requires_grad_(True), rather than torch.tensor(sourceTensor).\n",
      "  ex = torch.tensor(self.dataset.data[self.queried_hist_[-1]][0]).to(self.device)\n",
      "C:\\Users\\Wan Jing\\.conda\\envs\\deepCB\\lib\\site-packages\\sklearn\\metrics\\_classification.py:1221: UndefinedMetricWarning: Precision is ill-defined and being set to 0.0 in labels with no predicted samples. Use `zero_division` parameter to control this behavior.\n",
      "  _warn_prf(average, modifier, msg_start, len(result))\n"
     ]
    },
    {
     "name": "stdout",
     "output_type": "stream",
     "text": [
      "   strategy  labeled_acc  testing_acc\n",
      "15        3     0.276111     0.275641\n",
      "Tue Aug 25 05:49:45 2020 ContextualBanditsActiveLearning query round: 17\n",
      "Strategy Chosen: RepresentativeSampling\n"
     ]
    },
    {
     "name": "stderr",
     "output_type": "stream",
     "text": [
      "C:\\Users\\Wan Jing\\Documents\\libact-torch\\libact\\query_strategies\\representative_sampling.py:147: UserWarning: To copy construct from a tensor, it is recommended to use sourceTensor.clone().detach() or sourceTensor.clone().detach().requires_grad_(True), rather than torch.tensor(sourceTensor).\n",
      "  x = torch.tensor(x).to(self.device)\n",
      "C:\\Users\\Wan Jing\\Documents\\libact-torch\\libact\\query_strategies\\random_sampling.py:86: UserWarning: To copy construct from a tensor, it is recommended to use sourceTensor.clone().detach() or sourceTensor.clone().detach().requires_grad_(True), rather than torch.tensor(sourceTensor).\n",
      "  ex = torch.tensor(self.dataset.data[self.queried_hist_[-1]][0]).to(self.device)\n",
      "C:\\Users\\Wan Jing\\Documents\\libact-torch\\libact\\query_strategies\\contextual_bandits_active_learning.py:180: UserWarning: To copy construct from a tensor, it is recommended to use sourceTensor.clone().detach() or sourceTensor.clone().detach().requires_grad_(True), rather than torch.tensor(sourceTensor).\n",
      "  ex = torch.tensor(self.dataset.data[self.queried_hist_[-1]][0]).to(self.device)\n",
      "C:\\Users\\Wan Jing\\Documents\\libact-torch\\libact\\query_strategies\\uncertainty_sampling.py:149: UserWarning: To copy construct from a tensor, it is recommended to use sourceTensor.clone().detach() or sourceTensor.clone().detach().requires_grad_(True), rather than torch.tensor(sourceTensor).\n",
      "  ex = torch.tensor(self.dataset.data[self.queried_hist_[-1]][0]).to(self.device)\n",
      "C:\\Users\\Wan Jing\\Documents\\libact-torch\\libact\\query_strategies\\representative_sampling.py:113: UserWarning: To copy construct from a tensor, it is recommended to use sourceTensor.clone().detach() or sourceTensor.clone().detach().requires_grad_(True), rather than torch.tensor(sourceTensor).\n",
      "  ex = torch.tensor(self.dataset.data[self.queried_hist_[-1]][0]).to(self.device)\n",
      "C:\\Users\\Wan Jing\\.conda\\envs\\deepCB\\lib\\site-packages\\sklearn\\metrics\\_classification.py:1221: UndefinedMetricWarning: Precision is ill-defined and being set to 0.0 in labels with no predicted samples. Use `zero_division` parameter to control this behavior.\n",
      "  _warn_prf(average, modifier, msg_start, len(result))\n"
     ]
    },
    {
     "name": "stdout",
     "output_type": "stream",
     "text": [
      "   strategy  labeled_acc  testing_acc\n",
      "16        4     0.278378     0.275641\n",
      "Tue Aug 25 05:49:57 2020 ContextualBanditsActiveLearning query round: 18\n",
      "Strategy Chosen: RandomSampling\n"
     ]
    },
    {
     "name": "stderr",
     "output_type": "stream",
     "text": [
      "C:\\Users\\Wan Jing\\Documents\\libact-torch\\libact\\query_strategies\\random_sampling.py:86: UserWarning: To copy construct from a tensor, it is recommended to use sourceTensor.clone().detach() or sourceTensor.clone().detach().requires_grad_(True), rather than torch.tensor(sourceTensor).\n",
      "  ex = torch.tensor(self.dataset.data[self.queried_hist_[-1]][0]).to(self.device)\n",
      "C:\\Users\\Wan Jing\\Documents\\libact-torch\\libact\\query_strategies\\contextual_bandits_active_learning.py:180: UserWarning: To copy construct from a tensor, it is recommended to use sourceTensor.clone().detach() or sourceTensor.clone().detach().requires_grad_(True), rather than torch.tensor(sourceTensor).\n",
      "  ex = torch.tensor(self.dataset.data[self.queried_hist_[-1]][0]).to(self.device)\n",
      "C:\\Users\\Wan Jing\\Documents\\libact-torch\\libact\\query_strategies\\uncertainty_sampling.py:149: UserWarning: To copy construct from a tensor, it is recommended to use sourceTensor.clone().detach() or sourceTensor.clone().detach().requires_grad_(True), rather than torch.tensor(sourceTensor).\n",
      "  ex = torch.tensor(self.dataset.data[self.queried_hist_[-1]][0]).to(self.device)\n",
      "C:\\Users\\Wan Jing\\Documents\\libact-torch\\libact\\query_strategies\\representative_sampling.py:113: UserWarning: To copy construct from a tensor, it is recommended to use sourceTensor.clone().detach() or sourceTensor.clone().detach().requires_grad_(True), rather than torch.tensor(sourceTensor).\n",
      "  ex = torch.tensor(self.dataset.data[self.queried_hist_[-1]][0]).to(self.device)\n",
      "C:\\Users\\Wan Jing\\.conda\\envs\\deepCB\\lib\\site-packages\\sklearn\\metrics\\_classification.py:1221: UndefinedMetricWarning: Precision is ill-defined and being set to 0.0 in labels with no predicted samples. Use `zero_division` parameter to control this behavior.\n",
      "  _warn_prf(average, modifier, msg_start, len(result))\n"
     ]
    },
    {
     "name": "stdout",
     "output_type": "stream",
     "text": [
      "   strategy  labeled_acc  testing_acc\n",
      "17        0     0.279474     0.275641\n",
      "Tue Aug 25 05:50:03 2020 ContextualBanditsActiveLearning query round: 19\n",
      "Strategy Chosen: UncertaintySampling\n"
     ]
    },
    {
     "name": "stderr",
     "output_type": "stream",
     "text": [
      "C:\\Users\\Wan Jing\\Documents\\libact-torch\\libact\\query_strategies\\random_sampling.py:86: UserWarning: To copy construct from a tensor, it is recommended to use sourceTensor.clone().detach() or sourceTensor.clone().detach().requires_grad_(True), rather than torch.tensor(sourceTensor).\n",
      "  ex = torch.tensor(self.dataset.data[self.queried_hist_[-1]][0]).to(self.device)\n",
      "C:\\Users\\Wan Jing\\Documents\\libact-torch\\libact\\query_strategies\\contextual_bandits_active_learning.py:180: UserWarning: To copy construct from a tensor, it is recommended to use sourceTensor.clone().detach() or sourceTensor.clone().detach().requires_grad_(True), rather than torch.tensor(sourceTensor).\n",
      "  ex = torch.tensor(self.dataset.data[self.queried_hist_[-1]][0]).to(self.device)\n",
      "C:\\Users\\Wan Jing\\Documents\\libact-torch\\libact\\query_strategies\\uncertainty_sampling.py:149: UserWarning: To copy construct from a tensor, it is recommended to use sourceTensor.clone().detach() or sourceTensor.clone().detach().requires_grad_(True), rather than torch.tensor(sourceTensor).\n",
      "  ex = torch.tensor(self.dataset.data[self.queried_hist_[-1]][0]).to(self.device)\n",
      "C:\\Users\\Wan Jing\\Documents\\libact-torch\\libact\\query_strategies\\representative_sampling.py:113: UserWarning: To copy construct from a tensor, it is recommended to use sourceTensor.clone().detach() or sourceTensor.clone().detach().requires_grad_(True), rather than torch.tensor(sourceTensor).\n",
      "  ex = torch.tensor(self.dataset.data[self.queried_hist_[-1]][0]).to(self.device)\n",
      "C:\\Users\\Wan Jing\\.conda\\envs\\deepCB\\lib\\site-packages\\sklearn\\metrics\\_classification.py:1221: UndefinedMetricWarning: Precision is ill-defined and being set to 0.0 in labels with no predicted samples. Use `zero_division` parameter to control this behavior.\n",
      "  _warn_prf(average, modifier, msg_start, len(result))\n"
     ]
    },
    {
     "name": "stdout",
     "output_type": "stream",
     "text": [
      "   strategy  labeled_acc  testing_acc\n",
      "18        1     0.278974     0.275641\n",
      "Tue Aug 25 05:50:12 2020 ContextualBanditsActiveLearning query round: 20\n",
      "Strategy Chosen: UncertaintySampling\n"
     ]
    },
    {
     "name": "stderr",
     "output_type": "stream",
     "text": [
      "C:\\Users\\Wan Jing\\Documents\\libact-torch\\libact\\query_strategies\\random_sampling.py:86: UserWarning: To copy construct from a tensor, it is recommended to use sourceTensor.clone().detach() or sourceTensor.clone().detach().requires_grad_(True), rather than torch.tensor(sourceTensor).\n",
      "  ex = torch.tensor(self.dataset.data[self.queried_hist_[-1]][0]).to(self.device)\n",
      "C:\\Users\\Wan Jing\\Documents\\libact-torch\\libact\\query_strategies\\contextual_bandits_active_learning.py:180: UserWarning: To copy construct from a tensor, it is recommended to use sourceTensor.clone().detach() or sourceTensor.clone().detach().requires_grad_(True), rather than torch.tensor(sourceTensor).\n",
      "  ex = torch.tensor(self.dataset.data[self.queried_hist_[-1]][0]).to(self.device)\n",
      "C:\\Users\\Wan Jing\\Documents\\libact-torch\\libact\\query_strategies\\uncertainty_sampling.py:149: UserWarning: To copy construct from a tensor, it is recommended to use sourceTensor.clone().detach() or sourceTensor.clone().detach().requires_grad_(True), rather than torch.tensor(sourceTensor).\n",
      "  ex = torch.tensor(self.dataset.data[self.queried_hist_[-1]][0]).to(self.device)\n",
      "C:\\Users\\Wan Jing\\Documents\\libact-torch\\libact\\query_strategies\\representative_sampling.py:113: UserWarning: To copy construct from a tensor, it is recommended to use sourceTensor.clone().detach() or sourceTensor.clone().detach().requires_grad_(True), rather than torch.tensor(sourceTensor).\n",
      "  ex = torch.tensor(self.dataset.data[self.queried_hist_[-1]][0]).to(self.device)\n",
      "C:\\Users\\Wan Jing\\.conda\\envs\\deepCB\\lib\\site-packages\\sklearn\\metrics\\_classification.py:1221: UndefinedMetricWarning: Precision is ill-defined and being set to 0.0 in labels with no predicted samples. Use `zero_division` parameter to control this behavior.\n",
      "  _warn_prf(average, modifier, msg_start, len(result))\n"
     ]
    },
    {
     "name": "stdout",
     "output_type": "stream",
     "text": [
      "   strategy  labeled_acc  testing_acc\n",
      "19        2       0.2785      0.27381\n",
      "Tue Aug 25 05:50:22 2020 ContextualBanditsActiveLearning query round: 21\n",
      "Strategy Chosen: UncertaintySampling\n"
     ]
    },
    {
     "name": "stderr",
     "output_type": "stream",
     "text": [
      "C:\\Users\\Wan Jing\\Documents\\libact-torch\\libact\\query_strategies\\random_sampling.py:86: UserWarning: To copy construct from a tensor, it is recommended to use sourceTensor.clone().detach() or sourceTensor.clone().detach().requires_grad_(True), rather than torch.tensor(sourceTensor).\n",
      "  ex = torch.tensor(self.dataset.data[self.queried_hist_[-1]][0]).to(self.device)\n",
      "C:\\Users\\Wan Jing\\Documents\\libact-torch\\libact\\query_strategies\\contextual_bandits_active_learning.py:180: UserWarning: To copy construct from a tensor, it is recommended to use sourceTensor.clone().detach() or sourceTensor.clone().detach().requires_grad_(True), rather than torch.tensor(sourceTensor).\n",
      "  ex = torch.tensor(self.dataset.data[self.queried_hist_[-1]][0]).to(self.device)\n",
      "C:\\Users\\Wan Jing\\Documents\\libact-torch\\libact\\query_strategies\\uncertainty_sampling.py:149: UserWarning: To copy construct from a tensor, it is recommended to use sourceTensor.clone().detach() or sourceTensor.clone().detach().requires_grad_(True), rather than torch.tensor(sourceTensor).\n",
      "  ex = torch.tensor(self.dataset.data[self.queried_hist_[-1]][0]).to(self.device)\n",
      "C:\\Users\\Wan Jing\\Documents\\libact-torch\\libact\\query_strategies\\representative_sampling.py:113: UserWarning: To copy construct from a tensor, it is recommended to use sourceTensor.clone().detach() or sourceTensor.clone().detach().requires_grad_(True), rather than torch.tensor(sourceTensor).\n",
      "  ex = torch.tensor(self.dataset.data[self.queried_hist_[-1]][0]).to(self.device)\n",
      "C:\\Users\\Wan Jing\\.conda\\envs\\deepCB\\lib\\site-packages\\sklearn\\metrics\\_classification.py:1221: UndefinedMetricWarning: Precision is ill-defined and being set to 0.0 in labels with no predicted samples. Use `zero_division` parameter to control this behavior.\n",
      "  _warn_prf(average, modifier, msg_start, len(result))\n"
     ]
    },
    {
     "name": "stdout",
     "output_type": "stream",
     "text": [
      "   strategy  labeled_acc  testing_acc\n",
      "20        3     0.276585     0.275336\n",
      "Tue Aug 25 05:50:32 2020 ContextualBanditsActiveLearning query round: 22\n",
      "Strategy Chosen: RepresentativeSampling\n"
     ]
    },
    {
     "name": "stderr",
     "output_type": "stream",
     "text": [
      "C:\\Users\\Wan Jing\\Documents\\libact-torch\\libact\\query_strategies\\representative_sampling.py:147: UserWarning: To copy construct from a tensor, it is recommended to use sourceTensor.clone().detach() or sourceTensor.clone().detach().requires_grad_(True), rather than torch.tensor(sourceTensor).\n",
      "  x = torch.tensor(x).to(self.device)\n",
      "C:\\Users\\Wan Jing\\Documents\\libact-torch\\libact\\query_strategies\\random_sampling.py:86: UserWarning: To copy construct from a tensor, it is recommended to use sourceTensor.clone().detach() or sourceTensor.clone().detach().requires_grad_(True), rather than torch.tensor(sourceTensor).\n",
      "  ex = torch.tensor(self.dataset.data[self.queried_hist_[-1]][0]).to(self.device)\n",
      "C:\\Users\\Wan Jing\\Documents\\libact-torch\\libact\\query_strategies\\contextual_bandits_active_learning.py:180: UserWarning: To copy construct from a tensor, it is recommended to use sourceTensor.clone().detach() or sourceTensor.clone().detach().requires_grad_(True), rather than torch.tensor(sourceTensor).\n",
      "  ex = torch.tensor(self.dataset.data[self.queried_hist_[-1]][0]).to(self.device)\n",
      "C:\\Users\\Wan Jing\\Documents\\libact-torch\\libact\\query_strategies\\uncertainty_sampling.py:149: UserWarning: To copy construct from a tensor, it is recommended to use sourceTensor.clone().detach() or sourceTensor.clone().detach().requires_grad_(True), rather than torch.tensor(sourceTensor).\n",
      "  ex = torch.tensor(self.dataset.data[self.queried_hist_[-1]][0]).to(self.device)\n",
      "C:\\Users\\Wan Jing\\Documents\\libact-torch\\libact\\query_strategies\\representative_sampling.py:113: UserWarning: To copy construct from a tensor, it is recommended to use sourceTensor.clone().detach() or sourceTensor.clone().detach().requires_grad_(True), rather than torch.tensor(sourceTensor).\n",
      "  ex = torch.tensor(self.dataset.data[self.queried_hist_[-1]][0]).to(self.device)\n",
      "C:\\Users\\Wan Jing\\.conda\\envs\\deepCB\\lib\\site-packages\\sklearn\\metrics\\_classification.py:1221: UndefinedMetricWarning: Precision is ill-defined and being set to 0.0 in labels with no predicted samples. Use `zero_division` parameter to control this behavior.\n",
      "  _warn_prf(average, modifier, msg_start, len(result))\n"
     ]
    },
    {
     "name": "stdout",
     "output_type": "stream",
     "text": [
      "   strategy  labeled_acc  testing_acc\n",
      "21        4      0.27381     0.275031\n",
      "Tue Aug 25 05:50:45 2020 ContextualBanditsActiveLearning query round: 23\n",
      "Strategy Chosen: RepresentativeSampling\n"
     ]
    },
    {
     "name": "stderr",
     "output_type": "stream",
     "text": [
      "C:\\Users\\Wan Jing\\Documents\\libact-torch\\libact\\query_strategies\\representative_sampling.py:147: UserWarning: To copy construct from a tensor, it is recommended to use sourceTensor.clone().detach() or sourceTensor.clone().detach().requires_grad_(True), rather than torch.tensor(sourceTensor).\n",
      "  x = torch.tensor(x).to(self.device)\n",
      "C:\\Users\\Wan Jing\\Documents\\libact-torch\\libact\\query_strategies\\random_sampling.py:86: UserWarning: To copy construct from a tensor, it is recommended to use sourceTensor.clone().detach() or sourceTensor.clone().detach().requires_grad_(True), rather than torch.tensor(sourceTensor).\n",
      "  ex = torch.tensor(self.dataset.data[self.queried_hist_[-1]][0]).to(self.device)\n",
      "C:\\Users\\Wan Jing\\Documents\\libact-torch\\libact\\query_strategies\\contextual_bandits_active_learning.py:180: UserWarning: To copy construct from a tensor, it is recommended to use sourceTensor.clone().detach() or sourceTensor.clone().detach().requires_grad_(True), rather than torch.tensor(sourceTensor).\n",
      "  ex = torch.tensor(self.dataset.data[self.queried_hist_[-1]][0]).to(self.device)\n",
      "C:\\Users\\Wan Jing\\Documents\\libact-torch\\libact\\query_strategies\\uncertainty_sampling.py:149: UserWarning: To copy construct from a tensor, it is recommended to use sourceTensor.clone().detach() or sourceTensor.clone().detach().requires_grad_(True), rather than torch.tensor(sourceTensor).\n",
      "  ex = torch.tensor(self.dataset.data[self.queried_hist_[-1]][0]).to(self.device)\n",
      "C:\\Users\\Wan Jing\\Documents\\libact-torch\\libact\\query_strategies\\representative_sampling.py:113: UserWarning: To copy construct from a tensor, it is recommended to use sourceTensor.clone().detach() or sourceTensor.clone().detach().requires_grad_(True), rather than torch.tensor(sourceTensor).\n",
      "  ex = torch.tensor(self.dataset.data[self.queried_hist_[-1]][0]).to(self.device)\n",
      "C:\\Users\\Wan Jing\\.conda\\envs\\deepCB\\lib\\site-packages\\sklearn\\metrics\\_classification.py:1221: UndefinedMetricWarning: Precision is ill-defined and being set to 0.0 in labels with no predicted samples. Use `zero_division` parameter to control this behavior.\n",
      "  _warn_prf(average, modifier, msg_start, len(result))\n"
     ]
    },
    {
     "name": "stdout",
     "output_type": "stream",
     "text": [
      "   strategy  labeled_acc  testing_acc\n",
      "22        4     0.275349     0.275946\n",
      "Tue Aug 25 05:50:58 2020 ContextualBanditsActiveLearning query round: 24\n",
      "Strategy Chosen: RandomSampling\n"
     ]
    },
    {
     "name": "stderr",
     "output_type": "stream",
     "text": [
      "C:\\Users\\Wan Jing\\Documents\\libact-torch\\libact\\query_strategies\\random_sampling.py:86: UserWarning: To copy construct from a tensor, it is recommended to use sourceTensor.clone().detach() or sourceTensor.clone().detach().requires_grad_(True), rather than torch.tensor(sourceTensor).\n",
      "  ex = torch.tensor(self.dataset.data[self.queried_hist_[-1]][0]).to(self.device)\n",
      "C:\\Users\\Wan Jing\\Documents\\libact-torch\\libact\\query_strategies\\contextual_bandits_active_learning.py:180: UserWarning: To copy construct from a tensor, it is recommended to use sourceTensor.clone().detach() or sourceTensor.clone().detach().requires_grad_(True), rather than torch.tensor(sourceTensor).\n",
      "  ex = torch.tensor(self.dataset.data[self.queried_hist_[-1]][0]).to(self.device)\n",
      "C:\\Users\\Wan Jing\\Documents\\libact-torch\\libact\\query_strategies\\uncertainty_sampling.py:149: UserWarning: To copy construct from a tensor, it is recommended to use sourceTensor.clone().detach() or sourceTensor.clone().detach().requires_grad_(True), rather than torch.tensor(sourceTensor).\n",
      "  ex = torch.tensor(self.dataset.data[self.queried_hist_[-1]][0]).to(self.device)\n",
      "C:\\Users\\Wan Jing\\Documents\\libact-torch\\libact\\query_strategies\\representative_sampling.py:113: UserWarning: To copy construct from a tensor, it is recommended to use sourceTensor.clone().detach() or sourceTensor.clone().detach().requires_grad_(True), rather than torch.tensor(sourceTensor).\n",
      "  ex = torch.tensor(self.dataset.data[self.queried_hist_[-1]][0]).to(self.device)\n",
      "C:\\Users\\Wan Jing\\.conda\\envs\\deepCB\\lib\\site-packages\\sklearn\\metrics\\_classification.py:1221: UndefinedMetricWarning: Precision is ill-defined and being set to 0.0 in labels with no predicted samples. Use `zero_division` parameter to control this behavior.\n",
      "  _warn_prf(average, modifier, msg_start, len(result))\n"
     ]
    },
    {
     "name": "stdout",
     "output_type": "stream",
     "text": [
      "   strategy  labeled_acc  testing_acc\n",
      "23        0     0.272273     0.275641\n",
      "Tue Aug 25 05:51:03 2020 ContextualBanditsActiveLearning query round: 25\n",
      "Strategy Chosen: RandomSampling\n"
     ]
    },
    {
     "name": "stderr",
     "output_type": "stream",
     "text": [
      "C:\\Users\\Wan Jing\\Documents\\libact-torch\\libact\\query_strategies\\random_sampling.py:86: UserWarning: To copy construct from a tensor, it is recommended to use sourceTensor.clone().detach() or sourceTensor.clone().detach().requires_grad_(True), rather than torch.tensor(sourceTensor).\n",
      "  ex = torch.tensor(self.dataset.data[self.queried_hist_[-1]][0]).to(self.device)\n",
      "C:\\Users\\Wan Jing\\Documents\\libact-torch\\libact\\query_strategies\\contextual_bandits_active_learning.py:180: UserWarning: To copy construct from a tensor, it is recommended to use sourceTensor.clone().detach() or sourceTensor.clone().detach().requires_grad_(True), rather than torch.tensor(sourceTensor).\n",
      "  ex = torch.tensor(self.dataset.data[self.queried_hist_[-1]][0]).to(self.device)\n",
      "C:\\Users\\Wan Jing\\Documents\\libact-torch\\libact\\query_strategies\\uncertainty_sampling.py:149: UserWarning: To copy construct from a tensor, it is recommended to use sourceTensor.clone().detach() or sourceTensor.clone().detach().requires_grad_(True), rather than torch.tensor(sourceTensor).\n",
      "  ex = torch.tensor(self.dataset.data[self.queried_hist_[-1]][0]).to(self.device)\n",
      "C:\\Users\\Wan Jing\\Documents\\libact-torch\\libact\\query_strategies\\representative_sampling.py:113: UserWarning: To copy construct from a tensor, it is recommended to use sourceTensor.clone().detach() or sourceTensor.clone().detach().requires_grad_(True), rather than torch.tensor(sourceTensor).\n",
      "  ex = torch.tensor(self.dataset.data[self.queried_hist_[-1]][0]).to(self.device)\n",
      "C:\\Users\\Wan Jing\\.conda\\envs\\deepCB\\lib\\site-packages\\sklearn\\metrics\\_classification.py:1221: UndefinedMetricWarning: Precision is ill-defined and being set to 0.0 in labels with no predicted samples. Use `zero_division` parameter to control this behavior.\n",
      "  _warn_prf(average, modifier, msg_start, len(result))\n"
     ]
    },
    {
     "name": "stdout",
     "output_type": "stream",
     "text": [
      "   strategy  labeled_acc  testing_acc\n",
      "24        0     0.290222     0.276557\n",
      "Tue Aug 25 05:51:09 2020 ContextualBanditsActiveLearning query round: 26\n",
      "Strategy Chosen: RandomSampling\n"
     ]
    },
    {
     "name": "stderr",
     "output_type": "stream",
     "text": [
      "C:\\Users\\Wan Jing\\Documents\\libact-torch\\libact\\query_strategies\\random_sampling.py:86: UserWarning: To copy construct from a tensor, it is recommended to use sourceTensor.clone().detach() or sourceTensor.clone().detach().requires_grad_(True), rather than torch.tensor(sourceTensor).\n",
      "  ex = torch.tensor(self.dataset.data[self.queried_hist_[-1]][0]).to(self.device)\n",
      "C:\\Users\\Wan Jing\\Documents\\libact-torch\\libact\\query_strategies\\contextual_bandits_active_learning.py:180: UserWarning: To copy construct from a tensor, it is recommended to use sourceTensor.clone().detach() or sourceTensor.clone().detach().requires_grad_(True), rather than torch.tensor(sourceTensor).\n",
      "  ex = torch.tensor(self.dataset.data[self.queried_hist_[-1]][0]).to(self.device)\n",
      "C:\\Users\\Wan Jing\\Documents\\libact-torch\\libact\\query_strategies\\uncertainty_sampling.py:149: UserWarning: To copy construct from a tensor, it is recommended to use sourceTensor.clone().detach() or sourceTensor.clone().detach().requires_grad_(True), rather than torch.tensor(sourceTensor).\n",
      "  ex = torch.tensor(self.dataset.data[self.queried_hist_[-1]][0]).to(self.device)\n",
      "C:\\Users\\Wan Jing\\Documents\\libact-torch\\libact\\query_strategies\\representative_sampling.py:113: UserWarning: To copy construct from a tensor, it is recommended to use sourceTensor.clone().detach() or sourceTensor.clone().detach().requires_grad_(True), rather than torch.tensor(sourceTensor).\n",
      "  ex = torch.tensor(self.dataset.data[self.queried_hist_[-1]][0]).to(self.device)\n",
      "C:\\Users\\Wan Jing\\.conda\\envs\\deepCB\\lib\\site-packages\\sklearn\\metrics\\_classification.py:1221: UndefinedMetricWarning: Precision is ill-defined and being set to 0.0 in labels with no predicted samples. Use `zero_division` parameter to control this behavior.\n",
      "  _warn_prf(average, modifier, msg_start, len(result))\n"
     ]
    },
    {
     "name": "stdout",
     "output_type": "stream",
     "text": [
      "   strategy  labeled_acc  testing_acc\n",
      "25        0     0.293043     0.278999\n",
      "Tue Aug 25 05:51:15 2020 ContextualBanditsActiveLearning query round: 27\n",
      "Strategy Chosen: UncertaintySampling\n"
     ]
    },
    {
     "name": "stderr",
     "output_type": "stream",
     "text": [
      "C:\\Users\\Wan Jing\\Documents\\libact-torch\\libact\\query_strategies\\random_sampling.py:86: UserWarning: To copy construct from a tensor, it is recommended to use sourceTensor.clone().detach() or sourceTensor.clone().detach().requires_grad_(True), rather than torch.tensor(sourceTensor).\n",
      "  ex = torch.tensor(self.dataset.data[self.queried_hist_[-1]][0]).to(self.device)\n",
      "C:\\Users\\Wan Jing\\Documents\\libact-torch\\libact\\query_strategies\\contextual_bandits_active_learning.py:180: UserWarning: To copy construct from a tensor, it is recommended to use sourceTensor.clone().detach() or sourceTensor.clone().detach().requires_grad_(True), rather than torch.tensor(sourceTensor).\n",
      "  ex = torch.tensor(self.dataset.data[self.queried_hist_[-1]][0]).to(self.device)\n",
      "C:\\Users\\Wan Jing\\Documents\\libact-torch\\libact\\query_strategies\\uncertainty_sampling.py:149: UserWarning: To copy construct from a tensor, it is recommended to use sourceTensor.clone().detach() or sourceTensor.clone().detach().requires_grad_(True), rather than torch.tensor(sourceTensor).\n",
      "  ex = torch.tensor(self.dataset.data[self.queried_hist_[-1]][0]).to(self.device)\n",
      "C:\\Users\\Wan Jing\\Documents\\libact-torch\\libact\\query_strategies\\representative_sampling.py:113: UserWarning: To copy construct from a tensor, it is recommended to use sourceTensor.clone().detach() or sourceTensor.clone().detach().requires_grad_(True), rather than torch.tensor(sourceTensor).\n",
      "  ex = torch.tensor(self.dataset.data[self.queried_hist_[-1]][0]).to(self.device)\n",
      "C:\\Users\\Wan Jing\\.conda\\envs\\deepCB\\lib\\site-packages\\sklearn\\metrics\\_classification.py:1221: UndefinedMetricWarning: Precision is ill-defined and being set to 0.0 in labels with no predicted samples. Use `zero_division` parameter to control this behavior.\n",
      "  _warn_prf(average, modifier, msg_start, len(result))\n"
     ]
    },
    {
     "name": "stdout",
     "output_type": "stream",
     "text": [
      "   strategy  labeled_acc  testing_acc\n",
      "26        2     0.290213      0.28022\n",
      "Tue Aug 25 05:51:25 2020 ContextualBanditsActiveLearning query round: 28\n",
      "Strategy Chosen: UncertaintySampling\n"
     ]
    },
    {
     "name": "stderr",
     "output_type": "stream",
     "text": [
      "C:\\Users\\Wan Jing\\Documents\\libact-torch\\libact\\query_strategies\\random_sampling.py:86: UserWarning: To copy construct from a tensor, it is recommended to use sourceTensor.clone().detach() or sourceTensor.clone().detach().requires_grad_(True), rather than torch.tensor(sourceTensor).\n",
      "  ex = torch.tensor(self.dataset.data[self.queried_hist_[-1]][0]).to(self.device)\n",
      "C:\\Users\\Wan Jing\\Documents\\libact-torch\\libact\\query_strategies\\contextual_bandits_active_learning.py:180: UserWarning: To copy construct from a tensor, it is recommended to use sourceTensor.clone().detach() or sourceTensor.clone().detach().requires_grad_(True), rather than torch.tensor(sourceTensor).\n",
      "  ex = torch.tensor(self.dataset.data[self.queried_hist_[-1]][0]).to(self.device)\n",
      "C:\\Users\\Wan Jing\\Documents\\libact-torch\\libact\\query_strategies\\uncertainty_sampling.py:149: UserWarning: To copy construct from a tensor, it is recommended to use sourceTensor.clone().detach() or sourceTensor.clone().detach().requires_grad_(True), rather than torch.tensor(sourceTensor).\n",
      "  ex = torch.tensor(self.dataset.data[self.queried_hist_[-1]][0]).to(self.device)\n",
      "C:\\Users\\Wan Jing\\Documents\\libact-torch\\libact\\query_strategies\\representative_sampling.py:113: UserWarning: To copy construct from a tensor, it is recommended to use sourceTensor.clone().detach() or sourceTensor.clone().detach().requires_grad_(True), rather than torch.tensor(sourceTensor).\n",
      "  ex = torch.tensor(self.dataset.data[self.queried_hist_[-1]][0]).to(self.device)\n",
      "C:\\Users\\Wan Jing\\.conda\\envs\\deepCB\\lib\\site-packages\\sklearn\\metrics\\_classification.py:1221: UndefinedMetricWarning: Precision is ill-defined and being set to 0.0 in labels with no predicted samples. Use `zero_division` parameter to control this behavior.\n",
      "  _warn_prf(average, modifier, msg_start, len(result))\n"
     ]
    },
    {
     "name": "stdout",
     "output_type": "stream",
     "text": [
      "   strategy  labeled_acc  testing_acc\n",
      "27        3     0.299583     0.280525\n",
      "Tue Aug 25 05:51:35 2020 ContextualBanditsActiveLearning query round: 29\n",
      "Strategy Chosen: UncertaintySampling\n"
     ]
    },
    {
     "name": "stderr",
     "output_type": "stream",
     "text": [
      "C:\\Users\\Wan Jing\\Documents\\libact-torch\\libact\\query_strategies\\random_sampling.py:86: UserWarning: To copy construct from a tensor, it is recommended to use sourceTensor.clone().detach() or sourceTensor.clone().detach().requires_grad_(True), rather than torch.tensor(sourceTensor).\n",
      "  ex = torch.tensor(self.dataset.data[self.queried_hist_[-1]][0]).to(self.device)\n",
      "C:\\Users\\Wan Jing\\Documents\\libact-torch\\libact\\query_strategies\\contextual_bandits_active_learning.py:180: UserWarning: To copy construct from a tensor, it is recommended to use sourceTensor.clone().detach() or sourceTensor.clone().detach().requires_grad_(True), rather than torch.tensor(sourceTensor).\n",
      "  ex = torch.tensor(self.dataset.data[self.queried_hist_[-1]][0]).to(self.device)\n",
      "C:\\Users\\Wan Jing\\Documents\\libact-torch\\libact\\query_strategies\\uncertainty_sampling.py:149: UserWarning: To copy construct from a tensor, it is recommended to use sourceTensor.clone().detach() or sourceTensor.clone().detach().requires_grad_(True), rather than torch.tensor(sourceTensor).\n",
      "  ex = torch.tensor(self.dataset.data[self.queried_hist_[-1]][0]).to(self.device)\n",
      "C:\\Users\\Wan Jing\\Documents\\libact-torch\\libact\\query_strategies\\representative_sampling.py:113: UserWarning: To copy construct from a tensor, it is recommended to use sourceTensor.clone().detach() or sourceTensor.clone().detach().requires_grad_(True), rather than torch.tensor(sourceTensor).\n",
      "  ex = torch.tensor(self.dataset.data[self.queried_hist_[-1]][0]).to(self.device)\n",
      "C:\\Users\\Wan Jing\\.conda\\envs\\deepCB\\lib\\site-packages\\sklearn\\metrics\\_classification.py:1221: UndefinedMetricWarning: Precision is ill-defined and being set to 0.0 in labels with no predicted samples. Use `zero_division` parameter to control this behavior.\n",
      "  _warn_prf(average, modifier, msg_start, len(result))\n"
     ]
    },
    {
     "name": "stdout",
     "output_type": "stream",
     "text": [
      "   strategy  labeled_acc  testing_acc\n",
      "28        2     0.304898     0.278388\n",
      "Tue Aug 25 05:51:46 2020 ContextualBanditsActiveLearning query round: 30\n",
      "Strategy Chosen: UncertaintySampling\n"
     ]
    },
    {
     "name": "stderr",
     "output_type": "stream",
     "text": [
      "C:\\Users\\Wan Jing\\Documents\\libact-torch\\libact\\query_strategies\\random_sampling.py:86: UserWarning: To copy construct from a tensor, it is recommended to use sourceTensor.clone().detach() or sourceTensor.clone().detach().requires_grad_(True), rather than torch.tensor(sourceTensor).\n",
      "  ex = torch.tensor(self.dataset.data[self.queried_hist_[-1]][0]).to(self.device)\n",
      "C:\\Users\\Wan Jing\\Documents\\libact-torch\\libact\\query_strategies\\contextual_bandits_active_learning.py:180: UserWarning: To copy construct from a tensor, it is recommended to use sourceTensor.clone().detach() or sourceTensor.clone().detach().requires_grad_(True), rather than torch.tensor(sourceTensor).\n",
      "  ex = torch.tensor(self.dataset.data[self.queried_hist_[-1]][0]).to(self.device)\n",
      "C:\\Users\\Wan Jing\\Documents\\libact-torch\\libact\\query_strategies\\uncertainty_sampling.py:149: UserWarning: To copy construct from a tensor, it is recommended to use sourceTensor.clone().detach() or sourceTensor.clone().detach().requires_grad_(True), rather than torch.tensor(sourceTensor).\n",
      "  ex = torch.tensor(self.dataset.data[self.queried_hist_[-1]][0]).to(self.device)\n",
      "C:\\Users\\Wan Jing\\Documents\\libact-torch\\libact\\query_strategies\\representative_sampling.py:113: UserWarning: To copy construct from a tensor, it is recommended to use sourceTensor.clone().detach() or sourceTensor.clone().detach().requires_grad_(True), rather than torch.tensor(sourceTensor).\n",
      "  ex = torch.tensor(self.dataset.data[self.queried_hist_[-1]][0]).to(self.device)\n",
      "C:\\Users\\Wan Jing\\.conda\\envs\\deepCB\\lib\\site-packages\\sklearn\\metrics\\_classification.py:1221: UndefinedMetricWarning: Precision is ill-defined and being set to 0.0 in labels with no predicted samples. Use `zero_division` parameter to control this behavior.\n",
      "  _warn_prf(average, modifier, msg_start, len(result))\n"
     ]
    },
    {
     "name": "stdout",
     "output_type": "stream",
     "text": [
      "   strategy  labeled_acc  testing_acc\n",
      "29        3       0.3044      0.27442\n",
      "Tue Aug 25 05:51:56 2020 ContextualBanditsActiveLearning query round: 31\n",
      "Strategy Chosen: RepresentativeSampling\n"
     ]
    },
    {
     "name": "stderr",
     "output_type": "stream",
     "text": [
      "C:\\Users\\Wan Jing\\Documents\\libact-torch\\libact\\query_strategies\\representative_sampling.py:147: UserWarning: To copy construct from a tensor, it is recommended to use sourceTensor.clone().detach() or sourceTensor.clone().detach().requires_grad_(True), rather than torch.tensor(sourceTensor).\n",
      "  x = torch.tensor(x).to(self.device)\n",
      "C:\\Users\\Wan Jing\\Documents\\libact-torch\\libact\\query_strategies\\random_sampling.py:86: UserWarning: To copy construct from a tensor, it is recommended to use sourceTensor.clone().detach() or sourceTensor.clone().detach().requires_grad_(True), rather than torch.tensor(sourceTensor).\n",
      "  ex = torch.tensor(self.dataset.data[self.queried_hist_[-1]][0]).to(self.device)\n",
      "C:\\Users\\Wan Jing\\Documents\\libact-torch\\libact\\query_strategies\\contextual_bandits_active_learning.py:180: UserWarning: To copy construct from a tensor, it is recommended to use sourceTensor.clone().detach() or sourceTensor.clone().detach().requires_grad_(True), rather than torch.tensor(sourceTensor).\n",
      "  ex = torch.tensor(self.dataset.data[self.queried_hist_[-1]][0]).to(self.device)\n",
      "C:\\Users\\Wan Jing\\Documents\\libact-torch\\libact\\query_strategies\\uncertainty_sampling.py:149: UserWarning: To copy construct from a tensor, it is recommended to use sourceTensor.clone().detach() or sourceTensor.clone().detach().requires_grad_(True), rather than torch.tensor(sourceTensor).\n",
      "  ex = torch.tensor(self.dataset.data[self.queried_hist_[-1]][0]).to(self.device)\n",
      "C:\\Users\\Wan Jing\\Documents\\libact-torch\\libact\\query_strategies\\representative_sampling.py:113: UserWarning: To copy construct from a tensor, it is recommended to use sourceTensor.clone().detach() or sourceTensor.clone().detach().requires_grad_(True), rather than torch.tensor(sourceTensor).\n",
      "  ex = torch.tensor(self.dataset.data[self.queried_hist_[-1]][0]).to(self.device)\n",
      "C:\\Users\\Wan Jing\\.conda\\envs\\deepCB\\lib\\site-packages\\sklearn\\metrics\\_classification.py:1221: UndefinedMetricWarning: Precision is ill-defined and being set to 0.0 in labels with no predicted samples. Use `zero_division` parameter to control this behavior.\n",
      "  _warn_prf(average, modifier, msg_start, len(result))\n"
     ]
    },
    {
     "name": "stdout",
     "output_type": "stream",
     "text": [
      "   strategy  labeled_acc  testing_acc\n",
      "30        4     0.307843     0.278694\n",
      "Tue Aug 25 05:52:10 2020 ContextualBanditsActiveLearning query round: 32\n",
      "Strategy Chosen: UncertaintySampling\n"
     ]
    },
    {
     "name": "stderr",
     "output_type": "stream",
     "text": [
      "C:\\Users\\Wan Jing\\Documents\\libact-torch\\libact\\query_strategies\\random_sampling.py:86: UserWarning: To copy construct from a tensor, it is recommended to use sourceTensor.clone().detach() or sourceTensor.clone().detach().requires_grad_(True), rather than torch.tensor(sourceTensor).\n",
      "  ex = torch.tensor(self.dataset.data[self.queried_hist_[-1]][0]).to(self.device)\n",
      "C:\\Users\\Wan Jing\\Documents\\libact-torch\\libact\\query_strategies\\contextual_bandits_active_learning.py:180: UserWarning: To copy construct from a tensor, it is recommended to use sourceTensor.clone().detach() or sourceTensor.clone().detach().requires_grad_(True), rather than torch.tensor(sourceTensor).\n",
      "  ex = torch.tensor(self.dataset.data[self.queried_hist_[-1]][0]).to(self.device)\n",
      "C:\\Users\\Wan Jing\\Documents\\libact-torch\\libact\\query_strategies\\uncertainty_sampling.py:149: UserWarning: To copy construct from a tensor, it is recommended to use sourceTensor.clone().detach() or sourceTensor.clone().detach().requires_grad_(True), rather than torch.tensor(sourceTensor).\n",
      "  ex = torch.tensor(self.dataset.data[self.queried_hist_[-1]][0]).to(self.device)\n",
      "C:\\Users\\Wan Jing\\Documents\\libact-torch\\libact\\query_strategies\\representative_sampling.py:113: UserWarning: To copy construct from a tensor, it is recommended to use sourceTensor.clone().detach() or sourceTensor.clone().detach().requires_grad_(True), rather than torch.tensor(sourceTensor).\n",
      "  ex = torch.tensor(self.dataset.data[self.queried_hist_[-1]][0]).to(self.device)\n",
      "C:\\Users\\Wan Jing\\.conda\\envs\\deepCB\\lib\\site-packages\\sklearn\\metrics\\_classification.py:1221: UndefinedMetricWarning: Precision is ill-defined and being set to 0.0 in labels with no predicted samples. Use `zero_division` parameter to control this behavior.\n",
      "  _warn_prf(average, modifier, msg_start, len(result))\n"
     ]
    },
    {
     "name": "stdout",
     "output_type": "stream",
     "text": [
      "   strategy  labeled_acc  testing_acc\n",
      "31        2     0.298077     0.276862\n",
      "Tue Aug 25 05:52:20 2020 ContextualBanditsActiveLearning query round: 33\n",
      "Strategy Chosen: RandomSampling\n"
     ]
    },
    {
     "name": "stderr",
     "output_type": "stream",
     "text": [
      "C:\\Users\\Wan Jing\\Documents\\libact-torch\\libact\\query_strategies\\random_sampling.py:86: UserWarning: To copy construct from a tensor, it is recommended to use sourceTensor.clone().detach() or sourceTensor.clone().detach().requires_grad_(True), rather than torch.tensor(sourceTensor).\n",
      "  ex = torch.tensor(self.dataset.data[self.queried_hist_[-1]][0]).to(self.device)\n",
      "C:\\Users\\Wan Jing\\Documents\\libact-torch\\libact\\query_strategies\\contextual_bandits_active_learning.py:180: UserWarning: To copy construct from a tensor, it is recommended to use sourceTensor.clone().detach() or sourceTensor.clone().detach().requires_grad_(True), rather than torch.tensor(sourceTensor).\n",
      "  ex = torch.tensor(self.dataset.data[self.queried_hist_[-1]][0]).to(self.device)\n",
      "C:\\Users\\Wan Jing\\Documents\\libact-torch\\libact\\query_strategies\\uncertainty_sampling.py:149: UserWarning: To copy construct from a tensor, it is recommended to use sourceTensor.clone().detach() or sourceTensor.clone().detach().requires_grad_(True), rather than torch.tensor(sourceTensor).\n",
      "  ex = torch.tensor(self.dataset.data[self.queried_hist_[-1]][0]).to(self.device)\n",
      "C:\\Users\\Wan Jing\\Documents\\libact-torch\\libact\\query_strategies\\representative_sampling.py:113: UserWarning: To copy construct from a tensor, it is recommended to use sourceTensor.clone().detach() or sourceTensor.clone().detach().requires_grad_(True), rather than torch.tensor(sourceTensor).\n",
      "  ex = torch.tensor(self.dataset.data[self.queried_hist_[-1]][0]).to(self.device)\n",
      "C:\\Users\\Wan Jing\\.conda\\envs\\deepCB\\lib\\site-packages\\sklearn\\metrics\\_classification.py:1221: UndefinedMetricWarning: Precision is ill-defined and being set to 0.0 in labels with no predicted samples. Use `zero_division` parameter to control this behavior.\n",
      "  _warn_prf(average, modifier, msg_start, len(result))\n"
     ]
    },
    {
     "name": "stdout",
     "output_type": "stream",
     "text": [
      "   strategy  labeled_acc  testing_acc\n",
      "32        0     0.302642     0.285104\n",
      "Tue Aug 25 05:52:26 2020 ContextualBanditsActiveLearning query round: 34\n",
      "Strategy Chosen: RandomSampling\n"
     ]
    },
    {
     "name": "stderr",
     "output_type": "stream",
     "text": [
      "C:\\Users\\Wan Jing\\Documents\\libact-torch\\libact\\query_strategies\\random_sampling.py:86: UserWarning: To copy construct from a tensor, it is recommended to use sourceTensor.clone().detach() or sourceTensor.clone().detach().requires_grad_(True), rather than torch.tensor(sourceTensor).\n",
      "  ex = torch.tensor(self.dataset.data[self.queried_hist_[-1]][0]).to(self.device)\n",
      "C:\\Users\\Wan Jing\\Documents\\libact-torch\\libact\\query_strategies\\contextual_bandits_active_learning.py:180: UserWarning: To copy construct from a tensor, it is recommended to use sourceTensor.clone().detach() or sourceTensor.clone().detach().requires_grad_(True), rather than torch.tensor(sourceTensor).\n",
      "  ex = torch.tensor(self.dataset.data[self.queried_hist_[-1]][0]).to(self.device)\n",
      "C:\\Users\\Wan Jing\\Documents\\libact-torch\\libact\\query_strategies\\uncertainty_sampling.py:149: UserWarning: To copy construct from a tensor, it is recommended to use sourceTensor.clone().detach() or sourceTensor.clone().detach().requires_grad_(True), rather than torch.tensor(sourceTensor).\n",
      "  ex = torch.tensor(self.dataset.data[self.queried_hist_[-1]][0]).to(self.device)\n",
      "C:\\Users\\Wan Jing\\Documents\\libact-torch\\libact\\query_strategies\\representative_sampling.py:113: UserWarning: To copy construct from a tensor, it is recommended to use sourceTensor.clone().detach() or sourceTensor.clone().detach().requires_grad_(True), rather than torch.tensor(sourceTensor).\n",
      "  ex = torch.tensor(self.dataset.data[self.queried_hist_[-1]][0]).to(self.device)\n",
      "C:\\Users\\Wan Jing\\.conda\\envs\\deepCB\\lib\\site-packages\\sklearn\\metrics\\_classification.py:1221: UndefinedMetricWarning: Precision is ill-defined and being set to 0.0 in labels with no predicted samples. Use `zero_division` parameter to control this behavior.\n",
      "  _warn_prf(average, modifier, msg_start, len(result))\n"
     ]
    },
    {
     "name": "stdout",
     "output_type": "stream",
     "text": [
      "   strategy  labeled_acc  testing_acc\n",
      "33        0     0.312222      0.29304\n",
      "Tue Aug 25 05:52:33 2020 ContextualBanditsActiveLearning query round: 35\n",
      "Strategy Chosen: RandomSampling\n"
     ]
    },
    {
     "name": "stderr",
     "output_type": "stream",
     "text": [
      "C:\\Users\\Wan Jing\\Documents\\libact-torch\\libact\\query_strategies\\random_sampling.py:86: UserWarning: To copy construct from a tensor, it is recommended to use sourceTensor.clone().detach() or sourceTensor.clone().detach().requires_grad_(True), rather than torch.tensor(sourceTensor).\n",
      "  ex = torch.tensor(self.dataset.data[self.queried_hist_[-1]][0]).to(self.device)\n",
      "C:\\Users\\Wan Jing\\Documents\\libact-torch\\libact\\query_strategies\\contextual_bandits_active_learning.py:180: UserWarning: To copy construct from a tensor, it is recommended to use sourceTensor.clone().detach() or sourceTensor.clone().detach().requires_grad_(True), rather than torch.tensor(sourceTensor).\n",
      "  ex = torch.tensor(self.dataset.data[self.queried_hist_[-1]][0]).to(self.device)\n",
      "C:\\Users\\Wan Jing\\Documents\\libact-torch\\libact\\query_strategies\\uncertainty_sampling.py:149: UserWarning: To copy construct from a tensor, it is recommended to use sourceTensor.clone().detach() or sourceTensor.clone().detach().requires_grad_(True), rather than torch.tensor(sourceTensor).\n",
      "  ex = torch.tensor(self.dataset.data[self.queried_hist_[-1]][0]).to(self.device)\n",
      "C:\\Users\\Wan Jing\\Documents\\libact-torch\\libact\\query_strategies\\representative_sampling.py:113: UserWarning: To copy construct from a tensor, it is recommended to use sourceTensor.clone().detach() or sourceTensor.clone().detach().requires_grad_(True), rather than torch.tensor(sourceTensor).\n",
      "  ex = torch.tensor(self.dataset.data[self.queried_hist_[-1]][0]).to(self.device)\n",
      "C:\\Users\\Wan Jing\\.conda\\envs\\deepCB\\lib\\site-packages\\sklearn\\metrics\\_classification.py:1221: UndefinedMetricWarning: Precision is ill-defined and being set to 0.0 in labels with no predicted samples. Use `zero_division` parameter to control this behavior.\n",
      "  _warn_prf(average, modifier, msg_start, len(result))\n"
     ]
    },
    {
     "name": "stdout",
     "output_type": "stream",
     "text": [
      "   strategy  labeled_acc  testing_acc\n",
      "34        0     0.310182     0.284188\n",
      "Tue Aug 25 05:52:39 2020 ContextualBanditsActiveLearning query round: 36\n",
      "Strategy Chosen: UncertaintySampling\n"
     ]
    },
    {
     "name": "stderr",
     "output_type": "stream",
     "text": [
      "C:\\Users\\Wan Jing\\Documents\\libact-torch\\libact\\query_strategies\\random_sampling.py:86: UserWarning: To copy construct from a tensor, it is recommended to use sourceTensor.clone().detach() or sourceTensor.clone().detach().requires_grad_(True), rather than torch.tensor(sourceTensor).\n",
      "  ex = torch.tensor(self.dataset.data[self.queried_hist_[-1]][0]).to(self.device)\n",
      "C:\\Users\\Wan Jing\\Documents\\libact-torch\\libact\\query_strategies\\contextual_bandits_active_learning.py:180: UserWarning: To copy construct from a tensor, it is recommended to use sourceTensor.clone().detach() or sourceTensor.clone().detach().requires_grad_(True), rather than torch.tensor(sourceTensor).\n",
      "  ex = torch.tensor(self.dataset.data[self.queried_hist_[-1]][0]).to(self.device)\n",
      "C:\\Users\\Wan Jing\\Documents\\libact-torch\\libact\\query_strategies\\uncertainty_sampling.py:149: UserWarning: To copy construct from a tensor, it is recommended to use sourceTensor.clone().detach() or sourceTensor.clone().detach().requires_grad_(True), rather than torch.tensor(sourceTensor).\n",
      "  ex = torch.tensor(self.dataset.data[self.queried_hist_[-1]][0]).to(self.device)\n",
      "C:\\Users\\Wan Jing\\Documents\\libact-torch\\libact\\query_strategies\\representative_sampling.py:113: UserWarning: To copy construct from a tensor, it is recommended to use sourceTensor.clone().detach() or sourceTensor.clone().detach().requires_grad_(True), rather than torch.tensor(sourceTensor).\n",
      "  ex = torch.tensor(self.dataset.data[self.queried_hist_[-1]][0]).to(self.device)\n",
      "C:\\Users\\Wan Jing\\.conda\\envs\\deepCB\\lib\\site-packages\\sklearn\\metrics\\_classification.py:1221: UndefinedMetricWarning: Precision is ill-defined and being set to 0.0 in labels with no predicted samples. Use `zero_division` parameter to control this behavior.\n",
      "  _warn_prf(average, modifier, msg_start, len(result))\n"
     ]
    },
    {
     "name": "stdout",
     "output_type": "stream",
     "text": [
      "   strategy  labeled_acc  testing_acc\n",
      "35        1     0.317857     0.295482\n",
      "Tue Aug 25 05:52:50 2020 ContextualBanditsActiveLearning query round: 37\n",
      "Strategy Chosen: UncertaintySampling\n"
     ]
    },
    {
     "name": "stderr",
     "output_type": "stream",
     "text": [
      "C:\\Users\\Wan Jing\\Documents\\libact-torch\\libact\\query_strategies\\random_sampling.py:86: UserWarning: To copy construct from a tensor, it is recommended to use sourceTensor.clone().detach() or sourceTensor.clone().detach().requires_grad_(True), rather than torch.tensor(sourceTensor).\n",
      "  ex = torch.tensor(self.dataset.data[self.queried_hist_[-1]][0]).to(self.device)\n",
      "C:\\Users\\Wan Jing\\Documents\\libact-torch\\libact\\query_strategies\\contextual_bandits_active_learning.py:180: UserWarning: To copy construct from a tensor, it is recommended to use sourceTensor.clone().detach() or sourceTensor.clone().detach().requires_grad_(True), rather than torch.tensor(sourceTensor).\n",
      "  ex = torch.tensor(self.dataset.data[self.queried_hist_[-1]][0]).to(self.device)\n",
      "C:\\Users\\Wan Jing\\Documents\\libact-torch\\libact\\query_strategies\\uncertainty_sampling.py:149: UserWarning: To copy construct from a tensor, it is recommended to use sourceTensor.clone().detach() or sourceTensor.clone().detach().requires_grad_(True), rather than torch.tensor(sourceTensor).\n",
      "  ex = torch.tensor(self.dataset.data[self.queried_hist_[-1]][0]).to(self.device)\n",
      "C:\\Users\\Wan Jing\\Documents\\libact-torch\\libact\\query_strategies\\representative_sampling.py:113: UserWarning: To copy construct from a tensor, it is recommended to use sourceTensor.clone().detach() or sourceTensor.clone().detach().requires_grad_(True), rather than torch.tensor(sourceTensor).\n",
      "  ex = torch.tensor(self.dataset.data[self.queried_hist_[-1]][0]).to(self.device)\n",
      "C:\\Users\\Wan Jing\\.conda\\envs\\deepCB\\lib\\site-packages\\sklearn\\metrics\\_classification.py:1221: UndefinedMetricWarning: Precision is ill-defined and being set to 0.0 in labels with no predicted samples. Use `zero_division` parameter to control this behavior.\n",
      "  _warn_prf(average, modifier, msg_start, len(result))\n"
     ]
    },
    {
     "name": "stdout",
     "output_type": "stream",
     "text": [
      "   strategy  labeled_acc  testing_acc\n",
      "36        1         0.32     0.296093\n",
      "Tue Aug 25 05:53:00 2020 ContextualBanditsActiveLearning query round: 38\n",
      "Strategy Chosen: UncertaintySampling\n"
     ]
    },
    {
     "name": "stderr",
     "output_type": "stream",
     "text": [
      "C:\\Users\\Wan Jing\\Documents\\libact-torch\\libact\\query_strategies\\random_sampling.py:86: UserWarning: To copy construct from a tensor, it is recommended to use sourceTensor.clone().detach() or sourceTensor.clone().detach().requires_grad_(True), rather than torch.tensor(sourceTensor).\n",
      "  ex = torch.tensor(self.dataset.data[self.queried_hist_[-1]][0]).to(self.device)\n",
      "C:\\Users\\Wan Jing\\Documents\\libact-torch\\libact\\query_strategies\\contextual_bandits_active_learning.py:180: UserWarning: To copy construct from a tensor, it is recommended to use sourceTensor.clone().detach() or sourceTensor.clone().detach().requires_grad_(True), rather than torch.tensor(sourceTensor).\n",
      "  ex = torch.tensor(self.dataset.data[self.queried_hist_[-1]][0]).to(self.device)\n",
      "C:\\Users\\Wan Jing\\Documents\\libact-torch\\libact\\query_strategies\\uncertainty_sampling.py:149: UserWarning: To copy construct from a tensor, it is recommended to use sourceTensor.clone().detach() or sourceTensor.clone().detach().requires_grad_(True), rather than torch.tensor(sourceTensor).\n",
      "  ex = torch.tensor(self.dataset.data[self.queried_hist_[-1]][0]).to(self.device)\n",
      "C:\\Users\\Wan Jing\\Documents\\libact-torch\\libact\\query_strategies\\representative_sampling.py:113: UserWarning: To copy construct from a tensor, it is recommended to use sourceTensor.clone().detach() or sourceTensor.clone().detach().requires_grad_(True), rather than torch.tensor(sourceTensor).\n",
      "  ex = torch.tensor(self.dataset.data[self.queried_hist_[-1]][0]).to(self.device)\n",
      "C:\\Users\\Wan Jing\\.conda\\envs\\deepCB\\lib\\site-packages\\sklearn\\metrics\\_classification.py:1221: UndefinedMetricWarning: Precision is ill-defined and being set to 0.0 in labels with no predicted samples. Use `zero_division` parameter to control this behavior.\n",
      "  _warn_prf(average, modifier, msg_start, len(result))\n"
     ]
    },
    {
     "name": "stdout",
     "output_type": "stream",
     "text": [
      "   strategy  labeled_acc  testing_acc\n",
      "37        3     0.314483     0.300366\n",
      "Tue Aug 25 05:53:11 2020 ContextualBanditsActiveLearning query round: 39\n",
      "Strategy Chosen: RandomSampling\n"
     ]
    },
    {
     "name": "stderr",
     "output_type": "stream",
     "text": [
      "C:\\Users\\Wan Jing\\Documents\\libact-torch\\libact\\query_strategies\\random_sampling.py:86: UserWarning: To copy construct from a tensor, it is recommended to use sourceTensor.clone().detach() or sourceTensor.clone().detach().requires_grad_(True), rather than torch.tensor(sourceTensor).\n",
      "  ex = torch.tensor(self.dataset.data[self.queried_hist_[-1]][0]).to(self.device)\n",
      "C:\\Users\\Wan Jing\\Documents\\libact-torch\\libact\\query_strategies\\contextual_bandits_active_learning.py:180: UserWarning: To copy construct from a tensor, it is recommended to use sourceTensor.clone().detach() or sourceTensor.clone().detach().requires_grad_(True), rather than torch.tensor(sourceTensor).\n",
      "  ex = torch.tensor(self.dataset.data[self.queried_hist_[-1]][0]).to(self.device)\n",
      "C:\\Users\\Wan Jing\\Documents\\libact-torch\\libact\\query_strategies\\uncertainty_sampling.py:149: UserWarning: To copy construct from a tensor, it is recommended to use sourceTensor.clone().detach() or sourceTensor.clone().detach().requires_grad_(True), rather than torch.tensor(sourceTensor).\n",
      "  ex = torch.tensor(self.dataset.data[self.queried_hist_[-1]][0]).to(self.device)\n",
      "C:\\Users\\Wan Jing\\Documents\\libact-torch\\libact\\query_strategies\\representative_sampling.py:113: UserWarning: To copy construct from a tensor, it is recommended to use sourceTensor.clone().detach() or sourceTensor.clone().detach().requires_grad_(True), rather than torch.tensor(sourceTensor).\n",
      "  ex = torch.tensor(self.dataset.data[self.queried_hist_[-1]][0]).to(self.device)\n",
      "C:\\Users\\Wan Jing\\.conda\\envs\\deepCB\\lib\\site-packages\\sklearn\\metrics\\_classification.py:1221: UndefinedMetricWarning: Precision is ill-defined and being set to 0.0 in labels with no predicted samples. Use `zero_division` parameter to control this behavior.\n",
      "  _warn_prf(average, modifier, msg_start, len(result))\n"
     ]
    },
    {
     "name": "stdout",
     "output_type": "stream",
     "text": [
      "   strategy  labeled_acc  testing_acc\n",
      "38        0     0.318305     0.306777\n",
      "Tue Aug 25 05:53:18 2020 ContextualBanditsActiveLearning query round: 40\n",
      "Strategy Chosen: UncertaintySampling\n"
     ]
    },
    {
     "name": "stderr",
     "output_type": "stream",
     "text": [
      "C:\\Users\\Wan Jing\\Documents\\libact-torch\\libact\\query_strategies\\random_sampling.py:86: UserWarning: To copy construct from a tensor, it is recommended to use sourceTensor.clone().detach() or sourceTensor.clone().detach().requires_grad_(True), rather than torch.tensor(sourceTensor).\n",
      "  ex = torch.tensor(self.dataset.data[self.queried_hist_[-1]][0]).to(self.device)\n",
      "C:\\Users\\Wan Jing\\Documents\\libact-torch\\libact\\query_strategies\\contextual_bandits_active_learning.py:180: UserWarning: To copy construct from a tensor, it is recommended to use sourceTensor.clone().detach() or sourceTensor.clone().detach().requires_grad_(True), rather than torch.tensor(sourceTensor).\n",
      "  ex = torch.tensor(self.dataset.data[self.queried_hist_[-1]][0]).to(self.device)\n",
      "C:\\Users\\Wan Jing\\Documents\\libact-torch\\libact\\query_strategies\\uncertainty_sampling.py:149: UserWarning: To copy construct from a tensor, it is recommended to use sourceTensor.clone().detach() or sourceTensor.clone().detach().requires_grad_(True), rather than torch.tensor(sourceTensor).\n",
      "  ex = torch.tensor(self.dataset.data[self.queried_hist_[-1]][0]).to(self.device)\n",
      "C:\\Users\\Wan Jing\\Documents\\libact-torch\\libact\\query_strategies\\representative_sampling.py:113: UserWarning: To copy construct from a tensor, it is recommended to use sourceTensor.clone().detach() or sourceTensor.clone().detach().requires_grad_(True), rather than torch.tensor(sourceTensor).\n",
      "  ex = torch.tensor(self.dataset.data[self.queried_hist_[-1]][0]).to(self.device)\n",
      "C:\\Users\\Wan Jing\\.conda\\envs\\deepCB\\lib\\site-packages\\sklearn\\metrics\\_classification.py:1221: UndefinedMetricWarning: Precision is ill-defined and being set to 0.0 in labels with no predicted samples. Use `zero_division` parameter to control this behavior.\n",
      "  _warn_prf(average, modifier, msg_start, len(result))\n"
     ]
    },
    {
     "name": "stdout",
     "output_type": "stream",
     "text": [
      "   strategy  labeled_acc  testing_acc\n",
      "39        1        0.321     0.300977\n",
      "Tue Aug 25 05:53:28 2020 ContextualBanditsActiveLearning query round: 41\n",
      "Strategy Chosen: RandomSampling\n"
     ]
    },
    {
     "name": "stderr",
     "output_type": "stream",
     "text": [
      "C:\\Users\\Wan Jing\\Documents\\libact-torch\\libact\\query_strategies\\random_sampling.py:86: UserWarning: To copy construct from a tensor, it is recommended to use sourceTensor.clone().detach() or sourceTensor.clone().detach().requires_grad_(True), rather than torch.tensor(sourceTensor).\n",
      "  ex = torch.tensor(self.dataset.data[self.queried_hist_[-1]][0]).to(self.device)\n",
      "C:\\Users\\Wan Jing\\Documents\\libact-torch\\libact\\query_strategies\\contextual_bandits_active_learning.py:180: UserWarning: To copy construct from a tensor, it is recommended to use sourceTensor.clone().detach() or sourceTensor.clone().detach().requires_grad_(True), rather than torch.tensor(sourceTensor).\n",
      "  ex = torch.tensor(self.dataset.data[self.queried_hist_[-1]][0]).to(self.device)\n",
      "C:\\Users\\Wan Jing\\Documents\\libact-torch\\libact\\query_strategies\\uncertainty_sampling.py:149: UserWarning: To copy construct from a tensor, it is recommended to use sourceTensor.clone().detach() or sourceTensor.clone().detach().requires_grad_(True), rather than torch.tensor(sourceTensor).\n",
      "  ex = torch.tensor(self.dataset.data[self.queried_hist_[-1]][0]).to(self.device)\n",
      "C:\\Users\\Wan Jing\\Documents\\libact-torch\\libact\\query_strategies\\representative_sampling.py:113: UserWarning: To copy construct from a tensor, it is recommended to use sourceTensor.clone().detach() or sourceTensor.clone().detach().requires_grad_(True), rather than torch.tensor(sourceTensor).\n",
      "  ex = torch.tensor(self.dataset.data[self.queried_hist_[-1]][0]).to(self.device)\n",
      "C:\\Users\\Wan Jing\\.conda\\envs\\deepCB\\lib\\site-packages\\sklearn\\metrics\\_classification.py:1221: UndefinedMetricWarning: Precision is ill-defined and being set to 0.0 in labels with no predicted samples. Use `zero_division` parameter to control this behavior.\n",
      "  _warn_prf(average, modifier, msg_start, len(result))\n"
     ]
    },
    {
     "name": "stdout",
     "output_type": "stream",
     "text": [
      "   strategy  labeled_acc  testing_acc\n",
      "40        0     0.323279     0.302198\n",
      "Tue Aug 25 05:53:35 2020 ContextualBanditsActiveLearning query round: 42\n",
      "Strategy Chosen: RepresentativeSampling\n"
     ]
    },
    {
     "name": "stderr",
     "output_type": "stream",
     "text": [
      "C:\\Users\\Wan Jing\\Documents\\libact-torch\\libact\\query_strategies\\representative_sampling.py:147: UserWarning: To copy construct from a tensor, it is recommended to use sourceTensor.clone().detach() or sourceTensor.clone().detach().requires_grad_(True), rather than torch.tensor(sourceTensor).\n",
      "  x = torch.tensor(x).to(self.device)\n",
      "C:\\Users\\Wan Jing\\Documents\\libact-torch\\libact\\query_strategies\\random_sampling.py:86: UserWarning: To copy construct from a tensor, it is recommended to use sourceTensor.clone().detach() or sourceTensor.clone().detach().requires_grad_(True), rather than torch.tensor(sourceTensor).\n",
      "  ex = torch.tensor(self.dataset.data[self.queried_hist_[-1]][0]).to(self.device)\n",
      "C:\\Users\\Wan Jing\\Documents\\libact-torch\\libact\\query_strategies\\contextual_bandits_active_learning.py:180: UserWarning: To copy construct from a tensor, it is recommended to use sourceTensor.clone().detach() or sourceTensor.clone().detach().requires_grad_(True), rather than torch.tensor(sourceTensor).\n",
      "  ex = torch.tensor(self.dataset.data[self.queried_hist_[-1]][0]).to(self.device)\n",
      "C:\\Users\\Wan Jing\\Documents\\libact-torch\\libact\\query_strategies\\uncertainty_sampling.py:149: UserWarning: To copy construct from a tensor, it is recommended to use sourceTensor.clone().detach() or sourceTensor.clone().detach().requires_grad_(True), rather than torch.tensor(sourceTensor).\n",
      "  ex = torch.tensor(self.dataset.data[self.queried_hist_[-1]][0]).to(self.device)\n",
      "C:\\Users\\Wan Jing\\Documents\\libact-torch\\libact\\query_strategies\\representative_sampling.py:113: UserWarning: To copy construct from a tensor, it is recommended to use sourceTensor.clone().detach() or sourceTensor.clone().detach().requires_grad_(True), rather than torch.tensor(sourceTensor).\n",
      "  ex = torch.tensor(self.dataset.data[self.queried_hist_[-1]][0]).to(self.device)\n",
      "C:\\Users\\Wan Jing\\.conda\\envs\\deepCB\\lib\\site-packages\\sklearn\\metrics\\_classification.py:1221: UndefinedMetricWarning: Precision is ill-defined and being set to 0.0 in labels with no predicted samples. Use `zero_division` parameter to control this behavior.\n",
      "  _warn_prf(average, modifier, msg_start, len(result))\n"
     ]
    },
    {
     "name": "stdout",
     "output_type": "stream",
     "text": [
      "   strategy  labeled_acc  testing_acc\n",
      "41        4     0.324194     0.313492\n",
      "Tue Aug 25 05:53:49 2020 ContextualBanditsActiveLearning query round: 43\n",
      "Strategy Chosen: UncertaintySampling\n"
     ]
    },
    {
     "name": "stderr",
     "output_type": "stream",
     "text": [
      "C:\\Users\\Wan Jing\\Documents\\libact-torch\\libact\\query_strategies\\random_sampling.py:86: UserWarning: To copy construct from a tensor, it is recommended to use sourceTensor.clone().detach() or sourceTensor.clone().detach().requires_grad_(True), rather than torch.tensor(sourceTensor).\n",
      "  ex = torch.tensor(self.dataset.data[self.queried_hist_[-1]][0]).to(self.device)\n",
      "C:\\Users\\Wan Jing\\Documents\\libact-torch\\libact\\query_strategies\\contextual_bandits_active_learning.py:180: UserWarning: To copy construct from a tensor, it is recommended to use sourceTensor.clone().detach() or sourceTensor.clone().detach().requires_grad_(True), rather than torch.tensor(sourceTensor).\n",
      "  ex = torch.tensor(self.dataset.data[self.queried_hist_[-1]][0]).to(self.device)\n",
      "C:\\Users\\Wan Jing\\Documents\\libact-torch\\libact\\query_strategies\\uncertainty_sampling.py:149: UserWarning: To copy construct from a tensor, it is recommended to use sourceTensor.clone().detach() or sourceTensor.clone().detach().requires_grad_(True), rather than torch.tensor(sourceTensor).\n",
      "  ex = torch.tensor(self.dataset.data[self.queried_hist_[-1]][0]).to(self.device)\n",
      "C:\\Users\\Wan Jing\\Documents\\libact-torch\\libact\\query_strategies\\representative_sampling.py:113: UserWarning: To copy construct from a tensor, it is recommended to use sourceTensor.clone().detach() or sourceTensor.clone().detach().requires_grad_(True), rather than torch.tensor(sourceTensor).\n",
      "  ex = torch.tensor(self.dataset.data[self.queried_hist_[-1]][0]).to(self.device)\n",
      "C:\\Users\\Wan Jing\\.conda\\envs\\deepCB\\lib\\site-packages\\sklearn\\metrics\\_classification.py:1221: UndefinedMetricWarning: Precision is ill-defined and being set to 0.0 in labels with no predicted samples. Use `zero_division` parameter to control this behavior.\n",
      "  _warn_prf(average, modifier, msg_start, len(result))\n"
     ]
    },
    {
     "name": "stdout",
     "output_type": "stream",
     "text": [
      "   strategy  labeled_acc  testing_acc\n",
      "42        1     0.331429     0.307692\n",
      "Tue Aug 25 05:54:00 2020 ContextualBanditsActiveLearning query round: 44\n",
      "Strategy Chosen: UncertaintySampling\n"
     ]
    },
    {
     "name": "stderr",
     "output_type": "stream",
     "text": [
      "C:\\Users\\Wan Jing\\Documents\\libact-torch\\libact\\query_strategies\\random_sampling.py:86: UserWarning: To copy construct from a tensor, it is recommended to use sourceTensor.clone().detach() or sourceTensor.clone().detach().requires_grad_(True), rather than torch.tensor(sourceTensor).\n",
      "  ex = torch.tensor(self.dataset.data[self.queried_hist_[-1]][0]).to(self.device)\n",
      "C:\\Users\\Wan Jing\\Documents\\libact-torch\\libact\\query_strategies\\contextual_bandits_active_learning.py:180: UserWarning: To copy construct from a tensor, it is recommended to use sourceTensor.clone().detach() or sourceTensor.clone().detach().requires_grad_(True), rather than torch.tensor(sourceTensor).\n",
      "  ex = torch.tensor(self.dataset.data[self.queried_hist_[-1]][0]).to(self.device)\n",
      "C:\\Users\\Wan Jing\\Documents\\libact-torch\\libact\\query_strategies\\uncertainty_sampling.py:149: UserWarning: To copy construct from a tensor, it is recommended to use sourceTensor.clone().detach() or sourceTensor.clone().detach().requires_grad_(True), rather than torch.tensor(sourceTensor).\n",
      "  ex = torch.tensor(self.dataset.data[self.queried_hist_[-1]][0]).to(self.device)\n",
      "C:\\Users\\Wan Jing\\Documents\\libact-torch\\libact\\query_strategies\\representative_sampling.py:113: UserWarning: To copy construct from a tensor, it is recommended to use sourceTensor.clone().detach() or sourceTensor.clone().detach().requires_grad_(True), rather than torch.tensor(sourceTensor).\n",
      "  ex = torch.tensor(self.dataset.data[self.queried_hist_[-1]][0]).to(self.device)\n",
      "C:\\Users\\Wan Jing\\.conda\\envs\\deepCB\\lib\\site-packages\\sklearn\\metrics\\_classification.py:1221: UndefinedMetricWarning: Precision is ill-defined and being set to 0.0 in labels with no predicted samples. Use `zero_division` parameter to control this behavior.\n",
      "  _warn_prf(average, modifier, msg_start, len(result))\n"
     ]
    },
    {
     "name": "stdout",
     "output_type": "stream",
     "text": [
      "   strategy  labeled_acc  testing_acc\n",
      "43        3        0.335     0.316545\n",
      "Tue Aug 25 05:54:11 2020 ContextualBanditsActiveLearning query round: 45\n",
      "Strategy Chosen: UncertaintySampling\n"
     ]
    },
    {
     "name": "stderr",
     "output_type": "stream",
     "text": [
      "C:\\Users\\Wan Jing\\Documents\\libact-torch\\libact\\query_strategies\\random_sampling.py:86: UserWarning: To copy construct from a tensor, it is recommended to use sourceTensor.clone().detach() or sourceTensor.clone().detach().requires_grad_(True), rather than torch.tensor(sourceTensor).\n",
      "  ex = torch.tensor(self.dataset.data[self.queried_hist_[-1]][0]).to(self.device)\n",
      "C:\\Users\\Wan Jing\\Documents\\libact-torch\\libact\\query_strategies\\contextual_bandits_active_learning.py:180: UserWarning: To copy construct from a tensor, it is recommended to use sourceTensor.clone().detach() or sourceTensor.clone().detach().requires_grad_(True), rather than torch.tensor(sourceTensor).\n",
      "  ex = torch.tensor(self.dataset.data[self.queried_hist_[-1]][0]).to(self.device)\n",
      "C:\\Users\\Wan Jing\\Documents\\libact-torch\\libact\\query_strategies\\uncertainty_sampling.py:149: UserWarning: To copy construct from a tensor, it is recommended to use sourceTensor.clone().detach() or sourceTensor.clone().detach().requires_grad_(True), rather than torch.tensor(sourceTensor).\n",
      "  ex = torch.tensor(self.dataset.data[self.queried_hist_[-1]][0]).to(self.device)\n",
      "C:\\Users\\Wan Jing\\Documents\\libact-torch\\libact\\query_strategies\\representative_sampling.py:113: UserWarning: To copy construct from a tensor, it is recommended to use sourceTensor.clone().detach() or sourceTensor.clone().detach().requires_grad_(True), rather than torch.tensor(sourceTensor).\n",
      "  ex = torch.tensor(self.dataset.data[self.queried_hist_[-1]][0]).to(self.device)\n",
      "C:\\Users\\Wan Jing\\.conda\\envs\\deepCB\\lib\\site-packages\\sklearn\\metrics\\_classification.py:1221: UndefinedMetricWarning: Precision is ill-defined and being set to 0.0 in labels with no predicted samples. Use `zero_division` parameter to control this behavior.\n",
      "  _warn_prf(average, modifier, msg_start, len(result))\n"
     ]
    },
    {
     "name": "stdout",
     "output_type": "stream",
     "text": [
      "   strategy  labeled_acc  testing_acc\n",
      "44        1     0.328308     0.314103\n",
      "Tue Aug 25 05:54:22 2020 ContextualBanditsActiveLearning query round: 46\n",
      "Strategy Chosen: RepresentativeSampling\n"
     ]
    },
    {
     "name": "stderr",
     "output_type": "stream",
     "text": [
      "C:\\Users\\Wan Jing\\Documents\\libact-torch\\libact\\query_strategies\\representative_sampling.py:147: UserWarning: To copy construct from a tensor, it is recommended to use sourceTensor.clone().detach() or sourceTensor.clone().detach().requires_grad_(True), rather than torch.tensor(sourceTensor).\n",
      "  x = torch.tensor(x).to(self.device)\n",
      "C:\\Users\\Wan Jing\\Documents\\libact-torch\\libact\\query_strategies\\random_sampling.py:86: UserWarning: To copy construct from a tensor, it is recommended to use sourceTensor.clone().detach() or sourceTensor.clone().detach().requires_grad_(True), rather than torch.tensor(sourceTensor).\n",
      "  ex = torch.tensor(self.dataset.data[self.queried_hist_[-1]][0]).to(self.device)\n",
      "C:\\Users\\Wan Jing\\Documents\\libact-torch\\libact\\query_strategies\\contextual_bandits_active_learning.py:180: UserWarning: To copy construct from a tensor, it is recommended to use sourceTensor.clone().detach() or sourceTensor.clone().detach().requires_grad_(True), rather than torch.tensor(sourceTensor).\n",
      "  ex = torch.tensor(self.dataset.data[self.queried_hist_[-1]][0]).to(self.device)\n",
      "C:\\Users\\Wan Jing\\Documents\\libact-torch\\libact\\query_strategies\\uncertainty_sampling.py:149: UserWarning: To copy construct from a tensor, it is recommended to use sourceTensor.clone().detach() or sourceTensor.clone().detach().requires_grad_(True), rather than torch.tensor(sourceTensor).\n",
      "  ex = torch.tensor(self.dataset.data[self.queried_hist_[-1]][0]).to(self.device)\n",
      "C:\\Users\\Wan Jing\\Documents\\libact-torch\\libact\\query_strategies\\representative_sampling.py:113: UserWarning: To copy construct from a tensor, it is recommended to use sourceTensor.clone().detach() or sourceTensor.clone().detach().requires_grad_(True), rather than torch.tensor(sourceTensor).\n",
      "  ex = torch.tensor(self.dataset.data[self.queried_hist_[-1]][0]).to(self.device)\n",
      "C:\\Users\\Wan Jing\\.conda\\envs\\deepCB\\lib\\site-packages\\sklearn\\metrics\\_classification.py:1221: UndefinedMetricWarning: Precision is ill-defined and being set to 0.0 in labels with no predicted samples. Use `zero_division` parameter to control this behavior.\n",
      "  _warn_prf(average, modifier, msg_start, len(result))\n"
     ]
    },
    {
     "name": "stdout",
     "output_type": "stream",
     "text": [
      "   strategy  labeled_acc  testing_acc\n",
      "45        4     0.338788     0.322344\n",
      "Tue Aug 25 05:54:36 2020 ContextualBanditsActiveLearning query round: 47\n",
      "Strategy Chosen: RandomSampling\n"
     ]
    },
    {
     "name": "stderr",
     "output_type": "stream",
     "text": [
      "C:\\Users\\Wan Jing\\Documents\\libact-torch\\libact\\query_strategies\\random_sampling.py:86: UserWarning: To copy construct from a tensor, it is recommended to use sourceTensor.clone().detach() or sourceTensor.clone().detach().requires_grad_(True), rather than torch.tensor(sourceTensor).\n",
      "  ex = torch.tensor(self.dataset.data[self.queried_hist_[-1]][0]).to(self.device)\n",
      "C:\\Users\\Wan Jing\\Documents\\libact-torch\\libact\\query_strategies\\contextual_bandits_active_learning.py:180: UserWarning: To copy construct from a tensor, it is recommended to use sourceTensor.clone().detach() or sourceTensor.clone().detach().requires_grad_(True), rather than torch.tensor(sourceTensor).\n",
      "  ex = torch.tensor(self.dataset.data[self.queried_hist_[-1]][0]).to(self.device)\n",
      "C:\\Users\\Wan Jing\\Documents\\libact-torch\\libact\\query_strategies\\uncertainty_sampling.py:149: UserWarning: To copy construct from a tensor, it is recommended to use sourceTensor.clone().detach() or sourceTensor.clone().detach().requires_grad_(True), rather than torch.tensor(sourceTensor).\n",
      "  ex = torch.tensor(self.dataset.data[self.queried_hist_[-1]][0]).to(self.device)\n",
      "C:\\Users\\Wan Jing\\Documents\\libact-torch\\libact\\query_strategies\\representative_sampling.py:113: UserWarning: To copy construct from a tensor, it is recommended to use sourceTensor.clone().detach() or sourceTensor.clone().detach().requires_grad_(True), rather than torch.tensor(sourceTensor).\n",
      "  ex = torch.tensor(self.dataset.data[self.queried_hist_[-1]][0]).to(self.device)\n",
      "C:\\Users\\Wan Jing\\.conda\\envs\\deepCB\\lib\\site-packages\\sklearn\\metrics\\_classification.py:1221: UndefinedMetricWarning: Precision is ill-defined and being set to 0.0 in labels with no predicted samples. Use `zero_division` parameter to control this behavior.\n",
      "  _warn_prf(average, modifier, msg_start, len(result))\n"
     ]
    },
    {
     "name": "stdout",
     "output_type": "stream",
     "text": [
      "   strategy  labeled_acc  testing_acc\n",
      "46        0     0.340597     0.319292\n",
      "Tue Aug 25 05:54:43 2020 ContextualBanditsActiveLearning query round: 48\n",
      "Strategy Chosen: RandomSampling\n"
     ]
    },
    {
     "name": "stderr",
     "output_type": "stream",
     "text": [
      "C:\\Users\\Wan Jing\\Documents\\libact-torch\\libact\\query_strategies\\random_sampling.py:86: UserWarning: To copy construct from a tensor, it is recommended to use sourceTensor.clone().detach() or sourceTensor.clone().detach().requires_grad_(True), rather than torch.tensor(sourceTensor).\n",
      "  ex = torch.tensor(self.dataset.data[self.queried_hist_[-1]][0]).to(self.device)\n",
      "C:\\Users\\Wan Jing\\Documents\\libact-torch\\libact\\query_strategies\\contextual_bandits_active_learning.py:180: UserWarning: To copy construct from a tensor, it is recommended to use sourceTensor.clone().detach() or sourceTensor.clone().detach().requires_grad_(True), rather than torch.tensor(sourceTensor).\n",
      "  ex = torch.tensor(self.dataset.data[self.queried_hist_[-1]][0]).to(self.device)\n",
      "C:\\Users\\Wan Jing\\Documents\\libact-torch\\libact\\query_strategies\\uncertainty_sampling.py:149: UserWarning: To copy construct from a tensor, it is recommended to use sourceTensor.clone().detach() or sourceTensor.clone().detach().requires_grad_(True), rather than torch.tensor(sourceTensor).\n",
      "  ex = torch.tensor(self.dataset.data[self.queried_hist_[-1]][0]).to(self.device)\n",
      "C:\\Users\\Wan Jing\\Documents\\libact-torch\\libact\\query_strategies\\representative_sampling.py:113: UserWarning: To copy construct from a tensor, it is recommended to use sourceTensor.clone().detach() or sourceTensor.clone().detach().requires_grad_(True), rather than torch.tensor(sourceTensor).\n",
      "  ex = torch.tensor(self.dataset.data[self.queried_hist_[-1]][0]).to(self.device)\n",
      "C:\\Users\\Wan Jing\\.conda\\envs\\deepCB\\lib\\site-packages\\sklearn\\metrics\\_classification.py:1221: UndefinedMetricWarning: Precision is ill-defined and being set to 0.0 in labels with no predicted samples. Use `zero_division` parameter to control this behavior.\n",
      "  _warn_prf(average, modifier, msg_start, len(result))\n"
     ]
    },
    {
     "name": "stdout",
     "output_type": "stream",
     "text": [
      "   strategy  labeled_acc  testing_acc\n",
      "47        0     0.351765     0.319292\n",
      "Tue Aug 25 05:54:50 2020 ContextualBanditsActiveLearning query round: 49\n",
      "Strategy Chosen: RepresentativeSampling\n"
     ]
    },
    {
     "name": "stderr",
     "output_type": "stream",
     "text": [
      "C:\\Users\\Wan Jing\\Documents\\libact-torch\\libact\\query_strategies\\representative_sampling.py:147: UserWarning: To copy construct from a tensor, it is recommended to use sourceTensor.clone().detach() or sourceTensor.clone().detach().requires_grad_(True), rather than torch.tensor(sourceTensor).\n",
      "  x = torch.tensor(x).to(self.device)\n",
      "C:\\Users\\Wan Jing\\Documents\\libact-torch\\libact\\query_strategies\\random_sampling.py:86: UserWarning: To copy construct from a tensor, it is recommended to use sourceTensor.clone().detach() or sourceTensor.clone().detach().requires_grad_(True), rather than torch.tensor(sourceTensor).\n",
      "  ex = torch.tensor(self.dataset.data[self.queried_hist_[-1]][0]).to(self.device)\n",
      "C:\\Users\\Wan Jing\\Documents\\libact-torch\\libact\\query_strategies\\contextual_bandits_active_learning.py:180: UserWarning: To copy construct from a tensor, it is recommended to use sourceTensor.clone().detach() or sourceTensor.clone().detach().requires_grad_(True), rather than torch.tensor(sourceTensor).\n",
      "  ex = torch.tensor(self.dataset.data[self.queried_hist_[-1]][0]).to(self.device)\n",
      "C:\\Users\\Wan Jing\\Documents\\libact-torch\\libact\\query_strategies\\uncertainty_sampling.py:149: UserWarning: To copy construct from a tensor, it is recommended to use sourceTensor.clone().detach() or sourceTensor.clone().detach().requires_grad_(True), rather than torch.tensor(sourceTensor).\n",
      "  ex = torch.tensor(self.dataset.data[self.queried_hist_[-1]][0]).to(self.device)\n",
      "C:\\Users\\Wan Jing\\Documents\\libact-torch\\libact\\query_strategies\\representative_sampling.py:113: UserWarning: To copy construct from a tensor, it is recommended to use sourceTensor.clone().detach() or sourceTensor.clone().detach().requires_grad_(True), rather than torch.tensor(sourceTensor).\n",
      "  ex = torch.tensor(self.dataset.data[self.queried_hist_[-1]][0]).to(self.device)\n",
      "C:\\Users\\Wan Jing\\.conda\\envs\\deepCB\\lib\\site-packages\\sklearn\\metrics\\_classification.py:1221: UndefinedMetricWarning: Precision is ill-defined and being set to 0.0 in labels with no predicted samples. Use `zero_division` parameter to control this behavior.\n",
      "  _warn_prf(average, modifier, msg_start, len(result))\n"
     ]
    },
    {
     "name": "stdout",
     "output_type": "stream",
     "text": [
      "   strategy  labeled_acc  testing_acc\n",
      "48        4     0.358551     0.331502\n",
      "Tue Aug 25 05:55:04 2020 ContextualBanditsActiveLearning query round: 50\n",
      "Strategy Chosen: RepresentativeSampling\n"
     ]
    },
    {
     "name": "stderr",
     "output_type": "stream",
     "text": [
      "C:\\Users\\Wan Jing\\Documents\\libact-torch\\libact\\query_strategies\\representative_sampling.py:147: UserWarning: To copy construct from a tensor, it is recommended to use sourceTensor.clone().detach() or sourceTensor.clone().detach().requires_grad_(True), rather than torch.tensor(sourceTensor).\n",
      "  x = torch.tensor(x).to(self.device)\n",
      "C:\\Users\\Wan Jing\\Documents\\libact-torch\\libact\\query_strategies\\random_sampling.py:86: UserWarning: To copy construct from a tensor, it is recommended to use sourceTensor.clone().detach() or sourceTensor.clone().detach().requires_grad_(True), rather than torch.tensor(sourceTensor).\n",
      "  ex = torch.tensor(self.dataset.data[self.queried_hist_[-1]][0]).to(self.device)\n",
      "C:\\Users\\Wan Jing\\Documents\\libact-torch\\libact\\query_strategies\\contextual_bandits_active_learning.py:180: UserWarning: To copy construct from a tensor, it is recommended to use sourceTensor.clone().detach() or sourceTensor.clone().detach().requires_grad_(True), rather than torch.tensor(sourceTensor).\n",
      "  ex = torch.tensor(self.dataset.data[self.queried_hist_[-1]][0]).to(self.device)\n",
      "C:\\Users\\Wan Jing\\Documents\\libact-torch\\libact\\query_strategies\\uncertainty_sampling.py:149: UserWarning: To copy construct from a tensor, it is recommended to use sourceTensor.clone().detach() or sourceTensor.clone().detach().requires_grad_(True), rather than torch.tensor(sourceTensor).\n",
      "  ex = torch.tensor(self.dataset.data[self.queried_hist_[-1]][0]).to(self.device)\n",
      "C:\\Users\\Wan Jing\\Documents\\libact-torch\\libact\\query_strategies\\representative_sampling.py:113: UserWarning: To copy construct from a tensor, it is recommended to use sourceTensor.clone().detach() or sourceTensor.clone().detach().requires_grad_(True), rather than torch.tensor(sourceTensor).\n",
      "  ex = torch.tensor(self.dataset.data[self.queried_hist_[-1]][0]).to(self.device)\n",
      "C:\\Users\\Wan Jing\\.conda\\envs\\deepCB\\lib\\site-packages\\sklearn\\metrics\\_classification.py:1221: UndefinedMetricWarning: Precision is ill-defined and being set to 0.0 in labels with no predicted samples. Use `zero_division` parameter to control this behavior.\n",
      "  _warn_prf(average, modifier, msg_start, len(result))\n"
     ]
    },
    {
     "name": "stdout",
     "output_type": "stream",
     "text": [
      "   strategy  labeled_acc  testing_acc\n",
      "49        4     0.359429     0.327839\n",
      "Tue Aug 25 05:55:18 2020 ContextualBanditsActiveLearning query round: 51\n",
      "Strategy Chosen: RandomSampling\n"
     ]
    },
    {
     "name": "stderr",
     "output_type": "stream",
     "text": [
      "C:\\Users\\Wan Jing\\Documents\\libact-torch\\libact\\query_strategies\\random_sampling.py:86: UserWarning: To copy construct from a tensor, it is recommended to use sourceTensor.clone().detach() or sourceTensor.clone().detach().requires_grad_(True), rather than torch.tensor(sourceTensor).\n",
      "  ex = torch.tensor(self.dataset.data[self.queried_hist_[-1]][0]).to(self.device)\n",
      "C:\\Users\\Wan Jing\\Documents\\libact-torch\\libact\\query_strategies\\contextual_bandits_active_learning.py:180: UserWarning: To copy construct from a tensor, it is recommended to use sourceTensor.clone().detach() or sourceTensor.clone().detach().requires_grad_(True), rather than torch.tensor(sourceTensor).\n",
      "  ex = torch.tensor(self.dataset.data[self.queried_hist_[-1]][0]).to(self.device)\n",
      "C:\\Users\\Wan Jing\\Documents\\libact-torch\\libact\\query_strategies\\uncertainty_sampling.py:149: UserWarning: To copy construct from a tensor, it is recommended to use sourceTensor.clone().detach() or sourceTensor.clone().detach().requires_grad_(True), rather than torch.tensor(sourceTensor).\n",
      "  ex = torch.tensor(self.dataset.data[self.queried_hist_[-1]][0]).to(self.device)\n",
      "C:\\Users\\Wan Jing\\Documents\\libact-torch\\libact\\query_strategies\\representative_sampling.py:113: UserWarning: To copy construct from a tensor, it is recommended to use sourceTensor.clone().detach() or sourceTensor.clone().detach().requires_grad_(True), rather than torch.tensor(sourceTensor).\n",
      "  ex = torch.tensor(self.dataset.data[self.queried_hist_[-1]][0]).to(self.device)\n",
      "C:\\Users\\Wan Jing\\.conda\\envs\\deepCB\\lib\\site-packages\\sklearn\\metrics\\_classification.py:1221: UndefinedMetricWarning: Precision is ill-defined and being set to 0.0 in labels with no predicted samples. Use `zero_division` parameter to control this behavior.\n",
      "  _warn_prf(average, modifier, msg_start, len(result))\n"
     ]
    },
    {
     "name": "stdout",
     "output_type": "stream",
     "text": [
      "   strategy  labeled_acc  testing_acc\n",
      "50        0     0.363944     0.330281\n",
      "Tue Aug 25 05:55:26 2020 ContextualBanditsActiveLearning query round: 52\n",
      "Strategy Chosen: UncertaintySampling\n"
     ]
    },
    {
     "name": "stderr",
     "output_type": "stream",
     "text": [
      "C:\\Users\\Wan Jing\\Documents\\libact-torch\\libact\\query_strategies\\random_sampling.py:86: UserWarning: To copy construct from a tensor, it is recommended to use sourceTensor.clone().detach() or sourceTensor.clone().detach().requires_grad_(True), rather than torch.tensor(sourceTensor).\n",
      "  ex = torch.tensor(self.dataset.data[self.queried_hist_[-1]][0]).to(self.device)\n",
      "C:\\Users\\Wan Jing\\Documents\\libact-torch\\libact\\query_strategies\\contextual_bandits_active_learning.py:180: UserWarning: To copy construct from a tensor, it is recommended to use sourceTensor.clone().detach() or sourceTensor.clone().detach().requires_grad_(True), rather than torch.tensor(sourceTensor).\n",
      "  ex = torch.tensor(self.dataset.data[self.queried_hist_[-1]][0]).to(self.device)\n",
      "C:\\Users\\Wan Jing\\Documents\\libact-torch\\libact\\query_strategies\\uncertainty_sampling.py:149: UserWarning: To copy construct from a tensor, it is recommended to use sourceTensor.clone().detach() or sourceTensor.clone().detach().requires_grad_(True), rather than torch.tensor(sourceTensor).\n",
      "  ex = torch.tensor(self.dataset.data[self.queried_hist_[-1]][0]).to(self.device)\n",
      "C:\\Users\\Wan Jing\\Documents\\libact-torch\\libact\\query_strategies\\representative_sampling.py:113: UserWarning: To copy construct from a tensor, it is recommended to use sourceTensor.clone().detach() or sourceTensor.clone().detach().requires_grad_(True), rather than torch.tensor(sourceTensor).\n",
      "  ex = torch.tensor(self.dataset.data[self.queried_hist_[-1]][0]).to(self.device)\n",
      "C:\\Users\\Wan Jing\\.conda\\envs\\deepCB\\lib\\site-packages\\sklearn\\metrics\\_classification.py:1221: UndefinedMetricWarning: Precision is ill-defined and being set to 0.0 in labels with no predicted samples. Use `zero_division` parameter to control this behavior.\n",
      "  _warn_prf(average, modifier, msg_start, len(result))\n"
     ]
    },
    {
     "name": "stdout",
     "output_type": "stream",
     "text": [
      "   strategy  labeled_acc  testing_acc\n",
      "51        3        0.365     0.332418\n",
      "Tue Aug 25 05:55:37 2020 ContextualBanditsActiveLearning query round: 53\n",
      "Strategy Chosen: UncertaintySampling\n"
     ]
    },
    {
     "name": "stderr",
     "output_type": "stream",
     "text": [
      "C:\\Users\\Wan Jing\\Documents\\libact-torch\\libact\\query_strategies\\random_sampling.py:86: UserWarning: To copy construct from a tensor, it is recommended to use sourceTensor.clone().detach() or sourceTensor.clone().detach().requires_grad_(True), rather than torch.tensor(sourceTensor).\n",
      "  ex = torch.tensor(self.dataset.data[self.queried_hist_[-1]][0]).to(self.device)\n",
      "C:\\Users\\Wan Jing\\Documents\\libact-torch\\libact\\query_strategies\\contextual_bandits_active_learning.py:180: UserWarning: To copy construct from a tensor, it is recommended to use sourceTensor.clone().detach() or sourceTensor.clone().detach().requires_grad_(True), rather than torch.tensor(sourceTensor).\n",
      "  ex = torch.tensor(self.dataset.data[self.queried_hist_[-1]][0]).to(self.device)\n",
      "C:\\Users\\Wan Jing\\Documents\\libact-torch\\libact\\query_strategies\\uncertainty_sampling.py:149: UserWarning: To copy construct from a tensor, it is recommended to use sourceTensor.clone().detach() or sourceTensor.clone().detach().requires_grad_(True), rather than torch.tensor(sourceTensor).\n",
      "  ex = torch.tensor(self.dataset.data[self.queried_hist_[-1]][0]).to(self.device)\n",
      "C:\\Users\\Wan Jing\\Documents\\libact-torch\\libact\\query_strategies\\representative_sampling.py:113: UserWarning: To copy construct from a tensor, it is recommended to use sourceTensor.clone().detach() or sourceTensor.clone().detach().requires_grad_(True), rather than torch.tensor(sourceTensor).\n",
      "  ex = torch.tensor(self.dataset.data[self.queried_hist_[-1]][0]).to(self.device)\n"
     ]
    },
    {
     "name": "stdout",
     "output_type": "stream",
     "text": [
      "   strategy  labeled_acc  testing_acc\n",
      "52        2     0.370685     0.334249\n",
      "Tue Aug 25 05:55:49 2020 ContextualBanditsActiveLearning query round: 54\n",
      "Strategy Chosen: UncertaintySampling\n"
     ]
    },
    {
     "name": "stderr",
     "output_type": "stream",
     "text": [
      "C:\\Users\\Wan Jing\\Documents\\libact-torch\\libact\\query_strategies\\random_sampling.py:86: UserWarning: To copy construct from a tensor, it is recommended to use sourceTensor.clone().detach() or sourceTensor.clone().detach().requires_grad_(True), rather than torch.tensor(sourceTensor).\n",
      "  ex = torch.tensor(self.dataset.data[self.queried_hist_[-1]][0]).to(self.device)\n",
      "C:\\Users\\Wan Jing\\Documents\\libact-torch\\libact\\query_strategies\\contextual_bandits_active_learning.py:180: UserWarning: To copy construct from a tensor, it is recommended to use sourceTensor.clone().detach() or sourceTensor.clone().detach().requires_grad_(True), rather than torch.tensor(sourceTensor).\n",
      "  ex = torch.tensor(self.dataset.data[self.queried_hist_[-1]][0]).to(self.device)\n",
      "C:\\Users\\Wan Jing\\Documents\\libact-torch\\libact\\query_strategies\\uncertainty_sampling.py:149: UserWarning: To copy construct from a tensor, it is recommended to use sourceTensor.clone().detach() or sourceTensor.clone().detach().requires_grad_(True), rather than torch.tensor(sourceTensor).\n",
      "  ex = torch.tensor(self.dataset.data[self.queried_hist_[-1]][0]).to(self.device)\n",
      "C:\\Users\\Wan Jing\\Documents\\libact-torch\\libact\\query_strategies\\representative_sampling.py:113: UserWarning: To copy construct from a tensor, it is recommended to use sourceTensor.clone().detach() or sourceTensor.clone().detach().requires_grad_(True), rather than torch.tensor(sourceTensor).\n",
      "  ex = torch.tensor(self.dataset.data[self.queried_hist_[-1]][0]).to(self.device)\n"
     ]
    },
    {
     "name": "stdout",
     "output_type": "stream",
     "text": [
      "   strategy  labeled_acc  testing_acc\n",
      "53        2     0.362162     0.330281\n",
      "Tue Aug 25 05:56:00 2020 ContextualBanditsActiveLearning query round: 55\n",
      "Strategy Chosen: RepresentativeSampling\n"
     ]
    },
    {
     "name": "stderr",
     "output_type": "stream",
     "text": [
      "C:\\Users\\Wan Jing\\Documents\\libact-torch\\libact\\query_strategies\\representative_sampling.py:147: UserWarning: To copy construct from a tensor, it is recommended to use sourceTensor.clone().detach() or sourceTensor.clone().detach().requires_grad_(True), rather than torch.tensor(sourceTensor).\n",
      "  x = torch.tensor(x).to(self.device)\n",
      "C:\\Users\\Wan Jing\\Documents\\libact-torch\\libact\\query_strategies\\random_sampling.py:86: UserWarning: To copy construct from a tensor, it is recommended to use sourceTensor.clone().detach() or sourceTensor.clone().detach().requires_grad_(True), rather than torch.tensor(sourceTensor).\n",
      "  ex = torch.tensor(self.dataset.data[self.queried_hist_[-1]][0]).to(self.device)\n",
      "C:\\Users\\Wan Jing\\Documents\\libact-torch\\libact\\query_strategies\\contextual_bandits_active_learning.py:180: UserWarning: To copy construct from a tensor, it is recommended to use sourceTensor.clone().detach() or sourceTensor.clone().detach().requires_grad_(True), rather than torch.tensor(sourceTensor).\n",
      "  ex = torch.tensor(self.dataset.data[self.queried_hist_[-1]][0]).to(self.device)\n",
      "C:\\Users\\Wan Jing\\Documents\\libact-torch\\libact\\query_strategies\\uncertainty_sampling.py:149: UserWarning: To copy construct from a tensor, it is recommended to use sourceTensor.clone().detach() or sourceTensor.clone().detach().requires_grad_(True), rather than torch.tensor(sourceTensor).\n",
      "  ex = torch.tensor(self.dataset.data[self.queried_hist_[-1]][0]).to(self.device)\n",
      "C:\\Users\\Wan Jing\\Documents\\libact-torch\\libact\\query_strategies\\representative_sampling.py:113: UserWarning: To copy construct from a tensor, it is recommended to use sourceTensor.clone().detach() or sourceTensor.clone().detach().requires_grad_(True), rather than torch.tensor(sourceTensor).\n",
      "  ex = torch.tensor(self.dataset.data[self.queried_hist_[-1]][0]).to(self.device)\n",
      "C:\\Users\\Wan Jing\\.conda\\envs\\deepCB\\lib\\site-packages\\sklearn\\metrics\\_classification.py:1221: UndefinedMetricWarning: Precision is ill-defined and being set to 0.0 in labels with no predicted samples. Use `zero_division` parameter to control this behavior.\n",
      "  _warn_prf(average, modifier, msg_start, len(result))\n"
     ]
    },
    {
     "name": "stdout",
     "output_type": "stream",
     "text": [
      "   strategy  labeled_acc  testing_acc\n",
      "54        4       0.3736     0.338523\n",
      "Tue Aug 25 05:56:14 2020 ContextualBanditsActiveLearning query round: 56\n",
      "Strategy Chosen: UncertaintySampling\n"
     ]
    },
    {
     "name": "stderr",
     "output_type": "stream",
     "text": [
      "C:\\Users\\Wan Jing\\Documents\\libact-torch\\libact\\query_strategies\\random_sampling.py:86: UserWarning: To copy construct from a tensor, it is recommended to use sourceTensor.clone().detach() or sourceTensor.clone().detach().requires_grad_(True), rather than torch.tensor(sourceTensor).\n",
      "  ex = torch.tensor(self.dataset.data[self.queried_hist_[-1]][0]).to(self.device)\n",
      "C:\\Users\\Wan Jing\\Documents\\libact-torch\\libact\\query_strategies\\contextual_bandits_active_learning.py:180: UserWarning: To copy construct from a tensor, it is recommended to use sourceTensor.clone().detach() or sourceTensor.clone().detach().requires_grad_(True), rather than torch.tensor(sourceTensor).\n",
      "  ex = torch.tensor(self.dataset.data[self.queried_hist_[-1]][0]).to(self.device)\n",
      "C:\\Users\\Wan Jing\\Documents\\libact-torch\\libact\\query_strategies\\uncertainty_sampling.py:149: UserWarning: To copy construct from a tensor, it is recommended to use sourceTensor.clone().detach() or sourceTensor.clone().detach().requires_grad_(True), rather than torch.tensor(sourceTensor).\n",
      "  ex = torch.tensor(self.dataset.data[self.queried_hist_[-1]][0]).to(self.device)\n",
      "C:\\Users\\Wan Jing\\Documents\\libact-torch\\libact\\query_strategies\\representative_sampling.py:113: UserWarning: To copy construct from a tensor, it is recommended to use sourceTensor.clone().detach() or sourceTensor.clone().detach().requires_grad_(True), rather than torch.tensor(sourceTensor).\n",
      "  ex = torch.tensor(self.dataset.data[self.queried_hist_[-1]][0]).to(self.device)\n"
     ]
    },
    {
     "name": "stdout",
     "output_type": "stream",
     "text": [
      "   strategy  labeled_acc  testing_acc\n",
      "55        1     0.371316      0.33486\n",
      "Tue Aug 25 05:56:26 2020 ContextualBanditsActiveLearning query round: 57\n",
      "Strategy Chosen: UncertaintySampling\n"
     ]
    },
    {
     "name": "stderr",
     "output_type": "stream",
     "text": [
      "C:\\Users\\Wan Jing\\Documents\\libact-torch\\libact\\query_strategies\\random_sampling.py:86: UserWarning: To copy construct from a tensor, it is recommended to use sourceTensor.clone().detach() or sourceTensor.clone().detach().requires_grad_(True), rather than torch.tensor(sourceTensor).\n",
      "  ex = torch.tensor(self.dataset.data[self.queried_hist_[-1]][0]).to(self.device)\n",
      "C:\\Users\\Wan Jing\\Documents\\libact-torch\\libact\\query_strategies\\contextual_bandits_active_learning.py:180: UserWarning: To copy construct from a tensor, it is recommended to use sourceTensor.clone().detach() or sourceTensor.clone().detach().requires_grad_(True), rather than torch.tensor(sourceTensor).\n",
      "  ex = torch.tensor(self.dataset.data[self.queried_hist_[-1]][0]).to(self.device)\n",
      "C:\\Users\\Wan Jing\\Documents\\libact-torch\\libact\\query_strategies\\uncertainty_sampling.py:149: UserWarning: To copy construct from a tensor, it is recommended to use sourceTensor.clone().detach() or sourceTensor.clone().detach().requires_grad_(True), rather than torch.tensor(sourceTensor).\n",
      "  ex = torch.tensor(self.dataset.data[self.queried_hist_[-1]][0]).to(self.device)\n",
      "C:\\Users\\Wan Jing\\Documents\\libact-torch\\libact\\query_strategies\\representative_sampling.py:113: UserWarning: To copy construct from a tensor, it is recommended to use sourceTensor.clone().detach() or sourceTensor.clone().detach().requires_grad_(True), rather than torch.tensor(sourceTensor).\n",
      "  ex = torch.tensor(self.dataset.data[self.queried_hist_[-1]][0]).to(self.device)\n",
      "C:\\Users\\Wan Jing\\.conda\\envs\\deepCB\\lib\\site-packages\\sklearn\\metrics\\_classification.py:1221: UndefinedMetricWarning: Precision is ill-defined and being set to 0.0 in labels with no predicted samples. Use `zero_division` parameter to control this behavior.\n",
      "  _warn_prf(average, modifier, msg_start, len(result))\n"
     ]
    },
    {
     "name": "stdout",
     "output_type": "stream",
     "text": [
      "   strategy  labeled_acc  testing_acc\n",
      "56        2     0.383896      0.34707\n",
      "Tue Aug 25 05:56:37 2020 ContextualBanditsActiveLearning query round: 58\n",
      "Strategy Chosen: RepresentativeSampling\n"
     ]
    },
    {
     "name": "stderr",
     "output_type": "stream",
     "text": [
      "C:\\Users\\Wan Jing\\Documents\\libact-torch\\libact\\query_strategies\\representative_sampling.py:147: UserWarning: To copy construct from a tensor, it is recommended to use sourceTensor.clone().detach() or sourceTensor.clone().detach().requires_grad_(True), rather than torch.tensor(sourceTensor).\n",
      "  x = torch.tensor(x).to(self.device)\n",
      "C:\\Users\\Wan Jing\\Documents\\libact-torch\\libact\\query_strategies\\random_sampling.py:86: UserWarning: To copy construct from a tensor, it is recommended to use sourceTensor.clone().detach() or sourceTensor.clone().detach().requires_grad_(True), rather than torch.tensor(sourceTensor).\n",
      "  ex = torch.tensor(self.dataset.data[self.queried_hist_[-1]][0]).to(self.device)\n",
      "C:\\Users\\Wan Jing\\Documents\\libact-torch\\libact\\query_strategies\\contextual_bandits_active_learning.py:180: UserWarning: To copy construct from a tensor, it is recommended to use sourceTensor.clone().detach() or sourceTensor.clone().detach().requires_grad_(True), rather than torch.tensor(sourceTensor).\n",
      "  ex = torch.tensor(self.dataset.data[self.queried_hist_[-1]][0]).to(self.device)\n",
      "C:\\Users\\Wan Jing\\Documents\\libact-torch\\libact\\query_strategies\\uncertainty_sampling.py:149: UserWarning: To copy construct from a tensor, it is recommended to use sourceTensor.clone().detach() or sourceTensor.clone().detach().requires_grad_(True), rather than torch.tensor(sourceTensor).\n",
      "  ex = torch.tensor(self.dataset.data[self.queried_hist_[-1]][0]).to(self.device)\n",
      "C:\\Users\\Wan Jing\\Documents\\libact-torch\\libact\\query_strategies\\representative_sampling.py:113: UserWarning: To copy construct from a tensor, it is recommended to use sourceTensor.clone().detach() or sourceTensor.clone().detach().requires_grad_(True), rather than torch.tensor(sourceTensor).\n",
      "  ex = torch.tensor(self.dataset.data[self.queried_hist_[-1]][0]).to(self.device)\n",
      "C:\\Users\\Wan Jing\\.conda\\envs\\deepCB\\lib\\site-packages\\sklearn\\metrics\\_classification.py:1221: UndefinedMetricWarning: Precision is ill-defined and being set to 0.0 in labels with no predicted samples. Use `zero_division` parameter to control this behavior.\n",
      "  _warn_prf(average, modifier, msg_start, len(result))\n"
     ]
    },
    {
     "name": "stdout",
     "output_type": "stream",
     "text": [
      "   strategy  labeled_acc  testing_acc\n",
      "57        4      0.38641     0.348291\n",
      "Tue Aug 25 05:56:52 2020 ContextualBanditsActiveLearning query round: 59\n",
      "Strategy Chosen: RandomSampling\n"
     ]
    },
    {
     "name": "stderr",
     "output_type": "stream",
     "text": [
      "C:\\Users\\Wan Jing\\Documents\\libact-torch\\libact\\query_strategies\\random_sampling.py:86: UserWarning: To copy construct from a tensor, it is recommended to use sourceTensor.clone().detach() or sourceTensor.clone().detach().requires_grad_(True), rather than torch.tensor(sourceTensor).\n",
      "  ex = torch.tensor(self.dataset.data[self.queried_hist_[-1]][0]).to(self.device)\n",
      "C:\\Users\\Wan Jing\\Documents\\libact-torch\\libact\\query_strategies\\contextual_bandits_active_learning.py:180: UserWarning: To copy construct from a tensor, it is recommended to use sourceTensor.clone().detach() or sourceTensor.clone().detach().requires_grad_(True), rather than torch.tensor(sourceTensor).\n",
      "  ex = torch.tensor(self.dataset.data[self.queried_hist_[-1]][0]).to(self.device)\n",
      "C:\\Users\\Wan Jing\\Documents\\libact-torch\\libact\\query_strategies\\uncertainty_sampling.py:149: UserWarning: To copy construct from a tensor, it is recommended to use sourceTensor.clone().detach() or sourceTensor.clone().detach().requires_grad_(True), rather than torch.tensor(sourceTensor).\n",
      "  ex = torch.tensor(self.dataset.data[self.queried_hist_[-1]][0]).to(self.device)\n",
      "C:\\Users\\Wan Jing\\Documents\\libact-torch\\libact\\query_strategies\\representative_sampling.py:113: UserWarning: To copy construct from a tensor, it is recommended to use sourceTensor.clone().detach() or sourceTensor.clone().detach().requires_grad_(True), rather than torch.tensor(sourceTensor).\n",
      "  ex = torch.tensor(self.dataset.data[self.queried_hist_[-1]][0]).to(self.device)\n",
      "C:\\Users\\Wan Jing\\.conda\\envs\\deepCB\\lib\\site-packages\\sklearn\\metrics\\_classification.py:1221: UndefinedMetricWarning: Precision is ill-defined and being set to 0.0 in labels with no predicted samples. Use `zero_division` parameter to control this behavior.\n",
      "  _warn_prf(average, modifier, msg_start, len(result))\n"
     ]
    },
    {
     "name": "stdout",
     "output_type": "stream",
     "text": [
      "   strategy  labeled_acc  testing_acc\n",
      "58        0     0.385316     0.350733\n",
      "Tue Aug 25 05:57:00 2020 ContextualBanditsActiveLearning query round: 60\n",
      "Strategy Chosen: RepresentativeSampling\n"
     ]
    },
    {
     "name": "stderr",
     "output_type": "stream",
     "text": [
      "C:\\Users\\Wan Jing\\Documents\\libact-torch\\libact\\query_strategies\\representative_sampling.py:147: UserWarning: To copy construct from a tensor, it is recommended to use sourceTensor.clone().detach() or sourceTensor.clone().detach().requires_grad_(True), rather than torch.tensor(sourceTensor).\n",
      "  x = torch.tensor(x).to(self.device)\n",
      "C:\\Users\\Wan Jing\\Documents\\libact-torch\\libact\\query_strategies\\random_sampling.py:86: UserWarning: To copy construct from a tensor, it is recommended to use sourceTensor.clone().detach() or sourceTensor.clone().detach().requires_grad_(True), rather than torch.tensor(sourceTensor).\n",
      "  ex = torch.tensor(self.dataset.data[self.queried_hist_[-1]][0]).to(self.device)\n",
      "C:\\Users\\Wan Jing\\Documents\\libact-torch\\libact\\query_strategies\\contextual_bandits_active_learning.py:180: UserWarning: To copy construct from a tensor, it is recommended to use sourceTensor.clone().detach() or sourceTensor.clone().detach().requires_grad_(True), rather than torch.tensor(sourceTensor).\n",
      "  ex = torch.tensor(self.dataset.data[self.queried_hist_[-1]][0]).to(self.device)\n",
      "C:\\Users\\Wan Jing\\Documents\\libact-torch\\libact\\query_strategies\\uncertainty_sampling.py:149: UserWarning: To copy construct from a tensor, it is recommended to use sourceTensor.clone().detach() or sourceTensor.clone().detach().requires_grad_(True), rather than torch.tensor(sourceTensor).\n",
      "  ex = torch.tensor(self.dataset.data[self.queried_hist_[-1]][0]).to(self.device)\n",
      "C:\\Users\\Wan Jing\\Documents\\libact-torch\\libact\\query_strategies\\representative_sampling.py:113: UserWarning: To copy construct from a tensor, it is recommended to use sourceTensor.clone().detach() or sourceTensor.clone().detach().requires_grad_(True), rather than torch.tensor(sourceTensor).\n",
      "  ex = torch.tensor(self.dataset.data[self.queried_hist_[-1]][0]).to(self.device)\n",
      "C:\\Users\\Wan Jing\\.conda\\envs\\deepCB\\lib\\site-packages\\sklearn\\metrics\\_classification.py:1221: UndefinedMetricWarning: Precision is ill-defined and being set to 0.0 in labels with no predicted samples. Use `zero_division` parameter to control this behavior.\n",
      "  _warn_prf(average, modifier, msg_start, len(result))\n"
     ]
    },
    {
     "name": "stdout",
     "output_type": "stream",
     "text": [
      "   strategy  labeled_acc  testing_acc\n",
      "59        4      0.39025      0.34768\n",
      "Tue Aug 25 05:57:15 2020 ContextualBanditsActiveLearning query round: 61\n",
      "Strategy Chosen: RepresentativeSampling\n"
     ]
    },
    {
     "name": "stderr",
     "output_type": "stream",
     "text": [
      "C:\\Users\\Wan Jing\\Documents\\libact-torch\\libact\\query_strategies\\representative_sampling.py:147: UserWarning: To copy construct from a tensor, it is recommended to use sourceTensor.clone().detach() or sourceTensor.clone().detach().requires_grad_(True), rather than torch.tensor(sourceTensor).\n",
      "  x = torch.tensor(x).to(self.device)\n",
      "C:\\Users\\Wan Jing\\Documents\\libact-torch\\libact\\query_strategies\\random_sampling.py:86: UserWarning: To copy construct from a tensor, it is recommended to use sourceTensor.clone().detach() or sourceTensor.clone().detach().requires_grad_(True), rather than torch.tensor(sourceTensor).\n",
      "  ex = torch.tensor(self.dataset.data[self.queried_hist_[-1]][0]).to(self.device)\n",
      "C:\\Users\\Wan Jing\\Documents\\libact-torch\\libact\\query_strategies\\contextual_bandits_active_learning.py:180: UserWarning: To copy construct from a tensor, it is recommended to use sourceTensor.clone().detach() or sourceTensor.clone().detach().requires_grad_(True), rather than torch.tensor(sourceTensor).\n",
      "  ex = torch.tensor(self.dataset.data[self.queried_hist_[-1]][0]).to(self.device)\n",
      "C:\\Users\\Wan Jing\\Documents\\libact-torch\\libact\\query_strategies\\uncertainty_sampling.py:149: UserWarning: To copy construct from a tensor, it is recommended to use sourceTensor.clone().detach() or sourceTensor.clone().detach().requires_grad_(True), rather than torch.tensor(sourceTensor).\n",
      "  ex = torch.tensor(self.dataset.data[self.queried_hist_[-1]][0]).to(self.device)\n",
      "C:\\Users\\Wan Jing\\Documents\\libact-torch\\libact\\query_strategies\\representative_sampling.py:113: UserWarning: To copy construct from a tensor, it is recommended to use sourceTensor.clone().detach() or sourceTensor.clone().detach().requires_grad_(True), rather than torch.tensor(sourceTensor).\n",
      "  ex = torch.tensor(self.dataset.data[self.queried_hist_[-1]][0]).to(self.device)\n",
      "C:\\Users\\Wan Jing\\.conda\\envs\\deepCB\\lib\\site-packages\\sklearn\\metrics\\_classification.py:1221: UndefinedMetricWarning: Precision is ill-defined and being set to 0.0 in labels with no predicted samples. Use `zero_division` parameter to control this behavior.\n",
      "  _warn_prf(average, modifier, msg_start, len(result))\n"
     ]
    },
    {
     "name": "stdout",
     "output_type": "stream",
     "text": [
      "   strategy  labeled_acc  testing_acc\n",
      "60        4     0.395556     0.352869\n",
      "Tue Aug 25 05:57:29 2020 ContextualBanditsActiveLearning query round: 62\n",
      "Strategy Chosen: UncertaintySampling\n"
     ]
    },
    {
     "name": "stderr",
     "output_type": "stream",
     "text": [
      "C:\\Users\\Wan Jing\\Documents\\libact-torch\\libact\\query_strategies\\random_sampling.py:86: UserWarning: To copy construct from a tensor, it is recommended to use sourceTensor.clone().detach() or sourceTensor.clone().detach().requires_grad_(True), rather than torch.tensor(sourceTensor).\n",
      "  ex = torch.tensor(self.dataset.data[self.queried_hist_[-1]][0]).to(self.device)\n",
      "C:\\Users\\Wan Jing\\Documents\\libact-torch\\libact\\query_strategies\\contextual_bandits_active_learning.py:180: UserWarning: To copy construct from a tensor, it is recommended to use sourceTensor.clone().detach() or sourceTensor.clone().detach().requires_grad_(True), rather than torch.tensor(sourceTensor).\n",
      "  ex = torch.tensor(self.dataset.data[self.queried_hist_[-1]][0]).to(self.device)\n",
      "C:\\Users\\Wan Jing\\Documents\\libact-torch\\libact\\query_strategies\\uncertainty_sampling.py:149: UserWarning: To copy construct from a tensor, it is recommended to use sourceTensor.clone().detach() or sourceTensor.clone().detach().requires_grad_(True), rather than torch.tensor(sourceTensor).\n",
      "  ex = torch.tensor(self.dataset.data[self.queried_hist_[-1]][0]).to(self.device)\n",
      "C:\\Users\\Wan Jing\\Documents\\libact-torch\\libact\\query_strategies\\representative_sampling.py:113: UserWarning: To copy construct from a tensor, it is recommended to use sourceTensor.clone().detach() or sourceTensor.clone().detach().requires_grad_(True), rather than torch.tensor(sourceTensor).\n",
      "  ex = torch.tensor(self.dataset.data[self.queried_hist_[-1]][0]).to(self.device)\n",
      "C:\\Users\\Wan Jing\\.conda\\envs\\deepCB\\lib\\site-packages\\sklearn\\metrics\\_classification.py:1221: UndefinedMetricWarning: Precision is ill-defined and being set to 0.0 in labels with no predicted samples. Use `zero_division` parameter to control this behavior.\n",
      "  _warn_prf(average, modifier, msg_start, len(result))\n"
     ]
    },
    {
     "name": "stdout",
     "output_type": "stream",
     "text": [
      "   strategy  labeled_acc  testing_acc\n",
      "61        1     0.385122     0.348596\n",
      "Tue Aug 25 05:57:41 2020 ContextualBanditsActiveLearning query round: 63\n",
      "Strategy Chosen: RepresentativeSampling\n"
     ]
    },
    {
     "name": "stderr",
     "output_type": "stream",
     "text": [
      "C:\\Users\\Wan Jing\\Documents\\libact-torch\\libact\\query_strategies\\representative_sampling.py:147: UserWarning: To copy construct from a tensor, it is recommended to use sourceTensor.clone().detach() or sourceTensor.clone().detach().requires_grad_(True), rather than torch.tensor(sourceTensor).\n",
      "  x = torch.tensor(x).to(self.device)\n",
      "C:\\Users\\Wan Jing\\Documents\\libact-torch\\libact\\query_strategies\\random_sampling.py:86: UserWarning: To copy construct from a tensor, it is recommended to use sourceTensor.clone().detach() or sourceTensor.clone().detach().requires_grad_(True), rather than torch.tensor(sourceTensor).\n",
      "  ex = torch.tensor(self.dataset.data[self.queried_hist_[-1]][0]).to(self.device)\n",
      "C:\\Users\\Wan Jing\\Documents\\libact-torch\\libact\\query_strategies\\contextual_bandits_active_learning.py:180: UserWarning: To copy construct from a tensor, it is recommended to use sourceTensor.clone().detach() or sourceTensor.clone().detach().requires_grad_(True), rather than torch.tensor(sourceTensor).\n",
      "  ex = torch.tensor(self.dataset.data[self.queried_hist_[-1]][0]).to(self.device)\n",
      "C:\\Users\\Wan Jing\\Documents\\libact-torch\\libact\\query_strategies\\uncertainty_sampling.py:149: UserWarning: To copy construct from a tensor, it is recommended to use sourceTensor.clone().detach() or sourceTensor.clone().detach().requires_grad_(True), rather than torch.tensor(sourceTensor).\n",
      "  ex = torch.tensor(self.dataset.data[self.queried_hist_[-1]][0]).to(self.device)\n",
      "C:\\Users\\Wan Jing\\Documents\\libact-torch\\libact\\query_strategies\\representative_sampling.py:113: UserWarning: To copy construct from a tensor, it is recommended to use sourceTensor.clone().detach() or sourceTensor.clone().detach().requires_grad_(True), rather than torch.tensor(sourceTensor).\n",
      "  ex = torch.tensor(self.dataset.data[self.queried_hist_[-1]][0]).to(self.device)\n",
      "C:\\Users\\Wan Jing\\.conda\\envs\\deepCB\\lib\\site-packages\\sklearn\\metrics\\_classification.py:1221: UndefinedMetricWarning: Precision is ill-defined and being set to 0.0 in labels with no predicted samples. Use `zero_division` parameter to control this behavior.\n",
      "  _warn_prf(average, modifier, msg_start, len(result))\n"
     ]
    },
    {
     "name": "stdout",
     "output_type": "stream",
     "text": [
      "   strategy  labeled_acc  testing_acc\n",
      "62        4     0.393253     0.350122\n",
      "Tue Aug 25 05:57:56 2020 ContextualBanditsActiveLearning query round: 64\n",
      "Strategy Chosen: RandomSampling\n"
     ]
    },
    {
     "name": "stderr",
     "output_type": "stream",
     "text": [
      "C:\\Users\\Wan Jing\\Documents\\libact-torch\\libact\\query_strategies\\random_sampling.py:86: UserWarning: To copy construct from a tensor, it is recommended to use sourceTensor.clone().detach() or sourceTensor.clone().detach().requires_grad_(True), rather than torch.tensor(sourceTensor).\n",
      "  ex = torch.tensor(self.dataset.data[self.queried_hist_[-1]][0]).to(self.device)\n",
      "C:\\Users\\Wan Jing\\Documents\\libact-torch\\libact\\query_strategies\\contextual_bandits_active_learning.py:180: UserWarning: To copy construct from a tensor, it is recommended to use sourceTensor.clone().detach() or sourceTensor.clone().detach().requires_grad_(True), rather than torch.tensor(sourceTensor).\n",
      "  ex = torch.tensor(self.dataset.data[self.queried_hist_[-1]][0]).to(self.device)\n",
      "C:\\Users\\Wan Jing\\Documents\\libact-torch\\libact\\query_strategies\\uncertainty_sampling.py:149: UserWarning: To copy construct from a tensor, it is recommended to use sourceTensor.clone().detach() or sourceTensor.clone().detach().requires_grad_(True), rather than torch.tensor(sourceTensor).\n",
      "  ex = torch.tensor(self.dataset.data[self.queried_hist_[-1]][0]).to(self.device)\n",
      "C:\\Users\\Wan Jing\\Documents\\libact-torch\\libact\\query_strategies\\representative_sampling.py:113: UserWarning: To copy construct from a tensor, it is recommended to use sourceTensor.clone().detach() or sourceTensor.clone().detach().requires_grad_(True), rather than torch.tensor(sourceTensor).\n",
      "  ex = torch.tensor(self.dataset.data[self.queried_hist_[-1]][0]).to(self.device)\n",
      "C:\\Users\\Wan Jing\\.conda\\envs\\deepCB\\lib\\site-packages\\sklearn\\metrics\\_classification.py:1221: UndefinedMetricWarning: Precision is ill-defined and being set to 0.0 in labels with no predicted samples. Use `zero_division` parameter to control this behavior.\n",
      "  _warn_prf(average, modifier, msg_start, len(result))\n"
     ]
    },
    {
     "name": "stdout",
     "output_type": "stream",
     "text": [
      "   strategy  labeled_acc  testing_acc\n",
      "63        0     0.391905     0.351343\n",
      "Tue Aug 25 05:58:04 2020 ContextualBanditsActiveLearning query round: 65\n",
      "Strategy Chosen: UncertaintySampling\n"
     ]
    },
    {
     "name": "stderr",
     "output_type": "stream",
     "text": [
      "C:\\Users\\Wan Jing\\Documents\\libact-torch\\libact\\query_strategies\\random_sampling.py:86: UserWarning: To copy construct from a tensor, it is recommended to use sourceTensor.clone().detach() or sourceTensor.clone().detach().requires_grad_(True), rather than torch.tensor(sourceTensor).\n",
      "  ex = torch.tensor(self.dataset.data[self.queried_hist_[-1]][0]).to(self.device)\n",
      "C:\\Users\\Wan Jing\\Documents\\libact-torch\\libact\\query_strategies\\contextual_bandits_active_learning.py:180: UserWarning: To copy construct from a tensor, it is recommended to use sourceTensor.clone().detach() or sourceTensor.clone().detach().requires_grad_(True), rather than torch.tensor(sourceTensor).\n",
      "  ex = torch.tensor(self.dataset.data[self.queried_hist_[-1]][0]).to(self.device)\n",
      "C:\\Users\\Wan Jing\\Documents\\libact-torch\\libact\\query_strategies\\uncertainty_sampling.py:149: UserWarning: To copy construct from a tensor, it is recommended to use sourceTensor.clone().detach() or sourceTensor.clone().detach().requires_grad_(True), rather than torch.tensor(sourceTensor).\n",
      "  ex = torch.tensor(self.dataset.data[self.queried_hist_[-1]][0]).to(self.device)\n",
      "C:\\Users\\Wan Jing\\Documents\\libact-torch\\libact\\query_strategies\\representative_sampling.py:113: UserWarning: To copy construct from a tensor, it is recommended to use sourceTensor.clone().detach() or sourceTensor.clone().detach().requires_grad_(True), rather than torch.tensor(sourceTensor).\n",
      "  ex = torch.tensor(self.dataset.data[self.queried_hist_[-1]][0]).to(self.device)\n"
     ]
    },
    {
     "name": "stdout",
     "output_type": "stream",
     "text": [
      "   strategy  labeled_acc  testing_acc\n",
      "64        3     0.401176     0.352259\n",
      "Tue Aug 25 05:58:16 2020 ContextualBanditsActiveLearning query round: 66\n",
      "Strategy Chosen: UncertaintySampling\n"
     ]
    },
    {
     "name": "stderr",
     "output_type": "stream",
     "text": [
      "C:\\Users\\Wan Jing\\Documents\\libact-torch\\libact\\query_strategies\\random_sampling.py:86: UserWarning: To copy construct from a tensor, it is recommended to use sourceTensor.clone().detach() or sourceTensor.clone().detach().requires_grad_(True), rather than torch.tensor(sourceTensor).\n",
      "  ex = torch.tensor(self.dataset.data[self.queried_hist_[-1]][0]).to(self.device)\n",
      "C:\\Users\\Wan Jing\\Documents\\libact-torch\\libact\\query_strategies\\contextual_bandits_active_learning.py:180: UserWarning: To copy construct from a tensor, it is recommended to use sourceTensor.clone().detach() or sourceTensor.clone().detach().requires_grad_(True), rather than torch.tensor(sourceTensor).\n",
      "  ex = torch.tensor(self.dataset.data[self.queried_hist_[-1]][0]).to(self.device)\n",
      "C:\\Users\\Wan Jing\\Documents\\libact-torch\\libact\\query_strategies\\uncertainty_sampling.py:149: UserWarning: To copy construct from a tensor, it is recommended to use sourceTensor.clone().detach() or sourceTensor.clone().detach().requires_grad_(True), rather than torch.tensor(sourceTensor).\n",
      "  ex = torch.tensor(self.dataset.data[self.queried_hist_[-1]][0]).to(self.device)\n",
      "C:\\Users\\Wan Jing\\Documents\\libact-torch\\libact\\query_strategies\\representative_sampling.py:113: UserWarning: To copy construct from a tensor, it is recommended to use sourceTensor.clone().detach() or sourceTensor.clone().detach().requires_grad_(True), rather than torch.tensor(sourceTensor).\n",
      "  ex = torch.tensor(self.dataset.data[self.queried_hist_[-1]][0]).to(self.device)\n"
     ]
    },
    {
     "name": "stdout",
     "output_type": "stream",
     "text": [
      "   strategy  labeled_acc  testing_acc\n",
      "65        1     0.399302     0.357753\n",
      "Tue Aug 25 05:58:28 2020 ContextualBanditsActiveLearning query round: 67\n",
      "Strategy Chosen: UncertaintySampling\n"
     ]
    },
    {
     "name": "stderr",
     "output_type": "stream",
     "text": [
      "C:\\Users\\Wan Jing\\Documents\\libact-torch\\libact\\query_strategies\\random_sampling.py:86: UserWarning: To copy construct from a tensor, it is recommended to use sourceTensor.clone().detach() or sourceTensor.clone().detach().requires_grad_(True), rather than torch.tensor(sourceTensor).\n",
      "  ex = torch.tensor(self.dataset.data[self.queried_hist_[-1]][0]).to(self.device)\n",
      "C:\\Users\\Wan Jing\\Documents\\libact-torch\\libact\\query_strategies\\contextual_bandits_active_learning.py:180: UserWarning: To copy construct from a tensor, it is recommended to use sourceTensor.clone().detach() or sourceTensor.clone().detach().requires_grad_(True), rather than torch.tensor(sourceTensor).\n",
      "  ex = torch.tensor(self.dataset.data[self.queried_hist_[-1]][0]).to(self.device)\n",
      "C:\\Users\\Wan Jing\\Documents\\libact-torch\\libact\\query_strategies\\uncertainty_sampling.py:149: UserWarning: To copy construct from a tensor, it is recommended to use sourceTensor.clone().detach() or sourceTensor.clone().detach().requires_grad_(True), rather than torch.tensor(sourceTensor).\n",
      "  ex = torch.tensor(self.dataset.data[self.queried_hist_[-1]][0]).to(self.device)\n",
      "C:\\Users\\Wan Jing\\Documents\\libact-torch\\libact\\query_strategies\\representative_sampling.py:113: UserWarning: To copy construct from a tensor, it is recommended to use sourceTensor.clone().detach() or sourceTensor.clone().detach().requires_grad_(True), rather than torch.tensor(sourceTensor).\n",
      "  ex = torch.tensor(self.dataset.data[self.queried_hist_[-1]][0]).to(self.device)\n",
      "C:\\Users\\Wan Jing\\.conda\\envs\\deepCB\\lib\\site-packages\\sklearn\\metrics\\_classification.py:1221: UndefinedMetricWarning: Precision is ill-defined and being set to 0.0 in labels with no predicted samples. Use `zero_division` parameter to control this behavior.\n",
      "  _warn_prf(average, modifier, msg_start, len(result))\n"
     ]
    },
    {
     "name": "stdout",
     "output_type": "stream",
     "text": [
      "   strategy  labeled_acc  testing_acc\n",
      "66        2     0.401379     0.356838\n",
      "Tue Aug 25 05:58:40 2020 ContextualBanditsActiveLearning query round: 68\n",
      "Strategy Chosen: UncertaintySampling\n"
     ]
    },
    {
     "name": "stderr",
     "output_type": "stream",
     "text": [
      "C:\\Users\\Wan Jing\\Documents\\libact-torch\\libact\\query_strategies\\random_sampling.py:86: UserWarning: To copy construct from a tensor, it is recommended to use sourceTensor.clone().detach() or sourceTensor.clone().detach().requires_grad_(True), rather than torch.tensor(sourceTensor).\n",
      "  ex = torch.tensor(self.dataset.data[self.queried_hist_[-1]][0]).to(self.device)\n",
      "C:\\Users\\Wan Jing\\Documents\\libact-torch\\libact\\query_strategies\\contextual_bandits_active_learning.py:180: UserWarning: To copy construct from a tensor, it is recommended to use sourceTensor.clone().detach() or sourceTensor.clone().detach().requires_grad_(True), rather than torch.tensor(sourceTensor).\n",
      "  ex = torch.tensor(self.dataset.data[self.queried_hist_[-1]][0]).to(self.device)\n",
      "C:\\Users\\Wan Jing\\Documents\\libact-torch\\libact\\query_strategies\\uncertainty_sampling.py:149: UserWarning: To copy construct from a tensor, it is recommended to use sourceTensor.clone().detach() or sourceTensor.clone().detach().requires_grad_(True), rather than torch.tensor(sourceTensor).\n",
      "  ex = torch.tensor(self.dataset.data[self.queried_hist_[-1]][0]).to(self.device)\n",
      "C:\\Users\\Wan Jing\\Documents\\libact-torch\\libact\\query_strategies\\representative_sampling.py:113: UserWarning: To copy construct from a tensor, it is recommended to use sourceTensor.clone().detach() or sourceTensor.clone().detach().requires_grad_(True), rather than torch.tensor(sourceTensor).\n",
      "  ex = torch.tensor(self.dataset.data[self.queried_hist_[-1]][0]).to(self.device)\n"
     ]
    },
    {
     "name": "stdout",
     "output_type": "stream",
     "text": [
      "   strategy  labeled_acc  testing_acc\n",
      "67        2     0.397727     0.351954\n",
      "Tue Aug 25 05:58:52 2020 ContextualBanditsActiveLearning query round: 69\n",
      "Strategy Chosen: RepresentativeSampling\n"
     ]
    },
    {
     "name": "stderr",
     "output_type": "stream",
     "text": [
      "C:\\Users\\Wan Jing\\Documents\\libact-torch\\libact\\query_strategies\\representative_sampling.py:147: UserWarning: To copy construct from a tensor, it is recommended to use sourceTensor.clone().detach() or sourceTensor.clone().detach().requires_grad_(True), rather than torch.tensor(sourceTensor).\n",
      "  x = torch.tensor(x).to(self.device)\n",
      "C:\\Users\\Wan Jing\\Documents\\libact-torch\\libact\\query_strategies\\random_sampling.py:86: UserWarning: To copy construct from a tensor, it is recommended to use sourceTensor.clone().detach() or sourceTensor.clone().detach().requires_grad_(True), rather than torch.tensor(sourceTensor).\n",
      "  ex = torch.tensor(self.dataset.data[self.queried_hist_[-1]][0]).to(self.device)\n",
      "C:\\Users\\Wan Jing\\Documents\\libact-torch\\libact\\query_strategies\\contextual_bandits_active_learning.py:180: UserWarning: To copy construct from a tensor, it is recommended to use sourceTensor.clone().detach() or sourceTensor.clone().detach().requires_grad_(True), rather than torch.tensor(sourceTensor).\n",
      "  ex = torch.tensor(self.dataset.data[self.queried_hist_[-1]][0]).to(self.device)\n",
      "C:\\Users\\Wan Jing\\Documents\\libact-torch\\libact\\query_strategies\\uncertainty_sampling.py:149: UserWarning: To copy construct from a tensor, it is recommended to use sourceTensor.clone().detach() or sourceTensor.clone().detach().requires_grad_(True), rather than torch.tensor(sourceTensor).\n",
      "  ex = torch.tensor(self.dataset.data[self.queried_hist_[-1]][0]).to(self.device)\n",
      "C:\\Users\\Wan Jing\\Documents\\libact-torch\\libact\\query_strategies\\representative_sampling.py:113: UserWarning: To copy construct from a tensor, it is recommended to use sourceTensor.clone().detach() or sourceTensor.clone().detach().requires_grad_(True), rather than torch.tensor(sourceTensor).\n",
      "  ex = torch.tensor(self.dataset.data[self.queried_hist_[-1]][0]).to(self.device)\n",
      "C:\\Users\\Wan Jing\\.conda\\envs\\deepCB\\lib\\site-packages\\sklearn\\metrics\\_classification.py:1221: UndefinedMetricWarning: Precision is ill-defined and being set to 0.0 in labels with no predicted samples. Use `zero_division` parameter to control this behavior.\n",
      "  _warn_prf(average, modifier, msg_start, len(result))\n"
     ]
    },
    {
     "name": "stdout",
     "output_type": "stream",
     "text": [
      "   strategy  labeled_acc  testing_acc\n",
      "68        4      0.40427     0.357448\n",
      "Tue Aug 25 05:59:07 2020 ContextualBanditsActiveLearning query round: 70\n",
      "Strategy Chosen: RandomSampling\n"
     ]
    },
    {
     "name": "stderr",
     "output_type": "stream",
     "text": [
      "C:\\Users\\Wan Jing\\Documents\\libact-torch\\libact\\query_strategies\\random_sampling.py:86: UserWarning: To copy construct from a tensor, it is recommended to use sourceTensor.clone().detach() or sourceTensor.clone().detach().requires_grad_(True), rather than torch.tensor(sourceTensor).\n",
      "  ex = torch.tensor(self.dataset.data[self.queried_hist_[-1]][0]).to(self.device)\n",
      "C:\\Users\\Wan Jing\\Documents\\libact-torch\\libact\\query_strategies\\contextual_bandits_active_learning.py:180: UserWarning: To copy construct from a tensor, it is recommended to use sourceTensor.clone().detach() or sourceTensor.clone().detach().requires_grad_(True), rather than torch.tensor(sourceTensor).\n",
      "  ex = torch.tensor(self.dataset.data[self.queried_hist_[-1]][0]).to(self.device)\n",
      "C:\\Users\\Wan Jing\\Documents\\libact-torch\\libact\\query_strategies\\uncertainty_sampling.py:149: UserWarning: To copy construct from a tensor, it is recommended to use sourceTensor.clone().detach() or sourceTensor.clone().detach().requires_grad_(True), rather than torch.tensor(sourceTensor).\n",
      "  ex = torch.tensor(self.dataset.data[self.queried_hist_[-1]][0]).to(self.device)\n",
      "C:\\Users\\Wan Jing\\Documents\\libact-torch\\libact\\query_strategies\\representative_sampling.py:113: UserWarning: To copy construct from a tensor, it is recommended to use sourceTensor.clone().detach() or sourceTensor.clone().detach().requires_grad_(True), rather than torch.tensor(sourceTensor).\n",
      "  ex = torch.tensor(self.dataset.data[self.queried_hist_[-1]][0]).to(self.device)\n",
      "C:\\Users\\Wan Jing\\.conda\\envs\\deepCB\\lib\\site-packages\\sklearn\\metrics\\_classification.py:1221: UndefinedMetricWarning: Precision is ill-defined and being set to 0.0 in labels with no predicted samples. Use `zero_division` parameter to control this behavior.\n",
      "  _warn_prf(average, modifier, msg_start, len(result))\n"
     ]
    },
    {
     "name": "stdout",
     "output_type": "stream",
     "text": [
      "   strategy  labeled_acc  testing_acc\n",
      "69        0     0.406444     0.355922\n",
      "Tue Aug 25 05:59:16 2020 ContextualBanditsActiveLearning query round: 71\n",
      "Strategy Chosen: RandomSampling\n"
     ]
    },
    {
     "name": "stderr",
     "output_type": "stream",
     "text": [
      "C:\\Users\\Wan Jing\\Documents\\libact-torch\\libact\\query_strategies\\random_sampling.py:86: UserWarning: To copy construct from a tensor, it is recommended to use sourceTensor.clone().detach() or sourceTensor.clone().detach().requires_grad_(True), rather than torch.tensor(sourceTensor).\n",
      "  ex = torch.tensor(self.dataset.data[self.queried_hist_[-1]][0]).to(self.device)\n",
      "C:\\Users\\Wan Jing\\Documents\\libact-torch\\libact\\query_strategies\\contextual_bandits_active_learning.py:180: UserWarning: To copy construct from a tensor, it is recommended to use sourceTensor.clone().detach() or sourceTensor.clone().detach().requires_grad_(True), rather than torch.tensor(sourceTensor).\n",
      "  ex = torch.tensor(self.dataset.data[self.queried_hist_[-1]][0]).to(self.device)\n",
      "C:\\Users\\Wan Jing\\Documents\\libact-torch\\libact\\query_strategies\\uncertainty_sampling.py:149: UserWarning: To copy construct from a tensor, it is recommended to use sourceTensor.clone().detach() or sourceTensor.clone().detach().requires_grad_(True), rather than torch.tensor(sourceTensor).\n",
      "  ex = torch.tensor(self.dataset.data[self.queried_hist_[-1]][0]).to(self.device)\n",
      "C:\\Users\\Wan Jing\\Documents\\libact-torch\\libact\\query_strategies\\representative_sampling.py:113: UserWarning: To copy construct from a tensor, it is recommended to use sourceTensor.clone().detach() or sourceTensor.clone().detach().requires_grad_(True), rather than torch.tensor(sourceTensor).\n",
      "  ex = torch.tensor(self.dataset.data[self.queried_hist_[-1]][0]).to(self.device)\n",
      "C:\\Users\\Wan Jing\\.conda\\envs\\deepCB\\lib\\site-packages\\sklearn\\metrics\\_classification.py:1221: UndefinedMetricWarning: Precision is ill-defined and being set to 0.0 in labels with no predicted samples. Use `zero_division` parameter to control this behavior.\n",
      "  _warn_prf(average, modifier, msg_start, len(result))\n"
     ]
    },
    {
     "name": "stdout",
     "output_type": "stream",
     "text": [
      "   strategy  labeled_acc  testing_acc\n",
      "70        0     0.408352     0.364469\n",
      "Tue Aug 25 05:59:25 2020 ContextualBanditsActiveLearning query round: 72\n",
      "Strategy Chosen: UncertaintySampling\n"
     ]
    },
    {
     "name": "stderr",
     "output_type": "stream",
     "text": [
      "C:\\Users\\Wan Jing\\Documents\\libact-torch\\libact\\query_strategies\\random_sampling.py:86: UserWarning: To copy construct from a tensor, it is recommended to use sourceTensor.clone().detach() or sourceTensor.clone().detach().requires_grad_(True), rather than torch.tensor(sourceTensor).\n",
      "  ex = torch.tensor(self.dataset.data[self.queried_hist_[-1]][0]).to(self.device)\n",
      "C:\\Users\\Wan Jing\\Documents\\libact-torch\\libact\\query_strategies\\contextual_bandits_active_learning.py:180: UserWarning: To copy construct from a tensor, it is recommended to use sourceTensor.clone().detach() or sourceTensor.clone().detach().requires_grad_(True), rather than torch.tensor(sourceTensor).\n",
      "  ex = torch.tensor(self.dataset.data[self.queried_hist_[-1]][0]).to(self.device)\n",
      "C:\\Users\\Wan Jing\\Documents\\libact-torch\\libact\\query_strategies\\uncertainty_sampling.py:149: UserWarning: To copy construct from a tensor, it is recommended to use sourceTensor.clone().detach() or sourceTensor.clone().detach().requires_grad_(True), rather than torch.tensor(sourceTensor).\n",
      "  ex = torch.tensor(self.dataset.data[self.queried_hist_[-1]][0]).to(self.device)\n",
      "C:\\Users\\Wan Jing\\Documents\\libact-torch\\libact\\query_strategies\\representative_sampling.py:113: UserWarning: To copy construct from a tensor, it is recommended to use sourceTensor.clone().detach() or sourceTensor.clone().detach().requires_grad_(True), rather than torch.tensor(sourceTensor).\n",
      "  ex = torch.tensor(self.dataset.data[self.queried_hist_[-1]][0]).to(self.device)\n"
     ]
    },
    {
     "name": "stdout",
     "output_type": "stream",
     "text": [
      "   strategy  labeled_acc  testing_acc\n",
      "71        2     0.415217     0.361111\n",
      "Tue Aug 25 05:59:37 2020 ContextualBanditsActiveLearning query round: 73\n",
      "Strategy Chosen: UncertaintySampling\n"
     ]
    },
    {
     "name": "stderr",
     "output_type": "stream",
     "text": [
      "C:\\Users\\Wan Jing\\Documents\\libact-torch\\libact\\query_strategies\\random_sampling.py:86: UserWarning: To copy construct from a tensor, it is recommended to use sourceTensor.clone().detach() or sourceTensor.clone().detach().requires_grad_(True), rather than torch.tensor(sourceTensor).\n",
      "  ex = torch.tensor(self.dataset.data[self.queried_hist_[-1]][0]).to(self.device)\n",
      "C:\\Users\\Wan Jing\\Documents\\libact-torch\\libact\\query_strategies\\contextual_bandits_active_learning.py:180: UserWarning: To copy construct from a tensor, it is recommended to use sourceTensor.clone().detach() or sourceTensor.clone().detach().requires_grad_(True), rather than torch.tensor(sourceTensor).\n",
      "  ex = torch.tensor(self.dataset.data[self.queried_hist_[-1]][0]).to(self.device)\n",
      "C:\\Users\\Wan Jing\\Documents\\libact-torch\\libact\\query_strategies\\uncertainty_sampling.py:149: UserWarning: To copy construct from a tensor, it is recommended to use sourceTensor.clone().detach() or sourceTensor.clone().detach().requires_grad_(True), rather than torch.tensor(sourceTensor).\n",
      "  ex = torch.tensor(self.dataset.data[self.queried_hist_[-1]][0]).to(self.device)\n",
      "C:\\Users\\Wan Jing\\Documents\\libact-torch\\libact\\query_strategies\\representative_sampling.py:113: UserWarning: To copy construct from a tensor, it is recommended to use sourceTensor.clone().detach() or sourceTensor.clone().detach().requires_grad_(True), rather than torch.tensor(sourceTensor).\n",
      "  ex = torch.tensor(self.dataset.data[self.queried_hist_[-1]][0]).to(self.device)\n"
     ]
    },
    {
     "name": "stdout",
     "output_type": "stream",
     "text": [
      "   strategy  labeled_acc  testing_acc\n",
      "72        3     0.411613     0.364164\n",
      "Tue Aug 25 05:59:50 2020 ContextualBanditsActiveLearning query round: 74\n",
      "Strategy Chosen: UncertaintySampling\n"
     ]
    },
    {
     "name": "stderr",
     "output_type": "stream",
     "text": [
      "C:\\Users\\Wan Jing\\Documents\\libact-torch\\libact\\query_strategies\\random_sampling.py:86: UserWarning: To copy construct from a tensor, it is recommended to use sourceTensor.clone().detach() or sourceTensor.clone().detach().requires_grad_(True), rather than torch.tensor(sourceTensor).\n",
      "  ex = torch.tensor(self.dataset.data[self.queried_hist_[-1]][0]).to(self.device)\n",
      "C:\\Users\\Wan Jing\\Documents\\libact-torch\\libact\\query_strategies\\contextual_bandits_active_learning.py:180: UserWarning: To copy construct from a tensor, it is recommended to use sourceTensor.clone().detach() or sourceTensor.clone().detach().requires_grad_(True), rather than torch.tensor(sourceTensor).\n",
      "  ex = torch.tensor(self.dataset.data[self.queried_hist_[-1]][0]).to(self.device)\n",
      "C:\\Users\\Wan Jing\\Documents\\libact-torch\\libact\\query_strategies\\uncertainty_sampling.py:149: UserWarning: To copy construct from a tensor, it is recommended to use sourceTensor.clone().detach() or sourceTensor.clone().detach().requires_grad_(True), rather than torch.tensor(sourceTensor).\n",
      "  ex = torch.tensor(self.dataset.data[self.queried_hist_[-1]][0]).to(self.device)\n",
      "C:\\Users\\Wan Jing\\Documents\\libact-torch\\libact\\query_strategies\\representative_sampling.py:113: UserWarning: To copy construct from a tensor, it is recommended to use sourceTensor.clone().detach() or sourceTensor.clone().detach().requires_grad_(True), rather than torch.tensor(sourceTensor).\n",
      "  ex = torch.tensor(self.dataset.data[self.queried_hist_[-1]][0]).to(self.device)\n"
     ]
    },
    {
     "name": "stdout",
     "output_type": "stream",
     "text": [
      "   strategy  labeled_acc  testing_acc\n",
      "73        1     0.413617     0.362637\n",
      "Tue Aug 25 06:00:02 2020 ContextualBanditsActiveLearning query round: 75\n",
      "Strategy Chosen: UncertaintySampling\n"
     ]
    },
    {
     "name": "stderr",
     "output_type": "stream",
     "text": [
      "C:\\Users\\Wan Jing\\Documents\\libact-torch\\libact\\query_strategies\\random_sampling.py:86: UserWarning: To copy construct from a tensor, it is recommended to use sourceTensor.clone().detach() or sourceTensor.clone().detach().requires_grad_(True), rather than torch.tensor(sourceTensor).\n",
      "  ex = torch.tensor(self.dataset.data[self.queried_hist_[-1]][0]).to(self.device)\n",
      "C:\\Users\\Wan Jing\\Documents\\libact-torch\\libact\\query_strategies\\contextual_bandits_active_learning.py:180: UserWarning: To copy construct from a tensor, it is recommended to use sourceTensor.clone().detach() or sourceTensor.clone().detach().requires_grad_(True), rather than torch.tensor(sourceTensor).\n",
      "  ex = torch.tensor(self.dataset.data[self.queried_hist_[-1]][0]).to(self.device)\n",
      "C:\\Users\\Wan Jing\\Documents\\libact-torch\\libact\\query_strategies\\uncertainty_sampling.py:149: UserWarning: To copy construct from a tensor, it is recommended to use sourceTensor.clone().detach() or sourceTensor.clone().detach().requires_grad_(True), rather than torch.tensor(sourceTensor).\n",
      "  ex = torch.tensor(self.dataset.data[self.queried_hist_[-1]][0]).to(self.device)\n",
      "C:\\Users\\Wan Jing\\Documents\\libact-torch\\libact\\query_strategies\\representative_sampling.py:113: UserWarning: To copy construct from a tensor, it is recommended to use sourceTensor.clone().detach() or sourceTensor.clone().detach().requires_grad_(True), rather than torch.tensor(sourceTensor).\n",
      "  ex = torch.tensor(self.dataset.data[self.queried_hist_[-1]][0]).to(self.device)\n",
      "C:\\Users\\Wan Jing\\.conda\\envs\\deepCB\\lib\\site-packages\\sklearn\\metrics\\_classification.py:1221: UndefinedMetricWarning: Precision is ill-defined and being set to 0.0 in labels with no predicted samples. Use `zero_division` parameter to control this behavior.\n",
      "  _warn_prf(average, modifier, msg_start, len(result))\n"
     ]
    },
    {
     "name": "stdout",
     "output_type": "stream",
     "text": [
      "   strategy  labeled_acc  testing_acc\n",
      "74        3     0.414316     0.371184\n",
      "Tue Aug 25 06:00:15 2020 ContextualBanditsActiveLearning query round: 76\n",
      "Strategy Chosen: RandomSampling\n"
     ]
    },
    {
     "name": "stderr",
     "output_type": "stream",
     "text": [
      "C:\\Users\\Wan Jing\\Documents\\libact-torch\\libact\\query_strategies\\random_sampling.py:86: UserWarning: To copy construct from a tensor, it is recommended to use sourceTensor.clone().detach() or sourceTensor.clone().detach().requires_grad_(True), rather than torch.tensor(sourceTensor).\n",
      "  ex = torch.tensor(self.dataset.data[self.queried_hist_[-1]][0]).to(self.device)\n",
      "C:\\Users\\Wan Jing\\Documents\\libact-torch\\libact\\query_strategies\\contextual_bandits_active_learning.py:180: UserWarning: To copy construct from a tensor, it is recommended to use sourceTensor.clone().detach() or sourceTensor.clone().detach().requires_grad_(True), rather than torch.tensor(sourceTensor).\n",
      "  ex = torch.tensor(self.dataset.data[self.queried_hist_[-1]][0]).to(self.device)\n",
      "C:\\Users\\Wan Jing\\Documents\\libact-torch\\libact\\query_strategies\\uncertainty_sampling.py:149: UserWarning: To copy construct from a tensor, it is recommended to use sourceTensor.clone().detach() or sourceTensor.clone().detach().requires_grad_(True), rather than torch.tensor(sourceTensor).\n",
      "  ex = torch.tensor(self.dataset.data[self.queried_hist_[-1]][0]).to(self.device)\n",
      "C:\\Users\\Wan Jing\\Documents\\libact-torch\\libact\\query_strategies\\representative_sampling.py:113: UserWarning: To copy construct from a tensor, it is recommended to use sourceTensor.clone().detach() or sourceTensor.clone().detach().requires_grad_(True), rather than torch.tensor(sourceTensor).\n",
      "  ex = torch.tensor(self.dataset.data[self.queried_hist_[-1]][0]).to(self.device)\n",
      "C:\\Users\\Wan Jing\\.conda\\envs\\deepCB\\lib\\site-packages\\sklearn\\metrics\\_classification.py:1221: UndefinedMetricWarning: Precision is ill-defined and being set to 0.0 in labels with no predicted samples. Use `zero_division` parameter to control this behavior.\n",
      "  _warn_prf(average, modifier, msg_start, len(result))\n"
     ]
    },
    {
     "name": "stdout",
     "output_type": "stream",
     "text": [
      "   strategy  labeled_acc  testing_acc\n",
      "75        0     0.417917     0.362332\n",
      "Tue Aug 25 06:00:24 2020 ContextualBanditsActiveLearning query round: 77\n",
      "Strategy Chosen: RepresentativeSampling\n"
     ]
    },
    {
     "name": "stderr",
     "output_type": "stream",
     "text": [
      "C:\\Users\\Wan Jing\\Documents\\libact-torch\\libact\\query_strategies\\representative_sampling.py:147: UserWarning: To copy construct from a tensor, it is recommended to use sourceTensor.clone().detach() or sourceTensor.clone().detach().requires_grad_(True), rather than torch.tensor(sourceTensor).\n",
      "  x = torch.tensor(x).to(self.device)\n",
      "C:\\Users\\Wan Jing\\Documents\\libact-torch\\libact\\query_strategies\\random_sampling.py:86: UserWarning: To copy construct from a tensor, it is recommended to use sourceTensor.clone().detach() or sourceTensor.clone().detach().requires_grad_(True), rather than torch.tensor(sourceTensor).\n",
      "  ex = torch.tensor(self.dataset.data[self.queried_hist_[-1]][0]).to(self.device)\n",
      "C:\\Users\\Wan Jing\\Documents\\libact-torch\\libact\\query_strategies\\contextual_bandits_active_learning.py:180: UserWarning: To copy construct from a tensor, it is recommended to use sourceTensor.clone().detach() or sourceTensor.clone().detach().requires_grad_(True), rather than torch.tensor(sourceTensor).\n",
      "  ex = torch.tensor(self.dataset.data[self.queried_hist_[-1]][0]).to(self.device)\n",
      "C:\\Users\\Wan Jing\\Documents\\libact-torch\\libact\\query_strategies\\uncertainty_sampling.py:149: UserWarning: To copy construct from a tensor, it is recommended to use sourceTensor.clone().detach() or sourceTensor.clone().detach().requires_grad_(True), rather than torch.tensor(sourceTensor).\n",
      "  ex = torch.tensor(self.dataset.data[self.queried_hist_[-1]][0]).to(self.device)\n",
      "C:\\Users\\Wan Jing\\Documents\\libact-torch\\libact\\query_strategies\\representative_sampling.py:113: UserWarning: To copy construct from a tensor, it is recommended to use sourceTensor.clone().detach() or sourceTensor.clone().detach().requires_grad_(True), rather than torch.tensor(sourceTensor).\n",
      "  ex = torch.tensor(self.dataset.data[self.queried_hist_[-1]][0]).to(self.device)\n",
      "C:\\Users\\Wan Jing\\.conda\\envs\\deepCB\\lib\\site-packages\\sklearn\\metrics\\_classification.py:1221: UndefinedMetricWarning: Precision is ill-defined and being set to 0.0 in labels with no predicted samples. Use `zero_division` parameter to control this behavior.\n",
      "  _warn_prf(average, modifier, msg_start, len(result))\n"
     ]
    },
    {
     "name": "stdout",
     "output_type": "stream",
     "text": [
      "   strategy  labeled_acc  testing_acc\n",
      "76        4     0.421031     0.367521\n",
      "Tue Aug 25 06:00:39 2020 ContextualBanditsActiveLearning query round: 78\n",
      "Strategy Chosen: RepresentativeSampling\n"
     ]
    },
    {
     "name": "stderr",
     "output_type": "stream",
     "text": [
      "C:\\Users\\Wan Jing\\Documents\\libact-torch\\libact\\query_strategies\\representative_sampling.py:147: UserWarning: To copy construct from a tensor, it is recommended to use sourceTensor.clone().detach() or sourceTensor.clone().detach().requires_grad_(True), rather than torch.tensor(sourceTensor).\n",
      "  x = torch.tensor(x).to(self.device)\n",
      "C:\\Users\\Wan Jing\\Documents\\libact-torch\\libact\\query_strategies\\random_sampling.py:86: UserWarning: To copy construct from a tensor, it is recommended to use sourceTensor.clone().detach() or sourceTensor.clone().detach().requires_grad_(True), rather than torch.tensor(sourceTensor).\n",
      "  ex = torch.tensor(self.dataset.data[self.queried_hist_[-1]][0]).to(self.device)\n",
      "C:\\Users\\Wan Jing\\Documents\\libact-torch\\libact\\query_strategies\\contextual_bandits_active_learning.py:180: UserWarning: To copy construct from a tensor, it is recommended to use sourceTensor.clone().detach() or sourceTensor.clone().detach().requires_grad_(True), rather than torch.tensor(sourceTensor).\n",
      "  ex = torch.tensor(self.dataset.data[self.queried_hist_[-1]][0]).to(self.device)\n",
      "C:\\Users\\Wan Jing\\Documents\\libact-torch\\libact\\query_strategies\\uncertainty_sampling.py:149: UserWarning: To copy construct from a tensor, it is recommended to use sourceTensor.clone().detach() or sourceTensor.clone().detach().requires_grad_(True), rather than torch.tensor(sourceTensor).\n",
      "  ex = torch.tensor(self.dataset.data[self.queried_hist_[-1]][0]).to(self.device)\n",
      "C:\\Users\\Wan Jing\\Documents\\libact-torch\\libact\\query_strategies\\representative_sampling.py:113: UserWarning: To copy construct from a tensor, it is recommended to use sourceTensor.clone().detach() or sourceTensor.clone().detach().requires_grad_(True), rather than torch.tensor(sourceTensor).\n",
      "  ex = torch.tensor(self.dataset.data[self.queried_hist_[-1]][0]).to(self.device)\n",
      "C:\\Users\\Wan Jing\\.conda\\envs\\deepCB\\lib\\site-packages\\sklearn\\metrics\\_classification.py:1221: UndefinedMetricWarning: Precision is ill-defined and being set to 0.0 in labels with no predicted samples. Use `zero_division` parameter to control this behavior.\n",
      "  _warn_prf(average, modifier, msg_start, len(result))\n"
     ]
    },
    {
     "name": "stdout",
     "output_type": "stream",
     "text": [
      "   strategy  labeled_acc  testing_acc\n",
      "77        4     0.425714     0.367521\n",
      "Tue Aug 25 06:00:54 2020 ContextualBanditsActiveLearning query round: 79\n",
      "Strategy Chosen: UncertaintySampling\n"
     ]
    },
    {
     "name": "stderr",
     "output_type": "stream",
     "text": [
      "C:\\Users\\Wan Jing\\Documents\\libact-torch\\libact\\query_strategies\\random_sampling.py:86: UserWarning: To copy construct from a tensor, it is recommended to use sourceTensor.clone().detach() or sourceTensor.clone().detach().requires_grad_(True), rather than torch.tensor(sourceTensor).\n",
      "  ex = torch.tensor(self.dataset.data[self.queried_hist_[-1]][0]).to(self.device)\n",
      "C:\\Users\\Wan Jing\\Documents\\libact-torch\\libact\\query_strategies\\contextual_bandits_active_learning.py:180: UserWarning: To copy construct from a tensor, it is recommended to use sourceTensor.clone().detach() or sourceTensor.clone().detach().requires_grad_(True), rather than torch.tensor(sourceTensor).\n",
      "  ex = torch.tensor(self.dataset.data[self.queried_hist_[-1]][0]).to(self.device)\n",
      "C:\\Users\\Wan Jing\\Documents\\libact-torch\\libact\\query_strategies\\uncertainty_sampling.py:149: UserWarning: To copy construct from a tensor, it is recommended to use sourceTensor.clone().detach() or sourceTensor.clone().detach().requires_grad_(True), rather than torch.tensor(sourceTensor).\n",
      "  ex = torch.tensor(self.dataset.data[self.queried_hist_[-1]][0]).to(self.device)\n",
      "C:\\Users\\Wan Jing\\Documents\\libact-torch\\libact\\query_strategies\\representative_sampling.py:113: UserWarning: To copy construct from a tensor, it is recommended to use sourceTensor.clone().detach() or sourceTensor.clone().detach().requires_grad_(True), rather than torch.tensor(sourceTensor).\n",
      "  ex = torch.tensor(self.dataset.data[self.queried_hist_[-1]][0]).to(self.device)\n"
     ]
    },
    {
     "name": "stdout",
     "output_type": "stream",
     "text": [
      "   strategy  labeled_acc  testing_acc\n",
      "78        2     0.430909     0.373932\n",
      "Tue Aug 25 06:01:07 2020 ContextualBanditsActiveLearning query round: 80\n",
      "Strategy Chosen: UncertaintySampling\n"
     ]
    },
    {
     "name": "stderr",
     "output_type": "stream",
     "text": [
      "C:\\Users\\Wan Jing\\Documents\\libact-torch\\libact\\query_strategies\\random_sampling.py:86: UserWarning: To copy construct from a tensor, it is recommended to use sourceTensor.clone().detach() or sourceTensor.clone().detach().requires_grad_(True), rather than torch.tensor(sourceTensor).\n",
      "  ex = torch.tensor(self.dataset.data[self.queried_hist_[-1]][0]).to(self.device)\n",
      "C:\\Users\\Wan Jing\\Documents\\libact-torch\\libact\\query_strategies\\contextual_bandits_active_learning.py:180: UserWarning: To copy construct from a tensor, it is recommended to use sourceTensor.clone().detach() or sourceTensor.clone().detach().requires_grad_(True), rather than torch.tensor(sourceTensor).\n",
      "  ex = torch.tensor(self.dataset.data[self.queried_hist_[-1]][0]).to(self.device)\n",
      "C:\\Users\\Wan Jing\\Documents\\libact-torch\\libact\\query_strategies\\uncertainty_sampling.py:149: UserWarning: To copy construct from a tensor, it is recommended to use sourceTensor.clone().detach() or sourceTensor.clone().detach().requires_grad_(True), rather than torch.tensor(sourceTensor).\n",
      "  ex = torch.tensor(self.dataset.data[self.queried_hist_[-1]][0]).to(self.device)\n",
      "C:\\Users\\Wan Jing\\Documents\\libact-torch\\libact\\query_strategies\\representative_sampling.py:113: UserWarning: To copy construct from a tensor, it is recommended to use sourceTensor.clone().detach() or sourceTensor.clone().detach().requires_grad_(True), rather than torch.tensor(sourceTensor).\n",
      "  ex = torch.tensor(self.dataset.data[self.queried_hist_[-1]][0]).to(self.device)\n"
     ]
    },
    {
     "name": "stdout",
     "output_type": "stream",
     "text": [
      "   strategy  labeled_acc  testing_acc\n",
      "79        2       0.4322     0.374847\n",
      "Tue Aug 25 06:01:19 2020 ContextualBanditsActiveLearning query round: 81\n",
      "Strategy Chosen: UncertaintySampling\n"
     ]
    },
    {
     "name": "stderr",
     "output_type": "stream",
     "text": [
      "C:\\Users\\Wan Jing\\Documents\\libact-torch\\libact\\query_strategies\\random_sampling.py:86: UserWarning: To copy construct from a tensor, it is recommended to use sourceTensor.clone().detach() or sourceTensor.clone().detach().requires_grad_(True), rather than torch.tensor(sourceTensor).\n",
      "  ex = torch.tensor(self.dataset.data[self.queried_hist_[-1]][0]).to(self.device)\n",
      "C:\\Users\\Wan Jing\\Documents\\libact-torch\\libact\\query_strategies\\contextual_bandits_active_learning.py:180: UserWarning: To copy construct from a tensor, it is recommended to use sourceTensor.clone().detach() or sourceTensor.clone().detach().requires_grad_(True), rather than torch.tensor(sourceTensor).\n",
      "  ex = torch.tensor(self.dataset.data[self.queried_hist_[-1]][0]).to(self.device)\n",
      "C:\\Users\\Wan Jing\\Documents\\libact-torch\\libact\\query_strategies\\uncertainty_sampling.py:149: UserWarning: To copy construct from a tensor, it is recommended to use sourceTensor.clone().detach() or sourceTensor.clone().detach().requires_grad_(True), rather than torch.tensor(sourceTensor).\n",
      "  ex = torch.tensor(self.dataset.data[self.queried_hist_[-1]][0]).to(self.device)\n",
      "C:\\Users\\Wan Jing\\Documents\\libact-torch\\libact\\query_strategies\\representative_sampling.py:113: UserWarning: To copy construct from a tensor, it is recommended to use sourceTensor.clone().detach() or sourceTensor.clone().detach().requires_grad_(True), rather than torch.tensor(sourceTensor).\n",
      "  ex = torch.tensor(self.dataset.data[self.queried_hist_[-1]][0]).to(self.device)\n",
      "C:\\Users\\Wan Jing\\.conda\\envs\\deepCB\\lib\\site-packages\\sklearn\\metrics\\_classification.py:1221: UndefinedMetricWarning: Precision is ill-defined and being set to 0.0 in labels with no predicted samples. Use `zero_division` parameter to control this behavior.\n",
      "  _warn_prf(average, modifier, msg_start, len(result))\n"
     ]
    },
    {
     "name": "stdout",
     "output_type": "stream",
     "text": [
      "   strategy  labeled_acc  testing_acc\n",
      "80        3     0.428317     0.376068\n",
      "Tue Aug 25 06:01:32 2020 ContextualBanditsActiveLearning query round: 82\n",
      "Strategy Chosen: RandomSampling\n"
     ]
    },
    {
     "name": "stderr",
     "output_type": "stream",
     "text": [
      "C:\\Users\\Wan Jing\\Documents\\libact-torch\\libact\\query_strategies\\random_sampling.py:86: UserWarning: To copy construct from a tensor, it is recommended to use sourceTensor.clone().detach() or sourceTensor.clone().detach().requires_grad_(True), rather than torch.tensor(sourceTensor).\n",
      "  ex = torch.tensor(self.dataset.data[self.queried_hist_[-1]][0]).to(self.device)\n",
      "C:\\Users\\Wan Jing\\Documents\\libact-torch\\libact\\query_strategies\\contextual_bandits_active_learning.py:180: UserWarning: To copy construct from a tensor, it is recommended to use sourceTensor.clone().detach() or sourceTensor.clone().detach().requires_grad_(True), rather than torch.tensor(sourceTensor).\n",
      "  ex = torch.tensor(self.dataset.data[self.queried_hist_[-1]][0]).to(self.device)\n",
      "C:\\Users\\Wan Jing\\Documents\\libact-torch\\libact\\query_strategies\\uncertainty_sampling.py:149: UserWarning: To copy construct from a tensor, it is recommended to use sourceTensor.clone().detach() or sourceTensor.clone().detach().requires_grad_(True), rather than torch.tensor(sourceTensor).\n",
      "  ex = torch.tensor(self.dataset.data[self.queried_hist_[-1]][0]).to(self.device)\n",
      "C:\\Users\\Wan Jing\\Documents\\libact-torch\\libact\\query_strategies\\representative_sampling.py:113: UserWarning: To copy construct from a tensor, it is recommended to use sourceTensor.clone().detach() or sourceTensor.clone().detach().requires_grad_(True), rather than torch.tensor(sourceTensor).\n",
      "  ex = torch.tensor(self.dataset.data[self.queried_hist_[-1]][0]).to(self.device)\n"
     ]
    },
    {
     "name": "stdout",
     "output_type": "stream",
     "text": [
      "   strategy  labeled_acc  testing_acc\n",
      "81        0     0.438235     0.379426\n",
      "Tue Aug 25 06:01:42 2020 ContextualBanditsActiveLearning query round: 83\n",
      "Strategy Chosen: UncertaintySampling\n"
     ]
    },
    {
     "name": "stderr",
     "output_type": "stream",
     "text": [
      "C:\\Users\\Wan Jing\\Documents\\libact-torch\\libact\\query_strategies\\random_sampling.py:86: UserWarning: To copy construct from a tensor, it is recommended to use sourceTensor.clone().detach() or sourceTensor.clone().detach().requires_grad_(True), rather than torch.tensor(sourceTensor).\n",
      "  ex = torch.tensor(self.dataset.data[self.queried_hist_[-1]][0]).to(self.device)\n",
      "C:\\Users\\Wan Jing\\Documents\\libact-torch\\libact\\query_strategies\\contextual_bandits_active_learning.py:180: UserWarning: To copy construct from a tensor, it is recommended to use sourceTensor.clone().detach() or sourceTensor.clone().detach().requires_grad_(True), rather than torch.tensor(sourceTensor).\n",
      "  ex = torch.tensor(self.dataset.data[self.queried_hist_[-1]][0]).to(self.device)\n",
      "C:\\Users\\Wan Jing\\Documents\\libact-torch\\libact\\query_strategies\\uncertainty_sampling.py:149: UserWarning: To copy construct from a tensor, it is recommended to use sourceTensor.clone().detach() or sourceTensor.clone().detach().requires_grad_(True), rather than torch.tensor(sourceTensor).\n",
      "  ex = torch.tensor(self.dataset.data[self.queried_hist_[-1]][0]).to(self.device)\n",
      "C:\\Users\\Wan Jing\\Documents\\libact-torch\\libact\\query_strategies\\representative_sampling.py:113: UserWarning: To copy construct from a tensor, it is recommended to use sourceTensor.clone().detach() or sourceTensor.clone().detach().requires_grad_(True), rather than torch.tensor(sourceTensor).\n",
      "  ex = torch.tensor(self.dataset.data[self.queried_hist_[-1]][0]).to(self.device)\n"
     ]
    },
    {
     "name": "stdout",
     "output_type": "stream",
     "text": [
      "   strategy  labeled_acc  testing_acc\n",
      "82        3      0.43767     0.383394\n",
      "Tue Aug 25 06:01:55 2020 ContextualBanditsActiveLearning query round: 84\n",
      "Strategy Chosen: RepresentativeSampling\n"
     ]
    },
    {
     "name": "stderr",
     "output_type": "stream",
     "text": [
      "C:\\Users\\Wan Jing\\Documents\\libact-torch\\libact\\query_strategies\\representative_sampling.py:147: UserWarning: To copy construct from a tensor, it is recommended to use sourceTensor.clone().detach() or sourceTensor.clone().detach().requires_grad_(True), rather than torch.tensor(sourceTensor).\n",
      "  x = torch.tensor(x).to(self.device)\n",
      "C:\\Users\\Wan Jing\\Documents\\libact-torch\\libact\\query_strategies\\random_sampling.py:86: UserWarning: To copy construct from a tensor, it is recommended to use sourceTensor.clone().detach() or sourceTensor.clone().detach().requires_grad_(True), rather than torch.tensor(sourceTensor).\n",
      "  ex = torch.tensor(self.dataset.data[self.queried_hist_[-1]][0]).to(self.device)\n",
      "C:\\Users\\Wan Jing\\Documents\\libact-torch\\libact\\query_strategies\\contextual_bandits_active_learning.py:180: UserWarning: To copy construct from a tensor, it is recommended to use sourceTensor.clone().detach() or sourceTensor.clone().detach().requires_grad_(True), rather than torch.tensor(sourceTensor).\n",
      "  ex = torch.tensor(self.dataset.data[self.queried_hist_[-1]][0]).to(self.device)\n",
      "C:\\Users\\Wan Jing\\Documents\\libact-torch\\libact\\query_strategies\\uncertainty_sampling.py:149: UserWarning: To copy construct from a tensor, it is recommended to use sourceTensor.clone().detach() or sourceTensor.clone().detach().requires_grad_(True), rather than torch.tensor(sourceTensor).\n",
      "  ex = torch.tensor(self.dataset.data[self.queried_hist_[-1]][0]).to(self.device)\n",
      "C:\\Users\\Wan Jing\\Documents\\libact-torch\\libact\\query_strategies\\representative_sampling.py:113: UserWarning: To copy construct from a tensor, it is recommended to use sourceTensor.clone().detach() or sourceTensor.clone().detach().requires_grad_(True), rather than torch.tensor(sourceTensor).\n",
      "  ex = torch.tensor(self.dataset.data[self.queried_hist_[-1]][0]).to(self.device)\n",
      "C:\\Users\\Wan Jing\\.conda\\envs\\deepCB\\lib\\site-packages\\sklearn\\metrics\\_classification.py:1221: UndefinedMetricWarning: Precision is ill-defined and being set to 0.0 in labels with no predicted samples. Use `zero_division` parameter to control this behavior.\n",
      "  _warn_prf(average, modifier, msg_start, len(result))\n"
     ]
    },
    {
     "name": "stdout",
     "output_type": "stream",
     "text": [
      "   strategy  labeled_acc  testing_acc\n",
      "83        4     0.444038     0.381868\n",
      "Tue Aug 25 06:02:10 2020 ContextualBanditsActiveLearning query round: 85\n",
      "Strategy Chosen: RepresentativeSampling\n"
     ]
    },
    {
     "name": "stderr",
     "output_type": "stream",
     "text": [
      "C:\\Users\\Wan Jing\\Documents\\libact-torch\\libact\\query_strategies\\representative_sampling.py:147: UserWarning: To copy construct from a tensor, it is recommended to use sourceTensor.clone().detach() or sourceTensor.clone().detach().requires_grad_(True), rather than torch.tensor(sourceTensor).\n",
      "  x = torch.tensor(x).to(self.device)\n",
      "C:\\Users\\Wan Jing\\Documents\\libact-torch\\libact\\query_strategies\\random_sampling.py:86: UserWarning: To copy construct from a tensor, it is recommended to use sourceTensor.clone().detach() or sourceTensor.clone().detach().requires_grad_(True), rather than torch.tensor(sourceTensor).\n",
      "  ex = torch.tensor(self.dataset.data[self.queried_hist_[-1]][0]).to(self.device)\n",
      "C:\\Users\\Wan Jing\\Documents\\libact-torch\\libact\\query_strategies\\contextual_bandits_active_learning.py:180: UserWarning: To copy construct from a tensor, it is recommended to use sourceTensor.clone().detach() or sourceTensor.clone().detach().requires_grad_(True), rather than torch.tensor(sourceTensor).\n",
      "  ex = torch.tensor(self.dataset.data[self.queried_hist_[-1]][0]).to(self.device)\n",
      "C:\\Users\\Wan Jing\\Documents\\libact-torch\\libact\\query_strategies\\uncertainty_sampling.py:149: UserWarning: To copy construct from a tensor, it is recommended to use sourceTensor.clone().detach() or sourceTensor.clone().detach().requires_grad_(True), rather than torch.tensor(sourceTensor).\n",
      "  ex = torch.tensor(self.dataset.data[self.queried_hist_[-1]][0]).to(self.device)\n",
      "C:\\Users\\Wan Jing\\Documents\\libact-torch\\libact\\query_strategies\\representative_sampling.py:113: UserWarning: To copy construct from a tensor, it is recommended to use sourceTensor.clone().detach() or sourceTensor.clone().detach().requires_grad_(True), rather than torch.tensor(sourceTensor).\n",
      "  ex = torch.tensor(self.dataset.data[self.queried_hist_[-1]][0]).to(self.device)\n"
     ]
    },
    {
     "name": "stdout",
     "output_type": "stream",
     "text": [
      "   strategy  labeled_acc  testing_acc\n",
      "84        4     0.444952     0.386447\n",
      "Tue Aug 25 06:02:26 2020 ContextualBanditsActiveLearning query round: 86\n",
      "Strategy Chosen: UncertaintySampling\n"
     ]
    },
    {
     "name": "stderr",
     "output_type": "stream",
     "text": [
      "C:\\Users\\Wan Jing\\Documents\\libact-torch\\libact\\query_strategies\\random_sampling.py:86: UserWarning: To copy construct from a tensor, it is recommended to use sourceTensor.clone().detach() or sourceTensor.clone().detach().requires_grad_(True), rather than torch.tensor(sourceTensor).\n",
      "  ex = torch.tensor(self.dataset.data[self.queried_hist_[-1]][0]).to(self.device)\n",
      "C:\\Users\\Wan Jing\\Documents\\libact-torch\\libact\\query_strategies\\contextual_bandits_active_learning.py:180: UserWarning: To copy construct from a tensor, it is recommended to use sourceTensor.clone().detach() or sourceTensor.clone().detach().requires_grad_(True), rather than torch.tensor(sourceTensor).\n",
      "  ex = torch.tensor(self.dataset.data[self.queried_hist_[-1]][0]).to(self.device)\n",
      "C:\\Users\\Wan Jing\\Documents\\libact-torch\\libact\\query_strategies\\uncertainty_sampling.py:149: UserWarning: To copy construct from a tensor, it is recommended to use sourceTensor.clone().detach() or sourceTensor.clone().detach().requires_grad_(True), rather than torch.tensor(sourceTensor).\n",
      "  ex = torch.tensor(self.dataset.data[self.queried_hist_[-1]][0]).to(self.device)\n",
      "C:\\Users\\Wan Jing\\Documents\\libact-torch\\libact\\query_strategies\\representative_sampling.py:113: UserWarning: To copy construct from a tensor, it is recommended to use sourceTensor.clone().detach() or sourceTensor.clone().detach().requires_grad_(True), rather than torch.tensor(sourceTensor).\n",
      "  ex = torch.tensor(self.dataset.data[self.queried_hist_[-1]][0]).to(self.device)\n",
      "C:\\Users\\Wan Jing\\.conda\\envs\\deepCB\\lib\\site-packages\\sklearn\\metrics\\_classification.py:1221: UndefinedMetricWarning: Precision is ill-defined and being set to 0.0 in labels with no predicted samples. Use `zero_division` parameter to control this behavior.\n",
      "  _warn_prf(average, modifier, msg_start, len(result))\n"
     ]
    },
    {
     "name": "stdout",
     "output_type": "stream",
     "text": [
      "   strategy  labeled_acc  testing_acc\n",
      "85        2     0.444906     0.380952\n",
      "Tue Aug 25 06:02:39 2020 ContextualBanditsActiveLearning query round: 87\n",
      "Strategy Chosen: UncertaintySampling\n"
     ]
    },
    {
     "name": "stderr",
     "output_type": "stream",
     "text": [
      "C:\\Users\\Wan Jing\\Documents\\libact-torch\\libact\\query_strategies\\random_sampling.py:86: UserWarning: To copy construct from a tensor, it is recommended to use sourceTensor.clone().detach() or sourceTensor.clone().detach().requires_grad_(True), rather than torch.tensor(sourceTensor).\n",
      "  ex = torch.tensor(self.dataset.data[self.queried_hist_[-1]][0]).to(self.device)\n",
      "C:\\Users\\Wan Jing\\Documents\\libact-torch\\libact\\query_strategies\\contextual_bandits_active_learning.py:180: UserWarning: To copy construct from a tensor, it is recommended to use sourceTensor.clone().detach() or sourceTensor.clone().detach().requires_grad_(True), rather than torch.tensor(sourceTensor).\n",
      "  ex = torch.tensor(self.dataset.data[self.queried_hist_[-1]][0]).to(self.device)\n",
      "C:\\Users\\Wan Jing\\Documents\\libact-torch\\libact\\query_strategies\\uncertainty_sampling.py:149: UserWarning: To copy construct from a tensor, it is recommended to use sourceTensor.clone().detach() or sourceTensor.clone().detach().requires_grad_(True), rather than torch.tensor(sourceTensor).\n",
      "  ex = torch.tensor(self.dataset.data[self.queried_hist_[-1]][0]).to(self.device)\n",
      "C:\\Users\\Wan Jing\\Documents\\libact-torch\\libact\\query_strategies\\representative_sampling.py:113: UserWarning: To copy construct from a tensor, it is recommended to use sourceTensor.clone().detach() or sourceTensor.clone().detach().requires_grad_(True), rather than torch.tensor(sourceTensor).\n",
      "  ex = torch.tensor(self.dataset.data[self.queried_hist_[-1]][0]).to(self.device)\n"
     ]
    },
    {
     "name": "stdout",
     "output_type": "stream",
     "text": [
      "   strategy  labeled_acc  testing_acc\n",
      "86        2     0.451776     0.385531\n",
      "Tue Aug 25 06:02:52 2020 ContextualBanditsActiveLearning query round: 88\n",
      "Strategy Chosen: UncertaintySampling\n"
     ]
    },
    {
     "name": "stderr",
     "output_type": "stream",
     "text": [
      "C:\\Users\\Wan Jing\\Documents\\libact-torch\\libact\\query_strategies\\random_sampling.py:86: UserWarning: To copy construct from a tensor, it is recommended to use sourceTensor.clone().detach() or sourceTensor.clone().detach().requires_grad_(True), rather than torch.tensor(sourceTensor).\n",
      "  ex = torch.tensor(self.dataset.data[self.queried_hist_[-1]][0]).to(self.device)\n",
      "C:\\Users\\Wan Jing\\Documents\\libact-torch\\libact\\query_strategies\\contextual_bandits_active_learning.py:180: UserWarning: To copy construct from a tensor, it is recommended to use sourceTensor.clone().detach() or sourceTensor.clone().detach().requires_grad_(True), rather than torch.tensor(sourceTensor).\n",
      "  ex = torch.tensor(self.dataset.data[self.queried_hist_[-1]][0]).to(self.device)\n",
      "C:\\Users\\Wan Jing\\Documents\\libact-torch\\libact\\query_strategies\\uncertainty_sampling.py:149: UserWarning: To copy construct from a tensor, it is recommended to use sourceTensor.clone().detach() or sourceTensor.clone().detach().requires_grad_(True), rather than torch.tensor(sourceTensor).\n",
      "  ex = torch.tensor(self.dataset.data[self.queried_hist_[-1]][0]).to(self.device)\n",
      "C:\\Users\\Wan Jing\\Documents\\libact-torch\\libact\\query_strategies\\representative_sampling.py:113: UserWarning: To copy construct from a tensor, it is recommended to use sourceTensor.clone().detach() or sourceTensor.clone().detach().requires_grad_(True), rather than torch.tensor(sourceTensor).\n",
      "  ex = torch.tensor(self.dataset.data[self.queried_hist_[-1]][0]).to(self.device)\n",
      "C:\\Users\\Wan Jing\\.conda\\envs\\deepCB\\lib\\site-packages\\sklearn\\metrics\\_classification.py:1221: UndefinedMetricWarning: Precision is ill-defined and being set to 0.0 in labels with no predicted samples. Use `zero_division` parameter to control this behavior.\n",
      "  _warn_prf(average, modifier, msg_start, len(result))\n"
     ]
    },
    {
     "name": "stdout",
     "output_type": "stream",
     "text": [
      "   strategy  labeled_acc  testing_acc\n",
      "87        1     0.449074     0.380647\n",
      "Tue Aug 25 06:03:05 2020 ContextualBanditsActiveLearning query round: 89\n",
      "Strategy Chosen: RandomSampling\n"
     ]
    },
    {
     "name": "stderr",
     "output_type": "stream",
     "text": [
      "C:\\Users\\Wan Jing\\Documents\\libact-torch\\libact\\query_strategies\\random_sampling.py:86: UserWarning: To copy construct from a tensor, it is recommended to use sourceTensor.clone().detach() or sourceTensor.clone().detach().requires_grad_(True), rather than torch.tensor(sourceTensor).\n",
      "  ex = torch.tensor(self.dataset.data[self.queried_hist_[-1]][0]).to(self.device)\n",
      "C:\\Users\\Wan Jing\\Documents\\libact-torch\\libact\\query_strategies\\contextual_bandits_active_learning.py:180: UserWarning: To copy construct from a tensor, it is recommended to use sourceTensor.clone().detach() or sourceTensor.clone().detach().requires_grad_(True), rather than torch.tensor(sourceTensor).\n",
      "  ex = torch.tensor(self.dataset.data[self.queried_hist_[-1]][0]).to(self.device)\n",
      "C:\\Users\\Wan Jing\\Documents\\libact-torch\\libact\\query_strategies\\uncertainty_sampling.py:149: UserWarning: To copy construct from a tensor, it is recommended to use sourceTensor.clone().detach() or sourceTensor.clone().detach().requires_grad_(True), rather than torch.tensor(sourceTensor).\n",
      "  ex = torch.tensor(self.dataset.data[self.queried_hist_[-1]][0]).to(self.device)\n",
      "C:\\Users\\Wan Jing\\Documents\\libact-torch\\libact\\query_strategies\\representative_sampling.py:113: UserWarning: To copy construct from a tensor, it is recommended to use sourceTensor.clone().detach() or sourceTensor.clone().detach().requires_grad_(True), rather than torch.tensor(sourceTensor).\n",
      "  ex = torch.tensor(self.dataset.data[self.queried_hist_[-1]][0]).to(self.device)\n",
      "C:\\Users\\Wan Jing\\.conda\\envs\\deepCB\\lib\\site-packages\\sklearn\\metrics\\_classification.py:1221: UndefinedMetricWarning: Precision is ill-defined and being set to 0.0 in labels with no predicted samples. Use `zero_division` parameter to control this behavior.\n",
      "  _warn_prf(average, modifier, msg_start, len(result))\n"
     ]
    },
    {
     "name": "stdout",
     "output_type": "stream",
     "text": [
      "   strategy  labeled_acc  testing_acc\n",
      "88        0     0.458532     0.381563\n",
      "Tue Aug 25 06:03:15 2020 ContextualBanditsActiveLearning query round: 90\n",
      "Strategy Chosen: UncertaintySampling\n"
     ]
    },
    {
     "name": "stderr",
     "output_type": "stream",
     "text": [
      "C:\\Users\\Wan Jing\\Documents\\libact-torch\\libact\\query_strategies\\random_sampling.py:86: UserWarning: To copy construct from a tensor, it is recommended to use sourceTensor.clone().detach() or sourceTensor.clone().detach().requires_grad_(True), rather than torch.tensor(sourceTensor).\n",
      "  ex = torch.tensor(self.dataset.data[self.queried_hist_[-1]][0]).to(self.device)\n",
      "C:\\Users\\Wan Jing\\Documents\\libact-torch\\libact\\query_strategies\\contextual_bandits_active_learning.py:180: UserWarning: To copy construct from a tensor, it is recommended to use sourceTensor.clone().detach() or sourceTensor.clone().detach().requires_grad_(True), rather than torch.tensor(sourceTensor).\n",
      "  ex = torch.tensor(self.dataset.data[self.queried_hist_[-1]][0]).to(self.device)\n",
      "C:\\Users\\Wan Jing\\Documents\\libact-torch\\libact\\query_strategies\\uncertainty_sampling.py:149: UserWarning: To copy construct from a tensor, it is recommended to use sourceTensor.clone().detach() or sourceTensor.clone().detach().requires_grad_(True), rather than torch.tensor(sourceTensor).\n",
      "  ex = torch.tensor(self.dataset.data[self.queried_hist_[-1]][0]).to(self.device)\n",
      "C:\\Users\\Wan Jing\\Documents\\libact-torch\\libact\\query_strategies\\representative_sampling.py:113: UserWarning: To copy construct from a tensor, it is recommended to use sourceTensor.clone().detach() or sourceTensor.clone().detach().requires_grad_(True), rather than torch.tensor(sourceTensor).\n",
      "  ex = torch.tensor(self.dataset.data[self.queried_hist_[-1]][0]).to(self.device)\n"
     ]
    },
    {
     "name": "stdout",
     "output_type": "stream",
     "text": [
      "   strategy  labeled_acc  testing_acc\n",
      "89        1     0.453818     0.377289\n",
      "Tue Aug 25 06:03:28 2020 ContextualBanditsActiveLearning query round: 91\n",
      "Strategy Chosen: UncertaintySampling\n"
     ]
    },
    {
     "name": "stderr",
     "output_type": "stream",
     "text": [
      "C:\\Users\\Wan Jing\\Documents\\libact-torch\\libact\\query_strategies\\random_sampling.py:86: UserWarning: To copy construct from a tensor, it is recommended to use sourceTensor.clone().detach() or sourceTensor.clone().detach().requires_grad_(True), rather than torch.tensor(sourceTensor).\n",
      "  ex = torch.tensor(self.dataset.data[self.queried_hist_[-1]][0]).to(self.device)\n",
      "C:\\Users\\Wan Jing\\Documents\\libact-torch\\libact\\query_strategies\\contextual_bandits_active_learning.py:180: UserWarning: To copy construct from a tensor, it is recommended to use sourceTensor.clone().detach() or sourceTensor.clone().detach().requires_grad_(True), rather than torch.tensor(sourceTensor).\n",
      "  ex = torch.tensor(self.dataset.data[self.queried_hist_[-1]][0]).to(self.device)\n",
      "C:\\Users\\Wan Jing\\Documents\\libact-torch\\libact\\query_strategies\\uncertainty_sampling.py:149: UserWarning: To copy construct from a tensor, it is recommended to use sourceTensor.clone().detach() or sourceTensor.clone().detach().requires_grad_(True), rather than torch.tensor(sourceTensor).\n",
      "  ex = torch.tensor(self.dataset.data[self.queried_hist_[-1]][0]).to(self.device)\n",
      "C:\\Users\\Wan Jing\\Documents\\libact-torch\\libact\\query_strategies\\representative_sampling.py:113: UserWarning: To copy construct from a tensor, it is recommended to use sourceTensor.clone().detach() or sourceTensor.clone().detach().requires_grad_(True), rather than torch.tensor(sourceTensor).\n",
      "  ex = torch.tensor(self.dataset.data[self.queried_hist_[-1]][0]).to(self.device)\n",
      "C:\\Users\\Wan Jing\\.conda\\envs\\deepCB\\lib\\site-packages\\sklearn\\metrics\\_classification.py:1221: UndefinedMetricWarning: Precision is ill-defined and being set to 0.0 in labels with no predicted samples. Use `zero_division` parameter to control this behavior.\n",
      "  _warn_prf(average, modifier, msg_start, len(result))\n"
     ]
    },
    {
     "name": "stdout",
     "output_type": "stream",
     "text": [
      "   strategy  labeled_acc  testing_acc\n",
      "90        1     0.460901     0.385531\n",
      "Tue Aug 25 06:03:41 2020 ContextualBanditsActiveLearning query round: 92\n",
      "Strategy Chosen: UncertaintySampling\n"
     ]
    },
    {
     "name": "stderr",
     "output_type": "stream",
     "text": [
      "C:\\Users\\Wan Jing\\Documents\\libact-torch\\libact\\query_strategies\\random_sampling.py:86: UserWarning: To copy construct from a tensor, it is recommended to use sourceTensor.clone().detach() or sourceTensor.clone().detach().requires_grad_(True), rather than torch.tensor(sourceTensor).\n",
      "  ex = torch.tensor(self.dataset.data[self.queried_hist_[-1]][0]).to(self.device)\n",
      "C:\\Users\\Wan Jing\\Documents\\libact-torch\\libact\\query_strategies\\contextual_bandits_active_learning.py:180: UserWarning: To copy construct from a tensor, it is recommended to use sourceTensor.clone().detach() or sourceTensor.clone().detach().requires_grad_(True), rather than torch.tensor(sourceTensor).\n",
      "  ex = torch.tensor(self.dataset.data[self.queried_hist_[-1]][0]).to(self.device)\n",
      "C:\\Users\\Wan Jing\\Documents\\libact-torch\\libact\\query_strategies\\uncertainty_sampling.py:149: UserWarning: To copy construct from a tensor, it is recommended to use sourceTensor.clone().detach() or sourceTensor.clone().detach().requires_grad_(True), rather than torch.tensor(sourceTensor).\n",
      "  ex = torch.tensor(self.dataset.data[self.queried_hist_[-1]][0]).to(self.device)\n",
      "C:\\Users\\Wan Jing\\Documents\\libact-torch\\libact\\query_strategies\\representative_sampling.py:113: UserWarning: To copy construct from a tensor, it is recommended to use sourceTensor.clone().detach() or sourceTensor.clone().detach().requires_grad_(True), rather than torch.tensor(sourceTensor).\n",
      "  ex = torch.tensor(self.dataset.data[self.queried_hist_[-1]][0]).to(self.device)\n"
     ]
    },
    {
     "name": "stdout",
     "output_type": "stream",
     "text": [
      "   strategy  labeled_acc  testing_acc\n",
      "91        3     0.454464     0.383394\n",
      "Tue Aug 25 06:03:55 2020 ContextualBanditsActiveLearning query round: 93\n",
      "Strategy Chosen: UncertaintySampling\n"
     ]
    },
    {
     "name": "stderr",
     "output_type": "stream",
     "text": [
      "C:\\Users\\Wan Jing\\Documents\\libact-torch\\libact\\query_strategies\\random_sampling.py:86: UserWarning: To copy construct from a tensor, it is recommended to use sourceTensor.clone().detach() or sourceTensor.clone().detach().requires_grad_(True), rather than torch.tensor(sourceTensor).\n",
      "  ex = torch.tensor(self.dataset.data[self.queried_hist_[-1]][0]).to(self.device)\n",
      "C:\\Users\\Wan Jing\\Documents\\libact-torch\\libact\\query_strategies\\contextual_bandits_active_learning.py:180: UserWarning: To copy construct from a tensor, it is recommended to use sourceTensor.clone().detach() or sourceTensor.clone().detach().requires_grad_(True), rather than torch.tensor(sourceTensor).\n",
      "  ex = torch.tensor(self.dataset.data[self.queried_hist_[-1]][0]).to(self.device)\n",
      "C:\\Users\\Wan Jing\\Documents\\libact-torch\\libact\\query_strategies\\uncertainty_sampling.py:149: UserWarning: To copy construct from a tensor, it is recommended to use sourceTensor.clone().detach() or sourceTensor.clone().detach().requires_grad_(True), rather than torch.tensor(sourceTensor).\n",
      "  ex = torch.tensor(self.dataset.data[self.queried_hist_[-1]][0]).to(self.device)\n",
      "C:\\Users\\Wan Jing\\Documents\\libact-torch\\libact\\query_strategies\\representative_sampling.py:113: UserWarning: To copy construct from a tensor, it is recommended to use sourceTensor.clone().detach() or sourceTensor.clone().detach().requires_grad_(True), rather than torch.tensor(sourceTensor).\n",
      "  ex = torch.tensor(self.dataset.data[self.queried_hist_[-1]][0]).to(self.device)\n"
     ]
    },
    {
     "name": "stdout",
     "output_type": "stream",
     "text": [
      "   strategy  labeled_acc  testing_acc\n",
      "92        2     0.463894     0.384615\n",
      "Tue Aug 25 06:04:08 2020 ContextualBanditsActiveLearning query round: 94\n",
      "Strategy Chosen: UncertaintySampling\n"
     ]
    },
    {
     "name": "stderr",
     "output_type": "stream",
     "text": [
      "C:\\Users\\Wan Jing\\Documents\\libact-torch\\libact\\query_strategies\\random_sampling.py:86: UserWarning: To copy construct from a tensor, it is recommended to use sourceTensor.clone().detach() or sourceTensor.clone().detach().requires_grad_(True), rather than torch.tensor(sourceTensor).\n",
      "  ex = torch.tensor(self.dataset.data[self.queried_hist_[-1]][0]).to(self.device)\n",
      "C:\\Users\\Wan Jing\\Documents\\libact-torch\\libact\\query_strategies\\contextual_bandits_active_learning.py:180: UserWarning: To copy construct from a tensor, it is recommended to use sourceTensor.clone().detach() or sourceTensor.clone().detach().requires_grad_(True), rather than torch.tensor(sourceTensor).\n",
      "  ex = torch.tensor(self.dataset.data[self.queried_hist_[-1]][0]).to(self.device)\n",
      "C:\\Users\\Wan Jing\\Documents\\libact-torch\\libact\\query_strategies\\uncertainty_sampling.py:149: UserWarning: To copy construct from a tensor, it is recommended to use sourceTensor.clone().detach() or sourceTensor.clone().detach().requires_grad_(True), rather than torch.tensor(sourceTensor).\n",
      "  ex = torch.tensor(self.dataset.data[self.queried_hist_[-1]][0]).to(self.device)\n",
      "C:\\Users\\Wan Jing\\Documents\\libact-torch\\libact\\query_strategies\\representative_sampling.py:113: UserWarning: To copy construct from a tensor, it is recommended to use sourceTensor.clone().detach() or sourceTensor.clone().detach().requires_grad_(True), rather than torch.tensor(sourceTensor).\n",
      "  ex = torch.tensor(self.dataset.data[self.queried_hist_[-1]][0]).to(self.device)\n"
     ]
    },
    {
     "name": "stdout",
     "output_type": "stream",
     "text": [
      "   strategy  labeled_acc  testing_acc\n",
      "93        3     0.468246       0.3837\n",
      "Tue Aug 25 06:04:22 2020 ContextualBanditsActiveLearning query round: 95\n",
      "Strategy Chosen: UncertaintySampling\n"
     ]
    },
    {
     "name": "stderr",
     "output_type": "stream",
     "text": [
      "C:\\Users\\Wan Jing\\Documents\\libact-torch\\libact\\query_strategies\\random_sampling.py:86: UserWarning: To copy construct from a tensor, it is recommended to use sourceTensor.clone().detach() or sourceTensor.clone().detach().requires_grad_(True), rather than torch.tensor(sourceTensor).\n",
      "  ex = torch.tensor(self.dataset.data[self.queried_hist_[-1]][0]).to(self.device)\n",
      "C:\\Users\\Wan Jing\\Documents\\libact-torch\\libact\\query_strategies\\contextual_bandits_active_learning.py:180: UserWarning: To copy construct from a tensor, it is recommended to use sourceTensor.clone().detach() or sourceTensor.clone().detach().requires_grad_(True), rather than torch.tensor(sourceTensor).\n",
      "  ex = torch.tensor(self.dataset.data[self.queried_hist_[-1]][0]).to(self.device)\n",
      "C:\\Users\\Wan Jing\\Documents\\libact-torch\\libact\\query_strategies\\uncertainty_sampling.py:149: UserWarning: To copy construct from a tensor, it is recommended to use sourceTensor.clone().detach() or sourceTensor.clone().detach().requires_grad_(True), rather than torch.tensor(sourceTensor).\n",
      "  ex = torch.tensor(self.dataset.data[self.queried_hist_[-1]][0]).to(self.device)\n",
      "C:\\Users\\Wan Jing\\Documents\\libact-torch\\libact\\query_strategies\\representative_sampling.py:113: UserWarning: To copy construct from a tensor, it is recommended to use sourceTensor.clone().detach() or sourceTensor.clone().detach().requires_grad_(True), rather than torch.tensor(sourceTensor).\n",
      "  ex = torch.tensor(self.dataset.data[self.queried_hist_[-1]][0]).to(self.device)\n",
      "C:\\Users\\Wan Jing\\.conda\\envs\\deepCB\\lib\\site-packages\\sklearn\\metrics\\_classification.py:1221: UndefinedMetricWarning: Precision is ill-defined and being set to 0.0 in labels with no predicted samples. Use `zero_division` parameter to control this behavior.\n",
      "  _warn_prf(average, modifier, msg_start, len(result))\n"
     ]
    },
    {
     "name": "stdout",
     "output_type": "stream",
     "text": [
      "   strategy  labeled_acc  testing_acc\n",
      "94        1     0.473391     0.384005\n",
      "Tue Aug 25 06:04:35 2020 ContextualBanditsActiveLearning query round: 96\n",
      "Strategy Chosen: RandomSampling\n"
     ]
    },
    {
     "name": "stderr",
     "output_type": "stream",
     "text": [
      "C:\\Users\\Wan Jing\\Documents\\libact-torch\\libact\\query_strategies\\random_sampling.py:86: UserWarning: To copy construct from a tensor, it is recommended to use sourceTensor.clone().detach() or sourceTensor.clone().detach().requires_grad_(True), rather than torch.tensor(sourceTensor).\n",
      "  ex = torch.tensor(self.dataset.data[self.queried_hist_[-1]][0]).to(self.device)\n",
      "C:\\Users\\Wan Jing\\Documents\\libact-torch\\libact\\query_strategies\\contextual_bandits_active_learning.py:180: UserWarning: To copy construct from a tensor, it is recommended to use sourceTensor.clone().detach() or sourceTensor.clone().detach().requires_grad_(True), rather than torch.tensor(sourceTensor).\n",
      "  ex = torch.tensor(self.dataset.data[self.queried_hist_[-1]][0]).to(self.device)\n",
      "C:\\Users\\Wan Jing\\Documents\\libact-torch\\libact\\query_strategies\\uncertainty_sampling.py:149: UserWarning: To copy construct from a tensor, it is recommended to use sourceTensor.clone().detach() or sourceTensor.clone().detach().requires_grad_(True), rather than torch.tensor(sourceTensor).\n",
      "  ex = torch.tensor(self.dataset.data[self.queried_hist_[-1]][0]).to(self.device)\n",
      "C:\\Users\\Wan Jing\\Documents\\libact-torch\\libact\\query_strategies\\representative_sampling.py:113: UserWarning: To copy construct from a tensor, it is recommended to use sourceTensor.clone().detach() or sourceTensor.clone().detach().requires_grad_(True), rather than torch.tensor(sourceTensor).\n",
      "  ex = torch.tensor(self.dataset.data[self.queried_hist_[-1]][0]).to(self.device)\n"
     ]
    },
    {
     "name": "stdout",
     "output_type": "stream",
     "text": [
      "   strategy  labeled_acc  testing_acc\n",
      "95        0     0.476552     0.387057\n",
      "Tue Aug 25 06:04:46 2020 ContextualBanditsActiveLearning query round: 97\n",
      "Strategy Chosen: UncertaintySampling\n"
     ]
    },
    {
     "name": "stderr",
     "output_type": "stream",
     "text": [
      "C:\\Users\\Wan Jing\\Documents\\libact-torch\\libact\\query_strategies\\random_sampling.py:86: UserWarning: To copy construct from a tensor, it is recommended to use sourceTensor.clone().detach() or sourceTensor.clone().detach().requires_grad_(True), rather than torch.tensor(sourceTensor).\n",
      "  ex = torch.tensor(self.dataset.data[self.queried_hist_[-1]][0]).to(self.device)\n",
      "C:\\Users\\Wan Jing\\Documents\\libact-torch\\libact\\query_strategies\\contextual_bandits_active_learning.py:180: UserWarning: To copy construct from a tensor, it is recommended to use sourceTensor.clone().detach() or sourceTensor.clone().detach().requires_grad_(True), rather than torch.tensor(sourceTensor).\n",
      "  ex = torch.tensor(self.dataset.data[self.queried_hist_[-1]][0]).to(self.device)\n",
      "C:\\Users\\Wan Jing\\Documents\\libact-torch\\libact\\query_strategies\\uncertainty_sampling.py:149: UserWarning: To copy construct from a tensor, it is recommended to use sourceTensor.clone().detach() or sourceTensor.clone().detach().requires_grad_(True), rather than torch.tensor(sourceTensor).\n",
      "  ex = torch.tensor(self.dataset.data[self.queried_hist_[-1]][0]).to(self.device)\n",
      "C:\\Users\\Wan Jing\\Documents\\libact-torch\\libact\\query_strategies\\representative_sampling.py:113: UserWarning: To copy construct from a tensor, it is recommended to use sourceTensor.clone().detach() or sourceTensor.clone().detach().requires_grad_(True), rather than torch.tensor(sourceTensor).\n",
      "  ex = torch.tensor(self.dataset.data[self.queried_hist_[-1]][0]).to(self.device)\n",
      "C:\\Users\\Wan Jing\\.conda\\envs\\deepCB\\lib\\site-packages\\sklearn\\metrics\\_classification.py:1221: UndefinedMetricWarning: Precision is ill-defined and being set to 0.0 in labels with no predicted samples. Use `zero_division` parameter to control this behavior.\n",
      "  _warn_prf(average, modifier, msg_start, len(result))\n"
     ]
    },
    {
     "name": "stdout",
     "output_type": "stream",
     "text": [
      "   strategy  labeled_acc  testing_acc\n",
      "96        2     0.479316     0.387363\n",
      "Tue Aug 25 06:05:00 2020 ContextualBanditsActiveLearning query round: 98\n",
      "Strategy Chosen: UncertaintySampling\n"
     ]
    },
    {
     "name": "stderr",
     "output_type": "stream",
     "text": [
      "C:\\Users\\Wan Jing\\Documents\\libact-torch\\libact\\query_strategies\\random_sampling.py:86: UserWarning: To copy construct from a tensor, it is recommended to use sourceTensor.clone().detach() or sourceTensor.clone().detach().requires_grad_(True), rather than torch.tensor(sourceTensor).\n",
      "  ex = torch.tensor(self.dataset.data[self.queried_hist_[-1]][0]).to(self.device)\n",
      "C:\\Users\\Wan Jing\\Documents\\libact-torch\\libact\\query_strategies\\contextual_bandits_active_learning.py:180: UserWarning: To copy construct from a tensor, it is recommended to use sourceTensor.clone().detach() or sourceTensor.clone().detach().requires_grad_(True), rather than torch.tensor(sourceTensor).\n",
      "  ex = torch.tensor(self.dataset.data[self.queried_hist_[-1]][0]).to(self.device)\n",
      "C:\\Users\\Wan Jing\\Documents\\libact-torch\\libact\\query_strategies\\uncertainty_sampling.py:149: UserWarning: To copy construct from a tensor, it is recommended to use sourceTensor.clone().detach() or sourceTensor.clone().detach().requires_grad_(True), rather than torch.tensor(sourceTensor).\n",
      "  ex = torch.tensor(self.dataset.data[self.queried_hist_[-1]][0]).to(self.device)\n",
      "C:\\Users\\Wan Jing\\Documents\\libact-torch\\libact\\query_strategies\\representative_sampling.py:113: UserWarning: To copy construct from a tensor, it is recommended to use sourceTensor.clone().detach() or sourceTensor.clone().detach().requires_grad_(True), rather than torch.tensor(sourceTensor).\n",
      "  ex = torch.tensor(self.dataset.data[self.queried_hist_[-1]][0]).to(self.device)\n",
      "C:\\Users\\Wan Jing\\.conda\\envs\\deepCB\\lib\\site-packages\\sklearn\\metrics\\_classification.py:1221: UndefinedMetricWarning: Precision is ill-defined and being set to 0.0 in labels with no predicted samples. Use `zero_division` parameter to control this behavior.\n",
      "  _warn_prf(average, modifier, msg_start, len(result))\n"
     ]
    },
    {
     "name": "stdout",
     "output_type": "stream",
     "text": [
      "   strategy  labeled_acc  testing_acc\n",
      "97        3     0.471186     0.388584\n",
      "Tue Aug 25 06:05:13 2020 ContextualBanditsActiveLearning query round: 99\n",
      "Strategy Chosen: RandomSampling\n"
     ]
    },
    {
     "name": "stderr",
     "output_type": "stream",
     "text": [
      "C:\\Users\\Wan Jing\\Documents\\libact-torch\\libact\\query_strategies\\random_sampling.py:86: UserWarning: To copy construct from a tensor, it is recommended to use sourceTensor.clone().detach() or sourceTensor.clone().detach().requires_grad_(True), rather than torch.tensor(sourceTensor).\n",
      "  ex = torch.tensor(self.dataset.data[self.queried_hist_[-1]][0]).to(self.device)\n",
      "C:\\Users\\Wan Jing\\Documents\\libact-torch\\libact\\query_strategies\\contextual_bandits_active_learning.py:180: UserWarning: To copy construct from a tensor, it is recommended to use sourceTensor.clone().detach() or sourceTensor.clone().detach().requires_grad_(True), rather than torch.tensor(sourceTensor).\n",
      "  ex = torch.tensor(self.dataset.data[self.queried_hist_[-1]][0]).to(self.device)\n",
      "C:\\Users\\Wan Jing\\Documents\\libact-torch\\libact\\query_strategies\\uncertainty_sampling.py:149: UserWarning: To copy construct from a tensor, it is recommended to use sourceTensor.clone().detach() or sourceTensor.clone().detach().requires_grad_(True), rather than torch.tensor(sourceTensor).\n",
      "  ex = torch.tensor(self.dataset.data[self.queried_hist_[-1]][0]).to(self.device)\n",
      "C:\\Users\\Wan Jing\\Documents\\libact-torch\\libact\\query_strategies\\representative_sampling.py:113: UserWarning: To copy construct from a tensor, it is recommended to use sourceTensor.clone().detach() or sourceTensor.clone().detach().requires_grad_(True), rather than torch.tensor(sourceTensor).\n",
      "  ex = torch.tensor(self.dataset.data[self.queried_hist_[-1]][0]).to(self.device)\n"
     ]
    },
    {
     "name": "stdout",
     "output_type": "stream",
     "text": [
      "   strategy  labeled_acc  testing_acc\n",
      "98        0      0.47479     0.384615\n",
      "Tue Aug 25 06:05:24 2020 ContextualBanditsActiveLearning query round: 100\n",
      "Strategy Chosen: RepresentativeSampling\n"
     ]
    },
    {
     "name": "stderr",
     "output_type": "stream",
     "text": [
      "C:\\Users\\Wan Jing\\Documents\\libact-torch\\libact\\query_strategies\\representative_sampling.py:147: UserWarning: To copy construct from a tensor, it is recommended to use sourceTensor.clone().detach() or sourceTensor.clone().detach().requires_grad_(True), rather than torch.tensor(sourceTensor).\n",
      "  x = torch.tensor(x).to(self.device)\n",
      "C:\\Users\\Wan Jing\\Documents\\libact-torch\\libact\\query_strategies\\random_sampling.py:86: UserWarning: To copy construct from a tensor, it is recommended to use sourceTensor.clone().detach() or sourceTensor.clone().detach().requires_grad_(True), rather than torch.tensor(sourceTensor).\n",
      "  ex = torch.tensor(self.dataset.data[self.queried_hist_[-1]][0]).to(self.device)\n",
      "C:\\Users\\Wan Jing\\Documents\\libact-torch\\libact\\query_strategies\\contextual_bandits_active_learning.py:180: UserWarning: To copy construct from a tensor, it is recommended to use sourceTensor.clone().detach() or sourceTensor.clone().detach().requires_grad_(True), rather than torch.tensor(sourceTensor).\n",
      "  ex = torch.tensor(self.dataset.data[self.queried_hist_[-1]][0]).to(self.device)\n",
      "C:\\Users\\Wan Jing\\Documents\\libact-torch\\libact\\query_strategies\\uncertainty_sampling.py:149: UserWarning: To copy construct from a tensor, it is recommended to use sourceTensor.clone().detach() or sourceTensor.clone().detach().requires_grad_(True), rather than torch.tensor(sourceTensor).\n",
      "  ex = torch.tensor(self.dataset.data[self.queried_hist_[-1]][0]).to(self.device)\n",
      "C:\\Users\\Wan Jing\\Documents\\libact-torch\\libact\\query_strategies\\representative_sampling.py:113: UserWarning: To copy construct from a tensor, it is recommended to use sourceTensor.clone().detach() or sourceTensor.clone().detach().requires_grad_(True), rather than torch.tensor(sourceTensor).\n",
      "  ex = torch.tensor(self.dataset.data[self.queried_hist_[-1]][0]).to(self.device)\n"
     ]
    },
    {
     "name": "stdout",
     "output_type": "stream",
     "text": [
      "   strategy  labeled_acc  testing_acc\n",
      "99        4     0.484833     0.386752\n",
      "Tue Aug 25 06:05:40 2020 ContextualBanditsActiveLearning query round: 101\n",
      "Strategy Chosen: RandomSampling\n"
     ]
    },
    {
     "name": "stderr",
     "output_type": "stream",
     "text": [
      "C:\\Users\\Wan Jing\\Documents\\libact-torch\\libact\\query_strategies\\random_sampling.py:86: UserWarning: To copy construct from a tensor, it is recommended to use sourceTensor.clone().detach() or sourceTensor.clone().detach().requires_grad_(True), rather than torch.tensor(sourceTensor).\n",
      "  ex = torch.tensor(self.dataset.data[self.queried_hist_[-1]][0]).to(self.device)\n",
      "C:\\Users\\Wan Jing\\Documents\\libact-torch\\libact\\query_strategies\\contextual_bandits_active_learning.py:180: UserWarning: To copy construct from a tensor, it is recommended to use sourceTensor.clone().detach() or sourceTensor.clone().detach().requires_grad_(True), rather than torch.tensor(sourceTensor).\n",
      "  ex = torch.tensor(self.dataset.data[self.queried_hist_[-1]][0]).to(self.device)\n",
      "C:\\Users\\Wan Jing\\Documents\\libact-torch\\libact\\query_strategies\\uncertainty_sampling.py:149: UserWarning: To copy construct from a tensor, it is recommended to use sourceTensor.clone().detach() or sourceTensor.clone().detach().requires_grad_(True), rather than torch.tensor(sourceTensor).\n",
      "  ex = torch.tensor(self.dataset.data[self.queried_hist_[-1]][0]).to(self.device)\n",
      "C:\\Users\\Wan Jing\\Documents\\libact-torch\\libact\\query_strategies\\representative_sampling.py:113: UserWarning: To copy construct from a tensor, it is recommended to use sourceTensor.clone().detach() or sourceTensor.clone().detach().requires_grad_(True), rather than torch.tensor(sourceTensor).\n",
      "  ex = torch.tensor(self.dataset.data[self.queried_hist_[-1]][0]).to(self.device)\n"
     ]
    },
    {
     "name": "stdout",
     "output_type": "stream",
     "text": [
      "    strategy  labeled_acc  testing_acc\n",
      "100        0     0.489421     0.382173\n",
      "Tue Aug 25 06:05:51 2020 ContextualBanditsActiveLearning query round: 102\n",
      "Strategy Chosen: UncertaintySampling\n"
     ]
    },
    {
     "name": "stderr",
     "output_type": "stream",
     "text": [
      "C:\\Users\\Wan Jing\\Documents\\libact-torch\\libact\\query_strategies\\random_sampling.py:86: UserWarning: To copy construct from a tensor, it is recommended to use sourceTensor.clone().detach() or sourceTensor.clone().detach().requires_grad_(True), rather than torch.tensor(sourceTensor).\n",
      "  ex = torch.tensor(self.dataset.data[self.queried_hist_[-1]][0]).to(self.device)\n",
      "C:\\Users\\Wan Jing\\Documents\\libact-torch\\libact\\query_strategies\\contextual_bandits_active_learning.py:180: UserWarning: To copy construct from a tensor, it is recommended to use sourceTensor.clone().detach() or sourceTensor.clone().detach().requires_grad_(True), rather than torch.tensor(sourceTensor).\n",
      "  ex = torch.tensor(self.dataset.data[self.queried_hist_[-1]][0]).to(self.device)\n",
      "C:\\Users\\Wan Jing\\Documents\\libact-torch\\libact\\query_strategies\\uncertainty_sampling.py:149: UserWarning: To copy construct from a tensor, it is recommended to use sourceTensor.clone().detach() or sourceTensor.clone().detach().requires_grad_(True), rather than torch.tensor(sourceTensor).\n",
      "  ex = torch.tensor(self.dataset.data[self.queried_hist_[-1]][0]).to(self.device)\n",
      "C:\\Users\\Wan Jing\\Documents\\libact-torch\\libact\\query_strategies\\representative_sampling.py:113: UserWarning: To copy construct from a tensor, it is recommended to use sourceTensor.clone().detach() or sourceTensor.clone().detach().requires_grad_(True), rather than torch.tensor(sourceTensor).\n",
      "  ex = torch.tensor(self.dataset.data[self.queried_hist_[-1]][0]).to(self.device)\n",
      "C:\\Users\\Wan Jing\\.conda\\envs\\deepCB\\lib\\site-packages\\sklearn\\metrics\\_classification.py:1221: UndefinedMetricWarning: Precision is ill-defined and being set to 0.0 in labels with no predicted samples. Use `zero_division` parameter to control this behavior.\n",
      "  _warn_prf(average, modifier, msg_start, len(result))\n"
     ]
    },
    {
     "name": "stdout",
     "output_type": "stream",
     "text": [
      "    strategy  labeled_acc  testing_acc\n",
      "101        3     0.494754     0.391941\n",
      "Tue Aug 25 06:06:05 2020 ContextualBanditsActiveLearning query round: 103\n",
      "Strategy Chosen: UncertaintySampling\n"
     ]
    },
    {
     "name": "stderr",
     "output_type": "stream",
     "text": [
      "C:\\Users\\Wan Jing\\Documents\\libact-torch\\libact\\query_strategies\\random_sampling.py:86: UserWarning: To copy construct from a tensor, it is recommended to use sourceTensor.clone().detach() or sourceTensor.clone().detach().requires_grad_(True), rather than torch.tensor(sourceTensor).\n",
      "  ex = torch.tensor(self.dataset.data[self.queried_hist_[-1]][0]).to(self.device)\n",
      "C:\\Users\\Wan Jing\\Documents\\libact-torch\\libact\\query_strategies\\contextual_bandits_active_learning.py:180: UserWarning: To copy construct from a tensor, it is recommended to use sourceTensor.clone().detach() or sourceTensor.clone().detach().requires_grad_(True), rather than torch.tensor(sourceTensor).\n",
      "  ex = torch.tensor(self.dataset.data[self.queried_hist_[-1]][0]).to(self.device)\n",
      "C:\\Users\\Wan Jing\\Documents\\libact-torch\\libact\\query_strategies\\uncertainty_sampling.py:149: UserWarning: To copy construct from a tensor, it is recommended to use sourceTensor.clone().detach() or sourceTensor.clone().detach().requires_grad_(True), rather than torch.tensor(sourceTensor).\n",
      "  ex = torch.tensor(self.dataset.data[self.queried_hist_[-1]][0]).to(self.device)\n",
      "C:\\Users\\Wan Jing\\Documents\\libact-torch\\libact\\query_strategies\\representative_sampling.py:113: UserWarning: To copy construct from a tensor, it is recommended to use sourceTensor.clone().detach() or sourceTensor.clone().detach().requires_grad_(True), rather than torch.tensor(sourceTensor).\n",
      "  ex = torch.tensor(self.dataset.data[self.queried_hist_[-1]][0]).to(self.device)\n"
     ]
    },
    {
     "name": "stdout",
     "output_type": "stream",
     "text": [
      "    strategy  labeled_acc  testing_acc\n",
      "102        1      0.49252     0.384921\n",
      "Tue Aug 25 06:06:19 2020 ContextualBanditsActiveLearning query round: 104\n",
      "Strategy Chosen: UncertaintySampling\n"
     ]
    },
    {
     "name": "stderr",
     "output_type": "stream",
     "text": [
      "C:\\Users\\Wan Jing\\Documents\\libact-torch\\libact\\query_strategies\\random_sampling.py:86: UserWarning: To copy construct from a tensor, it is recommended to use sourceTensor.clone().detach() or sourceTensor.clone().detach().requires_grad_(True), rather than torch.tensor(sourceTensor).\n",
      "  ex = torch.tensor(self.dataset.data[self.queried_hist_[-1]][0]).to(self.device)\n",
      "C:\\Users\\Wan Jing\\Documents\\libact-torch\\libact\\query_strategies\\contextual_bandits_active_learning.py:180: UserWarning: To copy construct from a tensor, it is recommended to use sourceTensor.clone().detach() or sourceTensor.clone().detach().requires_grad_(True), rather than torch.tensor(sourceTensor).\n",
      "  ex = torch.tensor(self.dataset.data[self.queried_hist_[-1]][0]).to(self.device)\n",
      "C:\\Users\\Wan Jing\\Documents\\libact-torch\\libact\\query_strategies\\uncertainty_sampling.py:149: UserWarning: To copy construct from a tensor, it is recommended to use sourceTensor.clone().detach() or sourceTensor.clone().detach().requires_grad_(True), rather than torch.tensor(sourceTensor).\n",
      "  ex = torch.tensor(self.dataset.data[self.queried_hist_[-1]][0]).to(self.device)\n",
      "C:\\Users\\Wan Jing\\Documents\\libact-torch\\libact\\query_strategies\\representative_sampling.py:113: UserWarning: To copy construct from a tensor, it is recommended to use sourceTensor.clone().detach() or sourceTensor.clone().detach().requires_grad_(True), rather than torch.tensor(sourceTensor).\n",
      "  ex = torch.tensor(self.dataset.data[self.queried_hist_[-1]][0]).to(self.device)\n"
     ]
    },
    {
     "name": "stdout",
     "output_type": "stream",
     "text": [
      "    strategy  labeled_acc  testing_acc\n",
      "103        1     0.488548       0.3837\n",
      "Tue Aug 25 06:06:33 2020 ContextualBanditsActiveLearning query round: 105\n",
      "Strategy Chosen: UncertaintySampling\n"
     ]
    },
    {
     "name": "stderr",
     "output_type": "stream",
     "text": [
      "C:\\Users\\Wan Jing\\Documents\\libact-torch\\libact\\query_strategies\\random_sampling.py:86: UserWarning: To copy construct from a tensor, it is recommended to use sourceTensor.clone().detach() or sourceTensor.clone().detach().requires_grad_(True), rather than torch.tensor(sourceTensor).\n",
      "  ex = torch.tensor(self.dataset.data[self.queried_hist_[-1]][0]).to(self.device)\n",
      "C:\\Users\\Wan Jing\\Documents\\libact-torch\\libact\\query_strategies\\contextual_bandits_active_learning.py:180: UserWarning: To copy construct from a tensor, it is recommended to use sourceTensor.clone().detach() or sourceTensor.clone().detach().requires_grad_(True), rather than torch.tensor(sourceTensor).\n",
      "  ex = torch.tensor(self.dataset.data[self.queried_hist_[-1]][0]).to(self.device)\n",
      "C:\\Users\\Wan Jing\\Documents\\libact-torch\\libact\\query_strategies\\uncertainty_sampling.py:149: UserWarning: To copy construct from a tensor, it is recommended to use sourceTensor.clone().detach() or sourceTensor.clone().detach().requires_grad_(True), rather than torch.tensor(sourceTensor).\n",
      "  ex = torch.tensor(self.dataset.data[self.queried_hist_[-1]][0]).to(self.device)\n",
      "C:\\Users\\Wan Jing\\Documents\\libact-torch\\libact\\query_strategies\\representative_sampling.py:113: UserWarning: To copy construct from a tensor, it is recommended to use sourceTensor.clone().detach() or sourceTensor.clone().detach().requires_grad_(True), rather than torch.tensor(sourceTensor).\n",
      "  ex = torch.tensor(self.dataset.data[self.queried_hist_[-1]][0]).to(self.device)\n",
      "C:\\Users\\Wan Jing\\.conda\\envs\\deepCB\\lib\\site-packages\\sklearn\\metrics\\_classification.py:1221: UndefinedMetricWarning: Precision is ill-defined and being set to 0.0 in labels with no predicted samples. Use `zero_division` parameter to control this behavior.\n",
      "  _warn_prf(average, modifier, msg_start, len(result))\n"
     ]
    },
    {
     "name": "stdout",
     "output_type": "stream",
     "text": [
      "    strategy  labeled_acc  testing_acc\n",
      "104        1       0.4992     0.389499\n",
      "Tue Aug 25 06:06:47 2020 ContextualBanditsActiveLearning query round: 106\n",
      "Strategy Chosen: RepresentativeSampling\n"
     ]
    },
    {
     "name": "stderr",
     "output_type": "stream",
     "text": [
      "C:\\Users\\Wan Jing\\Documents\\libact-torch\\libact\\query_strategies\\representative_sampling.py:147: UserWarning: To copy construct from a tensor, it is recommended to use sourceTensor.clone().detach() or sourceTensor.clone().detach().requires_grad_(True), rather than torch.tensor(sourceTensor).\n",
      "  x = torch.tensor(x).to(self.device)\n",
      "C:\\Users\\Wan Jing\\Documents\\libact-torch\\libact\\query_strategies\\random_sampling.py:86: UserWarning: To copy construct from a tensor, it is recommended to use sourceTensor.clone().detach() or sourceTensor.clone().detach().requires_grad_(True), rather than torch.tensor(sourceTensor).\n",
      "  ex = torch.tensor(self.dataset.data[self.queried_hist_[-1]][0]).to(self.device)\n",
      "C:\\Users\\Wan Jing\\Documents\\libact-torch\\libact\\query_strategies\\contextual_bandits_active_learning.py:180: UserWarning: To copy construct from a tensor, it is recommended to use sourceTensor.clone().detach() or sourceTensor.clone().detach().requires_grad_(True), rather than torch.tensor(sourceTensor).\n",
      "  ex = torch.tensor(self.dataset.data[self.queried_hist_[-1]][0]).to(self.device)\n",
      "C:\\Users\\Wan Jing\\Documents\\libact-torch\\libact\\query_strategies\\uncertainty_sampling.py:149: UserWarning: To copy construct from a tensor, it is recommended to use sourceTensor.clone().detach() or sourceTensor.clone().detach().requires_grad_(True), rather than torch.tensor(sourceTensor).\n",
      "  ex = torch.tensor(self.dataset.data[self.queried_hist_[-1]][0]).to(self.device)\n",
      "C:\\Users\\Wan Jing\\Documents\\libact-torch\\libact\\query_strategies\\representative_sampling.py:113: UserWarning: To copy construct from a tensor, it is recommended to use sourceTensor.clone().detach() or sourceTensor.clone().detach().requires_grad_(True), rather than torch.tensor(sourceTensor).\n",
      "  ex = torch.tensor(self.dataset.data[self.queried_hist_[-1]][0]).to(self.device)\n"
     ]
    },
    {
     "name": "stdout",
     "output_type": "stream",
     "text": [
      "    strategy  labeled_acc  testing_acc\n",
      "105        4     0.503016     0.387057\n",
      "Tue Aug 25 06:07:03 2020 ContextualBanditsActiveLearning query round: 107\n",
      "Strategy Chosen: UncertaintySampling\n"
     ]
    },
    {
     "name": "stderr",
     "output_type": "stream",
     "text": [
      "C:\\Users\\Wan Jing\\Documents\\libact-torch\\libact\\query_strategies\\random_sampling.py:86: UserWarning: To copy construct from a tensor, it is recommended to use sourceTensor.clone().detach() or sourceTensor.clone().detach().requires_grad_(True), rather than torch.tensor(sourceTensor).\n",
      "  ex = torch.tensor(self.dataset.data[self.queried_hist_[-1]][0]).to(self.device)\n",
      "C:\\Users\\Wan Jing\\Documents\\libact-torch\\libact\\query_strategies\\contextual_bandits_active_learning.py:180: UserWarning: To copy construct from a tensor, it is recommended to use sourceTensor.clone().detach() or sourceTensor.clone().detach().requires_grad_(True), rather than torch.tensor(sourceTensor).\n",
      "  ex = torch.tensor(self.dataset.data[self.queried_hist_[-1]][0]).to(self.device)\n",
      "C:\\Users\\Wan Jing\\Documents\\libact-torch\\libact\\query_strategies\\uncertainty_sampling.py:149: UserWarning: To copy construct from a tensor, it is recommended to use sourceTensor.clone().detach() or sourceTensor.clone().detach().requires_grad_(True), rather than torch.tensor(sourceTensor).\n",
      "  ex = torch.tensor(self.dataset.data[self.queried_hist_[-1]][0]).to(self.device)\n",
      "C:\\Users\\Wan Jing\\Documents\\libact-torch\\libact\\query_strategies\\representative_sampling.py:113: UserWarning: To copy construct from a tensor, it is recommended to use sourceTensor.clone().detach() or sourceTensor.clone().detach().requires_grad_(True), rather than torch.tensor(sourceTensor).\n",
      "  ex = torch.tensor(self.dataset.data[self.queried_hist_[-1]][0]).to(self.device)\n",
      "C:\\Users\\Wan Jing\\.conda\\envs\\deepCB\\lib\\site-packages\\sklearn\\metrics\\_classification.py:1221: UndefinedMetricWarning: Precision is ill-defined and being set to 0.0 in labels with no predicted samples. Use `zero_division` parameter to control this behavior.\n",
      "  _warn_prf(average, modifier, msg_start, len(result))\n"
     ]
    },
    {
     "name": "stdout",
     "output_type": "stream",
     "text": [
      "    strategy  labeled_acc  testing_acc\n",
      "106        1     0.505354     0.394078\n",
      "Tue Aug 25 06:07:17 2020 ContextualBanditsActiveLearning query round: 108\n",
      "Strategy Chosen: UncertaintySampling\n"
     ]
    },
    {
     "name": "stderr",
     "output_type": "stream",
     "text": [
      "C:\\Users\\Wan Jing\\Documents\\libact-torch\\libact\\query_strategies\\random_sampling.py:86: UserWarning: To copy construct from a tensor, it is recommended to use sourceTensor.clone().detach() or sourceTensor.clone().detach().requires_grad_(True), rather than torch.tensor(sourceTensor).\n",
      "  ex = torch.tensor(self.dataset.data[self.queried_hist_[-1]][0]).to(self.device)\n",
      "C:\\Users\\Wan Jing\\Documents\\libact-torch\\libact\\query_strategies\\contextual_bandits_active_learning.py:180: UserWarning: To copy construct from a tensor, it is recommended to use sourceTensor.clone().detach() or sourceTensor.clone().detach().requires_grad_(True), rather than torch.tensor(sourceTensor).\n",
      "  ex = torch.tensor(self.dataset.data[self.queried_hist_[-1]][0]).to(self.device)\n",
      "C:\\Users\\Wan Jing\\Documents\\libact-torch\\libact\\query_strategies\\uncertainty_sampling.py:149: UserWarning: To copy construct from a tensor, it is recommended to use sourceTensor.clone().detach() or sourceTensor.clone().detach().requires_grad_(True), rather than torch.tensor(sourceTensor).\n",
      "  ex = torch.tensor(self.dataset.data[self.queried_hist_[-1]][0]).to(self.device)\n",
      "C:\\Users\\Wan Jing\\Documents\\libact-torch\\libact\\query_strategies\\representative_sampling.py:113: UserWarning: To copy construct from a tensor, it is recommended to use sourceTensor.clone().detach() or sourceTensor.clone().detach().requires_grad_(True), rather than torch.tensor(sourceTensor).\n",
      "  ex = torch.tensor(self.dataset.data[self.queried_hist_[-1]][0]).to(self.device)\n",
      "C:\\Users\\Wan Jing\\.conda\\envs\\deepCB\\lib\\site-packages\\sklearn\\metrics\\_classification.py:1221: UndefinedMetricWarning: Precision is ill-defined and being set to 0.0 in labels with no predicted samples. Use `zero_division` parameter to control this behavior.\n",
      "  _warn_prf(average, modifier, msg_start, len(result))\n"
     ]
    },
    {
     "name": "stdout",
     "output_type": "stream",
     "text": [
      "    strategy  labeled_acc  testing_acc\n",
      "107        3      0.50875     0.398352\n",
      "Tue Aug 25 06:07:31 2020 ContextualBanditsActiveLearning query round: 109\n",
      "Strategy Chosen: UncertaintySampling\n"
     ]
    },
    {
     "name": "stderr",
     "output_type": "stream",
     "text": [
      "C:\\Users\\Wan Jing\\Documents\\libact-torch\\libact\\query_strategies\\random_sampling.py:86: UserWarning: To copy construct from a tensor, it is recommended to use sourceTensor.clone().detach() or sourceTensor.clone().detach().requires_grad_(True), rather than torch.tensor(sourceTensor).\n",
      "  ex = torch.tensor(self.dataset.data[self.queried_hist_[-1]][0]).to(self.device)\n",
      "C:\\Users\\Wan Jing\\Documents\\libact-torch\\libact\\query_strategies\\contextual_bandits_active_learning.py:180: UserWarning: To copy construct from a tensor, it is recommended to use sourceTensor.clone().detach() or sourceTensor.clone().detach().requires_grad_(True), rather than torch.tensor(sourceTensor).\n",
      "  ex = torch.tensor(self.dataset.data[self.queried_hist_[-1]][0]).to(self.device)\n",
      "C:\\Users\\Wan Jing\\Documents\\libact-torch\\libact\\query_strategies\\uncertainty_sampling.py:149: UserWarning: To copy construct from a tensor, it is recommended to use sourceTensor.clone().detach() or sourceTensor.clone().detach().requires_grad_(True), rather than torch.tensor(sourceTensor).\n",
      "  ex = torch.tensor(self.dataset.data[self.queried_hist_[-1]][0]).to(self.device)\n",
      "C:\\Users\\Wan Jing\\Documents\\libact-torch\\libact\\query_strategies\\representative_sampling.py:113: UserWarning: To copy construct from a tensor, it is recommended to use sourceTensor.clone().detach() or sourceTensor.clone().detach().requires_grad_(True), rather than torch.tensor(sourceTensor).\n",
      "  ex = torch.tensor(self.dataset.data[self.queried_hist_[-1]][0]).to(self.device)\n",
      "C:\\Users\\Wan Jing\\.conda\\envs\\deepCB\\lib\\site-packages\\sklearn\\metrics\\_classification.py:1221: UndefinedMetricWarning: Precision is ill-defined and being set to 0.0 in labels with no predicted samples. Use `zero_division` parameter to control this behavior.\n",
      "  _warn_prf(average, modifier, msg_start, len(result))\n"
     ]
    },
    {
     "name": "stdout",
     "output_type": "stream",
     "text": [
      "    strategy  labeled_acc  testing_acc\n",
      "108        1     0.512868     0.392247\n",
      "Tue Aug 25 06:07:45 2020 ContextualBanditsActiveLearning query round: 110\n",
      "Strategy Chosen: RepresentativeSampling\n"
     ]
    },
    {
     "name": "stderr",
     "output_type": "stream",
     "text": [
      "C:\\Users\\Wan Jing\\Documents\\libact-torch\\libact\\query_strategies\\representative_sampling.py:147: UserWarning: To copy construct from a tensor, it is recommended to use sourceTensor.clone().detach() or sourceTensor.clone().detach().requires_grad_(True), rather than torch.tensor(sourceTensor).\n",
      "  x = torch.tensor(x).to(self.device)\n",
      "C:\\Users\\Wan Jing\\Documents\\libact-torch\\libact\\query_strategies\\random_sampling.py:86: UserWarning: To copy construct from a tensor, it is recommended to use sourceTensor.clone().detach() or sourceTensor.clone().detach().requires_grad_(True), rather than torch.tensor(sourceTensor).\n",
      "  ex = torch.tensor(self.dataset.data[self.queried_hist_[-1]][0]).to(self.device)\n",
      "C:\\Users\\Wan Jing\\Documents\\libact-torch\\libact\\query_strategies\\contextual_bandits_active_learning.py:180: UserWarning: To copy construct from a tensor, it is recommended to use sourceTensor.clone().detach() or sourceTensor.clone().detach().requires_grad_(True), rather than torch.tensor(sourceTensor).\n",
      "  ex = torch.tensor(self.dataset.data[self.queried_hist_[-1]][0]).to(self.device)\n",
      "C:\\Users\\Wan Jing\\Documents\\libact-torch\\libact\\query_strategies\\uncertainty_sampling.py:149: UserWarning: To copy construct from a tensor, it is recommended to use sourceTensor.clone().detach() or sourceTensor.clone().detach().requires_grad_(True), rather than torch.tensor(sourceTensor).\n",
      "  ex = torch.tensor(self.dataset.data[self.queried_hist_[-1]][0]).to(self.device)\n",
      "C:\\Users\\Wan Jing\\Documents\\libact-torch\\libact\\query_strategies\\representative_sampling.py:113: UserWarning: To copy construct from a tensor, it is recommended to use sourceTensor.clone().detach() or sourceTensor.clone().detach().requires_grad_(True), rather than torch.tensor(sourceTensor).\n",
      "  ex = torch.tensor(self.dataset.data[self.queried_hist_[-1]][0]).to(self.device)\n"
     ]
    },
    {
     "name": "stdout",
     "output_type": "stream",
     "text": [
      "    strategy  labeled_acc  testing_acc\n",
      "109        4        0.514     0.391636\n",
      "Tue Aug 25 06:08:02 2020 ContextualBanditsActiveLearning query round: 111\n",
      "Strategy Chosen: UncertaintySampling\n"
     ]
    },
    {
     "name": "stderr",
     "output_type": "stream",
     "text": [
      "C:\\Users\\Wan Jing\\Documents\\libact-torch\\libact\\query_strategies\\random_sampling.py:86: UserWarning: To copy construct from a tensor, it is recommended to use sourceTensor.clone().detach() or sourceTensor.clone().detach().requires_grad_(True), rather than torch.tensor(sourceTensor).\n",
      "  ex = torch.tensor(self.dataset.data[self.queried_hist_[-1]][0]).to(self.device)\n",
      "C:\\Users\\Wan Jing\\Documents\\libact-torch\\libact\\query_strategies\\contextual_bandits_active_learning.py:180: UserWarning: To copy construct from a tensor, it is recommended to use sourceTensor.clone().detach() or sourceTensor.clone().detach().requires_grad_(True), rather than torch.tensor(sourceTensor).\n",
      "  ex = torch.tensor(self.dataset.data[self.queried_hist_[-1]][0]).to(self.device)\n",
      "C:\\Users\\Wan Jing\\Documents\\libact-torch\\libact\\query_strategies\\uncertainty_sampling.py:149: UserWarning: To copy construct from a tensor, it is recommended to use sourceTensor.clone().detach() or sourceTensor.clone().detach().requires_grad_(True), rather than torch.tensor(sourceTensor).\n",
      "  ex = torch.tensor(self.dataset.data[self.queried_hist_[-1]][0]).to(self.device)\n",
      "C:\\Users\\Wan Jing\\Documents\\libact-torch\\libact\\query_strategies\\representative_sampling.py:113: UserWarning: To copy construct from a tensor, it is recommended to use sourceTensor.clone().detach() or sourceTensor.clone().detach().requires_grad_(True), rather than torch.tensor(sourceTensor).\n",
      "  ex = torch.tensor(self.dataset.data[self.queried_hist_[-1]][0]).to(self.device)\n",
      "C:\\Users\\Wan Jing\\.conda\\envs\\deepCB\\lib\\site-packages\\sklearn\\metrics\\_classification.py:1221: UndefinedMetricWarning: Precision is ill-defined and being set to 0.0 in labels with no predicted samples. Use `zero_division` parameter to control this behavior.\n",
      "  _warn_prf(average, modifier, msg_start, len(result))\n"
     ]
    },
    {
     "name": "stdout",
     "output_type": "stream",
     "text": [
      "    strategy  labeled_acc  testing_acc\n",
      "110        3     0.512061     0.397131\n",
      "Tue Aug 25 06:08:16 2020 ContextualBanditsActiveLearning query round: 112\n",
      "Strategy Chosen: UncertaintySampling\n"
     ]
    },
    {
     "name": "stderr",
     "output_type": "stream",
     "text": [
      "C:\\Users\\Wan Jing\\Documents\\libact-torch\\libact\\query_strategies\\random_sampling.py:86: UserWarning: To copy construct from a tensor, it is recommended to use sourceTensor.clone().detach() or sourceTensor.clone().detach().requires_grad_(True), rather than torch.tensor(sourceTensor).\n",
      "  ex = torch.tensor(self.dataset.data[self.queried_hist_[-1]][0]).to(self.device)\n",
      "C:\\Users\\Wan Jing\\Documents\\libact-torch\\libact\\query_strategies\\contextual_bandits_active_learning.py:180: UserWarning: To copy construct from a tensor, it is recommended to use sourceTensor.clone().detach() or sourceTensor.clone().detach().requires_grad_(True), rather than torch.tensor(sourceTensor).\n",
      "  ex = torch.tensor(self.dataset.data[self.queried_hist_[-1]][0]).to(self.device)\n",
      "C:\\Users\\Wan Jing\\Documents\\libact-torch\\libact\\query_strategies\\uncertainty_sampling.py:149: UserWarning: To copy construct from a tensor, it is recommended to use sourceTensor.clone().detach() or sourceTensor.clone().detach().requires_grad_(True), rather than torch.tensor(sourceTensor).\n",
      "  ex = torch.tensor(self.dataset.data[self.queried_hist_[-1]][0]).to(self.device)\n",
      "C:\\Users\\Wan Jing\\Documents\\libact-torch\\libact\\query_strategies\\representative_sampling.py:113: UserWarning: To copy construct from a tensor, it is recommended to use sourceTensor.clone().detach() or sourceTensor.clone().detach().requires_grad_(True), rather than torch.tensor(sourceTensor).\n",
      "  ex = torch.tensor(self.dataset.data[self.queried_hist_[-1]][0]).to(self.device)\n",
      "C:\\Users\\Wan Jing\\.conda\\envs\\deepCB\\lib\\site-packages\\sklearn\\metrics\\_classification.py:1221: UndefinedMetricWarning: Precision is ill-defined and being set to 0.0 in labels with no predicted samples. Use `zero_division` parameter to control this behavior.\n",
      "  _warn_prf(average, modifier, msg_start, len(result))\n"
     ]
    },
    {
     "name": "stdout",
     "output_type": "stream",
     "text": [
      "    strategy  labeled_acc  testing_acc\n",
      "111        3     0.515303     0.394994\n",
      "Tue Aug 25 06:08:30 2020 ContextualBanditsActiveLearning query round: 113\n",
      "Strategy Chosen: RepresentativeSampling\n"
     ]
    },
    {
     "name": "stderr",
     "output_type": "stream",
     "text": [
      "C:\\Users\\Wan Jing\\Documents\\libact-torch\\libact\\query_strategies\\representative_sampling.py:147: UserWarning: To copy construct from a tensor, it is recommended to use sourceTensor.clone().detach() or sourceTensor.clone().detach().requires_grad_(True), rather than torch.tensor(sourceTensor).\n",
      "  x = torch.tensor(x).to(self.device)\n",
      "C:\\Users\\Wan Jing\\Documents\\libact-torch\\libact\\query_strategies\\random_sampling.py:86: UserWarning: To copy construct from a tensor, it is recommended to use sourceTensor.clone().detach() or sourceTensor.clone().detach().requires_grad_(True), rather than torch.tensor(sourceTensor).\n",
      "  ex = torch.tensor(self.dataset.data[self.queried_hist_[-1]][0]).to(self.device)\n",
      "C:\\Users\\Wan Jing\\Documents\\libact-torch\\libact\\query_strategies\\contextual_bandits_active_learning.py:180: UserWarning: To copy construct from a tensor, it is recommended to use sourceTensor.clone().detach() or sourceTensor.clone().detach().requires_grad_(True), rather than torch.tensor(sourceTensor).\n",
      "  ex = torch.tensor(self.dataset.data[self.queried_hist_[-1]][0]).to(self.device)\n",
      "C:\\Users\\Wan Jing\\Documents\\libact-torch\\libact\\query_strategies\\uncertainty_sampling.py:149: UserWarning: To copy construct from a tensor, it is recommended to use sourceTensor.clone().detach() or sourceTensor.clone().detach().requires_grad_(True), rather than torch.tensor(sourceTensor).\n",
      "  ex = torch.tensor(self.dataset.data[self.queried_hist_[-1]][0]).to(self.device)\n",
      "C:\\Users\\Wan Jing\\Documents\\libact-torch\\libact\\query_strategies\\representative_sampling.py:113: UserWarning: To copy construct from a tensor, it is recommended to use sourceTensor.clone().detach() or sourceTensor.clone().detach().requires_grad_(True), rather than torch.tensor(sourceTensor).\n",
      "  ex = torch.tensor(self.dataset.data[self.queried_hist_[-1]][0]).to(self.device)\n"
     ]
    },
    {
     "name": "stdout",
     "output_type": "stream",
     "text": [
      "    strategy  labeled_acc  testing_acc\n",
      "112        4     0.521203     0.394689\n",
      "Tue Aug 25 06:08:47 2020 ContextualBanditsActiveLearning query round: 114\n",
      "Strategy Chosen: RandomSampling\n"
     ]
    },
    {
     "name": "stderr",
     "output_type": "stream",
     "text": [
      "C:\\Users\\Wan Jing\\Documents\\libact-torch\\libact\\query_strategies\\random_sampling.py:86: UserWarning: To copy construct from a tensor, it is recommended to use sourceTensor.clone().detach() or sourceTensor.clone().detach().requires_grad_(True), rather than torch.tensor(sourceTensor).\n",
      "  ex = torch.tensor(self.dataset.data[self.queried_hist_[-1]][0]).to(self.device)\n",
      "C:\\Users\\Wan Jing\\Documents\\libact-torch\\libact\\query_strategies\\contextual_bandits_active_learning.py:180: UserWarning: To copy construct from a tensor, it is recommended to use sourceTensor.clone().detach() or sourceTensor.clone().detach().requires_grad_(True), rather than torch.tensor(sourceTensor).\n",
      "  ex = torch.tensor(self.dataset.data[self.queried_hist_[-1]][0]).to(self.device)\n",
      "C:\\Users\\Wan Jing\\Documents\\libact-torch\\libact\\query_strategies\\uncertainty_sampling.py:149: UserWarning: To copy construct from a tensor, it is recommended to use sourceTensor.clone().detach() or sourceTensor.clone().detach().requires_grad_(True), rather than torch.tensor(sourceTensor).\n",
      "  ex = torch.tensor(self.dataset.data[self.queried_hist_[-1]][0]).to(self.device)\n",
      "C:\\Users\\Wan Jing\\Documents\\libact-torch\\libact\\query_strategies\\representative_sampling.py:113: UserWarning: To copy construct from a tensor, it is recommended to use sourceTensor.clone().detach() or sourceTensor.clone().detach().requires_grad_(True), rather than torch.tensor(sourceTensor).\n",
      "  ex = torch.tensor(self.dataset.data[self.queried_hist_[-1]][0]).to(self.device)\n"
     ]
    },
    {
     "name": "stdout",
     "output_type": "stream",
     "text": [
      "    strategy  labeled_acc  testing_acc\n",
      "113        0     0.523433     0.398352\n",
      "Tue Aug 25 06:08:59 2020 ContextualBanditsActiveLearning query round: 115\n",
      "Strategy Chosen: UncertaintySampling\n"
     ]
    },
    {
     "name": "stderr",
     "output_type": "stream",
     "text": [
      "C:\\Users\\Wan Jing\\Documents\\libact-torch\\libact\\query_strategies\\random_sampling.py:86: UserWarning: To copy construct from a tensor, it is recommended to use sourceTensor.clone().detach() or sourceTensor.clone().detach().requires_grad_(True), rather than torch.tensor(sourceTensor).\n",
      "  ex = torch.tensor(self.dataset.data[self.queried_hist_[-1]][0]).to(self.device)\n",
      "C:\\Users\\Wan Jing\\Documents\\libact-torch\\libact\\query_strategies\\contextual_bandits_active_learning.py:180: UserWarning: To copy construct from a tensor, it is recommended to use sourceTensor.clone().detach() or sourceTensor.clone().detach().requires_grad_(True), rather than torch.tensor(sourceTensor).\n",
      "  ex = torch.tensor(self.dataset.data[self.queried_hist_[-1]][0]).to(self.device)\n",
      "C:\\Users\\Wan Jing\\Documents\\libact-torch\\libact\\query_strategies\\uncertainty_sampling.py:149: UserWarning: To copy construct from a tensor, it is recommended to use sourceTensor.clone().detach() or sourceTensor.clone().detach().requires_grad_(True), rather than torch.tensor(sourceTensor).\n",
      "  ex = torch.tensor(self.dataset.data[self.queried_hist_[-1]][0]).to(self.device)\n",
      "C:\\Users\\Wan Jing\\Documents\\libact-torch\\libact\\query_strategies\\representative_sampling.py:113: UserWarning: To copy construct from a tensor, it is recommended to use sourceTensor.clone().detach() or sourceTensor.clone().detach().requires_grad_(True), rather than torch.tensor(sourceTensor).\n",
      "  ex = torch.tensor(self.dataset.data[self.queried_hist_[-1]][0]).to(self.device)\n",
      "C:\\Users\\Wan Jing\\.conda\\envs\\deepCB\\lib\\site-packages\\sklearn\\metrics\\_classification.py:1221: UndefinedMetricWarning: Precision is ill-defined and being set to 0.0 in labels with no predicted samples. Use `zero_division` parameter to control this behavior.\n",
      "  _warn_prf(average, modifier, msg_start, len(result))\n"
     ]
    },
    {
     "name": "stdout",
     "output_type": "stream",
     "text": [
      "    strategy  labeled_acc  testing_acc\n",
      "114        3     0.530519     0.395299\n",
      "Tue Aug 25 06:09:13 2020 ContextualBanditsActiveLearning query round: 116\n",
      "Strategy Chosen: RandomSampling\n"
     ]
    },
    {
     "name": "stderr",
     "output_type": "stream",
     "text": [
      "C:\\Users\\Wan Jing\\Documents\\libact-torch\\libact\\query_strategies\\random_sampling.py:86: UserWarning: To copy construct from a tensor, it is recommended to use sourceTensor.clone().detach() or sourceTensor.clone().detach().requires_grad_(True), rather than torch.tensor(sourceTensor).\n",
      "  ex = torch.tensor(self.dataset.data[self.queried_hist_[-1]][0]).to(self.device)\n",
      "C:\\Users\\Wan Jing\\Documents\\libact-torch\\libact\\query_strategies\\contextual_bandits_active_learning.py:180: UserWarning: To copy construct from a tensor, it is recommended to use sourceTensor.clone().detach() or sourceTensor.clone().detach().requires_grad_(True), rather than torch.tensor(sourceTensor).\n",
      "  ex = torch.tensor(self.dataset.data[self.queried_hist_[-1]][0]).to(self.device)\n",
      "C:\\Users\\Wan Jing\\Documents\\libact-torch\\libact\\query_strategies\\uncertainty_sampling.py:149: UserWarning: To copy construct from a tensor, it is recommended to use sourceTensor.clone().detach() or sourceTensor.clone().detach().requires_grad_(True), rather than torch.tensor(sourceTensor).\n",
      "  ex = torch.tensor(self.dataset.data[self.queried_hist_[-1]][0]).to(self.device)\n",
      "C:\\Users\\Wan Jing\\Documents\\libact-torch\\libact\\query_strategies\\representative_sampling.py:113: UserWarning: To copy construct from a tensor, it is recommended to use sourceTensor.clone().detach() or sourceTensor.clone().detach().requires_grad_(True), rather than torch.tensor(sourceTensor).\n",
      "  ex = torch.tensor(self.dataset.data[self.queried_hist_[-1]][0]).to(self.device)\n"
     ]
    },
    {
     "name": "stdout",
     "output_type": "stream",
     "text": [
      "    strategy  labeled_acc  testing_acc\n",
      "115        0     0.533529     0.400488\n",
      "Tue Aug 25 06:09:25 2020 ContextualBanditsActiveLearning query round: 117\n",
      "Strategy Chosen: UncertaintySampling\n"
     ]
    },
    {
     "name": "stderr",
     "output_type": "stream",
     "text": [
      "C:\\Users\\Wan Jing\\Documents\\libact-torch\\libact\\query_strategies\\random_sampling.py:86: UserWarning: To copy construct from a tensor, it is recommended to use sourceTensor.clone().detach() or sourceTensor.clone().detach().requires_grad_(True), rather than torch.tensor(sourceTensor).\n",
      "  ex = torch.tensor(self.dataset.data[self.queried_hist_[-1]][0]).to(self.device)\n",
      "C:\\Users\\Wan Jing\\Documents\\libact-torch\\libact\\query_strategies\\contextual_bandits_active_learning.py:180: UserWarning: To copy construct from a tensor, it is recommended to use sourceTensor.clone().detach() or sourceTensor.clone().detach().requires_grad_(True), rather than torch.tensor(sourceTensor).\n",
      "  ex = torch.tensor(self.dataset.data[self.queried_hist_[-1]][0]).to(self.device)\n",
      "C:\\Users\\Wan Jing\\Documents\\libact-torch\\libact\\query_strategies\\uncertainty_sampling.py:149: UserWarning: To copy construct from a tensor, it is recommended to use sourceTensor.clone().detach() or sourceTensor.clone().detach().requires_grad_(True), rather than torch.tensor(sourceTensor).\n",
      "  ex = torch.tensor(self.dataset.data[self.queried_hist_[-1]][0]).to(self.device)\n",
      "C:\\Users\\Wan Jing\\Documents\\libact-torch\\libact\\query_strategies\\representative_sampling.py:113: UserWarning: To copy construct from a tensor, it is recommended to use sourceTensor.clone().detach() or sourceTensor.clone().detach().requires_grad_(True), rather than torch.tensor(sourceTensor).\n",
      "  ex = torch.tensor(self.dataset.data[self.queried_hist_[-1]][0]).to(self.device)\n"
     ]
    },
    {
     "name": "stdout",
     "output_type": "stream",
     "text": [
      "    strategy  labeled_acc  testing_acc\n",
      "116        2     0.534015     0.398962\n",
      "Tue Aug 25 06:09:40 2020 ContextualBanditsActiveLearning query round: 118\n",
      "Strategy Chosen: UncertaintySampling\n"
     ]
    },
    {
     "name": "stderr",
     "output_type": "stream",
     "text": [
      "C:\\Users\\Wan Jing\\Documents\\libact-torch\\libact\\query_strategies\\random_sampling.py:86: UserWarning: To copy construct from a tensor, it is recommended to use sourceTensor.clone().detach() or sourceTensor.clone().detach().requires_grad_(True), rather than torch.tensor(sourceTensor).\n",
      "  ex = torch.tensor(self.dataset.data[self.queried_hist_[-1]][0]).to(self.device)\n",
      "C:\\Users\\Wan Jing\\Documents\\libact-torch\\libact\\query_strategies\\contextual_bandits_active_learning.py:180: UserWarning: To copy construct from a tensor, it is recommended to use sourceTensor.clone().detach() or sourceTensor.clone().detach().requires_grad_(True), rather than torch.tensor(sourceTensor).\n",
      "  ex = torch.tensor(self.dataset.data[self.queried_hist_[-1]][0]).to(self.device)\n",
      "C:\\Users\\Wan Jing\\Documents\\libact-torch\\libact\\query_strategies\\uncertainty_sampling.py:149: UserWarning: To copy construct from a tensor, it is recommended to use sourceTensor.clone().detach() or sourceTensor.clone().detach().requires_grad_(True), rather than torch.tensor(sourceTensor).\n",
      "  ex = torch.tensor(self.dataset.data[self.queried_hist_[-1]][0]).to(self.device)\n",
      "C:\\Users\\Wan Jing\\Documents\\libact-torch\\libact\\query_strategies\\representative_sampling.py:113: UserWarning: To copy construct from a tensor, it is recommended to use sourceTensor.clone().detach() or sourceTensor.clone().detach().requires_grad_(True), rather than torch.tensor(sourceTensor).\n",
      "  ex = torch.tensor(self.dataset.data[self.queried_hist_[-1]][0]).to(self.device)\n"
     ]
    },
    {
     "name": "stdout",
     "output_type": "stream",
     "text": [
      "    strategy  labeled_acc  testing_acc\n",
      "117        3     0.538406     0.405067\n",
      "Tue Aug 25 06:09:55 2020 ContextualBanditsActiveLearning query round: 119\n",
      "Strategy Chosen: RandomSampling\n"
     ]
    },
    {
     "name": "stderr",
     "output_type": "stream",
     "text": [
      "C:\\Users\\Wan Jing\\Documents\\libact-torch\\libact\\query_strategies\\random_sampling.py:86: UserWarning: To copy construct from a tensor, it is recommended to use sourceTensor.clone().detach() or sourceTensor.clone().detach().requires_grad_(True), rather than torch.tensor(sourceTensor).\n",
      "  ex = torch.tensor(self.dataset.data[self.queried_hist_[-1]][0]).to(self.device)\n",
      "C:\\Users\\Wan Jing\\Documents\\libact-torch\\libact\\query_strategies\\contextual_bandits_active_learning.py:180: UserWarning: To copy construct from a tensor, it is recommended to use sourceTensor.clone().detach() or sourceTensor.clone().detach().requires_grad_(True), rather than torch.tensor(sourceTensor).\n",
      "  ex = torch.tensor(self.dataset.data[self.queried_hist_[-1]][0]).to(self.device)\n",
      "C:\\Users\\Wan Jing\\Documents\\libact-torch\\libact\\query_strategies\\uncertainty_sampling.py:149: UserWarning: To copy construct from a tensor, it is recommended to use sourceTensor.clone().detach() or sourceTensor.clone().detach().requires_grad_(True), rather than torch.tensor(sourceTensor).\n",
      "  ex = torch.tensor(self.dataset.data[self.queried_hist_[-1]][0]).to(self.device)\n",
      "C:\\Users\\Wan Jing\\Documents\\libact-torch\\libact\\query_strategies\\representative_sampling.py:113: UserWarning: To copy construct from a tensor, it is recommended to use sourceTensor.clone().detach() or sourceTensor.clone().detach().requires_grad_(True), rather than torch.tensor(sourceTensor).\n",
      "  ex = torch.tensor(self.dataset.data[self.queried_hist_[-1]][0]).to(self.device)\n"
     ]
    },
    {
     "name": "stdout",
     "output_type": "stream",
     "text": [
      "    strategy  labeled_acc  testing_acc\n",
      "118        0     0.541727     0.401404\n",
      "Tue Aug 25 06:10:07 2020 ContextualBanditsActiveLearning query round: 120\n",
      "Strategy Chosen: UncertaintySampling\n"
     ]
    },
    {
     "name": "stderr",
     "output_type": "stream",
     "text": [
      "C:\\Users\\Wan Jing\\Documents\\libact-torch\\libact\\query_strategies\\random_sampling.py:86: UserWarning: To copy construct from a tensor, it is recommended to use sourceTensor.clone().detach() or sourceTensor.clone().detach().requires_grad_(True), rather than torch.tensor(sourceTensor).\n",
      "  ex = torch.tensor(self.dataset.data[self.queried_hist_[-1]][0]).to(self.device)\n",
      "C:\\Users\\Wan Jing\\Documents\\libact-torch\\libact\\query_strategies\\contextual_bandits_active_learning.py:180: UserWarning: To copy construct from a tensor, it is recommended to use sourceTensor.clone().detach() or sourceTensor.clone().detach().requires_grad_(True), rather than torch.tensor(sourceTensor).\n",
      "  ex = torch.tensor(self.dataset.data[self.queried_hist_[-1]][0]).to(self.device)\n",
      "C:\\Users\\Wan Jing\\Documents\\libact-torch\\libact\\query_strategies\\uncertainty_sampling.py:149: UserWarning: To copy construct from a tensor, it is recommended to use sourceTensor.clone().detach() or sourceTensor.clone().detach().requires_grad_(True), rather than torch.tensor(sourceTensor).\n",
      "  ex = torch.tensor(self.dataset.data[self.queried_hist_[-1]][0]).to(self.device)\n",
      "C:\\Users\\Wan Jing\\Documents\\libact-torch\\libact\\query_strategies\\representative_sampling.py:113: UserWarning: To copy construct from a tensor, it is recommended to use sourceTensor.clone().detach() or sourceTensor.clone().detach().requires_grad_(True), rather than torch.tensor(sourceTensor).\n",
      "  ex = torch.tensor(self.dataset.data[self.queried_hist_[-1]][0]).to(self.device)\n"
     ]
    },
    {
     "name": "stdout",
     "output_type": "stream",
     "text": [
      "    strategy  labeled_acc  testing_acc\n",
      "119        2     0.542429     0.403846\n",
      "Tue Aug 25 06:10:22 2020 ContextualBanditsActiveLearning query round: 121\n",
      "Strategy Chosen: UncertaintySampling\n"
     ]
    },
    {
     "name": "stderr",
     "output_type": "stream",
     "text": [
      "C:\\Users\\Wan Jing\\Documents\\libact-torch\\libact\\query_strategies\\random_sampling.py:86: UserWarning: To copy construct from a tensor, it is recommended to use sourceTensor.clone().detach() or sourceTensor.clone().detach().requires_grad_(True), rather than torch.tensor(sourceTensor).\n",
      "  ex = torch.tensor(self.dataset.data[self.queried_hist_[-1]][0]).to(self.device)\n",
      "C:\\Users\\Wan Jing\\Documents\\libact-torch\\libact\\query_strategies\\contextual_bandits_active_learning.py:180: UserWarning: To copy construct from a tensor, it is recommended to use sourceTensor.clone().detach() or sourceTensor.clone().detach().requires_grad_(True), rather than torch.tensor(sourceTensor).\n",
      "  ex = torch.tensor(self.dataset.data[self.queried_hist_[-1]][0]).to(self.device)\n",
      "C:\\Users\\Wan Jing\\Documents\\libact-torch\\libact\\query_strategies\\uncertainty_sampling.py:149: UserWarning: To copy construct from a tensor, it is recommended to use sourceTensor.clone().detach() or sourceTensor.clone().detach().requires_grad_(True), rather than torch.tensor(sourceTensor).\n",
      "  ex = torch.tensor(self.dataset.data[self.queried_hist_[-1]][0]).to(self.device)\n",
      "C:\\Users\\Wan Jing\\Documents\\libact-torch\\libact\\query_strategies\\representative_sampling.py:113: UserWarning: To copy construct from a tensor, it is recommended to use sourceTensor.clone().detach() or sourceTensor.clone().detach().requires_grad_(True), rather than torch.tensor(sourceTensor).\n",
      "  ex = torch.tensor(self.dataset.data[self.queried_hist_[-1]][0]).to(self.device)\n",
      "C:\\Users\\Wan Jing\\.conda\\envs\\deepCB\\lib\\site-packages\\sklearn\\metrics\\_classification.py:1221: UndefinedMetricWarning: Precision is ill-defined and being set to 0.0 in labels with no predicted samples. Use `zero_division` parameter to control this behavior.\n",
      "  _warn_prf(average, modifier, msg_start, len(result))\n"
     ]
    },
    {
     "name": "stdout",
     "output_type": "stream",
     "text": [
      "    strategy  labeled_acc  testing_acc\n",
      "120        3     0.543262      0.40232\n",
      "Tue Aug 25 06:10:37 2020 ContextualBanditsActiveLearning query round: 122\n",
      "Strategy Chosen: UncertaintySampling\n"
     ]
    },
    {
     "name": "stderr",
     "output_type": "stream",
     "text": [
      "C:\\Users\\Wan Jing\\Documents\\libact-torch\\libact\\query_strategies\\random_sampling.py:86: UserWarning: To copy construct from a tensor, it is recommended to use sourceTensor.clone().detach() or sourceTensor.clone().detach().requires_grad_(True), rather than torch.tensor(sourceTensor).\n",
      "  ex = torch.tensor(self.dataset.data[self.queried_hist_[-1]][0]).to(self.device)\n",
      "C:\\Users\\Wan Jing\\Documents\\libact-torch\\libact\\query_strategies\\contextual_bandits_active_learning.py:180: UserWarning: To copy construct from a tensor, it is recommended to use sourceTensor.clone().detach() or sourceTensor.clone().detach().requires_grad_(True), rather than torch.tensor(sourceTensor).\n",
      "  ex = torch.tensor(self.dataset.data[self.queried_hist_[-1]][0]).to(self.device)\n",
      "C:\\Users\\Wan Jing\\Documents\\libact-torch\\libact\\query_strategies\\uncertainty_sampling.py:149: UserWarning: To copy construct from a tensor, it is recommended to use sourceTensor.clone().detach() or sourceTensor.clone().detach().requires_grad_(True), rather than torch.tensor(sourceTensor).\n",
      "  ex = torch.tensor(self.dataset.data[self.queried_hist_[-1]][0]).to(self.device)\n",
      "C:\\Users\\Wan Jing\\Documents\\libact-torch\\libact\\query_strategies\\representative_sampling.py:113: UserWarning: To copy construct from a tensor, it is recommended to use sourceTensor.clone().detach() or sourceTensor.clone().detach().requires_grad_(True), rather than torch.tensor(sourceTensor).\n",
      "  ex = torch.tensor(self.dataset.data[self.queried_hist_[-1]][0]).to(self.device)\n"
     ]
    },
    {
     "name": "stdout",
     "output_type": "stream",
     "text": [
      "    strategy  labeled_acc  testing_acc\n",
      "121        2     0.549155      0.40293\n",
      "Tue Aug 25 06:10:51 2020 ContextualBanditsActiveLearning query round: 123\n",
      "Strategy Chosen: RepresentativeSampling\n"
     ]
    },
    {
     "name": "stderr",
     "output_type": "stream",
     "text": [
      "C:\\Users\\Wan Jing\\Documents\\libact-torch\\libact\\query_strategies\\representative_sampling.py:147: UserWarning: To copy construct from a tensor, it is recommended to use sourceTensor.clone().detach() or sourceTensor.clone().detach().requires_grad_(True), rather than torch.tensor(sourceTensor).\n",
      "  x = torch.tensor(x).to(self.device)\n",
      "C:\\Users\\Wan Jing\\Documents\\libact-torch\\libact\\query_strategies\\random_sampling.py:86: UserWarning: To copy construct from a tensor, it is recommended to use sourceTensor.clone().detach() or sourceTensor.clone().detach().requires_grad_(True), rather than torch.tensor(sourceTensor).\n",
      "  ex = torch.tensor(self.dataset.data[self.queried_hist_[-1]][0]).to(self.device)\n",
      "C:\\Users\\Wan Jing\\Documents\\libact-torch\\libact\\query_strategies\\contextual_bandits_active_learning.py:180: UserWarning: To copy construct from a tensor, it is recommended to use sourceTensor.clone().detach() or sourceTensor.clone().detach().requires_grad_(True), rather than torch.tensor(sourceTensor).\n",
      "  ex = torch.tensor(self.dataset.data[self.queried_hist_[-1]][0]).to(self.device)\n",
      "C:\\Users\\Wan Jing\\Documents\\libact-torch\\libact\\query_strategies\\uncertainty_sampling.py:149: UserWarning: To copy construct from a tensor, it is recommended to use sourceTensor.clone().detach() or sourceTensor.clone().detach().requires_grad_(True), rather than torch.tensor(sourceTensor).\n",
      "  ex = torch.tensor(self.dataset.data[self.queried_hist_[-1]][0]).to(self.device)\n",
      "C:\\Users\\Wan Jing\\Documents\\libact-torch\\libact\\query_strategies\\representative_sampling.py:113: UserWarning: To copy construct from a tensor, it is recommended to use sourceTensor.clone().detach() or sourceTensor.clone().detach().requires_grad_(True), rather than torch.tensor(sourceTensor).\n",
      "  ex = torch.tensor(self.dataset.data[self.queried_hist_[-1]][0]).to(self.device)\n"
     ]
    },
    {
     "name": "stdout",
     "output_type": "stream",
     "text": [
      "    strategy  labeled_acc  testing_acc\n",
      "122        4     0.548252      0.40232\n",
      "Tue Aug 25 06:11:08 2020 ContextualBanditsActiveLearning query round: 124\n",
      "Strategy Chosen: UncertaintySampling\n"
     ]
    },
    {
     "name": "stderr",
     "output_type": "stream",
     "text": [
      "C:\\Users\\Wan Jing\\Documents\\libact-torch\\libact\\query_strategies\\random_sampling.py:86: UserWarning: To copy construct from a tensor, it is recommended to use sourceTensor.clone().detach() or sourceTensor.clone().detach().requires_grad_(True), rather than torch.tensor(sourceTensor).\n",
      "  ex = torch.tensor(self.dataset.data[self.queried_hist_[-1]][0]).to(self.device)\n",
      "C:\\Users\\Wan Jing\\Documents\\libact-torch\\libact\\query_strategies\\contextual_bandits_active_learning.py:180: UserWarning: To copy construct from a tensor, it is recommended to use sourceTensor.clone().detach() or sourceTensor.clone().detach().requires_grad_(True), rather than torch.tensor(sourceTensor).\n",
      "  ex = torch.tensor(self.dataset.data[self.queried_hist_[-1]][0]).to(self.device)\n",
      "C:\\Users\\Wan Jing\\Documents\\libact-torch\\libact\\query_strategies\\uncertainty_sampling.py:149: UserWarning: To copy construct from a tensor, it is recommended to use sourceTensor.clone().detach() or sourceTensor.clone().detach().requires_grad_(True), rather than torch.tensor(sourceTensor).\n",
      "  ex = torch.tensor(self.dataset.data[self.queried_hist_[-1]][0]).to(self.device)\n",
      "C:\\Users\\Wan Jing\\Documents\\libact-torch\\libact\\query_strategies\\representative_sampling.py:113: UserWarning: To copy construct from a tensor, it is recommended to use sourceTensor.clone().detach() or sourceTensor.clone().detach().requires_grad_(True), rather than torch.tensor(sourceTensor).\n",
      "  ex = torch.tensor(self.dataset.data[self.queried_hist_[-1]][0]).to(self.device)\n",
      "C:\\Users\\Wan Jing\\.conda\\envs\\deepCB\\lib\\site-packages\\sklearn\\metrics\\_classification.py:1221: UndefinedMetricWarning: Precision is ill-defined and being set to 0.0 in labels with no predicted samples. Use `zero_division` parameter to control this behavior.\n",
      "  _warn_prf(average, modifier, msg_start, len(result))\n"
     ]
    },
    {
     "name": "stdout",
     "output_type": "stream",
     "text": [
      "    strategy  labeled_acc  testing_acc\n",
      "123        2     0.554167     0.406593\n",
      "Tue Aug 25 06:11:23 2020 ContextualBanditsActiveLearning query round: 125\n",
      "Strategy Chosen: RepresentativeSampling\n"
     ]
    },
    {
     "name": "stderr",
     "output_type": "stream",
     "text": [
      "C:\\Users\\Wan Jing\\Documents\\libact-torch\\libact\\query_strategies\\representative_sampling.py:147: UserWarning: To copy construct from a tensor, it is recommended to use sourceTensor.clone().detach() or sourceTensor.clone().detach().requires_grad_(True), rather than torch.tensor(sourceTensor).\n",
      "  x = torch.tensor(x).to(self.device)\n",
      "C:\\Users\\Wan Jing\\Documents\\libact-torch\\libact\\query_strategies\\random_sampling.py:86: UserWarning: To copy construct from a tensor, it is recommended to use sourceTensor.clone().detach() or sourceTensor.clone().detach().requires_grad_(True), rather than torch.tensor(sourceTensor).\n",
      "  ex = torch.tensor(self.dataset.data[self.queried_hist_[-1]][0]).to(self.device)\n",
      "C:\\Users\\Wan Jing\\Documents\\libact-torch\\libact\\query_strategies\\contextual_bandits_active_learning.py:180: UserWarning: To copy construct from a tensor, it is recommended to use sourceTensor.clone().detach() or sourceTensor.clone().detach().requires_grad_(True), rather than torch.tensor(sourceTensor).\n",
      "  ex = torch.tensor(self.dataset.data[self.queried_hist_[-1]][0]).to(self.device)\n",
      "C:\\Users\\Wan Jing\\Documents\\libact-torch\\libact\\query_strategies\\uncertainty_sampling.py:149: UserWarning: To copy construct from a tensor, it is recommended to use sourceTensor.clone().detach() or sourceTensor.clone().detach().requires_grad_(True), rather than torch.tensor(sourceTensor).\n",
      "  ex = torch.tensor(self.dataset.data[self.queried_hist_[-1]][0]).to(self.device)\n",
      "C:\\Users\\Wan Jing\\Documents\\libact-torch\\libact\\query_strategies\\representative_sampling.py:113: UserWarning: To copy construct from a tensor, it is recommended to use sourceTensor.clone().detach() or sourceTensor.clone().detach().requires_grad_(True), rather than torch.tensor(sourceTensor).\n",
      "  ex = torch.tensor(self.dataset.data[self.queried_hist_[-1]][0]).to(self.device)\n"
     ]
    },
    {
     "name": "stdout",
     "output_type": "stream",
     "text": [
      "    strategy  labeled_acc  testing_acc\n",
      "124        4     0.560138     0.405983\n",
      "Tue Aug 25 06:11:40 2020 ContextualBanditsActiveLearning query round: 126\n",
      "Strategy Chosen: UncertaintySampling\n"
     ]
    },
    {
     "name": "stderr",
     "output_type": "stream",
     "text": [
      "C:\\Users\\Wan Jing\\Documents\\libact-torch\\libact\\query_strategies\\random_sampling.py:86: UserWarning: To copy construct from a tensor, it is recommended to use sourceTensor.clone().detach() or sourceTensor.clone().detach().requires_grad_(True), rather than torch.tensor(sourceTensor).\n",
      "  ex = torch.tensor(self.dataset.data[self.queried_hist_[-1]][0]).to(self.device)\n",
      "C:\\Users\\Wan Jing\\Documents\\libact-torch\\libact\\query_strategies\\contextual_bandits_active_learning.py:180: UserWarning: To copy construct from a tensor, it is recommended to use sourceTensor.clone().detach() or sourceTensor.clone().detach().requires_grad_(True), rather than torch.tensor(sourceTensor).\n",
      "  ex = torch.tensor(self.dataset.data[self.queried_hist_[-1]][0]).to(self.device)\n",
      "C:\\Users\\Wan Jing\\Documents\\libact-torch\\libact\\query_strategies\\uncertainty_sampling.py:149: UserWarning: To copy construct from a tensor, it is recommended to use sourceTensor.clone().detach() or sourceTensor.clone().detach().requires_grad_(True), rather than torch.tensor(sourceTensor).\n",
      "  ex = torch.tensor(self.dataset.data[self.queried_hist_[-1]][0]).to(self.device)\n",
      "C:\\Users\\Wan Jing\\Documents\\libact-torch\\libact\\query_strategies\\representative_sampling.py:113: UserWarning: To copy construct from a tensor, it is recommended to use sourceTensor.clone().detach() or sourceTensor.clone().detach().requires_grad_(True), rather than torch.tensor(sourceTensor).\n",
      "  ex = torch.tensor(self.dataset.data[self.queried_hist_[-1]][0]).to(self.device)\n"
     ]
    },
    {
     "name": "stdout",
     "output_type": "stream",
     "text": [
      "    strategy  labeled_acc  testing_acc\n",
      "125        3     0.563288     0.401404\n",
      "Tue Aug 25 06:11:55 2020 ContextualBanditsActiveLearning query round: 127\n",
      "Strategy Chosen: RepresentativeSampling\n"
     ]
    },
    {
     "name": "stderr",
     "output_type": "stream",
     "text": [
      "C:\\Users\\Wan Jing\\Documents\\libact-torch\\libact\\query_strategies\\representative_sampling.py:147: UserWarning: To copy construct from a tensor, it is recommended to use sourceTensor.clone().detach() or sourceTensor.clone().detach().requires_grad_(True), rather than torch.tensor(sourceTensor).\n",
      "  x = torch.tensor(x).to(self.device)\n",
      "C:\\Users\\Wan Jing\\Documents\\libact-torch\\libact\\query_strategies\\random_sampling.py:86: UserWarning: To copy construct from a tensor, it is recommended to use sourceTensor.clone().detach() or sourceTensor.clone().detach().requires_grad_(True), rather than torch.tensor(sourceTensor).\n",
      "  ex = torch.tensor(self.dataset.data[self.queried_hist_[-1]][0]).to(self.device)\n",
      "C:\\Users\\Wan Jing\\Documents\\libact-torch\\libact\\query_strategies\\contextual_bandits_active_learning.py:180: UserWarning: To copy construct from a tensor, it is recommended to use sourceTensor.clone().detach() or sourceTensor.clone().detach().requires_grad_(True), rather than torch.tensor(sourceTensor).\n",
      "  ex = torch.tensor(self.dataset.data[self.queried_hist_[-1]][0]).to(self.device)\n",
      "C:\\Users\\Wan Jing\\Documents\\libact-torch\\libact\\query_strategies\\uncertainty_sampling.py:149: UserWarning: To copy construct from a tensor, it is recommended to use sourceTensor.clone().detach() or sourceTensor.clone().detach().requires_grad_(True), rather than torch.tensor(sourceTensor).\n",
      "  ex = torch.tensor(self.dataset.data[self.queried_hist_[-1]][0]).to(self.device)\n",
      "C:\\Users\\Wan Jing\\Documents\\libact-torch\\libact\\query_strategies\\representative_sampling.py:113: UserWarning: To copy construct from a tensor, it is recommended to use sourceTensor.clone().detach() or sourceTensor.clone().detach().requires_grad_(True), rather than torch.tensor(sourceTensor).\n",
      "  ex = torch.tensor(self.dataset.data[self.queried_hist_[-1]][0]).to(self.device)\n"
     ]
    },
    {
     "name": "stdout",
     "output_type": "stream",
     "text": [
      "    strategy  labeled_acc  testing_acc\n",
      "126        4     0.560544      0.40293\n",
      "Tue Aug 25 06:12:12 2020 ContextualBanditsActiveLearning query round: 128\n",
      "Strategy Chosen: RandomSampling\n"
     ]
    },
    {
     "name": "stderr",
     "output_type": "stream",
     "text": [
      "C:\\Users\\Wan Jing\\Documents\\libact-torch\\libact\\query_strategies\\random_sampling.py:86: UserWarning: To copy construct from a tensor, it is recommended to use sourceTensor.clone().detach() or sourceTensor.clone().detach().requires_grad_(True), rather than torch.tensor(sourceTensor).\n",
      "  ex = torch.tensor(self.dataset.data[self.queried_hist_[-1]][0]).to(self.device)\n",
      "C:\\Users\\Wan Jing\\Documents\\libact-torch\\libact\\query_strategies\\contextual_bandits_active_learning.py:180: UserWarning: To copy construct from a tensor, it is recommended to use sourceTensor.clone().detach() or sourceTensor.clone().detach().requires_grad_(True), rather than torch.tensor(sourceTensor).\n",
      "  ex = torch.tensor(self.dataset.data[self.queried_hist_[-1]][0]).to(self.device)\n",
      "C:\\Users\\Wan Jing\\Documents\\libact-torch\\libact\\query_strategies\\uncertainty_sampling.py:149: UserWarning: To copy construct from a tensor, it is recommended to use sourceTensor.clone().detach() or sourceTensor.clone().detach().requires_grad_(True), rather than torch.tensor(sourceTensor).\n",
      "  ex = torch.tensor(self.dataset.data[self.queried_hist_[-1]][0]).to(self.device)\n",
      "C:\\Users\\Wan Jing\\Documents\\libact-torch\\libact\\query_strategies\\representative_sampling.py:113: UserWarning: To copy construct from a tensor, it is recommended to use sourceTensor.clone().detach() or sourceTensor.clone().detach().requires_grad_(True), rather than torch.tensor(sourceTensor).\n",
      "  ex = torch.tensor(self.dataset.data[self.queried_hist_[-1]][0]).to(self.device)\n"
     ]
    },
    {
     "name": "stdout",
     "output_type": "stream",
     "text": [
      "    strategy  labeled_acc  testing_acc\n",
      "127        0     0.568784     0.412698\n",
      "Tue Aug 25 06:12:25 2020 ContextualBanditsActiveLearning query round: 129\n",
      "Strategy Chosen: UncertaintySampling\n"
     ]
    },
    {
     "name": "stderr",
     "output_type": "stream",
     "text": [
      "C:\\Users\\Wan Jing\\Documents\\libact-torch\\libact\\query_strategies\\random_sampling.py:86: UserWarning: To copy construct from a tensor, it is recommended to use sourceTensor.clone().detach() or sourceTensor.clone().detach().requires_grad_(True), rather than torch.tensor(sourceTensor).\n",
      "  ex = torch.tensor(self.dataset.data[self.queried_hist_[-1]][0]).to(self.device)\n",
      "C:\\Users\\Wan Jing\\Documents\\libact-torch\\libact\\query_strategies\\contextual_bandits_active_learning.py:180: UserWarning: To copy construct from a tensor, it is recommended to use sourceTensor.clone().detach() or sourceTensor.clone().detach().requires_grad_(True), rather than torch.tensor(sourceTensor).\n",
      "  ex = torch.tensor(self.dataset.data[self.queried_hist_[-1]][0]).to(self.device)\n",
      "C:\\Users\\Wan Jing\\Documents\\libact-torch\\libact\\query_strategies\\uncertainty_sampling.py:149: UserWarning: To copy construct from a tensor, it is recommended to use sourceTensor.clone().detach() or sourceTensor.clone().detach().requires_grad_(True), rather than torch.tensor(sourceTensor).\n",
      "  ex = torch.tensor(self.dataset.data[self.queried_hist_[-1]][0]).to(self.device)\n",
      "C:\\Users\\Wan Jing\\Documents\\libact-torch\\libact\\query_strategies\\representative_sampling.py:113: UserWarning: To copy construct from a tensor, it is recommended to use sourceTensor.clone().detach() or sourceTensor.clone().detach().requires_grad_(True), rather than torch.tensor(sourceTensor).\n",
      "  ex = torch.tensor(self.dataset.data[self.queried_hist_[-1]][0]).to(self.device)\n"
     ]
    },
    {
     "name": "stdout",
     "output_type": "stream",
     "text": [
      "    strategy  labeled_acc  testing_acc\n",
      "128        2     0.569933     0.405983\n",
      "Tue Aug 25 06:12:40 2020 ContextualBanditsActiveLearning query round: 130\n",
      "Strategy Chosen: RepresentativeSampling\n"
     ]
    },
    {
     "name": "stderr",
     "output_type": "stream",
     "text": [
      "C:\\Users\\Wan Jing\\Documents\\libact-torch\\libact\\query_strategies\\representative_sampling.py:147: UserWarning: To copy construct from a tensor, it is recommended to use sourceTensor.clone().detach() or sourceTensor.clone().detach().requires_grad_(True), rather than torch.tensor(sourceTensor).\n",
      "  x = torch.tensor(x).to(self.device)\n",
      "C:\\Users\\Wan Jing\\Documents\\libact-torch\\libact\\query_strategies\\random_sampling.py:86: UserWarning: To copy construct from a tensor, it is recommended to use sourceTensor.clone().detach() or sourceTensor.clone().detach().requires_grad_(True), rather than torch.tensor(sourceTensor).\n",
      "  ex = torch.tensor(self.dataset.data[self.queried_hist_[-1]][0]).to(self.device)\n",
      "C:\\Users\\Wan Jing\\Documents\\libact-torch\\libact\\query_strategies\\contextual_bandits_active_learning.py:180: UserWarning: To copy construct from a tensor, it is recommended to use sourceTensor.clone().detach() or sourceTensor.clone().detach().requires_grad_(True), rather than torch.tensor(sourceTensor).\n",
      "  ex = torch.tensor(self.dataset.data[self.queried_hist_[-1]][0]).to(self.device)\n",
      "C:\\Users\\Wan Jing\\Documents\\libact-torch\\libact\\query_strategies\\uncertainty_sampling.py:149: UserWarning: To copy construct from a tensor, it is recommended to use sourceTensor.clone().detach() or sourceTensor.clone().detach().requires_grad_(True), rather than torch.tensor(sourceTensor).\n",
      "  ex = torch.tensor(self.dataset.data[self.queried_hist_[-1]][0]).to(self.device)\n",
      "C:\\Users\\Wan Jing\\Documents\\libact-torch\\libact\\query_strategies\\representative_sampling.py:113: UserWarning: To copy construct from a tensor, it is recommended to use sourceTensor.clone().detach() or sourceTensor.clone().detach().requires_grad_(True), rather than torch.tensor(sourceTensor).\n",
      "  ex = torch.tensor(self.dataset.data[self.queried_hist_[-1]][0]).to(self.device)\n"
     ]
    },
    {
     "name": "stdout",
     "output_type": "stream",
     "text": [
      "    strategy  labeled_acc  testing_acc\n",
      "129        4       0.5724     0.404762\n",
      "Tue Aug 25 06:12:56 2020 ContextualBanditsActiveLearning query round: 131\n",
      "Strategy Chosen: UncertaintySampling\n"
     ]
    },
    {
     "name": "stderr",
     "output_type": "stream",
     "text": [
      "C:\\Users\\Wan Jing\\Documents\\libact-torch\\libact\\query_strategies\\random_sampling.py:86: UserWarning: To copy construct from a tensor, it is recommended to use sourceTensor.clone().detach() or sourceTensor.clone().detach().requires_grad_(True), rather than torch.tensor(sourceTensor).\n",
      "  ex = torch.tensor(self.dataset.data[self.queried_hist_[-1]][0]).to(self.device)\n",
      "C:\\Users\\Wan Jing\\Documents\\libact-torch\\libact\\query_strategies\\contextual_bandits_active_learning.py:180: UserWarning: To copy construct from a tensor, it is recommended to use sourceTensor.clone().detach() or sourceTensor.clone().detach().requires_grad_(True), rather than torch.tensor(sourceTensor).\n",
      "  ex = torch.tensor(self.dataset.data[self.queried_hist_[-1]][0]).to(self.device)\n",
      "C:\\Users\\Wan Jing\\Documents\\libact-torch\\libact\\query_strategies\\uncertainty_sampling.py:149: UserWarning: To copy construct from a tensor, it is recommended to use sourceTensor.clone().detach() or sourceTensor.clone().detach().requires_grad_(True), rather than torch.tensor(sourceTensor).\n",
      "  ex = torch.tensor(self.dataset.data[self.queried_hist_[-1]][0]).to(self.device)\n",
      "C:\\Users\\Wan Jing\\Documents\\libact-torch\\libact\\query_strategies\\representative_sampling.py:113: UserWarning: To copy construct from a tensor, it is recommended to use sourceTensor.clone().detach() or sourceTensor.clone().detach().requires_grad_(True), rather than torch.tensor(sourceTensor).\n",
      "  ex = torch.tensor(self.dataset.data[self.queried_hist_[-1]][0]).to(self.device)\n"
     ]
    },
    {
     "name": "stdout",
     "output_type": "stream",
     "text": [
      "    strategy  labeled_acc  testing_acc\n",
      "130        3     0.578411     0.405678\n",
      "Tue Aug 25 06:13:12 2020 ContextualBanditsActiveLearning query round: 132\n",
      "Strategy Chosen: UncertaintySampling\n"
     ]
    },
    {
     "name": "stderr",
     "output_type": "stream",
     "text": [
      "C:\\Users\\Wan Jing\\Documents\\libact-torch\\libact\\query_strategies\\random_sampling.py:86: UserWarning: To copy construct from a tensor, it is recommended to use sourceTensor.clone().detach() or sourceTensor.clone().detach().requires_grad_(True), rather than torch.tensor(sourceTensor).\n",
      "  ex = torch.tensor(self.dataset.data[self.queried_hist_[-1]][0]).to(self.device)\n",
      "C:\\Users\\Wan Jing\\Documents\\libact-torch\\libact\\query_strategies\\contextual_bandits_active_learning.py:180: UserWarning: To copy construct from a tensor, it is recommended to use sourceTensor.clone().detach() or sourceTensor.clone().detach().requires_grad_(True), rather than torch.tensor(sourceTensor).\n",
      "  ex = torch.tensor(self.dataset.data[self.queried_hist_[-1]][0]).to(self.device)\n",
      "C:\\Users\\Wan Jing\\Documents\\libact-torch\\libact\\query_strategies\\uncertainty_sampling.py:149: UserWarning: To copy construct from a tensor, it is recommended to use sourceTensor.clone().detach() or sourceTensor.clone().detach().requires_grad_(True), rather than torch.tensor(sourceTensor).\n",
      "  ex = torch.tensor(self.dataset.data[self.queried_hist_[-1]][0]).to(self.device)\n",
      "C:\\Users\\Wan Jing\\Documents\\libact-torch\\libact\\query_strategies\\representative_sampling.py:113: UserWarning: To copy construct from a tensor, it is recommended to use sourceTensor.clone().detach() or sourceTensor.clone().detach().requires_grad_(True), rather than torch.tensor(sourceTensor).\n",
      "  ex = torch.tensor(self.dataset.data[self.queried_hist_[-1]][0]).to(self.device)\n"
     ]
    },
    {
     "name": "stdout",
     "output_type": "stream",
     "text": [
      "    strategy  labeled_acc  testing_acc\n",
      "131        2     0.578947     0.406593\n",
      "Tue Aug 25 06:13:27 2020 ContextualBanditsActiveLearning query round: 133\n",
      "Strategy Chosen: RepresentativeSampling\n"
     ]
    },
    {
     "name": "stderr",
     "output_type": "stream",
     "text": [
      "C:\\Users\\Wan Jing\\Documents\\libact-torch\\libact\\query_strategies\\representative_sampling.py:147: UserWarning: To copy construct from a tensor, it is recommended to use sourceTensor.clone().detach() or sourceTensor.clone().detach().requires_grad_(True), rather than torch.tensor(sourceTensor).\n",
      "  x = torch.tensor(x).to(self.device)\n",
      "C:\\Users\\Wan Jing\\Documents\\libact-torch\\libact\\query_strategies\\random_sampling.py:86: UserWarning: To copy construct from a tensor, it is recommended to use sourceTensor.clone().detach() or sourceTensor.clone().detach().requires_grad_(True), rather than torch.tensor(sourceTensor).\n",
      "  ex = torch.tensor(self.dataset.data[self.queried_hist_[-1]][0]).to(self.device)\n",
      "C:\\Users\\Wan Jing\\Documents\\libact-torch\\libact\\query_strategies\\contextual_bandits_active_learning.py:180: UserWarning: To copy construct from a tensor, it is recommended to use sourceTensor.clone().detach() or sourceTensor.clone().detach().requires_grad_(True), rather than torch.tensor(sourceTensor).\n",
      "  ex = torch.tensor(self.dataset.data[self.queried_hist_[-1]][0]).to(self.device)\n",
      "C:\\Users\\Wan Jing\\Documents\\libact-torch\\libact\\query_strategies\\uncertainty_sampling.py:149: UserWarning: To copy construct from a tensor, it is recommended to use sourceTensor.clone().detach() or sourceTensor.clone().detach().requires_grad_(True), rather than torch.tensor(sourceTensor).\n",
      "  ex = torch.tensor(self.dataset.data[self.queried_hist_[-1]][0]).to(self.device)\n",
      "C:\\Users\\Wan Jing\\Documents\\libact-torch\\libact\\query_strategies\\representative_sampling.py:113: UserWarning: To copy construct from a tensor, it is recommended to use sourceTensor.clone().detach() or sourceTensor.clone().detach().requires_grad_(True), rather than torch.tensor(sourceTensor).\n",
      "  ex = torch.tensor(self.dataset.data[self.queried_hist_[-1]][0]).to(self.device)\n"
     ]
    },
    {
     "name": "stdout",
     "output_type": "stream",
     "text": [
      "    strategy  labeled_acc  testing_acc\n",
      "132        4     0.585882     0.410256\n",
      "Tue Aug 25 06:13:44 2020 ContextualBanditsActiveLearning query round: 134\n",
      "Strategy Chosen: RandomSampling\n"
     ]
    },
    {
     "name": "stderr",
     "output_type": "stream",
     "text": [
      "C:\\Users\\Wan Jing\\Documents\\libact-torch\\libact\\query_strategies\\random_sampling.py:86: UserWarning: To copy construct from a tensor, it is recommended to use sourceTensor.clone().detach() or sourceTensor.clone().detach().requires_grad_(True), rather than torch.tensor(sourceTensor).\n",
      "  ex = torch.tensor(self.dataset.data[self.queried_hist_[-1]][0]).to(self.device)\n",
      "C:\\Users\\Wan Jing\\Documents\\libact-torch\\libact\\query_strategies\\contextual_bandits_active_learning.py:180: UserWarning: To copy construct from a tensor, it is recommended to use sourceTensor.clone().detach() or sourceTensor.clone().detach().requires_grad_(True), rather than torch.tensor(sourceTensor).\n",
      "  ex = torch.tensor(self.dataset.data[self.queried_hist_[-1]][0]).to(self.device)\n",
      "C:\\Users\\Wan Jing\\Documents\\libact-torch\\libact\\query_strategies\\uncertainty_sampling.py:149: UserWarning: To copy construct from a tensor, it is recommended to use sourceTensor.clone().detach() or sourceTensor.clone().detach().requires_grad_(True), rather than torch.tensor(sourceTensor).\n",
      "  ex = torch.tensor(self.dataset.data[self.queried_hist_[-1]][0]).to(self.device)\n",
      "C:\\Users\\Wan Jing\\Documents\\libact-torch\\libact\\query_strategies\\representative_sampling.py:113: UserWarning: To copy construct from a tensor, it is recommended to use sourceTensor.clone().detach() or sourceTensor.clone().detach().requires_grad_(True), rather than torch.tensor(sourceTensor).\n",
      "  ex = torch.tensor(self.dataset.data[self.queried_hist_[-1]][0]).to(self.device)\n"
     ]
    },
    {
     "name": "stdout",
     "output_type": "stream",
     "text": [
      "    strategy  labeled_acc  testing_acc\n",
      "133        0     0.583636     0.411477\n",
      "Tue Aug 25 06:13:58 2020 ContextualBanditsActiveLearning query round: 135\n",
      "Strategy Chosen: UncertaintySampling\n"
     ]
    },
    {
     "name": "stderr",
     "output_type": "stream",
     "text": [
      "C:\\Users\\Wan Jing\\Documents\\libact-torch\\libact\\query_strategies\\random_sampling.py:86: UserWarning: To copy construct from a tensor, it is recommended to use sourceTensor.clone().detach() or sourceTensor.clone().detach().requires_grad_(True), rather than torch.tensor(sourceTensor).\n",
      "  ex = torch.tensor(self.dataset.data[self.queried_hist_[-1]][0]).to(self.device)\n",
      "C:\\Users\\Wan Jing\\Documents\\libact-torch\\libact\\query_strategies\\contextual_bandits_active_learning.py:180: UserWarning: To copy construct from a tensor, it is recommended to use sourceTensor.clone().detach() or sourceTensor.clone().detach().requires_grad_(True), rather than torch.tensor(sourceTensor).\n",
      "  ex = torch.tensor(self.dataset.data[self.queried_hist_[-1]][0]).to(self.device)\n",
      "C:\\Users\\Wan Jing\\Documents\\libact-torch\\libact\\query_strategies\\uncertainty_sampling.py:149: UserWarning: To copy construct from a tensor, it is recommended to use sourceTensor.clone().detach() or sourceTensor.clone().detach().requires_grad_(True), rather than torch.tensor(sourceTensor).\n",
      "  ex = torch.tensor(self.dataset.data[self.queried_hist_[-1]][0]).to(self.device)\n",
      "C:\\Users\\Wan Jing\\Documents\\libact-torch\\libact\\query_strategies\\representative_sampling.py:113: UserWarning: To copy construct from a tensor, it is recommended to use sourceTensor.clone().detach() or sourceTensor.clone().detach().requires_grad_(True), rather than torch.tensor(sourceTensor).\n",
      "  ex = torch.tensor(self.dataset.data[self.queried_hist_[-1]][0]).to(self.device)\n"
     ]
    },
    {
     "name": "stdout",
     "output_type": "stream",
     "text": [
      "    strategy  labeled_acc  testing_acc\n",
      "134        1     0.589548     0.407509\n",
      "Tue Aug 25 06:14:13 2020 ContextualBanditsActiveLearning query round: 136\n",
      "Strategy Chosen: UncertaintySampling\n"
     ]
    },
    {
     "name": "stderr",
     "output_type": "stream",
     "text": [
      "C:\\Users\\Wan Jing\\Documents\\libact-torch\\libact\\query_strategies\\random_sampling.py:86: UserWarning: To copy construct from a tensor, it is recommended to use sourceTensor.clone().detach() or sourceTensor.clone().detach().requires_grad_(True), rather than torch.tensor(sourceTensor).\n",
      "  ex = torch.tensor(self.dataset.data[self.queried_hist_[-1]][0]).to(self.device)\n",
      "C:\\Users\\Wan Jing\\Documents\\libact-torch\\libact\\query_strategies\\contextual_bandits_active_learning.py:180: UserWarning: To copy construct from a tensor, it is recommended to use sourceTensor.clone().detach() or sourceTensor.clone().detach().requires_grad_(True), rather than torch.tensor(sourceTensor).\n",
      "  ex = torch.tensor(self.dataset.data[self.queried_hist_[-1]][0]).to(self.device)\n",
      "C:\\Users\\Wan Jing\\Documents\\libact-torch\\libact\\query_strategies\\uncertainty_sampling.py:149: UserWarning: To copy construct from a tensor, it is recommended to use sourceTensor.clone().detach() or sourceTensor.clone().detach().requires_grad_(True), rather than torch.tensor(sourceTensor).\n",
      "  ex = torch.tensor(self.dataset.data[self.queried_hist_[-1]][0]).to(self.device)\n",
      "C:\\Users\\Wan Jing\\Documents\\libact-torch\\libact\\query_strategies\\representative_sampling.py:113: UserWarning: To copy construct from a tensor, it is recommended to use sourceTensor.clone().detach() or sourceTensor.clone().detach().requires_grad_(True), rather than torch.tensor(sourceTensor).\n",
      "  ex = torch.tensor(self.dataset.data[self.queried_hist_[-1]][0]).to(self.device)\n"
     ]
    },
    {
     "name": "stdout",
     "output_type": "stream",
     "text": [
      "    strategy  labeled_acc  testing_acc\n",
      "135        2     0.596154     0.412698\n",
      "Tue Aug 25 06:14:29 2020 ContextualBanditsActiveLearning query round: 137\n",
      "Strategy Chosen: RandomSampling\n"
     ]
    },
    {
     "name": "stderr",
     "output_type": "stream",
     "text": [
      "C:\\Users\\Wan Jing\\Documents\\libact-torch\\libact\\query_strategies\\random_sampling.py:86: UserWarning: To copy construct from a tensor, it is recommended to use sourceTensor.clone().detach() or sourceTensor.clone().detach().requires_grad_(True), rather than torch.tensor(sourceTensor).\n",
      "  ex = torch.tensor(self.dataset.data[self.queried_hist_[-1]][0]).to(self.device)\n",
      "C:\\Users\\Wan Jing\\Documents\\libact-torch\\libact\\query_strategies\\contextual_bandits_active_learning.py:180: UserWarning: To copy construct from a tensor, it is recommended to use sourceTensor.clone().detach() or sourceTensor.clone().detach().requires_grad_(True), rather than torch.tensor(sourceTensor).\n",
      "  ex = torch.tensor(self.dataset.data[self.queried_hist_[-1]][0]).to(self.device)\n",
      "C:\\Users\\Wan Jing\\Documents\\libact-torch\\libact\\query_strategies\\uncertainty_sampling.py:149: UserWarning: To copy construct from a tensor, it is recommended to use sourceTensor.clone().detach() or sourceTensor.clone().detach().requires_grad_(True), rather than torch.tensor(sourceTensor).\n",
      "  ex = torch.tensor(self.dataset.data[self.queried_hist_[-1]][0]).to(self.device)\n",
      "C:\\Users\\Wan Jing\\Documents\\libact-torch\\libact\\query_strategies\\representative_sampling.py:113: UserWarning: To copy construct from a tensor, it is recommended to use sourceTensor.clone().detach() or sourceTensor.clone().detach().requires_grad_(True), rather than torch.tensor(sourceTensor).\n",
      "  ex = torch.tensor(self.dataset.data[self.queried_hist_[-1]][0]).to(self.device)\n"
     ]
    },
    {
     "name": "stdout",
     "output_type": "stream",
     "text": [
      "    strategy  labeled_acc  testing_acc\n",
      "136        0     0.590318     0.406899\n",
      "Tue Aug 25 06:14:43 2020 ContextualBanditsActiveLearning query round: 138\n",
      "Strategy Chosen: RandomSampling\n"
     ]
    },
    {
     "name": "stderr",
     "output_type": "stream",
     "text": [
      "C:\\Users\\Wan Jing\\Documents\\libact-torch\\libact\\query_strategies\\random_sampling.py:86: UserWarning: To copy construct from a tensor, it is recommended to use sourceTensor.clone().detach() or sourceTensor.clone().detach().requires_grad_(True), rather than torch.tensor(sourceTensor).\n",
      "  ex = torch.tensor(self.dataset.data[self.queried_hist_[-1]][0]).to(self.device)\n",
      "C:\\Users\\Wan Jing\\Documents\\libact-torch\\libact\\query_strategies\\contextual_bandits_active_learning.py:180: UserWarning: To copy construct from a tensor, it is recommended to use sourceTensor.clone().detach() or sourceTensor.clone().detach().requires_grad_(True), rather than torch.tensor(sourceTensor).\n",
      "  ex = torch.tensor(self.dataset.data[self.queried_hist_[-1]][0]).to(self.device)\n",
      "C:\\Users\\Wan Jing\\Documents\\libact-torch\\libact\\query_strategies\\uncertainty_sampling.py:149: UserWarning: To copy construct from a tensor, it is recommended to use sourceTensor.clone().detach() or sourceTensor.clone().detach().requires_grad_(True), rather than torch.tensor(sourceTensor).\n",
      "  ex = torch.tensor(self.dataset.data[self.queried_hist_[-1]][0]).to(self.device)\n",
      "C:\\Users\\Wan Jing\\Documents\\libact-torch\\libact\\query_strategies\\representative_sampling.py:113: UserWarning: To copy construct from a tensor, it is recommended to use sourceTensor.clone().detach() or sourceTensor.clone().detach().requires_grad_(True), rather than torch.tensor(sourceTensor).\n",
      "  ex = torch.tensor(self.dataset.data[self.queried_hist_[-1]][0]).to(self.device)\n"
     ]
    },
    {
     "name": "stdout",
     "output_type": "stream",
     "text": [
      "    strategy  labeled_acc  testing_acc\n",
      "137        0      0.59962     0.409035\n",
      "Tue Aug 25 06:14:56 2020 ContextualBanditsActiveLearning query round: 139\n",
      "Strategy Chosen: RandomSampling\n"
     ]
    },
    {
     "name": "stderr",
     "output_type": "stream",
     "text": [
      "C:\\Users\\Wan Jing\\Documents\\libact-torch\\libact\\query_strategies\\random_sampling.py:86: UserWarning: To copy construct from a tensor, it is recommended to use sourceTensor.clone().detach() or sourceTensor.clone().detach().requires_grad_(True), rather than torch.tensor(sourceTensor).\n",
      "  ex = torch.tensor(self.dataset.data[self.queried_hist_[-1]][0]).to(self.device)\n",
      "C:\\Users\\Wan Jing\\Documents\\libact-torch\\libact\\query_strategies\\contextual_bandits_active_learning.py:180: UserWarning: To copy construct from a tensor, it is recommended to use sourceTensor.clone().detach() or sourceTensor.clone().detach().requires_grad_(True), rather than torch.tensor(sourceTensor).\n",
      "  ex = torch.tensor(self.dataset.data[self.queried_hist_[-1]][0]).to(self.device)\n",
      "C:\\Users\\Wan Jing\\Documents\\libact-torch\\libact\\query_strategies\\uncertainty_sampling.py:149: UserWarning: To copy construct from a tensor, it is recommended to use sourceTensor.clone().detach() or sourceTensor.clone().detach().requires_grad_(True), rather than torch.tensor(sourceTensor).\n",
      "  ex = torch.tensor(self.dataset.data[self.queried_hist_[-1]][0]).to(self.device)\n",
      "C:\\Users\\Wan Jing\\Documents\\libact-torch\\libact\\query_strategies\\representative_sampling.py:113: UserWarning: To copy construct from a tensor, it is recommended to use sourceTensor.clone().detach() or sourceTensor.clone().detach().requires_grad_(True), rather than torch.tensor(sourceTensor).\n",
      "  ex = torch.tensor(self.dataset.data[self.queried_hist_[-1]][0]).to(self.device)\n"
     ]
    },
    {
     "name": "stdout",
     "output_type": "stream",
     "text": [
      "    strategy  labeled_acc  testing_acc\n",
      "138        0      0.60327      0.41453\n",
      "Tue Aug 25 06:15:10 2020 ContextualBanditsActiveLearning query round: 140\n",
      "Strategy Chosen: UncertaintySampling\n"
     ]
    },
    {
     "name": "stderr",
     "output_type": "stream",
     "text": [
      "C:\\Users\\Wan Jing\\Documents\\libact-torch\\libact\\query_strategies\\random_sampling.py:86: UserWarning: To copy construct from a tensor, it is recommended to use sourceTensor.clone().detach() or sourceTensor.clone().detach().requires_grad_(True), rather than torch.tensor(sourceTensor).\n",
      "  ex = torch.tensor(self.dataset.data[self.queried_hist_[-1]][0]).to(self.device)\n",
      "C:\\Users\\Wan Jing\\Documents\\libact-torch\\libact\\query_strategies\\contextual_bandits_active_learning.py:180: UserWarning: To copy construct from a tensor, it is recommended to use sourceTensor.clone().detach() or sourceTensor.clone().detach().requires_grad_(True), rather than torch.tensor(sourceTensor).\n",
      "  ex = torch.tensor(self.dataset.data[self.queried_hist_[-1]][0]).to(self.device)\n",
      "C:\\Users\\Wan Jing\\Documents\\libact-torch\\libact\\query_strategies\\uncertainty_sampling.py:149: UserWarning: To copy construct from a tensor, it is recommended to use sourceTensor.clone().detach() or sourceTensor.clone().detach().requires_grad_(True), rather than torch.tensor(sourceTensor).\n",
      "  ex = torch.tensor(self.dataset.data[self.queried_hist_[-1]][0]).to(self.device)\n",
      "C:\\Users\\Wan Jing\\Documents\\libact-torch\\libact\\query_strategies\\representative_sampling.py:113: UserWarning: To copy construct from a tensor, it is recommended to use sourceTensor.clone().detach() or sourceTensor.clone().detach().requires_grad_(True), rather than torch.tensor(sourceTensor).\n",
      "  ex = torch.tensor(self.dataset.data[self.queried_hist_[-1]][0]).to(self.device)\n"
     ]
    },
    {
     "name": "stdout",
     "output_type": "stream",
     "text": [
      "    strategy  labeled_acc  testing_acc\n",
      "139        2        0.598     0.403236\n",
      "Tue Aug 25 06:15:26 2020 ContextualBanditsActiveLearning query round: 141\n",
      "Strategy Chosen: RepresentativeSampling\n"
     ]
    },
    {
     "name": "stderr",
     "output_type": "stream",
     "text": [
      "C:\\Users\\Wan Jing\\Documents\\libact-torch\\libact\\query_strategies\\representative_sampling.py:147: UserWarning: To copy construct from a tensor, it is recommended to use sourceTensor.clone().detach() or sourceTensor.clone().detach().requires_grad_(True), rather than torch.tensor(sourceTensor).\n",
      "  x = torch.tensor(x).to(self.device)\n",
      "C:\\Users\\Wan Jing\\Documents\\libact-torch\\libact\\query_strategies\\random_sampling.py:86: UserWarning: To copy construct from a tensor, it is recommended to use sourceTensor.clone().detach() or sourceTensor.clone().detach().requires_grad_(True), rather than torch.tensor(sourceTensor).\n",
      "  ex = torch.tensor(self.dataset.data[self.queried_hist_[-1]][0]).to(self.device)\n",
      "C:\\Users\\Wan Jing\\Documents\\libact-torch\\libact\\query_strategies\\contextual_bandits_active_learning.py:180: UserWarning: To copy construct from a tensor, it is recommended to use sourceTensor.clone().detach() or sourceTensor.clone().detach().requires_grad_(True), rather than torch.tensor(sourceTensor).\n",
      "  ex = torch.tensor(self.dataset.data[self.queried_hist_[-1]][0]).to(self.device)\n",
      "C:\\Users\\Wan Jing\\Documents\\libact-torch\\libact\\query_strategies\\uncertainty_sampling.py:149: UserWarning: To copy construct from a tensor, it is recommended to use sourceTensor.clone().detach() or sourceTensor.clone().detach().requires_grad_(True), rather than torch.tensor(sourceTensor).\n",
      "  ex = torch.tensor(self.dataset.data[self.queried_hist_[-1]][0]).to(self.device)\n",
      "C:\\Users\\Wan Jing\\Documents\\libact-torch\\libact\\query_strategies\\representative_sampling.py:113: UserWarning: To copy construct from a tensor, it is recommended to use sourceTensor.clone().detach() or sourceTensor.clone().detach().requires_grad_(True), rather than torch.tensor(sourceTensor).\n",
      "  ex = torch.tensor(self.dataset.data[self.queried_hist_[-1]][0]).to(self.device)\n"
     ]
    },
    {
     "name": "stdout",
     "output_type": "stream",
     "text": [
      "    strategy  labeled_acc  testing_acc\n",
      "140        4     0.608696     0.404457\n",
      "Tue Aug 25 06:15:43 2020 ContextualBanditsActiveLearning query round: 142\n",
      "Strategy Chosen: UncertaintySampling\n"
     ]
    },
    {
     "name": "stderr",
     "output_type": "stream",
     "text": [
      "C:\\Users\\Wan Jing\\Documents\\libact-torch\\libact\\query_strategies\\random_sampling.py:86: UserWarning: To copy construct from a tensor, it is recommended to use sourceTensor.clone().detach() or sourceTensor.clone().detach().requires_grad_(True), rather than torch.tensor(sourceTensor).\n",
      "  ex = torch.tensor(self.dataset.data[self.queried_hist_[-1]][0]).to(self.device)\n",
      "C:\\Users\\Wan Jing\\Documents\\libact-torch\\libact\\query_strategies\\contextual_bandits_active_learning.py:180: UserWarning: To copy construct from a tensor, it is recommended to use sourceTensor.clone().detach() or sourceTensor.clone().detach().requires_grad_(True), rather than torch.tensor(sourceTensor).\n",
      "  ex = torch.tensor(self.dataset.data[self.queried_hist_[-1]][0]).to(self.device)\n",
      "C:\\Users\\Wan Jing\\Documents\\libact-torch\\libact\\query_strategies\\uncertainty_sampling.py:149: UserWarning: To copy construct from a tensor, it is recommended to use sourceTensor.clone().detach() or sourceTensor.clone().detach().requires_grad_(True), rather than torch.tensor(sourceTensor).\n",
      "  ex = torch.tensor(self.dataset.data[self.queried_hist_[-1]][0]).to(self.device)\n",
      "C:\\Users\\Wan Jing\\Documents\\libact-torch\\libact\\query_strategies\\representative_sampling.py:113: UserWarning: To copy construct from a tensor, it is recommended to use sourceTensor.clone().detach() or sourceTensor.clone().detach().requires_grad_(True), rather than torch.tensor(sourceTensor).\n",
      "  ex = torch.tensor(self.dataset.data[self.queried_hist_[-1]][0]).to(self.device)\n"
     ]
    },
    {
     "name": "stdout",
     "output_type": "stream",
     "text": [
      "    strategy  labeled_acc  testing_acc\n",
      "141        1      0.60963     0.406288\n",
      "Tue Aug 25 06:15:59 2020 ContextualBanditsActiveLearning query round: 143\n",
      "Strategy Chosen: UncertaintySampling\n"
     ]
    },
    {
     "name": "stderr",
     "output_type": "stream",
     "text": [
      "C:\\Users\\Wan Jing\\Documents\\libact-torch\\libact\\query_strategies\\random_sampling.py:86: UserWarning: To copy construct from a tensor, it is recommended to use sourceTensor.clone().detach() or sourceTensor.clone().detach().requires_grad_(True), rather than torch.tensor(sourceTensor).\n",
      "  ex = torch.tensor(self.dataset.data[self.queried_hist_[-1]][0]).to(self.device)\n",
      "C:\\Users\\Wan Jing\\Documents\\libact-torch\\libact\\query_strategies\\contextual_bandits_active_learning.py:180: UserWarning: To copy construct from a tensor, it is recommended to use sourceTensor.clone().detach() or sourceTensor.clone().detach().requires_grad_(True), rather than torch.tensor(sourceTensor).\n",
      "  ex = torch.tensor(self.dataset.data[self.queried_hist_[-1]][0]).to(self.device)\n",
      "C:\\Users\\Wan Jing\\Documents\\libact-torch\\libact\\query_strategies\\uncertainty_sampling.py:149: UserWarning: To copy construct from a tensor, it is recommended to use sourceTensor.clone().detach() or sourceTensor.clone().detach().requires_grad_(True), rather than torch.tensor(sourceTensor).\n",
      "  ex = torch.tensor(self.dataset.data[self.queried_hist_[-1]][0]).to(self.device)\n",
      "C:\\Users\\Wan Jing\\Documents\\libact-torch\\libact\\query_strategies\\representative_sampling.py:113: UserWarning: To copy construct from a tensor, it is recommended to use sourceTensor.clone().detach() or sourceTensor.clone().detach().requires_grad_(True), rather than torch.tensor(sourceTensor).\n",
      "  ex = torch.tensor(self.dataset.data[self.queried_hist_[-1]][0]).to(self.device)\n"
     ]
    },
    {
     "name": "stdout",
     "output_type": "stream",
     "text": [
      "    strategy  labeled_acc  testing_acc\n",
      "142        1     0.617669     0.407204\n",
      "Tue Aug 25 06:16:15 2020 ContextualBanditsActiveLearning query round: 144\n",
      "Strategy Chosen: UncertaintySampling\n"
     ]
    },
    {
     "name": "stderr",
     "output_type": "stream",
     "text": [
      "C:\\Users\\Wan Jing\\Documents\\libact-torch\\libact\\query_strategies\\random_sampling.py:86: UserWarning: To copy construct from a tensor, it is recommended to use sourceTensor.clone().detach() or sourceTensor.clone().detach().requires_grad_(True), rather than torch.tensor(sourceTensor).\n",
      "  ex = torch.tensor(self.dataset.data[self.queried_hist_[-1]][0]).to(self.device)\n",
      "C:\\Users\\Wan Jing\\Documents\\libact-torch\\libact\\query_strategies\\contextual_bandits_active_learning.py:180: UserWarning: To copy construct from a tensor, it is recommended to use sourceTensor.clone().detach() or sourceTensor.clone().detach().requires_grad_(True), rather than torch.tensor(sourceTensor).\n",
      "  ex = torch.tensor(self.dataset.data[self.queried_hist_[-1]][0]).to(self.device)\n",
      "C:\\Users\\Wan Jing\\Documents\\libact-torch\\libact\\query_strategies\\uncertainty_sampling.py:149: UserWarning: To copy construct from a tensor, it is recommended to use sourceTensor.clone().detach() or sourceTensor.clone().detach().requires_grad_(True), rather than torch.tensor(sourceTensor).\n",
      "  ex = torch.tensor(self.dataset.data[self.queried_hist_[-1]][0]).to(self.device)\n",
      "C:\\Users\\Wan Jing\\Documents\\libact-torch\\libact\\query_strategies\\representative_sampling.py:113: UserWarning: To copy construct from a tensor, it is recommended to use sourceTensor.clone().detach() or sourceTensor.clone().detach().requires_grad_(True), rather than torch.tensor(sourceTensor).\n",
      "  ex = torch.tensor(self.dataset.data[self.queried_hist_[-1]][0]).to(self.device)\n"
     ]
    },
    {
     "name": "stdout",
     "output_type": "stream",
     "text": [
      "    strategy  labeled_acc  testing_acc\n",
      "143        1     0.617317     0.408425\n",
      "Tue Aug 25 06:16:31 2020 ContextualBanditsActiveLearning query round: 145\n",
      "Strategy Chosen: UncertaintySampling\n"
     ]
    },
    {
     "name": "stderr",
     "output_type": "stream",
     "text": [
      "C:\\Users\\Wan Jing\\Documents\\libact-torch\\libact\\query_strategies\\random_sampling.py:86: UserWarning: To copy construct from a tensor, it is recommended to use sourceTensor.clone().detach() or sourceTensor.clone().detach().requires_grad_(True), rather than torch.tensor(sourceTensor).\n",
      "  ex = torch.tensor(self.dataset.data[self.queried_hist_[-1]][0]).to(self.device)\n",
      "C:\\Users\\Wan Jing\\Documents\\libact-torch\\libact\\query_strategies\\contextual_bandits_active_learning.py:180: UserWarning: To copy construct from a tensor, it is recommended to use sourceTensor.clone().detach() or sourceTensor.clone().detach().requires_grad_(True), rather than torch.tensor(sourceTensor).\n",
      "  ex = torch.tensor(self.dataset.data[self.queried_hist_[-1]][0]).to(self.device)\n",
      "C:\\Users\\Wan Jing\\Documents\\libact-torch\\libact\\query_strategies\\uncertainty_sampling.py:149: UserWarning: To copy construct from a tensor, it is recommended to use sourceTensor.clone().detach() or sourceTensor.clone().detach().requires_grad_(True), rather than torch.tensor(sourceTensor).\n",
      "  ex = torch.tensor(self.dataset.data[self.queried_hist_[-1]][0]).to(self.device)\n",
      "C:\\Users\\Wan Jing\\Documents\\libact-torch\\libact\\query_strategies\\representative_sampling.py:113: UserWarning: To copy construct from a tensor, it is recommended to use sourceTensor.clone().detach() or sourceTensor.clone().detach().requires_grad_(True), rather than torch.tensor(sourceTensor).\n",
      "  ex = torch.tensor(self.dataset.data[self.queried_hist_[-1]][0]).to(self.device)\n"
     ]
    },
    {
     "name": "stdout",
     "output_type": "stream",
     "text": [
      "    strategy  labeled_acc  testing_acc\n",
      "144        2     0.627879     0.405983\n",
      "Tue Aug 25 06:16:47 2020 ContextualBanditsActiveLearning query round: 146\n",
      "Strategy Chosen: UncertaintySampling\n"
     ]
    },
    {
     "name": "stderr",
     "output_type": "stream",
     "text": [
      "C:\\Users\\Wan Jing\\Documents\\libact-torch\\libact\\query_strategies\\random_sampling.py:86: UserWarning: To copy construct from a tensor, it is recommended to use sourceTensor.clone().detach() or sourceTensor.clone().detach().requires_grad_(True), rather than torch.tensor(sourceTensor).\n",
      "  ex = torch.tensor(self.dataset.data[self.queried_hist_[-1]][0]).to(self.device)\n",
      "C:\\Users\\Wan Jing\\Documents\\libact-torch\\libact\\query_strategies\\contextual_bandits_active_learning.py:180: UserWarning: To copy construct from a tensor, it is recommended to use sourceTensor.clone().detach() or sourceTensor.clone().detach().requires_grad_(True), rather than torch.tensor(sourceTensor).\n",
      "  ex = torch.tensor(self.dataset.data[self.queried_hist_[-1]][0]).to(self.device)\n",
      "C:\\Users\\Wan Jing\\Documents\\libact-torch\\libact\\query_strategies\\uncertainty_sampling.py:149: UserWarning: To copy construct from a tensor, it is recommended to use sourceTensor.clone().detach() or sourceTensor.clone().detach().requires_grad_(True), rather than torch.tensor(sourceTensor).\n",
      "  ex = torch.tensor(self.dataset.data[self.queried_hist_[-1]][0]).to(self.device)\n",
      "C:\\Users\\Wan Jing\\Documents\\libact-torch\\libact\\query_strategies\\representative_sampling.py:113: UserWarning: To copy construct from a tensor, it is recommended to use sourceTensor.clone().detach() or sourceTensor.clone().detach().requires_grad_(True), rather than torch.tensor(sourceTensor).\n",
      "  ex = torch.tensor(self.dataset.data[self.queried_hist_[-1]][0]).to(self.device)\n"
     ]
    },
    {
     "name": "stdout",
     "output_type": "stream",
     "text": [
      "    strategy  labeled_acc  testing_acc\n",
      "145        2     0.625904     0.409341\n",
      "Tue Aug 25 06:17:03 2020 ContextualBanditsActiveLearning query round: 147\n",
      "Strategy Chosen: RepresentativeSampling\n"
     ]
    },
    {
     "name": "stderr",
     "output_type": "stream",
     "text": [
      "C:\\Users\\Wan Jing\\Documents\\libact-torch\\libact\\query_strategies\\representative_sampling.py:147: UserWarning: To copy construct from a tensor, it is recommended to use sourceTensor.clone().detach() or sourceTensor.clone().detach().requires_grad_(True), rather than torch.tensor(sourceTensor).\n",
      "  x = torch.tensor(x).to(self.device)\n",
      "C:\\Users\\Wan Jing\\Documents\\libact-torch\\libact\\query_strategies\\random_sampling.py:86: UserWarning: To copy construct from a tensor, it is recommended to use sourceTensor.clone().detach() or sourceTensor.clone().detach().requires_grad_(True), rather than torch.tensor(sourceTensor).\n",
      "  ex = torch.tensor(self.dataset.data[self.queried_hist_[-1]][0]).to(self.device)\n",
      "C:\\Users\\Wan Jing\\Documents\\libact-torch\\libact\\query_strategies\\contextual_bandits_active_learning.py:180: UserWarning: To copy construct from a tensor, it is recommended to use sourceTensor.clone().detach() or sourceTensor.clone().detach().requires_grad_(True), rather than torch.tensor(sourceTensor).\n",
      "  ex = torch.tensor(self.dataset.data[self.queried_hist_[-1]][0]).to(self.device)\n",
      "C:\\Users\\Wan Jing\\Documents\\libact-torch\\libact\\query_strategies\\uncertainty_sampling.py:149: UserWarning: To copy construct from a tensor, it is recommended to use sourceTensor.clone().detach() or sourceTensor.clone().detach().requires_grad_(True), rather than torch.tensor(sourceTensor).\n",
      "  ex = torch.tensor(self.dataset.data[self.queried_hist_[-1]][0]).to(self.device)\n",
      "C:\\Users\\Wan Jing\\Documents\\libact-torch\\libact\\query_strategies\\representative_sampling.py:113: UserWarning: To copy construct from a tensor, it is recommended to use sourceTensor.clone().detach() or sourceTensor.clone().detach().requires_grad_(True), rather than torch.tensor(sourceTensor).\n",
      "  ex = torch.tensor(self.dataset.data[self.queried_hist_[-1]][0]).to(self.device)\n"
     ]
    },
    {
     "name": "stdout",
     "output_type": "stream",
     "text": [
      "    strategy  labeled_acc  testing_acc\n",
      "146        4     0.613054     0.402625\n",
      "Tue Aug 25 06:17:20 2020 ContextualBanditsActiveLearning query round: 148\n",
      "Strategy Chosen: RandomSampling\n"
     ]
    },
    {
     "name": "stderr",
     "output_type": "stream",
     "text": [
      "C:\\Users\\Wan Jing\\Documents\\libact-torch\\libact\\query_strategies\\random_sampling.py:86: UserWarning: To copy construct from a tensor, it is recommended to use sourceTensor.clone().detach() or sourceTensor.clone().detach().requires_grad_(True), rather than torch.tensor(sourceTensor).\n",
      "  ex = torch.tensor(self.dataset.data[self.queried_hist_[-1]][0]).to(self.device)\n",
      "C:\\Users\\Wan Jing\\Documents\\libact-torch\\libact\\query_strategies\\contextual_bandits_active_learning.py:180: UserWarning: To copy construct from a tensor, it is recommended to use sourceTensor.clone().detach() or sourceTensor.clone().detach().requires_grad_(True), rather than torch.tensor(sourceTensor).\n",
      "  ex = torch.tensor(self.dataset.data[self.queried_hist_[-1]][0]).to(self.device)\n",
      "C:\\Users\\Wan Jing\\Documents\\libact-torch\\libact\\query_strategies\\uncertainty_sampling.py:149: UserWarning: To copy construct from a tensor, it is recommended to use sourceTensor.clone().detach() or sourceTensor.clone().detach().requires_grad_(True), rather than torch.tensor(sourceTensor).\n",
      "  ex = torch.tensor(self.dataset.data[self.queried_hist_[-1]][0]).to(self.device)\n",
      "C:\\Users\\Wan Jing\\Documents\\libact-torch\\libact\\query_strategies\\representative_sampling.py:113: UserWarning: To copy construct from a tensor, it is recommended to use sourceTensor.clone().detach() or sourceTensor.clone().detach().requires_grad_(True), rather than torch.tensor(sourceTensor).\n",
      "  ex = torch.tensor(self.dataset.data[self.queried_hist_[-1]][0]).to(self.device)\n",
      "C:\\Users\\Wan Jing\\.conda\\envs\\deepCB\\lib\\site-packages\\sklearn\\metrics\\_classification.py:1221: UndefinedMetricWarning: Precision is ill-defined and being set to 0.0 in labels with no predicted samples. Use `zero_division` parameter to control this behavior.\n",
      "  _warn_prf(average, modifier, msg_start, len(result))\n"
     ]
    },
    {
     "name": "stdout",
     "output_type": "stream",
     "text": [
      "    strategy  labeled_acc  testing_acc\n",
      "147        0     0.635476     0.416972\n",
      "Tue Aug 25 06:17:35 2020 ContextualBanditsActiveLearning query round: 149\n",
      "Strategy Chosen: RandomSampling\n"
     ]
    },
    {
     "name": "stderr",
     "output_type": "stream",
     "text": [
      "C:\\Users\\Wan Jing\\Documents\\libact-torch\\libact\\query_strategies\\random_sampling.py:86: UserWarning: To copy construct from a tensor, it is recommended to use sourceTensor.clone().detach() or sourceTensor.clone().detach().requires_grad_(True), rather than torch.tensor(sourceTensor).\n",
      "  ex = torch.tensor(self.dataset.data[self.queried_hist_[-1]][0]).to(self.device)\n",
      "C:\\Users\\Wan Jing\\Documents\\libact-torch\\libact\\query_strategies\\contextual_bandits_active_learning.py:180: UserWarning: To copy construct from a tensor, it is recommended to use sourceTensor.clone().detach() or sourceTensor.clone().detach().requires_grad_(True), rather than torch.tensor(sourceTensor).\n",
      "  ex = torch.tensor(self.dataset.data[self.queried_hist_[-1]][0]).to(self.device)\n",
      "C:\\Users\\Wan Jing\\Documents\\libact-torch\\libact\\query_strategies\\uncertainty_sampling.py:149: UserWarning: To copy construct from a tensor, it is recommended to use sourceTensor.clone().detach() or sourceTensor.clone().detach().requires_grad_(True), rather than torch.tensor(sourceTensor).\n",
      "  ex = torch.tensor(self.dataset.data[self.queried_hist_[-1]][0]).to(self.device)\n",
      "C:\\Users\\Wan Jing\\Documents\\libact-torch\\libact\\query_strategies\\representative_sampling.py:113: UserWarning: To copy construct from a tensor, it is recommended to use sourceTensor.clone().detach() or sourceTensor.clone().detach().requires_grad_(True), rather than torch.tensor(sourceTensor).\n",
      "  ex = torch.tensor(self.dataset.data[self.queried_hist_[-1]][0]).to(self.device)\n"
     ]
    },
    {
     "name": "stdout",
     "output_type": "stream",
     "text": [
      "    strategy  labeled_acc  testing_acc\n",
      "148        0     0.617633     0.410867\n",
      "Tue Aug 25 06:17:49 2020 ContextualBanditsActiveLearning query round: 150\n",
      "Strategy Chosen: UncertaintySampling\n"
     ]
    },
    {
     "name": "stderr",
     "output_type": "stream",
     "text": [
      "C:\\Users\\Wan Jing\\Documents\\libact-torch\\libact\\query_strategies\\random_sampling.py:86: UserWarning: To copy construct from a tensor, it is recommended to use sourceTensor.clone().detach() or sourceTensor.clone().detach().requires_grad_(True), rather than torch.tensor(sourceTensor).\n",
      "  ex = torch.tensor(self.dataset.data[self.queried_hist_[-1]][0]).to(self.device)\n",
      "C:\\Users\\Wan Jing\\Documents\\libact-torch\\libact\\query_strategies\\contextual_bandits_active_learning.py:180: UserWarning: To copy construct from a tensor, it is recommended to use sourceTensor.clone().detach() or sourceTensor.clone().detach().requires_grad_(True), rather than torch.tensor(sourceTensor).\n",
      "  ex = torch.tensor(self.dataset.data[self.queried_hist_[-1]][0]).to(self.device)\n",
      "C:\\Users\\Wan Jing\\Documents\\libact-torch\\libact\\query_strategies\\uncertainty_sampling.py:149: UserWarning: To copy construct from a tensor, it is recommended to use sourceTensor.clone().detach() or sourceTensor.clone().detach().requires_grad_(True), rather than torch.tensor(sourceTensor).\n",
      "  ex = torch.tensor(self.dataset.data[self.queried_hist_[-1]][0]).to(self.device)\n",
      "C:\\Users\\Wan Jing\\Documents\\libact-torch\\libact\\query_strategies\\representative_sampling.py:113: UserWarning: To copy construct from a tensor, it is recommended to use sourceTensor.clone().detach() or sourceTensor.clone().detach().requires_grad_(True), rather than torch.tensor(sourceTensor).\n",
      "  ex = torch.tensor(self.dataset.data[self.queried_hist_[-1]][0]).to(self.device)\n"
     ]
    },
    {
     "name": "stdout",
     "output_type": "stream",
     "text": [
      "    strategy  labeled_acc  testing_acc\n",
      "149        1        0.626     0.403236\n"
     ]
    }
   ],
   "source": [
    "test_size = 0.20\n",
    "\n",
    "n_labeled = 1000      # number of samples that are initially labeled\n",
    "\n",
    "dataname = 'Biome'\n",
    "\n",
    "fname = 'C:\\\\Users\\\\Wan Jing\\\\Documents\\\\CSML Dissertation\\\\Data Admin\\\\filteredBiome2.txt'\n",
    "ifile = open(fname, 'rb')\n",
    "Biome_X, Biome_y, Biome_dist = pickle.load(ifile)\n",
    "ifile.close()\n",
    "\n",
    "args_pool = {'MNIST':\n",
    "                {'n_epoch': 10, 'transform': transforms.Compose([transforms.ToTensor(), transforms.Normalize((0.1307,), (0.3081,))]),\n",
    "                'loader_tr_args':{'batch_size': 256, 'num_workers': 1},\n",
    "                'loader_te_args':{'batch_size': 1000, 'num_workers': 1},\n",
    "                'optimizer_args':{'lr': 0.01, 'momentum': 0.5},\n",
    "                'handler': Dataset, 'nclasses': 10},\n",
    "            'Biome':\n",
    "                {'n_epoch': 4, 'transform': transforms.Compose([transforms.ToTensor(), transforms.Normalize((0.5,0.5,0.5), (0.5,0.5,0.5))]),\n",
    "                'loader_tr_args':{'batch_size': 256, 'num_workers': 0},\n",
    "                'loader_te_args':{'batch_size': 1000, 'num_workers': 0},\n",
    "                'optimizer_args':{'lr': 0.05, 'momentum': 0.3},\n",
    "                'handler': DatasetBiome, 'nclasses': 5}\n",
    "            }\n",
    "\n",
    "args = args_pool[dataname]\n",
    "\n",
    "for r in range(1): # repeat the experiment 20 times\n",
    "    print(\"%dth experiment\" % (r+1))\n",
    "\n",
    "    results = []\n",
    "\n",
    "    trn_ds, tst_ds, y_train, fully_labeled_trn_ds = \\\n",
    "        split_train_test_Biome(Biome_X, Biome_y, test_size, n_labeled, args)\n",
    "    print(\"Size of Training Set:\", len(trn_ds), \"; Size of Testing Set:\", len(tst_ds))\n",
    "    lbr = IdealLabeler(fully_labeled_trn_ds)\n",
    "\n",
    "    # quota = len(y_train) - n_labeled    # number of samples to query\n",
    "    nquery = 50\n",
    "    quota = 150\n",
    "\n",
    "    if dataname == 'MNIST':\n",
    "        model_cbal = Net1().to(\"cuda\")\n",
    "    elif dataname == 'Biome':\n",
    "        model_cbal = NetBiome().to(\"cuda\")\n",
    "#     model_us = copy.deepcopy(model_us)\n",
    "#     model_rs = copy.deepcopy(model_us)\n",
    "#     model_reps = copy.deepcopy(model_us)\n",
    "#     model_albl = copy.deepcopy(model_us)\n",
    "#     model_cbal = copy.deepcopy(model_us)\n",
    "    \n",
    "#     trn_ds2 = copy.deepcopy(trn_ds)\n",
    "#     trn_ds3 = copy.deepcopy(trn_ds)\n",
    "#     trn_ds5 = copy.deepcopy(trn_ds)\n",
    "#     trn_ds6 = copy.deepcopy(trn_ds)\n",
    "\n",
    "    # Comparing UncertaintySampling strategy with RandomSampling.\n",
    "    # model is the base learner, e.g. LogisticRegression, SVM ... etc.\n",
    "#     qs = UncertaintySampling(trn_ds, args, T=quota, model=model_us, method='entropy')\n",
    "#     expr1 = expr(trn_ds, tst_ds, lbr, model_us, qs, nquery, args)\n",
    "#     E_out_1 = expr1.run(quota)\n",
    "\n",
    "#     qs2 = RandomSampling(trn_ds, args, T=quota, model=model_rs)\n",
    "#     expr2 = expr(trn_ds, tst_ds, lbr, model_rs, qs2, nquery, args)\n",
    "#     E_out_2 = expr2.run(quota)\n",
    "    \n",
    "#     qs3 = RepresentativeSampling(trn_ds, args, T=quota, model=model_reps)\n",
    "#     expr3 = expr(trn_ds, tst_ds, lbr, model_reps, qs3, nquery, args)\n",
    "#     E_out_3 = expr3.run(quota)\n",
    "\n",
    "#     qs5 = ActiveLearningByLearning(trn_ds, args,\n",
    "#                 query_strategies=[\n",
    "#                     RandomSampling(trn_ds, args, T=quota, model=model_albl),\n",
    "#                     UncertaintySampling(trn_ds, args, T=quota, model=model_albl, method='lc'),\n",
    "#                     UncertaintySampling(trn_ds, args, T=quota, model=model_albl, method='sm'),\n",
    "#                     UncertaintySampling(trn_ds, args, T=quota, model=model_albl, method='entropy'),\n",
    "#                     RepresentativeSampling(trn_ds, args, T=quota, model=model_albl)\n",
    "#                 ],\n",
    "#                 T=quota,\n",
    "#                 uniform_sampler=False,\n",
    "#                 model=model_albl\n",
    "#             )\n",
    "#     expr5 = expr(trn_ds, tst_ds, lbr, model_albl, qs5, nquery, args)\n",
    "#     E_out_5 = expr5.run(quota)\n",
    "\n",
    "    num_actions = 5\n",
    "    context_dim = 14\n",
    "#     hparams_linear = tf.contrib.training.HParams(num_actions=num_actions,\n",
    "#                                                    context_dim=context_dim,\n",
    "#                                                    a0=6,\n",
    "#                                                    b0=6,\n",
    "#                                                    lambda_prior=0.25,\n",
    "#                                                    initial_pulls=num_actions)\n",
    "    algo = algoBiome\n",
    "    qs6 = ContextualBanditsActiveLearning(trn_ds, args,\n",
    "                query_strategies=[\n",
    "                    RandomSampling(trn_ds, args, T=quota, model=model_cbal),\n",
    "                    UncertaintySampling(trn_ds, args, T=quota, model=model_cbal, method='lc'),\n",
    "                    UncertaintySampling(trn_ds, args, T=quota, model=model_cbal, method='sm'),\n",
    "                    UncertaintySampling(trn_ds, args, T=quota, model=model_cbal, method='entropy'),\n",
    "                    RepresentativeSampling(trn_ds, args, T=quota, model=model_cbal)\n",
    "                ],\n",
    "                T=quota,\n",
    "                uniform_sampler=False,\n",
    "                model=model_cbal,\n",
    "                cb_strategy=algo\n",
    "            )\n",
    "    expr6 = exprCB(trn_ds, tst_ds, lbr, model_cbal, qs6, nquery, args)\n",
    "    E_out_6 = expr6.run(quota)\n",
    "    \n",
    "# print(results)"
   ]
  },
  {
   "cell_type": "code",
   "execution_count": 5,
   "metadata": {},
   "outputs": [
    {
     "name": "stdout",
     "output_type": "stream",
     "text": [
      "0.416971916971917\n"
     ]
    },
    {
     "data": {
      "image/png": "[encoded data removed]",
      "text/plain": [
       "<Figure size 432x288 with 1 Axes>"
      ]
     },
     "metadata": {
      "needs_background": "light"
     },
     "output_type": "display_data"
    }
   ],
   "source": [
    "import matplotlib.pyplot as plt\n",
    "\n",
    "print(expr6._besttestacc)\n",
    "\n",
    "query_num = range(1,150+1)\n",
    "plt.plot(query_num, E_out_6['labeled_acc'], 'g', label='labeled')\n",
    "plt.plot(query_num, E_out_6['testing_acc'], 'b', label='testing')\n",
    "\n",
    "plt.xlabel('Number of Queries')\n",
    "plt.ylabel('Error')\n",
    "plt.title('Experiment Result; LC; epoch4')\n",
    "plt.legend(loc='upper center', bbox_to_anchor=(0.5, -0.05),\n",
    "            fancybox=True, shadow=True, ncol=5)\n",
    "plt.show()"
   ]
  },
  {
   "cell_type": "code",
   "execution_count": 68,
   "metadata": {},
   "outputs": [
    {
     "name": "stdout",
     "output_type": "stream",
     "text": [
      "0.41422466422466425\n"
     ]
    },
    {
     "data": {
      "image/png": "[encoded data removed]",
      "text/plain": [
       "<Figure size 432x288 with 1 Axes>"
      ]
     },
     "metadata": {
      "needs_background": "light"
     },
     "output_type": "display_data"
    }
   ],
   "source": [
    "import matplotlib.pyplot as plt\n",
    "\n",
    "print(expr6._besttestacc)\n",
    "\n",
    "query_num = range(1,150+1)\n",
    "plt.plot(query_num, E_out_6['labeled_acc'], 'g', label='labeled')\n",
    "plt.plot(query_num, E_out_6['testing_acc'], 'b', label='testing')\n",
    "\n",
    "plt.xlabel('Number of Queries')\n",
    "plt.ylabel('Error')\n",
    "plt.title('Experiment Result; LC; epoch4')\n",
    "plt.legend(loc='upper center', bbox_to_anchor=(0.5, -0.05),\n",
    "            fancybox=True, shadow=True, ncol=5)\n",
    "plt.show()"
   ]
  },
  {
   "cell_type": "code",
   "execution_count": 6,
   "metadata": {},
   "outputs": [],
   "source": [
    "fname = 'cbalTBiome3.txt'\n",
    "ofile = open(fname, 'wb')\n",
    "pickle.dump([E_out_6, 'epoch=4; quota=150'], ofile)\n",
    "ofile.close()"
   ]
  }
 ],
 "metadata": {
  "kernelspec": {
   "display_name": "deepCB",
   "language": "python",
   "name": "deepcb"
  },
  "language_info": {
   "codemirror_mode": {
    "name": "ipython",
    "version": 3
   },
   "file_extension": ".py",
   "mimetype": "text/x-python",
   "name": "python",
   "nbconvert_exporter": "python",
   "pygments_lexer": "ipython3",
   "version": "3.6.10"
  }
 },
 "nbformat": 4,
 "nbformat_minor": 4
}
